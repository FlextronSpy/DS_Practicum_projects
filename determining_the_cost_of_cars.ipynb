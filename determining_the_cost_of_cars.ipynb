{
 "cells": [
  {
   "cell_type": "markdown",
   "metadata": {},
   "source": [
    "# Определение стоимости автомобилей"
   ]
  },
  {
   "cell_type": "markdown",
   "metadata": {},
   "source": [
    "Описание проекта:\n",
    "\n",
    "Сервис по продаже автомобилей с пробегом «Не бит, не крашен» разрабатывает приложение для привлечения новых клиентов. В нём можно быстро узнать рыночную стоимость своего автомобиля. В вашем распоряжении исторические данные: технические характеристики, комплектации и цены автомобилей. Вам нужно построить модель для определения стоимости. \n",
    "\n",
    "Заказчику важны:\n",
    "\n",
    "- качество предсказания;\n",
    "- скорость предсказания;\n",
    "- время обучения.\n",
    "\n",
    "Наша цель:\n",
    "\n",
    "    построить модель для определения рыночной стоимости автомобиля. \n",
    "\n",
    "Исследование включает в себя следующие этапы:\n",
    "\n",
    "    Подготовка данных на представленном датасете;\n",
    "    Обучение моделей;\n",
    "    Анализ моделей в поиске лучшего по требованию заказчика;\n"
   ]
  },
  {
   "cell_type": "markdown",
   "metadata": {},
   "source": [
    "__Загрузка библиотек__"
   ]
  },
  {
   "cell_type": "code",
   "execution_count": 1,
   "metadata": {},
   "outputs": [],
   "source": [
    "import pandas as pd\n",
    "import numpy as np\n",
    "import time\n",
    "import seaborn as sns\n",
    "import lightgbm as lgb\n",
    "from matplotlib import pyplot as plt\n",
    "from sklearn.linear_model import LinearRegression\n",
    "from sklearn.model_selection import train_test_split, GridSearchCV\n",
    "from sklearn.preprocessing import StandardScaler, OrdinalEncoder, OneHotEncoder\n",
    "from sklearn.metrics import mean_squared_error\n",
    "from catboost import CatBoostRegressor, Pool"
   ]
  },
  {
   "cell_type": "markdown",
   "metadata": {},
   "source": [
    "__Функции, которые будут использоваться в проекте__"
   ]
  },
  {
   "cell_type": "code",
   "execution_count": 2,
   "metadata": {},
   "outputs": [],
   "source": [
    "def num_func(df):\n",
    "    numeric_cols = df.select_dtypes(include='number').columns\n",
    "\n",
    "    num_plots = len(numeric_cols)\n",
    "    plt.figure(figsize=(10, 5 * num_plots))\n",
    "    \n",
    "    for i, col in enumerate(numeric_cols):\n",
    "        plt.subplot(num_plots, 2, 2*i + 1)\n",
    "        df[col].hist(bins=15)\n",
    "        plt.title(f'Гистограмма для {col}')\n",
    "        plt.xlabel(col)\n",
    "        plt.ylabel('Frequency')\n",
    "        plt.subplot(num_plots, 2, 2*i + 2)\n",
    "        df.boxplot(column=col)\n",
    "        plt.title(f'Диаграмма размаха {col}')\n",
    "        \n",
    "    plt.tight_layout()\n",
    "    plt.show()"
   ]
  },
  {
   "cell_type": "code",
   "execution_count": 3,
   "metadata": {},
   "outputs": [],
   "source": [
    "def data_exploration_func(df):\n",
    "    print('=========================')\n",
    "    print('Датасет', df.name)\n",
    "    display(df.head(10))\n",
    "    df.info()\n",
    "    display(df.describe(include='all')) "
   ]
  },
  {
   "cell_type": "markdown",
   "metadata": {},
   "source": [
    "__Константа__"
   ]
  },
  {
   "cell_type": "code",
   "execution_count": 4,
   "metadata": {},
   "outputs": [],
   "source": [
    "RANDOM_STATE=42"
   ]
  },
  {
   "cell_type": "markdown",
   "metadata": {},
   "source": [
    "## Подготовка данных"
   ]
  },
  {
   "cell_type": "code",
   "execution_count": 5,
   "metadata": {},
   "outputs": [],
   "source": [
    "data = pd.read_csv(\"/datasets/autos.csv\")"
   ]
  },
  {
   "cell_type": "code",
   "execution_count": 6,
   "metadata": {},
   "outputs": [],
   "source": [
    "data.name = \"autos\""
   ]
  },
  {
   "cell_type": "code",
   "execution_count": 7,
   "metadata": {
    "scrolled": true
   },
   "outputs": [
    {
     "name": "stdout",
     "output_type": "stream",
     "text": [
      "=========================\n",
      "Датасет autos\n"
     ]
    },
    {
     "data": {
      "text/html": [
       "<div>\n",
       "<style scoped>\n",
       "    .dataframe tbody tr th:only-of-type {\n",
       "        vertical-align: middle;\n",
       "    }\n",
       "\n",
       "    .dataframe tbody tr th {\n",
       "        vertical-align: top;\n",
       "    }\n",
       "\n",
       "    .dataframe thead th {\n",
       "        text-align: right;\n",
       "    }\n",
       "</style>\n",
       "<table border=\"1\" class=\"dataframe\">\n",
       "  <thead>\n",
       "    <tr style=\"text-align: right;\">\n",
       "      <th></th>\n",
       "      <th>DateCrawled</th>\n",
       "      <th>Price</th>\n",
       "      <th>VehicleType</th>\n",
       "      <th>RegistrationYear</th>\n",
       "      <th>Gearbox</th>\n",
       "      <th>Power</th>\n",
       "      <th>Model</th>\n",
       "      <th>Kilometer</th>\n",
       "      <th>RegistrationMonth</th>\n",
       "      <th>FuelType</th>\n",
       "      <th>Brand</th>\n",
       "      <th>Repaired</th>\n",
       "      <th>DateCreated</th>\n",
       "      <th>NumberOfPictures</th>\n",
       "      <th>PostalCode</th>\n",
       "      <th>LastSeen</th>\n",
       "    </tr>\n",
       "  </thead>\n",
       "  <tbody>\n",
       "    <tr>\n",
       "      <th>0</th>\n",
       "      <td>2016-03-24 11:52:17</td>\n",
       "      <td>480</td>\n",
       "      <td>NaN</td>\n",
       "      <td>1993</td>\n",
       "      <td>manual</td>\n",
       "      <td>0</td>\n",
       "      <td>golf</td>\n",
       "      <td>150000</td>\n",
       "      <td>0</td>\n",
       "      <td>petrol</td>\n",
       "      <td>volkswagen</td>\n",
       "      <td>NaN</td>\n",
       "      <td>2016-03-24 00:00:00</td>\n",
       "      <td>0</td>\n",
       "      <td>70435</td>\n",
       "      <td>2016-04-07 03:16:57</td>\n",
       "    </tr>\n",
       "    <tr>\n",
       "      <th>1</th>\n",
       "      <td>2016-03-24 10:58:45</td>\n",
       "      <td>18300</td>\n",
       "      <td>coupe</td>\n",
       "      <td>2011</td>\n",
       "      <td>manual</td>\n",
       "      <td>190</td>\n",
       "      <td>NaN</td>\n",
       "      <td>125000</td>\n",
       "      <td>5</td>\n",
       "      <td>gasoline</td>\n",
       "      <td>audi</td>\n",
       "      <td>yes</td>\n",
       "      <td>2016-03-24 00:00:00</td>\n",
       "      <td>0</td>\n",
       "      <td>66954</td>\n",
       "      <td>2016-04-07 01:46:50</td>\n",
       "    </tr>\n",
       "    <tr>\n",
       "      <th>2</th>\n",
       "      <td>2016-03-14 12:52:21</td>\n",
       "      <td>9800</td>\n",
       "      <td>suv</td>\n",
       "      <td>2004</td>\n",
       "      <td>auto</td>\n",
       "      <td>163</td>\n",
       "      <td>grand</td>\n",
       "      <td>125000</td>\n",
       "      <td>8</td>\n",
       "      <td>gasoline</td>\n",
       "      <td>jeep</td>\n",
       "      <td>NaN</td>\n",
       "      <td>2016-03-14 00:00:00</td>\n",
       "      <td>0</td>\n",
       "      <td>90480</td>\n",
       "      <td>2016-04-05 12:47:46</td>\n",
       "    </tr>\n",
       "    <tr>\n",
       "      <th>3</th>\n",
       "      <td>2016-03-17 16:54:04</td>\n",
       "      <td>1500</td>\n",
       "      <td>small</td>\n",
       "      <td>2001</td>\n",
       "      <td>manual</td>\n",
       "      <td>75</td>\n",
       "      <td>golf</td>\n",
       "      <td>150000</td>\n",
       "      <td>6</td>\n",
       "      <td>petrol</td>\n",
       "      <td>volkswagen</td>\n",
       "      <td>no</td>\n",
       "      <td>2016-03-17 00:00:00</td>\n",
       "      <td>0</td>\n",
       "      <td>91074</td>\n",
       "      <td>2016-03-17 17:40:17</td>\n",
       "    </tr>\n",
       "    <tr>\n",
       "      <th>4</th>\n",
       "      <td>2016-03-31 17:25:20</td>\n",
       "      <td>3600</td>\n",
       "      <td>small</td>\n",
       "      <td>2008</td>\n",
       "      <td>manual</td>\n",
       "      <td>69</td>\n",
       "      <td>fabia</td>\n",
       "      <td>90000</td>\n",
       "      <td>7</td>\n",
       "      <td>gasoline</td>\n",
       "      <td>skoda</td>\n",
       "      <td>no</td>\n",
       "      <td>2016-03-31 00:00:00</td>\n",
       "      <td>0</td>\n",
       "      <td>60437</td>\n",
       "      <td>2016-04-06 10:17:21</td>\n",
       "    </tr>\n",
       "    <tr>\n",
       "      <th>5</th>\n",
       "      <td>2016-04-04 17:36:23</td>\n",
       "      <td>650</td>\n",
       "      <td>sedan</td>\n",
       "      <td>1995</td>\n",
       "      <td>manual</td>\n",
       "      <td>102</td>\n",
       "      <td>3er</td>\n",
       "      <td>150000</td>\n",
       "      <td>10</td>\n",
       "      <td>petrol</td>\n",
       "      <td>bmw</td>\n",
       "      <td>yes</td>\n",
       "      <td>2016-04-04 00:00:00</td>\n",
       "      <td>0</td>\n",
       "      <td>33775</td>\n",
       "      <td>2016-04-06 19:17:07</td>\n",
       "    </tr>\n",
       "    <tr>\n",
       "      <th>6</th>\n",
       "      <td>2016-04-01 20:48:51</td>\n",
       "      <td>2200</td>\n",
       "      <td>convertible</td>\n",
       "      <td>2004</td>\n",
       "      <td>manual</td>\n",
       "      <td>109</td>\n",
       "      <td>2_reihe</td>\n",
       "      <td>150000</td>\n",
       "      <td>8</td>\n",
       "      <td>petrol</td>\n",
       "      <td>peugeot</td>\n",
       "      <td>no</td>\n",
       "      <td>2016-04-01 00:00:00</td>\n",
       "      <td>0</td>\n",
       "      <td>67112</td>\n",
       "      <td>2016-04-05 18:18:39</td>\n",
       "    </tr>\n",
       "    <tr>\n",
       "      <th>7</th>\n",
       "      <td>2016-03-21 18:54:38</td>\n",
       "      <td>0</td>\n",
       "      <td>sedan</td>\n",
       "      <td>1980</td>\n",
       "      <td>manual</td>\n",
       "      <td>50</td>\n",
       "      <td>other</td>\n",
       "      <td>40000</td>\n",
       "      <td>7</td>\n",
       "      <td>petrol</td>\n",
       "      <td>volkswagen</td>\n",
       "      <td>no</td>\n",
       "      <td>2016-03-21 00:00:00</td>\n",
       "      <td>0</td>\n",
       "      <td>19348</td>\n",
       "      <td>2016-03-25 16:47:58</td>\n",
       "    </tr>\n",
       "    <tr>\n",
       "      <th>8</th>\n",
       "      <td>2016-04-04 23:42:13</td>\n",
       "      <td>14500</td>\n",
       "      <td>bus</td>\n",
       "      <td>2014</td>\n",
       "      <td>manual</td>\n",
       "      <td>125</td>\n",
       "      <td>c_max</td>\n",
       "      <td>30000</td>\n",
       "      <td>8</td>\n",
       "      <td>petrol</td>\n",
       "      <td>ford</td>\n",
       "      <td>NaN</td>\n",
       "      <td>2016-04-04 00:00:00</td>\n",
       "      <td>0</td>\n",
       "      <td>94505</td>\n",
       "      <td>2016-04-04 23:42:13</td>\n",
       "    </tr>\n",
       "    <tr>\n",
       "      <th>9</th>\n",
       "      <td>2016-03-17 10:53:50</td>\n",
       "      <td>999</td>\n",
       "      <td>small</td>\n",
       "      <td>1998</td>\n",
       "      <td>manual</td>\n",
       "      <td>101</td>\n",
       "      <td>golf</td>\n",
       "      <td>150000</td>\n",
       "      <td>0</td>\n",
       "      <td>NaN</td>\n",
       "      <td>volkswagen</td>\n",
       "      <td>NaN</td>\n",
       "      <td>2016-03-17 00:00:00</td>\n",
       "      <td>0</td>\n",
       "      <td>27472</td>\n",
       "      <td>2016-03-31 17:17:06</td>\n",
       "    </tr>\n",
       "  </tbody>\n",
       "</table>\n",
       "</div>"
      ],
      "text/plain": [
       "           DateCrawled  Price  VehicleType  RegistrationYear Gearbox  Power  \\\n",
       "0  2016-03-24 11:52:17    480          NaN              1993  manual      0   \n",
       "1  2016-03-24 10:58:45  18300        coupe              2011  manual    190   \n",
       "2  2016-03-14 12:52:21   9800          suv              2004    auto    163   \n",
       "3  2016-03-17 16:54:04   1500        small              2001  manual     75   \n",
       "4  2016-03-31 17:25:20   3600        small              2008  manual     69   \n",
       "5  2016-04-04 17:36:23    650        sedan              1995  manual    102   \n",
       "6  2016-04-01 20:48:51   2200  convertible              2004  manual    109   \n",
       "7  2016-03-21 18:54:38      0        sedan              1980  manual     50   \n",
       "8  2016-04-04 23:42:13  14500          bus              2014  manual    125   \n",
       "9  2016-03-17 10:53:50    999        small              1998  manual    101   \n",
       "\n",
       "     Model  Kilometer  RegistrationMonth  FuelType       Brand Repaired  \\\n",
       "0     golf     150000                  0    petrol  volkswagen      NaN   \n",
       "1      NaN     125000                  5  gasoline        audi      yes   \n",
       "2    grand     125000                  8  gasoline        jeep      NaN   \n",
       "3     golf     150000                  6    petrol  volkswagen       no   \n",
       "4    fabia      90000                  7  gasoline       skoda       no   \n",
       "5      3er     150000                 10    petrol         bmw      yes   \n",
       "6  2_reihe     150000                  8    petrol     peugeot       no   \n",
       "7    other      40000                  7    petrol  volkswagen       no   \n",
       "8    c_max      30000                  8    petrol        ford      NaN   \n",
       "9     golf     150000                  0       NaN  volkswagen      NaN   \n",
       "\n",
       "           DateCreated  NumberOfPictures  PostalCode             LastSeen  \n",
       "0  2016-03-24 00:00:00                 0       70435  2016-04-07 03:16:57  \n",
       "1  2016-03-24 00:00:00                 0       66954  2016-04-07 01:46:50  \n",
       "2  2016-03-14 00:00:00                 0       90480  2016-04-05 12:47:46  \n",
       "3  2016-03-17 00:00:00                 0       91074  2016-03-17 17:40:17  \n",
       "4  2016-03-31 00:00:00                 0       60437  2016-04-06 10:17:21  \n",
       "5  2016-04-04 00:00:00                 0       33775  2016-04-06 19:17:07  \n",
       "6  2016-04-01 00:00:00                 0       67112  2016-04-05 18:18:39  \n",
       "7  2016-03-21 00:00:00                 0       19348  2016-03-25 16:47:58  \n",
       "8  2016-04-04 00:00:00                 0       94505  2016-04-04 23:42:13  \n",
       "9  2016-03-17 00:00:00                 0       27472  2016-03-31 17:17:06  "
      ]
     },
     "metadata": {},
     "output_type": "display_data"
    },
    {
     "name": "stdout",
     "output_type": "stream",
     "text": [
      "<class 'pandas.core.frame.DataFrame'>\n",
      "RangeIndex: 354369 entries, 0 to 354368\n",
      "Data columns (total 16 columns):\n",
      " #   Column             Non-Null Count   Dtype \n",
      "---  ------             --------------   ----- \n",
      " 0   DateCrawled        354369 non-null  object\n",
      " 1   Price              354369 non-null  int64 \n",
      " 2   VehicleType        316879 non-null  object\n",
      " 3   RegistrationYear   354369 non-null  int64 \n",
      " 4   Gearbox            334536 non-null  object\n",
      " 5   Power              354369 non-null  int64 \n",
      " 6   Model              334664 non-null  object\n",
      " 7   Kilometer          354369 non-null  int64 \n",
      " 8   RegistrationMonth  354369 non-null  int64 \n",
      " 9   FuelType           321474 non-null  object\n",
      " 10  Brand              354369 non-null  object\n",
      " 11  Repaired           283215 non-null  object\n",
      " 12  DateCreated        354369 non-null  object\n",
      " 13  NumberOfPictures   354369 non-null  int64 \n",
      " 14  PostalCode         354369 non-null  int64 \n",
      " 15  LastSeen           354369 non-null  object\n",
      "dtypes: int64(7), object(9)\n",
      "memory usage: 43.3+ MB\n"
     ]
    },
    {
     "data": {
      "text/html": [
       "<div>\n",
       "<style scoped>\n",
       "    .dataframe tbody tr th:only-of-type {\n",
       "        vertical-align: middle;\n",
       "    }\n",
       "\n",
       "    .dataframe tbody tr th {\n",
       "        vertical-align: top;\n",
       "    }\n",
       "\n",
       "    .dataframe thead th {\n",
       "        text-align: right;\n",
       "    }\n",
       "</style>\n",
       "<table border=\"1\" class=\"dataframe\">\n",
       "  <thead>\n",
       "    <tr style=\"text-align: right;\">\n",
       "      <th></th>\n",
       "      <th>DateCrawled</th>\n",
       "      <th>Price</th>\n",
       "      <th>VehicleType</th>\n",
       "      <th>RegistrationYear</th>\n",
       "      <th>Gearbox</th>\n",
       "      <th>Power</th>\n",
       "      <th>Model</th>\n",
       "      <th>Kilometer</th>\n",
       "      <th>RegistrationMonth</th>\n",
       "      <th>FuelType</th>\n",
       "      <th>Brand</th>\n",
       "      <th>Repaired</th>\n",
       "      <th>DateCreated</th>\n",
       "      <th>NumberOfPictures</th>\n",
       "      <th>PostalCode</th>\n",
       "      <th>LastSeen</th>\n",
       "    </tr>\n",
       "  </thead>\n",
       "  <tbody>\n",
       "    <tr>\n",
       "      <th>count</th>\n",
       "      <td>354369</td>\n",
       "      <td>354369.000000</td>\n",
       "      <td>316879</td>\n",
       "      <td>354369.000000</td>\n",
       "      <td>334536</td>\n",
       "      <td>354369.000000</td>\n",
       "      <td>334664</td>\n",
       "      <td>354369.000000</td>\n",
       "      <td>354369.000000</td>\n",
       "      <td>321474</td>\n",
       "      <td>354369</td>\n",
       "      <td>283215</td>\n",
       "      <td>354369</td>\n",
       "      <td>354369.0</td>\n",
       "      <td>354369.000000</td>\n",
       "      <td>354369</td>\n",
       "    </tr>\n",
       "    <tr>\n",
       "      <th>unique</th>\n",
       "      <td>271174</td>\n",
       "      <td>NaN</td>\n",
       "      <td>8</td>\n",
       "      <td>NaN</td>\n",
       "      <td>2</td>\n",
       "      <td>NaN</td>\n",
       "      <td>250</td>\n",
       "      <td>NaN</td>\n",
       "      <td>NaN</td>\n",
       "      <td>7</td>\n",
       "      <td>40</td>\n",
       "      <td>2</td>\n",
       "      <td>109</td>\n",
       "      <td>NaN</td>\n",
       "      <td>NaN</td>\n",
       "      <td>179150</td>\n",
       "    </tr>\n",
       "    <tr>\n",
       "      <th>top</th>\n",
       "      <td>2016-03-24 14:49:47</td>\n",
       "      <td>NaN</td>\n",
       "      <td>sedan</td>\n",
       "      <td>NaN</td>\n",
       "      <td>manual</td>\n",
       "      <td>NaN</td>\n",
       "      <td>golf</td>\n",
       "      <td>NaN</td>\n",
       "      <td>NaN</td>\n",
       "      <td>petrol</td>\n",
       "      <td>volkswagen</td>\n",
       "      <td>no</td>\n",
       "      <td>2016-04-03 00:00:00</td>\n",
       "      <td>NaN</td>\n",
       "      <td>NaN</td>\n",
       "      <td>2016-04-06 13:45:54</td>\n",
       "    </tr>\n",
       "    <tr>\n",
       "      <th>freq</th>\n",
       "      <td>7</td>\n",
       "      <td>NaN</td>\n",
       "      <td>91457</td>\n",
       "      <td>NaN</td>\n",
       "      <td>268251</td>\n",
       "      <td>NaN</td>\n",
       "      <td>29232</td>\n",
       "      <td>NaN</td>\n",
       "      <td>NaN</td>\n",
       "      <td>216352</td>\n",
       "      <td>77013</td>\n",
       "      <td>247161</td>\n",
       "      <td>13719</td>\n",
       "      <td>NaN</td>\n",
       "      <td>NaN</td>\n",
       "      <td>17</td>\n",
       "    </tr>\n",
       "    <tr>\n",
       "      <th>mean</th>\n",
       "      <td>NaN</td>\n",
       "      <td>4416.656776</td>\n",
       "      <td>NaN</td>\n",
       "      <td>2004.234448</td>\n",
       "      <td>NaN</td>\n",
       "      <td>110.094337</td>\n",
       "      <td>NaN</td>\n",
       "      <td>128211.172535</td>\n",
       "      <td>5.714645</td>\n",
       "      <td>NaN</td>\n",
       "      <td>NaN</td>\n",
       "      <td>NaN</td>\n",
       "      <td>NaN</td>\n",
       "      <td>0.0</td>\n",
       "      <td>50508.689087</td>\n",
       "      <td>NaN</td>\n",
       "    </tr>\n",
       "    <tr>\n",
       "      <th>std</th>\n",
       "      <td>NaN</td>\n",
       "      <td>4514.158514</td>\n",
       "      <td>NaN</td>\n",
       "      <td>90.227958</td>\n",
       "      <td>NaN</td>\n",
       "      <td>189.850405</td>\n",
       "      <td>NaN</td>\n",
       "      <td>37905.341530</td>\n",
       "      <td>3.726421</td>\n",
       "      <td>NaN</td>\n",
       "      <td>NaN</td>\n",
       "      <td>NaN</td>\n",
       "      <td>NaN</td>\n",
       "      <td>0.0</td>\n",
       "      <td>25783.096248</td>\n",
       "      <td>NaN</td>\n",
       "    </tr>\n",
       "    <tr>\n",
       "      <th>min</th>\n",
       "      <td>NaN</td>\n",
       "      <td>0.000000</td>\n",
       "      <td>NaN</td>\n",
       "      <td>1000.000000</td>\n",
       "      <td>NaN</td>\n",
       "      <td>0.000000</td>\n",
       "      <td>NaN</td>\n",
       "      <td>5000.000000</td>\n",
       "      <td>0.000000</td>\n",
       "      <td>NaN</td>\n",
       "      <td>NaN</td>\n",
       "      <td>NaN</td>\n",
       "      <td>NaN</td>\n",
       "      <td>0.0</td>\n",
       "      <td>1067.000000</td>\n",
       "      <td>NaN</td>\n",
       "    </tr>\n",
       "    <tr>\n",
       "      <th>25%</th>\n",
       "      <td>NaN</td>\n",
       "      <td>1050.000000</td>\n",
       "      <td>NaN</td>\n",
       "      <td>1999.000000</td>\n",
       "      <td>NaN</td>\n",
       "      <td>69.000000</td>\n",
       "      <td>NaN</td>\n",
       "      <td>125000.000000</td>\n",
       "      <td>3.000000</td>\n",
       "      <td>NaN</td>\n",
       "      <td>NaN</td>\n",
       "      <td>NaN</td>\n",
       "      <td>NaN</td>\n",
       "      <td>0.0</td>\n",
       "      <td>30165.000000</td>\n",
       "      <td>NaN</td>\n",
       "    </tr>\n",
       "    <tr>\n",
       "      <th>50%</th>\n",
       "      <td>NaN</td>\n",
       "      <td>2700.000000</td>\n",
       "      <td>NaN</td>\n",
       "      <td>2003.000000</td>\n",
       "      <td>NaN</td>\n",
       "      <td>105.000000</td>\n",
       "      <td>NaN</td>\n",
       "      <td>150000.000000</td>\n",
       "      <td>6.000000</td>\n",
       "      <td>NaN</td>\n",
       "      <td>NaN</td>\n",
       "      <td>NaN</td>\n",
       "      <td>NaN</td>\n",
       "      <td>0.0</td>\n",
       "      <td>49413.000000</td>\n",
       "      <td>NaN</td>\n",
       "    </tr>\n",
       "    <tr>\n",
       "      <th>75%</th>\n",
       "      <td>NaN</td>\n",
       "      <td>6400.000000</td>\n",
       "      <td>NaN</td>\n",
       "      <td>2008.000000</td>\n",
       "      <td>NaN</td>\n",
       "      <td>143.000000</td>\n",
       "      <td>NaN</td>\n",
       "      <td>150000.000000</td>\n",
       "      <td>9.000000</td>\n",
       "      <td>NaN</td>\n",
       "      <td>NaN</td>\n",
       "      <td>NaN</td>\n",
       "      <td>NaN</td>\n",
       "      <td>0.0</td>\n",
       "      <td>71083.000000</td>\n",
       "      <td>NaN</td>\n",
       "    </tr>\n",
       "    <tr>\n",
       "      <th>max</th>\n",
       "      <td>NaN</td>\n",
       "      <td>20000.000000</td>\n",
       "      <td>NaN</td>\n",
       "      <td>9999.000000</td>\n",
       "      <td>NaN</td>\n",
       "      <td>20000.000000</td>\n",
       "      <td>NaN</td>\n",
       "      <td>150000.000000</td>\n",
       "      <td>12.000000</td>\n",
       "      <td>NaN</td>\n",
       "      <td>NaN</td>\n",
       "      <td>NaN</td>\n",
       "      <td>NaN</td>\n",
       "      <td>0.0</td>\n",
       "      <td>99998.000000</td>\n",
       "      <td>NaN</td>\n",
       "    </tr>\n",
       "  </tbody>\n",
       "</table>\n",
       "</div>"
      ],
      "text/plain": [
       "                DateCrawled          Price VehicleType  RegistrationYear  \\\n",
       "count                354369  354369.000000      316879     354369.000000   \n",
       "unique               271174            NaN           8               NaN   \n",
       "top     2016-03-24 14:49:47            NaN       sedan               NaN   \n",
       "freq                      7            NaN       91457               NaN   \n",
       "mean                    NaN    4416.656776         NaN       2004.234448   \n",
       "std                     NaN    4514.158514         NaN         90.227958   \n",
       "min                     NaN       0.000000         NaN       1000.000000   \n",
       "25%                     NaN    1050.000000         NaN       1999.000000   \n",
       "50%                     NaN    2700.000000         NaN       2003.000000   \n",
       "75%                     NaN    6400.000000         NaN       2008.000000   \n",
       "max                     NaN   20000.000000         NaN       9999.000000   \n",
       "\n",
       "       Gearbox          Power   Model      Kilometer  RegistrationMonth  \\\n",
       "count   334536  354369.000000  334664  354369.000000      354369.000000   \n",
       "unique       2            NaN     250            NaN                NaN   \n",
       "top     manual            NaN    golf            NaN                NaN   \n",
       "freq    268251            NaN   29232            NaN                NaN   \n",
       "mean       NaN     110.094337     NaN  128211.172535           5.714645   \n",
       "std        NaN     189.850405     NaN   37905.341530           3.726421   \n",
       "min        NaN       0.000000     NaN    5000.000000           0.000000   \n",
       "25%        NaN      69.000000     NaN  125000.000000           3.000000   \n",
       "50%        NaN     105.000000     NaN  150000.000000           6.000000   \n",
       "75%        NaN     143.000000     NaN  150000.000000           9.000000   \n",
       "max        NaN   20000.000000     NaN  150000.000000          12.000000   \n",
       "\n",
       "       FuelType       Brand Repaired          DateCreated  NumberOfPictures  \\\n",
       "count    321474      354369   283215               354369          354369.0   \n",
       "unique        7          40        2                  109               NaN   \n",
       "top      petrol  volkswagen       no  2016-04-03 00:00:00               NaN   \n",
       "freq     216352       77013   247161                13719               NaN   \n",
       "mean        NaN         NaN      NaN                  NaN               0.0   \n",
       "std         NaN         NaN      NaN                  NaN               0.0   \n",
       "min         NaN         NaN      NaN                  NaN               0.0   \n",
       "25%         NaN         NaN      NaN                  NaN               0.0   \n",
       "50%         NaN         NaN      NaN                  NaN               0.0   \n",
       "75%         NaN         NaN      NaN                  NaN               0.0   \n",
       "max         NaN         NaN      NaN                  NaN               0.0   \n",
       "\n",
       "           PostalCode             LastSeen  \n",
       "count   354369.000000               354369  \n",
       "unique            NaN               179150  \n",
       "top               NaN  2016-04-06 13:45:54  \n",
       "freq              NaN                   17  \n",
       "mean     50508.689087                  NaN  \n",
       "std      25783.096248                  NaN  \n",
       "min       1067.000000                  NaN  \n",
       "25%      30165.000000                  NaN  \n",
       "50%      49413.000000                  NaN  \n",
       "75%      71083.000000                  NaN  \n",
       "max      99998.000000                  NaN  "
      ]
     },
     "metadata": {},
     "output_type": "display_data"
    }
   ],
   "source": [
    "data_exploration_func(data)"
   ]
  },
  {
   "cell_type": "markdown",
   "metadata": {},
   "source": [
    "Признаки\n",
    "\n",
    "- DateCrawled — дата скачивания анкеты из базы\n",
    "- VehicleType — тип автомобильного кузова\n",
    "- RegistrationYear — год регистрации автомобиля\n",
    "- Gearbox — тип коробки передач\n",
    "- Power — мощность (л. с.)\n",
    "- Model — модель автомобиля\n",
    "- Kilometer — пробег (км)\n",
    "- RegistrationMonth — месяц регистрации автомобиля\n",
    "- FuelType — тип топлива\n",
    "- Brand — марка автомобиля\n",
    "- Repaired — была машина в ремонте или нет\n",
    "- DateCreated — дата создания анкеты\n",
    "- NumberOfPictures — количество фотографий автомобиля\n",
    "- PostalCode — почтовый индекс владельца анкеты (пользователя)\n",
    "- LastSeen — дата последней активности пользователя\n",
    "\n",
    "Целевой признак\n",
    "- Price — цена (евро)"
   ]
  },
  {
   "cell_type": "markdown",
   "metadata": {},
   "source": [
    "Приведем все названия к змеиному регистру."
   ]
  },
  {
   "cell_type": "code",
   "execution_count": 8,
   "metadata": {
    "scrolled": false
   },
   "outputs": [
    {
     "name": "stderr",
     "output_type": "stream",
     "text": [
      "/tmp/ipykernel_63/3846741158.py:1: FutureWarning: The default value of regex will change from True to False in a future version.\n",
      "  data.columns = data.columns.str.replace(r\"([A-Z])\", r\" \\1\").str.lower().str.replace(' ', '_').str[1:]\n"
     ]
    }
   ],
   "source": [
    "data.columns = data.columns.str.replace(r\"([A-Z])\", r\" \\1\").str.lower().str.replace(' ', '_').str[1:]"
   ]
  },
  {
   "cell_type": "markdown",
   "metadata": {},
   "source": [
    "Проверим таблицу на пропуски."
   ]
  },
  {
   "cell_type": "code",
   "execution_count": 9,
   "metadata": {
    "scrolled": true
   },
   "outputs": [
    {
     "data": {
      "text/plain": [
       "date_crawled              0\n",
       "price                     0\n",
       "vehicle_type          37490\n",
       "registration_year         0\n",
       "gearbox               19833\n",
       "power                     0\n",
       "model                 19705\n",
       "kilometer                 0\n",
       "registration_month        0\n",
       "fuel_type             32895\n",
       "brand                     0\n",
       "repaired              71154\n",
       "date_created              0\n",
       "number_of_pictures        0\n",
       "postal_code               0\n",
       "last_seen                 0\n",
       "dtype: int64"
      ]
     },
     "metadata": {},
     "output_type": "display_data"
    },
    {
     "data": {
      "text/plain": [
       "date_crawled           0.00\n",
       "price                  0.00\n",
       "vehicle_type          10.58\n",
       "registration_year      0.00\n",
       "gearbox                5.60\n",
       "power                  0.00\n",
       "model                  5.56\n",
       "kilometer              0.00\n",
       "registration_month     0.00\n",
       "fuel_type              9.28\n",
       "brand                  0.00\n",
       "repaired              20.08\n",
       "date_created           0.00\n",
       "number_of_pictures     0.00\n",
       "postal_code            0.00\n",
       "last_seen              0.00\n",
       "dtype: float64"
      ]
     },
     "execution_count": 9,
     "metadata": {},
     "output_type": "execute_result"
    }
   ],
   "source": [
    "display(data.isna().sum())\n",
    "(data.isna().mean() * 100).round(2)"
   ]
  },
  {
   "cell_type": "markdown",
   "metadata": {},
   "source": [
    "Больше всего пропусков имеет столбец repaired - 20% пропущенных значений. Удалять не стоит - так потеряем ценные данные. Обработаем эти значения ниже при поиске неявных дубликатов."
   ]
  },
  {
   "cell_type": "markdown",
   "metadata": {},
   "source": [
    "Проверим на наличие явных дубликатов"
   ]
  },
  {
   "cell_type": "code",
   "execution_count": 10,
   "metadata": {},
   "outputs": [
    {
     "data": {
      "text/plain": [
       "4"
      ]
     },
     "execution_count": 10,
     "metadata": {},
     "output_type": "execute_result"
    }
   ],
   "source": [
    "data.duplicated().sum()"
   ]
  },
  {
   "cell_type": "markdown",
   "metadata": {},
   "source": [
    "Удалим их"
   ]
  },
  {
   "cell_type": "code",
   "execution_count": 11,
   "metadata": {},
   "outputs": [
    {
     "data": {
      "text/plain": [
       "0"
      ]
     },
     "execution_count": 11,
     "metadata": {},
     "output_type": "execute_result"
    }
   ],
   "source": [
    "data = data.drop_duplicates()\n",
    "data.duplicated().sum()"
   ]
  },
  {
   "cell_type": "markdown",
   "metadata": {},
   "source": [
    "Проверим на наличие неявных дубликатов"
   ]
  },
  {
   "cell_type": "code",
   "execution_count": 12,
   "metadata": {
    "scrolled": false
   },
   "outputs": [
    {
     "data": {
      "text/plain": [
       "array([nan, 'coupe', 'suv', 'small', 'sedan', 'convertible', 'bus',\n",
       "       'wagon', 'other'], dtype=object)"
      ]
     },
     "execution_count": 12,
     "metadata": {},
     "output_type": "execute_result"
    }
   ],
   "source": [
    "data['vehicle_type'].unique()"
   ]
  },
  {
   "cell_type": "markdown",
   "metadata": {},
   "source": [
    "В значении типа кузова есть значение other. Заменим NaN им."
   ]
  },
  {
   "cell_type": "code",
   "execution_count": 13,
   "metadata": {},
   "outputs": [],
   "source": [
    "data['vehicle_type'] = data['vehicle_type'].replace(np.NaN, 'other', regex=True)"
   ]
  },
  {
   "cell_type": "code",
   "execution_count": 14,
   "metadata": {},
   "outputs": [
    {
     "data": {
      "text/plain": [
       "array(['manual', 'auto', nan], dtype=object)"
      ]
     },
     "execution_count": 14,
     "metadata": {},
     "output_type": "execute_result"
    }
   ],
   "source": [
    "data['gearbox'].unique()"
   ]
  },
  {
   "cell_type": "markdown",
   "metadata": {},
   "source": [
    "В значении типа коробки передач заменим NaN на unknown."
   ]
  },
  {
   "cell_type": "code",
   "execution_count": 15,
   "metadata": {},
   "outputs": [],
   "source": [
    "data.fillna({'gearbox':'unknown'}, inplace=True)"
   ]
  },
  {
   "cell_type": "code",
   "execution_count": 16,
   "metadata": {
    "scrolled": true
   },
   "outputs": [
    {
     "data": {
      "text/plain": [
       "array(['golf', nan, 'grand', 'fabia', '3er', '2_reihe', 'other', 'c_max',\n",
       "       '3_reihe', 'passat', 'navara', 'ka', 'polo', 'twingo', 'a_klasse',\n",
       "       'scirocco', '5er', 'meriva', 'arosa', 'c4', 'civic', 'transporter',\n",
       "       'punto', 'e_klasse', 'clio', 'kadett', 'kangoo', 'corsa', 'one',\n",
       "       'fortwo', '1er', 'b_klasse', 'signum', 'astra', 'a8', 'jetta',\n",
       "       'fiesta', 'c_klasse', 'micra', 'vito', 'sprinter', '156', 'escort',\n",
       "       'forester', 'xc_reihe', 'scenic', 'a4', 'a1', 'insignia', 'combo',\n",
       "       'focus', 'tt', 'a6', 'jazz', 'omega', 'slk', '7er', '80', '147',\n",
       "       '100', 'z_reihe', 'sportage', 'sorento', 'v40', 'ibiza', 'mustang',\n",
       "       'eos', 'touran', 'getz', 'a3', 'almera', 'megane', 'lupo', 'r19',\n",
       "       'zafira', 'caddy', 'mondeo', 'cordoba', 'colt', 'impreza',\n",
       "       'vectra', 'berlingo', 'tiguan', 'i_reihe', 'espace', 'sharan',\n",
       "       '6_reihe', 'panda', 'up', 'seicento', 'ceed', '5_reihe', 'yeti',\n",
       "       'octavia', 'mii', 'rx_reihe', '6er', 'modus', 'fox', 'matiz',\n",
       "       'beetle', 'c1', 'rio', 'touareg', 'logan', 'spider', 'cuore',\n",
       "       's_max', 'a2', 'galaxy', 'c3', 'viano', 's_klasse', '1_reihe',\n",
       "       'avensis', 'roomster', 'sl', 'kaefer', 'santa', 'cooper', 'leon',\n",
       "       '4_reihe', 'a5', '500', 'laguna', 'ptcruiser', 'clk', 'primera',\n",
       "       'x_reihe', 'exeo', '159', 'transit', 'juke', 'qashqai', 'carisma',\n",
       "       'accord', 'corolla', 'lanos', 'phaeton', 'verso', 'swift', 'rav',\n",
       "       'picanto', 'boxster', 'kalos', 'superb', 'stilo', 'alhambra',\n",
       "       'mx_reihe', 'roadster', 'ypsilon', 'cayenne', 'galant', 'justy',\n",
       "       '90', 'sirion', 'crossfire', 'agila', 'duster', 'cr_reihe', 'v50',\n",
       "       'c_reihe', 'v_klasse', 'm_klasse', 'yaris', 'c5', 'aygo', 'cc',\n",
       "       'carnival', 'fusion', '911', 'bora', 'forfour', 'm_reihe', 'cl',\n",
       "       'tigra', '300c', 'spark', 'v70', 'kuga', 'x_type', 'ducato',\n",
       "       's_type', 'x_trail', 'toledo', 'altea', 'voyager', 'calibra',\n",
       "       'bravo', 'antara', 'tucson', 'citigo', 'jimny', 'wrangler',\n",
       "       'lybra', 'q7', 'lancer', 'captiva', 'c2', 'discovery',\n",
       "       'freelander', 'sandero', 'note', '900', 'cherokee', 'clubman',\n",
       "       'samara', 'defender', '601', 'cx_reihe', 'legacy', 'pajero',\n",
       "       'auris', 'niva', 's60', 'nubira', 'vivaro', 'g_klasse', 'lodgy',\n",
       "       '850', 'range_rover', 'q3', 'serie_2', 'glk', 'charade', 'croma',\n",
       "       'outlander', 'doblo', 'musa', 'move', '9000', 'v60', '145', 'aveo',\n",
       "       '200', 'b_max', 'range_rover_sport', 'terios', 'rangerover', 'q5',\n",
       "       'range_rover_evoque', 'materia', 'delta', 'gl', 'kalina', 'amarok',\n",
       "       'elefantino', 'i3', 'kappa', 'serie_3', 'serie_1'], dtype=object)"
      ]
     },
     "execution_count": 16,
     "metadata": {},
     "output_type": "execute_result"
    }
   ],
   "source": [
    "data['model'].unique()"
   ]
  },
  {
   "cell_type": "markdown",
   "metadata": {},
   "source": [
    "В значении модели авто есть значение other. Заменим NaN им."
   ]
  },
  {
   "cell_type": "code",
   "execution_count": 17,
   "metadata": {},
   "outputs": [],
   "source": [
    "data['model'] = data['model'].replace(np.NaN, 'other', regex=True)"
   ]
  },
  {
   "cell_type": "code",
   "execution_count": 18,
   "metadata": {
    "scrolled": true
   },
   "outputs": [
    {
     "data": {
      "text/plain": [
       "array(['petrol', 'gasoline', nan, 'lpg', 'other', 'hybrid', 'cng',\n",
       "       'electric'], dtype=object)"
      ]
     },
     "execution_count": 18,
     "metadata": {},
     "output_type": "execute_result"
    }
   ],
   "source": [
    "data['fuel_type'].unique()"
   ]
  },
  {
   "cell_type": "markdown",
   "metadata": {},
   "source": [
    "В значении типа бензина есть значение other. Заменим NaN им."
   ]
  },
  {
   "cell_type": "code",
   "execution_count": 19,
   "metadata": {},
   "outputs": [],
   "source": [
    "data['fuel_type'] = data['fuel_type'].replace(np.NaN, 'other', regex=True)"
   ]
  },
  {
   "cell_type": "markdown",
   "metadata": {},
   "source": [
    "petrol и gasoline - наименование бензина, , синонимы. Переименуем petrol."
   ]
  },
  {
   "cell_type": "code",
   "execution_count": 20,
   "metadata": {},
   "outputs": [],
   "source": [
    "data['fuel_type'] = data['fuel_type'].replace(['petrol'], ['gasoline'], regex=True)"
   ]
  },
  {
   "cell_type": "code",
   "execution_count": 21,
   "metadata": {
    "scrolled": false
   },
   "outputs": [
    {
     "data": {
      "text/plain": [
       "array(['volkswagen', 'audi', 'jeep', 'skoda', 'bmw', 'peugeot', 'ford',\n",
       "       'mazda', 'nissan', 'renault', 'mercedes_benz', 'opel', 'seat',\n",
       "       'citroen', 'honda', 'fiat', 'mini', 'smart', 'hyundai',\n",
       "       'sonstige_autos', 'alfa_romeo', 'subaru', 'volvo', 'mitsubishi',\n",
       "       'kia', 'suzuki', 'lancia', 'toyota', 'chevrolet', 'dacia',\n",
       "       'daihatsu', 'trabant', 'saab', 'chrysler', 'jaguar', 'daewoo',\n",
       "       'porsche', 'rover', 'land_rover', 'lada'], dtype=object)"
      ]
     },
     "execution_count": 21,
     "metadata": {},
     "output_type": "execute_result"
    }
   ],
   "source": [
    "data['brand'].unique()"
   ]
  },
  {
   "cell_type": "code",
   "execution_count": 22,
   "metadata": {},
   "outputs": [
    {
     "data": {
      "text/plain": [
       "array([nan, 'yes', 'no'], dtype=object)"
      ]
     },
     "execution_count": 22,
     "metadata": {},
     "output_type": "execute_result"
    }
   ],
   "source": [
    "data['repaired'].unique()"
   ]
  },
  {
   "cell_type": "markdown",
   "metadata": {},
   "source": [
    "В значении была ли машина в ремонте или нет заменим NaN на unknown."
   ]
  },
  {
   "cell_type": "code",
   "execution_count": 23,
   "metadata": {},
   "outputs": [],
   "source": [
    "data.fillna({'repaired':'unknown'}, inplace=True)"
   ]
  },
  {
   "cell_type": "code",
   "execution_count": 24,
   "metadata": {
    "scrolled": true
   },
   "outputs": [
    {
     "data": {
      "text/plain": [
       "array([1993, 2011, 2004, 2001, 2008, 1995, 1980, 2014, 1998, 2005, 1910,\n",
       "       2016, 2007, 2009, 2002, 2018, 1997, 1990, 2017, 1981, 2003, 1994,\n",
       "       1991, 1984, 2006, 1999, 2012, 2010, 2000, 1992, 2013, 1996, 1985,\n",
       "       1989, 2015, 1982, 1976, 1983, 1973, 1111, 1969, 1971, 1987, 1986,\n",
       "       1988, 1970, 1965, 1945, 1925, 1974, 1979, 1955, 1978, 1972, 1968,\n",
       "       1977, 1961, 1960, 1966, 1975, 1963, 1964, 5000, 1954, 1958, 1967,\n",
       "       1959, 9999, 1956, 3200, 1000, 1941, 8888, 1500, 2200, 4100, 1962,\n",
       "       1929, 1957, 1940, 3000, 2066, 1949, 2019, 1937, 1951, 1800, 1953,\n",
       "       1234, 8000, 5300, 9000, 2900, 6000, 5900, 5911, 1933, 1400, 1950,\n",
       "       4000, 1948, 1952, 1200, 8500, 1932, 1255, 3700, 3800, 4800, 1942,\n",
       "       7000, 1935, 1936, 6500, 1923, 2290, 2500, 1930, 1001, 9450, 1944,\n",
       "       1943, 1934, 1938, 1688, 2800, 1253, 1928, 1919, 5555, 5600, 1600,\n",
       "       2222, 1039, 9996, 1300, 8455, 1931, 1915, 4500, 1920, 1602, 7800,\n",
       "       9229, 1947, 1927, 7100, 8200, 1946, 7500, 3500])"
      ]
     },
     "execution_count": 24,
     "metadata": {},
     "output_type": "execute_result"
    }
   ],
   "source": [
    "data['registration_year'].unique()"
   ]
  },
  {
   "cell_type": "markdown",
   "metadata": {},
   "source": [
    "Имеются аномальные значения даты регистрации. Узнаем сколько их.  За начальную точку отчета года регистрации авто возьмем год регистрации первого авто в мире - 1885 год"
   ]
  },
  {
   "cell_type": "code",
   "execution_count": 25,
   "metadata": {},
   "outputs": [
    {
     "data": {
      "text/html": [
       "<div>\n",
       "<style scoped>\n",
       "    .dataframe tbody tr th:only-of-type {\n",
       "        vertical-align: middle;\n",
       "    }\n",
       "\n",
       "    .dataframe tbody tr th {\n",
       "        vertical-align: top;\n",
       "    }\n",
       "\n",
       "    .dataframe thead th {\n",
       "        text-align: right;\n",
       "    }\n",
       "</style>\n",
       "<table border=\"1\" class=\"dataframe\">\n",
       "  <thead>\n",
       "    <tr style=\"text-align: right;\">\n",
       "      <th></th>\n",
       "      <th>date_crawled</th>\n",
       "      <th>price</th>\n",
       "      <th>vehicle_type</th>\n",
       "      <th>registration_year</th>\n",
       "      <th>gearbox</th>\n",
       "      <th>power</th>\n",
       "      <th>model</th>\n",
       "      <th>kilometer</th>\n",
       "      <th>registration_month</th>\n",
       "      <th>fuel_type</th>\n",
       "      <th>brand</th>\n",
       "      <th>repaired</th>\n",
       "      <th>date_created</th>\n",
       "      <th>number_of_pictures</th>\n",
       "      <th>postal_code</th>\n",
       "      <th>last_seen</th>\n",
       "    </tr>\n",
       "  </thead>\n",
       "  <tbody>\n",
       "    <tr>\n",
       "      <th>622</th>\n",
       "      <td>2016-03-16 16:55:09</td>\n",
       "      <td>0</td>\n",
       "      <td>other</td>\n",
       "      <td>1111</td>\n",
       "      <td>unknown</td>\n",
       "      <td>0</td>\n",
       "      <td>other</td>\n",
       "      <td>5000</td>\n",
       "      <td>0</td>\n",
       "      <td>other</td>\n",
       "      <td>opel</td>\n",
       "      <td>unknown</td>\n",
       "      <td>2016-03-16 00:00:00</td>\n",
       "      <td>0</td>\n",
       "      <td>44628</td>\n",
       "      <td>2016-03-20 16:44:37</td>\n",
       "    </tr>\n",
       "    <tr>\n",
       "      <th>12946</th>\n",
       "      <td>2016-03-29 18:39:40</td>\n",
       "      <td>49</td>\n",
       "      <td>other</td>\n",
       "      <td>5000</td>\n",
       "      <td>unknown</td>\n",
       "      <td>0</td>\n",
       "      <td>golf</td>\n",
       "      <td>5000</td>\n",
       "      <td>12</td>\n",
       "      <td>other</td>\n",
       "      <td>volkswagen</td>\n",
       "      <td>unknown</td>\n",
       "      <td>2016-03-29 00:00:00</td>\n",
       "      <td>0</td>\n",
       "      <td>74523</td>\n",
       "      <td>2016-04-06 04:16:14</td>\n",
       "    </tr>\n",
       "    <tr>\n",
       "      <th>15147</th>\n",
       "      <td>2016-03-14 00:52:02</td>\n",
       "      <td>0</td>\n",
       "      <td>other</td>\n",
       "      <td>9999</td>\n",
       "      <td>unknown</td>\n",
       "      <td>0</td>\n",
       "      <td>other</td>\n",
       "      <td>10000</td>\n",
       "      <td>0</td>\n",
       "      <td>other</td>\n",
       "      <td>sonstige_autos</td>\n",
       "      <td>unknown</td>\n",
       "      <td>2016-03-13 00:00:00</td>\n",
       "      <td>0</td>\n",
       "      <td>32689</td>\n",
       "      <td>2016-03-21 23:46:46</td>\n",
       "    </tr>\n",
       "    <tr>\n",
       "      <th>15870</th>\n",
       "      <td>2016-04-02 11:55:48</td>\n",
       "      <td>1700</td>\n",
       "      <td>other</td>\n",
       "      <td>3200</td>\n",
       "      <td>unknown</td>\n",
       "      <td>0</td>\n",
       "      <td>other</td>\n",
       "      <td>5000</td>\n",
       "      <td>0</td>\n",
       "      <td>other</td>\n",
       "      <td>sonstige_autos</td>\n",
       "      <td>unknown</td>\n",
       "      <td>2016-04-02 00:00:00</td>\n",
       "      <td>0</td>\n",
       "      <td>33649</td>\n",
       "      <td>2016-04-06 09:46:13</td>\n",
       "    </tr>\n",
       "    <tr>\n",
       "      <th>16062</th>\n",
       "      <td>2016-03-29 23:42:16</td>\n",
       "      <td>190</td>\n",
       "      <td>other</td>\n",
       "      <td>1000</td>\n",
       "      <td>unknown</td>\n",
       "      <td>0</td>\n",
       "      <td>mondeo</td>\n",
       "      <td>5000</td>\n",
       "      <td>0</td>\n",
       "      <td>other</td>\n",
       "      <td>ford</td>\n",
       "      <td>unknown</td>\n",
       "      <td>2016-03-29 00:00:00</td>\n",
       "      <td>0</td>\n",
       "      <td>47166</td>\n",
       "      <td>2016-04-06 10:44:58</td>\n",
       "    </tr>\n",
       "    <tr>\n",
       "      <th>...</th>\n",
       "      <td>...</td>\n",
       "      <td>...</td>\n",
       "      <td>...</td>\n",
       "      <td>...</td>\n",
       "      <td>...</td>\n",
       "      <td>...</td>\n",
       "      <td>...</td>\n",
       "      <td>...</td>\n",
       "      <td>...</td>\n",
       "      <td>...</td>\n",
       "      <td>...</td>\n",
       "      <td>...</td>\n",
       "      <td>...</td>\n",
       "      <td>...</td>\n",
       "      <td>...</td>\n",
       "      <td>...</td>\n",
       "    </tr>\n",
       "    <tr>\n",
       "      <th>340548</th>\n",
       "      <td>2016-04-02 17:44:03</td>\n",
       "      <td>0</td>\n",
       "      <td>other</td>\n",
       "      <td>3500</td>\n",
       "      <td>manual</td>\n",
       "      <td>75</td>\n",
       "      <td>other</td>\n",
       "      <td>5000</td>\n",
       "      <td>3</td>\n",
       "      <td>gasoline</td>\n",
       "      <td>sonstige_autos</td>\n",
       "      <td>unknown</td>\n",
       "      <td>2016-04-02 00:00:00</td>\n",
       "      <td>0</td>\n",
       "      <td>96465</td>\n",
       "      <td>2016-04-04 15:17:51</td>\n",
       "    </tr>\n",
       "    <tr>\n",
       "      <th>340759</th>\n",
       "      <td>2016-04-04 23:55:47</td>\n",
       "      <td>700</td>\n",
       "      <td>other</td>\n",
       "      <td>1600</td>\n",
       "      <td>manual</td>\n",
       "      <td>1600</td>\n",
       "      <td>a3</td>\n",
       "      <td>150000</td>\n",
       "      <td>4</td>\n",
       "      <td>gasoline</td>\n",
       "      <td>audi</td>\n",
       "      <td>no</td>\n",
       "      <td>2016-04-04 00:00:00</td>\n",
       "      <td>0</td>\n",
       "      <td>86343</td>\n",
       "      <td>2016-04-05 06:44:07</td>\n",
       "    </tr>\n",
       "    <tr>\n",
       "      <th>341791</th>\n",
       "      <td>2016-03-28 17:37:30</td>\n",
       "      <td>1</td>\n",
       "      <td>other</td>\n",
       "      <td>3000</td>\n",
       "      <td>unknown</td>\n",
       "      <td>0</td>\n",
       "      <td>zafira</td>\n",
       "      <td>5000</td>\n",
       "      <td>0</td>\n",
       "      <td>other</td>\n",
       "      <td>opel</td>\n",
       "      <td>unknown</td>\n",
       "      <td>2016-03-28 00:00:00</td>\n",
       "      <td>0</td>\n",
       "      <td>26624</td>\n",
       "      <td>2016-04-02 22:17:49</td>\n",
       "    </tr>\n",
       "    <tr>\n",
       "      <th>348830</th>\n",
       "      <td>2016-03-22 00:38:15</td>\n",
       "      <td>1</td>\n",
       "      <td>other</td>\n",
       "      <td>1000</td>\n",
       "      <td>unknown</td>\n",
       "      <td>1000</td>\n",
       "      <td>other</td>\n",
       "      <td>150000</td>\n",
       "      <td>0</td>\n",
       "      <td>other</td>\n",
       "      <td>sonstige_autos</td>\n",
       "      <td>unknown</td>\n",
       "      <td>2016-03-21 00:00:00</td>\n",
       "      <td>0</td>\n",
       "      <td>41472</td>\n",
       "      <td>2016-04-05 14:18:01</td>\n",
       "    </tr>\n",
       "    <tr>\n",
       "      <th>351682</th>\n",
       "      <td>2016-03-12 00:57:39</td>\n",
       "      <td>11500</td>\n",
       "      <td>other</td>\n",
       "      <td>1800</td>\n",
       "      <td>unknown</td>\n",
       "      <td>16</td>\n",
       "      <td>other</td>\n",
       "      <td>5000</td>\n",
       "      <td>6</td>\n",
       "      <td>gasoline</td>\n",
       "      <td>fiat</td>\n",
       "      <td>unknown</td>\n",
       "      <td>2016-03-11 00:00:00</td>\n",
       "      <td>0</td>\n",
       "      <td>16515</td>\n",
       "      <td>2016-04-05 19:47:27</td>\n",
       "    </tr>\n",
       "  </tbody>\n",
       "</table>\n",
       "<p>171 rows × 16 columns</p>\n",
       "</div>"
      ],
      "text/plain": [
       "               date_crawled  price vehicle_type  registration_year  gearbox  \\\n",
       "622     2016-03-16 16:55:09      0        other               1111  unknown   \n",
       "12946   2016-03-29 18:39:40     49        other               5000  unknown   \n",
       "15147   2016-03-14 00:52:02      0        other               9999  unknown   \n",
       "15870   2016-04-02 11:55:48   1700        other               3200  unknown   \n",
       "16062   2016-03-29 23:42:16    190        other               1000  unknown   \n",
       "...                     ...    ...          ...                ...      ...   \n",
       "340548  2016-04-02 17:44:03      0        other               3500   manual   \n",
       "340759  2016-04-04 23:55:47    700        other               1600   manual   \n",
       "341791  2016-03-28 17:37:30      1        other               3000  unknown   \n",
       "348830  2016-03-22 00:38:15      1        other               1000  unknown   \n",
       "351682  2016-03-12 00:57:39  11500        other               1800  unknown   \n",
       "\n",
       "        power   model  kilometer  registration_month fuel_type  \\\n",
       "622         0   other       5000                   0     other   \n",
       "12946       0    golf       5000                  12     other   \n",
       "15147       0   other      10000                   0     other   \n",
       "15870       0   other       5000                   0     other   \n",
       "16062       0  mondeo       5000                   0     other   \n",
       "...       ...     ...        ...                 ...       ...   \n",
       "340548     75   other       5000                   3  gasoline   \n",
       "340759   1600      a3     150000                   4  gasoline   \n",
       "341791      0  zafira       5000                   0     other   \n",
       "348830   1000   other     150000                   0     other   \n",
       "351682     16   other       5000                   6  gasoline   \n",
       "\n",
       "                 brand repaired         date_created  number_of_pictures  \\\n",
       "622               opel  unknown  2016-03-16 00:00:00                   0   \n",
       "12946       volkswagen  unknown  2016-03-29 00:00:00                   0   \n",
       "15147   sonstige_autos  unknown  2016-03-13 00:00:00                   0   \n",
       "15870   sonstige_autos  unknown  2016-04-02 00:00:00                   0   \n",
       "16062             ford  unknown  2016-03-29 00:00:00                   0   \n",
       "...                ...      ...                  ...                 ...   \n",
       "340548  sonstige_autos  unknown  2016-04-02 00:00:00                   0   \n",
       "340759            audi       no  2016-04-04 00:00:00                   0   \n",
       "341791            opel  unknown  2016-03-28 00:00:00                   0   \n",
       "348830  sonstige_autos  unknown  2016-03-21 00:00:00                   0   \n",
       "351682            fiat  unknown  2016-03-11 00:00:00                   0   \n",
       "\n",
       "        postal_code            last_seen  \n",
       "622           44628  2016-03-20 16:44:37  \n",
       "12946         74523  2016-04-06 04:16:14  \n",
       "15147         32689  2016-03-21 23:46:46  \n",
       "15870         33649  2016-04-06 09:46:13  \n",
       "16062         47166  2016-04-06 10:44:58  \n",
       "...             ...                  ...  \n",
       "340548        96465  2016-04-04 15:17:51  \n",
       "340759        86343  2016-04-05 06:44:07  \n",
       "341791        26624  2016-04-02 22:17:49  \n",
       "348830        41472  2016-04-05 14:18:01  \n",
       "351682        16515  2016-04-05 19:47:27  \n",
       "\n",
       "[171 rows x 16 columns]"
      ]
     },
     "execution_count": 25,
     "metadata": {},
     "output_type": "execute_result"
    }
   ],
   "source": [
    "data.query('1885 > registration_year or registration_year >= 2024')"
   ]
  },
  {
   "cell_type": "markdown",
   "metadata": {},
   "source": [
    "Удалим их"
   ]
  },
  {
   "cell_type": "code",
   "execution_count": 26,
   "metadata": {
    "scrolled": false
   },
   "outputs": [
    {
     "data": {
      "text/plain": [
       "array([1993, 2011, 2004, 2001, 2008, 1995, 1980, 2014, 1998, 2005, 1910,\n",
       "       2016, 2007, 2009, 2002, 1997, 1990, 1981, 2003, 1994, 1991, 1984,\n",
       "       2006, 1999, 2012, 2010, 2000, 1992, 2013, 1996, 1985, 1989, 2015,\n",
       "       1982, 1976, 1983, 1973, 1969, 1971, 1987, 1986, 1988, 1970, 1965,\n",
       "       1945, 1925, 1974, 1979, 1955, 1978, 1972, 1968, 1977, 1961, 1960,\n",
       "       1966, 1975, 1963, 1964, 1954, 1958, 1967, 1959, 1956, 1941, 1962,\n",
       "       1929, 1957, 1940, 1949, 1937, 1951, 1953, 1933, 1950, 1948, 1952,\n",
       "       1932, 1942, 1935, 1936, 1923, 1930, 1944, 1943, 1934, 1938, 1928,\n",
       "       1919, 1931, 1915, 1920, 1947, 1927, 1946])"
      ]
     },
     "execution_count": 26,
     "metadata": {},
     "output_type": "execute_result"
    }
   ],
   "source": [
    "data = data.query('1885 < registration_year and registration_year <= 2016')\n",
    "data['registration_year'].unique()"
   ]
  },
  {
   "cell_type": "markdown",
   "metadata": {},
   "source": [
    "Также были замечены аномальные значения мощности машины и цена. Удалим эти значения, приняв за max значение мощность самой мощной машины на сегодня Dagger GT - 2000 л.с, а цену равную 0."
   ]
  },
  {
   "cell_type": "code",
   "execution_count": 27,
   "metadata": {},
   "outputs": [],
   "source": [
    "data = data.query('power <= 620')"
   ]
  },
  {
   "cell_type": "code",
   "execution_count": 28,
   "metadata": {},
   "outputs": [],
   "source": [
    "data = data.query('price >= 50')"
   ]
  },
  {
   "cell_type": "code",
   "execution_count": 29,
   "metadata": {
    "scrolled": false
   },
   "outputs": [
    {
     "data": {
      "text/plain": [
       "date_crawled          0\n",
       "price                 0\n",
       "vehicle_type          0\n",
       "registration_year     0\n",
       "gearbox               0\n",
       "power                 0\n",
       "model                 0\n",
       "kilometer             0\n",
       "registration_month    0\n",
       "fuel_type             0\n",
       "brand                 0\n",
       "repaired              0\n",
       "date_created          0\n",
       "number_of_pictures    0\n",
       "postal_code           0\n",
       "last_seen             0\n",
       "dtype: int64"
      ]
     },
     "execution_count": 29,
     "metadata": {},
     "output_type": "execute_result"
    }
   ],
   "source": [
    "data.isna().sum()"
   ]
  },
  {
   "cell_type": "markdown",
   "metadata": {},
   "source": [
    "Избавимся от столбцов, которые не влияют на целевой признак"
   ]
  },
  {
   "cell_type": "code",
   "execution_count": 30,
   "metadata": {},
   "outputs": [],
   "source": [
    "data = data.drop(['date_crawled', 'registration_month', 'date_created', \n",
    "                  'number_of_pictures', 'postal_code', 'last_seen'], axis=1)"
   ]
  },
  {
   "cell_type": "markdown",
   "metadata": {},
   "source": [
    "Проверим повторно на наличие дубликатов (для подготовки к обучению моделей)"
   ]
  },
  {
   "cell_type": "code",
   "execution_count": 31,
   "metadata": {
    "scrolled": true
   },
   "outputs": [
    {
     "data": {
      "text/plain": [
       "43076"
      ]
     },
     "metadata": {},
     "output_type": "display_data"
    },
    {
     "name": "stdout",
     "output_type": "stream",
     "text": [
      "13.14 %\n"
     ]
    }
   ],
   "source": [
    "display(data.duplicated().sum())\n",
    "print ((data.duplicated().mean() * 100).round(2), '%')"
   ]
  },
  {
   "cell_type": "markdown",
   "metadata": {},
   "source": [
    "Избавимся от дубликатов."
   ]
  },
  {
   "cell_type": "code",
   "execution_count": 32,
   "metadata": {},
   "outputs": [
    {
     "data": {
      "text/plain": [
       "0"
      ]
     },
     "execution_count": 32,
     "metadata": {},
     "output_type": "execute_result"
    }
   ],
   "source": [
    "data = data.drop_duplicates()\n",
    "data.duplicated().sum()"
   ]
  },
  {
   "cell_type": "markdown",
   "metadata": {},
   "source": [
    "__Вывод:__ Данные были успешно прочитаны и подготовлены. Исправлен стиль заголовков на snake_case. Обнаружены и устранены пропуски в стоблцах: VehicleType, FuelType, Gearbox, Model, Repaired. Выявлены и устранены полные дубликаты строк. Удалены столбцы с данными о времени: date_crawled, registration_month, date_created, last_seen, postal_code и пустой столбец number_of_pictures. Проведена фильтрация выбросов.\n",
    "\n",
    "Можно приступать к обучению моделей"
   ]
  },
  {
   "cell_type": "markdown",
   "metadata": {},
   "source": [
    "## Обучение моделей"
   ]
  },
  {
   "cell_type": "markdown",
   "metadata": {},
   "source": [
    "Избавимся от столбцов, которые не влияют на целевой признак"
   ]
  },
  {
   "cell_type": "code",
   "execution_count": 33,
   "metadata": {},
   "outputs": [],
   "source": [
    "X = data.drop('price', axis=1)# извлечение признаков\n",
    "y = data['price']# извлечение целевого признака"
   ]
  },
  {
   "cell_type": "markdown",
   "metadata": {},
   "source": [
    "Делим данные для CatBoost"
   ]
  },
  {
   "cell_type": "code",
   "execution_count": 34,
   "metadata": {},
   "outputs": [],
   "source": [
    "#делим данные на обучающую и валидационную выборки в соотношении 60/40:\n",
    "X_train, X_valid, y_train, y_valid = train_test_split(X,\n",
    "                                                      y,\n",
    "                                                      test_size=.4,\n",
    "                                                      random_state=RANDOM_STATE)\n",
    "\n",
    "# валидационную выборку на валидационную и тестовую в соотношении 20/20:\n",
    "X_test, X_valid, y_test, y_valid = train_test_split(X_valid,\n",
    "                                                    y_valid,\n",
    "                                                    test_size=0.5,\n",
    "                                                    random_state=RANDOM_STATE)"
   ]
  },
  {
   "cell_type": "markdown",
   "metadata": {},
   "source": [
    "Делим данные для LightGBM"
   ]
  },
  {
   "cell_type": "code",
   "execution_count": 35,
   "metadata": {},
   "outputs": [],
   "source": [
    "data_light = data.copy()\n",
    "for k in data_light.select_dtypes(exclude='number').columns:\n",
    "    data_light[k] = data_light[k].astype('category')\n",
    "    \n",
    "X_light = data_light.drop('price', axis=1)# извлечение признаков\n",
    "y_light = data_light['price']# извлечение целевого признака"
   ]
  },
  {
   "cell_type": "code",
   "execution_count": 36,
   "metadata": {},
   "outputs": [],
   "source": [
    "#делим данные на обучающую и валидационную выборки в соотношении 60/40:\n",
    "X_train_ohe_light, X_valid_ohe_light, y_train_ohe_light, y_valid_ohe_light = train_test_split(X_light,\n",
    "                                                      y,\n",
    "                                                      test_size=.4,\n",
    "                                                      random_state=RANDOM_STATE)\n",
    "\n",
    "# валидационную выборку на валидационную и тестовую в соотношении 20/20:\n",
    "X_test_ohe_light, X_valid_ohe_light, y_test_ohe_light, y_valid_ohe_light = train_test_split(X_valid_ohe_light,\n",
    "                                                    y_valid_ohe_light,\n",
    "                                                    test_size=0.5,\n",
    "                                                    random_state=RANDOM_STATE)"
   ]
  },
  {
   "cell_type": "markdown",
   "metadata": {},
   "source": [
    "Делим данные для LinearRegression"
   ]
  },
  {
   "cell_type": "code",
   "execution_count": 37,
   "metadata": {},
   "outputs": [],
   "source": [
    "#делим данные на обучающую и валидационную выборки в соотношении 60/40:\n",
    "X_train_ohe, X_valid_ohe, y_train_ohe, y_valid_ohe = train_test_split(X,\n",
    "                                                      y,\n",
    "                                                      test_size=.4,\n",
    "                                                      random_state=RANDOM_STATE)\n",
    "\n",
    "# валидационную выборку на валидационную и тестовую в соотношении 20/20:\n",
    "X_test_ohe, X_valid_ohe, y_test_ohe, y_valid_ohe = train_test_split(X_valid_ohe,\n",
    "                                                    y_valid_ohe,\n",
    "                                                    test_size=0.5,\n",
    "                                                    random_state=RANDOM_STATE)"
   ]
  },
  {
   "cell_type": "code",
   "execution_count": 38,
   "metadata": {},
   "outputs": [],
   "source": [
    "X_train_ohe = X_train.copy()\n",
    "X_test_ohe = X_train.copy()\n",
    "cols_ohe = X_train_ohe.select_dtypes(exclude='number').columns\n",
    "num_ohe = X_train_ohe.select_dtypes(include='number').columns"
   ]
  },
  {
   "cell_type": "code",
   "execution_count": 39,
   "metadata": {
    "scrolled": false
   },
   "outputs": [],
   "source": [
    "oh_encoder = OneHotEncoder(drop='first', sparse=False) \n",
    "# обучаем OneHotEncoder на категориальных признаках из тренировочной выборки\n",
    "oh_encoder.fit(X_train_ohe[cols_ohe])\n",
    "\n",
    "# сохраняем в переменной encoder_col_names список названий новых столбцов\n",
    "encoder_col_names = oh_encoder.get_feature_names()\n",
    "\n",
    "# преобразовываем категориальные переменные в тренировочной и тестовой выборках\n",
    "X_train_ohe[encoder_col_names] = oh_encoder.transform(X_train_ohe[cols_ohe])\n",
    "X_test_ohe[encoder_col_names] = oh_encoder.transform(X_test_ohe[cols_ohe]) \n",
    "X_valid_ohe[encoder_col_names] = oh_encoder.transform(X_valid_ohe[cols_ohe]) \n",
    "\n",
    "X_train_ohe = X_train_ohe.drop(cols_ohe, axis=1)\n",
    "X_test_ohe = X_test_ohe.drop(cols_ohe, axis=1)\n",
    "X_valid_ohe = X_valid_ohe.drop(cols_ohe, axis=1)\n",
    "\n",
    "# создаём скелер\n",
    "scaler = StandardScaler()\n",
    "\n",
    "# обучаем его на численных признаках тренировочной выборки, трансформируем её же\n",
    "X_train_ohe[num_ohe] = scaler.fit_transform(X_train_ohe[num_ohe])\n",
    "X_test_ohe[num_ohe] = scaler.transform(X_test_ohe[num_ohe])\n",
    "X_valid_ohe[num_ohe] = scaler.transform(X_valid_ohe[num_ohe])"
   ]
  },
  {
   "cell_type": "markdown",
   "metadata": {},
   "source": [
    "### CatBoostRegressor"
   ]
  },
  {
   "cell_type": "code",
   "execution_count": 40,
   "metadata": {},
   "outputs": [],
   "source": [
    "cat_features_ = list(data.select_dtypes(include='object').columns)"
   ]
  },
  {
   "cell_type": "code",
   "execution_count": 41,
   "metadata": {},
   "outputs": [
    {
     "data": {
      "text/plain": [
       "['vehicle_type', 'gearbox', 'model', 'fuel_type', 'brand', 'repaired']"
      ]
     },
     "execution_count": 41,
     "metadata": {},
     "output_type": "execute_result"
    }
   ],
   "source": [
    "cat_features_"
   ]
  },
  {
   "cell_type": "code",
   "execution_count": 42,
   "metadata": {},
   "outputs": [],
   "source": [
    "train_pool = Pool(X_train, \n",
    "                  y_train, \n",
    "                  cat_features=cat_features_)\n",
    "\n",
    "valid_pool = Pool(X_valid,\n",
    "                  y_valid, \n",
    "                 cat_features=cat_features_)\n",
    "\n",
    "test_pool = Pool(X_test, \n",
    "                 cat_features=cat_features_)"
   ]
  },
  {
   "cell_type": "markdown",
   "metadata": {},
   "source": [
    "Для начала найдем лучшие гиперпараметры для обучения для поиска лучшей скорости среди моделей."
   ]
  },
  {
   "cell_type": "code",
   "execution_count": 43,
   "metadata": {
    "scrolled": true
   },
   "outputs": [
    {
     "name": "stdout",
     "output_type": "stream",
     "text": [
      "0:\tlearn: 4458.1604933\ttotal: 68.4ms\tremaining: 6.77s\n",
      "1:\tlearn: 4327.2882386\ttotal: 85ms\tremaining: 4.16s\n",
      "2:\tlearn: 4199.8000713\ttotal: 102ms\tremaining: 3.3s\n",
      "3:\tlearn: 4086.0688517\ttotal: 118ms\tremaining: 2.83s\n",
      "4:\tlearn: 3972.3368126\ttotal: 135ms\tremaining: 2.56s\n",
      "5:\tlearn: 3869.3607007\ttotal: 152ms\tremaining: 2.38s\n",
      "6:\tlearn: 3775.5523581\ttotal: 168ms\tremaining: 2.23s\n",
      "7:\tlearn: 3681.9792234\ttotal: 184ms\tremaining: 2.12s\n",
      "8:\tlearn: 3597.8436220\ttotal: 202ms\tremaining: 2.04s\n",
      "9:\tlearn: 3517.8666419\ttotal: 218ms\tremaining: 1.96s\n",
      "10:\tlearn: 3438.5585751\ttotal: 233ms\tremaining: 1.89s\n",
      "11:\tlearn: 3366.2524115\ttotal: 250ms\tremaining: 1.83s\n",
      "12:\tlearn: 3297.4116627\ttotal: 266ms\tremaining: 1.78s\n",
      "13:\tlearn: 3235.7945688\ttotal: 283ms\tremaining: 1.74s\n",
      "14:\tlearn: 3172.4018665\ttotal: 300ms\tremaining: 1.7s\n",
      "15:\tlearn: 3115.5196934\ttotal: 316ms\tremaining: 1.66s\n",
      "16:\tlearn: 3061.1707023\ttotal: 332ms\tremaining: 1.62s\n",
      "17:\tlearn: 3012.9324642\ttotal: 348ms\tremaining: 1.58s\n",
      "18:\tlearn: 2967.2250151\ttotal: 363ms\tremaining: 1.55s\n",
      "19:\tlearn: 2922.4759619\ttotal: 379ms\tremaining: 1.52s\n",
      "20:\tlearn: 2880.6651511\ttotal: 396ms\tremaining: 1.49s\n",
      "21:\tlearn: 2842.6460929\ttotal: 412ms\tremaining: 1.46s\n",
      "22:\tlearn: 2805.4741011\ttotal: 428ms\tremaining: 1.43s\n",
      "23:\tlearn: 2773.3034093\ttotal: 445ms\tremaining: 1.41s\n",
      "24:\tlearn: 2741.1728055\ttotal: 463ms\tremaining: 1.39s\n",
      "25:\tlearn: 2710.7332880\ttotal: 479ms\tremaining: 1.36s\n",
      "26:\tlearn: 2682.5433853\ttotal: 497ms\tremaining: 1.34s\n",
      "27:\tlearn: 2653.7344693\ttotal: 514ms\tremaining: 1.32s\n",
      "28:\tlearn: 2629.4916778\ttotal: 535ms\tremaining: 1.31s\n",
      "29:\tlearn: 2605.9621592\ttotal: 552ms\tremaining: 1.29s\n",
      "30:\tlearn: 2583.0942838\ttotal: 569ms\tremaining: 1.27s\n",
      "31:\tlearn: 2562.1005120\ttotal: 586ms\tremaining: 1.24s\n",
      "32:\tlearn: 2542.8196933\ttotal: 602ms\tremaining: 1.22s\n",
      "33:\tlearn: 2521.9434812\ttotal: 619ms\tremaining: 1.2s\n",
      "34:\tlearn: 2502.5125911\ttotal: 636ms\tremaining: 1.18s\n",
      "35:\tlearn: 2485.2742238\ttotal: 653ms\tremaining: 1.16s\n",
      "36:\tlearn: 2469.3296989\ttotal: 669ms\tremaining: 1.14s\n",
      "37:\tlearn: 2451.4982769\ttotal: 686ms\tremaining: 1.12s\n",
      "38:\tlearn: 2435.5348951\ttotal: 701ms\tremaining: 1.1s\n",
      "39:\tlearn: 2421.6122535\ttotal: 719ms\tremaining: 1.08s\n",
      "40:\tlearn: 2406.3111026\ttotal: 735ms\tremaining: 1.06s\n",
      "41:\tlearn: 2392.8468440\ttotal: 752ms\tremaining: 1.04s\n",
      "42:\tlearn: 2380.6554889\ttotal: 768ms\tremaining: 1.02s\n",
      "43:\tlearn: 2367.2583029\ttotal: 785ms\tremaining: 998ms\n",
      "44:\tlearn: 2355.8443846\ttotal: 801ms\tremaining: 979ms\n",
      "45:\tlearn: 2343.7125306\ttotal: 817ms\tremaining: 959ms\n",
      "46:\tlearn: 2331.6123119\ttotal: 834ms\tremaining: 941ms\n",
      "47:\tlearn: 2321.1439664\ttotal: 850ms\tremaining: 921ms\n",
      "48:\tlearn: 2310.3495472\ttotal: 867ms\tremaining: 902ms\n",
      "49:\tlearn: 2299.3199889\ttotal: 883ms\tremaining: 883ms\n",
      "50:\tlearn: 2290.2045797\ttotal: 898ms\tremaining: 863ms\n",
      "51:\tlearn: 2280.6235177\ttotal: 914ms\tremaining: 843ms\n",
      "52:\tlearn: 2272.0179874\ttotal: 930ms\tremaining: 825ms\n",
      "53:\tlearn: 2262.4736171\ttotal: 947ms\tremaining: 806ms\n",
      "54:\tlearn: 2253.5476940\ttotal: 961ms\tremaining: 787ms\n",
      "55:\tlearn: 2244.3381222\ttotal: 977ms\tremaining: 768ms\n",
      "56:\tlearn: 2236.6468517\ttotal: 992ms\tremaining: 748ms\n",
      "57:\tlearn: 2228.7163770\ttotal: 1.01s\tremaining: 729ms\n",
      "58:\tlearn: 2220.2490538\ttotal: 1.02s\tremaining: 711ms\n",
      "59:\tlearn: 2213.2775508\ttotal: 1.04s\tremaining: 692ms\n",
      "60:\tlearn: 2206.4218229\ttotal: 1.05s\tremaining: 674ms\n",
      "61:\tlearn: 2199.7878863\ttotal: 1.07s\tremaining: 655ms\n",
      "62:\tlearn: 2192.9752154\ttotal: 1.08s\tremaining: 637ms\n",
      "63:\tlearn: 2186.2833489\ttotal: 1.1s\tremaining: 620ms\n",
      "64:\tlearn: 2180.6817665\ttotal: 1.12s\tremaining: 602ms\n",
      "65:\tlearn: 2175.3368643\ttotal: 1.13s\tremaining: 583ms\n",
      "66:\tlearn: 2169.9687029\ttotal: 1.15s\tremaining: 565ms\n",
      "67:\tlearn: 2164.9133635\ttotal: 1.16s\tremaining: 547ms\n",
      "68:\tlearn: 2160.3187235\ttotal: 1.18s\tremaining: 529ms\n",
      "69:\tlearn: 2154.0241161\ttotal: 1.19s\tremaining: 511ms\n",
      "70:\tlearn: 2148.8047405\ttotal: 1.21s\tremaining: 494ms\n",
      "71:\tlearn: 2143.4401020\ttotal: 1.23s\tremaining: 476ms\n",
      "72:\tlearn: 2138.6448405\ttotal: 1.24s\tremaining: 459ms\n",
      "73:\tlearn: 2134.1764310\ttotal: 1.25s\tremaining: 441ms\n",
      "74:\tlearn: 2130.2361118\ttotal: 1.27s\tremaining: 424ms\n",
      "75:\tlearn: 2125.5516053\ttotal: 1.29s\tremaining: 406ms\n",
      "76:\tlearn: 2118.6509709\ttotal: 1.3s\tremaining: 389ms\n",
      "77:\tlearn: 2114.1891500\ttotal: 1.32s\tremaining: 372ms\n",
      "78:\tlearn: 2109.2386160\ttotal: 1.33s\tremaining: 355ms\n",
      "79:\tlearn: 2103.6477337\ttotal: 1.35s\tremaining: 338ms\n",
      "80:\tlearn: 2099.7207598\ttotal: 1.37s\tremaining: 321ms\n",
      "81:\tlearn: 2096.6787492\ttotal: 1.38s\tremaining: 303ms\n",
      "82:\tlearn: 2092.9751000\ttotal: 1.4s\tremaining: 286ms\n",
      "83:\tlearn: 2089.5810505\ttotal: 1.41s\tremaining: 269ms\n",
      "84:\tlearn: 2086.8006591\ttotal: 1.43s\tremaining: 252ms\n",
      "85:\tlearn: 2083.4712071\ttotal: 1.44s\tremaining: 235ms\n",
      "86:\tlearn: 2080.0754270\ttotal: 1.46s\tremaining: 218ms\n",
      "87:\tlearn: 2076.0971491\ttotal: 1.48s\tremaining: 201ms\n",
      "88:\tlearn: 2072.7731954\ttotal: 1.49s\tremaining: 184ms\n",
      "89:\tlearn: 2069.4886300\ttotal: 1.51s\tremaining: 168ms\n",
      "90:\tlearn: 2065.4439363\ttotal: 1.52s\tremaining: 151ms\n",
      "91:\tlearn: 2062.7080002\ttotal: 1.54s\tremaining: 134ms\n",
      "92:\tlearn: 2059.5325929\ttotal: 1.56s\tremaining: 117ms\n",
      "93:\tlearn: 2056.1953185\ttotal: 1.57s\tremaining: 100ms\n",
      "94:\tlearn: 2052.9042627\ttotal: 1.59s\tremaining: 83.6ms\n",
      "95:\tlearn: 2050.3486805\ttotal: 1.6s\tremaining: 66.8ms\n",
      "96:\tlearn: 2048.1239002\ttotal: 1.62s\tremaining: 50.1ms\n",
      "97:\tlearn: 2045.8729088\ttotal: 1.63s\tremaining: 33.3ms\n",
      "98:\tlearn: 2043.4993253\ttotal: 1.65s\tremaining: 16.7ms\n",
      "99:\tlearn: 2040.9061186\ttotal: 1.66s\tremaining: 0us\n",
      "0:\tlearn: 4459.2933361\ttotal: 16.9ms\tremaining: 1.68s\n",
      "1:\tlearn: 4328.1480557\ttotal: 33.2ms\tremaining: 1.63s\n",
      "2:\tlearn: 4206.1384640\ttotal: 49.5ms\tremaining: 1.6s\n",
      "3:\tlearn: 4091.4342379\ttotal: 66.5ms\tremaining: 1.6s\n",
      "4:\tlearn: 3982.8716490\ttotal: 82.7ms\tremaining: 1.57s\n",
      "5:\tlearn: 3876.1370162\ttotal: 99ms\tremaining: 1.55s\n",
      "6:\tlearn: 3780.1920901\ttotal: 116ms\tremaining: 1.54s\n",
      "7:\tlearn: 3689.2735619\ttotal: 132ms\tremaining: 1.52s\n",
      "8:\tlearn: 3606.2994892\ttotal: 148ms\tremaining: 1.5s\n",
      "9:\tlearn: 3524.2102830\ttotal: 164ms\tremaining: 1.48s\n",
      "10:\tlearn: 3444.5028493\ttotal: 180ms\tremaining: 1.45s\n",
      "11:\tlearn: 3367.9865375\ttotal: 196ms\tremaining: 1.43s\n",
      "12:\tlearn: 3298.1556690\ttotal: 212ms\tremaining: 1.42s\n",
      "13:\tlearn: 3235.9971270\ttotal: 229ms\tremaining: 1.41s\n",
      "14:\tlearn: 3178.2644533\ttotal: 246ms\tremaining: 1.39s\n",
      "15:\tlearn: 3121.1979540\ttotal: 263ms\tremaining: 1.38s\n",
      "16:\tlearn: 3069.0963602\ttotal: 280ms\tremaining: 1.36s\n",
      "17:\tlearn: 3019.5544276\ttotal: 297ms\tremaining: 1.35s\n",
      "18:\tlearn: 2972.3209133\ttotal: 313ms\tremaining: 1.33s\n",
      "19:\tlearn: 2929.1827298\ttotal: 329ms\tremaining: 1.32s\n",
      "20:\tlearn: 2887.8976955\ttotal: 347ms\tremaining: 1.3s\n",
      "21:\tlearn: 2848.9429342\ttotal: 365ms\tremaining: 1.29s\n",
      "22:\tlearn: 2811.2456186\ttotal: 382ms\tremaining: 1.28s\n",
      "23:\tlearn: 2777.9427622\ttotal: 399ms\tremaining: 1.26s\n",
      "24:\tlearn: 2744.7363611\ttotal: 415ms\tremaining: 1.24s\n",
      "25:\tlearn: 2714.0615930\ttotal: 432ms\tremaining: 1.23s\n",
      "26:\tlearn: 2684.7151493\ttotal: 449ms\tremaining: 1.22s\n",
      "27:\tlearn: 2659.1797339\ttotal: 465ms\tremaining: 1.2s\n",
      "28:\tlearn: 2632.2227055\ttotal: 482ms\tremaining: 1.18s\n",
      "29:\tlearn: 2606.1537412\ttotal: 499ms\tremaining: 1.16s\n",
      "30:\tlearn: 2582.5290706\ttotal: 515ms\tremaining: 1.15s\n",
      "31:\tlearn: 2560.9694964\ttotal: 531ms\tremaining: 1.13s\n",
      "32:\tlearn: 2540.6771061\ttotal: 547ms\tremaining: 1.11s\n",
      "33:\tlearn: 2522.1288464\ttotal: 564ms\tremaining: 1.09s\n",
      "34:\tlearn: 2502.2303950\ttotal: 580ms\tremaining: 1.08s\n",
      "35:\tlearn: 2484.9748481\ttotal: 596ms\tremaining: 1.06s\n",
      "36:\tlearn: 2467.5801429\ttotal: 612ms\tremaining: 1.04s\n",
      "37:\tlearn: 2452.5542916\ttotal: 628ms\tremaining: 1.02s\n",
      "38:\tlearn: 2436.0580686\ttotal: 646ms\tremaining: 1.01s\n",
      "39:\tlearn: 2420.9321475\ttotal: 662ms\tremaining: 993ms\n",
      "40:\tlearn: 2407.2881901\ttotal: 678ms\tremaining: 975ms\n",
      "41:\tlearn: 2394.5063184\ttotal: 695ms\tremaining: 960ms\n",
      "42:\tlearn: 2381.7339075\ttotal: 711ms\tremaining: 943ms\n",
      "43:\tlearn: 2367.2931109\ttotal: 730ms\tremaining: 929ms\n",
      "44:\tlearn: 2354.7802903\ttotal: 746ms\tremaining: 912ms\n",
      "45:\tlearn: 2344.2209348\ttotal: 762ms\tremaining: 895ms\n",
      "46:\tlearn: 2333.4355765\ttotal: 779ms\tremaining: 878ms\n",
      "47:\tlearn: 2321.9948148\ttotal: 795ms\tremaining: 861ms\n",
      "48:\tlearn: 2311.1906269\ttotal: 812ms\tremaining: 845ms\n",
      "49:\tlearn: 2301.7660548\ttotal: 832ms\tremaining: 832ms\n",
      "50:\tlearn: 2292.4021602\ttotal: 849ms\tremaining: 816ms\n",
      "51:\tlearn: 2282.5888373\ttotal: 867ms\tremaining: 800ms\n",
      "52:\tlearn: 2273.8227243\ttotal: 883ms\tremaining: 783ms\n",
      "53:\tlearn: 2265.8887322\ttotal: 899ms\tremaining: 766ms\n",
      "54:\tlearn: 2257.0729330\ttotal: 916ms\tremaining: 750ms\n",
      "55:\tlearn: 2249.1001424\ttotal: 933ms\tremaining: 733ms\n",
      "56:\tlearn: 2241.5605613\ttotal: 949ms\tremaining: 716ms\n",
      "57:\tlearn: 2234.2256612\ttotal: 966ms\tremaining: 699ms\n",
      "58:\tlearn: 2226.9503940\ttotal: 981ms\tremaining: 682ms\n",
      "59:\tlearn: 2219.6607863\ttotal: 998ms\tremaining: 665ms\n"
     ]
    },
    {
     "name": "stdout",
     "output_type": "stream",
     "text": [
      "60:\tlearn: 2212.4523107\ttotal: 1.01s\tremaining: 648ms\n",
      "61:\tlearn: 2206.0842367\ttotal: 1.03s\tremaining: 631ms\n",
      "62:\tlearn: 2199.4910815\ttotal: 1.05s\tremaining: 615ms\n",
      "63:\tlearn: 2193.1264341\ttotal: 1.06s\tremaining: 598ms\n",
      "64:\tlearn: 2186.1054681\ttotal: 1.08s\tremaining: 581ms\n",
      "65:\tlearn: 2181.0460965\ttotal: 1.09s\tremaining: 564ms\n",
      "66:\tlearn: 2174.0853647\ttotal: 1.11s\tremaining: 547ms\n",
      "67:\tlearn: 2168.9403742\ttotal: 1.13s\tremaining: 530ms\n",
      "68:\tlearn: 2163.1506267\ttotal: 1.14s\tremaining: 513ms\n",
      "69:\tlearn: 2158.1909646\ttotal: 1.16s\tremaining: 497ms\n",
      "70:\tlearn: 2153.1506507\ttotal: 1.17s\tremaining: 480ms\n",
      "71:\tlearn: 2148.7554890\ttotal: 1.19s\tremaining: 463ms\n",
      "72:\tlearn: 2142.8415135\ttotal: 1.21s\tremaining: 446ms\n",
      "73:\tlearn: 2139.0819694\ttotal: 1.22s\tremaining: 429ms\n",
      "74:\tlearn: 2134.9455766\ttotal: 1.24s\tremaining: 412ms\n",
      "75:\tlearn: 2127.9755571\ttotal: 1.25s\tremaining: 396ms\n",
      "76:\tlearn: 2123.7769691\ttotal: 1.27s\tremaining: 379ms\n",
      "77:\tlearn: 2119.1144106\ttotal: 1.28s\tremaining: 363ms\n",
      "78:\tlearn: 2115.4949281\ttotal: 1.3s\tremaining: 346ms\n",
      "79:\tlearn: 2110.9548270\ttotal: 1.32s\tremaining: 330ms\n",
      "80:\tlearn: 2106.5514408\ttotal: 1.33s\tremaining: 313ms\n",
      "81:\tlearn: 2103.5108690\ttotal: 1.35s\tremaining: 297ms\n",
      "82:\tlearn: 2099.8630471\ttotal: 1.36s\tremaining: 280ms\n",
      "83:\tlearn: 2096.2093554\ttotal: 1.38s\tremaining: 263ms\n",
      "84:\tlearn: 2092.9352770\ttotal: 1.4s\tremaining: 247ms\n",
      "85:\tlearn: 2089.4312374\ttotal: 1.41s\tremaining: 230ms\n",
      "86:\tlearn: 2085.8901660\ttotal: 1.43s\tremaining: 213ms\n",
      "87:\tlearn: 2082.3682436\ttotal: 1.44s\tremaining: 197ms\n",
      "88:\tlearn: 2077.1764344\ttotal: 1.46s\tremaining: 180ms\n",
      "89:\tlearn: 2074.3672363\ttotal: 1.47s\tremaining: 164ms\n",
      "90:\tlearn: 2071.1508506\ttotal: 1.49s\tremaining: 147ms\n",
      "91:\tlearn: 2068.5327024\ttotal: 1.51s\tremaining: 131ms\n",
      "92:\tlearn: 2066.0098442\ttotal: 1.52s\tremaining: 115ms\n",
      "93:\tlearn: 2062.4212137\ttotal: 1.54s\tremaining: 98.3ms\n",
      "94:\tlearn: 2059.8969156\ttotal: 1.56s\tremaining: 81.9ms\n",
      "95:\tlearn: 2057.5659872\ttotal: 1.57s\tremaining: 65.5ms\n",
      "96:\tlearn: 2053.7860346\ttotal: 1.59s\tremaining: 49.1ms\n",
      "97:\tlearn: 2051.6388716\ttotal: 1.6s\tremaining: 32.7ms\n",
      "98:\tlearn: 2049.2364195\ttotal: 1.62s\tremaining: 16.3ms\n",
      "99:\tlearn: 2047.1912607\ttotal: 1.63s\tremaining: 0us\n",
      "0:\tlearn: 4469.0633603\ttotal: 16.9ms\tremaining: 1.67s\n",
      "1:\tlearn: 4340.2399839\ttotal: 32.6ms\tremaining: 1.6s\n",
      "2:\tlearn: 4218.9069322\ttotal: 49.8ms\tremaining: 1.61s\n",
      "3:\tlearn: 4100.3801570\ttotal: 66.6ms\tremaining: 1.6s\n",
      "4:\tlearn: 3992.6151372\ttotal: 82.9ms\tremaining: 1.57s\n",
      "5:\tlearn: 3889.3598854\ttotal: 99.3ms\tremaining: 1.55s\n",
      "6:\tlearn: 3787.3334179\ttotal: 115ms\tremaining: 1.53s\n",
      "7:\tlearn: 3696.1386031\ttotal: 132ms\tremaining: 1.52s\n",
      "8:\tlearn: 3611.5608004\ttotal: 148ms\tremaining: 1.5s\n",
      "9:\tlearn: 3525.5748152\ttotal: 165ms\tremaining: 1.49s\n",
      "10:\tlearn: 3445.5800016\ttotal: 183ms\tremaining: 1.48s\n",
      "11:\tlearn: 3372.0453473\ttotal: 200ms\tremaining: 1.47s\n",
      "12:\tlearn: 3304.2088473\ttotal: 217ms\tremaining: 1.45s\n",
      "13:\tlearn: 3241.0794337\ttotal: 234ms\tremaining: 1.44s\n",
      "14:\tlearn: 3182.6521355\ttotal: 252ms\tremaining: 1.43s\n",
      "15:\tlearn: 3126.4274726\ttotal: 269ms\tremaining: 1.41s\n",
      "16:\tlearn: 3070.8349946\ttotal: 286ms\tremaining: 1.4s\n",
      "17:\tlearn: 3022.9619331\ttotal: 302ms\tremaining: 1.38s\n",
      "18:\tlearn: 2978.7055194\ttotal: 319ms\tremaining: 1.36s\n",
      "19:\tlearn: 2933.5475774\ttotal: 336ms\tremaining: 1.34s\n",
      "20:\tlearn: 2894.2225335\ttotal: 353ms\tremaining: 1.33s\n",
      "21:\tlearn: 2856.8911009\ttotal: 370ms\tremaining: 1.31s\n",
      "22:\tlearn: 2818.5213411\ttotal: 387ms\tremaining: 1.29s\n",
      "23:\tlearn: 2784.2588453\ttotal: 404ms\tremaining: 1.28s\n",
      "24:\tlearn: 2751.1557467\ttotal: 420ms\tremaining: 1.26s\n",
      "25:\tlearn: 2720.2228197\ttotal: 436ms\tremaining: 1.24s\n",
      "26:\tlearn: 2693.5332650\ttotal: 452ms\tremaining: 1.22s\n",
      "27:\tlearn: 2665.8050877\ttotal: 469ms\tremaining: 1.21s\n",
      "28:\tlearn: 2640.6392866\ttotal: 485ms\tremaining: 1.19s\n",
      "29:\tlearn: 2615.1718421\ttotal: 502ms\tremaining: 1.17s\n",
      "30:\tlearn: 2592.5444924\ttotal: 518ms\tremaining: 1.15s\n",
      "31:\tlearn: 2570.9688320\ttotal: 535ms\tremaining: 1.14s\n",
      "32:\tlearn: 2551.6944562\ttotal: 551ms\tremaining: 1.12s\n",
      "33:\tlearn: 2531.8409971\ttotal: 567ms\tremaining: 1.1s\n",
      "34:\tlearn: 2514.0471635\ttotal: 583ms\tremaining: 1.08s\n",
      "35:\tlearn: 2496.0186547\ttotal: 600ms\tremaining: 1.07s\n",
      "36:\tlearn: 2477.4056580\ttotal: 616ms\tremaining: 1.05s\n",
      "37:\tlearn: 2462.5933261\ttotal: 632ms\tremaining: 1.03s\n",
      "38:\tlearn: 2446.3530588\ttotal: 648ms\tremaining: 1.01s\n",
      "39:\tlearn: 2432.1014603\ttotal: 663ms\tremaining: 995ms\n",
      "40:\tlearn: 2415.7426442\ttotal: 679ms\tremaining: 977ms\n",
      "41:\tlearn: 2402.2612672\ttotal: 696ms\tremaining: 962ms\n",
      "42:\tlearn: 2388.8344671\ttotal: 712ms\tremaining: 944ms\n",
      "43:\tlearn: 2376.5597058\ttotal: 729ms\tremaining: 927ms\n",
      "44:\tlearn: 2364.2696492\ttotal: 745ms\tremaining: 911ms\n",
      "45:\tlearn: 2353.2022637\ttotal: 761ms\tremaining: 893ms\n",
      "46:\tlearn: 2342.7772744\ttotal: 776ms\tremaining: 875ms\n",
      "47:\tlearn: 2331.0072294\ttotal: 792ms\tremaining: 858ms\n",
      "48:\tlearn: 2320.6100037\ttotal: 807ms\tremaining: 840ms\n",
      "49:\tlearn: 2310.3226062\ttotal: 823ms\tremaining: 823ms\n",
      "50:\tlearn: 2300.1312131\ttotal: 839ms\tremaining: 806ms\n",
      "51:\tlearn: 2290.9272002\ttotal: 854ms\tremaining: 788ms\n",
      "52:\tlearn: 2282.2305341\ttotal: 869ms\tremaining: 770ms\n",
      "53:\tlearn: 2273.8533368\ttotal: 883ms\tremaining: 752ms\n",
      "54:\tlearn: 2264.9859145\ttotal: 899ms\tremaining: 735ms\n",
      "55:\tlearn: 2255.5329065\ttotal: 914ms\tremaining: 718ms\n",
      "56:\tlearn: 2248.0289926\ttotal: 929ms\tremaining: 701ms\n",
      "57:\tlearn: 2239.8758231\ttotal: 945ms\tremaining: 684ms\n",
      "58:\tlearn: 2232.6474114\ttotal: 959ms\tremaining: 667ms\n",
      "59:\tlearn: 2225.6978740\ttotal: 974ms\tremaining: 650ms\n",
      "60:\tlearn: 2219.2847371\ttotal: 989ms\tremaining: 633ms\n",
      "61:\tlearn: 2212.0952161\ttotal: 1s\tremaining: 616ms\n",
      "62:\tlearn: 2203.0705714\ttotal: 1.02s\tremaining: 600ms\n",
      "63:\tlearn: 2196.5739599\ttotal: 1.04s\tremaining: 583ms\n",
      "64:\tlearn: 2188.4425470\ttotal: 1.05s\tremaining: 566ms\n",
      "65:\tlearn: 2183.1798129\ttotal: 1.07s\tremaining: 549ms\n",
      "66:\tlearn: 2175.0692339\ttotal: 1.08s\tremaining: 533ms\n",
      "67:\tlearn: 2168.7484816\ttotal: 1.1s\tremaining: 517ms\n",
      "68:\tlearn: 2163.8417693\ttotal: 1.11s\tremaining: 500ms\n",
      "69:\tlearn: 2158.7609329\ttotal: 1.13s\tremaining: 483ms\n",
      "70:\tlearn: 2153.3004437\ttotal: 1.14s\tremaining: 467ms\n",
      "71:\tlearn: 2148.1799415\ttotal: 1.16s\tremaining: 450ms\n",
      "72:\tlearn: 2144.0780569\ttotal: 1.17s\tremaining: 434ms\n",
      "73:\tlearn: 2138.2802661\ttotal: 1.19s\tremaining: 417ms\n",
      "74:\tlearn: 2134.2918097\ttotal: 1.2s\tremaining: 401ms\n",
      "75:\tlearn: 2129.8124665\ttotal: 1.22s\tremaining: 384ms\n",
      "76:\tlearn: 2125.0711425\ttotal: 1.23s\tremaining: 368ms\n",
      "77:\tlearn: 2121.1550412\ttotal: 1.25s\tremaining: 352ms\n",
      "78:\tlearn: 2116.1259001\ttotal: 1.26s\tremaining: 336ms\n",
      "79:\tlearn: 2111.7852241\ttotal: 1.28s\tremaining: 319ms\n",
      "80:\tlearn: 2108.6799376\ttotal: 1.29s\tremaining: 303ms\n",
      "81:\tlearn: 2103.9835662\ttotal: 1.31s\tremaining: 287ms\n",
      "82:\tlearn: 2099.7071224\ttotal: 1.32s\tremaining: 271ms\n",
      "83:\tlearn: 2096.4320209\ttotal: 1.34s\tremaining: 255ms\n",
      "84:\tlearn: 2093.5597154\ttotal: 1.35s\tremaining: 238ms\n",
      "85:\tlearn: 2089.0331078\ttotal: 1.37s\tremaining: 222ms\n",
      "86:\tlearn: 2085.8720156\ttotal: 1.38s\tremaining: 206ms\n",
      "87:\tlearn: 2082.2435318\ttotal: 1.4s\tremaining: 190ms\n",
      "88:\tlearn: 2078.8827408\ttotal: 1.41s\tremaining: 174ms\n",
      "89:\tlearn: 2075.1417957\ttotal: 1.43s\tremaining: 159ms\n",
      "90:\tlearn: 2071.2700731\ttotal: 1.44s\tremaining: 143ms\n",
      "91:\tlearn: 2068.6301821\ttotal: 1.46s\tremaining: 127ms\n",
      "92:\tlearn: 2065.4428214\ttotal: 1.47s\tremaining: 111ms\n",
      "93:\tlearn: 2062.5115148\ttotal: 1.49s\tremaining: 95ms\n",
      "94:\tlearn: 2060.3011808\ttotal: 1.51s\tremaining: 79.3ms\n",
      "95:\tlearn: 2057.8434073\ttotal: 1.52s\tremaining: 63.4ms\n",
      "96:\tlearn: 2055.3226730\ttotal: 1.54s\tremaining: 47.5ms\n",
      "97:\tlearn: 2052.7373870\ttotal: 1.55s\tremaining: 31.7ms\n",
      "98:\tlearn: 2050.0000479\ttotal: 1.57s\tremaining: 15.8ms\n",
      "99:\tlearn: 2047.7227292\ttotal: 1.58s\tremaining: 0us\n",
      "0:\tlearn: 4467.0451702\ttotal: 16ms\tremaining: 1.59s\n",
      "1:\tlearn: 4335.2439351\ttotal: 32.9ms\tremaining: 1.61s\n",
      "2:\tlearn: 4213.1931033\ttotal: 49.2ms\tremaining: 1.59s\n",
      "3:\tlearn: 4098.6179950\ttotal: 65.5ms\tremaining: 1.57s\n",
      "4:\tlearn: 3990.4710586\ttotal: 82ms\tremaining: 1.56s\n",
      "5:\tlearn: 3884.0071791\ttotal: 98.8ms\tremaining: 1.55s\n",
      "6:\tlearn: 3788.5654402\ttotal: 115ms\tremaining: 1.53s\n",
      "7:\tlearn: 3693.2555312\ttotal: 131ms\tremaining: 1.51s\n",
      "8:\tlearn: 3604.1897611\ttotal: 147ms\tremaining: 1.49s\n",
      "9:\tlearn: 3523.9840922\ttotal: 164ms\tremaining: 1.48s\n",
      "10:\tlearn: 3444.8320361\ttotal: 180ms\tremaining: 1.46s\n",
      "11:\tlearn: 3370.6599568\ttotal: 197ms\tremaining: 1.44s\n",
      "12:\tlearn: 3300.2920443\ttotal: 213ms\tremaining: 1.43s\n",
      "13:\tlearn: 3238.6345792\ttotal: 230ms\tremaining: 1.41s\n",
      "14:\tlearn: 3178.7620892\ttotal: 247ms\tremaining: 1.4s\n",
      "15:\tlearn: 3121.0470510\ttotal: 264ms\tremaining: 1.38s\n",
      "16:\tlearn: 3066.4313327\ttotal: 281ms\tremaining: 1.37s\n",
      "17:\tlearn: 3018.1815980\ttotal: 299ms\tremaining: 1.36s\n",
      "18:\tlearn: 2972.0207488\ttotal: 317ms\tremaining: 1.35s\n",
      "19:\tlearn: 2929.7264253\ttotal: 335ms\tremaining: 1.34s\n",
      "20:\tlearn: 2889.4859190\ttotal: 352ms\tremaining: 1.32s\n",
      "21:\tlearn: 2849.1426818\ttotal: 379ms\tremaining: 1.34s\n",
      "22:\tlearn: 2812.8852251\ttotal: 399ms\tremaining: 1.33s\n"
     ]
    },
    {
     "name": "stdout",
     "output_type": "stream",
     "text": [
      "23:\tlearn: 2778.2435689\ttotal: 415ms\tremaining: 1.31s\n",
      "24:\tlearn: 2747.7423432\ttotal: 437ms\tremaining: 1.31s\n",
      "25:\tlearn: 2715.7469335\ttotal: 454ms\tremaining: 1.29s\n",
      "26:\tlearn: 2688.4092777\ttotal: 470ms\tremaining: 1.27s\n",
      "27:\tlearn: 2661.8419865\ttotal: 487ms\tremaining: 1.25s\n",
      "28:\tlearn: 2636.3723848\ttotal: 505ms\tremaining: 1.24s\n",
      "29:\tlearn: 2612.1415916\ttotal: 523ms\tremaining: 1.22s\n",
      "30:\tlearn: 2588.0418190\ttotal: 538ms\tremaining: 1.2s\n",
      "31:\tlearn: 2566.0504998\ttotal: 554ms\tremaining: 1.18s\n",
      "32:\tlearn: 2546.6094352\ttotal: 570ms\tremaining: 1.16s\n",
      "33:\tlearn: 2524.8112556\ttotal: 585ms\tremaining: 1.14s\n",
      "34:\tlearn: 2506.1802512\ttotal: 601ms\tremaining: 1.12s\n",
      "35:\tlearn: 2487.1339210\ttotal: 618ms\tremaining: 1.1s\n",
      "36:\tlearn: 2469.6357768\ttotal: 635ms\tremaining: 1.08s\n",
      "37:\tlearn: 2454.1192516\ttotal: 651ms\tremaining: 1.06s\n",
      "38:\tlearn: 2439.1233184\ttotal: 667ms\tremaining: 1.04s\n",
      "39:\tlearn: 2425.1128227\ttotal: 683ms\tremaining: 1.02s\n",
      "40:\tlearn: 2412.0880755\ttotal: 698ms\tremaining: 1s\n",
      "41:\tlearn: 2397.3375376\ttotal: 715ms\tremaining: 987ms\n",
      "42:\tlearn: 2385.1364741\ttotal: 731ms\tremaining: 969ms\n",
      "43:\tlearn: 2371.8161135\ttotal: 747ms\tremaining: 950ms\n",
      "44:\tlearn: 2357.6707067\ttotal: 763ms\tremaining: 933ms\n",
      "45:\tlearn: 2344.7349147\ttotal: 779ms\tremaining: 914ms\n",
      "46:\tlearn: 2333.2649443\ttotal: 794ms\tremaining: 896ms\n",
      "47:\tlearn: 2321.7424017\ttotal: 811ms\tremaining: 878ms\n",
      "48:\tlearn: 2311.7391799\ttotal: 827ms\tremaining: 861ms\n",
      "49:\tlearn: 2301.2058663\ttotal: 842ms\tremaining: 842ms\n",
      "50:\tlearn: 2291.7447469\ttotal: 859ms\tremaining: 825ms\n",
      "51:\tlearn: 2282.1548727\ttotal: 874ms\tremaining: 807ms\n",
      "52:\tlearn: 2273.5604847\ttotal: 890ms\tremaining: 789ms\n",
      "53:\tlearn: 2265.4494163\ttotal: 906ms\tremaining: 772ms\n",
      "54:\tlearn: 2257.5428530\ttotal: 922ms\tremaining: 754ms\n",
      "55:\tlearn: 2249.7167615\ttotal: 938ms\tremaining: 737ms\n",
      "56:\tlearn: 2242.6253820\ttotal: 953ms\tremaining: 719ms\n",
      "57:\tlearn: 2235.3005044\ttotal: 968ms\tremaining: 701ms\n",
      "58:\tlearn: 2226.6771428\ttotal: 983ms\tremaining: 683ms\n",
      "59:\tlearn: 2220.3627006\ttotal: 999ms\tremaining: 666ms\n",
      "60:\tlearn: 2214.1367960\ttotal: 1.01s\tremaining: 648ms\n",
      "61:\tlearn: 2205.1704425\ttotal: 1.03s\tremaining: 632ms\n",
      "62:\tlearn: 2199.5718387\ttotal: 1.04s\tremaining: 614ms\n",
      "63:\tlearn: 2193.6416006\ttotal: 1.06s\tremaining: 598ms\n",
      "64:\tlearn: 2187.4302742\ttotal: 1.08s\tremaining: 581ms\n",
      "65:\tlearn: 2181.1823857\ttotal: 1.09s\tremaining: 564ms\n",
      "66:\tlearn: 2175.5081674\ttotal: 1.11s\tremaining: 547ms\n",
      "67:\tlearn: 2169.8094455\ttotal: 1.12s\tremaining: 529ms\n",
      "68:\tlearn: 2164.2587204\ttotal: 1.14s\tremaining: 512ms\n",
      "69:\tlearn: 2158.0191671\ttotal: 1.16s\tremaining: 496ms\n",
      "70:\tlearn: 2152.6469891\ttotal: 1.17s\tremaining: 479ms\n",
      "71:\tlearn: 2147.6673454\ttotal: 1.19s\tremaining: 462ms\n",
      "72:\tlearn: 2142.6879018\ttotal: 1.2s\tremaining: 445ms\n",
      "73:\tlearn: 2137.8594191\ttotal: 1.22s\tremaining: 428ms\n",
      "74:\tlearn: 2133.6352676\ttotal: 1.23s\tremaining: 411ms\n",
      "75:\tlearn: 2129.7192483\ttotal: 1.25s\tremaining: 394ms\n",
      "76:\tlearn: 2126.1242414\ttotal: 1.26s\tremaining: 378ms\n",
      "77:\tlearn: 2122.6160859\ttotal: 1.28s\tremaining: 361ms\n",
      "78:\tlearn: 2118.1787566\ttotal: 1.29s\tremaining: 344ms\n",
      "79:\tlearn: 2114.5970328\ttotal: 1.31s\tremaining: 328ms\n",
      "80:\tlearn: 2110.7002041\ttotal: 1.33s\tremaining: 312ms\n",
      "81:\tlearn: 2106.5066887\ttotal: 1.35s\tremaining: 296ms\n",
      "82:\tlearn: 2102.6491666\ttotal: 1.36s\tremaining: 279ms\n",
      "83:\tlearn: 2097.1287829\ttotal: 1.38s\tremaining: 263ms\n",
      "84:\tlearn: 2092.7998185\ttotal: 1.4s\tremaining: 246ms\n",
      "85:\tlearn: 2088.8320983\ttotal: 1.41s\tremaining: 230ms\n",
      "86:\tlearn: 2085.3230015\ttotal: 1.43s\tremaining: 214ms\n",
      "87:\tlearn: 2081.9110635\ttotal: 1.45s\tremaining: 197ms\n",
      "88:\tlearn: 2079.2598503\ttotal: 1.46s\tremaining: 181ms\n",
      "89:\tlearn: 2075.2855543\ttotal: 1.48s\tremaining: 164ms\n",
      "90:\tlearn: 2071.4696373\ttotal: 1.5s\tremaining: 148ms\n",
      "91:\tlearn: 2068.8641476\ttotal: 1.51s\tremaining: 132ms\n",
      "92:\tlearn: 2066.2747829\ttotal: 1.53s\tremaining: 115ms\n",
      "93:\tlearn: 2063.8034320\ttotal: 1.54s\tremaining: 98.5ms\n",
      "94:\tlearn: 2059.3498952\ttotal: 1.56s\tremaining: 82.1ms\n",
      "95:\tlearn: 2055.8753755\ttotal: 1.57s\tremaining: 65.6ms\n",
      "96:\tlearn: 2052.7021485\ttotal: 1.59s\tremaining: 49.2ms\n",
      "97:\tlearn: 2048.8983526\ttotal: 1.61s\tremaining: 32.8ms\n",
      "98:\tlearn: 2046.7776849\ttotal: 1.62s\tremaining: 16.4ms\n",
      "99:\tlearn: 2043.6580296\ttotal: 1.64s\tremaining: 0us\n",
      "0:\tlearn: 4470.1786363\ttotal: 16.3ms\tremaining: 1.62s\n",
      "1:\tlearn: 4340.7851155\ttotal: 32.7ms\tremaining: 1.6s\n",
      "2:\tlearn: 4213.2432292\ttotal: 48.9ms\tremaining: 1.58s\n",
      "3:\tlearn: 4098.1283723\ttotal: 64.9ms\tremaining: 1.56s\n",
      "4:\tlearn: 3988.0173056\ttotal: 81.6ms\tremaining: 1.55s\n",
      "5:\tlearn: 3885.7128703\ttotal: 97.6ms\tremaining: 1.53s\n",
      "6:\tlearn: 3791.8983898\ttotal: 114ms\tremaining: 1.51s\n",
      "7:\tlearn: 3701.6522590\ttotal: 131ms\tremaining: 1.51s\n",
      "8:\tlearn: 3612.4892448\ttotal: 147ms\tremaining: 1.48s\n",
      "9:\tlearn: 3530.2701429\ttotal: 164ms\tremaining: 1.47s\n",
      "10:\tlearn: 3454.7771883\ttotal: 180ms\tremaining: 1.45s\n",
      "11:\tlearn: 3382.4207508\ttotal: 197ms\tremaining: 1.44s\n",
      "12:\tlearn: 3311.6499162\ttotal: 215ms\tremaining: 1.44s\n",
      "13:\tlearn: 3249.2215689\ttotal: 232ms\tremaining: 1.42s\n",
      "14:\tlearn: 3186.9823873\ttotal: 248ms\tremaining: 1.41s\n",
      "15:\tlearn: 3130.5467616\ttotal: 265ms\tremaining: 1.39s\n",
      "16:\tlearn: 3075.1746866\ttotal: 282ms\tremaining: 1.38s\n",
      "17:\tlearn: 3028.0071280\ttotal: 298ms\tremaining: 1.36s\n",
      "18:\tlearn: 2981.0400917\ttotal: 315ms\tremaining: 1.34s\n",
      "19:\tlearn: 2935.8567747\ttotal: 332ms\tremaining: 1.33s\n",
      "20:\tlearn: 2892.2648610\ttotal: 349ms\tremaining: 1.31s\n",
      "21:\tlearn: 2853.1611792\ttotal: 366ms\tremaining: 1.3s\n",
      "22:\tlearn: 2816.7923168\ttotal: 382ms\tremaining: 1.28s\n",
      "23:\tlearn: 2783.3048847\ttotal: 398ms\tremaining: 1.26s\n",
      "24:\tlearn: 2751.8076485\ttotal: 415ms\tremaining: 1.24s\n",
      "25:\tlearn: 2721.0815347\ttotal: 430ms\tremaining: 1.22s\n",
      "26:\tlearn: 2692.9377886\ttotal: 448ms\tremaining: 1.21s\n",
      "27:\tlearn: 2667.4167545\ttotal: 464ms\tremaining: 1.19s\n",
      "28:\tlearn: 2642.8514747\ttotal: 479ms\tremaining: 1.17s\n",
      "29:\tlearn: 2618.4865650\ttotal: 496ms\tremaining: 1.16s\n",
      "30:\tlearn: 2594.9834825\ttotal: 512ms\tremaining: 1.14s\n",
      "31:\tlearn: 2573.6916736\ttotal: 529ms\tremaining: 1.12s\n",
      "32:\tlearn: 2553.6741084\ttotal: 544ms\tremaining: 1.1s\n",
      "33:\tlearn: 2531.5012045\ttotal: 560ms\tremaining: 1.09s\n",
      "34:\tlearn: 2512.9512315\ttotal: 581ms\tremaining: 1.08s\n",
      "35:\tlearn: 2495.9171518\ttotal: 604ms\tremaining: 1.07s\n",
      "36:\tlearn: 2479.6549910\ttotal: 622ms\tremaining: 1.06s\n",
      "37:\tlearn: 2464.7868655\ttotal: 638ms\tremaining: 1.04s\n",
      "38:\tlearn: 2449.6054861\ttotal: 657ms\tremaining: 1.03s\n",
      "39:\tlearn: 2432.6301207\ttotal: 673ms\tremaining: 1.01s\n",
      "40:\tlearn: 2418.9027534\ttotal: 689ms\tremaining: 991ms\n",
      "41:\tlearn: 2403.9878922\ttotal: 704ms\tremaining: 973ms\n",
      "42:\tlearn: 2389.9765700\ttotal: 720ms\tremaining: 955ms\n",
      "43:\tlearn: 2377.8999030\ttotal: 736ms\tremaining: 937ms\n",
      "44:\tlearn: 2364.3588804\ttotal: 751ms\tremaining: 918ms\n",
      "45:\tlearn: 2352.1899479\ttotal: 767ms\tremaining: 900ms\n",
      "46:\tlearn: 2340.9977228\ttotal: 782ms\tremaining: 882ms\n",
      "47:\tlearn: 2330.9952166\ttotal: 798ms\tremaining: 865ms\n",
      "48:\tlearn: 2319.4442289\ttotal: 814ms\tremaining: 847ms\n",
      "49:\tlearn: 2308.5861568\ttotal: 830ms\tremaining: 830ms\n",
      "50:\tlearn: 2299.1515512\ttotal: 846ms\tremaining: 813ms\n",
      "51:\tlearn: 2289.3744739\ttotal: 862ms\tremaining: 795ms\n",
      "52:\tlearn: 2280.5406292\ttotal: 877ms\tremaining: 778ms\n",
      "53:\tlearn: 2272.1963664\ttotal: 893ms\tremaining: 761ms\n",
      "54:\tlearn: 2263.6209904\ttotal: 908ms\tremaining: 743ms\n",
      "55:\tlearn: 2252.9130122\ttotal: 925ms\tremaining: 726ms\n",
      "56:\tlearn: 2244.3344162\ttotal: 940ms\tremaining: 709ms\n",
      "57:\tlearn: 2237.1741367\ttotal: 956ms\tremaining: 692ms\n",
      "58:\tlearn: 2229.2069345\ttotal: 972ms\tremaining: 675ms\n",
      "59:\tlearn: 2222.0556377\ttotal: 987ms\tremaining: 658ms\n",
      "60:\tlearn: 2214.8310028\ttotal: 1s\tremaining: 642ms\n",
      "61:\tlearn: 2207.8713329\ttotal: 1.02s\tremaining: 625ms\n",
      "62:\tlearn: 2200.5877386\ttotal: 1.04s\tremaining: 611ms\n",
      "63:\tlearn: 2194.8108073\ttotal: 1.06s\tremaining: 594ms\n",
      "64:\tlearn: 2188.2227187\ttotal: 1.07s\tremaining: 578ms\n",
      "65:\tlearn: 2182.6080929\ttotal: 1.09s\tremaining: 561ms\n",
      "66:\tlearn: 2177.2374570\ttotal: 1.1s\tremaining: 544ms\n",
      "67:\tlearn: 2171.7325773\ttotal: 1.12s\tremaining: 527ms\n",
      "68:\tlearn: 2165.2298947\ttotal: 1.14s\tremaining: 510ms\n",
      "69:\tlearn: 2159.1224728\ttotal: 1.15s\tremaining: 493ms\n",
      "70:\tlearn: 2153.9465694\ttotal: 1.17s\tremaining: 477ms\n",
      "71:\tlearn: 2149.4250245\ttotal: 1.18s\tremaining: 460ms\n",
      "72:\tlearn: 2143.5895655\ttotal: 1.2s\tremaining: 443ms\n",
      "73:\tlearn: 2139.3933031\ttotal: 1.21s\tremaining: 426ms\n",
      "74:\tlearn: 2135.6158339\ttotal: 1.23s\tremaining: 410ms\n",
      "75:\tlearn: 2131.0207989\ttotal: 1.24s\tremaining: 393ms\n",
      "76:\tlearn: 2127.6482500\ttotal: 1.26s\tremaining: 377ms\n",
      "77:\tlearn: 2123.6067087\ttotal: 1.27s\tremaining: 360ms\n",
      "78:\tlearn: 2118.2274090\ttotal: 1.29s\tremaining: 343ms\n",
      "79:\tlearn: 2115.1657116\ttotal: 1.3s\tremaining: 326ms\n",
      "80:\tlearn: 2111.6923606\ttotal: 1.32s\tremaining: 310ms\n",
      "81:\tlearn: 2107.7680428\ttotal: 1.34s\tremaining: 293ms\n",
      "82:\tlearn: 2103.2910845\ttotal: 1.35s\tremaining: 277ms\n",
      "83:\tlearn: 2098.7502170\ttotal: 1.37s\tremaining: 261ms\n",
      "84:\tlearn: 2095.4339391\ttotal: 1.38s\tremaining: 244ms\n",
      "85:\tlearn: 2091.1606039\ttotal: 1.4s\tremaining: 228ms\n",
      "86:\tlearn: 2087.7745679\ttotal: 1.42s\tremaining: 212ms\n",
      "87:\tlearn: 2085.0455757\ttotal: 1.43s\tremaining: 195ms\n"
     ]
    },
    {
     "name": "stdout",
     "output_type": "stream",
     "text": [
      "88:\tlearn: 2081.5174957\ttotal: 1.45s\tremaining: 179ms\n",
      "89:\tlearn: 2078.2030459\ttotal: 1.46s\tremaining: 162ms\n",
      "90:\tlearn: 2075.3067693\ttotal: 1.48s\tremaining: 146ms\n",
      "91:\tlearn: 2071.6829455\ttotal: 1.49s\tremaining: 130ms\n",
      "92:\tlearn: 2068.5581443\ttotal: 1.51s\tremaining: 113ms\n",
      "93:\tlearn: 2064.1261630\ttotal: 1.53s\tremaining: 97.4ms\n",
      "94:\tlearn: 2061.0286767\ttotal: 1.54s\tremaining: 81.1ms\n",
      "95:\tlearn: 2058.7843004\ttotal: 1.55s\tremaining: 64.8ms\n",
      "96:\tlearn: 2055.9992114\ttotal: 1.57s\tremaining: 48.6ms\n",
      "97:\tlearn: 2053.9690149\ttotal: 1.58s\tremaining: 32.3ms\n",
      "98:\tlearn: 2051.5029980\ttotal: 1.6s\tremaining: 16.2ms\n",
      "99:\tlearn: 2048.6795640\ttotal: 1.61s\tremaining: 0us\n",
      "0:\tlearn: 2833.1766088\ttotal: 16.4ms\tremaining: 1.62s\n",
      "1:\tlearn: 2586.9503699\ttotal: 32.1ms\tremaining: 1.57s\n",
      "2:\tlearn: 2430.9235683\ttotal: 57.2ms\tremaining: 1.85s\n",
      "3:\tlearn: 2329.7578730\ttotal: 74ms\tremaining: 1.78s\n",
      "4:\tlearn: 2224.1608403\ttotal: 91ms\tremaining: 1.73s\n",
      "5:\tlearn: 2128.5006516\ttotal: 107ms\tremaining: 1.68s\n",
      "6:\tlearn: 2079.1885678\ttotal: 122ms\tremaining: 1.62s\n",
      "7:\tlearn: 2048.4914115\ttotal: 140ms\tremaining: 1.61s\n",
      "8:\tlearn: 2026.2735705\ttotal: 156ms\tremaining: 1.58s\n",
      "9:\tlearn: 2010.3598375\ttotal: 171ms\tremaining: 1.54s\n",
      "10:\tlearn: 1978.1883266\ttotal: 187ms\tremaining: 1.51s\n",
      "11:\tlearn: 1964.1086313\ttotal: 201ms\tremaining: 1.47s\n",
      "12:\tlearn: 1952.5309692\ttotal: 215ms\tremaining: 1.44s\n",
      "13:\tlearn: 1939.1188462\ttotal: 234ms\tremaining: 1.44s\n",
      "14:\tlearn: 1925.7632137\ttotal: 250ms\tremaining: 1.42s\n",
      "15:\tlearn: 1909.5438397\ttotal: 265ms\tremaining: 1.39s\n",
      "16:\tlearn: 1899.0368685\ttotal: 281ms\tremaining: 1.37s\n",
      "17:\tlearn: 1891.2434651\ttotal: 296ms\tremaining: 1.35s\n",
      "18:\tlearn: 1884.6365606\ttotal: 310ms\tremaining: 1.32s\n",
      "19:\tlearn: 1873.0651132\ttotal: 327ms\tremaining: 1.31s\n",
      "20:\tlearn: 1865.0432430\ttotal: 343ms\tremaining: 1.29s\n",
      "21:\tlearn: 1857.5408675\ttotal: 358ms\tremaining: 1.27s\n",
      "22:\tlearn: 1851.7343532\ttotal: 373ms\tremaining: 1.25s\n",
      "23:\tlearn: 1842.5447010\ttotal: 388ms\tremaining: 1.23s\n",
      "24:\tlearn: 1834.0378459\ttotal: 405ms\tremaining: 1.21s\n",
      "25:\tlearn: 1829.8293205\ttotal: 424ms\tremaining: 1.21s\n",
      "26:\tlearn: 1824.0452499\ttotal: 440ms\tremaining: 1.19s\n",
      "27:\tlearn: 1820.2751026\ttotal: 459ms\tremaining: 1.18s\n",
      "28:\tlearn: 1814.9131519\ttotal: 475ms\tremaining: 1.16s\n",
      "29:\tlearn: 1808.8259729\ttotal: 497ms\tremaining: 1.16s\n",
      "30:\tlearn: 1802.7784297\ttotal: 520ms\tremaining: 1.16s\n",
      "31:\tlearn: 1798.5962253\ttotal: 538ms\tremaining: 1.14s\n",
      "32:\tlearn: 1795.4592769\ttotal: 552ms\tremaining: 1.12s\n",
      "33:\tlearn: 1792.1314387\ttotal: 567ms\tremaining: 1.1s\n",
      "34:\tlearn: 1788.4057479\ttotal: 583ms\tremaining: 1.08s\n",
      "35:\tlearn: 1785.1272189\ttotal: 606ms\tremaining: 1.08s\n",
      "36:\tlearn: 1782.8080258\ttotal: 629ms\tremaining: 1.07s\n",
      "37:\tlearn: 1778.8453057\ttotal: 652ms\tremaining: 1.06s\n",
      "38:\tlearn: 1774.5406147\ttotal: 670ms\tremaining: 1.05s\n",
      "39:\tlearn: 1770.5293025\ttotal: 687ms\tremaining: 1.03s\n",
      "40:\tlearn: 1767.7241255\ttotal: 703ms\tremaining: 1.01s\n",
      "41:\tlearn: 1764.4121083\ttotal: 719ms\tremaining: 993ms\n",
      "42:\tlearn: 1761.3200806\ttotal: 734ms\tremaining: 974ms\n",
      "43:\tlearn: 1757.3496128\ttotal: 750ms\tremaining: 954ms\n",
      "44:\tlearn: 1755.6741412\ttotal: 764ms\tremaining: 934ms\n",
      "45:\tlearn: 1752.1401439\ttotal: 780ms\tremaining: 916ms\n",
      "46:\tlearn: 1750.0236582\ttotal: 795ms\tremaining: 896ms\n",
      "47:\tlearn: 1746.2971079\ttotal: 811ms\tremaining: 879ms\n",
      "48:\tlearn: 1743.3122288\ttotal: 826ms\tremaining: 860ms\n",
      "49:\tlearn: 1741.6678305\ttotal: 841ms\tremaining: 841ms\n",
      "50:\tlearn: 1739.9006870\ttotal: 855ms\tremaining: 822ms\n",
      "51:\tlearn: 1737.4964854\ttotal: 877ms\tremaining: 810ms\n",
      "52:\tlearn: 1734.9443622\ttotal: 900ms\tremaining: 798ms\n",
      "53:\tlearn: 1733.5501867\ttotal: 916ms\tremaining: 780ms\n",
      "54:\tlearn: 1732.7038400\ttotal: 930ms\tremaining: 761ms\n",
      "55:\tlearn: 1730.5715829\ttotal: 945ms\tremaining: 742ms\n",
      "56:\tlearn: 1729.1975606\ttotal: 960ms\tremaining: 724ms\n",
      "57:\tlearn: 1726.9870887\ttotal: 974ms\tremaining: 706ms\n",
      "58:\tlearn: 1725.2237400\ttotal: 990ms\tremaining: 688ms\n",
      "59:\tlearn: 1722.3800924\ttotal: 1s\tremaining: 671ms\n",
      "60:\tlearn: 1720.1558292\ttotal: 1.02s\tremaining: 653ms\n",
      "61:\tlearn: 1719.0891166\ttotal: 1.04s\tremaining: 635ms\n",
      "62:\tlearn: 1716.0206473\ttotal: 1.05s\tremaining: 618ms\n",
      "63:\tlearn: 1714.0872584\ttotal: 1.07s\tremaining: 600ms\n",
      "64:\tlearn: 1711.7581880\ttotal: 1.08s\tremaining: 583ms\n",
      "65:\tlearn: 1710.1401510\ttotal: 1.1s\tremaining: 565ms\n",
      "66:\tlearn: 1708.4796444\ttotal: 1.11s\tremaining: 548ms\n",
      "67:\tlearn: 1706.0263077\ttotal: 1.13s\tremaining: 531ms\n",
      "68:\tlearn: 1703.6090999\ttotal: 1.14s\tremaining: 514ms\n",
      "69:\tlearn: 1700.9194616\ttotal: 1.16s\tremaining: 496ms\n",
      "70:\tlearn: 1698.7664396\ttotal: 1.17s\tremaining: 479ms\n",
      "71:\tlearn: 1696.9279794\ttotal: 1.19s\tremaining: 462ms\n",
      "72:\tlearn: 1693.9157119\ttotal: 1.2s\tremaining: 445ms\n",
      "73:\tlearn: 1692.4949581\ttotal: 1.22s\tremaining: 428ms\n",
      "74:\tlearn: 1691.6805670\ttotal: 1.23s\tremaining: 411ms\n",
      "75:\tlearn: 1690.1645777\ttotal: 1.25s\tremaining: 394ms\n",
      "76:\tlearn: 1687.3010545\ttotal: 1.26s\tremaining: 377ms\n",
      "77:\tlearn: 1685.3730960\ttotal: 1.28s\tremaining: 361ms\n",
      "78:\tlearn: 1684.3506242\ttotal: 1.29s\tremaining: 344ms\n",
      "79:\tlearn: 1683.2744162\ttotal: 1.31s\tremaining: 327ms\n",
      "80:\tlearn: 1681.4655923\ttotal: 1.32s\tremaining: 311ms\n",
      "81:\tlearn: 1680.1700150\ttotal: 1.34s\tremaining: 294ms\n",
      "82:\tlearn: 1679.1065953\ttotal: 1.35s\tremaining: 278ms\n",
      "83:\tlearn: 1677.8819754\ttotal: 1.37s\tremaining: 261ms\n",
      "84:\tlearn: 1677.0109096\ttotal: 1.39s\tremaining: 245ms\n",
      "85:\tlearn: 1675.8452829\ttotal: 1.4s\tremaining: 228ms\n",
      "86:\tlearn: 1674.5191477\ttotal: 1.42s\tremaining: 212ms\n",
      "87:\tlearn: 1672.6605949\ttotal: 1.43s\tremaining: 195ms\n",
      "88:\tlearn: 1671.7820321\ttotal: 1.45s\tremaining: 179ms\n",
      "89:\tlearn: 1669.6933916\ttotal: 1.46s\tremaining: 162ms\n",
      "90:\tlearn: 1668.4072946\ttotal: 1.48s\tremaining: 146ms\n",
      "91:\tlearn: 1666.6848531\ttotal: 1.49s\tremaining: 130ms\n",
      "92:\tlearn: 1665.2626557\ttotal: 1.51s\tremaining: 113ms\n",
      "93:\tlearn: 1664.1945528\ttotal: 1.52s\tremaining: 97.1ms\n",
      "94:\tlearn: 1663.1786939\ttotal: 1.53s\tremaining: 80.8ms\n",
      "95:\tlearn: 1662.0228922\ttotal: 1.55s\tremaining: 64.6ms\n",
      "96:\tlearn: 1661.3078023\ttotal: 1.56s\tremaining: 48.4ms\n",
      "97:\tlearn: 1659.9092974\ttotal: 1.58s\tremaining: 32.3ms\n",
      "98:\tlearn: 1658.1216235\ttotal: 1.6s\tremaining: 16.1ms\n",
      "99:\tlearn: 1656.7227225\ttotal: 1.61s\tremaining: 0us\n",
      "0:\tlearn: 2871.9146507\ttotal: 16.4ms\tremaining: 1.62s\n",
      "1:\tlearn: 2625.9676657\ttotal: 32ms\tremaining: 1.57s\n",
      "2:\tlearn: 2465.7994947\ttotal: 48.6ms\tremaining: 1.57s\n",
      "3:\tlearn: 2339.3240219\ttotal: 66.1ms\tremaining: 1.58s\n",
      "4:\tlearn: 2281.3191781\ttotal: 82.3ms\tremaining: 1.56s\n",
      "5:\tlearn: 2194.0838499\ttotal: 98.6ms\tremaining: 1.54s\n",
      "6:\tlearn: 2143.4096644\ttotal: 115ms\tremaining: 1.53s\n",
      "7:\tlearn: 2102.9259664\ttotal: 130ms\tremaining: 1.5s\n",
      "8:\tlearn: 2066.8320292\ttotal: 146ms\tremaining: 1.48s\n",
      "9:\tlearn: 2051.6275697\ttotal: 160ms\tremaining: 1.44s\n",
      "10:\tlearn: 2021.9997816\ttotal: 175ms\tremaining: 1.42s\n",
      "11:\tlearn: 2007.2070597\ttotal: 191ms\tremaining: 1.4s\n",
      "12:\tlearn: 1985.5572626\ttotal: 207ms\tremaining: 1.39s\n",
      "13:\tlearn: 1974.3374318\ttotal: 223ms\tremaining: 1.37s\n",
      "14:\tlearn: 1965.5353650\ttotal: 238ms\tremaining: 1.35s\n",
      "15:\tlearn: 1957.3338269\ttotal: 254ms\tremaining: 1.33s\n",
      "16:\tlearn: 1940.7187576\ttotal: 270ms\tremaining: 1.31s\n",
      "17:\tlearn: 1928.7374001\ttotal: 286ms\tremaining: 1.3s\n",
      "18:\tlearn: 1915.1364503\ttotal: 303ms\tremaining: 1.29s\n",
      "19:\tlearn: 1899.0590491\ttotal: 319ms\tremaining: 1.27s\n",
      "20:\tlearn: 1888.1732476\ttotal: 335ms\tremaining: 1.26s\n",
      "21:\tlearn: 1881.8192733\ttotal: 349ms\tremaining: 1.24s\n",
      "22:\tlearn: 1873.1756761\ttotal: 363ms\tremaining: 1.22s\n",
      "23:\tlearn: 1868.3545674\ttotal: 377ms\tremaining: 1.19s\n",
      "24:\tlearn: 1862.2952702\ttotal: 392ms\tremaining: 1.18s\n",
      "25:\tlearn: 1854.0593314\ttotal: 408ms\tremaining: 1.16s\n",
      "26:\tlearn: 1849.6628331\ttotal: 423ms\tremaining: 1.14s\n",
      "27:\tlearn: 1842.3107864\ttotal: 441ms\tremaining: 1.13s\n",
      "28:\tlearn: 1834.8171513\ttotal: 457ms\tremaining: 1.12s\n",
      "29:\tlearn: 1829.8035969\ttotal: 473ms\tremaining: 1.1s\n",
      "30:\tlearn: 1824.8860028\ttotal: 489ms\tremaining: 1.09s\n",
      "31:\tlearn: 1820.6952330\ttotal: 505ms\tremaining: 1.07s\n",
      "32:\tlearn: 1816.5526615\ttotal: 520ms\tremaining: 1.06s\n",
      "33:\tlearn: 1813.5271609\ttotal: 536ms\tremaining: 1.04s\n",
      "34:\tlearn: 1810.7623516\ttotal: 551ms\tremaining: 1.02s\n",
      "35:\tlearn: 1806.9326594\ttotal: 567ms\tremaining: 1.01s\n",
      "36:\tlearn: 1803.4224808\ttotal: 583ms\tremaining: 992ms\n",
      "37:\tlearn: 1798.1654194\ttotal: 598ms\tremaining: 975ms\n",
      "38:\tlearn: 1795.3051949\ttotal: 611ms\tremaining: 956ms\n",
      "39:\tlearn: 1791.6377544\ttotal: 626ms\tremaining: 940ms\n",
      "40:\tlearn: 1788.7980988\ttotal: 641ms\tremaining: 922ms\n",
      "41:\tlearn: 1786.2518705\ttotal: 656ms\tremaining: 906ms\n",
      "42:\tlearn: 1784.4078197\ttotal: 672ms\tremaining: 890ms\n",
      "43:\tlearn: 1780.2479646\ttotal: 687ms\tremaining: 875ms\n",
      "44:\tlearn: 1777.0257931\ttotal: 703ms\tremaining: 859ms\n",
      "45:\tlearn: 1773.1479273\ttotal: 718ms\tremaining: 843ms\n",
      "46:\tlearn: 1769.7702791\ttotal: 734ms\tremaining: 827ms\n",
      "47:\tlearn: 1765.2169683\ttotal: 750ms\tremaining: 812ms\n",
      "48:\tlearn: 1762.7396541\ttotal: 764ms\tremaining: 795ms\n",
      "49:\tlearn: 1760.7511370\ttotal: 779ms\tremaining: 779ms\n",
      "50:\tlearn: 1758.2613730\ttotal: 795ms\tremaining: 764ms\n",
      "51:\tlearn: 1756.5567460\ttotal: 810ms\tremaining: 748ms\n"
     ]
    },
    {
     "name": "stdout",
     "output_type": "stream",
     "text": [
      "52:\tlearn: 1754.4671426\ttotal: 826ms\tremaining: 733ms\n",
      "53:\tlearn: 1753.0016413\ttotal: 841ms\tremaining: 716ms\n",
      "54:\tlearn: 1750.1774076\ttotal: 856ms\tremaining: 700ms\n",
      "55:\tlearn: 1747.1545290\ttotal: 872ms\tremaining: 685ms\n",
      "56:\tlearn: 1743.7387886\ttotal: 887ms\tremaining: 669ms\n",
      "57:\tlearn: 1741.2841777\ttotal: 902ms\tremaining: 654ms\n",
      "58:\tlearn: 1739.0804538\ttotal: 917ms\tremaining: 637ms\n",
      "59:\tlearn: 1736.4826412\ttotal: 932ms\tremaining: 621ms\n",
      "60:\tlearn: 1733.2777088\ttotal: 947ms\tremaining: 606ms\n",
      "61:\tlearn: 1730.4660471\ttotal: 962ms\tremaining: 590ms\n",
      "62:\tlearn: 1728.9037863\ttotal: 977ms\tremaining: 574ms\n",
      "63:\tlearn: 1728.0709648\ttotal: 992ms\tremaining: 558ms\n",
      "64:\tlearn: 1726.2387185\ttotal: 1.01s\tremaining: 542ms\n",
      "65:\tlearn: 1724.5090360\ttotal: 1.02s\tremaining: 526ms\n",
      "66:\tlearn: 1722.4441809\ttotal: 1.04s\tremaining: 511ms\n",
      "67:\tlearn: 1720.6700004\ttotal: 1.05s\tremaining: 496ms\n",
      "68:\tlearn: 1719.3234905\ttotal: 1.07s\tremaining: 480ms\n",
      "69:\tlearn: 1717.8248496\ttotal: 1.08s\tremaining: 465ms\n",
      "70:\tlearn: 1715.4020113\ttotal: 1.1s\tremaining: 449ms\n",
      "71:\tlearn: 1711.8507886\ttotal: 1.12s\tremaining: 434ms\n",
      "72:\tlearn: 1709.0313649\ttotal: 1.13s\tremaining: 418ms\n",
      "73:\tlearn: 1707.2561980\ttotal: 1.15s\tremaining: 402ms\n",
      "74:\tlearn: 1705.8161674\ttotal: 1.16s\tremaining: 387ms\n",
      "75:\tlearn: 1704.8573668\ttotal: 1.18s\tremaining: 371ms\n",
      "76:\tlearn: 1702.7062608\ttotal: 1.19s\tremaining: 356ms\n",
      "77:\tlearn: 1701.5024859\ttotal: 1.2s\tremaining: 340ms\n",
      "78:\tlearn: 1700.4776295\ttotal: 1.22s\tremaining: 324ms\n",
      "79:\tlearn: 1698.8150945\ttotal: 1.24s\tremaining: 309ms\n",
      "80:\tlearn: 1697.9366917\ttotal: 1.25s\tremaining: 293ms\n",
      "81:\tlearn: 1696.8467696\ttotal: 1.27s\tremaining: 278ms\n",
      "82:\tlearn: 1695.9663307\ttotal: 1.29s\tremaining: 264ms\n",
      "83:\tlearn: 1694.6027618\ttotal: 1.3s\tremaining: 249ms\n",
      "84:\tlearn: 1692.8180386\ttotal: 1.32s\tremaining: 233ms\n",
      "85:\tlearn: 1692.1145931\ttotal: 1.33s\tremaining: 217ms\n",
      "86:\tlearn: 1690.2950900\ttotal: 1.35s\tremaining: 202ms\n",
      "87:\tlearn: 1688.4954216\ttotal: 1.36s\tremaining: 186ms\n",
      "88:\tlearn: 1686.3898838\ttotal: 1.38s\tremaining: 171ms\n",
      "89:\tlearn: 1684.7899768\ttotal: 1.39s\tremaining: 155ms\n",
      "90:\tlearn: 1683.4541278\ttotal: 1.41s\tremaining: 139ms\n",
      "91:\tlearn: 1682.3871266\ttotal: 1.43s\tremaining: 124ms\n",
      "92:\tlearn: 1680.6175591\ttotal: 1.44s\tremaining: 109ms\n",
      "93:\tlearn: 1679.2999799\ttotal: 1.46s\tremaining: 93.4ms\n",
      "94:\tlearn: 1677.5880751\ttotal: 1.48s\tremaining: 77.8ms\n",
      "95:\tlearn: 1676.0263358\ttotal: 1.49s\tremaining: 62.2ms\n",
      "96:\tlearn: 1674.6727435\ttotal: 1.51s\tremaining: 46.7ms\n",
      "97:\tlearn: 1673.9967442\ttotal: 1.52s\tremaining: 31.1ms\n",
      "98:\tlearn: 1672.2277929\ttotal: 1.54s\tremaining: 15.6ms\n",
      "99:\tlearn: 1671.1255206\ttotal: 1.57s\tremaining: 0us\n",
      "0:\tlearn: 2863.5887832\ttotal: 16.7ms\tremaining: 1.65s\n",
      "1:\tlearn: 2592.2811793\ttotal: 32.5ms\tremaining: 1.59s\n",
      "2:\tlearn: 2414.2257825\ttotal: 48.2ms\tremaining: 1.56s\n",
      "3:\tlearn: 2282.0368692\ttotal: 64.2ms\tremaining: 1.54s\n",
      "4:\tlearn: 2180.6656786\ttotal: 81.3ms\tremaining: 1.54s\n",
      "5:\tlearn: 2119.5612760\ttotal: 97.6ms\tremaining: 1.53s\n",
      "6:\tlearn: 2087.5441861\ttotal: 115ms\tremaining: 1.53s\n",
      "7:\tlearn: 2060.0011777\ttotal: 131ms\tremaining: 1.51s\n",
      "8:\tlearn: 2045.1401115\ttotal: 146ms\tremaining: 1.47s\n",
      "9:\tlearn: 2023.6100600\ttotal: 162ms\tremaining: 1.46s\n",
      "10:\tlearn: 2002.2569410\ttotal: 178ms\tremaining: 1.44s\n",
      "11:\tlearn: 1985.9972246\ttotal: 194ms\tremaining: 1.42s\n",
      "12:\tlearn: 1972.3052108\ttotal: 210ms\tremaining: 1.41s\n",
      "13:\tlearn: 1964.5235571\ttotal: 226ms\tremaining: 1.39s\n",
      "14:\tlearn: 1954.3527652\ttotal: 242ms\tremaining: 1.37s\n",
      "15:\tlearn: 1947.8202371\ttotal: 256ms\tremaining: 1.34s\n",
      "16:\tlearn: 1928.8668813\ttotal: 272ms\tremaining: 1.33s\n",
      "17:\tlearn: 1919.8153241\ttotal: 287ms\tremaining: 1.31s\n",
      "18:\tlearn: 1909.5466082\ttotal: 303ms\tremaining: 1.29s\n",
      "19:\tlearn: 1900.1304746\ttotal: 319ms\tremaining: 1.28s\n",
      "20:\tlearn: 1892.3955095\ttotal: 335ms\tremaining: 1.26s\n",
      "21:\tlearn: 1883.1177323\ttotal: 351ms\tremaining: 1.25s\n",
      "22:\tlearn: 1872.9768139\ttotal: 368ms\tremaining: 1.23s\n",
      "23:\tlearn: 1867.3426704\ttotal: 383ms\tremaining: 1.21s\n",
      "24:\tlearn: 1861.8371354\ttotal: 398ms\tremaining: 1.19s\n",
      "25:\tlearn: 1855.3244783\ttotal: 413ms\tremaining: 1.18s\n",
      "26:\tlearn: 1852.0390893\ttotal: 427ms\tremaining: 1.15s\n",
      "27:\tlearn: 1845.5212401\ttotal: 443ms\tremaining: 1.14s\n",
      "28:\tlearn: 1840.1403635\ttotal: 458ms\tremaining: 1.12s\n",
      "29:\tlearn: 1836.1634510\ttotal: 472ms\tremaining: 1.1s\n",
      "30:\tlearn: 1831.8887327\ttotal: 487ms\tremaining: 1.08s\n",
      "31:\tlearn: 1824.5882455\ttotal: 504ms\tremaining: 1.07s\n",
      "32:\tlearn: 1821.2893682\ttotal: 520ms\tremaining: 1.05s\n",
      "33:\tlearn: 1814.0990496\ttotal: 537ms\tremaining: 1.04s\n",
      "34:\tlearn: 1810.2753962\ttotal: 552ms\tremaining: 1.02s\n",
      "35:\tlearn: 1804.4638610\ttotal: 568ms\tremaining: 1.01s\n",
      "36:\tlearn: 1801.6608701\ttotal: 583ms\tremaining: 993ms\n",
      "37:\tlearn: 1799.1727870\ttotal: 599ms\tremaining: 977ms\n",
      "38:\tlearn: 1797.3764942\ttotal: 614ms\tremaining: 960ms\n",
      "39:\tlearn: 1793.8559494\ttotal: 630ms\tremaining: 945ms\n",
      "40:\tlearn: 1792.2506961\ttotal: 645ms\tremaining: 928ms\n",
      "41:\tlearn: 1788.7661089\ttotal: 661ms\tremaining: 913ms\n",
      "42:\tlearn: 1785.1783978\ttotal: 678ms\tremaining: 899ms\n",
      "43:\tlearn: 1783.7194639\ttotal: 693ms\tremaining: 882ms\n",
      "44:\tlearn: 1777.6676852\ttotal: 713ms\tremaining: 871ms\n",
      "45:\tlearn: 1770.1639294\ttotal: 730ms\tremaining: 857ms\n",
      "46:\tlearn: 1768.0103595\ttotal: 745ms\tremaining: 840ms\n",
      "47:\tlearn: 1764.9252811\ttotal: 760ms\tremaining: 824ms\n",
      "48:\tlearn: 1762.2396108\ttotal: 776ms\tremaining: 808ms\n",
      "49:\tlearn: 1756.8137046\ttotal: 793ms\tremaining: 793ms\n",
      "50:\tlearn: 1753.6063720\ttotal: 809ms\tremaining: 778ms\n",
      "51:\tlearn: 1752.0727464\ttotal: 824ms\tremaining: 761ms\n",
      "52:\tlearn: 1749.9116981\ttotal: 840ms\tremaining: 745ms\n",
      "53:\tlearn: 1748.7636682\ttotal: 855ms\tremaining: 728ms\n",
      "54:\tlearn: 1746.4238184\ttotal: 870ms\tremaining: 712ms\n",
      "55:\tlearn: 1744.6574848\ttotal: 885ms\tremaining: 695ms\n",
      "56:\tlearn: 1740.6642899\ttotal: 906ms\tremaining: 683ms\n",
      "57:\tlearn: 1738.2339608\ttotal: 922ms\tremaining: 667ms\n",
      "58:\tlearn: 1735.8781346\ttotal: 937ms\tremaining: 651ms\n",
      "59:\tlearn: 1733.5226950\ttotal: 954ms\tremaining: 636ms\n",
      "60:\tlearn: 1730.9786670\ttotal: 971ms\tremaining: 621ms\n",
      "61:\tlearn: 1728.1498042\ttotal: 988ms\tremaining: 605ms\n",
      "62:\tlearn: 1726.7703681\ttotal: 1s\tremaining: 589ms\n",
      "63:\tlearn: 1725.1247692\ttotal: 1.02s\tremaining: 573ms\n",
      "64:\tlearn: 1723.2776464\ttotal: 1.03s\tremaining: 557ms\n",
      "65:\tlearn: 1720.9158509\ttotal: 1.05s\tremaining: 541ms\n",
      "66:\tlearn: 1718.3516065\ttotal: 1.07s\tremaining: 525ms\n",
      "67:\tlearn: 1715.9151241\ttotal: 1.08s\tremaining: 509ms\n",
      "68:\tlearn: 1713.8414231\ttotal: 1.1s\tremaining: 496ms\n",
      "69:\tlearn: 1711.3143813\ttotal: 1.12s\tremaining: 481ms\n",
      "70:\tlearn: 1709.7039998\ttotal: 1.14s\tremaining: 465ms\n",
      "71:\tlearn: 1707.0687706\ttotal: 1.16s\tremaining: 449ms\n",
      "72:\tlearn: 1705.8164003\ttotal: 1.17s\tremaining: 433ms\n",
      "73:\tlearn: 1703.5769543\ttotal: 1.2s\tremaining: 422ms\n",
      "74:\tlearn: 1702.3319198\ttotal: 1.22s\tremaining: 406ms\n",
      "75:\tlearn: 1700.0179509\ttotal: 1.23s\tremaining: 389ms\n",
      "76:\tlearn: 1698.1625813\ttotal: 1.25s\tremaining: 373ms\n",
      "77:\tlearn: 1696.0465494\ttotal: 1.29s\tremaining: 364ms\n",
      "78:\tlearn: 1694.8436336\ttotal: 1.31s\tremaining: 347ms\n",
      "79:\tlearn: 1692.7654139\ttotal: 1.32s\tremaining: 331ms\n",
      "80:\tlearn: 1692.1977960\ttotal: 1.34s\tremaining: 314ms\n",
      "81:\tlearn: 1690.4559431\ttotal: 1.35s\tremaining: 297ms\n",
      "82:\tlearn: 1687.5964737\ttotal: 1.37s\tremaining: 280ms\n",
      "83:\tlearn: 1686.4468580\ttotal: 1.38s\tremaining: 264ms\n",
      "84:\tlearn: 1685.1639675\ttotal: 1.4s\tremaining: 247ms\n",
      "85:\tlearn: 1683.2754013\ttotal: 1.42s\tremaining: 231ms\n",
      "86:\tlearn: 1682.2027547\ttotal: 1.43s\tremaining: 214ms\n",
      "87:\tlearn: 1679.9284275\ttotal: 1.45s\tremaining: 198ms\n",
      "88:\tlearn: 1679.0256129\ttotal: 1.47s\tremaining: 181ms\n",
      "89:\tlearn: 1676.7037140\ttotal: 1.48s\tremaining: 165ms\n",
      "90:\tlearn: 1675.2906055\ttotal: 1.5s\tremaining: 148ms\n",
      "91:\tlearn: 1673.8192134\ttotal: 1.51s\tremaining: 132ms\n",
      "92:\tlearn: 1672.2171081\ttotal: 1.57s\tremaining: 118ms\n",
      "93:\tlearn: 1671.6704218\ttotal: 1.58s\tremaining: 101ms\n",
      "94:\tlearn: 1669.8507382\ttotal: 1.6s\tremaining: 84.2ms\n",
      "95:\tlearn: 1668.8997873\ttotal: 1.61s\tremaining: 67.3ms\n",
      "96:\tlearn: 1667.4884026\ttotal: 1.67s\tremaining: 51.6ms\n",
      "97:\tlearn: 1665.9762614\ttotal: 1.68s\tremaining: 34.4ms\n",
      "98:\tlearn: 1664.8017160\ttotal: 1.7s\tremaining: 17.2ms\n",
      "99:\tlearn: 1664.0834502\ttotal: 1.71s\tremaining: 0us\n",
      "0:\tlearn: 2867.8165059\ttotal: 16.9ms\tremaining: 1.67s\n",
      "1:\tlearn: 2619.3653261\ttotal: 32.6ms\tremaining: 1.6s\n",
      "2:\tlearn: 2455.6613954\ttotal: 49.3ms\tremaining: 1.59s\n",
      "3:\tlearn: 2335.5574662\ttotal: 65.8ms\tremaining: 1.58s\n",
      "4:\tlearn: 2240.7726013\ttotal: 81.6ms\tremaining: 1.55s\n",
      "5:\tlearn: 2178.4715576\ttotal: 97.3ms\tremaining: 1.52s\n",
      "6:\tlearn: 2133.8603459\ttotal: 113ms\tremaining: 1.5s\n",
      "7:\tlearn: 2102.6696944\ttotal: 128ms\tremaining: 1.48s\n",
      "8:\tlearn: 2075.3359238\ttotal: 144ms\tremaining: 1.46s\n",
      "9:\tlearn: 2057.9174319\ttotal: 158ms\tremaining: 1.42s\n",
      "10:\tlearn: 2010.4640717\ttotal: 173ms\tremaining: 1.4s\n",
      "11:\tlearn: 1982.2640840\ttotal: 189ms\tremaining: 1.39s\n"
     ]
    },
    {
     "name": "stdout",
     "output_type": "stream",
     "text": [
      "12:\tlearn: 1972.3471606\ttotal: 203ms\tremaining: 1.36s\n",
      "13:\tlearn: 1956.2149651\ttotal: 220ms\tremaining: 1.35s\n",
      "14:\tlearn: 1946.9158149\ttotal: 235ms\tremaining: 1.33s\n",
      "15:\tlearn: 1934.2051328\ttotal: 251ms\tremaining: 1.32s\n",
      "16:\tlearn: 1927.2874343\ttotal: 266ms\tremaining: 1.3s\n",
      "17:\tlearn: 1921.3859532\ttotal: 279ms\tremaining: 1.27s\n",
      "18:\tlearn: 1913.2372986\ttotal: 295ms\tremaining: 1.26s\n",
      "19:\tlearn: 1907.2232251\ttotal: 310ms\tremaining: 1.24s\n",
      "20:\tlearn: 1897.5178087\ttotal: 325ms\tremaining: 1.22s\n",
      "21:\tlearn: 1891.3453654\ttotal: 340ms\tremaining: 1.21s\n",
      "22:\tlearn: 1879.2178530\ttotal: 356ms\tremaining: 1.19s\n",
      "23:\tlearn: 1869.3936518\ttotal: 371ms\tremaining: 1.18s\n",
      "24:\tlearn: 1865.7463218\ttotal: 386ms\tremaining: 1.16s\n",
      "25:\tlearn: 1862.1066072\ttotal: 400ms\tremaining: 1.14s\n",
      "26:\tlearn: 1853.9523452\ttotal: 418ms\tremaining: 1.13s\n",
      "27:\tlearn: 1850.0655412\ttotal: 433ms\tremaining: 1.11s\n",
      "28:\tlearn: 1846.0506228\ttotal: 447ms\tremaining: 1.09s\n",
      "29:\tlearn: 1843.4421264\ttotal: 461ms\tremaining: 1.07s\n",
      "30:\tlearn: 1836.6579495\ttotal: 476ms\tremaining: 1.06s\n",
      "31:\tlearn: 1833.3545178\ttotal: 491ms\tremaining: 1.04s\n",
      "32:\tlearn: 1831.0656742\ttotal: 506ms\tremaining: 1.03s\n",
      "33:\tlearn: 1826.3650116\ttotal: 522ms\tremaining: 1.01s\n",
      "34:\tlearn: 1820.1985802\ttotal: 538ms\tremaining: 998ms\n",
      "35:\tlearn: 1817.6442387\ttotal: 552ms\tremaining: 981ms\n",
      "36:\tlearn: 1813.6572613\ttotal: 567ms\tremaining: 965ms\n",
      "37:\tlearn: 1809.6243779\ttotal: 582ms\tremaining: 950ms\n",
      "38:\tlearn: 1806.2619216\ttotal: 597ms\tremaining: 934ms\n",
      "39:\tlearn: 1801.0740321\ttotal: 613ms\tremaining: 919ms\n",
      "40:\tlearn: 1798.2223452\ttotal: 629ms\tremaining: 905ms\n",
      "41:\tlearn: 1788.9994370\ttotal: 645ms\tremaining: 890ms\n",
      "42:\tlearn: 1783.0852133\ttotal: 661ms\tremaining: 876ms\n",
      "43:\tlearn: 1781.2697870\ttotal: 676ms\tremaining: 860ms\n",
      "44:\tlearn: 1776.3040137\ttotal: 693ms\tremaining: 847ms\n",
      "45:\tlearn: 1773.2143166\ttotal: 708ms\tremaining: 832ms\n",
      "46:\tlearn: 1768.6759149\ttotal: 726ms\tremaining: 818ms\n",
      "47:\tlearn: 1766.2550981\ttotal: 741ms\tremaining: 803ms\n",
      "48:\tlearn: 1764.2332827\ttotal: 757ms\tremaining: 788ms\n",
      "49:\tlearn: 1760.6898188\ttotal: 773ms\tremaining: 773ms\n",
      "50:\tlearn: 1758.2521599\ttotal: 790ms\tremaining: 759ms\n",
      "51:\tlearn: 1756.1550553\ttotal: 814ms\tremaining: 751ms\n",
      "52:\tlearn: 1755.0172514\ttotal: 839ms\tremaining: 744ms\n",
      "53:\tlearn: 1752.1770074\ttotal: 861ms\tremaining: 734ms\n",
      "54:\tlearn: 1750.5446146\ttotal: 877ms\tremaining: 718ms\n",
      "55:\tlearn: 1748.3147232\ttotal: 892ms\tremaining: 701ms\n",
      "56:\tlearn: 1745.2434257\ttotal: 908ms\tremaining: 685ms\n",
      "57:\tlearn: 1742.2241918\ttotal: 924ms\tremaining: 669ms\n",
      "58:\tlearn: 1740.8620092\ttotal: 940ms\tremaining: 653ms\n",
      "59:\tlearn: 1738.7262695\ttotal: 956ms\tremaining: 637ms\n",
      "60:\tlearn: 1737.8210453\ttotal: 971ms\tremaining: 621ms\n",
      "61:\tlearn: 1736.6069032\ttotal: 986ms\tremaining: 604ms\n",
      "62:\tlearn: 1734.5665486\ttotal: 1s\tremaining: 588ms\n",
      "63:\tlearn: 1732.5314152\ttotal: 1.02s\tremaining: 572ms\n",
      "64:\tlearn: 1730.4225510\ttotal: 1.04s\tremaining: 558ms\n",
      "65:\tlearn: 1728.8147387\ttotal: 1.05s\tremaining: 542ms\n",
      "66:\tlearn: 1727.7603989\ttotal: 1.07s\tremaining: 527ms\n",
      "67:\tlearn: 1726.3589247\ttotal: 1.08s\tremaining: 510ms\n",
      "68:\tlearn: 1723.8534527\ttotal: 1.1s\tremaining: 494ms\n",
      "69:\tlearn: 1721.3703344\ttotal: 1.11s\tremaining: 478ms\n",
      "70:\tlearn: 1719.8018265\ttotal: 1.13s\tremaining: 462ms\n",
      "71:\tlearn: 1717.9038096\ttotal: 1.15s\tremaining: 446ms\n",
      "72:\tlearn: 1714.9729136\ttotal: 1.16s\tremaining: 430ms\n",
      "73:\tlearn: 1713.5573774\ttotal: 1.18s\tremaining: 414ms\n",
      "74:\tlearn: 1711.0517376\ttotal: 1.19s\tremaining: 398ms\n",
      "75:\tlearn: 1708.8695506\ttotal: 1.21s\tremaining: 383ms\n",
      "76:\tlearn: 1705.5034480\ttotal: 1.23s\tremaining: 368ms\n",
      "77:\tlearn: 1703.8565252\ttotal: 1.25s\tremaining: 352ms\n",
      "78:\tlearn: 1701.8531597\ttotal: 1.27s\tremaining: 338ms\n",
      "79:\tlearn: 1699.9790383\ttotal: 1.29s\tremaining: 322ms\n",
      "80:\tlearn: 1698.6069219\ttotal: 1.31s\tremaining: 307ms\n",
      "81:\tlearn: 1697.0924834\ttotal: 1.33s\tremaining: 291ms\n",
      "82:\tlearn: 1696.9431078\ttotal: 1.34s\tremaining: 275ms\n",
      "83:\tlearn: 1695.6620982\ttotal: 1.35s\tremaining: 258ms\n",
      "84:\tlearn: 1694.1232193\ttotal: 1.37s\tremaining: 242ms\n",
      "85:\tlearn: 1692.3714052\ttotal: 1.39s\tremaining: 226ms\n",
      "86:\tlearn: 1690.4120823\ttotal: 1.41s\tremaining: 211ms\n",
      "87:\tlearn: 1689.4272702\ttotal: 1.43s\tremaining: 195ms\n",
      "88:\tlearn: 1688.0733043\ttotal: 1.45s\tremaining: 180ms\n",
      "89:\tlearn: 1686.5322273\ttotal: 1.48s\tremaining: 164ms\n",
      "90:\tlearn: 1684.9095160\ttotal: 1.5s\tremaining: 148ms\n",
      "91:\tlearn: 1683.4235855\ttotal: 1.51s\tremaining: 131ms\n",
      "92:\tlearn: 1681.9714212\ttotal: 1.53s\tremaining: 115ms\n",
      "93:\tlearn: 1681.0782551\ttotal: 1.54s\tremaining: 98.4ms\n",
      "94:\tlearn: 1679.4950725\ttotal: 1.56s\tremaining: 81.9ms\n",
      "95:\tlearn: 1678.3210756\ttotal: 1.57s\tremaining: 65.5ms\n",
      "96:\tlearn: 1677.2314881\ttotal: 1.59s\tremaining: 49.1ms\n",
      "97:\tlearn: 1675.9008728\ttotal: 1.6s\tremaining: 32.7ms\n",
      "98:\tlearn: 1674.8095939\ttotal: 1.62s\tremaining: 16.3ms\n",
      "99:\tlearn: 1673.6542871\ttotal: 1.63s\tremaining: 0us\n",
      "0:\tlearn: 2837.7566340\ttotal: 16.8ms\tremaining: 1.66s\n",
      "1:\tlearn: 2591.9977922\ttotal: 32.8ms\tremaining: 1.6s\n",
      "2:\tlearn: 2435.1506239\ttotal: 50.2ms\tremaining: 1.62s\n",
      "3:\tlearn: 2359.2717154\ttotal: 66.4ms\tremaining: 1.59s\n",
      "4:\tlearn: 2252.6345675\ttotal: 82.9ms\tremaining: 1.57s\n",
      "5:\tlearn: 2206.4979399\ttotal: 98.7ms\tremaining: 1.54s\n",
      "6:\tlearn: 2116.7008221\ttotal: 115ms\tremaining: 1.53s\n",
      "7:\tlearn: 2088.4900390\ttotal: 130ms\tremaining: 1.5s\n",
      "8:\tlearn: 2055.3668025\ttotal: 146ms\tremaining: 1.48s\n",
      "9:\tlearn: 2033.3718593\ttotal: 162ms\tremaining: 1.46s\n",
      "10:\tlearn: 2014.2521263\ttotal: 178ms\tremaining: 1.44s\n",
      "11:\tlearn: 1992.9265040\ttotal: 194ms\tremaining: 1.42s\n",
      "12:\tlearn: 1974.3400194\ttotal: 212ms\tremaining: 1.42s\n",
      "13:\tlearn: 1960.1877325\ttotal: 230ms\tremaining: 1.41s\n",
      "14:\tlearn: 1946.8888777\ttotal: 245ms\tremaining: 1.39s\n",
      "15:\tlearn: 1936.9252313\ttotal: 261ms\tremaining: 1.37s\n",
      "16:\tlearn: 1925.1901613\ttotal: 277ms\tremaining: 1.35s\n",
      "17:\tlearn: 1918.9698703\ttotal: 291ms\tremaining: 1.32s\n",
      "18:\tlearn: 1911.6743012\ttotal: 306ms\tremaining: 1.3s\n",
      "19:\tlearn: 1904.0246808\ttotal: 321ms\tremaining: 1.28s\n",
      "20:\tlearn: 1894.7764420\ttotal: 346ms\tremaining: 1.3s\n",
      "21:\tlearn: 1883.4786861\ttotal: 363ms\tremaining: 1.29s\n",
      "22:\tlearn: 1877.8468171\ttotal: 378ms\tremaining: 1.26s\n",
      "23:\tlearn: 1868.5794043\ttotal: 394ms\tremaining: 1.25s\n",
      "24:\tlearn: 1859.6338396\ttotal: 422ms\tremaining: 1.27s\n",
      "25:\tlearn: 1854.5015211\ttotal: 438ms\tremaining: 1.25s\n",
      "26:\tlearn: 1850.5540731\ttotal: 452ms\tremaining: 1.22s\n",
      "27:\tlearn: 1842.7415016\ttotal: 468ms\tremaining: 1.2s\n",
      "28:\tlearn: 1839.5032178\ttotal: 482ms\tremaining: 1.18s\n",
      "29:\tlearn: 1836.4636897\ttotal: 496ms\tremaining: 1.16s\n",
      "30:\tlearn: 1827.7499762\ttotal: 512ms\tremaining: 1.14s\n",
      "31:\tlearn: 1822.9641612\ttotal: 528ms\tremaining: 1.12s\n",
      "32:\tlearn: 1818.6386078\ttotal: 543ms\tremaining: 1.1s\n",
      "33:\tlearn: 1812.7271847\ttotal: 558ms\tremaining: 1.08s\n",
      "34:\tlearn: 1810.1507434\ttotal: 574ms\tremaining: 1.06s\n",
      "35:\tlearn: 1806.4798583\ttotal: 590ms\tremaining: 1.05s\n",
      "36:\tlearn: 1803.3675203\ttotal: 606ms\tremaining: 1.03s\n",
      "37:\tlearn: 1799.5814556\ttotal: 622ms\tremaining: 1.01s\n",
      "38:\tlearn: 1795.8056447\ttotal: 637ms\tremaining: 996ms\n",
      "39:\tlearn: 1791.6960071\ttotal: 652ms\tremaining: 978ms\n",
      "40:\tlearn: 1787.2797922\ttotal: 668ms\tremaining: 961ms\n",
      "41:\tlearn: 1783.1991150\ttotal: 683ms\tremaining: 943ms\n",
      "42:\tlearn: 1777.6367548\ttotal: 699ms\tremaining: 927ms\n",
      "43:\tlearn: 1774.6856388\ttotal: 720ms\tremaining: 916ms\n",
      "44:\tlearn: 1772.6260775\ttotal: 735ms\tremaining: 899ms\n",
      "45:\tlearn: 1769.6078686\ttotal: 751ms\tremaining: 881ms\n",
      "46:\tlearn: 1765.7331972\ttotal: 767ms\tremaining: 865ms\n",
      "47:\tlearn: 1762.6457733\ttotal: 783ms\tremaining: 849ms\n",
      "48:\tlearn: 1760.6417015\ttotal: 799ms\tremaining: 831ms\n",
      "49:\tlearn: 1757.6856965\ttotal: 814ms\tremaining: 814ms\n",
      "50:\tlearn: 1756.2961113\ttotal: 829ms\tremaining: 796ms\n",
      "51:\tlearn: 1753.1775522\ttotal: 845ms\tremaining: 780ms\n",
      "52:\tlearn: 1751.2041088\ttotal: 859ms\tremaining: 762ms\n",
      "53:\tlearn: 1748.1593943\ttotal: 875ms\tremaining: 745ms\n",
      "54:\tlearn: 1746.0934548\ttotal: 890ms\tremaining: 728ms\n",
      "55:\tlearn: 1743.9147468\ttotal: 905ms\tremaining: 711ms\n",
      "56:\tlearn: 1740.5685099\ttotal: 920ms\tremaining: 694ms\n",
      "57:\tlearn: 1738.4725820\ttotal: 935ms\tremaining: 677ms\n",
      "58:\tlearn: 1737.5344667\ttotal: 949ms\tremaining: 659ms\n",
      "59:\tlearn: 1735.0326002\ttotal: 963ms\tremaining: 642ms\n",
      "60:\tlearn: 1732.7134760\ttotal: 980ms\tremaining: 626ms\n",
      "61:\tlearn: 1729.3965489\ttotal: 996ms\tremaining: 610ms\n",
      "62:\tlearn: 1726.5734802\ttotal: 1.01s\tremaining: 594ms\n",
      "63:\tlearn: 1723.1212636\ttotal: 1.03s\tremaining: 578ms\n",
      "64:\tlearn: 1721.9661262\ttotal: 1.04s\tremaining: 561ms\n",
      "65:\tlearn: 1719.1461646\ttotal: 1.06s\tremaining: 545ms\n",
      "66:\tlearn: 1717.3638564\ttotal: 1.07s\tremaining: 528ms\n",
      "67:\tlearn: 1715.0510715\ttotal: 1.09s\tremaining: 513ms\n",
      "68:\tlearn: 1713.7887435\ttotal: 1.11s\tremaining: 498ms\n",
      "69:\tlearn: 1712.3894295\ttotal: 1.12s\tremaining: 481ms\n",
      "70:\tlearn: 1711.1376405\ttotal: 1.14s\tremaining: 465ms\n",
      "71:\tlearn: 1709.2713952\ttotal: 1.15s\tremaining: 449ms\n",
      "72:\tlearn: 1708.4567279\ttotal: 1.17s\tremaining: 432ms\n",
      "73:\tlearn: 1707.0907124\ttotal: 1.18s\tremaining: 415ms\n",
      "74:\tlearn: 1705.5044520\ttotal: 1.2s\tremaining: 399ms\n",
      "75:\tlearn: 1704.2380329\ttotal: 1.21s\tremaining: 383ms\n"
     ]
    },
    {
     "name": "stdout",
     "output_type": "stream",
     "text": [
      "76:\tlearn: 1702.9975886\ttotal: 1.23s\tremaining: 367ms\n",
      "77:\tlearn: 1701.0106759\ttotal: 1.24s\tremaining: 351ms\n",
      "78:\tlearn: 1699.7937246\ttotal: 1.26s\tremaining: 335ms\n",
      "79:\tlearn: 1698.8364208\ttotal: 1.27s\tremaining: 319ms\n",
      "80:\tlearn: 1698.5720360\ttotal: 1.29s\tremaining: 302ms\n",
      "81:\tlearn: 1697.4279268\ttotal: 1.3s\tremaining: 286ms\n",
      "82:\tlearn: 1696.5932415\ttotal: 1.32s\tremaining: 270ms\n",
      "83:\tlearn: 1694.9535358\ttotal: 1.33s\tremaining: 254ms\n",
      "84:\tlearn: 1693.8022909\ttotal: 1.35s\tremaining: 238ms\n",
      "85:\tlearn: 1692.1850362\ttotal: 1.36s\tremaining: 222ms\n",
      "86:\tlearn: 1691.3354564\ttotal: 1.38s\tremaining: 206ms\n",
      "87:\tlearn: 1690.5595251\ttotal: 1.4s\tremaining: 190ms\n",
      "88:\tlearn: 1689.4811509\ttotal: 1.41s\tremaining: 174ms\n",
      "89:\tlearn: 1687.5497685\ttotal: 1.43s\tremaining: 159ms\n",
      "90:\tlearn: 1687.2032603\ttotal: 1.44s\tremaining: 143ms\n",
      "91:\tlearn: 1686.2697157\ttotal: 1.46s\tremaining: 127ms\n",
      "92:\tlearn: 1684.3384576\ttotal: 1.47s\tremaining: 111ms\n",
      "93:\tlearn: 1682.5747334\ttotal: 1.5s\tremaining: 95.4ms\n",
      "94:\tlearn: 1681.8002915\ttotal: 1.51s\tremaining: 79.5ms\n",
      "95:\tlearn: 1681.1647133\ttotal: 1.52s\tremaining: 63.6ms\n",
      "96:\tlearn: 1680.4511212\ttotal: 1.54s\tremaining: 47.6ms\n",
      "97:\tlearn: 1679.3657653\ttotal: 1.55s\tremaining: 31.7ms\n",
      "98:\tlearn: 1678.4367542\ttotal: 1.57s\tremaining: 15.9ms\n",
      "99:\tlearn: 1677.6661425\ttotal: 1.58s\tremaining: 0us\n",
      "0:\tlearn: 4438.1454900\ttotal: 41.8ms\tremaining: 4.14s\n",
      "1:\tlearn: 4286.0554251\ttotal: 80.2ms\tremaining: 3.93s\n",
      "2:\tlearn: 4144.5973232\ttotal: 119ms\tremaining: 3.85s\n",
      "3:\tlearn: 4010.9820556\ttotal: 159ms\tremaining: 3.8s\n",
      "4:\tlearn: 3882.9686049\ttotal: 198ms\tremaining: 3.76s\n",
      "5:\tlearn: 3763.1627532\ttotal: 238ms\tremaining: 3.72s\n",
      "6:\tlearn: 3652.4613270\ttotal: 287ms\tremaining: 3.82s\n",
      "7:\tlearn: 3549.6150293\ttotal: 327ms\tremaining: 3.76s\n",
      "8:\tlearn: 3447.2881880\ttotal: 365ms\tremaining: 3.69s\n",
      "9:\tlearn: 3353.9633852\ttotal: 404ms\tremaining: 3.63s\n",
      "10:\tlearn: 3266.9348692\ttotal: 442ms\tremaining: 3.57s\n",
      "11:\tlearn: 3184.5816146\ttotal: 479ms\tremaining: 3.51s\n",
      "12:\tlearn: 3107.5460743\ttotal: 518ms\tremaining: 3.46s\n",
      "13:\tlearn: 3033.5036937\ttotal: 556ms\tremaining: 3.42s\n",
      "14:\tlearn: 2965.8583108\ttotal: 594ms\tremaining: 3.37s\n",
      "15:\tlearn: 2902.0594429\ttotal: 632ms\tremaining: 3.32s\n",
      "16:\tlearn: 2841.4990281\ttotal: 669ms\tremaining: 3.27s\n",
      "17:\tlearn: 2786.9477416\ttotal: 706ms\tremaining: 3.22s\n",
      "18:\tlearn: 2734.7278517\ttotal: 746ms\tremaining: 3.18s\n",
      "19:\tlearn: 2686.5093393\ttotal: 789ms\tremaining: 3.15s\n",
      "20:\tlearn: 2640.9021077\ttotal: 830ms\tremaining: 3.12s\n",
      "21:\tlearn: 2597.9597662\ttotal: 878ms\tremaining: 3.11s\n",
      "22:\tlearn: 2558.6201809\ttotal: 920ms\tremaining: 3.08s\n",
      "23:\tlearn: 2520.0527118\ttotal: 961ms\tremaining: 3.04s\n",
      "24:\tlearn: 2483.5341436\ttotal: 1s\tremaining: 3s\n",
      "25:\tlearn: 2449.6840817\ttotal: 1.04s\tremaining: 2.96s\n",
      "26:\tlearn: 2419.9922906\ttotal: 1.08s\tremaining: 2.92s\n",
      "27:\tlearn: 2389.0096249\ttotal: 1.12s\tremaining: 2.88s\n",
      "28:\tlearn: 2361.6460204\ttotal: 1.16s\tremaining: 2.84s\n",
      "29:\tlearn: 2331.0398343\ttotal: 1.23s\tremaining: 2.86s\n",
      "30:\tlearn: 2307.8499409\ttotal: 1.26s\tremaining: 2.81s\n",
      "31:\tlearn: 2283.8518542\ttotal: 1.3s\tremaining: 2.77s\n",
      "32:\tlearn: 2262.0295127\ttotal: 1.34s\tremaining: 2.73s\n",
      "33:\tlearn: 2238.7209167\ttotal: 1.39s\tremaining: 2.7s\n",
      "34:\tlearn: 2220.1047848\ttotal: 1.43s\tremaining: 2.65s\n",
      "35:\tlearn: 2201.1824813\ttotal: 1.47s\tremaining: 2.61s\n",
      "36:\tlearn: 2181.4238017\ttotal: 1.51s\tremaining: 2.56s\n",
      "37:\tlearn: 2164.8416345\ttotal: 1.54s\tremaining: 2.52s\n",
      "38:\tlearn: 2148.8215771\ttotal: 1.58s\tremaining: 2.48s\n",
      "39:\tlearn: 2135.0091500\ttotal: 1.62s\tremaining: 2.43s\n",
      "40:\tlearn: 2120.9632821\ttotal: 1.66s\tremaining: 2.39s\n",
      "41:\tlearn: 2106.6979750\ttotal: 1.7s\tremaining: 2.35s\n",
      "42:\tlearn: 2092.5573804\ttotal: 1.74s\tremaining: 2.31s\n",
      "43:\tlearn: 2080.6617948\ttotal: 1.78s\tremaining: 2.27s\n",
      "44:\tlearn: 2068.3247055\ttotal: 1.82s\tremaining: 2.23s\n",
      "45:\tlearn: 2055.8356713\ttotal: 1.89s\tremaining: 2.22s\n",
      "46:\tlearn: 2043.9469501\ttotal: 1.93s\tremaining: 2.18s\n",
      "47:\tlearn: 2034.6488515\ttotal: 1.97s\tremaining: 2.13s\n",
      "48:\tlearn: 2025.5756455\ttotal: 2.01s\tremaining: 2.09s\n",
      "49:\tlearn: 2014.8198058\ttotal: 2.05s\tremaining: 2.05s\n",
      "50:\tlearn: 2006.9703902\ttotal: 2.09s\tremaining: 2.01s\n",
      "51:\tlearn: 1999.3772226\ttotal: 2.13s\tremaining: 1.97s\n",
      "52:\tlearn: 1992.3126837\ttotal: 2.17s\tremaining: 1.93s\n",
      "53:\tlearn: 1984.1436736\ttotal: 2.21s\tremaining: 1.89s\n",
      "54:\tlearn: 1977.1198861\ttotal: 2.25s\tremaining: 1.84s\n",
      "55:\tlearn: 1970.4208644\ttotal: 2.3s\tremaining: 1.8s\n",
      "56:\tlearn: 1963.2355988\ttotal: 2.34s\tremaining: 1.76s\n",
      "57:\tlearn: 1957.2044005\ttotal: 2.38s\tremaining: 1.72s\n",
      "58:\tlearn: 1949.6412804\ttotal: 2.42s\tremaining: 1.68s\n",
      "59:\tlearn: 1942.9780838\ttotal: 2.46s\tremaining: 1.64s\n",
      "60:\tlearn: 1937.0139933\ttotal: 2.5s\tremaining: 1.6s\n",
      "61:\tlearn: 1931.2625419\ttotal: 2.54s\tremaining: 1.55s\n",
      "62:\tlearn: 1926.1086919\ttotal: 2.58s\tremaining: 1.51s\n",
      "63:\tlearn: 1921.3333873\ttotal: 2.62s\tremaining: 1.47s\n",
      "64:\tlearn: 1917.1551572\ttotal: 2.65s\tremaining: 1.43s\n",
      "65:\tlearn: 1913.0865166\ttotal: 2.69s\tremaining: 1.39s\n",
      "66:\tlearn: 1909.2222664\ttotal: 2.73s\tremaining: 1.35s\n",
      "67:\tlearn: 1905.6640953\ttotal: 2.78s\tremaining: 1.31s\n",
      "68:\tlearn: 1901.8141432\ttotal: 2.82s\tremaining: 1.26s\n",
      "69:\tlearn: 1897.6004839\ttotal: 2.86s\tremaining: 1.23s\n",
      "70:\tlearn: 1893.6848001\ttotal: 2.9s\tremaining: 1.19s\n",
      "71:\tlearn: 1889.9749440\ttotal: 2.94s\tremaining: 1.14s\n",
      "72:\tlearn: 1886.6899081\ttotal: 2.98s\tremaining: 1.1s\n",
      "73:\tlearn: 1883.2762647\ttotal: 3.02s\tremaining: 1.06s\n",
      "74:\tlearn: 1880.3609462\ttotal: 3.07s\tremaining: 1.02s\n",
      "75:\tlearn: 1877.3006749\ttotal: 3.11s\tremaining: 982ms\n",
      "76:\tlearn: 1874.1291902\ttotal: 3.15s\tremaining: 942ms\n",
      "77:\tlearn: 1871.2538392\ttotal: 3.19s\tremaining: 901ms\n",
      "78:\tlearn: 1868.5829624\ttotal: 3.23s\tremaining: 860ms\n",
      "79:\tlearn: 1866.1098730\ttotal: 3.28s\tremaining: 819ms\n",
      "80:\tlearn: 1863.4458276\ttotal: 3.32s\tremaining: 778ms\n",
      "81:\tlearn: 1860.8826413\ttotal: 3.36s\tremaining: 737ms\n",
      "82:\tlearn: 1858.8553258\ttotal: 3.4s\tremaining: 696ms\n",
      "83:\tlearn: 1856.7474341\ttotal: 3.44s\tremaining: 655ms\n",
      "84:\tlearn: 1853.6245462\ttotal: 3.48s\tremaining: 613ms\n",
      "85:\tlearn: 1851.5385851\ttotal: 3.51s\tremaining: 572ms\n",
      "86:\tlearn: 1848.5362163\ttotal: 3.55s\tremaining: 531ms\n",
      "87:\tlearn: 1846.0881789\ttotal: 3.59s\tremaining: 490ms\n",
      "88:\tlearn: 1843.6966361\ttotal: 3.63s\tremaining: 448ms\n",
      "89:\tlearn: 1841.4965233\ttotal: 3.67s\tremaining: 407ms\n",
      "90:\tlearn: 1839.5750697\ttotal: 3.7s\tremaining: 366ms\n",
      "91:\tlearn: 1837.9950715\ttotal: 3.75s\tremaining: 326ms\n",
      "92:\tlearn: 1836.4032373\ttotal: 3.79s\tremaining: 285ms\n",
      "93:\tlearn: 1834.2239407\ttotal: 3.83s\tremaining: 244ms\n",
      "94:\tlearn: 1832.2551480\ttotal: 3.87s\tremaining: 204ms\n",
      "95:\tlearn: 1830.4620312\ttotal: 3.91s\tremaining: 163ms\n",
      "96:\tlearn: 1828.7233760\ttotal: 3.95s\tremaining: 122ms\n",
      "97:\tlearn: 1826.4667292\ttotal: 3.99s\tremaining: 81.5ms\n",
      "98:\tlearn: 1824.3488218\ttotal: 4.03s\tremaining: 40.7ms\n",
      "99:\tlearn: 1822.5919731\ttotal: 4.07s\tremaining: 0us\n",
      "0:\tlearn: 4437.9348651\ttotal: 40.7ms\tremaining: 4.02s\n",
      "1:\tlearn: 4286.9904151\ttotal: 81.4ms\tremaining: 3.99s\n",
      "2:\tlearn: 4145.3060491\ttotal: 120ms\tremaining: 3.88s\n",
      "3:\tlearn: 4011.6848163\ttotal: 159ms\tremaining: 3.81s\n",
      "4:\tlearn: 3885.1412267\ttotal: 200ms\tremaining: 3.8s\n",
      "5:\tlearn: 3765.7147882\ttotal: 239ms\tremaining: 3.74s\n",
      "6:\tlearn: 3656.0726651\ttotal: 294ms\tremaining: 3.91s\n",
      "7:\tlearn: 3551.2362568\ttotal: 338ms\tremaining: 3.88s\n",
      "8:\tlearn: 3449.5695115\ttotal: 377ms\tremaining: 3.81s\n",
      "9:\tlearn: 3355.7490481\ttotal: 417ms\tremaining: 3.75s\n",
      "10:\tlearn: 3269.0401375\ttotal: 456ms\tremaining: 3.69s\n",
      "11:\tlearn: 3186.5577306\ttotal: 496ms\tremaining: 3.64s\n",
      "12:\tlearn: 3108.6545993\ttotal: 535ms\tremaining: 3.58s\n",
      "13:\tlearn: 3036.1518411\ttotal: 574ms\tremaining: 3.53s\n",
      "14:\tlearn: 2969.7913476\ttotal: 614ms\tremaining: 3.48s\n",
      "15:\tlearn: 2906.6173497\ttotal: 653ms\tremaining: 3.43s\n",
      "16:\tlearn: 2845.7947577\ttotal: 696ms\tremaining: 3.4s\n",
      "17:\tlearn: 2790.7217512\ttotal: 736ms\tremaining: 3.35s\n",
      "18:\tlearn: 2737.1984491\ttotal: 777ms\tremaining: 3.31s\n",
      "19:\tlearn: 2688.3353453\ttotal: 816ms\tremaining: 3.26s\n",
      "20:\tlearn: 2642.2373890\ttotal: 854ms\tremaining: 3.21s\n",
      "21:\tlearn: 2599.6277720\ttotal: 894ms\tremaining: 3.17s\n",
      "22:\tlearn: 2559.3140998\ttotal: 934ms\tremaining: 3.13s\n",
      "23:\tlearn: 2520.9915521\ttotal: 971ms\tremaining: 3.08s\n",
      "24:\tlearn: 2484.8822426\ttotal: 1.01s\tremaining: 3.03s\n",
      "25:\tlearn: 2451.8091972\ttotal: 1.05s\tremaining: 2.98s\n",
      "26:\tlearn: 2416.8612300\ttotal: 1.08s\tremaining: 2.93s\n",
      "27:\tlearn: 2387.8653103\ttotal: 1.12s\tremaining: 2.89s\n",
      "28:\tlearn: 2359.8734287\ttotal: 1.16s\tremaining: 2.84s\n",
      "29:\tlearn: 2333.3400314\ttotal: 1.2s\tremaining: 2.8s\n",
      "30:\tlearn: 2305.5122929\ttotal: 1.24s\tremaining: 2.75s\n",
      "31:\tlearn: 2282.5183764\ttotal: 1.27s\tremaining: 2.71s\n"
     ]
    },
    {
     "name": "stdout",
     "output_type": "stream",
     "text": [
      "32:\tlearn: 2262.0852412\ttotal: 1.31s\tremaining: 2.67s\n",
      "33:\tlearn: 2241.6805388\ttotal: 1.35s\tremaining: 2.63s\n",
      "34:\tlearn: 2221.8869941\ttotal: 1.39s\tremaining: 2.58s\n",
      "35:\tlearn: 2203.6322409\ttotal: 1.43s\tremaining: 2.54s\n",
      "36:\tlearn: 2186.9620206\ttotal: 1.47s\tremaining: 2.5s\n",
      "37:\tlearn: 2170.4353355\ttotal: 1.51s\tremaining: 2.46s\n",
      "38:\tlearn: 2155.0375233\ttotal: 1.55s\tremaining: 2.42s\n",
      "39:\tlearn: 2140.7339202\ttotal: 1.59s\tremaining: 2.38s\n",
      "40:\tlearn: 2126.5491530\ttotal: 1.63s\tremaining: 2.34s\n",
      "41:\tlearn: 2112.0910466\ttotal: 1.67s\tremaining: 2.3s\n",
      "42:\tlearn: 2099.2847642\ttotal: 1.71s\tremaining: 2.27s\n",
      "43:\tlearn: 2085.2676943\ttotal: 1.75s\tremaining: 2.23s\n",
      "44:\tlearn: 2073.7697638\ttotal: 1.79s\tremaining: 2.19s\n",
      "45:\tlearn: 2063.5617452\ttotal: 1.83s\tremaining: 2.15s\n",
      "46:\tlearn: 2053.8046823\ttotal: 1.86s\tremaining: 2.1s\n",
      "47:\tlearn: 2042.8703251\ttotal: 1.9s\tremaining: 2.06s\n",
      "48:\tlearn: 2034.4034166\ttotal: 1.94s\tremaining: 2.02s\n",
      "49:\tlearn: 2023.4777308\ttotal: 1.98s\tremaining: 1.98s\n",
      "50:\tlearn: 2015.1531708\ttotal: 2.02s\tremaining: 1.94s\n",
      "51:\tlearn: 2005.6106943\ttotal: 2.06s\tremaining: 1.9s\n",
      "52:\tlearn: 1997.5739717\ttotal: 2.1s\tremaining: 1.86s\n",
      "53:\tlearn: 1990.3776536\ttotal: 2.14s\tremaining: 1.82s\n",
      "54:\tlearn: 1983.1189877\ttotal: 2.17s\tremaining: 1.78s\n",
      "55:\tlearn: 1976.1835003\ttotal: 2.21s\tremaining: 1.74s\n",
      "56:\tlearn: 1970.1558034\ttotal: 2.25s\tremaining: 1.7s\n",
      "57:\tlearn: 1963.3415908\ttotal: 2.29s\tremaining: 1.66s\n",
      "58:\tlearn: 1957.1871104\ttotal: 2.33s\tremaining: 1.62s\n",
      "59:\tlearn: 1951.5632031\ttotal: 2.37s\tremaining: 1.58s\n",
      "60:\tlearn: 1946.6936014\ttotal: 2.41s\tremaining: 1.54s\n",
      "61:\tlearn: 1942.0070229\ttotal: 2.44s\tremaining: 1.5s\n",
      "62:\tlearn: 1936.9281902\ttotal: 2.49s\tremaining: 1.46s\n",
      "63:\tlearn: 1932.0597722\ttotal: 2.53s\tremaining: 1.42s\n",
      "64:\tlearn: 1926.9505702\ttotal: 2.57s\tremaining: 1.38s\n",
      "65:\tlearn: 1921.4131878\ttotal: 2.61s\tremaining: 1.34s\n",
      "66:\tlearn: 1916.6630028\ttotal: 2.65s\tremaining: 1.3s\n",
      "67:\tlearn: 1912.3848402\ttotal: 2.69s\tremaining: 1.26s\n",
      "68:\tlearn: 1908.3714533\ttotal: 2.73s\tremaining: 1.22s\n",
      "69:\tlearn: 1904.4123021\ttotal: 2.77s\tremaining: 1.19s\n",
      "70:\tlearn: 1900.0299936\ttotal: 2.81s\tremaining: 1.15s\n",
      "71:\tlearn: 1896.6914747\ttotal: 2.84s\tremaining: 1.11s\n",
      "72:\tlearn: 1892.9572974\ttotal: 2.89s\tremaining: 1.07s\n",
      "73:\tlearn: 1889.2426900\ttotal: 2.92s\tremaining: 1.03s\n",
      "74:\tlearn: 1886.1548755\ttotal: 2.97s\tremaining: 990ms\n",
      "75:\tlearn: 1883.1960065\ttotal: 3.01s\tremaining: 951ms\n",
      "76:\tlearn: 1879.5034793\ttotal: 3.05s\tremaining: 911ms\n",
      "77:\tlearn: 1876.6506950\ttotal: 3.09s\tremaining: 872ms\n",
      "78:\tlearn: 1873.9567273\ttotal: 3.13s\tremaining: 832ms\n",
      "79:\tlearn: 1871.1940722\ttotal: 3.17s\tremaining: 792ms\n",
      "80:\tlearn: 1868.5268796\ttotal: 3.21s\tremaining: 753ms\n",
      "81:\tlearn: 1865.7813824\ttotal: 3.25s\tremaining: 713ms\n",
      "82:\tlearn: 1863.5933696\ttotal: 3.29s\tremaining: 674ms\n",
      "83:\tlearn: 1861.1825496\ttotal: 3.33s\tremaining: 635ms\n",
      "84:\tlearn: 1858.1956325\ttotal: 3.37s\tremaining: 595ms\n",
      "85:\tlearn: 1855.7944954\ttotal: 3.42s\tremaining: 556ms\n",
      "86:\tlearn: 1853.8625027\ttotal: 3.46s\tremaining: 516ms\n",
      "87:\tlearn: 1850.8796944\ttotal: 3.5s\tremaining: 477ms\n",
      "88:\tlearn: 1848.7048030\ttotal: 3.54s\tremaining: 437ms\n",
      "89:\tlearn: 1846.9775580\ttotal: 3.58s\tremaining: 398ms\n",
      "90:\tlearn: 1845.1759775\ttotal: 3.62s\tremaining: 358ms\n",
      "91:\tlearn: 1843.4525776\ttotal: 3.66s\tremaining: 318ms\n",
      "92:\tlearn: 1841.4537245\ttotal: 3.7s\tremaining: 278ms\n",
      "93:\tlearn: 1839.7102708\ttotal: 3.74s\tremaining: 239ms\n",
      "94:\tlearn: 1837.5467490\ttotal: 3.78s\tremaining: 199ms\n",
      "95:\tlearn: 1835.1876862\ttotal: 3.83s\tremaining: 159ms\n",
      "96:\tlearn: 1833.6132329\ttotal: 3.87s\tremaining: 120ms\n",
      "97:\tlearn: 1832.1947606\ttotal: 3.9s\tremaining: 79.7ms\n",
      "98:\tlearn: 1830.6888429\ttotal: 3.94s\tremaining: 39.9ms\n",
      "99:\tlearn: 1829.0794881\ttotal: 4s\tremaining: 0us\n",
      "0:\tlearn: 4447.1732170\ttotal: 39.2ms\tremaining: 3.88s\n",
      "1:\tlearn: 4294.3372694\ttotal: 80.3ms\tremaining: 3.94s\n",
      "2:\tlearn: 4150.4593567\ttotal: 122ms\tremaining: 3.93s\n",
      "3:\tlearn: 4015.3817561\ttotal: 163ms\tremaining: 3.92s\n",
      "4:\tlearn: 3888.5618007\ttotal: 204ms\tremaining: 3.88s\n",
      "5:\tlearn: 3769.7028317\ttotal: 244ms\tremaining: 3.82s\n",
      "6:\tlearn: 3658.6070098\ttotal: 284ms\tremaining: 3.77s\n",
      "7:\tlearn: 3550.9560716\ttotal: 324ms\tremaining: 3.72s\n",
      "8:\tlearn: 3452.5445076\ttotal: 364ms\tremaining: 3.68s\n",
      "9:\tlearn: 3360.9171392\ttotal: 404ms\tremaining: 3.64s\n",
      "10:\tlearn: 3273.7345749\ttotal: 444ms\tremaining: 3.59s\n",
      "11:\tlearn: 3191.3753603\ttotal: 487ms\tremaining: 3.57s\n",
      "12:\tlearn: 3113.4661477\ttotal: 524ms\tremaining: 3.51s\n",
      "13:\tlearn: 3038.4777881\ttotal: 560ms\tremaining: 3.44s\n",
      "14:\tlearn: 2969.6018790\ttotal: 598ms\tremaining: 3.39s\n",
      "15:\tlearn: 2906.0081573\ttotal: 637ms\tremaining: 3.35s\n",
      "16:\tlearn: 2845.8265861\ttotal: 675ms\tremaining: 3.3s\n",
      "17:\tlearn: 2790.3356471\ttotal: 714ms\tremaining: 3.25s\n",
      "18:\tlearn: 2737.1862558\ttotal: 753ms\tremaining: 3.21s\n",
      "19:\tlearn: 2690.1697504\ttotal: 793ms\tremaining: 3.17s\n",
      "20:\tlearn: 2644.9474730\ttotal: 830ms\tremaining: 3.12s\n",
      "21:\tlearn: 2599.8914530\ttotal: 869ms\tremaining: 3.08s\n",
      "22:\tlearn: 2560.3380347\ttotal: 908ms\tremaining: 3.04s\n",
      "23:\tlearn: 2523.3938305\ttotal: 952ms\tremaining: 3.01s\n",
      "24:\tlearn: 2487.7187176\ttotal: 990ms\tremaining: 2.97s\n",
      "25:\tlearn: 2453.4308666\ttotal: 1.03s\tremaining: 2.93s\n",
      "26:\tlearn: 2421.3501825\ttotal: 1.08s\tremaining: 2.92s\n",
      "27:\tlearn: 2391.3770025\ttotal: 1.12s\tremaining: 2.88s\n",
      "28:\tlearn: 2359.3378850\ttotal: 1.16s\tremaining: 2.84s\n",
      "29:\tlearn: 2334.2238694\ttotal: 1.2s\tremaining: 2.8s\n",
      "30:\tlearn: 2306.4533248\ttotal: 1.24s\tremaining: 2.75s\n",
      "31:\tlearn: 2284.1223453\ttotal: 1.28s\tremaining: 2.71s\n",
      "32:\tlearn: 2261.5406371\ttotal: 1.31s\tremaining: 2.67s\n",
      "33:\tlearn: 2241.3476714\ttotal: 1.36s\tremaining: 2.63s\n",
      "34:\tlearn: 2223.0378949\ttotal: 1.4s\tremaining: 2.59s\n",
      "35:\tlearn: 2202.4632080\ttotal: 1.43s\tremaining: 2.55s\n",
      "36:\tlearn: 2185.8336738\ttotal: 1.47s\tremaining: 2.51s\n",
      "37:\tlearn: 2169.9174575\ttotal: 1.51s\tremaining: 2.46s\n",
      "38:\tlearn: 2153.4981244\ttotal: 1.55s\tremaining: 2.42s\n",
      "39:\tlearn: 2136.7661648\ttotal: 1.59s\tremaining: 2.38s\n",
      "40:\tlearn: 2122.9798442\ttotal: 1.63s\tremaining: 2.35s\n",
      "41:\tlearn: 2110.1318913\ttotal: 1.67s\tremaining: 2.31s\n",
      "42:\tlearn: 2098.2466608\ttotal: 1.71s\tremaining: 2.27s\n",
      "43:\tlearn: 2085.6171054\ttotal: 1.75s\tremaining: 2.23s\n",
      "44:\tlearn: 2074.6366222\ttotal: 1.79s\tremaining: 2.19s\n",
      "45:\tlearn: 2061.9715014\ttotal: 1.83s\tremaining: 2.15s\n",
      "46:\tlearn: 2052.7010821\ttotal: 1.87s\tremaining: 2.1s\n",
      "47:\tlearn: 2041.1754293\ttotal: 1.91s\tremaining: 2.06s\n",
      "48:\tlearn: 2029.9544340\ttotal: 1.95s\tremaining: 2.02s\n",
      "49:\tlearn: 2021.3195174\ttotal: 1.98s\tremaining: 1.98s\n",
      "50:\tlearn: 2011.1318853\ttotal: 2.02s\tremaining: 1.94s\n",
      "51:\tlearn: 2003.8319174\ttotal: 2.07s\tremaining: 1.91s\n",
      "52:\tlearn: 1996.1968135\ttotal: 2.1s\tremaining: 1.87s\n",
      "53:\tlearn: 1987.6705210\ttotal: 2.14s\tremaining: 1.82s\n",
      "54:\tlearn: 1979.6201914\ttotal: 2.18s\tremaining: 1.78s\n",
      "55:\tlearn: 1972.1205398\ttotal: 2.22s\tremaining: 1.74s\n",
      "56:\tlearn: 1965.5433155\ttotal: 2.26s\tremaining: 1.7s\n",
      "57:\tlearn: 1959.4702359\ttotal: 2.3s\tremaining: 1.66s\n",
      "58:\tlearn: 1954.3945558\ttotal: 2.35s\tremaining: 1.63s\n",
      "59:\tlearn: 1947.5350110\ttotal: 2.4s\tremaining: 1.6s\n",
      "60:\tlearn: 1942.4926221\ttotal: 2.44s\tremaining: 1.56s\n",
      "61:\tlearn: 1936.2766181\ttotal: 2.48s\tremaining: 1.52s\n",
      "62:\tlearn: 1931.7357984\ttotal: 2.52s\tremaining: 1.48s\n",
      "63:\tlearn: 1926.0823799\ttotal: 2.58s\tremaining: 1.45s\n",
      "64:\tlearn: 1921.7986978\ttotal: 2.61s\tremaining: 1.41s\n",
      "65:\tlearn: 1917.6115727\ttotal: 2.66s\tremaining: 1.37s\n",
      "66:\tlearn: 1913.4243777\ttotal: 2.7s\tremaining: 1.33s\n",
      "67:\tlearn: 1909.4323963\ttotal: 2.76s\tremaining: 1.3s\n",
      "68:\tlearn: 1905.6050351\ttotal: 2.8s\tremaining: 1.26s\n",
      "69:\tlearn: 1901.9899244\ttotal: 2.84s\tremaining: 1.22s\n",
      "70:\tlearn: 1898.3424318\ttotal: 2.88s\tremaining: 1.18s\n",
      "71:\tlearn: 1895.0535131\ttotal: 2.92s\tremaining: 1.14s\n",
      "72:\tlearn: 1891.6376966\ttotal: 2.96s\tremaining: 1.1s\n",
      "73:\tlearn: 1887.9355335\ttotal: 3s\tremaining: 1.05s\n",
      "74:\tlearn: 1884.8355221\ttotal: 3.05s\tremaining: 1.02s\n",
      "75:\tlearn: 1881.6107793\ttotal: 3.09s\tremaining: 977ms\n",
      "76:\tlearn: 1878.4527778\ttotal: 3.14s\tremaining: 938ms\n",
      "77:\tlearn: 1875.8212989\ttotal: 3.18s\tremaining: 897ms\n",
      "78:\tlearn: 1873.2178057\ttotal: 3.22s\tremaining: 856ms\n",
      "79:\tlearn: 1870.7411897\ttotal: 3.26s\tremaining: 815ms\n",
      "80:\tlearn: 1868.3800412\ttotal: 3.33s\tremaining: 781ms\n",
      "81:\tlearn: 1866.2531053\ttotal: 3.37s\tremaining: 740ms\n",
      "82:\tlearn: 1864.0748667\ttotal: 3.41s\tremaining: 699ms\n",
      "83:\tlearn: 1862.0684303\ttotal: 3.45s\tremaining: 658ms\n",
      "84:\tlearn: 1859.4954242\ttotal: 3.49s\tremaining: 616ms\n",
      "85:\tlearn: 1857.5306500\ttotal: 3.54s\tremaining: 576ms\n"
     ]
    },
    {
     "name": "stdout",
     "output_type": "stream",
     "text": [
      "86:\tlearn: 1854.6610555\ttotal: 3.58s\tremaining: 535ms\n",
      "87:\tlearn: 1851.6615517\ttotal: 3.62s\tremaining: 494ms\n",
      "88:\tlearn: 1849.4519735\ttotal: 3.67s\tremaining: 453ms\n",
      "89:\tlearn: 1847.0097235\ttotal: 3.71s\tremaining: 412ms\n",
      "90:\tlearn: 1845.0031178\ttotal: 3.75s\tremaining: 371ms\n",
      "91:\tlearn: 1843.4118766\ttotal: 3.79s\tremaining: 330ms\n",
      "92:\tlearn: 1841.5655166\ttotal: 3.85s\tremaining: 289ms\n",
      "93:\tlearn: 1839.6893341\ttotal: 3.88s\tremaining: 248ms\n",
      "94:\tlearn: 1837.1132481\ttotal: 3.93s\tremaining: 207ms\n",
      "95:\tlearn: 1835.3748587\ttotal: 3.97s\tremaining: 165ms\n",
      "96:\tlearn: 1833.5972786\ttotal: 4.02s\tremaining: 124ms\n",
      "97:\tlearn: 1831.4091806\ttotal: 4.06s\tremaining: 82.9ms\n",
      "98:\tlearn: 1830.0158742\ttotal: 4.12s\tremaining: 41.7ms\n",
      "99:\tlearn: 1828.3280369\ttotal: 4.17s\tremaining: 0us\n",
      "0:\tlearn: 4445.9894080\ttotal: 47.4ms\tremaining: 4.69s\n",
      "1:\tlearn: 4293.1233348\ttotal: 90.5ms\tremaining: 4.44s\n",
      "2:\tlearn: 4150.5572727\ttotal: 131ms\tremaining: 4.23s\n",
      "3:\tlearn: 4016.5212152\ttotal: 174ms\tremaining: 4.17s\n",
      "4:\tlearn: 3889.0417445\ttotal: 213ms\tremaining: 4.04s\n",
      "5:\tlearn: 3769.2704134\ttotal: 257ms\tremaining: 4.03s\n",
      "6:\tlearn: 3655.9243899\ttotal: 296ms\tremaining: 3.92s\n",
      "7:\tlearn: 3548.6439895\ttotal: 347ms\tremaining: 3.99s\n",
      "8:\tlearn: 3451.7377351\ttotal: 386ms\tremaining: 3.9s\n",
      "9:\tlearn: 3360.4455915\ttotal: 424ms\tremaining: 3.82s\n",
      "10:\tlearn: 3272.3560838\ttotal: 474ms\tremaining: 3.83s\n",
      "11:\tlearn: 3189.0328736\ttotal: 514ms\tremaining: 3.77s\n",
      "12:\tlearn: 3111.0819823\ttotal: 560ms\tremaining: 3.75s\n",
      "13:\tlearn: 3040.5214075\ttotal: 599ms\tremaining: 3.68s\n",
      "14:\tlearn: 2971.9411811\ttotal: 644ms\tremaining: 3.65s\n",
      "15:\tlearn: 2907.1589677\ttotal: 682ms\tremaining: 3.58s\n",
      "16:\tlearn: 2847.4826991\ttotal: 726ms\tremaining: 3.54s\n",
      "17:\tlearn: 2790.7151412\ttotal: 766ms\tremaining: 3.49s\n",
      "18:\tlearn: 2738.0637976\ttotal: 817ms\tremaining: 3.48s\n",
      "19:\tlearn: 2689.8209101\ttotal: 857ms\tremaining: 3.43s\n",
      "20:\tlearn: 2645.9973474\ttotal: 897ms\tremaining: 3.37s\n",
      "21:\tlearn: 2603.5438825\ttotal: 943ms\tremaining: 3.34s\n",
      "22:\tlearn: 2562.7484761\ttotal: 982ms\tremaining: 3.29s\n",
      "23:\tlearn: 2524.1736574\ttotal: 1.03s\tremaining: 3.26s\n",
      "24:\tlearn: 2488.1354505\ttotal: 1.07s\tremaining: 3.2s\n",
      "25:\tlearn: 2454.4584486\ttotal: 1.11s\tremaining: 3.17s\n",
      "26:\tlearn: 2420.0932177\ttotal: 1.16s\tremaining: 3.12s\n",
      "27:\tlearn: 2391.7876877\ttotal: 1.19s\tremaining: 3.07s\n",
      "28:\tlearn: 2363.9539615\ttotal: 1.24s\tremaining: 3.04s\n",
      "29:\tlearn: 2337.7156404\ttotal: 1.28s\tremaining: 2.99s\n",
      "30:\tlearn: 2314.4623600\ttotal: 1.33s\tremaining: 2.97s\n",
      "31:\tlearn: 2290.1265278\ttotal: 1.38s\tremaining: 2.92s\n",
      "32:\tlearn: 2267.1831229\ttotal: 1.42s\tremaining: 2.89s\n",
      "33:\tlearn: 2243.3906505\ttotal: 1.46s\tremaining: 2.84s\n",
      "34:\tlearn: 2222.4024047\ttotal: 1.5s\tremaining: 2.79s\n",
      "35:\tlearn: 2203.7574466\ttotal: 1.55s\tremaining: 2.75s\n",
      "36:\tlearn: 2186.3896878\ttotal: 1.59s\tremaining: 2.71s\n",
      "37:\tlearn: 2169.2650800\ttotal: 1.64s\tremaining: 2.67s\n",
      "38:\tlearn: 2152.0034888\ttotal: 1.68s\tremaining: 2.62s\n",
      "39:\tlearn: 2136.8842802\ttotal: 1.72s\tremaining: 2.58s\n",
      "40:\tlearn: 2123.4720782\ttotal: 1.76s\tremaining: 2.53s\n",
      "41:\tlearn: 2111.3322561\ttotal: 1.81s\tremaining: 2.5s\n",
      "42:\tlearn: 2098.9790305\ttotal: 1.86s\tremaining: 2.46s\n",
      "43:\tlearn: 2087.0634686\ttotal: 1.9s\tremaining: 2.41s\n",
      "44:\tlearn: 2075.3456843\ttotal: 1.94s\tremaining: 2.37s\n",
      "45:\tlearn: 2062.0914699\ttotal: 1.98s\tremaining: 2.32s\n",
      "46:\tlearn: 2051.8164628\ttotal: 2.03s\tremaining: 2.29s\n",
      "47:\tlearn: 2040.5124104\ttotal: 2.06s\tremaining: 2.24s\n",
      "48:\tlearn: 2031.2571389\ttotal: 2.11s\tremaining: 2.2s\n",
      "49:\tlearn: 2020.8622046\ttotal: 2.15s\tremaining: 2.15s\n",
      "50:\tlearn: 2012.7119140\ttotal: 2.19s\tremaining: 2.1s\n",
      "51:\tlearn: 2002.6350235\ttotal: 2.23s\tremaining: 2.06s\n",
      "52:\tlearn: 1994.8600692\ttotal: 2.27s\tremaining: 2.01s\n",
      "53:\tlearn: 1987.5909726\ttotal: 2.31s\tremaining: 1.97s\n",
      "54:\tlearn: 1979.1620055\ttotal: 2.35s\tremaining: 1.92s\n",
      "55:\tlearn: 1972.6873884\ttotal: 2.39s\tremaining: 1.88s\n",
      "56:\tlearn: 1966.2252989\ttotal: 2.43s\tremaining: 1.83s\n",
      "57:\tlearn: 1959.4710044\ttotal: 2.47s\tremaining: 1.79s\n",
      "58:\tlearn: 1953.2783284\ttotal: 2.52s\tremaining: 1.75s\n",
      "59:\tlearn: 1946.6008851\ttotal: 2.56s\tremaining: 1.71s\n",
      "60:\tlearn: 1940.7806066\ttotal: 2.6s\tremaining: 1.67s\n",
      "61:\tlearn: 1935.4877803\ttotal: 2.64s\tremaining: 1.62s\n",
      "62:\tlearn: 1929.5996602\ttotal: 2.69s\tremaining: 1.58s\n",
      "63:\tlearn: 1925.1539459\ttotal: 2.73s\tremaining: 1.53s\n",
      "64:\tlearn: 1920.5130618\ttotal: 2.77s\tremaining: 1.49s\n",
      "65:\tlearn: 1916.3941002\ttotal: 2.81s\tremaining: 1.45s\n",
      "66:\tlearn: 1911.9737607\ttotal: 2.86s\tremaining: 1.41s\n",
      "67:\tlearn: 1908.0739285\ttotal: 2.92s\tremaining: 1.37s\n",
      "68:\tlearn: 1904.0901844\ttotal: 2.95s\tremaining: 1.33s\n",
      "69:\tlearn: 1900.5618554\ttotal: 3s\tremaining: 1.29s\n",
      "70:\tlearn: 1897.1920642\ttotal: 3.04s\tremaining: 1.24s\n",
      "71:\tlearn: 1893.7537499\ttotal: 3.09s\tremaining: 1.2s\n",
      "72:\tlearn: 1890.4644681\ttotal: 3.13s\tremaining: 1.16s\n",
      "73:\tlearn: 1887.1641706\ttotal: 3.17s\tremaining: 1.11s\n",
      "74:\tlearn: 1883.9328433\ttotal: 3.21s\tremaining: 1.07s\n",
      "75:\tlearn: 1881.3152595\ttotal: 3.25s\tremaining: 1.03s\n",
      "76:\tlearn: 1878.6946876\ttotal: 3.31s\tremaining: 988ms\n",
      "77:\tlearn: 1876.0908174\ttotal: 3.35s\tremaining: 944ms\n",
      "78:\tlearn: 1873.4691239\ttotal: 3.39s\tremaining: 902ms\n",
      "79:\tlearn: 1870.7449875\ttotal: 3.43s\tremaining: 858ms\n",
      "80:\tlearn: 1867.6314297\ttotal: 3.47s\tremaining: 815ms\n",
      "81:\tlearn: 1864.8971956\ttotal: 3.52s\tremaining: 772ms\n",
      "82:\tlearn: 1862.7128634\ttotal: 3.56s\tremaining: 728ms\n",
      "83:\tlearn: 1860.6334770\ttotal: 3.6s\tremaining: 687ms\n",
      "84:\tlearn: 1858.0782508\ttotal: 3.64s\tremaining: 643ms\n",
      "85:\tlearn: 1855.5475350\ttotal: 3.69s\tremaining: 601ms\n",
      "86:\tlearn: 1852.7596774\ttotal: 3.73s\tremaining: 558ms\n",
      "87:\tlearn: 1850.9234302\ttotal: 3.78s\tremaining: 516ms\n",
      "88:\tlearn: 1849.1116929\ttotal: 3.82s\tremaining: 472ms\n",
      "89:\tlearn: 1847.5290928\ttotal: 3.86s\tremaining: 429ms\n",
      "90:\tlearn: 1845.2027040\ttotal: 3.91s\tremaining: 386ms\n",
      "91:\tlearn: 1843.1997614\ttotal: 3.95s\tremaining: 343ms\n",
      "92:\tlearn: 1840.9438068\ttotal: 4s\tremaining: 301ms\n",
      "93:\tlearn: 1839.2808290\ttotal: 4.04s\tremaining: 258ms\n",
      "94:\tlearn: 1836.7710356\ttotal: 4.09s\tremaining: 215ms\n",
      "95:\tlearn: 1835.2812757\ttotal: 4.13s\tremaining: 172ms\n",
      "96:\tlearn: 1833.6234739\ttotal: 4.18s\tremaining: 129ms\n",
      "97:\tlearn: 1832.0587401\ttotal: 4.22s\tremaining: 86ms\n",
      "98:\tlearn: 1830.4138437\ttotal: 4.25s\tremaining: 43ms\n",
      "99:\tlearn: 1828.3929874\ttotal: 4.3s\tremaining: 0us\n",
      "0:\tlearn: 4450.0665822\ttotal: 45.7ms\tremaining: 4.52s\n",
      "1:\tlearn: 4298.4620952\ttotal: 83.1ms\tremaining: 4.07s\n",
      "2:\tlearn: 4154.8424401\ttotal: 128ms\tremaining: 4.13s\n",
      "3:\tlearn: 4020.8696171\ttotal: 167ms\tremaining: 4s\n",
      "4:\tlearn: 3893.2320217\ttotal: 205ms\tremaining: 3.89s\n",
      "5:\tlearn: 3774.8565913\ttotal: 246ms\tremaining: 3.86s\n",
      "6:\tlearn: 3666.1393313\ttotal: 285ms\tremaining: 3.79s\n",
      "7:\tlearn: 3559.1266769\ttotal: 333ms\tremaining: 3.83s\n",
      "8:\tlearn: 3458.0415888\ttotal: 371ms\tremaining: 3.75s\n",
      "9:\tlearn: 3364.7500065\ttotal: 415ms\tremaining: 3.74s\n",
      "10:\tlearn: 3277.2678721\ttotal: 453ms\tremaining: 3.67s\n",
      "11:\tlearn: 3193.6649828\ttotal: 491ms\tremaining: 3.6s\n",
      "12:\tlearn: 3116.5599319\ttotal: 538ms\tremaining: 3.6s\n",
      "13:\tlearn: 3044.6267991\ttotal: 575ms\tremaining: 3.53s\n",
      "14:\tlearn: 2976.8848326\ttotal: 620ms\tremaining: 3.52s\n",
      "15:\tlearn: 2912.1762571\ttotal: 661ms\tremaining: 3.47s\n",
      "16:\tlearn: 2853.2760959\ttotal: 703ms\tremaining: 3.43s\n",
      "17:\tlearn: 2797.1787335\ttotal: 745ms\tremaining: 3.39s\n",
      "18:\tlearn: 2745.9689164\ttotal: 784ms\tremaining: 3.34s\n",
      "19:\tlearn: 2696.4692164\ttotal: 831ms\tremaining: 3.33s\n",
      "20:\tlearn: 2651.9715906\ttotal: 869ms\tremaining: 3.27s\n",
      "21:\tlearn: 2609.0562984\ttotal: 919ms\tremaining: 3.26s\n",
      "22:\tlearn: 2569.2743444\ttotal: 956ms\tremaining: 3.2s\n",
      "23:\tlearn: 2531.6956330\ttotal: 993ms\tremaining: 3.15s\n",
      "24:\tlearn: 2497.5410257\ttotal: 1.03s\tremaining: 3.1s\n",
      "25:\tlearn: 2463.3167364\ttotal: 1.07s\tremaining: 3.05s\n",
      "26:\tlearn: 2430.0114055\ttotal: 1.11s\tremaining: 3.02s\n",
      "27:\tlearn: 2399.5282343\ttotal: 1.15s\tremaining: 2.96s\n",
      "28:\tlearn: 2372.5262075\ttotal: 1.19s\tremaining: 2.92s\n",
      "29:\tlearn: 2345.9211580\ttotal: 1.25s\tremaining: 2.91s\n",
      "30:\tlearn: 2321.9912379\ttotal: 1.28s\tremaining: 2.86s\n",
      "31:\tlearn: 2297.6723440\ttotal: 1.33s\tremaining: 2.82s\n",
      "32:\tlearn: 2271.8800808\ttotal: 1.36s\tremaining: 2.77s\n",
      "33:\tlearn: 2251.4848997\ttotal: 1.41s\tremaining: 2.74s\n",
      "34:\tlearn: 2230.8973614\ttotal: 1.45s\tremaining: 2.69s\n",
      "35:\tlearn: 2211.5760740\ttotal: 1.49s\tremaining: 2.66s\n",
      "36:\tlearn: 2193.8978804\ttotal: 1.53s\tremaining: 2.61s\n",
      "37:\tlearn: 2178.2746395\ttotal: 1.57s\tremaining: 2.57s\n",
      "38:\tlearn: 2159.9472695\ttotal: 1.61s\tremaining: 2.52s\n",
      "39:\tlearn: 2144.3269523\ttotal: 1.66s\tremaining: 2.48s\n"
     ]
    },
    {
     "name": "stdout",
     "output_type": "stream",
     "text": [
      "40:\tlearn: 2131.7126649\ttotal: 1.72s\tremaining: 2.47s\n",
      "41:\tlearn: 2118.1165576\ttotal: 1.76s\tremaining: 2.42s\n",
      "42:\tlearn: 2102.8362728\ttotal: 1.8s\tremaining: 2.39s\n",
      "43:\tlearn: 2091.1704934\ttotal: 1.84s\tremaining: 2.35s\n",
      "44:\tlearn: 2079.9468131\ttotal: 1.89s\tremaining: 2.31s\n",
      "45:\tlearn: 2069.7244969\ttotal: 1.93s\tremaining: 2.27s\n",
      "46:\tlearn: 2056.9204659\ttotal: 1.98s\tremaining: 2.23s\n",
      "47:\tlearn: 2045.4291009\ttotal: 2.02s\tremaining: 2.19s\n",
      "48:\tlearn: 2037.1364132\ttotal: 2.06s\tremaining: 2.14s\n",
      "49:\tlearn: 2026.5952846\ttotal: 2.1s\tremaining: 2.1s\n",
      "50:\tlearn: 2017.7703424\ttotal: 2.14s\tremaining: 2.06s\n",
      "51:\tlearn: 2008.3187163\ttotal: 2.19s\tremaining: 2.02s\n",
      "52:\tlearn: 2000.0269193\ttotal: 2.23s\tremaining: 1.98s\n",
      "53:\tlearn: 1992.4095868\ttotal: 2.28s\tremaining: 1.94s\n",
      "54:\tlearn: 1984.9788895\ttotal: 2.32s\tremaining: 1.9s\n",
      "55:\tlearn: 1978.5540410\ttotal: 2.36s\tremaining: 1.86s\n",
      "56:\tlearn: 1971.0520322\ttotal: 2.41s\tremaining: 1.82s\n",
      "57:\tlearn: 1965.0068271\ttotal: 2.45s\tremaining: 1.77s\n",
      "58:\tlearn: 1957.6065160\ttotal: 2.49s\tremaining: 1.73s\n",
      "59:\tlearn: 1951.7007472\ttotal: 2.53s\tremaining: 1.69s\n",
      "60:\tlearn: 1945.7394143\ttotal: 2.58s\tremaining: 1.65s\n",
      "61:\tlearn: 1940.5326454\ttotal: 2.62s\tremaining: 1.6s\n",
      "62:\tlearn: 1936.0339633\ttotal: 2.67s\tremaining: 1.57s\n",
      "63:\tlearn: 1931.4344370\ttotal: 2.73s\tremaining: 1.53s\n",
      "64:\tlearn: 1926.0886601\ttotal: 2.78s\tremaining: 1.5s\n",
      "65:\tlearn: 1921.6204647\ttotal: 2.84s\tremaining: 1.46s\n",
      "66:\tlearn: 1917.1002132\ttotal: 2.92s\tremaining: 1.44s\n",
      "67:\tlearn: 1913.4917509\ttotal: 2.97s\tremaining: 1.4s\n",
      "68:\tlearn: 1909.4804845\ttotal: 3.01s\tremaining: 1.35s\n",
      "69:\tlearn: 1905.9213996\ttotal: 3.06s\tremaining: 1.31s\n",
      "70:\tlearn: 1902.0057716\ttotal: 3.1s\tremaining: 1.27s\n",
      "71:\tlearn: 1898.5447659\ttotal: 3.15s\tremaining: 1.23s\n",
      "72:\tlearn: 1895.1829188\ttotal: 3.2s\tremaining: 1.18s\n",
      "73:\tlearn: 1891.8446920\ttotal: 3.24s\tremaining: 1.14s\n",
      "74:\tlearn: 1888.9409953\ttotal: 3.29s\tremaining: 1.1s\n",
      "75:\tlearn: 1885.4956108\ttotal: 3.33s\tremaining: 1.05s\n",
      "76:\tlearn: 1882.8304271\ttotal: 3.38s\tremaining: 1.01s\n",
      "77:\tlearn: 1880.3542378\ttotal: 3.42s\tremaining: 965ms\n",
      "78:\tlearn: 1876.8806711\ttotal: 3.47s\tremaining: 922ms\n",
      "79:\tlearn: 1874.3533864\ttotal: 3.51s\tremaining: 877ms\n",
      "80:\tlearn: 1872.0527138\ttotal: 3.55s\tremaining: 833ms\n",
      "81:\tlearn: 1869.3199849\ttotal: 3.59s\tremaining: 789ms\n",
      "82:\tlearn: 1865.8370660\ttotal: 3.63s\tremaining: 744ms\n",
      "83:\tlearn: 1863.6860694\ttotal: 3.68s\tremaining: 701ms\n",
      "84:\tlearn: 1861.1468279\ttotal: 3.72s\tremaining: 656ms\n",
      "85:\tlearn: 1859.0268874\ttotal: 3.77s\tremaining: 614ms\n",
      "86:\tlearn: 1856.7459932\ttotal: 3.81s\tremaining: 569ms\n",
      "87:\tlearn: 1854.7002547\ttotal: 3.85s\tremaining: 525ms\n",
      "88:\tlearn: 1852.8094964\ttotal: 3.89s\tremaining: 481ms\n",
      "89:\tlearn: 1850.2393200\ttotal: 3.93s\tremaining: 437ms\n",
      "90:\tlearn: 1847.8384677\ttotal: 3.98s\tremaining: 394ms\n",
      "91:\tlearn: 1846.3425016\ttotal: 4.02s\tremaining: 350ms\n",
      "92:\tlearn: 1844.4334422\ttotal: 4.07s\tremaining: 306ms\n",
      "93:\tlearn: 1841.9493408\ttotal: 4.11s\tremaining: 262ms\n",
      "94:\tlearn: 1840.0507405\ttotal: 4.16s\tremaining: 219ms\n",
      "95:\tlearn: 1838.3153685\ttotal: 4.2s\tremaining: 175ms\n",
      "96:\tlearn: 1836.4356946\ttotal: 4.25s\tremaining: 131ms\n",
      "97:\tlearn: 1834.4236070\ttotal: 4.29s\tremaining: 87.5ms\n",
      "98:\tlearn: 1833.1194552\ttotal: 4.33s\tremaining: 43.7ms\n",
      "99:\tlearn: 1831.6886034\ttotal: 4.37s\tremaining: 0us\n",
      "0:\tlearn: 2479.3118399\ttotal: 38ms\tremaining: 3.76s\n",
      "1:\tlearn: 2167.1561292\ttotal: 76.2ms\tremaining: 3.73s\n",
      "2:\tlearn: 2041.3306394\ttotal: 123ms\tremaining: 3.97s\n",
      "3:\tlearn: 1983.9321422\ttotal: 163ms\tremaining: 3.92s\n",
      "4:\tlearn: 1942.2281837\ttotal: 212ms\tremaining: 4.03s\n",
      "5:\tlearn: 1912.4376140\ttotal: 253ms\tremaining: 3.96s\n",
      "6:\tlearn: 1896.6389996\ttotal: 298ms\tremaining: 3.96s\n",
      "7:\tlearn: 1882.1779668\ttotal: 338ms\tremaining: 3.89s\n",
      "8:\tlearn: 1854.8936316\ttotal: 379ms\tremaining: 3.83s\n",
      "9:\tlearn: 1830.9340837\ttotal: 421ms\tremaining: 3.79s\n",
      "10:\tlearn: 1819.9849181\ttotal: 462ms\tremaining: 3.74s\n",
      "11:\tlearn: 1793.5732920\ttotal: 509ms\tremaining: 3.73s\n",
      "12:\tlearn: 1781.4284050\ttotal: 548ms\tremaining: 3.66s\n",
      "13:\tlearn: 1764.5999947\ttotal: 610ms\tremaining: 3.75s\n",
      "14:\tlearn: 1755.7753855\ttotal: 650ms\tremaining: 3.69s\n",
      "15:\tlearn: 1743.7912875\ttotal: 698ms\tremaining: 3.66s\n",
      "16:\tlearn: 1735.3135636\ttotal: 737ms\tremaining: 3.6s\n",
      "17:\tlearn: 1727.8242825\ttotal: 778ms\tremaining: 3.54s\n",
      "18:\tlearn: 1719.1390245\ttotal: 819ms\tremaining: 3.49s\n",
      "19:\tlearn: 1711.6237037\ttotal: 858ms\tremaining: 3.43s\n",
      "20:\tlearn: 1701.7760815\ttotal: 905ms\tremaining: 3.4s\n",
      "21:\tlearn: 1694.9341549\ttotal: 947ms\tremaining: 3.36s\n",
      "22:\tlearn: 1690.5370507\ttotal: 994ms\tremaining: 3.33s\n",
      "23:\tlearn: 1679.4180298\ttotal: 1.03s\tremaining: 3.27s\n",
      "24:\tlearn: 1675.5082859\ttotal: 1.09s\tremaining: 3.26s\n",
      "25:\tlearn: 1667.8983070\ttotal: 1.16s\tremaining: 3.29s\n",
      "26:\tlearn: 1663.1197711\ttotal: 1.2s\tremaining: 3.25s\n",
      "27:\tlearn: 1658.2499432\ttotal: 1.25s\tremaining: 3.2s\n",
      "28:\tlearn: 1654.1428654\ttotal: 1.31s\tremaining: 3.2s\n",
      "29:\tlearn: 1647.3142688\ttotal: 1.35s\tremaining: 3.14s\n",
      "30:\tlearn: 1642.5098273\ttotal: 1.4s\tremaining: 3.1s\n",
      "31:\tlearn: 1637.7615848\ttotal: 1.44s\tremaining: 3.05s\n",
      "32:\tlearn: 1633.7576965\ttotal: 1.49s\tremaining: 3.02s\n",
      "33:\tlearn: 1630.2014154\ttotal: 1.53s\tremaining: 2.98s\n",
      "34:\tlearn: 1625.7075033\ttotal: 1.58s\tremaining: 2.93s\n",
      "35:\tlearn: 1621.4360542\ttotal: 1.62s\tremaining: 2.88s\n",
      "36:\tlearn: 1617.8929664\ttotal: 1.67s\tremaining: 2.84s\n",
      "37:\tlearn: 1613.9893996\ttotal: 1.71s\tremaining: 2.79s\n",
      "38:\tlearn: 1612.0378772\ttotal: 1.75s\tremaining: 2.73s\n",
      "39:\tlearn: 1606.3807334\ttotal: 1.8s\tremaining: 2.69s\n",
      "40:\tlearn: 1603.9847948\ttotal: 1.84s\tremaining: 2.65s\n",
      "41:\tlearn: 1599.8598455\ttotal: 1.89s\tremaining: 2.6s\n",
      "42:\tlearn: 1595.5266789\ttotal: 1.93s\tremaining: 2.55s\n",
      "43:\tlearn: 1591.8678873\ttotal: 1.98s\tremaining: 2.52s\n",
      "44:\tlearn: 1589.4585179\ttotal: 2.02s\tremaining: 2.46s\n",
      "45:\tlearn: 1586.9111193\ttotal: 2.05s\tremaining: 2.41s\n",
      "46:\tlearn: 1583.5333410\ttotal: 2.1s\tremaining: 2.37s\n",
      "47:\tlearn: 1578.9702019\ttotal: 2.13s\tremaining: 2.31s\n",
      "48:\tlearn: 1576.3722328\ttotal: 2.18s\tremaining: 2.27s\n",
      "49:\tlearn: 1574.2299525\ttotal: 2.22s\tremaining: 2.22s\n",
      "50:\tlearn: 1572.1731427\ttotal: 2.27s\tremaining: 2.18s\n",
      "51:\tlearn: 1569.8137156\ttotal: 2.31s\tremaining: 2.13s\n",
      "52:\tlearn: 1567.6450516\ttotal: 2.34s\tremaining: 2.08s\n",
      "53:\tlearn: 1565.8144727\ttotal: 2.39s\tremaining: 2.04s\n",
      "54:\tlearn: 1562.3745764\ttotal: 2.43s\tremaining: 1.99s\n",
      "55:\tlearn: 1559.1375527\ttotal: 2.48s\tremaining: 1.95s\n",
      "56:\tlearn: 1556.8674830\ttotal: 2.52s\tremaining: 1.9s\n",
      "57:\tlearn: 1554.4676679\ttotal: 2.57s\tremaining: 1.86s\n",
      "58:\tlearn: 1553.8319724\ttotal: 2.63s\tremaining: 1.82s\n",
      "59:\tlearn: 1550.7686679\ttotal: 2.67s\tremaining: 1.78s\n",
      "60:\tlearn: 1548.2663527\ttotal: 2.71s\tremaining: 1.73s\n",
      "61:\tlearn: 1544.3398639\ttotal: 2.75s\tremaining: 1.69s\n",
      "62:\tlearn: 1542.1270293\ttotal: 2.79s\tremaining: 1.64s\n",
      "63:\tlearn: 1536.8455615\ttotal: 2.83s\tremaining: 1.59s\n",
      "64:\tlearn: 1532.4485874\ttotal: 2.88s\tremaining: 1.55s\n",
      "65:\tlearn: 1529.0498175\ttotal: 2.92s\tremaining: 1.5s\n",
      "66:\tlearn: 1525.1615187\ttotal: 2.97s\tremaining: 1.46s\n",
      "67:\tlearn: 1520.8295255\ttotal: 3.01s\tremaining: 1.42s\n",
      "68:\tlearn: 1518.5665705\ttotal: 3.06s\tremaining: 1.37s\n",
      "69:\tlearn: 1515.3218797\ttotal: 3.1s\tremaining: 1.33s\n",
      "70:\tlearn: 1512.3426534\ttotal: 3.14s\tremaining: 1.28s\n",
      "71:\tlearn: 1509.6797592\ttotal: 3.18s\tremaining: 1.24s\n",
      "72:\tlearn: 1507.4913807\ttotal: 3.22s\tremaining: 1.19s\n",
      "73:\tlearn: 1505.6327481\ttotal: 3.27s\tremaining: 1.15s\n",
      "74:\tlearn: 1502.8958756\ttotal: 3.31s\tremaining: 1.1s\n",
      "75:\tlearn: 1501.3299814\ttotal: 3.35s\tremaining: 1.06s\n",
      "76:\tlearn: 1498.0276922\ttotal: 3.39s\tremaining: 1.01s\n",
      "77:\tlearn: 1494.6838994\ttotal: 3.43s\tremaining: 968ms\n",
      "78:\tlearn: 1492.5939411\ttotal: 3.48s\tremaining: 925ms\n",
      "79:\tlearn: 1491.2949508\ttotal: 3.52s\tremaining: 881ms\n",
      "80:\tlearn: 1487.6992842\ttotal: 3.57s\tremaining: 838ms\n",
      "81:\tlearn: 1485.7322371\ttotal: 3.61s\tremaining: 793ms\n",
      "82:\tlearn: 1483.5676089\ttotal: 3.67s\tremaining: 751ms\n",
      "83:\tlearn: 1481.7320961\ttotal: 3.71s\tremaining: 706ms\n",
      "84:\tlearn: 1480.1866627\ttotal: 3.76s\tremaining: 664ms\n",
      "85:\tlearn: 1477.1458281\ttotal: 3.8s\tremaining: 619ms\n",
      "86:\tlearn: 1475.0439732\ttotal: 3.85s\tremaining: 576ms\n",
      "87:\tlearn: 1473.1674602\ttotal: 3.9s\tremaining: 531ms\n",
      "88:\tlearn: 1471.4642729\ttotal: 3.94s\tremaining: 487ms\n",
      "89:\tlearn: 1468.8803865\ttotal: 3.98s\tremaining: 442ms\n",
      "90:\tlearn: 1467.8913416\ttotal: 4.02s\tremaining: 397ms\n",
      "91:\tlearn: 1466.3611652\ttotal: 4.06s\tremaining: 353ms\n",
      "92:\tlearn: 1464.6242772\ttotal: 4.11s\tremaining: 310ms\n",
      "93:\tlearn: 1462.6798197\ttotal: 4.16s\tremaining: 266ms\n",
      "94:\tlearn: 1461.0175744\ttotal: 4.2s\tremaining: 221ms\n"
     ]
    },
    {
     "name": "stdout",
     "output_type": "stream",
     "text": [
      "95:\tlearn: 1459.3857562\ttotal: 4.25s\tremaining: 177ms\n",
      "96:\tlearn: 1457.5883761\ttotal: 4.29s\tremaining: 133ms\n",
      "97:\tlearn: 1454.8448870\ttotal: 4.33s\tremaining: 88.3ms\n",
      "98:\tlearn: 1452.7548070\ttotal: 4.37s\tremaining: 44.2ms\n",
      "99:\tlearn: 1450.8317645\ttotal: 4.41s\tremaining: 0us\n",
      "0:\tlearn: 2501.9911260\ttotal: 48.2ms\tremaining: 4.77s\n",
      "1:\tlearn: 2218.9752318\ttotal: 88.3ms\tremaining: 4.33s\n",
      "2:\tlearn: 2085.3270042\ttotal: 134ms\tremaining: 4.34s\n",
      "3:\tlearn: 1985.5759342\ttotal: 174ms\tremaining: 4.17s\n",
      "4:\tlearn: 1950.2300435\ttotal: 213ms\tremaining: 4.05s\n",
      "5:\tlearn: 1932.8023012\ttotal: 257ms\tremaining: 4.03s\n",
      "6:\tlearn: 1907.4090993\ttotal: 297ms\tremaining: 3.95s\n",
      "7:\tlearn: 1883.7733614\ttotal: 347ms\tremaining: 4s\n",
      "8:\tlearn: 1860.8977226\ttotal: 388ms\tremaining: 3.92s\n",
      "9:\tlearn: 1848.8632980\ttotal: 435ms\tremaining: 3.92s\n",
      "10:\tlearn: 1819.7738647\ttotal: 475ms\tremaining: 3.84s\n",
      "11:\tlearn: 1803.9793547\ttotal: 519ms\tremaining: 3.81s\n",
      "12:\tlearn: 1794.7176617\ttotal: 559ms\tremaining: 3.74s\n",
      "13:\tlearn: 1784.5437222\ttotal: 599ms\tremaining: 3.68s\n",
      "14:\tlearn: 1773.3477476\ttotal: 646ms\tremaining: 3.66s\n",
      "15:\tlearn: 1761.4617594\ttotal: 686ms\tremaining: 3.6s\n",
      "16:\tlearn: 1745.4902541\ttotal: 737ms\tremaining: 3.6s\n",
      "17:\tlearn: 1737.3846603\ttotal: 776ms\tremaining: 3.53s\n",
      "18:\tlearn: 1727.9267459\ttotal: 821ms\tremaining: 3.5s\n",
      "19:\tlearn: 1720.2627892\ttotal: 860ms\tremaining: 3.44s\n",
      "20:\tlearn: 1711.8269204\ttotal: 908ms\tremaining: 3.42s\n",
      "21:\tlearn: 1702.1983980\ttotal: 954ms\tremaining: 3.38s\n",
      "22:\tlearn: 1696.2871172\ttotal: 1.01s\tremaining: 3.39s\n",
      "23:\tlearn: 1691.4036709\ttotal: 1.05s\tremaining: 3.33s\n",
      "24:\tlearn: 1683.4613752\ttotal: 1.1s\tremaining: 3.29s\n",
      "25:\tlearn: 1678.3697703\ttotal: 1.16s\tremaining: 3.31s\n",
      "26:\tlearn: 1673.9837171\ttotal: 1.22s\tremaining: 3.29s\n",
      "27:\tlearn: 1668.4867854\ttotal: 1.26s\tremaining: 3.23s\n",
      "28:\tlearn: 1664.0809415\ttotal: 1.29s\tremaining: 3.17s\n",
      "29:\tlearn: 1659.2605963\ttotal: 1.34s\tremaining: 3.12s\n",
      "30:\tlearn: 1652.7247897\ttotal: 1.38s\tremaining: 3.08s\n",
      "31:\tlearn: 1648.8680970\ttotal: 1.43s\tremaining: 3.03s\n",
      "32:\tlearn: 1644.7462947\ttotal: 1.47s\tremaining: 2.98s\n",
      "33:\tlearn: 1638.4495958\ttotal: 1.51s\tremaining: 2.94s\n",
      "34:\tlearn: 1634.1454479\ttotal: 1.55s\tremaining: 2.89s\n",
      "35:\tlearn: 1629.3673409\ttotal: 1.61s\tremaining: 2.86s\n",
      "36:\tlearn: 1621.9025048\ttotal: 1.65s\tremaining: 2.8s\n",
      "37:\tlearn: 1617.5813253\ttotal: 1.69s\tremaining: 2.75s\n",
      "38:\tlearn: 1615.4200936\ttotal: 1.73s\tremaining: 2.71s\n",
      "39:\tlearn: 1612.3412376\ttotal: 1.77s\tremaining: 2.65s\n",
      "40:\tlearn: 1609.0350757\ttotal: 1.82s\tremaining: 2.62s\n",
      "41:\tlearn: 1606.7312077\ttotal: 1.86s\tremaining: 2.56s\n",
      "42:\tlearn: 1603.1188739\ttotal: 1.91s\tremaining: 2.53s\n",
      "43:\tlearn: 1600.2872599\ttotal: 1.95s\tremaining: 2.48s\n",
      "44:\tlearn: 1598.2018029\ttotal: 1.99s\tremaining: 2.43s\n",
      "45:\tlearn: 1597.1786975\ttotal: 2.03s\tremaining: 2.38s\n",
      "46:\tlearn: 1594.2731358\ttotal: 2.07s\tremaining: 2.33s\n",
      "47:\tlearn: 1592.0004485\ttotal: 2.12s\tremaining: 2.29s\n",
      "48:\tlearn: 1588.6413713\ttotal: 2.16s\tremaining: 2.24s\n",
      "49:\tlearn: 1583.0865482\ttotal: 2.2s\tremaining: 2.2s\n",
      "50:\tlearn: 1579.4181364\ttotal: 2.24s\tremaining: 2.15s\n",
      "51:\tlearn: 1573.0015065\ttotal: 2.28s\tremaining: 2.11s\n",
      "52:\tlearn: 1569.6895435\ttotal: 2.33s\tremaining: 2.06s\n",
      "53:\tlearn: 1567.0232876\ttotal: 2.36s\tremaining: 2.01s\n",
      "54:\tlearn: 1563.3571006\ttotal: 2.41s\tremaining: 1.97s\n",
      "55:\tlearn: 1559.0887211\ttotal: 2.45s\tremaining: 1.92s\n",
      "56:\tlearn: 1555.6293702\ttotal: 2.5s\tremaining: 1.88s\n",
      "57:\tlearn: 1553.6956653\ttotal: 2.54s\tremaining: 1.84s\n",
      "58:\tlearn: 1551.4403837\ttotal: 2.58s\tremaining: 1.79s\n",
      "59:\tlearn: 1548.6973466\ttotal: 2.62s\tremaining: 1.75s\n",
      "60:\tlearn: 1546.4053850\ttotal: 2.66s\tremaining: 1.7s\n",
      "61:\tlearn: 1544.2730265\ttotal: 2.71s\tremaining: 1.66s\n",
      "62:\tlearn: 1542.4261872\ttotal: 2.75s\tremaining: 1.61s\n",
      "63:\tlearn: 1540.5202566\ttotal: 2.79s\tremaining: 1.57s\n",
      "64:\tlearn: 1539.7907944\ttotal: 2.83s\tremaining: 1.52s\n",
      "65:\tlearn: 1537.6489545\ttotal: 2.87s\tremaining: 1.48s\n",
      "66:\tlearn: 1535.1321848\ttotal: 2.91s\tremaining: 1.44s\n",
      "67:\tlearn: 1531.7794312\ttotal: 2.96s\tremaining: 1.39s\n",
      "68:\tlearn: 1529.6235038\ttotal: 3s\tremaining: 1.35s\n",
      "69:\tlearn: 1525.7240853\ttotal: 3.06s\tremaining: 1.31s\n",
      "70:\tlearn: 1522.7435584\ttotal: 3.1s\tremaining: 1.27s\n",
      "71:\tlearn: 1519.9306703\ttotal: 3.15s\tremaining: 1.22s\n",
      "72:\tlearn: 1517.9627597\ttotal: 3.2s\tremaining: 1.18s\n",
      "73:\tlearn: 1516.3249000\ttotal: 3.24s\tremaining: 1.14s\n",
      "74:\tlearn: 1514.5123704\ttotal: 3.29s\tremaining: 1.09s\n",
      "75:\tlearn: 1512.5999658\ttotal: 3.33s\tremaining: 1.05s\n",
      "76:\tlearn: 1510.8122585\ttotal: 3.37s\tremaining: 1s\n",
      "77:\tlearn: 1510.4149221\ttotal: 3.41s\tremaining: 962ms\n",
      "78:\tlearn: 1508.7945811\ttotal: 3.45s\tremaining: 917ms\n",
      "79:\tlearn: 1507.5881990\ttotal: 3.5s\tremaining: 874ms\n",
      "80:\tlearn: 1504.8113566\ttotal: 3.54s\tremaining: 829ms\n",
      "81:\tlearn: 1503.1859978\ttotal: 3.59s\tremaining: 788ms\n",
      "82:\tlearn: 1501.1940724\ttotal: 3.63s\tremaining: 743ms\n",
      "83:\tlearn: 1500.0011420\ttotal: 3.67s\tremaining: 699ms\n",
      "84:\tlearn: 1498.4364684\ttotal: 3.71s\tremaining: 655ms\n",
      "85:\tlearn: 1497.9097495\ttotal: 3.75s\tremaining: 611ms\n",
      "86:\tlearn: 1495.5793975\ttotal: 3.8s\tremaining: 568ms\n",
      "87:\tlearn: 1491.3191847\ttotal: 3.84s\tremaining: 524ms\n",
      "88:\tlearn: 1488.5419638\ttotal: 3.89s\tremaining: 481ms\n",
      "89:\tlearn: 1484.9775451\ttotal: 3.93s\tremaining: 437ms\n",
      "90:\tlearn: 1483.1894975\ttotal: 3.98s\tremaining: 393ms\n",
      "91:\tlearn: 1481.3161519\ttotal: 4.01s\tremaining: 349ms\n",
      "92:\tlearn: 1479.5280425\ttotal: 4.05s\tremaining: 305ms\n",
      "93:\tlearn: 1478.4320846\ttotal: 4.1s\tremaining: 262ms\n",
      "94:\tlearn: 1476.7080387\ttotal: 4.13s\tremaining: 218ms\n",
      "95:\tlearn: 1474.7020799\ttotal: 4.18s\tremaining: 174ms\n",
      "96:\tlearn: 1473.6895083\ttotal: 4.22s\tremaining: 131ms\n",
      "97:\tlearn: 1472.2887567\ttotal: 4.26s\tremaining: 87ms\n",
      "98:\tlearn: 1469.9615694\ttotal: 4.3s\tremaining: 43.5ms\n",
      "99:\tlearn: 1468.8178777\ttotal: 4.34s\tremaining: 0us\n",
      "0:\tlearn: 2481.1672654\ttotal: 45.5ms\tremaining: 4.5s\n",
      "1:\tlearn: 2211.7142420\ttotal: 86.7ms\tremaining: 4.25s\n",
      "2:\tlearn: 2070.7584568\ttotal: 129ms\tremaining: 4.17s\n",
      "3:\tlearn: 2021.0133253\ttotal: 173ms\tremaining: 4.16s\n",
      "4:\tlearn: 1956.5044321\ttotal: 213ms\tremaining: 4.04s\n",
      "5:\tlearn: 1907.9415781\ttotal: 259ms\tremaining: 4.06s\n",
      "6:\tlearn: 1886.9569348\ttotal: 301ms\tremaining: 3.99s\n",
      "7:\tlearn: 1868.0178428\ttotal: 349ms\tremaining: 4.01s\n",
      "8:\tlearn: 1841.2546595\ttotal: 388ms\tremaining: 3.92s\n",
      "9:\tlearn: 1825.4729547\ttotal: 432ms\tremaining: 3.89s\n",
      "10:\tlearn: 1813.3271683\ttotal: 474ms\tremaining: 3.83s\n",
      "11:\tlearn: 1801.4527153\ttotal: 520ms\tremaining: 3.81s\n",
      "12:\tlearn: 1781.9426096\ttotal: 562ms\tremaining: 3.76s\n",
      "13:\tlearn: 1772.4210804\ttotal: 601ms\tremaining: 3.69s\n",
      "14:\tlearn: 1761.8424272\ttotal: 651ms\tremaining: 3.69s\n",
      "15:\tlearn: 1750.2207519\ttotal: 692ms\tremaining: 3.63s\n",
      "16:\tlearn: 1739.5244525\ttotal: 743ms\tremaining: 3.63s\n",
      "17:\tlearn: 1728.3732434\ttotal: 786ms\tremaining: 3.58s\n",
      "18:\tlearn: 1718.3511192\ttotal: 833ms\tremaining: 3.55s\n",
      "19:\tlearn: 1707.4541417\ttotal: 873ms\tremaining: 3.49s\n",
      "20:\tlearn: 1701.5996903\ttotal: 915ms\tremaining: 3.44s\n",
      "21:\tlearn: 1696.1645179\ttotal: 962ms\tremaining: 3.41s\n",
      "22:\tlearn: 1686.0138197\ttotal: 1s\tremaining: 3.35s\n",
      "23:\tlearn: 1678.7333668\ttotal: 1.05s\tremaining: 3.32s\n",
      "24:\tlearn: 1674.3699981\ttotal: 1.09s\tremaining: 3.27s\n",
      "25:\tlearn: 1669.8340338\ttotal: 1.14s\tremaining: 3.23s\n",
      "26:\tlearn: 1665.7234236\ttotal: 1.18s\tremaining: 3.18s\n",
      "27:\tlearn: 1662.0720694\ttotal: 1.23s\tremaining: 3.16s\n",
      "28:\tlearn: 1656.8017372\ttotal: 1.27s\tremaining: 3.11s\n",
      "29:\tlearn: 1651.2653171\ttotal: 1.31s\tremaining: 3.06s\n",
      "30:\tlearn: 1645.1662430\ttotal: 1.35s\tremaining: 3.02s\n",
      "31:\tlearn: 1641.1662779\ttotal: 1.39s\tremaining: 2.96s\n",
      "32:\tlearn: 1634.7256852\ttotal: 1.45s\tremaining: 2.93s\n",
      "33:\tlearn: 1630.7091115\ttotal: 1.49s\tremaining: 2.88s\n",
      "34:\tlearn: 1627.8718981\ttotal: 1.54s\tremaining: 2.85s\n",
      "35:\tlearn: 1624.0407533\ttotal: 1.58s\tremaining: 2.81s\n",
      "36:\tlearn: 1619.3876483\ttotal: 1.63s\tremaining: 2.77s\n",
      "37:\tlearn: 1616.3871535\ttotal: 1.67s\tremaining: 2.72s\n",
      "38:\tlearn: 1612.8277507\ttotal: 1.73s\tremaining: 2.7s\n",
      "39:\tlearn: 1610.0997880\ttotal: 1.77s\tremaining: 2.65s\n",
      "40:\tlearn: 1604.2139406\ttotal: 1.82s\tremaining: 2.62s\n",
      "41:\tlearn: 1599.2636454\ttotal: 1.86s\tremaining: 2.57s\n",
      "42:\tlearn: 1593.7187873\ttotal: 1.91s\tremaining: 2.53s\n",
      "43:\tlearn: 1588.9770296\ttotal: 1.95s\tremaining: 2.48s\n",
      "44:\tlearn: 1584.4235709\ttotal: 1.99s\tremaining: 2.43s\n",
      "45:\tlearn: 1582.2060142\ttotal: 2.04s\tremaining: 2.39s\n",
      "46:\tlearn: 1579.0227427\ttotal: 2.08s\tremaining: 2.35s\n",
      "47:\tlearn: 1576.9320668\ttotal: 2.14s\tremaining: 2.32s\n",
      "48:\tlearn: 1573.7688932\ttotal: 2.18s\tremaining: 2.27s\n",
      "49:\tlearn: 1570.4179132\ttotal: 2.23s\tremaining: 2.23s\n"
     ]
    },
    {
     "name": "stdout",
     "output_type": "stream",
     "text": [
      "50:\tlearn: 1567.7153139\ttotal: 2.27s\tremaining: 2.18s\n",
      "51:\tlearn: 1563.9099175\ttotal: 2.31s\tremaining: 2.13s\n",
      "52:\tlearn: 1559.9534898\ttotal: 2.35s\tremaining: 2.09s\n",
      "53:\tlearn: 1558.7583724\ttotal: 2.4s\tremaining: 2.04s\n",
      "54:\tlearn: 1556.2979316\ttotal: 2.44s\tremaining: 1.99s\n",
      "55:\tlearn: 1554.0951288\ttotal: 2.48s\tremaining: 1.95s\n",
      "56:\tlearn: 1551.9773844\ttotal: 2.52s\tremaining: 1.9s\n",
      "57:\tlearn: 1549.3322616\ttotal: 2.56s\tremaining: 1.86s\n",
      "58:\tlearn: 1547.6815444\ttotal: 2.61s\tremaining: 1.81s\n",
      "59:\tlearn: 1543.8429173\ttotal: 2.65s\tremaining: 1.77s\n",
      "60:\tlearn: 1541.7040803\ttotal: 2.69s\tremaining: 1.72s\n",
      "61:\tlearn: 1538.4108634\ttotal: 2.74s\tremaining: 1.68s\n",
      "62:\tlearn: 1535.4780770\ttotal: 2.78s\tremaining: 1.63s\n",
      "63:\tlearn: 1533.1246138\ttotal: 2.82s\tremaining: 1.59s\n",
      "64:\tlearn: 1530.9896608\ttotal: 2.86s\tremaining: 1.54s\n",
      "65:\tlearn: 1527.7168605\ttotal: 2.91s\tremaining: 1.5s\n",
      "66:\tlearn: 1524.9324629\ttotal: 2.95s\tremaining: 1.45s\n",
      "67:\tlearn: 1521.4809396\ttotal: 3s\tremaining: 1.41s\n",
      "68:\tlearn: 1519.5841016\ttotal: 3.04s\tremaining: 1.36s\n",
      "69:\tlearn: 1516.2903400\ttotal: 3.08s\tremaining: 1.32s\n",
      "70:\tlearn: 1514.4571275\ttotal: 3.12s\tremaining: 1.28s\n",
      "71:\tlearn: 1512.6115155\ttotal: 3.16s\tremaining: 1.23s\n",
      "72:\tlearn: 1512.2513197\ttotal: 3.21s\tremaining: 1.19s\n",
      "73:\tlearn: 1510.0755061\ttotal: 3.25s\tremaining: 1.14s\n",
      "74:\tlearn: 1508.6531063\ttotal: 3.31s\tremaining: 1.1s\n",
      "75:\tlearn: 1506.8612750\ttotal: 3.35s\tremaining: 1.06s\n",
      "76:\tlearn: 1505.1735016\ttotal: 3.4s\tremaining: 1.01s\n",
      "77:\tlearn: 1503.1372588\ttotal: 3.44s\tremaining: 970ms\n",
      "78:\tlearn: 1501.3246491\ttotal: 3.48s\tremaining: 925ms\n",
      "79:\tlearn: 1499.7074707\ttotal: 3.52s\tremaining: 880ms\n",
      "80:\tlearn: 1496.0687773\ttotal: 3.56s\tremaining: 835ms\n",
      "81:\tlearn: 1493.9939727\ttotal: 3.6s\tremaining: 791ms\n",
      "82:\tlearn: 1491.0813313\ttotal: 3.64s\tremaining: 746ms\n",
      "83:\tlearn: 1489.9760147\ttotal: 3.69s\tremaining: 702ms\n",
      "84:\tlearn: 1487.6309223\ttotal: 3.73s\tremaining: 658ms\n",
      "85:\tlearn: 1483.4154950\ttotal: 3.78s\tremaining: 616ms\n",
      "86:\tlearn: 1481.7072031\ttotal: 3.83s\tremaining: 572ms\n",
      "87:\tlearn: 1480.3362556\ttotal: 3.88s\tremaining: 529ms\n",
      "88:\tlearn: 1478.9587713\ttotal: 3.92s\tremaining: 484ms\n",
      "89:\tlearn: 1474.8455980\ttotal: 3.96s\tremaining: 440ms\n",
      "90:\tlearn: 1472.8405645\ttotal: 4s\tremaining: 396ms\n",
      "91:\tlearn: 1471.6848136\ttotal: 4.04s\tremaining: 351ms\n",
      "92:\tlearn: 1470.0536175\ttotal: 4.09s\tremaining: 308ms\n",
      "93:\tlearn: 1468.2918908\ttotal: 4.13s\tremaining: 263ms\n",
      "94:\tlearn: 1464.8766058\ttotal: 4.17s\tremaining: 219ms\n",
      "95:\tlearn: 1463.1787193\ttotal: 4.21s\tremaining: 175ms\n",
      "96:\tlearn: 1460.9433431\ttotal: 4.25s\tremaining: 132ms\n",
      "97:\tlearn: 1459.6817252\ttotal: 4.29s\tremaining: 87.6ms\n",
      "98:\tlearn: 1458.3370755\ttotal: 4.33s\tremaining: 43.8ms\n",
      "99:\tlearn: 1456.5753149\ttotal: 4.38s\tremaining: 0us\n",
      "0:\tlearn: 2498.2689276\ttotal: 43ms\tremaining: 4.26s\n",
      "1:\tlearn: 2189.3418105\ttotal: 83.4ms\tremaining: 4.09s\n",
      "2:\tlearn: 2063.2983751\ttotal: 132ms\tremaining: 4.26s\n",
      "3:\tlearn: 1995.1883925\ttotal: 172ms\tremaining: 4.13s\n",
      "4:\tlearn: 1961.5557429\ttotal: 221ms\tremaining: 4.2s\n",
      "5:\tlearn: 1917.2790147\ttotal: 264ms\tremaining: 4.13s\n",
      "6:\tlearn: 1898.9907419\ttotal: 310ms\tremaining: 4.12s\n",
      "7:\tlearn: 1878.8099829\ttotal: 354ms\tremaining: 4.07s\n",
      "8:\tlearn: 1853.2603759\ttotal: 400ms\tremaining: 4.04s\n",
      "9:\tlearn: 1835.8161632\ttotal: 443ms\tremaining: 3.99s\n",
      "10:\tlearn: 1811.2512299\ttotal: 484ms\tremaining: 3.91s\n",
      "11:\tlearn: 1798.1691497\ttotal: 527ms\tremaining: 3.87s\n",
      "12:\tlearn: 1786.5933260\ttotal: 568ms\tremaining: 3.8s\n",
      "13:\tlearn: 1767.3716842\ttotal: 620ms\tremaining: 3.81s\n",
      "14:\tlearn: 1759.8355061\ttotal: 662ms\tremaining: 3.75s\n",
      "15:\tlearn: 1746.2013307\ttotal: 714ms\tremaining: 3.75s\n",
      "16:\tlearn: 1739.0460970\ttotal: 755ms\tremaining: 3.69s\n",
      "17:\tlearn: 1729.9947866\ttotal: 810ms\tremaining: 3.69s\n",
      "18:\tlearn: 1724.1834285\ttotal: 851ms\tremaining: 3.63s\n",
      "19:\tlearn: 1715.7476191\ttotal: 901ms\tremaining: 3.6s\n",
      "20:\tlearn: 1706.8941550\ttotal: 942ms\tremaining: 3.54s\n",
      "21:\tlearn: 1701.5267723\ttotal: 991ms\tremaining: 3.51s\n",
      "22:\tlearn: 1694.7872019\ttotal: 1.04s\tremaining: 3.47s\n",
      "23:\tlearn: 1687.2047986\ttotal: 1.09s\tremaining: 3.44s\n",
      "24:\tlearn: 1681.3104051\ttotal: 1.13s\tremaining: 3.39s\n",
      "25:\tlearn: 1676.6608762\ttotal: 1.17s\tremaining: 3.33s\n",
      "26:\tlearn: 1672.1040523\ttotal: 1.22s\tremaining: 3.29s\n",
      "27:\tlearn: 1666.9103680\ttotal: 1.26s\tremaining: 3.24s\n",
      "28:\tlearn: 1662.6158325\ttotal: 1.31s\tremaining: 3.21s\n",
      "29:\tlearn: 1655.2578972\ttotal: 1.35s\tremaining: 3.15s\n",
      "30:\tlearn: 1650.5750386\ttotal: 1.4s\tremaining: 3.12s\n",
      "31:\tlearn: 1645.6257857\ttotal: 1.44s\tremaining: 3.06s\n",
      "32:\tlearn: 1643.0551884\ttotal: 1.49s\tremaining: 3.03s\n",
      "33:\tlearn: 1640.3530146\ttotal: 1.53s\tremaining: 2.97s\n",
      "34:\tlearn: 1635.1799994\ttotal: 1.58s\tremaining: 2.93s\n",
      "35:\tlearn: 1630.4668641\ttotal: 1.62s\tremaining: 2.87s\n",
      "36:\tlearn: 1624.8194368\ttotal: 1.66s\tremaining: 2.82s\n",
      "37:\tlearn: 1619.3388984\ttotal: 1.7s\tremaining: 2.78s\n",
      "38:\tlearn: 1616.4048271\ttotal: 1.74s\tremaining: 2.73s\n",
      "39:\tlearn: 1612.7359785\ttotal: 1.79s\tremaining: 2.69s\n",
      "40:\tlearn: 1607.9003097\ttotal: 1.83s\tremaining: 2.63s\n",
      "41:\tlearn: 1605.3354296\ttotal: 1.88s\tremaining: 2.6s\n",
      "42:\tlearn: 1602.4478064\ttotal: 1.92s\tremaining: 2.54s\n",
      "43:\tlearn: 1598.2864807\ttotal: 1.96s\tremaining: 2.49s\n",
      "44:\tlearn: 1595.2873402\ttotal: 2s\tremaining: 2.45s\n",
      "45:\tlearn: 1590.6229492\ttotal: 2.04s\tremaining: 2.4s\n",
      "46:\tlearn: 1587.8453351\ttotal: 2.11s\tremaining: 2.38s\n",
      "47:\tlearn: 1583.2027425\ttotal: 2.15s\tremaining: 2.33s\n",
      "48:\tlearn: 1579.1803726\ttotal: 2.2s\tremaining: 2.29s\n",
      "49:\tlearn: 1576.5578700\ttotal: 2.24s\tremaining: 2.24s\n",
      "50:\tlearn: 1573.8966189\ttotal: 2.29s\tremaining: 2.2s\n",
      "51:\tlearn: 1572.8609742\ttotal: 2.33s\tremaining: 2.15s\n",
      "52:\tlearn: 1569.7567915\ttotal: 2.37s\tremaining: 2.1s\n",
      "53:\tlearn: 1566.0940768\ttotal: 2.42s\tremaining: 2.06s\n",
      "54:\tlearn: 1562.7201770\ttotal: 2.45s\tremaining: 2.01s\n",
      "55:\tlearn: 1559.4003490\ttotal: 2.5s\tremaining: 1.96s\n",
      "56:\tlearn: 1556.7632887\ttotal: 2.54s\tremaining: 1.92s\n",
      "57:\tlearn: 1554.7002329\ttotal: 2.59s\tremaining: 1.88s\n",
      "58:\tlearn: 1552.1651706\ttotal: 2.63s\tremaining: 1.83s\n",
      "59:\tlearn: 1550.2313527\ttotal: 2.68s\tremaining: 1.78s\n",
      "60:\tlearn: 1546.6136943\ttotal: 2.72s\tremaining: 1.74s\n",
      "61:\tlearn: 1544.4255657\ttotal: 2.77s\tremaining: 1.7s\n",
      "62:\tlearn: 1541.1114467\ttotal: 2.81s\tremaining: 1.65s\n",
      "63:\tlearn: 1538.8552790\ttotal: 2.85s\tremaining: 1.6s\n",
      "64:\tlearn: 1535.6044063\ttotal: 2.89s\tremaining: 1.56s\n",
      "65:\tlearn: 1533.5339324\ttotal: 2.94s\tremaining: 1.51s\n",
      "66:\tlearn: 1531.8383444\ttotal: 2.98s\tremaining: 1.47s\n",
      "67:\tlearn: 1529.6343401\ttotal: 3.02s\tremaining: 1.42s\n",
      "68:\tlearn: 1526.9848885\ttotal: 3.07s\tremaining: 1.38s\n",
      "69:\tlearn: 1524.3707558\ttotal: 3.11s\tremaining: 1.33s\n",
      "70:\tlearn: 1521.6536250\ttotal: 3.16s\tremaining: 1.29s\n",
      "71:\tlearn: 1518.3319937\ttotal: 3.2s\tremaining: 1.25s\n",
      "72:\tlearn: 1515.4462511\ttotal: 3.24s\tremaining: 1.2s\n",
      "73:\tlearn: 1514.3583845\ttotal: 3.29s\tremaining: 1.16s\n",
      "74:\tlearn: 1512.8727574\ttotal: 3.33s\tremaining: 1.11s\n",
      "75:\tlearn: 1510.6601457\ttotal: 3.38s\tremaining: 1.07s\n",
      "76:\tlearn: 1508.5534966\ttotal: 3.43s\tremaining: 1.02s\n",
      "77:\tlearn: 1507.2205700\ttotal: 3.48s\tremaining: 982ms\n",
      "78:\tlearn: 1503.9170761\ttotal: 3.52s\tremaining: 936ms\n",
      "79:\tlearn: 1501.1590056\ttotal: 3.57s\tremaining: 892ms\n",
      "80:\tlearn: 1498.3802639\ttotal: 3.61s\tremaining: 847ms\n",
      "81:\tlearn: 1495.2052446\ttotal: 3.66s\tremaining: 803ms\n",
      "82:\tlearn: 1492.7560467\ttotal: 3.7s\tremaining: 757ms\n",
      "83:\tlearn: 1490.2807457\ttotal: 3.73s\tremaining: 712ms\n",
      "84:\tlearn: 1488.3975900\ttotal: 3.78s\tremaining: 667ms\n",
      "85:\tlearn: 1487.2797457\ttotal: 3.82s\tremaining: 622ms\n",
      "86:\tlearn: 1484.7643337\ttotal: 3.87s\tremaining: 578ms\n",
      "87:\tlearn: 1482.4909468\ttotal: 3.92s\tremaining: 535ms\n",
      "88:\tlearn: 1480.3197794\ttotal: 3.97s\tremaining: 491ms\n",
      "89:\tlearn: 1479.3087131\ttotal: 4.01s\tremaining: 446ms\n",
      "90:\tlearn: 1477.8826531\ttotal: 4.07s\tremaining: 402ms\n",
      "91:\tlearn: 1476.0260708\ttotal: 4.11s\tremaining: 357ms\n",
      "92:\tlearn: 1474.8797139\ttotal: 4.16s\tremaining: 313ms\n",
      "93:\tlearn: 1472.3858101\ttotal: 4.2s\tremaining: 268ms\n",
      "94:\tlearn: 1470.5960619\ttotal: 4.24s\tremaining: 223ms\n",
      "95:\tlearn: 1469.4302616\ttotal: 4.29s\tremaining: 179ms\n",
      "96:\tlearn: 1468.6711065\ttotal: 4.33s\tremaining: 134ms\n",
      "97:\tlearn: 1466.7166921\ttotal: 4.37s\tremaining: 89.3ms\n",
      "98:\tlearn: 1464.8153370\ttotal: 4.41s\tremaining: 44.6ms\n",
      "99:\tlearn: 1463.0946163\ttotal: 4.46s\tremaining: 0us\n",
      "0:\tlearn: 2482.9448419\ttotal: 39.5ms\tremaining: 3.91s\n",
      "1:\tlearn: 2188.9772769\ttotal: 88.7ms\tremaining: 4.35s\n",
      "2:\tlearn: 2050.7592534\ttotal: 129ms\tremaining: 4.18s\n",
      "3:\tlearn: 1979.9048170\ttotal: 177ms\tremaining: 4.25s\n",
      "4:\tlearn: 1943.9527319\ttotal: 218ms\tremaining: 4.14s\n"
     ]
    },
    {
     "name": "stdout",
     "output_type": "stream",
     "text": [
      "5:\tlearn: 1916.9587303\ttotal: 262ms\tremaining: 4.11s\n",
      "6:\tlearn: 1895.2526455\ttotal: 303ms\tremaining: 4.03s\n",
      "7:\tlearn: 1880.0246382\ttotal: 344ms\tremaining: 3.95s\n",
      "8:\tlearn: 1857.7735862\ttotal: 389ms\tremaining: 3.94s\n",
      "9:\tlearn: 1835.0422599\ttotal: 430ms\tremaining: 3.87s\n",
      "10:\tlearn: 1814.3552407\ttotal: 478ms\tremaining: 3.86s\n",
      "11:\tlearn: 1799.6151290\ttotal: 517ms\tremaining: 3.79s\n",
      "12:\tlearn: 1787.2477053\ttotal: 567ms\tremaining: 3.79s\n",
      "13:\tlearn: 1775.3236219\ttotal: 607ms\tremaining: 3.73s\n",
      "14:\tlearn: 1765.9538446\ttotal: 650ms\tremaining: 3.68s\n",
      "15:\tlearn: 1755.6489735\ttotal: 695ms\tremaining: 3.65s\n",
      "16:\tlearn: 1739.1639222\ttotal: 735ms\tremaining: 3.59s\n",
      "17:\tlearn: 1731.3456516\ttotal: 785ms\tremaining: 3.57s\n",
      "18:\tlearn: 1721.8221540\ttotal: 827ms\tremaining: 3.52s\n",
      "19:\tlearn: 1716.5569665\ttotal: 875ms\tremaining: 3.5s\n",
      "20:\tlearn: 1711.5110023\ttotal: 916ms\tremaining: 3.45s\n",
      "21:\tlearn: 1706.2327984\ttotal: 969ms\tremaining: 3.44s\n",
      "22:\tlearn: 1701.8871781\ttotal: 1.01s\tremaining: 3.38s\n",
      "23:\tlearn: 1697.2758766\ttotal: 1.06s\tremaining: 3.35s\n",
      "24:\tlearn: 1690.5821956\ttotal: 1.1s\tremaining: 3.29s\n",
      "25:\tlearn: 1683.8082018\ttotal: 1.14s\tremaining: 3.24s\n",
      "26:\tlearn: 1674.4662443\ttotal: 1.18s\tremaining: 3.2s\n",
      "27:\tlearn: 1670.2679553\ttotal: 1.22s\tremaining: 3.15s\n",
      "28:\tlearn: 1663.6463980\ttotal: 1.27s\tremaining: 3.11s\n",
      "29:\tlearn: 1659.7731650\ttotal: 1.31s\tremaining: 3.06s\n",
      "30:\tlearn: 1653.9155935\ttotal: 1.36s\tremaining: 3.03s\n",
      "31:\tlearn: 1647.6651233\ttotal: 1.4s\tremaining: 2.98s\n",
      "32:\tlearn: 1643.0135516\ttotal: 1.45s\tremaining: 2.95s\n",
      "33:\tlearn: 1638.2138635\ttotal: 1.49s\tremaining: 2.9s\n",
      "34:\tlearn: 1631.0480328\ttotal: 1.53s\tremaining: 2.85s\n",
      "35:\tlearn: 1628.4413884\ttotal: 1.58s\tremaining: 2.81s\n",
      "36:\tlearn: 1624.9655784\ttotal: 1.62s\tremaining: 2.76s\n",
      "37:\tlearn: 1622.6528876\ttotal: 1.67s\tremaining: 2.72s\n",
      "38:\tlearn: 1618.3680637\ttotal: 1.71s\tremaining: 2.67s\n",
      "39:\tlearn: 1613.7661443\ttotal: 1.76s\tremaining: 2.64s\n",
      "40:\tlearn: 1608.5836444\ttotal: 1.8s\tremaining: 2.59s\n",
      "41:\tlearn: 1601.2740114\ttotal: 1.85s\tremaining: 2.56s\n",
      "42:\tlearn: 1598.1012336\ttotal: 1.89s\tremaining: 2.51s\n",
      "43:\tlearn: 1594.7504232\ttotal: 1.93s\tremaining: 2.46s\n",
      "44:\tlearn: 1591.9104913\ttotal: 1.97s\tremaining: 2.41s\n",
      "45:\tlearn: 1588.4771985\ttotal: 2.02s\tremaining: 2.37s\n",
      "46:\tlearn: 1584.1156121\ttotal: 2.06s\tremaining: 2.33s\n",
      "47:\tlearn: 1579.4002955\ttotal: 2.1s\tremaining: 2.28s\n",
      "48:\tlearn: 1576.7933540\ttotal: 2.15s\tremaining: 2.23s\n",
      "49:\tlearn: 1573.4253768\ttotal: 2.19s\tremaining: 2.19s\n",
      "50:\tlearn: 1571.2425870\ttotal: 2.24s\tremaining: 2.15s\n",
      "51:\tlearn: 1568.8466476\ttotal: 2.28s\tremaining: 2.1s\n",
      "52:\tlearn: 1565.5102106\ttotal: 2.32s\tremaining: 2.06s\n",
      "53:\tlearn: 1561.1451967\ttotal: 2.37s\tremaining: 2.02s\n",
      "54:\tlearn: 1556.2002294\ttotal: 2.41s\tremaining: 1.97s\n",
      "55:\tlearn: 1553.9712262\ttotal: 2.46s\tremaining: 1.93s\n",
      "56:\tlearn: 1550.9439234\ttotal: 2.5s\tremaining: 1.89s\n",
      "57:\tlearn: 1547.4768935\ttotal: 2.55s\tremaining: 1.85s\n",
      "58:\tlearn: 1544.2105395\ttotal: 2.59s\tremaining: 1.8s\n",
      "59:\tlearn: 1542.2270121\ttotal: 2.64s\tremaining: 1.76s\n",
      "60:\tlearn: 1540.4851101\ttotal: 2.68s\tremaining: 1.72s\n",
      "61:\tlearn: 1538.7705172\ttotal: 2.73s\tremaining: 1.68s\n",
      "62:\tlearn: 1536.7363359\ttotal: 2.79s\tremaining: 1.64s\n",
      "63:\tlearn: 1533.9431864\ttotal: 2.83s\tremaining: 1.59s\n",
      "64:\tlearn: 1531.9611290\ttotal: 2.88s\tremaining: 1.55s\n",
      "65:\tlearn: 1530.2504737\ttotal: 2.93s\tremaining: 1.51s\n",
      "66:\tlearn: 1528.4408071\ttotal: 2.97s\tremaining: 1.46s\n",
      "67:\tlearn: 1525.2029137\ttotal: 3.01s\tremaining: 1.42s\n",
      "68:\tlearn: 1522.7431243\ttotal: 3.06s\tremaining: 1.38s\n",
      "69:\tlearn: 1521.1138559\ttotal: 3.11s\tremaining: 1.33s\n",
      "70:\tlearn: 1519.2998547\ttotal: 3.17s\tremaining: 1.29s\n",
      "71:\tlearn: 1516.0093307\ttotal: 3.23s\tremaining: 1.26s\n",
      "72:\tlearn: 1512.8254593\ttotal: 3.27s\tremaining: 1.21s\n",
      "73:\tlearn: 1510.6096937\ttotal: 3.31s\tremaining: 1.16s\n",
      "74:\tlearn: 1508.2986197\ttotal: 3.35s\tremaining: 1.12s\n",
      "75:\tlearn: 1505.9240181\ttotal: 3.39s\tremaining: 1.07s\n",
      "76:\tlearn: 1504.7157799\ttotal: 3.44s\tremaining: 1.03s\n",
      "77:\tlearn: 1501.2359220\ttotal: 3.48s\tremaining: 981ms\n",
      "78:\tlearn: 1498.1181090\ttotal: 3.52s\tremaining: 937ms\n",
      "79:\tlearn: 1496.2526191\ttotal: 3.56s\tremaining: 890ms\n",
      "80:\tlearn: 1494.2312429\ttotal: 3.6s\tremaining: 845ms\n",
      "81:\tlearn: 1493.0810972\ttotal: 3.64s\tremaining: 800ms\n",
      "82:\tlearn: 1490.9004404\ttotal: 3.69s\tremaining: 756ms\n",
      "83:\tlearn: 1489.7109936\ttotal: 3.74s\tremaining: 712ms\n",
      "84:\tlearn: 1486.8259947\ttotal: 3.78s\tremaining: 667ms\n",
      "85:\tlearn: 1485.7315957\ttotal: 3.84s\tremaining: 625ms\n",
      "86:\tlearn: 1483.7404909\ttotal: 3.88s\tremaining: 579ms\n",
      "87:\tlearn: 1480.8867890\ttotal: 3.93s\tremaining: 535ms\n",
      "88:\tlearn: 1478.1527039\ttotal: 3.97s\tremaining: 490ms\n",
      "89:\tlearn: 1476.1145631\ttotal: 4.01s\tremaining: 446ms\n",
      "90:\tlearn: 1473.6553720\ttotal: 4.05s\tremaining: 401ms\n",
      "91:\tlearn: 1471.0749099\ttotal: 4.11s\tremaining: 357ms\n",
      "92:\tlearn: 1470.1844563\ttotal: 4.15s\tremaining: 312ms\n",
      "93:\tlearn: 1468.7626524\ttotal: 4.19s\tremaining: 268ms\n",
      "94:\tlearn: 1467.8115714\ttotal: 4.24s\tremaining: 223ms\n",
      "95:\tlearn: 1466.3333657\ttotal: 4.28s\tremaining: 178ms\n",
      "96:\tlearn: 1463.9288760\ttotal: 4.33s\tremaining: 134ms\n",
      "97:\tlearn: 1460.1942061\ttotal: 4.37s\tremaining: 89.2ms\n",
      "98:\tlearn: 1459.2655889\ttotal: 4.42s\tremaining: 44.6ms\n",
      "99:\tlearn: 1457.5053556\ttotal: 4.46s\tremaining: 0us\n",
      "0:\tlearn: 2458.7481897\ttotal: 49.5ms\tremaining: 4.9s\n",
      "1:\tlearn: 2203.0669942\ttotal: 106ms\tremaining: 5.17s\n",
      "2:\tlearn: 2051.9400181\ttotal: 155ms\tremaining: 5.01s\n",
      "3:\tlearn: 1979.7140465\ttotal: 213ms\tremaining: 5.12s\n",
      "4:\tlearn: 1936.5238495\ttotal: 261ms\tremaining: 4.96s\n",
      "5:\tlearn: 1903.5103326\ttotal: 315ms\tremaining: 4.93s\n",
      "6:\tlearn: 1885.6594325\ttotal: 363ms\tremaining: 4.82s\n",
      "7:\tlearn: 1866.2553180\ttotal: 417ms\tremaining: 4.79s\n",
      "8:\tlearn: 1847.2055055\ttotal: 463ms\tremaining: 4.68s\n",
      "9:\tlearn: 1828.0991115\ttotal: 516ms\tremaining: 4.65s\n",
      "10:\tlearn: 1813.3920936\ttotal: 565ms\tremaining: 4.57s\n",
      "11:\tlearn: 1802.2893453\ttotal: 633ms\tremaining: 4.64s\n",
      "12:\tlearn: 1781.5195409\ttotal: 687ms\tremaining: 4.6s\n",
      "13:\tlearn: 1772.2651479\ttotal: 737ms\tremaining: 4.53s\n",
      "14:\tlearn: 1763.9759801\ttotal: 795ms\tremaining: 4.51s\n",
      "15:\tlearn: 1754.0506691\ttotal: 846ms\tremaining: 4.44s\n",
      "16:\tlearn: 1746.9005907\ttotal: 904ms\tremaining: 4.41s\n",
      "17:\tlearn: 1736.3627455\ttotal: 954ms\tremaining: 4.35s\n",
      "18:\tlearn: 1729.7615343\ttotal: 1.01s\tremaining: 4.31s\n",
      "19:\tlearn: 1722.7206849\ttotal: 1.06s\tremaining: 4.24s\n",
      "20:\tlearn: 1715.8541150\ttotal: 1.11s\tremaining: 4.18s\n",
      "21:\tlearn: 1711.8244161\ttotal: 1.17s\tremaining: 4.16s\n",
      "22:\tlearn: 1704.0085597\ttotal: 1.22s\tremaining: 4.09s\n",
      "23:\tlearn: 1699.4179084\ttotal: 1.28s\tremaining: 4.05s\n",
      "24:\tlearn: 1691.0839866\ttotal: 1.32s\tremaining: 3.98s\n",
      "25:\tlearn: 1685.9791128\ttotal: 1.39s\tremaining: 3.95s\n",
      "26:\tlearn: 1681.0617495\ttotal: 1.44s\tremaining: 3.88s\n",
      "27:\tlearn: 1674.4245996\ttotal: 1.49s\tremaining: 3.84s\n",
      "28:\tlearn: 1669.7472612\ttotal: 1.54s\tremaining: 3.77s\n",
      "29:\tlearn: 1665.0554473\ttotal: 1.6s\tremaining: 3.73s\n",
      "30:\tlearn: 1661.4199430\ttotal: 1.65s\tremaining: 3.67s\n",
      "31:\tlearn: 1657.6628446\ttotal: 1.7s\tremaining: 3.61s\n",
      "32:\tlearn: 1653.2607262\ttotal: 1.75s\tremaining: 3.55s\n",
      "33:\tlearn: 1650.5858634\ttotal: 1.82s\tremaining: 3.53s\n",
      "34:\tlearn: 1646.1715046\ttotal: 1.87s\tremaining: 3.48s\n",
      "35:\tlearn: 1642.1004586\ttotal: 1.92s\tremaining: 3.41s\n",
      "36:\tlearn: 1638.6851556\ttotal: 1.98s\tremaining: 3.36s\n",
      "37:\tlearn: 1635.0299773\ttotal: 2.02s\tremaining: 3.3s\n",
      "38:\tlearn: 1630.6950664\ttotal: 2.09s\tremaining: 3.27s\n",
      "39:\tlearn: 1627.0297853\ttotal: 2.16s\tremaining: 3.24s\n",
      "40:\tlearn: 1623.9335376\ttotal: 2.21s\tremaining: 3.18s\n",
      "41:\tlearn: 1620.4473745\ttotal: 2.29s\tremaining: 3.17s\n",
      "42:\tlearn: 1615.2584661\ttotal: 2.36s\tremaining: 3.13s\n",
      "43:\tlearn: 1611.2517331\ttotal: 2.41s\tremaining: 3.06s\n",
      "44:\tlearn: 1608.2771555\ttotal: 2.46s\tremaining: 3s\n",
      "45:\tlearn: 1605.1892871\ttotal: 2.5s\tremaining: 2.94s\n",
      "46:\tlearn: 1600.5454826\ttotal: 2.55s\tremaining: 2.88s\n",
      "47:\tlearn: 1598.3804778\ttotal: 2.6s\tremaining: 2.82s\n",
      "48:\tlearn: 1596.0964053\ttotal: 2.66s\tremaining: 2.77s\n",
      "49:\tlearn: 1593.1019305\ttotal: 2.73s\tremaining: 2.73s\n",
      "50:\tlearn: 1590.4675515\ttotal: 2.79s\tremaining: 2.68s\n",
      "51:\tlearn: 1587.3423813\ttotal: 2.83s\tremaining: 2.62s\n",
      "52:\tlearn: 1586.1493970\ttotal: 2.89s\tremaining: 2.56s\n",
      "53:\tlearn: 1583.8116429\ttotal: 2.93s\tremaining: 2.5s\n",
      "54:\tlearn: 1579.0891328\ttotal: 2.98s\tremaining: 2.44s\n",
      "55:\tlearn: 1577.3447651\ttotal: 3.03s\tremaining: 2.38s\n",
      "56:\tlearn: 1574.5404168\ttotal: 3.09s\tremaining: 2.33s\n",
      "57:\tlearn: 1570.6078497\ttotal: 3.13s\tremaining: 2.27s\n"
     ]
    },
    {
     "name": "stdout",
     "output_type": "stream",
     "text": [
      "58:\tlearn: 1567.2418848\ttotal: 3.19s\tremaining: 2.21s\n",
      "59:\tlearn: 1564.9576703\ttotal: 3.24s\tremaining: 2.16s\n",
      "60:\tlearn: 1562.9838042\ttotal: 3.29s\tremaining: 2.1s\n",
      "61:\tlearn: 1560.3338076\ttotal: 3.34s\tremaining: 2.05s\n",
      "62:\tlearn: 1557.3195591\ttotal: 3.39s\tremaining: 1.99s\n",
      "63:\tlearn: 1554.1803753\ttotal: 3.43s\tremaining: 1.93s\n",
      "64:\tlearn: 1552.8833231\ttotal: 3.48s\tremaining: 1.88s\n",
      "65:\tlearn: 1550.4157238\ttotal: 3.53s\tremaining: 1.82s\n",
      "66:\tlearn: 1548.6744950\ttotal: 3.58s\tremaining: 1.76s\n",
      "67:\tlearn: 1546.5364833\ttotal: 3.63s\tremaining: 1.71s\n",
      "68:\tlearn: 1544.0071296\ttotal: 3.68s\tremaining: 1.65s\n",
      "69:\tlearn: 1541.9752906\ttotal: 3.73s\tremaining: 1.6s\n",
      "70:\tlearn: 1540.5193610\ttotal: 3.78s\tremaining: 1.54s\n",
      "71:\tlearn: 1537.6364543\ttotal: 3.82s\tremaining: 1.49s\n",
      "72:\tlearn: 1536.0392420\ttotal: 3.87s\tremaining: 1.43s\n",
      "73:\tlearn: 1532.3813108\ttotal: 3.92s\tremaining: 1.38s\n",
      "74:\tlearn: 1528.8473263\ttotal: 3.98s\tremaining: 1.32s\n",
      "75:\tlearn: 1527.0472506\ttotal: 4.02s\tremaining: 1.27s\n",
      "76:\tlearn: 1525.4420551\ttotal: 4.08s\tremaining: 1.22s\n",
      "77:\tlearn: 1523.3418972\ttotal: 4.13s\tremaining: 1.16s\n",
      "78:\tlearn: 1521.6189894\ttotal: 4.18s\tremaining: 1.11s\n",
      "79:\tlearn: 1519.6779462\ttotal: 4.23s\tremaining: 1.06s\n",
      "80:\tlearn: 1515.7758390\ttotal: 4.28s\tremaining: 1s\n",
      "81:\tlearn: 1513.9432534\ttotal: 4.34s\tremaining: 952ms\n",
      "82:\tlearn: 1512.3692286\ttotal: 4.38s\tremaining: 898ms\n",
      "83:\tlearn: 1510.8472927\ttotal: 4.44s\tremaining: 845ms\n",
      "84:\tlearn: 1509.4405100\ttotal: 4.48s\tremaining: 791ms\n",
      "85:\tlearn: 1507.4108944\ttotal: 4.54s\tremaining: 739ms\n",
      "86:\tlearn: 1505.9310590\ttotal: 4.58s\tremaining: 685ms\n",
      "87:\tlearn: 1504.4128170\ttotal: 4.64s\tremaining: 633ms\n",
      "88:\tlearn: 1503.2310323\ttotal: 4.69s\tremaining: 579ms\n",
      "89:\tlearn: 1500.9414757\ttotal: 4.75s\tremaining: 527ms\n",
      "90:\tlearn: 1499.0310920\ttotal: 4.79s\tremaining: 474ms\n",
      "91:\tlearn: 1497.2369661\ttotal: 4.85s\tremaining: 422ms\n",
      "92:\tlearn: 1494.4259596\ttotal: 4.91s\tremaining: 369ms\n",
      "93:\tlearn: 1492.6549503\ttotal: 4.96s\tremaining: 317ms\n",
      "94:\tlearn: 1491.3733893\ttotal: 5.01s\tremaining: 264ms\n",
      "95:\tlearn: 1489.5632901\ttotal: 5.06s\tremaining: 211ms\n",
      "96:\tlearn: 1488.6679134\ttotal: 5.11s\tremaining: 158ms\n",
      "97:\tlearn: 1487.1213725\ttotal: 5.16s\tremaining: 105ms\n",
      "98:\tlearn: 1485.3410820\ttotal: 5.2s\tremaining: 52.6ms\n",
      "99:\tlearn: 1483.2916302\ttotal: 5.25s\tremaining: 0us\n"
     ]
    },
    {
     "data": {
      "text/plain": [
       "GridSearchCV(estimator=<catboost.core.CatBoostRegressor object at 0x7f74a13e4a90>,\n",
       "             param_grid={'depth': [5, 10], 'learning_rate': [0.05, 1]},\n",
       "             scoring='neg_mean_squared_error')"
      ]
     },
     "execution_count": 43,
     "metadata": {},
     "output_type": "execute_result"
    }
   ],
   "source": [
    "params_cat = {'learning_rate': [0.05, 1],\n",
    "              'depth': [5, 10]\n",
    "              }\n",
    "\n",
    "model_catboost = CatBoostRegressor(iterations=100,\n",
    "                                   loss_function='RMSE',\n",
    "                                   random_state=RANDOM_STATE)\n",
    "\n",
    "gscb = GridSearchCV(model_catboost, params_cat, scoring='neg_mean_squared_error')\n",
    "gscb.fit(X_train_ohe, y_train_ohe)"
   ]
  },
  {
   "cell_type": "code",
   "execution_count": 44,
   "metadata": {
    "scrolled": true
   },
   "outputs": [
    {
     "name": "stdout",
     "output_type": "stream",
     "text": [
      "{'depth': 10, 'learning_rate': 1}\n"
     ]
    }
   ],
   "source": [
    "print(gscb.best_params_)"
   ]
  },
  {
   "cell_type": "markdown",
   "metadata": {},
   "source": [
    "Обучим модель на найденных гиперпараметрах. Рассчитаем скорость."
   ]
  },
  {
   "cell_type": "code",
   "execution_count": 45,
   "metadata": {
    "scrolled": true
   },
   "outputs": [
    {
     "name": "stdout",
     "output_type": "stream",
     "text": [
      "0:\tlearn: 2444.2567294\ttotal: 131ms\tremaining: 13s\n",
      "1:\tlearn: 2197.5264869\ttotal: 246ms\tremaining: 12.1s\n",
      "2:\tlearn: 2097.0030685\ttotal: 351ms\tremaining: 11.3s\n",
      "3:\tlearn: 1998.3064315\ttotal: 446ms\tremaining: 10.7s\n",
      "4:\tlearn: 1925.5139048\ttotal: 553ms\tremaining: 10.5s\n",
      "5:\tlearn: 1889.8095811\ttotal: 646ms\tremaining: 10.1s\n",
      "6:\tlearn: 1853.5059339\ttotal: 744ms\tremaining: 9.88s\n",
      "7:\tlearn: 1826.6641886\ttotal: 847ms\tremaining: 9.73s\n",
      "8:\tlearn: 1807.2544427\ttotal: 946ms\tremaining: 9.56s\n",
      "9:\tlearn: 1794.2038730\ttotal: 1.05s\tremaining: 9.47s\n",
      "10:\tlearn: 1777.9752814\ttotal: 1.16s\tremaining: 9.42s\n",
      "11:\tlearn: 1770.2715512\ttotal: 1.27s\tremaining: 9.35s\n",
      "12:\tlearn: 1752.1551620\ttotal: 1.4s\tremaining: 9.36s\n",
      "13:\tlearn: 1739.3626419\ttotal: 1.54s\tremaining: 9.48s\n",
      "14:\tlearn: 1726.3544932\ttotal: 1.65s\tremaining: 9.32s\n",
      "15:\tlearn: 1716.2999213\ttotal: 1.75s\tremaining: 9.18s\n",
      "16:\tlearn: 1700.6905087\ttotal: 1.84s\tremaining: 9.01s\n",
      "17:\tlearn: 1692.4804367\ttotal: 1.94s\tremaining: 8.84s\n",
      "18:\tlearn: 1684.3593412\ttotal: 2.05s\tremaining: 8.73s\n",
      "19:\tlearn: 1672.6324348\ttotal: 2.16s\tremaining: 8.63s\n",
      "20:\tlearn: 1662.8558403\ttotal: 2.26s\tremaining: 8.49s\n",
      "21:\tlearn: 1654.0839307\ttotal: 2.36s\tremaining: 8.37s\n",
      "22:\tlearn: 1646.3802800\ttotal: 2.46s\tremaining: 8.25s\n",
      "23:\tlearn: 1640.4829180\ttotal: 2.57s\tremaining: 8.15s\n",
      "24:\tlearn: 1632.8925368\ttotal: 2.67s\tremaining: 8.03s\n",
      "25:\tlearn: 1628.1451835\ttotal: 2.78s\tremaining: 7.92s\n",
      "26:\tlearn: 1621.3884006\ttotal: 2.88s\tremaining: 7.79s\n",
      "27:\tlearn: 1617.2387543\ttotal: 3.01s\tremaining: 7.73s\n",
      "28:\tlearn: 1611.4442005\ttotal: 3.11s\tremaining: 7.61s\n",
      "29:\tlearn: 1605.5610442\ttotal: 3.21s\tremaining: 7.48s\n",
      "30:\tlearn: 1602.0086529\ttotal: 3.31s\tremaining: 7.37s\n",
      "31:\tlearn: 1595.4569993\ttotal: 3.42s\tremaining: 7.27s\n",
      "32:\tlearn: 1590.1415997\ttotal: 3.52s\tremaining: 7.15s\n",
      "33:\tlearn: 1586.3490206\ttotal: 3.63s\tremaining: 7.05s\n",
      "34:\tlearn: 1582.1398105\ttotal: 3.73s\tremaining: 6.92s\n",
      "35:\tlearn: 1575.9306964\ttotal: 3.83s\tremaining: 6.81s\n",
      "36:\tlearn: 1570.9968153\ttotal: 3.93s\tremaining: 6.7s\n",
      "37:\tlearn: 1567.1691895\ttotal: 4.04s\tremaining: 6.59s\n",
      "38:\tlearn: 1563.7809549\ttotal: 4.14s\tremaining: 6.48s\n",
      "39:\tlearn: 1558.9461575\ttotal: 4.25s\tremaining: 6.37s\n",
      "40:\tlearn: 1553.2605281\ttotal: 4.35s\tremaining: 6.26s\n",
      "41:\tlearn: 1548.3504245\ttotal: 4.45s\tremaining: 6.15s\n",
      "42:\tlearn: 1543.6616778\ttotal: 4.55s\tremaining: 6.03s\n",
      "43:\tlearn: 1542.8363884\ttotal: 4.66s\tremaining: 5.92s\n",
      "44:\tlearn: 1540.1946520\ttotal: 4.75s\tremaining: 5.81s\n",
      "45:\tlearn: 1537.0806956\ttotal: 4.86s\tremaining: 5.71s\n",
      "46:\tlearn: 1535.0846562\ttotal: 4.96s\tremaining: 5.6s\n",
      "47:\tlearn: 1533.7442640\ttotal: 5.07s\tremaining: 5.49s\n",
      "48:\tlearn: 1530.9916038\ttotal: 5.18s\tremaining: 5.39s\n",
      "49:\tlearn: 1528.4853536\ttotal: 5.28s\tremaining: 5.28s\n",
      "50:\tlearn: 1526.2703795\ttotal: 5.38s\tremaining: 5.17s\n",
      "51:\tlearn: 1522.6887422\ttotal: 5.49s\tremaining: 5.06s\n",
      "52:\tlearn: 1518.5345694\ttotal: 5.58s\tremaining: 4.95s\n",
      "53:\tlearn: 1515.4340132\ttotal: 5.68s\tremaining: 4.84s\n",
      "54:\tlearn: 1513.4738932\ttotal: 5.78s\tremaining: 4.73s\n",
      "55:\tlearn: 1510.9283712\ttotal: 5.89s\tremaining: 4.63s\n",
      "56:\tlearn: 1507.6402302\ttotal: 5.99s\tremaining: 4.52s\n",
      "57:\tlearn: 1505.0536874\ttotal: 6.09s\tremaining: 4.41s\n",
      "58:\tlearn: 1502.3461562\ttotal: 6.2s\tremaining: 4.31s\n",
      "59:\tlearn: 1499.4546545\ttotal: 6.3s\tremaining: 4.2s\n",
      "60:\tlearn: 1497.7971336\ttotal: 6.4s\tremaining: 4.09s\n",
      "61:\tlearn: 1495.3866684\ttotal: 6.52s\tremaining: 3.99s\n",
      "62:\tlearn: 1494.3674212\ttotal: 6.63s\tremaining: 3.89s\n",
      "63:\tlearn: 1492.6802306\ttotal: 6.74s\tremaining: 3.79s\n",
      "64:\tlearn: 1489.6462794\ttotal: 6.84s\tremaining: 3.69s\n",
      "65:\tlearn: 1487.1550825\ttotal: 6.95s\tremaining: 3.58s\n",
      "66:\tlearn: 1486.0066258\ttotal: 7.06s\tremaining: 3.48s\n",
      "67:\tlearn: 1482.9770122\ttotal: 7.17s\tremaining: 3.37s\n",
      "68:\tlearn: 1482.1014908\ttotal: 7.27s\tremaining: 3.27s\n",
      "69:\tlearn: 1480.2249619\ttotal: 7.38s\tremaining: 3.16s\n",
      "70:\tlearn: 1476.6319701\ttotal: 7.5s\tremaining: 3.06s\n",
      "71:\tlearn: 1474.6321492\ttotal: 7.6s\tremaining: 2.95s\n",
      "72:\tlearn: 1471.4854333\ttotal: 7.7s\tremaining: 2.85s\n",
      "73:\tlearn: 1468.2845491\ttotal: 7.81s\tremaining: 2.74s\n",
      "74:\tlearn: 1467.6683169\ttotal: 7.92s\tremaining: 2.64s\n",
      "75:\tlearn: 1464.8551128\ttotal: 8.03s\tremaining: 2.54s\n",
      "76:\tlearn: 1463.0515263\ttotal: 8.13s\tremaining: 2.43s\n",
      "77:\tlearn: 1462.5076327\ttotal: 8.25s\tremaining: 2.33s\n",
      "78:\tlearn: 1460.4161703\ttotal: 8.37s\tremaining: 2.23s\n",
      "79:\tlearn: 1459.1281065\ttotal: 8.47s\tremaining: 2.12s\n",
      "80:\tlearn: 1457.3706816\ttotal: 8.57s\tremaining: 2.01s\n",
      "81:\tlearn: 1456.3342878\ttotal: 8.68s\tremaining: 1.91s\n",
      "82:\tlearn: 1455.2142294\ttotal: 8.78s\tremaining: 1.8s\n",
      "83:\tlearn: 1454.4087138\ttotal: 8.89s\tremaining: 1.69s\n",
      "84:\tlearn: 1453.5577142\ttotal: 9s\tremaining: 1.59s\n",
      "85:\tlearn: 1452.2951489\ttotal: 9.11s\tremaining: 1.48s\n",
      "86:\tlearn: 1451.3853492\ttotal: 9.21s\tremaining: 1.38s\n",
      "87:\tlearn: 1449.7913577\ttotal: 9.32s\tremaining: 1.27s\n",
      "88:\tlearn: 1447.9599674\ttotal: 9.43s\tremaining: 1.17s\n",
      "89:\tlearn: 1445.8832384\ttotal: 9.53s\tremaining: 1.06s\n",
      "90:\tlearn: 1443.8284648\ttotal: 9.63s\tremaining: 953ms\n",
      "91:\tlearn: 1440.2559291\ttotal: 9.74s\tremaining: 847ms\n",
      "92:\tlearn: 1437.0788201\ttotal: 9.84s\tremaining: 741ms\n",
      "93:\tlearn: 1433.8234203\ttotal: 9.95s\tremaining: 635ms\n",
      "94:\tlearn: 1431.7769652\ttotal: 10s\tremaining: 529ms\n",
      "95:\tlearn: 1430.2110889\ttotal: 10.1s\tremaining: 423ms\n",
      "96:\tlearn: 1429.1096542\ttotal: 10.2s\tremaining: 317ms\n",
      "97:\tlearn: 1427.2925345\ttotal: 10.3s\tremaining: 211ms\n",
      "98:\tlearn: 1425.2477887\ttotal: 10.4s\tremaining: 105ms\n",
      "99:\tlearn: 1422.5714101\ttotal: 10.5s\tremaining: 0us\n",
      "Время обучения CatBoostRegressor: 11.162603855133057 секунд\n"
     ]
    }
   ],
   "source": [
    "start_time = time.time()\n",
    "\n",
    "\n",
    "model_catboost = CatBoostRegressor(iterations=100,\n",
    "                                   loss_function='RMSE',\n",
    "                                   random_state=RANDOM_STATE,\n",
    "                                   learning_rate = 1,\n",
    "                                   depth = 10)\n",
    "\n",
    "model_catboost.fit(train_pool)\n",
    " \n",
    "\n",
    "end_time = time.time()\n",
    "training_time_catboost = end_time - start_time\n",
    "\n",
    "# Время обучения модели CatBoostRegressor\n",
    "print(\"Время обучения CatBoostRegressor: %s секунд\" % training_time_catboost)"
   ]
  },
  {
   "cell_type": "code",
   "execution_count": 46,
   "metadata": {
    "scrolled": true
   },
   "outputs": [
    {
     "name": "stdout",
     "output_type": "stream",
     "text": [
      "Время предсказания CatBoostRegressor: 0.08967351913452148 секунд\n"
     ]
    }
   ],
   "source": [
    "start_time = time.time()\n",
    "\n",
    "y_pred_catboost = model_catboost.predict(X_test)\n",
    "\n",
    "end_time = time.time()\n",
    "\n",
    "prediction_time_catboost = end_time - start_time\n",
    "print(\"Время предсказания CatBoostRegressor: %s секунд\" % prediction_time_catboost)"
   ]
  },
  {
   "cell_type": "code",
   "execution_count": 47,
   "metadata": {},
   "outputs": [
    {
     "name": "stdout",
     "output_type": "stream",
     "text": [
      "RMSE CatBoostRegressor на валидационной выборке: 1774.48\n"
     ]
    }
   ],
   "source": [
    "rmse_catboost = mean_squared_error(y_valid, model_catboost.predict(X_valid), squared=False)\n",
    "print(\"RMSE CatBoostRegressor на валидационной выборке: %.2f\" % rmse_catboost)"
   ]
  },
  {
   "cell_type": "markdown",
   "metadata": {},
   "source": [
    "### LightGBM"
   ]
  },
  {
   "cell_type": "code",
   "execution_count": 48,
   "metadata": {
    "scrolled": true
   },
   "outputs": [
    {
     "name": "stderr",
     "output_type": "stream",
     "text": [
      "/opt/conda/lib/python3.9/site-packages/lightgbm/engine.py:177: UserWarning: Found `num_iterations` in params. Will use it instead of argument\n",
      "  _log_warning(f\"Found `{alias}` in params. Will use it instead of argument\")\n",
      "/opt/conda/lib/python3.9/site-packages/lightgbm/engine.py:177: UserWarning: Found `num_iterations` in params. Will use it instead of argument\n",
      "  _log_warning(f\"Found `{alias}` in params. Will use it instead of argument\")\n",
      "/opt/conda/lib/python3.9/site-packages/lightgbm/engine.py:177: UserWarning: Found `num_iterations` in params. Will use it instead of argument\n",
      "  _log_warning(f\"Found `{alias}` in params. Will use it instead of argument\")\n",
      "/opt/conda/lib/python3.9/site-packages/lightgbm/engine.py:177: UserWarning: Found `num_iterations` in params. Will use it instead of argument\n",
      "  _log_warning(f\"Found `{alias}` in params. Will use it instead of argument\")\n",
      "/opt/conda/lib/python3.9/site-packages/lightgbm/engine.py:177: UserWarning: Found `num_iterations` in params. Will use it instead of argument\n",
      "  _log_warning(f\"Found `{alias}` in params. Will use it instead of argument\")\n",
      "/opt/conda/lib/python3.9/site-packages/lightgbm/engine.py:177: UserWarning: Found `num_iterations` in params. Will use it instead of argument\n",
      "  _log_warning(f\"Found `{alias}` in params. Will use it instead of argument\")\n",
      "/opt/conda/lib/python3.9/site-packages/lightgbm/engine.py:177: UserWarning: Found `num_iterations` in params. Will use it instead of argument\n",
      "  _log_warning(f\"Found `{alias}` in params. Will use it instead of argument\")\n",
      "/opt/conda/lib/python3.9/site-packages/lightgbm/engine.py:177: UserWarning: Found `num_iterations` in params. Will use it instead of argument\n",
      "  _log_warning(f\"Found `{alias}` in params. Will use it instead of argument\")\n",
      "/opt/conda/lib/python3.9/site-packages/lightgbm/engine.py:177: UserWarning: Found `num_iterations` in params. Will use it instead of argument\n",
      "  _log_warning(f\"Found `{alias}` in params. Will use it instead of argument\")\n",
      "/opt/conda/lib/python3.9/site-packages/lightgbm/engine.py:177: UserWarning: Found `num_iterations` in params. Will use it instead of argument\n",
      "  _log_warning(f\"Found `{alias}` in params. Will use it instead of argument\")\n"
     ]
    },
    {
     "ename": "KeyboardInterrupt",
     "evalue": "",
     "output_type": "error",
     "traceback": [
      "\u001b[0;31m---------------------------------------------------------------------------\u001b[0m",
      "\u001b[0;31mKeyboardInterrupt\u001b[0m                         Traceback (most recent call last)",
      "\u001b[0;32m/tmp/ipykernel_63/154271014.py\u001b[0m in \u001b[0;36m<module>\u001b[0;34m\u001b[0m\n\u001b[1;32m     18\u001b[0m                               cv=3)\n\u001b[1;32m     19\u001b[0m \u001b[0;34m\u001b[0m\u001b[0m\n\u001b[0;32m---> 20\u001b[0;31m \u001b[0mmodel_lgb_grid\u001b[0m\u001b[0;34m.\u001b[0m\u001b[0mfit\u001b[0m\u001b[0;34m(\u001b[0m\u001b[0mX_train_ohe_light\u001b[0m\u001b[0;34m,\u001b[0m \u001b[0my_train_ohe_light\u001b[0m\u001b[0;34m)\u001b[0m\u001b[0;34m\u001b[0m\u001b[0;34m\u001b[0m\u001b[0m\n\u001b[0m",
      "\u001b[0;32m/opt/conda/lib/python3.9/site-packages/sklearn/utils/validation.py\u001b[0m in \u001b[0;36minner_f\u001b[0;34m(*args, **kwargs)\u001b[0m\n\u001b[1;32m     61\u001b[0m             \u001b[0mextra_args\u001b[0m \u001b[0;34m=\u001b[0m \u001b[0mlen\u001b[0m\u001b[0;34m(\u001b[0m\u001b[0margs\u001b[0m\u001b[0;34m)\u001b[0m \u001b[0;34m-\u001b[0m \u001b[0mlen\u001b[0m\u001b[0;34m(\u001b[0m\u001b[0mall_args\u001b[0m\u001b[0;34m)\u001b[0m\u001b[0;34m\u001b[0m\u001b[0;34m\u001b[0m\u001b[0m\n\u001b[1;32m     62\u001b[0m             \u001b[0;32mif\u001b[0m \u001b[0mextra_args\u001b[0m \u001b[0;34m<=\u001b[0m \u001b[0;36m0\u001b[0m\u001b[0;34m:\u001b[0m\u001b[0;34m\u001b[0m\u001b[0;34m\u001b[0m\u001b[0m\n\u001b[0;32m---> 63\u001b[0;31m                 \u001b[0;32mreturn\u001b[0m \u001b[0mf\u001b[0m\u001b[0;34m(\u001b[0m\u001b[0;34m*\u001b[0m\u001b[0margs\u001b[0m\u001b[0;34m,\u001b[0m \u001b[0;34m**\u001b[0m\u001b[0mkwargs\u001b[0m\u001b[0;34m)\u001b[0m\u001b[0;34m\u001b[0m\u001b[0;34m\u001b[0m\u001b[0m\n\u001b[0m\u001b[1;32m     64\u001b[0m \u001b[0;34m\u001b[0m\u001b[0m\n\u001b[1;32m     65\u001b[0m             \u001b[0;31m# extra_args > 0\u001b[0m\u001b[0;34m\u001b[0m\u001b[0;34m\u001b[0m\u001b[0;34m\u001b[0m\u001b[0m\n",
      "\u001b[0;32m/opt/conda/lib/python3.9/site-packages/sklearn/model_selection/_search.py\u001b[0m in \u001b[0;36mfit\u001b[0;34m(self, X, y, groups, **fit_params)\u001b[0m\n\u001b[1;32m    839\u001b[0m                 \u001b[0;32mreturn\u001b[0m \u001b[0mresults\u001b[0m\u001b[0;34m\u001b[0m\u001b[0;34m\u001b[0m\u001b[0m\n\u001b[1;32m    840\u001b[0m \u001b[0;34m\u001b[0m\u001b[0m\n\u001b[0;32m--> 841\u001b[0;31m             \u001b[0mself\u001b[0m\u001b[0;34m.\u001b[0m\u001b[0m_run_search\u001b[0m\u001b[0;34m(\u001b[0m\u001b[0mevaluate_candidates\u001b[0m\u001b[0;34m)\u001b[0m\u001b[0;34m\u001b[0m\u001b[0;34m\u001b[0m\u001b[0m\n\u001b[0m\u001b[1;32m    842\u001b[0m \u001b[0;34m\u001b[0m\u001b[0m\n\u001b[1;32m    843\u001b[0m             \u001b[0;31m# multimetric is determined here because in the case of a callable\u001b[0m\u001b[0;34m\u001b[0m\u001b[0;34m\u001b[0m\u001b[0;34m\u001b[0m\u001b[0m\n",
      "\u001b[0;32m/opt/conda/lib/python3.9/site-packages/sklearn/model_selection/_search.py\u001b[0m in \u001b[0;36m_run_search\u001b[0;34m(self, evaluate_candidates)\u001b[0m\n\u001b[1;32m   1286\u001b[0m     \u001b[0;32mdef\u001b[0m \u001b[0m_run_search\u001b[0m\u001b[0;34m(\u001b[0m\u001b[0mself\u001b[0m\u001b[0;34m,\u001b[0m \u001b[0mevaluate_candidates\u001b[0m\u001b[0;34m)\u001b[0m\u001b[0;34m:\u001b[0m\u001b[0;34m\u001b[0m\u001b[0;34m\u001b[0m\u001b[0m\n\u001b[1;32m   1287\u001b[0m         \u001b[0;34m\"\"\"Search all candidates in param_grid\"\"\"\u001b[0m\u001b[0;34m\u001b[0m\u001b[0;34m\u001b[0m\u001b[0m\n\u001b[0;32m-> 1288\u001b[0;31m         \u001b[0mevaluate_candidates\u001b[0m\u001b[0;34m(\u001b[0m\u001b[0mParameterGrid\u001b[0m\u001b[0;34m(\u001b[0m\u001b[0mself\u001b[0m\u001b[0;34m.\u001b[0m\u001b[0mparam_grid\u001b[0m\u001b[0;34m)\u001b[0m\u001b[0;34m)\u001b[0m\u001b[0;34m\u001b[0m\u001b[0;34m\u001b[0m\u001b[0m\n\u001b[0m\u001b[1;32m   1289\u001b[0m \u001b[0;34m\u001b[0m\u001b[0m\n\u001b[1;32m   1290\u001b[0m \u001b[0;34m\u001b[0m\u001b[0m\n",
      "\u001b[0;32m/opt/conda/lib/python3.9/site-packages/sklearn/model_selection/_search.py\u001b[0m in \u001b[0;36mevaluate_candidates\u001b[0;34m(candidate_params, cv, more_results)\u001b[0m\n\u001b[1;32m    793\u001b[0m                               n_splits, n_candidates, n_candidates * n_splits))\n\u001b[1;32m    794\u001b[0m \u001b[0;34m\u001b[0m\u001b[0m\n\u001b[0;32m--> 795\u001b[0;31m                 out = parallel(delayed(_fit_and_score)(clone(base_estimator),\n\u001b[0m\u001b[1;32m    796\u001b[0m                                                        \u001b[0mX\u001b[0m\u001b[0;34m,\u001b[0m \u001b[0my\u001b[0m\u001b[0;34m,\u001b[0m\u001b[0;34m\u001b[0m\u001b[0;34m\u001b[0m\u001b[0m\n\u001b[1;32m    797\u001b[0m                                                        \u001b[0mtrain\u001b[0m\u001b[0;34m=\u001b[0m\u001b[0mtrain\u001b[0m\u001b[0;34m,\u001b[0m \u001b[0mtest\u001b[0m\u001b[0;34m=\u001b[0m\u001b[0mtest\u001b[0m\u001b[0;34m,\u001b[0m\u001b[0;34m\u001b[0m\u001b[0;34m\u001b[0m\u001b[0m\n",
      "\u001b[0;32m/opt/conda/lib/python3.9/site-packages/joblib/parallel.py\u001b[0m in \u001b[0;36m__call__\u001b[0;34m(self, iterable)\u001b[0m\n\u001b[1;32m   1044\u001b[0m                 \u001b[0mself\u001b[0m\u001b[0;34m.\u001b[0m\u001b[0m_iterating\u001b[0m \u001b[0;34m=\u001b[0m \u001b[0mself\u001b[0m\u001b[0;34m.\u001b[0m\u001b[0m_original_iterator\u001b[0m \u001b[0;32mis\u001b[0m \u001b[0;32mnot\u001b[0m \u001b[0;32mNone\u001b[0m\u001b[0;34m\u001b[0m\u001b[0;34m\u001b[0m\u001b[0m\n\u001b[1;32m   1045\u001b[0m \u001b[0;34m\u001b[0m\u001b[0m\n\u001b[0;32m-> 1046\u001b[0;31m             \u001b[0;32mwhile\u001b[0m \u001b[0mself\u001b[0m\u001b[0;34m.\u001b[0m\u001b[0mdispatch_one_batch\u001b[0m\u001b[0;34m(\u001b[0m\u001b[0miterator\u001b[0m\u001b[0;34m)\u001b[0m\u001b[0;34m:\u001b[0m\u001b[0;34m\u001b[0m\u001b[0;34m\u001b[0m\u001b[0m\n\u001b[0m\u001b[1;32m   1047\u001b[0m                 \u001b[0;32mpass\u001b[0m\u001b[0;34m\u001b[0m\u001b[0;34m\u001b[0m\u001b[0m\n\u001b[1;32m   1048\u001b[0m \u001b[0;34m\u001b[0m\u001b[0m\n",
      "\u001b[0;32m/opt/conda/lib/python3.9/site-packages/joblib/parallel.py\u001b[0m in \u001b[0;36mdispatch_one_batch\u001b[0;34m(self, iterator)\u001b[0m\n\u001b[1;32m    859\u001b[0m                 \u001b[0;32mreturn\u001b[0m \u001b[0;32mFalse\u001b[0m\u001b[0;34m\u001b[0m\u001b[0;34m\u001b[0m\u001b[0m\n\u001b[1;32m    860\u001b[0m             \u001b[0;32melse\u001b[0m\u001b[0;34m:\u001b[0m\u001b[0;34m\u001b[0m\u001b[0;34m\u001b[0m\u001b[0m\n\u001b[0;32m--> 861\u001b[0;31m                 \u001b[0mself\u001b[0m\u001b[0;34m.\u001b[0m\u001b[0m_dispatch\u001b[0m\u001b[0;34m(\u001b[0m\u001b[0mtasks\u001b[0m\u001b[0;34m)\u001b[0m\u001b[0;34m\u001b[0m\u001b[0;34m\u001b[0m\u001b[0m\n\u001b[0m\u001b[1;32m    862\u001b[0m                 \u001b[0;32mreturn\u001b[0m \u001b[0;32mTrue\u001b[0m\u001b[0;34m\u001b[0m\u001b[0;34m\u001b[0m\u001b[0m\n\u001b[1;32m    863\u001b[0m \u001b[0;34m\u001b[0m\u001b[0m\n",
      "\u001b[0;32m/opt/conda/lib/python3.9/site-packages/joblib/parallel.py\u001b[0m in \u001b[0;36m_dispatch\u001b[0;34m(self, batch)\u001b[0m\n\u001b[1;32m    777\u001b[0m         \u001b[0;32mwith\u001b[0m \u001b[0mself\u001b[0m\u001b[0;34m.\u001b[0m\u001b[0m_lock\u001b[0m\u001b[0;34m:\u001b[0m\u001b[0;34m\u001b[0m\u001b[0;34m\u001b[0m\u001b[0m\n\u001b[1;32m    778\u001b[0m             \u001b[0mjob_idx\u001b[0m \u001b[0;34m=\u001b[0m \u001b[0mlen\u001b[0m\u001b[0;34m(\u001b[0m\u001b[0mself\u001b[0m\u001b[0;34m.\u001b[0m\u001b[0m_jobs\u001b[0m\u001b[0;34m)\u001b[0m\u001b[0;34m\u001b[0m\u001b[0;34m\u001b[0m\u001b[0m\n\u001b[0;32m--> 779\u001b[0;31m             \u001b[0mjob\u001b[0m \u001b[0;34m=\u001b[0m \u001b[0mself\u001b[0m\u001b[0;34m.\u001b[0m\u001b[0m_backend\u001b[0m\u001b[0;34m.\u001b[0m\u001b[0mapply_async\u001b[0m\u001b[0;34m(\u001b[0m\u001b[0mbatch\u001b[0m\u001b[0;34m,\u001b[0m \u001b[0mcallback\u001b[0m\u001b[0;34m=\u001b[0m\u001b[0mcb\u001b[0m\u001b[0;34m)\u001b[0m\u001b[0;34m\u001b[0m\u001b[0;34m\u001b[0m\u001b[0m\n\u001b[0m\u001b[1;32m    780\u001b[0m             \u001b[0;31m# A job can complete so quickly than its callback is\u001b[0m\u001b[0;34m\u001b[0m\u001b[0;34m\u001b[0m\u001b[0;34m\u001b[0m\u001b[0m\n\u001b[1;32m    781\u001b[0m             \u001b[0;31m# called before we get here, causing self._jobs to\u001b[0m\u001b[0;34m\u001b[0m\u001b[0;34m\u001b[0m\u001b[0;34m\u001b[0m\u001b[0m\n",
      "\u001b[0;32m/opt/conda/lib/python3.9/site-packages/joblib/_parallel_backends.py\u001b[0m in \u001b[0;36mapply_async\u001b[0;34m(self, func, callback)\u001b[0m\n\u001b[1;32m    206\u001b[0m     \u001b[0;32mdef\u001b[0m \u001b[0mapply_async\u001b[0m\u001b[0;34m(\u001b[0m\u001b[0mself\u001b[0m\u001b[0;34m,\u001b[0m \u001b[0mfunc\u001b[0m\u001b[0;34m,\u001b[0m \u001b[0mcallback\u001b[0m\u001b[0;34m=\u001b[0m\u001b[0;32mNone\u001b[0m\u001b[0;34m)\u001b[0m\u001b[0;34m:\u001b[0m\u001b[0;34m\u001b[0m\u001b[0;34m\u001b[0m\u001b[0m\n\u001b[1;32m    207\u001b[0m         \u001b[0;34m\"\"\"Schedule a func to be run\"\"\"\u001b[0m\u001b[0;34m\u001b[0m\u001b[0;34m\u001b[0m\u001b[0m\n\u001b[0;32m--> 208\u001b[0;31m         \u001b[0mresult\u001b[0m \u001b[0;34m=\u001b[0m \u001b[0mImmediateResult\u001b[0m\u001b[0;34m(\u001b[0m\u001b[0mfunc\u001b[0m\u001b[0;34m)\u001b[0m\u001b[0;34m\u001b[0m\u001b[0;34m\u001b[0m\u001b[0m\n\u001b[0m\u001b[1;32m    209\u001b[0m         \u001b[0;32mif\u001b[0m \u001b[0mcallback\u001b[0m\u001b[0;34m:\u001b[0m\u001b[0;34m\u001b[0m\u001b[0;34m\u001b[0m\u001b[0m\n\u001b[1;32m    210\u001b[0m             \u001b[0mcallback\u001b[0m\u001b[0;34m(\u001b[0m\u001b[0mresult\u001b[0m\u001b[0;34m)\u001b[0m\u001b[0;34m\u001b[0m\u001b[0;34m\u001b[0m\u001b[0m\n",
      "\u001b[0;32m/opt/conda/lib/python3.9/site-packages/joblib/_parallel_backends.py\u001b[0m in \u001b[0;36m__init__\u001b[0;34m(self, batch)\u001b[0m\n\u001b[1;32m    570\u001b[0m         \u001b[0;31m# Don't delay the application, to avoid keeping the input\u001b[0m\u001b[0;34m\u001b[0m\u001b[0;34m\u001b[0m\u001b[0;34m\u001b[0m\u001b[0m\n\u001b[1;32m    571\u001b[0m         \u001b[0;31m# arguments in memory\u001b[0m\u001b[0;34m\u001b[0m\u001b[0;34m\u001b[0m\u001b[0;34m\u001b[0m\u001b[0m\n\u001b[0;32m--> 572\u001b[0;31m         \u001b[0mself\u001b[0m\u001b[0;34m.\u001b[0m\u001b[0mresults\u001b[0m \u001b[0;34m=\u001b[0m \u001b[0mbatch\u001b[0m\u001b[0;34m(\u001b[0m\u001b[0;34m)\u001b[0m\u001b[0;34m\u001b[0m\u001b[0;34m\u001b[0m\u001b[0m\n\u001b[0m\u001b[1;32m    573\u001b[0m \u001b[0;34m\u001b[0m\u001b[0m\n\u001b[1;32m    574\u001b[0m     \u001b[0;32mdef\u001b[0m \u001b[0mget\u001b[0m\u001b[0;34m(\u001b[0m\u001b[0mself\u001b[0m\u001b[0;34m)\u001b[0m\u001b[0;34m:\u001b[0m\u001b[0;34m\u001b[0m\u001b[0;34m\u001b[0m\u001b[0m\n",
      "\u001b[0;32m/opt/conda/lib/python3.9/site-packages/joblib/parallel.py\u001b[0m in \u001b[0;36m__call__\u001b[0;34m(self)\u001b[0m\n\u001b[1;32m    260\u001b[0m         \u001b[0;31m# change the default number of processes to -1\u001b[0m\u001b[0;34m\u001b[0m\u001b[0;34m\u001b[0m\u001b[0;34m\u001b[0m\u001b[0m\n\u001b[1;32m    261\u001b[0m         \u001b[0;32mwith\u001b[0m \u001b[0mparallel_backend\u001b[0m\u001b[0;34m(\u001b[0m\u001b[0mself\u001b[0m\u001b[0;34m.\u001b[0m\u001b[0m_backend\u001b[0m\u001b[0;34m,\u001b[0m \u001b[0mn_jobs\u001b[0m\u001b[0;34m=\u001b[0m\u001b[0mself\u001b[0m\u001b[0;34m.\u001b[0m\u001b[0m_n_jobs\u001b[0m\u001b[0;34m)\u001b[0m\u001b[0;34m:\u001b[0m\u001b[0;34m\u001b[0m\u001b[0;34m\u001b[0m\u001b[0m\n\u001b[0;32m--> 262\u001b[0;31m             return [func(*args, **kwargs)\n\u001b[0m\u001b[1;32m    263\u001b[0m                     for func, args, kwargs in self.items]\n\u001b[1;32m    264\u001b[0m \u001b[0;34m\u001b[0m\u001b[0m\n",
      "\u001b[0;32m/opt/conda/lib/python3.9/site-packages/joblib/parallel.py\u001b[0m in \u001b[0;36m<listcomp>\u001b[0;34m(.0)\u001b[0m\n\u001b[1;32m    260\u001b[0m         \u001b[0;31m# change the default number of processes to -1\u001b[0m\u001b[0;34m\u001b[0m\u001b[0;34m\u001b[0m\u001b[0;34m\u001b[0m\u001b[0m\n\u001b[1;32m    261\u001b[0m         \u001b[0;32mwith\u001b[0m \u001b[0mparallel_backend\u001b[0m\u001b[0;34m(\u001b[0m\u001b[0mself\u001b[0m\u001b[0;34m.\u001b[0m\u001b[0m_backend\u001b[0m\u001b[0;34m,\u001b[0m \u001b[0mn_jobs\u001b[0m\u001b[0;34m=\u001b[0m\u001b[0mself\u001b[0m\u001b[0;34m.\u001b[0m\u001b[0m_n_jobs\u001b[0m\u001b[0;34m)\u001b[0m\u001b[0;34m:\u001b[0m\u001b[0;34m\u001b[0m\u001b[0;34m\u001b[0m\u001b[0m\n\u001b[0;32m--> 262\u001b[0;31m             return [func(*args, **kwargs)\n\u001b[0m\u001b[1;32m    263\u001b[0m                     for func, args, kwargs in self.items]\n\u001b[1;32m    264\u001b[0m \u001b[0;34m\u001b[0m\u001b[0m\n",
      "\u001b[0;32m/opt/conda/lib/python3.9/site-packages/sklearn/utils/fixes.py\u001b[0m in \u001b[0;36m__call__\u001b[0;34m(self, *args, **kwargs)\u001b[0m\n\u001b[1;32m    220\u001b[0m     \u001b[0;32mdef\u001b[0m \u001b[0m__call__\u001b[0m\u001b[0;34m(\u001b[0m\u001b[0mself\u001b[0m\u001b[0;34m,\u001b[0m \u001b[0;34m*\u001b[0m\u001b[0margs\u001b[0m\u001b[0;34m,\u001b[0m \u001b[0;34m**\u001b[0m\u001b[0mkwargs\u001b[0m\u001b[0;34m)\u001b[0m\u001b[0;34m:\u001b[0m\u001b[0;34m\u001b[0m\u001b[0;34m\u001b[0m\u001b[0m\n\u001b[1;32m    221\u001b[0m         \u001b[0;32mwith\u001b[0m \u001b[0mconfig_context\u001b[0m\u001b[0;34m(\u001b[0m\u001b[0;34m**\u001b[0m\u001b[0mself\u001b[0m\u001b[0;34m.\u001b[0m\u001b[0mconfig\u001b[0m\u001b[0;34m)\u001b[0m\u001b[0;34m:\u001b[0m\u001b[0;34m\u001b[0m\u001b[0;34m\u001b[0m\u001b[0m\n\u001b[0;32m--> 222\u001b[0;31m             \u001b[0;32mreturn\u001b[0m \u001b[0mself\u001b[0m\u001b[0;34m.\u001b[0m\u001b[0mfunction\u001b[0m\u001b[0;34m(\u001b[0m\u001b[0;34m*\u001b[0m\u001b[0margs\u001b[0m\u001b[0;34m,\u001b[0m \u001b[0;34m**\u001b[0m\u001b[0mkwargs\u001b[0m\u001b[0;34m)\u001b[0m\u001b[0;34m\u001b[0m\u001b[0;34m\u001b[0m\u001b[0m\n\u001b[0m",
      "\u001b[0;32m/opt/conda/lib/python3.9/site-packages/sklearn/model_selection/_validation.py\u001b[0m in \u001b[0;36m_fit_and_score\u001b[0;34m(estimator, X, y, scorer, train, test, verbose, parameters, fit_params, return_train_score, return_parameters, return_n_test_samples, return_times, return_estimator, split_progress, candidate_progress, error_score)\u001b[0m\n\u001b[1;32m    591\u001b[0m             \u001b[0mestimator\u001b[0m\u001b[0;34m.\u001b[0m\u001b[0mfit\u001b[0m\u001b[0;34m(\u001b[0m\u001b[0mX_train\u001b[0m\u001b[0;34m,\u001b[0m \u001b[0;34m**\u001b[0m\u001b[0mfit_params\u001b[0m\u001b[0;34m)\u001b[0m\u001b[0;34m\u001b[0m\u001b[0;34m\u001b[0m\u001b[0m\n\u001b[1;32m    592\u001b[0m         \u001b[0;32melse\u001b[0m\u001b[0;34m:\u001b[0m\u001b[0;34m\u001b[0m\u001b[0;34m\u001b[0m\u001b[0m\n\u001b[0;32m--> 593\u001b[0;31m             \u001b[0mestimator\u001b[0m\u001b[0;34m.\u001b[0m\u001b[0mfit\u001b[0m\u001b[0;34m(\u001b[0m\u001b[0mX_train\u001b[0m\u001b[0;34m,\u001b[0m \u001b[0my_train\u001b[0m\u001b[0;34m,\u001b[0m \u001b[0;34m**\u001b[0m\u001b[0mfit_params\u001b[0m\u001b[0;34m)\u001b[0m\u001b[0;34m\u001b[0m\u001b[0;34m\u001b[0m\u001b[0m\n\u001b[0m\u001b[1;32m    594\u001b[0m \u001b[0;34m\u001b[0m\u001b[0m\n\u001b[1;32m    595\u001b[0m     \u001b[0;32mexcept\u001b[0m \u001b[0mException\u001b[0m \u001b[0;32mas\u001b[0m \u001b[0me\u001b[0m\u001b[0;34m:\u001b[0m\u001b[0;34m\u001b[0m\u001b[0;34m\u001b[0m\u001b[0m\n",
      "\u001b[0;32m/opt/conda/lib/python3.9/site-packages/lightgbm/sklearn.py\u001b[0m in \u001b[0;36mfit\u001b[0;34m(self, X, y, sample_weight, init_score, eval_set, eval_names, eval_sample_weight, eval_init_score, eval_metric, early_stopping_rounds, verbose, feature_name, categorical_feature, callbacks, init_model)\u001b[0m\n\u001b[1;32m    893\u001b[0m             callbacks=None, init_model=None):\n\u001b[1;32m    894\u001b[0m         \u001b[0;34m\"\"\"Docstring is inherited from the LGBMModel.\"\"\"\u001b[0m\u001b[0;34m\u001b[0m\u001b[0;34m\u001b[0m\u001b[0m\n\u001b[0;32m--> 895\u001b[0;31m         super().fit(X, y, sample_weight=sample_weight, init_score=init_score,\n\u001b[0m\u001b[1;32m    896\u001b[0m                     \u001b[0meval_set\u001b[0m\u001b[0;34m=\u001b[0m\u001b[0meval_set\u001b[0m\u001b[0;34m,\u001b[0m \u001b[0meval_names\u001b[0m\u001b[0;34m=\u001b[0m\u001b[0meval_names\u001b[0m\u001b[0;34m,\u001b[0m \u001b[0meval_sample_weight\u001b[0m\u001b[0;34m=\u001b[0m\u001b[0meval_sample_weight\u001b[0m\u001b[0;34m,\u001b[0m\u001b[0;34m\u001b[0m\u001b[0;34m\u001b[0m\u001b[0m\n\u001b[1;32m    897\u001b[0m                     \u001b[0meval_init_score\u001b[0m\u001b[0;34m=\u001b[0m\u001b[0meval_init_score\u001b[0m\u001b[0;34m,\u001b[0m \u001b[0meval_metric\u001b[0m\u001b[0;34m=\u001b[0m\u001b[0meval_metric\u001b[0m\u001b[0;34m,\u001b[0m\u001b[0;34m\u001b[0m\u001b[0;34m\u001b[0m\u001b[0m\n",
      "\u001b[0;32m/opt/conda/lib/python3.9/site-packages/lightgbm/sklearn.py\u001b[0m in \u001b[0;36mfit\u001b[0;34m(self, X, y, sample_weight, init_score, group, eval_set, eval_names, eval_sample_weight, eval_class_weight, eval_init_score, eval_group, eval_metric, early_stopping_rounds, verbose, feature_name, categorical_feature, callbacks, init_model)\u001b[0m\n\u001b[1;32m    746\u001b[0m         \u001b[0mcallbacks\u001b[0m\u001b[0;34m.\u001b[0m\u001b[0mappend\u001b[0m\u001b[0;34m(\u001b[0m\u001b[0mrecord_evaluation\u001b[0m\u001b[0;34m(\u001b[0m\u001b[0mevals_result\u001b[0m\u001b[0;34m)\u001b[0m\u001b[0;34m)\u001b[0m\u001b[0;34m\u001b[0m\u001b[0;34m\u001b[0m\u001b[0m\n\u001b[1;32m    747\u001b[0m \u001b[0;34m\u001b[0m\u001b[0m\n\u001b[0;32m--> 748\u001b[0;31m         self._Booster = train(\n\u001b[0m\u001b[1;32m    749\u001b[0m             \u001b[0mparams\u001b[0m\u001b[0;34m=\u001b[0m\u001b[0mparams\u001b[0m\u001b[0;34m,\u001b[0m\u001b[0;34m\u001b[0m\u001b[0;34m\u001b[0m\u001b[0m\n\u001b[1;32m    750\u001b[0m             \u001b[0mtrain_set\u001b[0m\u001b[0;34m=\u001b[0m\u001b[0mtrain_set\u001b[0m\u001b[0;34m,\u001b[0m\u001b[0;34m\u001b[0m\u001b[0;34m\u001b[0m\u001b[0m\n",
      "\u001b[0;32m/opt/conda/lib/python3.9/site-packages/lightgbm/engine.py\u001b[0m in \u001b[0;36mtrain\u001b[0;34m(params, train_set, num_boost_round, valid_sets, valid_names, fobj, feval, init_model, feature_name, categorical_feature, early_stopping_rounds, evals_result, verbose_eval, learning_rates, keep_training_booster, callbacks)\u001b[0m\n\u001b[1;32m    290\u001b[0m                                     evaluation_result_list=None))\n\u001b[1;32m    291\u001b[0m \u001b[0;34m\u001b[0m\u001b[0m\n\u001b[0;32m--> 292\u001b[0;31m         \u001b[0mbooster\u001b[0m\u001b[0;34m.\u001b[0m\u001b[0mupdate\u001b[0m\u001b[0;34m(\u001b[0m\u001b[0mfobj\u001b[0m\u001b[0;34m=\u001b[0m\u001b[0mfobj\u001b[0m\u001b[0;34m)\u001b[0m\u001b[0;34m\u001b[0m\u001b[0;34m\u001b[0m\u001b[0m\n\u001b[0m\u001b[1;32m    293\u001b[0m \u001b[0;34m\u001b[0m\u001b[0m\n\u001b[1;32m    294\u001b[0m         \u001b[0mevaluation_result_list\u001b[0m \u001b[0;34m=\u001b[0m \u001b[0;34m[\u001b[0m\u001b[0;34m]\u001b[0m\u001b[0;34m\u001b[0m\u001b[0;34m\u001b[0m\u001b[0m\n",
      "\u001b[0;32m/opt/conda/lib/python3.9/site-packages/lightgbm/basic.py\u001b[0m in \u001b[0;36mupdate\u001b[0;34m(self, train_set, fobj)\u001b[0m\n\u001b[1;32m   3019\u001b[0m             \u001b[0;32mif\u001b[0m \u001b[0mself\u001b[0m\u001b[0;34m.\u001b[0m\u001b[0m__set_objective_to_none\u001b[0m\u001b[0;34m:\u001b[0m\u001b[0;34m\u001b[0m\u001b[0;34m\u001b[0m\u001b[0m\n\u001b[1;32m   3020\u001b[0m                 \u001b[0;32mraise\u001b[0m \u001b[0mLightGBMError\u001b[0m\u001b[0;34m(\u001b[0m\u001b[0;34m'Cannot update due to null objective function.'\u001b[0m\u001b[0;34m)\u001b[0m\u001b[0;34m\u001b[0m\u001b[0;34m\u001b[0m\u001b[0m\n\u001b[0;32m-> 3021\u001b[0;31m             _safe_call(_LIB.LGBM_BoosterUpdateOneIter(\n\u001b[0m\u001b[1;32m   3022\u001b[0m                 \u001b[0mself\u001b[0m\u001b[0;34m.\u001b[0m\u001b[0mhandle\u001b[0m\u001b[0;34m,\u001b[0m\u001b[0;34m\u001b[0m\u001b[0;34m\u001b[0m\u001b[0m\n\u001b[1;32m   3023\u001b[0m                 ctypes.byref(is_finished)))\n",
      "\u001b[0;31mKeyboardInterrupt\u001b[0m: "
     ]
    }
   ],
   "source": [
    "params_light = {\n",
    "    'n_estimators': [50, 100],\n",
    "    'learning_rate': [0.05, 1.0],\n",
    "                 \n",
    "}\n",
    "model_lgb = lgb.LGBMRegressor(objective='rmse',\n",
    "                              metric='rmse',\n",
    "                              boosting_type='gbdt',\n",
    "                              num_leaves=25,\n",
    "                              num_iterations = 100,\n",
    "                              n_jobs = -1,\n",
    "                              verbosity=-1,\n",
    "                              force_row_wise=True)\n",
    "\n",
    "model_lgb_grid = GridSearchCV(model_lgb,\n",
    "                              params_light,\n",
    "                              scoring='neg_root_mean_squared_error',\n",
    "                              cv=3)\n",
    "\n",
    "model_lgb_grid.fit(X_train_ohe_light, y_train_ohe_light)"
   ]
  },
  {
   "cell_type": "code",
   "execution_count": null,
   "metadata": {
    "scrolled": true
   },
   "outputs": [],
   "source": [
    "print(model_lgb_grid.best_params_)"
   ]
  },
  {
   "cell_type": "markdown",
   "metadata": {},
   "source": [
    "Обучим модель на найденных гиперпараметрах. Рассчитаем скорость."
   ]
  },
  {
   "cell_type": "code",
   "execution_count": 54,
   "metadata": {
    "scrolled": true
   },
   "outputs": [
    {
     "name": "stderr",
     "output_type": "stream",
     "text": [
      "/opt/conda/lib/python3.9/site-packages/lightgbm/engine.py:177: UserWarning: Found `num_iterations` in params. Will use it instead of argument\n",
      "  _log_warning(f\"Found `{alias}` in params. Will use it instead of argument\")\n"
     ]
    },
    {
     "name": "stdout",
     "output_type": "stream",
     "text": [
      "Время обучения LightGBM: 278.3737154006958 секунд\n"
     ]
    }
   ],
   "source": [
    "start_time = time.time()\n",
    "\n",
    "model_lgb = lgb.LGBMRegressor(objective='rmse',\n",
    "                              metric='rmse',\n",
    "                              boosting_type='gbdt',\n",
    "                              n_estimators = 50,\n",
    "                              learning_rate = 0.05,\n",
    "                              num_leaves=50,\n",
    "                              num_iterations = 100,\n",
    "                              n_jobs = -1,\n",
    "                              verbosity=-1,\n",
    "                              force_row_wise=True)\n",
    "\n",
    "model_lgb.fit(X_train_ohe_light, y_train_ohe_light, eval_metric='rmse')\n",
    "\n",
    "end_time = time.time()\n",
    "training_time_lgb = end_time - start_time\n",
    "\n",
    "# Время обучения модели LightGBM\n",
    "print(\"Время обучения LightGBM: %s секунд\" % training_time_lgb)"
   ]
  },
  {
   "cell_type": "code",
   "execution_count": 55,
   "metadata": {},
   "outputs": [
    {
     "name": "stdout",
     "output_type": "stream",
     "text": [
      "Время предсказания LightGBM: 0.7949209213256836 секунд\n"
     ]
    }
   ],
   "source": [
    "start_time = time.time()\n",
    "\n",
    "y_pred_lgb = model_lgb.predict(X_test_ohe_light)\n",
    "end_time = time.time()\n",
    "\n",
    "prediction_time_lgb = end_time - start_time\n",
    "print(\"Время предсказания LightGBM: %s секунд\" % prediction_time_lgb)"
   ]
  },
  {
   "cell_type": "code",
   "execution_count": null,
   "metadata": {},
   "outputs": [],
   "source": [
    "rmse_lgb = mean_squared_error(y_valid_ohe_light, model_lgb.predict(X_valid_ohe_light), squared=False)\n",
    "print(\"RMSE LightGBM на валидационной выборке: %.2f\" % rmse_lgb)"
   ]
  },
  {
   "cell_type": "markdown",
   "metadata": {},
   "source": [
    "### LinearRegression"
   ]
  },
  {
   "cell_type": "code",
   "execution_count": 49,
   "metadata": {},
   "outputs": [
    {
     "name": "stdout",
     "output_type": "stream",
     "text": [
      "Время обучения LinearRegression: 26.02242374420166 секунд\n"
     ]
    }
   ],
   "source": [
    "start_time = time.time()\n",
    "\n",
    "model_lr = LinearRegression()\n",
    "model_lr.fit(X_train_ohe, y_train_ohe)\n",
    "\n",
    "end_time = time.time()\n",
    "\n",
    "training_time_lr=end_time-start_time\n",
    "print(\"Время обучения LinearRegression: %s секунд\" % training_time_lr)"
   ]
  },
  {
   "cell_type": "code",
   "execution_count": 50,
   "metadata": {},
   "outputs": [
    {
     "name": "stdout",
     "output_type": "stream",
     "text": [
      "Время предсказания LinearRegression: 0.4950368404388428 секунд\n"
     ]
    }
   ],
   "source": [
    "start_time = time.time()\n",
    "\n",
    "y_pred_lr = model_lr.predict(X_test_ohe)\n",
    "end_time = time.time()\n",
    "\n",
    "prediction_time_lr = end_time - start_time\n",
    "print(\"Время предсказания LinearRegression: %s секунд\" % prediction_time_lr)"
   ]
  },
  {
   "cell_type": "code",
   "execution_count": 51,
   "metadata": {},
   "outputs": [
    {
     "name": "stdout",
     "output_type": "stream",
     "text": [
      "RMSE LinearRegression на валидационной выборке: 2833.57\n"
     ]
    }
   ],
   "source": [
    "rmse_lr = mean_squared_error(y_valid_ohe, model_lr.predict(X_valid_ohe), squared=False)\n",
    "print(\"RMSE LinearRegression на валидационной выборке: %.2f\" % rmse_lr)"
   ]
  },
  {
   "cell_type": "markdown",
   "metadata": {},
   "source": [
    "## Анализ моделей"
   ]
  },
  {
   "cell_type": "markdown",
   "metadata": {},
   "source": [
    "Занесем результаты работы моделей в общую таблицу"
   ]
  },
  {
   "cell_type": "code",
   "execution_count": 52,
   "metadata": {},
   "outputs": [
    {
     "name": "stdout",
     "output_type": "stream",
     "text": [
      "{'depth': 10, 'learning_rate': 1}\n"
     ]
    }
   ],
   "source": [
    "print(gscb.best_params_)"
   ]
  },
  {
   "cell_type": "code",
   "execution_count": null,
   "metadata": {},
   "outputs": [],
   "source": [
    "results = pd.DataFrame({'Model': ['Linear Regression', 'LightGBM', 'CatBoostRegressor'],\n",
    "                        'Подобранные гиперпараметры': ['-',model_lgb_grid.best_params_, gscb.best_params_],\n",
    "                        'Время обучения, сек': [training_time_lr, training_time_lgb, training_time_catboost],\n",
    "                        'Время предсказания, сек': [prediction_time_lr, prediction_time_lgb, prediction_time_catboost],\n",
    "                        'RMSE': [rmse_lr, rmse_lgb, rmse_catboost]})\n",
    "\n",
    "# Вывод результатов\n",
    "results"
   ]
  },
  {
   "cell_type": "markdown",
   "metadata": {},
   "source": [
    "__Итоговый вывод:__ Проведён комплексный анализ данных с таблицей из более чем 350 тыс. строк и 16 столбцов. Применены методы предобработки данных: приведение заголовков к удобному формату, удаление неинформативных столбцов и дубликатов, заполнение пропусков, устранение аномалий. Для построения моделей данные были преобразованы различными способами, в зависимости от требований конкретной модели. Обучение и настройка гиперпараметров проведены для нескольких моделей: LinearRegression, LightGBM, CatBoost.\n",
    "\n",
    "Сравнение моделей проведено по ключевым критериям: время обучения, время предсказания и качество предсказаний, оцененное метрикой RMSE. Наилучшие результаты показали модели градиентного бустинга LightGBM и CatBoost, обе обеспечили низкие значения RMSE. Однако, модель CatBoostRegressor была признана наиболее подходящей, так как она продемонстрировала лучшее соотношение между временем обучения и качеством предсказаний, что соответствует требованиям заказчика.\n",
    "\n",
    "Таким образом, на основании полученных данных и анализа, модель CatBoostRegressor рекомендуется для использования, так как она сочетает в себе высокое качество предсказаний, быструю обучаемость и эффективность в прогнозировании."
   ]
  },
  {
   "cell_type": "code",
   "execution_count": null,
   "metadata": {},
   "outputs": [],
   "source": [
    "print('Текст для проверки кода')"
   ]
  }
 ],
 "metadata": {
  "ExecuteTimeLog": [
   {
    "duration": 61,
    "start_time": "2024-08-03T16:13:03.889Z"
   },
   {
    "duration": 5,
    "start_time": "2024-08-03T16:13:07.658Z"
   },
   {
    "duration": 1634,
    "start_time": "2024-08-03T16:13:18.014Z"
   },
   {
    "duration": 5,
    "start_time": "2024-08-03T16:13:19.650Z"
   },
   {
    "duration": 11,
    "start_time": "2024-08-03T16:13:19.656Z"
   },
   {
    "duration": 6,
    "start_time": "2024-08-03T16:13:19.669Z"
   },
   {
    "duration": 2991,
    "start_time": "2024-08-03T16:13:19.854Z"
   },
   {
    "duration": 87,
    "start_time": "2024-08-03T16:13:22.847Z"
   },
   {
    "duration": 3,
    "start_time": "2024-08-03T16:14:00.255Z"
   },
   {
    "duration": 1253,
    "start_time": "2024-08-03T16:14:00.587Z"
   },
   {
    "duration": 60,
    "start_time": "2024-08-03T16:15:54.037Z"
   },
   {
    "duration": 13,
    "start_time": "2024-08-03T16:16:06.880Z"
   },
   {
    "duration": 10,
    "start_time": "2024-08-03T16:16:24.928Z"
   },
   {
    "duration": 243,
    "start_time": "2024-08-03T16:16:42.467Z"
   },
   {
    "duration": 12,
    "start_time": "2024-08-03T16:16:50.913Z"
   },
   {
    "duration": 4,
    "start_time": "2024-08-03T16:17:03.074Z"
   },
   {
    "duration": 65,
    "start_time": "2024-08-03T16:17:06.871Z"
   },
   {
    "duration": 27,
    "start_time": "2024-08-03T16:17:11.247Z"
   },
   {
    "duration": 10,
    "start_time": "2024-08-03T16:17:58.322Z"
   },
   {
    "duration": 4,
    "start_time": "2024-08-03T16:18:04.933Z"
   },
   {
    "duration": 33,
    "start_time": "2024-08-03T16:18:06.506Z"
   },
   {
    "duration": 4,
    "start_time": "2024-08-03T16:18:28.407Z"
   },
   {
    "duration": 22,
    "start_time": "2024-08-03T16:18:28.869Z"
   },
   {
    "duration": 4,
    "start_time": "2024-08-03T16:18:53.840Z"
   },
   {
    "duration": 58,
    "start_time": "2024-08-03T16:18:55.138Z"
   },
   {
    "duration": 22,
    "start_time": "2024-08-03T16:18:55.606Z"
   },
   {
    "duration": 952,
    "start_time": "2024-08-03T16:18:59.326Z"
   },
   {
    "duration": 3,
    "start_time": "2024-08-03T16:19:00.279Z"
   },
   {
    "duration": 1307,
    "start_time": "2024-08-03T16:19:00.284Z"
   },
   {
    "duration": 2,
    "start_time": "2024-08-03T16:19:01.593Z"
   },
   {
    "duration": 159,
    "start_time": "2024-08-03T16:19:01.597Z"
   },
   {
    "duration": 22,
    "start_time": "2024-08-03T16:19:01.758Z"
   },
   {
    "duration": 861,
    "start_time": "2024-08-03T16:19:13.013Z"
   },
   {
    "duration": 2,
    "start_time": "2024-08-03T16:19:13.876Z"
   },
   {
    "duration": 1165,
    "start_time": "2024-08-03T16:19:13.880Z"
   },
   {
    "duration": 5,
    "start_time": "2024-08-03T16:19:15.191Z"
   },
   {
    "duration": 21,
    "start_time": "2024-08-03T16:19:15.889Z"
   },
   {
    "duration": 148,
    "start_time": "2024-08-03T16:20:39.751Z"
   },
   {
    "duration": 327,
    "start_time": "2024-08-03T16:22:10.521Z"
   },
   {
    "duration": 281,
    "start_time": "2024-08-03T16:22:47.152Z"
   },
   {
    "duration": 461,
    "start_time": "2024-08-03T16:24:01.424Z"
   },
   {
    "duration": 994,
    "start_time": "2024-08-03T16:24:01.887Z"
   },
   {
    "duration": 4,
    "start_time": "2024-08-03T16:26:54.476Z"
   },
   {
    "duration": 21,
    "start_time": "2024-08-03T16:27:01.671Z"
   },
   {
    "duration": 915,
    "start_time": "2024-08-03T16:27:05.743Z"
   },
   {
    "duration": 2,
    "start_time": "2024-08-03T16:27:06.660Z"
   },
   {
    "duration": 1118,
    "start_time": "2024-08-03T16:27:06.664Z"
   },
   {
    "duration": 5,
    "start_time": "2024-08-03T16:27:07.784Z"
   },
   {
    "duration": 21,
    "start_time": "2024-08-03T16:27:07.856Z"
   },
   {
    "duration": 22,
    "start_time": "2024-08-03T16:28:07.004Z"
   },
   {
    "duration": 22,
    "start_time": "2024-08-03T16:28:07.391Z"
   },
   {
    "duration": 24,
    "start_time": "2024-08-03T16:28:07.793Z"
   },
   {
    "duration": 23,
    "start_time": "2024-08-03T16:28:08.242Z"
   },
   {
    "duration": 494,
    "start_time": "2024-08-03T16:29:53.518Z"
   },
   {
    "duration": 21,
    "start_time": "2024-08-03T16:29:55.489Z"
   },
   {
    "duration": 69,
    "start_time": "2024-08-03T16:30:43.733Z"
   },
   {
    "duration": 25,
    "start_time": "2024-08-03T16:30:48.993Z"
   },
   {
    "duration": 7,
    "start_time": "2024-08-03T16:31:12.139Z"
   },
   {
    "duration": 13,
    "start_time": "2024-08-03T16:31:25.161Z"
   },
   {
    "duration": 12,
    "start_time": "2024-08-03T16:31:30.721Z"
   },
   {
    "duration": 13,
    "start_time": "2024-08-03T16:31:33.709Z"
   },
   {
    "duration": 6,
    "start_time": "2024-08-03T16:31:43.560Z"
   },
   {
    "duration": 24,
    "start_time": "2024-08-03T16:32:49.974Z"
   },
   {
    "duration": 43,
    "start_time": "2024-08-03T16:33:42.912Z"
   },
   {
    "duration": 63,
    "start_time": "2024-08-03T16:33:53.177Z"
   },
   {
    "duration": 11,
    "start_time": "2024-08-03T16:35:51.500Z"
   },
   {
    "duration": 12,
    "start_time": "2024-08-03T16:36:22.333Z"
   },
   {
    "duration": 67,
    "start_time": "2024-08-03T16:36:46.944Z"
   },
   {
    "duration": 63,
    "start_time": "2024-08-03T16:36:51.196Z"
   },
   {
    "duration": 37,
    "start_time": "2024-08-03T16:36:53.303Z"
   },
   {
    "duration": 13,
    "start_time": "2024-08-03T16:38:27.986Z"
   },
   {
    "duration": 63,
    "start_time": "2024-08-03T16:38:32.786Z"
   },
   {
    "duration": 23,
    "start_time": "2024-08-03T16:38:39.735Z"
   },
   {
    "duration": 74,
    "start_time": "2024-08-03T16:39:18.871Z"
   },
   {
    "duration": 12,
    "start_time": "2024-08-03T16:39:34.728Z"
   },
   {
    "duration": 66,
    "start_time": "2024-08-03T16:39:37.852Z"
   },
   {
    "duration": 24,
    "start_time": "2024-08-03T16:39:44.005Z"
   },
   {
    "duration": 863,
    "start_time": "2024-08-03T16:39:56.992Z"
   },
   {
    "duration": 3,
    "start_time": "2024-08-03T16:39:57.857Z"
   },
   {
    "duration": 1121,
    "start_time": "2024-08-03T16:39:57.861Z"
   },
   {
    "duration": 5,
    "start_time": "2024-08-03T16:39:58.983Z"
   },
   {
    "duration": 28,
    "start_time": "2024-08-03T16:39:58.990Z"
   },
   {
    "duration": 290,
    "start_time": "2024-08-03T16:39:59.020Z"
   },
   {
    "duration": 452,
    "start_time": "2024-08-03T16:39:59.312Z"
   },
   {
    "duration": 945,
    "start_time": "2024-08-03T16:39:59.766Z"
   },
   {
    "duration": 24,
    "start_time": "2024-08-03T16:40:00.712Z"
   },
   {
    "duration": 149,
    "start_time": "2024-08-03T16:40:00.738Z"
   },
   {
    "duration": 37,
    "start_time": "2024-08-03T16:40:01.128Z"
   },
   {
    "duration": 23,
    "start_time": "2024-08-03T16:40:02.933Z"
   },
   {
    "duration": 488,
    "start_time": "2024-08-03T16:40:03.233Z"
   },
   {
    "duration": 25,
    "start_time": "2024-08-03T16:40:03.723Z"
   },
   {
    "duration": 6,
    "start_time": "2024-08-03T16:40:03.921Z"
   },
   {
    "duration": 25,
    "start_time": "2024-08-03T16:40:09.051Z"
   },
   {
    "duration": 12,
    "start_time": "2024-08-03T16:40:15.149Z"
   },
   {
    "duration": 24,
    "start_time": "2024-08-03T16:40:18.751Z"
   },
   {
    "duration": 7,
    "start_time": "2024-08-03T16:40:24.171Z"
   },
   {
    "duration": 24,
    "start_time": "2024-08-03T16:40:25.613Z"
   },
   {
    "duration": 65,
    "start_time": "2024-08-03T16:40:54.900Z"
   },
   {
    "duration": 12,
    "start_time": "2024-08-03T16:41:02.104Z"
   },
   {
    "duration": 35,
    "start_time": "2024-08-03T16:41:14.840Z"
   },
   {
    "duration": 64,
    "start_time": "2024-08-03T16:41:49.496Z"
   },
   {
    "duration": 50,
    "start_time": "2024-08-03T16:41:58.906Z"
   },
   {
    "duration": 13,
    "start_time": "2024-08-03T16:43:06.962Z"
   },
   {
    "duration": 50,
    "start_time": "2024-08-03T16:43:16.561Z"
   },
   {
    "duration": 24,
    "start_time": "2024-08-03T16:52:01.434Z"
   },
   {
    "duration": 22,
    "start_time": "2024-08-03T16:52:03.562Z"
   },
   {
    "duration": 36,
    "start_time": "2024-08-03T16:54:38.821Z"
   },
   {
    "duration": 17,
    "start_time": "2024-08-03T16:54:45.595Z"
   },
   {
    "duration": 5,
    "start_time": "2024-08-03T16:54:52.848Z"
   },
   {
    "duration": 7,
    "start_time": "2024-08-03T16:54:53.154Z"
   },
   {
    "duration": 3,
    "start_time": "2024-08-03T16:54:53.380Z"
   },
   {
    "duration": 2,
    "start_time": "2024-08-03T16:54:53.671Z"
   },
   {
    "duration": 896,
    "start_time": "2024-08-03T16:54:54.153Z"
   },
   {
    "duration": 3,
    "start_time": "2024-08-03T16:54:55.051Z"
   },
   {
    "duration": 1103,
    "start_time": "2024-08-03T16:54:55.055Z"
   },
   {
    "duration": 4,
    "start_time": "2024-08-03T16:54:56.307Z"
   },
   {
    "duration": 42,
    "start_time": "2024-08-03T16:54:57.209Z"
   },
   {
    "duration": 10,
    "start_time": "2024-08-03T16:54:58.595Z"
   },
   {
    "duration": 187,
    "start_time": "2024-08-03T16:55:22.118Z"
   },
   {
    "duration": 22,
    "start_time": "2024-08-03T16:56:57.121Z"
   },
   {
    "duration": 26,
    "start_time": "2024-08-03T16:56:57.613Z"
   },
   {
    "duration": 24,
    "start_time": "2024-08-03T16:56:59.062Z"
   },
   {
    "duration": 18,
    "start_time": "2024-08-03T17:01:01.516Z"
   },
   {
    "duration": 13,
    "start_time": "2024-08-03T17:01:11.607Z"
   },
   {
    "duration": 104,
    "start_time": "2024-08-03T17:01:19.068Z"
   },
   {
    "duration": 17,
    "start_time": "2024-08-03T17:01:29.080Z"
   },
   {
    "duration": 10,
    "start_time": "2024-08-03T17:04:15.942Z"
   },
   {
    "duration": 23,
    "start_time": "2024-08-03T17:04:19.196Z"
   },
   {
    "duration": 119,
    "start_time": "2024-08-03T17:04:19.540Z"
   },
   {
    "duration": 20,
    "start_time": "2024-08-03T17:06:18.569Z"
   },
   {
    "duration": 24,
    "start_time": "2024-08-03T17:06:28.211Z"
   },
   {
    "duration": 19,
    "start_time": "2024-08-03T17:06:31.061Z"
   },
   {
    "duration": 27,
    "start_time": "2024-08-03T17:06:33.398Z"
   },
   {
    "duration": 34,
    "start_time": "2024-08-03T17:07:10.625Z"
   },
   {
    "duration": 42,
    "start_time": "2024-08-03T17:07:14.261Z"
   },
   {
    "duration": 38,
    "start_time": "2024-08-03T17:07:17.028Z"
   },
   {
    "duration": 20,
    "start_time": "2024-08-03T17:07:20.827Z"
   },
   {
    "duration": 200,
    "start_time": "2024-08-03T17:08:35.256Z"
   },
   {
    "duration": 66,
    "start_time": "2024-08-03T17:09:06.187Z"
   },
   {
    "duration": 23,
    "start_time": "2024-08-03T17:10:23.005Z"
   },
   {
    "duration": 91,
    "start_time": "2024-08-03T17:10:29.017Z"
   },
   {
    "duration": 27,
    "start_time": "2024-08-03T17:10:31.653Z"
   },
   {
    "duration": 118,
    "start_time": "2024-08-03T17:10:31.995Z"
   },
   {
    "duration": 66,
    "start_time": "2024-08-03T17:10:32.738Z"
   },
   {
    "duration": 14,
    "start_time": "2024-08-03T17:14:30.827Z"
   },
   {
    "duration": 10,
    "start_time": "2024-08-03T17:14:58.578Z"
   },
   {
    "duration": 4,
    "start_time": "2024-08-03T17:15:04.753Z"
   },
   {
    "duration": 5,
    "start_time": "2024-08-03T17:15:04.915Z"
   },
   {
    "duration": 3,
    "start_time": "2024-08-03T17:15:05.074Z"
   },
   {
    "duration": 3,
    "start_time": "2024-08-03T17:15:05.266Z"
   },
   {
    "duration": 913,
    "start_time": "2024-08-03T17:15:05.682Z"
   },
   {
    "duration": 3,
    "start_time": "2024-08-03T17:15:06.597Z"
   },
   {
    "duration": 1142,
    "start_time": "2024-08-03T17:15:06.605Z"
   },
   {
    "duration": 7,
    "start_time": "2024-08-03T17:15:14.926Z"
   },
   {
    "duration": 48,
    "start_time": "2024-08-03T17:15:15.392Z"
   },
   {
    "duration": 17,
    "start_time": "2024-08-03T17:15:15.794Z"
   },
   {
    "duration": 194,
    "start_time": "2024-08-03T17:15:16.112Z"
   },
   {
    "duration": 200,
    "start_time": "2024-08-03T17:15:17.127Z"
   },
   {
    "duration": 363,
    "start_time": "2024-08-03T17:15:17.711Z"
   },
   {
    "duration": 23,
    "start_time": "2024-08-03T17:15:43.656Z"
   },
   {
    "duration": 872,
    "start_time": "2024-08-03T17:15:46.448Z"
   },
   {
    "duration": 2,
    "start_time": "2024-08-03T17:15:47.322Z"
   },
   {
    "duration": 1118,
    "start_time": "2024-08-03T17:15:47.326Z"
   },
   {
    "duration": 5,
    "start_time": "2024-08-03T17:15:48.716Z"
   },
   {
    "duration": 21,
    "start_time": "2024-08-03T17:15:49.250Z"
   },
   {
    "duration": 278,
    "start_time": "2024-08-03T17:15:50.353Z"
   },
   {
    "duration": 459,
    "start_time": "2024-08-03T17:15:53.938Z"
   },
   {
    "duration": 940,
    "start_time": "2024-08-03T17:15:55.556Z"
   },
   {
    "duration": 960,
    "start_time": "2024-08-03T17:16:07.519Z"
   },
   {
    "duration": 22,
    "start_time": "2024-08-03T17:16:09.064Z"
   },
   {
    "duration": 23,
    "start_time": "2024-08-03T17:16:10.024Z"
   },
   {
    "duration": 26,
    "start_time": "2024-08-03T17:16:10.658Z"
   },
   {
    "duration": 25,
    "start_time": "2024-08-03T17:16:36.062Z"
   },
   {
    "duration": 22,
    "start_time": "2024-08-03T17:16:37.984Z"
   },
   {
    "duration": 28,
    "start_time": "2024-08-03T17:16:38.828Z"
   },
   {
    "duration": 26,
    "start_time": "2024-08-03T17:16:39.062Z"
   },
   {
    "duration": 23,
    "start_time": "2024-08-03T17:17:05.182Z"
   },
   {
    "duration": 24,
    "start_time": "2024-08-03T17:17:07.038Z"
   },
   {
    "duration": 23,
    "start_time": "2024-08-03T17:17:17.402Z"
   },
   {
    "duration": 537,
    "start_time": "2024-08-03T17:17:18.387Z"
   },
   {
    "duration": 24,
    "start_time": "2024-08-03T17:17:22.019Z"
   },
   {
    "duration": 22,
    "start_time": "2024-08-03T17:17:24.680Z"
   },
   {
    "duration": 320,
    "start_time": "2024-08-03T17:17:28.886Z"
   },
   {
    "duration": 24,
    "start_time": "2024-08-03T17:17:29.443Z"
   },
   {
    "duration": 7,
    "start_time": "2024-08-03T17:17:30.545Z"
   },
   {
    "duration": 27,
    "start_time": "2024-08-03T17:17:32.632Z"
   },
   {
    "duration": 53,
    "start_time": "2024-08-03T17:17:35.443Z"
   },
   {
    "duration": 58,
    "start_time": "2024-08-03T17:17:37.154Z"
   },
   {
    "duration": 12,
    "start_time": "2024-08-03T17:17:38.458Z"
   },
   {
    "duration": 24,
    "start_time": "2024-08-03T17:17:58.362Z"
   },
   {
    "duration": 22,
    "start_time": "2024-08-03T17:18:41.802Z"
   },
   {
    "duration": 21,
    "start_time": "2024-08-03T17:18:43.572Z"
   },
   {
    "duration": 18,
    "start_time": "2024-08-03T17:18:52.531Z"
   },
   {
    "duration": 26,
    "start_time": "2024-08-03T17:18:54.786Z"
   },
   {
    "duration": 157,
    "start_time": "2024-08-03T17:19:12.450Z"
   },
   {
    "duration": 168,
    "start_time": "2024-08-03T17:20:23.266Z"
   },
   {
    "duration": 31,
    "start_time": "2024-08-03T17:20:41.996Z"
   },
   {
    "duration": 20,
    "start_time": "2024-08-03T17:20:48.404Z"
   },
   {
    "duration": 21,
    "start_time": "2024-08-03T17:21:13.919Z"
   },
   {
    "duration": 260,
    "start_time": "2024-08-03T17:21:29.525Z"
   },
   {
    "duration": 22,
    "start_time": "2024-08-03T17:21:56.885Z"
   },
   {
    "duration": 14,
    "start_time": "2024-08-03T17:22:48.465Z"
   },
   {
    "duration": 19,
    "start_time": "2024-08-03T17:22:52.454Z"
   },
   {
    "duration": 91,
    "start_time": "2024-08-03T17:22:52.916Z"
   },
   {
    "duration": 75,
    "start_time": "2024-08-03T17:22:53.358Z"
   },
   {
    "duration": 10,
    "start_time": "2024-08-03T17:23:16.746Z"
   },
   {
    "duration": 760,
    "start_time": "2024-08-03T17:23:21.725Z"
   },
   {
    "duration": 22,
    "start_time": "2024-08-03T17:23:40.133Z"
   },
   {
    "duration": 545,
    "start_time": "2024-08-03T17:23:54.795Z"
   },
   {
    "duration": 104,
    "start_time": "2024-08-03T17:26:46.444Z"
   },
   {
    "duration": 23889,
    "start_time": "2024-08-03T17:26:47.617Z"
   },
   {
    "duration": 120,
    "start_time": "2024-08-03T17:27:31.201Z"
   },
   {
    "duration": 235,
    "start_time": "2024-08-03T17:28:03.176Z"
   },
   {
    "duration": 10,
    "start_time": "2024-08-03T17:28:20.572Z"
   },
   {
    "duration": 6,
    "start_time": "2024-08-03T17:28:28.213Z"
   },
   {
    "duration": 481136,
    "start_time": "2024-08-03T17:28:55.610Z"
   },
   {
    "duration": 13437,
    "start_time": "2024-08-03T17:36:56.748Z"
   },
   {
    "duration": 70,
    "start_time": "2024-08-03T17:37:10.186Z"
   },
   {
    "duration": 9,
    "start_time": "2024-08-03T17:37:10.258Z"
   },
   {
    "duration": 421,
    "start_time": "2024-08-03T17:46:56.697Z"
   },
   {
    "duration": 81,
    "start_time": "2024-08-03T17:46:58.970Z"
   },
   {
    "duration": 85,
    "start_time": "2024-08-03T17:47:10.791Z"
   },
   {
    "duration": 22,
    "start_time": "2024-08-03T17:47:35.664Z"
   },
   {
    "duration": 720,
    "start_time": "2024-08-03T17:47:38.149Z"
   },
   {
    "duration": 501,
    "start_time": "2024-08-03T17:47:44.202Z"
   },
   {
    "duration": 100,
    "start_time": "2024-08-03T17:48:00.755Z"
   },
   {
    "duration": 124,
    "start_time": "2024-08-03T17:48:42.737Z"
   },
   {
    "duration": 306,
    "start_time": "2024-08-03T17:48:42.981Z"
   },
   {
    "duration": 97,
    "start_time": "2024-08-03T17:48:50.218Z"
   },
   {
    "duration": 6,
    "start_time": "2024-08-03T17:52:42.853Z"
   },
   {
    "duration": 11,
    "start_time": "2024-08-03T17:58:37.586Z"
   },
   {
    "duration": 10,
    "start_time": "2024-08-03T18:01:04.632Z"
   },
   {
    "duration": 18,
    "start_time": "2024-08-03T18:01:10.443Z"
   },
   {
    "duration": 364,
    "start_time": "2024-08-03T18:01:11.241Z"
   },
   {
    "duration": 17,
    "start_time": "2024-08-03T18:01:41.018Z"
   },
   {
    "duration": 19,
    "start_time": "2024-08-03T18:01:42.849Z"
   },
   {
    "duration": 102,
    "start_time": "2024-08-03T18:01:51.464Z"
   },
   {
    "duration": 23,
    "start_time": "2024-08-03T18:02:29.583Z"
   },
   {
    "duration": 174,
    "start_time": "2024-08-03T18:02:35.258Z"
   },
   {
    "duration": 26,
    "start_time": "2024-08-03T18:02:36.449Z"
   },
   {
    "duration": 9,
    "start_time": "2024-08-03T18:02:40.395Z"
   },
   {
    "duration": 634,
    "start_time": "2024-08-03T18:02:40.893Z"
   },
   {
    "duration": 207,
    "start_time": "2024-08-03T18:02:42.150Z"
   },
   {
    "duration": 299,
    "start_time": "2024-08-03T18:02:42.984Z"
   },
   {
    "duration": 54,
    "start_time": "2024-08-03T18:02:44.737Z"
   },
   {
    "duration": 23749,
    "start_time": "2024-08-03T18:02:49.958Z"
   },
   {
    "duration": 300,
    "start_time": "2024-08-03T18:03:13.709Z"
   },
   {
    "duration": 101,
    "start_time": "2024-08-03T18:03:14.012Z"
   },
   {
    "duration": 0,
    "start_time": "2024-08-03T18:03:14.114Z"
   },
   {
    "duration": 228,
    "start_time": "2024-08-03T18:03:41.384Z"
   },
   {
    "duration": 5,
    "start_time": "2024-08-03T18:03:42.690Z"
   },
   {
    "duration": 5,
    "start_time": "2024-08-03T18:04:20.049Z"
   },
   {
    "duration": 4,
    "start_time": "2024-08-03T18:04:21.642Z"
   },
   {
    "duration": 3,
    "start_time": "2024-08-03T18:04:21.821Z"
   },
   {
    "duration": 3,
    "start_time": "2024-08-03T18:04:22.073Z"
   },
   {
    "duration": 809,
    "start_time": "2024-08-03T18:04:23.373Z"
   },
   {
    "duration": 3,
    "start_time": "2024-08-03T18:04:24.184Z"
   },
   {
    "duration": 1156,
    "start_time": "2024-08-03T18:04:24.188Z"
   },
   {
    "duration": 5,
    "start_time": "2024-08-03T18:04:25.430Z"
   },
   {
    "duration": 21,
    "start_time": "2024-08-03T18:04:25.908Z"
   },
   {
    "duration": 282,
    "start_time": "2024-08-03T18:04:27.457Z"
   },
   {
    "duration": 421,
    "start_time": "2024-08-03T18:04:28.107Z"
   },
   {
    "duration": 855,
    "start_time": "2024-08-03T18:04:29.053Z"
   },
   {
    "duration": 26,
    "start_time": "2024-08-03T18:04:31.390Z"
   },
   {
    "duration": 27,
    "start_time": "2024-08-03T18:04:31.813Z"
   },
   {
    "duration": 23,
    "start_time": "2024-08-03T18:04:31.981Z"
   },
   {
    "duration": 23,
    "start_time": "2024-08-03T18:04:32.146Z"
   },
   {
    "duration": 24,
    "start_time": "2024-08-03T18:04:32.454Z"
   },
   {
    "duration": 22,
    "start_time": "2024-08-03T18:04:39.840Z"
   },
   {
    "duration": 1498,
    "start_time": "2024-08-03T18:05:40.134Z"
   },
   {
    "duration": 5,
    "start_time": "2024-08-03T18:05:41.634Z"
   },
   {
    "duration": 7,
    "start_time": "2024-08-03T18:05:41.640Z"
   },
   {
    "duration": 3,
    "start_time": "2024-08-03T18:05:42.433Z"
   },
   {
    "duration": 924,
    "start_time": "2024-08-03T18:05:42.753Z"
   },
   {
    "duration": 3,
    "start_time": "2024-08-03T18:05:43.679Z"
   },
   {
    "duration": 1188,
    "start_time": "2024-08-03T18:05:43.683Z"
   },
   {
    "duration": 5,
    "start_time": "2024-08-03T18:05:44.873Z"
   },
   {
    "duration": 140,
    "start_time": "2024-08-03T18:05:44.880Z"
   },
   {
    "duration": 417,
    "start_time": "2024-08-03T18:05:45.022Z"
   },
   {
    "duration": 496,
    "start_time": "2024-08-03T18:05:45.441Z"
   },
   {
    "duration": 1030,
    "start_time": "2024-08-03T18:05:45.939Z"
   },
   {
    "duration": 23,
    "start_time": "2024-08-03T18:05:46.971Z"
   },
   {
    "duration": 25,
    "start_time": "2024-08-03T18:05:47.812Z"
   },
   {
    "duration": 22,
    "start_time": "2024-08-03T18:05:48.168Z"
   },
   {
    "duration": 24,
    "start_time": "2024-08-03T18:05:48.552Z"
   },
   {
    "duration": 24,
    "start_time": "2024-08-03T18:05:49.093Z"
   },
   {
    "duration": 23,
    "start_time": "2024-08-03T18:05:49.645Z"
   },
   {
    "duration": 22,
    "start_time": "2024-08-03T18:05:50.619Z"
   },
   {
    "duration": 22,
    "start_time": "2024-08-03T18:05:52.415Z"
   },
   {
    "duration": 507,
    "start_time": "2024-08-03T18:05:53.678Z"
   },
   {
    "duration": 29,
    "start_time": "2024-08-03T18:05:54.289Z"
   },
   {
    "duration": 6,
    "start_time": "2024-08-03T18:05:56.353Z"
   },
   {
    "duration": 26,
    "start_time": "2024-08-03T18:05:57.388Z"
   },
   {
    "duration": 66,
    "start_time": "2024-08-03T18:05:59.944Z"
   },
   {
    "duration": 61,
    "start_time": "2024-08-03T18:06:01.401Z"
   },
   {
    "duration": 22,
    "start_time": "2024-08-03T18:06:02.521Z"
   },
   {
    "duration": 21,
    "start_time": "2024-08-03T18:06:05.115Z"
   },
   {
    "duration": 22,
    "start_time": "2024-08-03T18:06:06.768Z"
   },
   {
    "duration": 142,
    "start_time": "2024-08-03T18:06:39.381Z"
   },
   {
    "duration": 145,
    "start_time": "2024-08-03T18:06:43.519Z"
   },
   {
    "duration": 280,
    "start_time": "2024-08-03T18:06:49.340Z"
   },
   {
    "duration": 34,
    "start_time": "2024-08-03T18:07:09.462Z"
   },
   {
    "duration": 171,
    "start_time": "2024-08-03T18:07:55.507Z"
   },
   {
    "duration": 23,
    "start_time": "2024-08-03T18:07:57.467Z"
   },
   {
    "duration": 6,
    "start_time": "2024-08-03T18:08:00.943Z"
   },
   {
    "duration": 780,
    "start_time": "2024-08-03T18:08:01.474Z"
   },
   {
    "duration": 221,
    "start_time": "2024-08-03T18:08:05.181Z"
   },
   {
    "duration": 369,
    "start_time": "2024-08-03T18:08:06.636Z"
   },
   {
    "duration": 128,
    "start_time": "2024-08-03T18:08:58.489Z"
   },
   {
    "duration": 7,
    "start_time": "2024-08-03T18:09:02.869Z"
   },
   {
    "duration": 6,
    "start_time": "2024-08-03T18:09:03.145Z"
   },
   {
    "duration": 543,
    "start_time": "2024-08-03T18:09:03.435Z"
   },
   {
    "duration": 190,
    "start_time": "2024-08-03T18:09:05.631Z"
   },
   {
    "duration": 286,
    "start_time": "2024-08-03T18:09:06.025Z"
   },
   {
    "duration": 55,
    "start_time": "2024-08-03T18:12:07.522Z"
   },
   {
    "duration": 175,
    "start_time": "2024-08-03T18:12:08.414Z"
   },
   {
    "duration": 22549,
    "start_time": "2024-08-03T18:12:15.360Z"
   },
   {
    "duration": 296,
    "start_time": "2024-08-03T18:12:37.911Z"
   },
   {
    "duration": 5,
    "start_time": "2024-08-03T18:12:50.259Z"
   },
   {
    "duration": 97051,
    "start_time": "2024-08-03T18:14:22.416Z"
   },
   {
    "duration": 99724,
    "start_time": "2024-08-03T18:16:38.796Z"
   },
   {
    "duration": 887,
    "start_time": "2024-08-03T18:18:18.522Z"
   },
   {
    "duration": 112,
    "start_time": "2024-08-03T18:18:25.930Z"
   },
   {
    "duration": 899,
    "start_time": "2024-08-03T18:18:31.244Z"
   },
   {
    "duration": 3,
    "start_time": "2024-08-03T18:19:07.256Z"
   },
   {
    "duration": 23,
    "start_time": "2024-08-03T18:19:15.202Z"
   },
   {
    "duration": 4,
    "start_time": "2024-08-03T18:19:34.600Z"
   },
   {
    "duration": 903,
    "start_time": "2024-08-03T18:19:52.754Z"
   },
   {
    "duration": 3,
    "start_time": "2024-08-03T18:19:53.659Z"
   },
   {
    "duration": 1103,
    "start_time": "2024-08-03T18:19:53.664Z"
   },
   {
    "duration": 5,
    "start_time": "2024-08-03T18:19:54.770Z"
   },
   {
    "duration": 71,
    "start_time": "2024-08-03T18:19:54.776Z"
   },
   {
    "duration": 329,
    "start_time": "2024-08-03T18:19:54.849Z"
   },
   {
    "duration": 429,
    "start_time": "2024-08-03T18:19:55.179Z"
   },
   {
    "duration": 948,
    "start_time": "2024-08-03T18:19:55.609Z"
   },
   {
    "duration": 23,
    "start_time": "2024-08-03T18:19:56.560Z"
   },
   {
    "duration": 37,
    "start_time": "2024-08-03T18:19:56.585Z"
   },
   {
    "duration": 35,
    "start_time": "2024-08-03T18:19:56.624Z"
   },
   {
    "duration": 42,
    "start_time": "2024-08-03T18:19:56.660Z"
   },
   {
    "duration": 48,
    "start_time": "2024-08-03T18:19:56.704Z"
   },
   {
    "duration": 31,
    "start_time": "2024-08-03T18:19:56.754Z"
   },
   {
    "duration": 28,
    "start_time": "2024-08-03T18:19:56.787Z"
   },
   {
    "duration": 75,
    "start_time": "2024-08-03T18:19:56.817Z"
   },
   {
    "duration": 623,
    "start_time": "2024-08-03T18:19:56.893Z"
   },
   {
    "duration": 25,
    "start_time": "2024-08-03T18:19:57.518Z"
   },
   {
    "duration": 51,
    "start_time": "2024-08-03T18:19:57.545Z"
   },
   {
    "duration": 36,
    "start_time": "2024-08-03T18:19:57.598Z"
   },
   {
    "duration": 62,
    "start_time": "2024-08-03T18:19:57.636Z"
   },
   {
    "duration": 52,
    "start_time": "2024-08-03T18:19:57.706Z"
   },
   {
    "duration": 24,
    "start_time": "2024-08-03T18:19:57.762Z"
   },
   {
    "duration": 21,
    "start_time": "2024-08-03T18:19:57.919Z"
   },
   {
    "duration": 45,
    "start_time": "2024-08-03T18:19:58.063Z"
   },
   {
    "duration": 142,
    "start_time": "2024-08-03T18:19:58.195Z"
   },
   {
    "duration": 25,
    "start_time": "2024-08-03T18:19:59.556Z"
   },
   {
    "duration": 301,
    "start_time": "2024-08-03T18:20:01.148Z"
   },
   {
    "duration": 86,
    "start_time": "2024-08-03T18:20:04.391Z"
   },
   {
    "duration": 14,
    "start_time": "2024-08-03T18:20:06.487Z"
   },
   {
    "duration": 617,
    "start_time": "2024-08-03T18:20:07.023Z"
   },
   {
    "duration": 187,
    "start_time": "2024-08-03T18:20:07.642Z"
   },
   {
    "duration": 290,
    "start_time": "2024-08-03T18:20:08.204Z"
   },
   {
    "duration": 82,
    "start_time": "2024-08-03T18:20:10.305Z"
   },
   {
    "duration": 20850,
    "start_time": "2024-08-03T18:20:10.962Z"
   },
   {
    "duration": 295,
    "start_time": "2024-08-03T18:20:31.814Z"
   },
   {
    "duration": 114,
    "start_time": "2024-08-03T18:20:32.111Z"
   },
   {
    "duration": 0,
    "start_time": "2024-08-03T18:20:32.226Z"
   },
   {
    "duration": 5,
    "start_time": "2024-08-03T18:21:48.328Z"
   },
   {
    "duration": 140,
    "start_time": "2024-08-03T18:22:05.482Z"
   },
   {
    "duration": 21,
    "start_time": "2024-08-03T18:22:06.920Z"
   },
   {
    "duration": 24,
    "start_time": "2024-08-03T18:22:11.835Z"
   },
   {
    "duration": 4,
    "start_time": "2024-08-03T18:22:12.349Z"
   },
   {
    "duration": 330,
    "start_time": "2024-08-03T18:22:12.706Z"
   },
   {
    "duration": 217076,
    "start_time": "2024-08-03T18:22:13.038Z"
   },
   {
    "duration": 0,
    "start_time": "2024-08-03T18:25:50.115Z"
   },
   {
    "duration": 224087,
    "start_time": "2024-08-03T18:26:35.205Z"
   },
   {
    "duration": 567,
    "start_time": "2024-08-03T18:30:51.148Z"
   },
   {
    "duration": 523,
    "start_time": "2024-08-03T18:30:52.222Z"
   },
   {
    "duration": 19,
    "start_time": "2024-08-03T18:31:47.292Z"
   },
   {
    "duration": 88,
    "start_time": "2024-08-03T18:31:49.856Z"
   },
   {
    "duration": 8,
    "start_time": "2024-08-03T18:31:50.460Z"
   },
   {
    "duration": 22,
    "start_time": "2024-08-03T18:31:51.199Z"
   },
   {
    "duration": 7,
    "start_time": "2024-08-03T18:31:52.131Z"
   },
   {
    "duration": 496,
    "start_time": "2024-08-03T18:31:52.624Z"
   },
   {
    "duration": 183,
    "start_time": "2024-08-03T18:31:55.094Z"
   },
   {
    "duration": 267,
    "start_time": "2024-08-03T18:31:55.527Z"
   },
   {
    "duration": 43,
    "start_time": "2024-08-03T18:31:57.029Z"
   },
   {
    "duration": 21289,
    "start_time": "2024-08-03T18:33:06.721Z"
   },
   {
    "duration": 3,
    "start_time": "2024-08-03T18:33:28.013Z"
   },
   {
    "duration": 7,
    "start_time": "2024-08-03T18:34:24.239Z"
   },
   {
    "duration": 9,
    "start_time": "2024-08-03T18:34:28.742Z"
   },
   {
    "duration": 1525,
    "start_time": "2024-08-03T18:35:02.295Z"
   },
   {
    "duration": 4,
    "start_time": "2024-08-03T18:35:03.822Z"
   },
   {
    "duration": 22,
    "start_time": "2024-08-03T18:35:03.828Z"
   },
   {
    "duration": 6,
    "start_time": "2024-08-03T18:35:03.851Z"
   },
   {
    "duration": 969,
    "start_time": "2024-08-03T18:35:03.859Z"
   },
   {
    "duration": 3,
    "start_time": "2024-08-03T18:35:04.830Z"
   },
   {
    "duration": 1126,
    "start_time": "2024-08-03T18:35:04.834Z"
   },
   {
    "duration": 5,
    "start_time": "2024-08-03T18:35:05.963Z"
   },
   {
    "duration": 36,
    "start_time": "2024-08-03T18:35:05.970Z"
   },
   {
    "duration": 341,
    "start_time": "2024-08-03T18:35:06.009Z"
   },
   {
    "duration": 514,
    "start_time": "2024-08-03T18:35:06.352Z"
   },
   {
    "duration": 1038,
    "start_time": "2024-08-03T18:35:06.868Z"
   },
   {
    "duration": 23,
    "start_time": "2024-08-03T18:35:07.907Z"
   },
   {
    "duration": 39,
    "start_time": "2024-08-03T18:35:07.932Z"
   },
   {
    "duration": 42,
    "start_time": "2024-08-03T18:35:07.973Z"
   },
   {
    "duration": 40,
    "start_time": "2024-08-03T18:35:08.017Z"
   },
   {
    "duration": 33,
    "start_time": "2024-08-03T18:35:08.059Z"
   },
   {
    "duration": 22,
    "start_time": "2024-08-03T18:35:08.094Z"
   },
   {
    "duration": 23,
    "start_time": "2024-08-03T18:35:08.117Z"
   },
   {
    "duration": 43,
    "start_time": "2024-08-03T18:35:08.141Z"
   },
   {
    "duration": 493,
    "start_time": "2024-08-03T18:35:08.186Z"
   },
   {
    "duration": 31,
    "start_time": "2024-08-03T18:35:08.681Z"
   },
   {
    "duration": 8,
    "start_time": "2024-08-03T18:35:08.714Z"
   },
   {
    "duration": 26,
    "start_time": "2024-08-03T18:35:08.727Z"
   },
   {
    "duration": 66,
    "start_time": "2024-08-03T18:35:09.463Z"
   },
   {
    "duration": 62,
    "start_time": "2024-08-03T18:35:09.640Z"
   },
   {
    "duration": 22,
    "start_time": "2024-08-03T18:35:09.797Z"
   },
   {
    "duration": 20,
    "start_time": "2024-08-03T18:35:09.964Z"
   },
   {
    "duration": 63,
    "start_time": "2024-08-03T18:35:10.121Z"
   },
   {
    "duration": 150,
    "start_time": "2024-08-03T18:35:10.427Z"
   },
   {
    "duration": 27,
    "start_time": "2024-08-03T18:35:13.483Z"
   },
   {
    "duration": 350,
    "start_time": "2024-08-03T18:35:14.928Z"
   },
   {
    "duration": 152,
    "start_time": "2024-08-03T18:35:15.327Z"
   },
   {
    "duration": 23,
    "start_time": "2024-08-03T18:35:16.687Z"
   },
   {
    "duration": 5,
    "start_time": "2024-08-03T18:35:17.195Z"
   },
   {
    "duration": 5,
    "start_time": "2024-08-03T18:35:20.305Z"
   },
   {
    "duration": 504,
    "start_time": "2024-08-03T18:35:20.709Z"
   },
   {
    "duration": 182,
    "start_time": "2024-08-03T18:35:23.815Z"
   },
   {
    "duration": 299,
    "start_time": "2024-08-03T18:35:24.591Z"
   },
   {
    "duration": 47,
    "start_time": "2024-08-03T18:35:25.382Z"
   },
   {
    "duration": 22183,
    "start_time": "2024-08-03T18:35:29.008Z"
   },
   {
    "duration": 21719,
    "start_time": "2024-08-03T18:36:01.991Z"
   },
   {
    "duration": 291,
    "start_time": "2024-08-03T18:36:45.520Z"
   },
   {
    "duration": 232,
    "start_time": "2024-08-03T18:36:55.075Z"
   },
   {
    "duration": 70,
    "start_time": "2024-08-03T18:37:09.603Z"
   },
   {
    "duration": 245,
    "start_time": "2024-08-03T18:37:17.461Z"
   },
   {
    "duration": 6,
    "start_time": "2024-08-03T18:37:28.661Z"
   },
   {
    "duration": 1544,
    "start_time": "2024-08-03T18:38:18.115Z"
   },
   {
    "duration": 5,
    "start_time": "2024-08-03T18:38:19.660Z"
   },
   {
    "duration": 6,
    "start_time": "2024-08-03T18:38:19.667Z"
   },
   {
    "duration": 12,
    "start_time": "2024-08-03T18:38:19.674Z"
   },
   {
    "duration": 993,
    "start_time": "2024-08-03T18:38:19.687Z"
   },
   {
    "duration": 3,
    "start_time": "2024-08-03T18:38:20.682Z"
   },
   {
    "duration": 1186,
    "start_time": "2024-08-03T18:38:20.687Z"
   },
   {
    "duration": 5,
    "start_time": "2024-08-03T18:38:21.876Z"
   },
   {
    "duration": 40,
    "start_time": "2024-08-03T18:38:21.882Z"
   },
   {
    "duration": 320,
    "start_time": "2024-08-03T18:38:21.923Z"
   },
   {
    "duration": 490,
    "start_time": "2024-08-03T18:38:22.245Z"
   },
   {
    "duration": 1036,
    "start_time": "2024-08-03T18:38:22.736Z"
   },
   {
    "duration": 22,
    "start_time": "2024-08-03T18:38:23.774Z"
   },
   {
    "duration": 23,
    "start_time": "2024-08-03T18:38:23.806Z"
   },
   {
    "duration": 24,
    "start_time": "2024-08-03T18:38:23.830Z"
   },
   {
    "duration": 24,
    "start_time": "2024-08-03T18:38:23.856Z"
   },
   {
    "duration": 46,
    "start_time": "2024-08-03T18:38:23.881Z"
   },
   {
    "duration": 25,
    "start_time": "2024-08-03T18:38:23.929Z"
   },
   {
    "duration": 37,
    "start_time": "2024-08-03T18:38:23.955Z"
   },
   {
    "duration": 31,
    "start_time": "2024-08-03T18:38:23.995Z"
   },
   {
    "duration": 517,
    "start_time": "2024-08-03T18:38:24.029Z"
   },
   {
    "duration": 25,
    "start_time": "2024-08-03T18:38:24.547Z"
   },
   {
    "duration": 8,
    "start_time": "2024-08-03T18:38:24.574Z"
   },
   {
    "duration": 43,
    "start_time": "2024-08-03T18:38:24.583Z"
   },
   {
    "duration": 88,
    "start_time": "2024-08-03T18:38:24.628Z"
   },
   {
    "duration": 69,
    "start_time": "2024-08-03T18:38:24.755Z"
   },
   {
    "duration": 34,
    "start_time": "2024-08-03T18:38:24.892Z"
   },
   {
    "duration": 23,
    "start_time": "2024-08-03T18:38:25.047Z"
   },
   {
    "duration": 61,
    "start_time": "2024-08-03T18:38:25.204Z"
   },
   {
    "duration": 150,
    "start_time": "2024-08-03T18:38:26.531Z"
   },
   {
    "duration": 26,
    "start_time": "2024-08-03T18:38:29.046Z"
   },
   {
    "duration": 347,
    "start_time": "2024-08-03T18:38:30.980Z"
   },
   {
    "duration": 136,
    "start_time": "2024-08-03T18:40:02.635Z"
   },
   {
    "duration": 299,
    "start_time": "2024-08-03T18:40:05.195Z"
   },
   {
    "duration": 18,
    "start_time": "2024-08-03T18:40:05.496Z"
   },
   {
    "duration": 618,
    "start_time": "2024-08-03T18:40:06.827Z"
   },
   {
    "duration": 181,
    "start_time": "2024-08-03T18:40:09.391Z"
   },
   {
    "duration": 274,
    "start_time": "2024-08-03T18:40:10.901Z"
   },
   {
    "duration": 76,
    "start_time": "2024-08-03T18:40:13.401Z"
   },
   {
    "duration": 26,
    "start_time": "2024-08-03T18:40:24.552Z"
   },
   {
    "duration": 294,
    "start_time": "2024-08-03T18:40:24.991Z"
   },
   {
    "duration": 217518,
    "start_time": "2024-08-03T18:40:27.079Z"
   },
   {
    "duration": 538,
    "start_time": "2024-08-03T18:44:04.598Z"
   },
   {
    "duration": 547,
    "start_time": "2024-08-03T18:44:05.138Z"
   },
   {
    "duration": 131,
    "start_time": "2024-08-03T18:45:37.353Z"
   },
   {
    "duration": 271,
    "start_time": "2024-08-03T18:50:07.107Z"
   },
   {
    "duration": 29,
    "start_time": "2024-08-03T18:50:08.176Z"
   },
   {
    "duration": 51,
    "start_time": "2024-08-03T18:51:06.190Z"
   },
   {
    "duration": 1548,
    "start_time": "2024-08-03T18:51:24.274Z"
   },
   {
    "duration": 5,
    "start_time": "2024-08-03T18:51:26.822Z"
   },
   {
    "duration": 3,
    "start_time": "2024-08-03T18:51:27.077Z"
   },
   {
    "duration": 3,
    "start_time": "2024-08-03T18:51:27.255Z"
   },
   {
    "duration": 3027,
    "start_time": "2024-08-03T18:51:27.557Z"
   },
   {
    "duration": 3,
    "start_time": "2024-08-03T18:51:30.586Z"
   },
   {
    "duration": 1306,
    "start_time": "2024-08-03T18:51:30.591Z"
   },
   {
    "duration": 5,
    "start_time": "2024-08-03T18:51:31.904Z"
   },
   {
    "duration": 29,
    "start_time": "2024-08-03T18:51:31.910Z"
   },
   {
    "duration": 284,
    "start_time": "2024-08-03T18:51:31.940Z"
   },
   {
    "duration": 494,
    "start_time": "2024-08-03T18:51:32.225Z"
   },
   {
    "duration": 1007,
    "start_time": "2024-08-03T18:51:32.721Z"
   },
   {
    "duration": 28,
    "start_time": "2024-08-03T18:51:33.729Z"
   },
   {
    "duration": 27,
    "start_time": "2024-08-03T18:51:33.760Z"
   },
   {
    "duration": 22,
    "start_time": "2024-08-03T18:51:33.806Z"
   },
   {
    "duration": 24,
    "start_time": "2024-08-03T18:51:33.830Z"
   },
   {
    "duration": 24,
    "start_time": "2024-08-03T18:51:33.856Z"
   },
   {
    "duration": 28,
    "start_time": "2024-08-03T18:51:33.906Z"
   },
   {
    "duration": 23,
    "start_time": "2024-08-03T18:51:33.936Z"
   },
   {
    "duration": 45,
    "start_time": "2024-08-03T18:51:33.961Z"
   },
   {
    "duration": 587,
    "start_time": "2024-08-03T18:51:34.008Z"
   },
   {
    "duration": 25,
    "start_time": "2024-08-03T18:51:34.597Z"
   },
   {
    "duration": 6,
    "start_time": "2024-08-03T18:51:34.623Z"
   },
   {
    "duration": 26,
    "start_time": "2024-08-03T18:51:34.630Z"
   },
   {
    "duration": 90,
    "start_time": "2024-08-03T18:51:34.657Z"
   },
   {
    "duration": 69,
    "start_time": "2024-08-03T18:51:34.748Z"
   },
   {
    "duration": 23,
    "start_time": "2024-08-03T18:51:34.818Z"
   },
   {
    "duration": 26,
    "start_time": "2024-08-03T18:51:34.842Z"
   },
   {
    "duration": 79,
    "start_time": "2024-08-03T18:51:34.871Z"
   },
   {
    "duration": 139,
    "start_time": "2024-08-03T18:51:34.952Z"
   },
   {
    "duration": 79,
    "start_time": "2024-08-03T18:51:35.094Z"
   },
   {
    "duration": 307,
    "start_time": "2024-08-03T18:51:35.175Z"
   },
   {
    "duration": 21,
    "start_time": "2024-08-03T18:51:35.484Z"
   },
   {
    "duration": 704,
    "start_time": "2024-08-03T18:51:35.507Z"
   },
   {
    "duration": 180,
    "start_time": "2024-08-03T18:51:36.213Z"
   },
   {
    "duration": 261,
    "start_time": "2024-08-03T18:51:39.050Z"
   },
   {
    "duration": 59,
    "start_time": "2024-08-03T18:52:01.300Z"
   },
   {
    "duration": 1564,
    "start_time": "2024-08-03T18:52:05.183Z"
   },
   {
    "duration": 5,
    "start_time": "2024-08-03T18:52:06.748Z"
   },
   {
    "duration": 17,
    "start_time": "2024-08-03T18:52:06.755Z"
   },
   {
    "duration": 5,
    "start_time": "2024-08-03T18:52:06.774Z"
   },
   {
    "duration": 2995,
    "start_time": "2024-08-03T18:52:06.780Z"
   },
   {
    "duration": 3,
    "start_time": "2024-08-03T18:52:09.777Z"
   },
   {
    "duration": 1214,
    "start_time": "2024-08-03T18:52:09.781Z"
   },
   {
    "duration": 5,
    "start_time": "2024-08-03T18:52:10.996Z"
   },
   {
    "duration": 22,
    "start_time": "2024-08-03T18:52:11.006Z"
   },
   {
    "duration": 311,
    "start_time": "2024-08-03T18:52:11.030Z"
   },
   {
    "duration": 482,
    "start_time": "2024-08-03T18:52:11.343Z"
   },
   {
    "duration": 1446,
    "start_time": "2024-08-03T18:52:14.543Z"
   },
   {
    "duration": 5,
    "start_time": "2024-08-03T18:52:15.991Z"
   },
   {
    "duration": 10,
    "start_time": "2024-08-03T18:52:15.997Z"
   },
   {
    "duration": 9,
    "start_time": "2024-08-03T18:52:16.009Z"
   },
   {
    "duration": 947,
    "start_time": "2024-08-03T18:52:16.020Z"
   },
   {
    "duration": 3,
    "start_time": "2024-08-03T18:52:16.969Z"
   },
   {
    "duration": 1122,
    "start_time": "2024-08-03T18:52:16.975Z"
   },
   {
    "duration": 6,
    "start_time": "2024-08-03T18:52:18.099Z"
   },
   {
    "duration": 33,
    "start_time": "2024-08-03T18:52:18.106Z"
   },
   {
    "duration": 296,
    "start_time": "2024-08-03T18:52:18.141Z"
   },
   {
    "duration": 506,
    "start_time": "2024-08-03T18:52:18.438Z"
   },
   {
    "duration": 984,
    "start_time": "2024-08-03T18:52:18.946Z"
   },
   {
    "duration": 22,
    "start_time": "2024-08-03T18:52:19.932Z"
   },
   {
    "duration": 40,
    "start_time": "2024-08-03T18:52:19.956Z"
   },
   {
    "duration": 26,
    "start_time": "2024-08-03T18:52:19.998Z"
   },
   {
    "duration": 32,
    "start_time": "2024-08-03T18:52:20.026Z"
   },
   {
    "duration": 24,
    "start_time": "2024-08-03T18:52:20.061Z"
   },
   {
    "duration": 39,
    "start_time": "2024-08-03T18:52:20.086Z"
   },
   {
    "duration": 31,
    "start_time": "2024-08-03T18:52:20.127Z"
   },
   {
    "duration": 51,
    "start_time": "2024-08-03T18:52:20.160Z"
   },
   {
    "duration": 503,
    "start_time": "2024-08-03T18:52:20.213Z"
   },
   {
    "duration": 25,
    "start_time": "2024-08-03T18:52:20.717Z"
   },
   {
    "duration": 6,
    "start_time": "2024-08-03T18:52:20.744Z"
   },
   {
    "duration": 50,
    "start_time": "2024-08-03T18:52:20.751Z"
   },
   {
    "duration": 65,
    "start_time": "2024-08-03T18:52:20.805Z"
   },
   {
    "duration": 78,
    "start_time": "2024-08-03T18:52:20.872Z"
   },
   {
    "duration": 22,
    "start_time": "2024-08-03T18:52:20.952Z"
   },
   {
    "duration": 21,
    "start_time": "2024-08-03T18:52:21.088Z"
   },
   {
    "duration": 60,
    "start_time": "2024-08-03T18:52:21.253Z"
   },
   {
    "duration": 149,
    "start_time": "2024-08-03T18:52:21.413Z"
   },
   {
    "duration": 27,
    "start_time": "2024-08-03T18:52:22.435Z"
   },
   {
    "duration": 325,
    "start_time": "2024-08-03T18:52:22.999Z"
   },
   {
    "duration": 13,
    "start_time": "2024-08-03T18:52:23.403Z"
   },
   {
    "duration": 610,
    "start_time": "2024-08-03T18:52:25.321Z"
   },
   {
    "duration": 182,
    "start_time": "2024-08-03T18:52:27.923Z"
   },
   {
    "duration": 291,
    "start_time": "2024-08-03T18:52:28.764Z"
   },
   {
    "duration": 1501,
    "start_time": "2024-08-03T18:53:41.828Z"
   },
   {
    "duration": 5,
    "start_time": "2024-08-03T18:53:43.331Z"
   },
   {
    "duration": 11,
    "start_time": "2024-08-03T18:53:43.337Z"
   },
   {
    "duration": 3,
    "start_time": "2024-08-03T18:53:43.350Z"
   },
   {
    "duration": 3022,
    "start_time": "2024-08-03T18:53:43.354Z"
   },
   {
    "duration": 3,
    "start_time": "2024-08-03T18:53:46.377Z"
   },
   {
    "duration": 1164,
    "start_time": "2024-08-03T18:53:46.381Z"
   },
   {
    "duration": 6,
    "start_time": "2024-08-03T18:53:47.548Z"
   },
   {
    "duration": 24,
    "start_time": "2024-08-03T18:53:47.558Z"
   },
   {
    "duration": 318,
    "start_time": "2024-08-03T18:53:47.584Z"
   },
   {
    "duration": 501,
    "start_time": "2024-08-03T18:53:47.904Z"
   },
   {
    "duration": 1062,
    "start_time": "2024-08-03T18:53:48.407Z"
   },
   {
    "duration": 23,
    "start_time": "2024-08-03T18:53:49.471Z"
   },
   {
    "duration": 32,
    "start_time": "2024-08-03T18:53:49.495Z"
   },
   {
    "duration": 24,
    "start_time": "2024-08-03T18:53:49.529Z"
   },
   {
    "duration": 26,
    "start_time": "2024-08-03T18:53:49.554Z"
   },
   {
    "duration": 44,
    "start_time": "2024-08-03T18:53:49.582Z"
   },
   {
    "duration": 71,
    "start_time": "2024-08-03T18:53:49.628Z"
   },
   {
    "duration": 23,
    "start_time": "2024-08-03T18:53:49.700Z"
   },
   {
    "duration": 24,
    "start_time": "2024-08-03T18:53:49.725Z"
   },
   {
    "duration": 555,
    "start_time": "2024-08-03T18:53:49.750Z"
   },
   {
    "duration": 26,
    "start_time": "2024-08-03T18:53:50.308Z"
   },
   {
    "duration": 7,
    "start_time": "2024-08-03T18:53:50.336Z"
   },
   {
    "duration": 40,
    "start_time": "2024-08-03T18:53:50.346Z"
   },
   {
    "duration": 78,
    "start_time": "2024-08-03T18:53:50.388Z"
   },
   {
    "duration": 85,
    "start_time": "2024-08-03T18:53:50.468Z"
   },
   {
    "duration": 23,
    "start_time": "2024-08-03T18:53:50.555Z"
   },
   {
    "duration": 37,
    "start_time": "2024-08-03T18:53:50.580Z"
   },
   {
    "duration": 72,
    "start_time": "2024-08-03T18:53:50.618Z"
   },
   {
    "duration": 145,
    "start_time": "2024-08-03T18:53:50.692Z"
   },
   {
    "duration": 27,
    "start_time": "2024-08-03T18:53:50.840Z"
   },
   {
    "duration": 341,
    "start_time": "2024-08-03T18:53:50.868Z"
   },
   {
    "duration": 12,
    "start_time": "2024-08-03T18:53:51.211Z"
   },
   {
    "duration": 607,
    "start_time": "2024-08-03T18:53:54.094Z"
   },
   {
    "duration": 186,
    "start_time": "2024-08-03T18:53:54.834Z"
   },
   {
    "duration": 270,
    "start_time": "2024-08-03T18:53:59.380Z"
   },
   {
    "duration": 121,
    "start_time": "2024-08-03T18:54:00.160Z"
   },
   {
    "duration": 1523,
    "start_time": "2024-08-03T18:56:23.829Z"
   },
   {
    "duration": 5,
    "start_time": "2024-08-03T18:56:25.354Z"
   },
   {
    "duration": 11,
    "start_time": "2024-08-03T18:56:25.360Z"
   },
   {
    "duration": 2,
    "start_time": "2024-08-03T18:56:25.373Z"
   },
   {
    "duration": 3002,
    "start_time": "2024-08-03T18:56:25.377Z"
   },
   {
    "duration": 3,
    "start_time": "2024-08-03T18:56:28.381Z"
   },
   {
    "duration": 1159,
    "start_time": "2024-08-03T18:56:28.386Z"
   },
   {
    "duration": 5,
    "start_time": "2024-08-03T18:56:29.547Z"
   },
   {
    "duration": 21,
    "start_time": "2024-08-03T18:56:29.554Z"
   },
   {
    "duration": 310,
    "start_time": "2024-08-03T18:56:29.577Z"
   },
   {
    "duration": 525,
    "start_time": "2024-08-03T18:56:29.889Z"
   },
   {
    "duration": 1092,
    "start_time": "2024-08-03T18:56:30.416Z"
   },
   {
    "duration": 23,
    "start_time": "2024-08-03T18:56:31.510Z"
   },
   {
    "duration": 68,
    "start_time": "2024-08-03T18:56:31.534Z"
   },
   {
    "duration": 85,
    "start_time": "2024-08-03T18:56:31.604Z"
   },
   {
    "duration": 52,
    "start_time": "2024-08-03T18:56:31.691Z"
   },
   {
    "duration": 29,
    "start_time": "2024-08-03T18:56:31.744Z"
   },
   {
    "duration": 67,
    "start_time": "2024-08-03T18:56:31.776Z"
   },
   {
    "duration": 56,
    "start_time": "2024-08-03T18:56:31.845Z"
   },
   {
    "duration": 33,
    "start_time": "2024-08-03T18:56:31.902Z"
   },
   {
    "duration": 547,
    "start_time": "2024-08-03T18:56:31.937Z"
   },
   {
    "duration": 32,
    "start_time": "2024-08-03T18:56:32.485Z"
   },
   {
    "duration": 6,
    "start_time": "2024-08-03T18:56:32.518Z"
   },
   {
    "duration": 56,
    "start_time": "2024-08-03T18:56:32.526Z"
   },
   {
    "duration": 65,
    "start_time": "2024-08-03T18:56:32.584Z"
   },
   {
    "duration": 66,
    "start_time": "2024-08-03T18:56:32.650Z"
   },
   {
    "duration": 22,
    "start_time": "2024-08-03T18:56:32.718Z"
   },
   {
    "duration": 23,
    "start_time": "2024-08-03T18:56:32.741Z"
   },
   {
    "duration": 80,
    "start_time": "2024-08-03T18:56:32.766Z"
   },
   {
    "duration": 146,
    "start_time": "2024-08-03T18:56:32.848Z"
   },
   {
    "duration": 27,
    "start_time": "2024-08-03T18:56:33.005Z"
   },
   {
    "duration": 310,
    "start_time": "2024-08-03T18:56:35.123Z"
   },
   {
    "duration": 13,
    "start_time": "2024-08-03T18:56:38.278Z"
   },
   {
    "duration": 646,
    "start_time": "2024-08-03T18:56:38.926Z"
   },
   {
    "duration": 184,
    "start_time": "2024-08-03T18:56:41.120Z"
   },
   {
    "duration": 268,
    "start_time": "2024-08-03T18:56:41.385Z"
   },
   {
    "duration": 1775,
    "start_time": "2024-08-03T18:56:43.113Z"
   },
   {
    "duration": 1550,
    "start_time": "2024-08-03T18:59:19.006Z"
   },
   {
    "duration": 6,
    "start_time": "2024-08-03T18:59:20.559Z"
   },
   {
    "duration": 34,
    "start_time": "2024-08-03T18:59:20.567Z"
   },
   {
    "duration": 22,
    "start_time": "2024-08-03T18:59:20.603Z"
   },
   {
    "duration": 3058,
    "start_time": "2024-08-03T18:59:20.627Z"
   },
   {
    "duration": 3,
    "start_time": "2024-08-03T18:59:23.687Z"
   },
   {
    "duration": 1220,
    "start_time": "2024-08-03T18:59:23.692Z"
   },
   {
    "duration": 5,
    "start_time": "2024-08-03T18:59:24.914Z"
   },
   {
    "duration": 40,
    "start_time": "2024-08-03T18:59:24.922Z"
   },
   {
    "duration": 324,
    "start_time": "2024-08-03T18:59:24.965Z"
   },
   {
    "duration": 498,
    "start_time": "2024-08-03T18:59:25.291Z"
   },
   {
    "duration": 1086,
    "start_time": "2024-08-03T18:59:25.791Z"
   },
   {
    "duration": 28,
    "start_time": "2024-08-03T18:59:26.879Z"
   },
   {
    "duration": 28,
    "start_time": "2024-08-03T18:59:26.909Z"
   },
   {
    "duration": 23,
    "start_time": "2024-08-03T18:59:26.939Z"
   },
   {
    "duration": 51,
    "start_time": "2024-08-03T18:59:26.964Z"
   },
   {
    "duration": 24,
    "start_time": "2024-08-03T18:59:27.017Z"
   },
   {
    "duration": 32,
    "start_time": "2024-08-03T18:59:27.042Z"
   },
   {
    "duration": 95,
    "start_time": "2024-08-03T18:59:27.076Z"
   },
   {
    "duration": 28,
    "start_time": "2024-08-03T18:59:27.172Z"
   },
   {
    "duration": 510,
    "start_time": "2024-08-03T18:59:27.201Z"
   },
   {
    "duration": 28,
    "start_time": "2024-08-03T18:59:27.712Z"
   },
   {
    "duration": 12,
    "start_time": "2024-08-03T18:59:27.742Z"
   },
   {
    "duration": 52,
    "start_time": "2024-08-03T18:59:27.755Z"
   },
   {
    "duration": 65,
    "start_time": "2024-08-03T18:59:27.808Z"
   },
   {
    "duration": 80,
    "start_time": "2024-08-03T18:59:27.875Z"
   },
   {
    "duration": 23,
    "start_time": "2024-08-03T18:59:27.957Z"
   },
   {
    "duration": 35,
    "start_time": "2024-08-03T18:59:27.983Z"
   },
   {
    "duration": 75,
    "start_time": "2024-08-03T18:59:28.020Z"
   },
   {
    "duration": 150,
    "start_time": "2024-08-03T18:59:28.097Z"
   },
   {
    "duration": 27,
    "start_time": "2024-08-03T18:59:28.248Z"
   },
   {
    "duration": 329,
    "start_time": "2024-08-03T18:59:28.277Z"
   },
   {
    "duration": 12,
    "start_time": "2024-08-03T18:59:28.607Z"
   },
   {
    "duration": 595,
    "start_time": "2024-08-03T18:59:28.621Z"
   },
   {
    "duration": 185,
    "start_time": "2024-08-03T18:59:29.218Z"
   },
   {
    "duration": 273,
    "start_time": "2024-08-03T18:59:29.405Z"
   },
   {
    "duration": 1802,
    "start_time": "2024-08-03T18:59:29.680Z"
   },
   {
    "duration": 1506,
    "start_time": "2024-08-03T19:00:36.504Z"
   },
   {
    "duration": 4,
    "start_time": "2024-08-03T19:00:38.012Z"
   },
   {
    "duration": 53,
    "start_time": "2024-08-03T19:00:38.018Z"
   },
   {
    "duration": 17,
    "start_time": "2024-08-03T19:00:38.073Z"
   },
   {
    "duration": 3011,
    "start_time": "2024-08-03T19:00:38.092Z"
   },
   {
    "duration": 3,
    "start_time": "2024-08-03T19:00:41.105Z"
   },
   {
    "duration": 1204,
    "start_time": "2024-08-03T19:00:41.109Z"
   },
   {
    "duration": 5,
    "start_time": "2024-08-03T19:00:42.315Z"
   },
   {
    "duration": 23,
    "start_time": "2024-08-03T19:00:42.322Z"
   },
   {
    "duration": 315,
    "start_time": "2024-08-03T19:00:42.346Z"
   },
   {
    "duration": 523,
    "start_time": "2024-08-03T19:00:42.663Z"
   },
   {
    "duration": 1020,
    "start_time": "2024-08-03T19:00:43.188Z"
   },
   {
    "duration": 23,
    "start_time": "2024-08-03T19:00:44.209Z"
   },
   {
    "duration": 37,
    "start_time": "2024-08-03T19:00:44.233Z"
   },
   {
    "duration": 22,
    "start_time": "2024-08-03T19:00:44.272Z"
   },
   {
    "duration": 43,
    "start_time": "2024-08-03T19:00:44.304Z"
   },
   {
    "duration": 24,
    "start_time": "2024-08-03T19:00:44.349Z"
   },
   {
    "duration": 41,
    "start_time": "2024-08-03T19:00:44.375Z"
   },
   {
    "duration": 25,
    "start_time": "2024-08-03T19:00:44.418Z"
   },
   {
    "duration": 29,
    "start_time": "2024-08-03T19:00:44.444Z"
   },
   {
    "duration": 559,
    "start_time": "2024-08-03T19:00:44.476Z"
   },
   {
    "duration": 27,
    "start_time": "2024-08-03T19:00:45.039Z"
   },
   {
    "duration": 180,
    "start_time": "2024-08-03T19:00:45.068Z"
   },
   {
    "duration": 118,
    "start_time": "2024-08-03T19:00:45.249Z"
   },
   {
    "duration": 66,
    "start_time": "2024-08-03T19:00:45.368Z"
   },
   {
    "duration": 59,
    "start_time": "2024-08-03T19:00:45.436Z"
   },
   {
    "duration": 30,
    "start_time": "2024-08-03T19:00:45.497Z"
   },
   {
    "duration": 23,
    "start_time": "2024-08-03T19:00:45.528Z"
   },
   {
    "duration": 81,
    "start_time": "2024-08-03T19:00:45.552Z"
   },
   {
    "duration": 138,
    "start_time": "2024-08-03T19:00:45.634Z"
   },
   {
    "duration": 37,
    "start_time": "2024-08-03T19:00:45.773Z"
   },
   {
    "duration": 318,
    "start_time": "2024-08-03T19:00:46.548Z"
   },
   {
    "duration": 3,
    "start_time": "2024-08-03T19:00:48.296Z"
   },
   {
    "duration": 583,
    "start_time": "2024-08-03T19:00:48.666Z"
   },
   {
    "duration": 189,
    "start_time": "2024-08-03T19:00:50.727Z"
   },
   {
    "duration": 263,
    "start_time": "2024-08-03T19:00:51.371Z"
   },
   {
    "duration": 1725,
    "start_time": "2024-08-03T19:00:53.343Z"
   },
   {
    "duration": 1558,
    "start_time": "2024-08-03T19:04:05.067Z"
   },
   {
    "duration": 4,
    "start_time": "2024-08-03T19:04:06.627Z"
   },
   {
    "duration": 8,
    "start_time": "2024-08-03T19:04:06.633Z"
   },
   {
    "duration": 3,
    "start_time": "2024-08-03T19:04:06.643Z"
   },
   {
    "duration": 2996,
    "start_time": "2024-08-03T19:04:06.648Z"
   },
   {
    "duration": 2,
    "start_time": "2024-08-03T19:04:09.646Z"
   },
   {
    "duration": 1147,
    "start_time": "2024-08-03T19:04:09.650Z"
   },
   {
    "duration": 5,
    "start_time": "2024-08-03T19:04:10.800Z"
   },
   {
    "duration": 23,
    "start_time": "2024-08-03T19:04:10.807Z"
   },
   {
    "duration": 323,
    "start_time": "2024-08-03T19:04:10.832Z"
   },
   {
    "duration": 500,
    "start_time": "2024-08-03T19:04:11.157Z"
   },
   {
    "duration": 994,
    "start_time": "2024-08-03T19:04:11.658Z"
   },
   {
    "duration": 22,
    "start_time": "2024-08-03T19:04:12.654Z"
   },
   {
    "duration": 34,
    "start_time": "2024-08-03T19:04:12.677Z"
   },
   {
    "duration": 21,
    "start_time": "2024-08-03T19:04:12.713Z"
   },
   {
    "duration": 34,
    "start_time": "2024-08-03T19:04:12.736Z"
   },
   {
    "duration": 36,
    "start_time": "2024-08-03T19:04:12.772Z"
   },
   {
    "duration": 22,
    "start_time": "2024-08-03T19:04:12.810Z"
   },
   {
    "duration": 24,
    "start_time": "2024-08-03T19:04:12.834Z"
   },
   {
    "duration": 46,
    "start_time": "2024-08-03T19:04:12.859Z"
   },
   {
    "duration": 508,
    "start_time": "2024-08-03T19:04:12.907Z"
   },
   {
    "duration": 35,
    "start_time": "2024-08-03T19:04:13.417Z"
   },
   {
    "duration": 18,
    "start_time": "2024-08-03T19:04:13.453Z"
   },
   {
    "duration": 37,
    "start_time": "2024-08-03T19:04:13.473Z"
   },
   {
    "duration": 77,
    "start_time": "2024-08-03T19:04:13.512Z"
   },
   {
    "duration": 70,
    "start_time": "2024-08-03T19:04:13.591Z"
   },
   {
    "duration": 41,
    "start_time": "2024-08-03T19:04:13.663Z"
   },
   {
    "duration": 70,
    "start_time": "2024-08-03T19:04:13.705Z"
   },
   {
    "duration": 73,
    "start_time": "2024-08-03T19:04:13.776Z"
   },
   {
    "duration": 159,
    "start_time": "2024-08-03T19:04:13.851Z"
   },
   {
    "duration": 27,
    "start_time": "2024-08-03T19:04:14.425Z"
   },
   {
    "duration": 304,
    "start_time": "2024-08-03T19:04:15.724Z"
   },
   {
    "duration": 14,
    "start_time": "2024-08-03T19:04:16.030Z"
   },
   {
    "duration": 108,
    "start_time": "2024-08-03T19:04:32.889Z"
   },
   {
    "duration": 21,
    "start_time": "2024-08-03T19:04:34.913Z"
   },
   {
    "duration": 279,
    "start_time": "2024-08-03T19:04:35.344Z"
   },
   {
    "duration": 217135,
    "start_time": "2024-08-03T19:04:35.756Z"
   },
   {
    "duration": 533,
    "start_time": "2024-08-03T19:08:12.893Z"
   },
   {
    "duration": 580,
    "start_time": "2024-08-03T19:08:13.427Z"
   },
   {
    "duration": 143,
    "start_time": "2024-08-03T19:08:14.009Z"
   },
   {
    "duration": 120,
    "start_time": "2024-08-03T19:08:14.153Z"
   },
   {
    "duration": 0,
    "start_time": "2024-08-03T19:08:14.275Z"
   },
   {
    "duration": 0,
    "start_time": "2024-08-03T19:08:14.276Z"
   },
   {
    "duration": 0,
    "start_time": "2024-08-03T19:08:14.277Z"
   },
   {
    "duration": 10,
    "start_time": "2024-08-03T19:08:40.024Z"
   },
   {
    "duration": 52,
    "start_time": "2024-08-03T19:08:49.882Z"
   },
   {
    "duration": 57,
    "start_time": "2024-08-03T19:10:01.429Z"
   },
   {
    "duration": 129,
    "start_time": "2024-08-03T19:12:05.969Z"
   },
   {
    "duration": 9,
    "start_time": "2024-08-03T19:12:06.572Z"
   },
   {
    "duration": 9,
    "start_time": "2024-08-03T19:12:07.104Z"
   },
   {
    "duration": 511,
    "start_time": "2024-08-03T19:12:21.441Z"
   },
   {
    "duration": 182,
    "start_time": "2024-08-03T19:12:22.931Z"
   },
   {
    "duration": 344,
    "start_time": "2024-08-03T19:12:26.344Z"
   },
   {
    "duration": 231623,
    "start_time": "2024-08-03T19:12:30.282Z"
   },
   {
    "duration": 4,
    "start_time": "2024-08-03T19:16:49.089Z"
   },
   {
    "duration": 5,
    "start_time": "2024-08-03T19:16:49.254Z"
   },
   {
    "duration": 3,
    "start_time": "2024-08-03T19:16:49.405Z"
   },
   {
    "duration": 2,
    "start_time": "2024-08-03T19:16:49.555Z"
   },
   {
    "duration": 866,
    "start_time": "2024-08-03T19:16:49.820Z"
   },
   {
    "duration": 3,
    "start_time": "2024-08-03T19:16:50.688Z"
   },
   {
    "duration": 1143,
    "start_time": "2024-08-03T19:16:50.692Z"
   },
   {
    "duration": 4,
    "start_time": "2024-08-03T19:16:51.837Z"
   },
   {
    "duration": 25,
    "start_time": "2024-08-03T19:16:51.843Z"
   },
   {
    "duration": 317,
    "start_time": "2024-08-03T19:16:51.869Z"
   },
   {
    "duration": 445,
    "start_time": "2024-08-03T19:16:52.188Z"
   },
   {
    "duration": 905,
    "start_time": "2024-08-03T19:16:52.636Z"
   },
   {
    "duration": 22,
    "start_time": "2024-08-03T19:16:53.544Z"
   },
   {
    "duration": 40,
    "start_time": "2024-08-03T19:16:53.567Z"
   },
   {
    "duration": 22,
    "start_time": "2024-08-03T19:16:53.608Z"
   },
   {
    "duration": 25,
    "start_time": "2024-08-03T19:16:53.632Z"
   },
   {
    "duration": 83,
    "start_time": "2024-08-03T19:16:53.658Z"
   },
   {
    "duration": 25,
    "start_time": "2024-08-03T19:16:53.742Z"
   },
   {
    "duration": 23,
    "start_time": "2024-08-03T19:16:53.769Z"
   },
   {
    "duration": 24,
    "start_time": "2024-08-03T19:16:53.793Z"
   },
   {
    "duration": 543,
    "start_time": "2024-08-03T19:16:53.818Z"
   },
   {
    "duration": 25,
    "start_time": "2024-08-03T19:16:54.362Z"
   },
   {
    "duration": 25,
    "start_time": "2024-08-03T19:16:54.389Z"
   },
   {
    "duration": 25,
    "start_time": "2024-08-03T19:16:54.416Z"
   },
   {
    "duration": 73,
    "start_time": "2024-08-03T19:16:54.443Z"
   },
   {
    "duration": 42,
    "start_time": "2024-08-03T19:16:54.518Z"
   },
   {
    "duration": 21,
    "start_time": "2024-08-03T19:16:54.563Z"
   },
   {
    "duration": 19,
    "start_time": "2024-08-03T19:16:54.708Z"
   },
   {
    "duration": 43,
    "start_time": "2024-08-03T19:16:54.891Z"
   },
   {
    "duration": 136,
    "start_time": "2024-08-03T19:16:55.071Z"
   },
   {
    "duration": 26,
    "start_time": "2024-08-03T19:16:55.995Z"
   },
   {
    "duration": 288,
    "start_time": "2024-08-03T19:16:56.501Z"
   },
   {
    "duration": 663,
    "start_time": "2024-08-03T19:16:56.829Z"
   },
   {
    "duration": 13,
    "start_time": "2024-08-03T19:17:08.786Z"
   },
   {
    "duration": 95,
    "start_time": "2024-08-03T19:17:09.285Z"
   },
   {
    "duration": 1708,
    "start_time": "2024-08-03T19:17:25.780Z"
   },
   {
    "duration": 18,
    "start_time": "2024-08-03T19:23:47.336Z"
   },
   {
    "duration": 3,
    "start_time": "2024-08-03T19:24:24.143Z"
   },
   {
    "duration": 500,
    "start_time": "2024-08-03T19:25:07.588Z"
   },
   {
    "duration": 15,
    "start_time": "2024-08-03T19:25:21.141Z"
   },
   {
    "duration": 16,
    "start_time": "2024-08-03T19:25:23.611Z"
   },
   {
    "duration": 6,
    "start_time": "2024-08-03T19:25:26.849Z"
   },
   {
    "duration": 18,
    "start_time": "2024-08-03T19:25:31.313Z"
   },
   {
    "duration": 90,
    "start_time": "2024-08-03T19:25:43.470Z"
   },
   {
    "duration": 304,
    "start_time": "2024-08-03T19:26:34.854Z"
   },
   {
    "duration": 331,
    "start_time": "2024-08-03T19:26:37.735Z"
   },
   {
    "duration": 21,
    "start_time": "2024-08-03T19:26:46.966Z"
   },
   {
    "duration": 17,
    "start_time": "2024-08-03T19:26:55.274Z"
   },
   {
    "duration": 22,
    "start_time": "2024-08-03T19:27:01.341Z"
   },
   {
    "duration": 18,
    "start_time": "2024-08-03T19:29:31.661Z"
   },
   {
    "duration": 280,
    "start_time": "2024-08-03T19:29:32.800Z"
   },
   {
    "duration": 13,
    "start_time": "2024-08-03T19:29:33.565Z"
   },
   {
    "duration": 85,
    "start_time": "2024-08-03T19:29:34.975Z"
   },
   {
    "duration": 129,
    "start_time": "2024-08-03T19:29:35.950Z"
   },
   {
    "duration": 9,
    "start_time": "2024-08-03T19:30:00.112Z"
   },
   {
    "duration": 588,
    "start_time": "2024-08-03T19:30:04.911Z"
   },
   {
    "duration": 31,
    "start_time": "2024-08-03T19:30:08.790Z"
   },
   {
    "duration": 1730,
    "start_time": "2024-08-03T19:30:29.836Z"
   },
   {
    "duration": 442,
    "start_time": "2024-08-03T19:32:24.160Z"
   },
   {
    "duration": 31,
    "start_time": "2024-08-03T19:32:26.350Z"
   },
   {
    "duration": 38,
    "start_time": "2024-08-03T19:32:31.878Z"
   },
   {
    "duration": 121993,
    "start_time": "2024-08-03T19:33:06.042Z"
   },
   {
    "duration": 554320,
    "start_time": "2024-08-03T19:36:35.099Z"
   },
   {
    "duration": 20020,
    "start_time": "2024-08-03T19:46:23.889Z"
   },
   {
    "duration": 0,
    "start_time": "2024-08-03T19:46:43.919Z"
   },
   {
    "duration": 0,
    "start_time": "2024-08-03T19:46:43.920Z"
   },
   {
    "duration": 0,
    "start_time": "2024-08-03T19:46:43.921Z"
   },
   {
    "duration": 27958,
    "start_time": "2024-08-03T19:46:46.552Z"
   },
   {
    "duration": 229,
    "start_time": "2024-08-03T19:47:14.517Z"
   },
   {
    "duration": 309,
    "start_time": "2024-08-03T19:47:14.807Z"
   },
   {
    "duration": 11,
    "start_time": "2024-08-03T19:47:41.225Z"
   },
   {
    "duration": 4,
    "start_time": "2024-08-03T19:47:51.138Z"
   },
   {
    "duration": 1557,
    "start_time": "2024-08-03T19:47:54.500Z"
   },
   {
    "duration": 6,
    "start_time": "2024-08-03T19:47:56.062Z"
   },
   {
    "duration": 5,
    "start_time": "2024-08-03T19:47:56.070Z"
   },
   {
    "duration": 7,
    "start_time": "2024-08-03T19:47:56.076Z"
   },
   {
    "duration": 1026,
    "start_time": "2024-08-03T19:47:56.086Z"
   },
   {
    "duration": 4,
    "start_time": "2024-08-03T19:47:57.117Z"
   },
   {
    "duration": 1299,
    "start_time": "2024-08-03T19:47:57.123Z"
   },
   {
    "duration": 5,
    "start_time": "2024-08-03T19:47:58.424Z"
   },
   {
    "duration": 22,
    "start_time": "2024-08-03T19:47:58.432Z"
   },
   {
    "duration": 369,
    "start_time": "2024-08-03T19:47:58.456Z"
   },
   {
    "duration": 552,
    "start_time": "2024-08-03T19:47:58.826Z"
   },
   {
    "duration": 1187,
    "start_time": "2024-08-03T19:47:59.379Z"
   },
   {
    "duration": 29,
    "start_time": "2024-08-03T19:48:00.568Z"
   },
   {
    "duration": 96,
    "start_time": "2024-08-03T19:48:00.607Z"
   },
   {
    "duration": 44,
    "start_time": "2024-08-03T19:48:00.707Z"
   },
   {
    "duration": 87,
    "start_time": "2024-08-03T19:48:00.753Z"
   },
   {
    "duration": 79,
    "start_time": "2024-08-03T19:48:00.841Z"
   },
   {
    "duration": 45,
    "start_time": "2024-08-03T19:48:00.922Z"
   },
   {
    "duration": 50,
    "start_time": "2024-08-03T19:48:00.969Z"
   },
   {
    "duration": 67,
    "start_time": "2024-08-03T19:48:01.021Z"
   },
   {
    "duration": 631,
    "start_time": "2024-08-03T19:48:01.090Z"
   },
   {
    "duration": 28,
    "start_time": "2024-08-03T19:48:01.723Z"
   },
   {
    "duration": 41,
    "start_time": "2024-08-03T19:48:01.753Z"
   },
   {
    "duration": 71,
    "start_time": "2024-08-03T19:48:01.796Z"
   },
   {
    "duration": 74,
    "start_time": "2024-08-03T19:48:01.870Z"
   },
   {
    "duration": 67,
    "start_time": "2024-08-03T19:48:01.945Z"
   },
   {
    "duration": 26,
    "start_time": "2024-08-03T19:48:02.016Z"
   },
   {
    "duration": 29,
    "start_time": "2024-08-03T19:48:02.044Z"
   },
   {
    "duration": 65,
    "start_time": "2024-08-03T19:48:03.123Z"
   },
   {
    "duration": 160,
    "start_time": "2024-08-03T19:48:03.281Z"
   },
   {
    "duration": 35,
    "start_time": "2024-08-03T19:48:04.185Z"
   },
   {
    "duration": 360,
    "start_time": "2024-08-03T19:48:05.090Z"
   },
   {
    "duration": 14,
    "start_time": "2024-08-03T19:48:05.620Z"
   },
   {
    "duration": 118,
    "start_time": "2024-08-03T19:48:06.019Z"
   },
   {
    "duration": 105,
    "start_time": "2024-08-03T19:48:08.088Z"
   },
   {
    "duration": 129,
    "start_time": "2024-08-03T19:48:08.417Z"
   },
   {
    "duration": 14,
    "start_time": "2024-08-03T19:48:08.911Z"
   },
   {
    "duration": 656,
    "start_time": "2024-08-03T19:48:18.695Z"
   },
   {
    "duration": 441,
    "start_time": "2024-08-03T19:48:21.218Z"
   },
   {
    "duration": 15,
    "start_time": "2024-08-03T19:48:25.087Z"
   },
   {
    "duration": 330,
    "start_time": "2024-08-03T19:48:25.605Z"
   },
   {
    "duration": 232312,
    "start_time": "2024-08-03T19:48:26.613Z"
   },
   {
    "duration": 563,
    "start_time": "2024-08-03T19:52:18.927Z"
   },
   {
    "duration": 582,
    "start_time": "2024-08-03T19:52:19.491Z"
   },
   {
    "duration": 142,
    "start_time": "2024-08-03T19:53:29.596Z"
   },
   {
    "duration": 12,
    "start_time": "2024-08-03T19:53:30.133Z"
   },
   {
    "duration": 28,
    "start_time": "2024-08-03T19:53:46.040Z"
   },
   {
    "duration": 8,
    "start_time": "2024-08-03T19:53:52.511Z"
   },
   {
    "duration": 20,
    "start_time": "2024-08-03T19:53:52.776Z"
   },
   {
    "duration": 16,
    "start_time": "2024-08-03T19:54:26.642Z"
   },
   {
    "duration": 8,
    "start_time": "2024-08-03T19:54:43.823Z"
   },
   {
    "duration": 25,
    "start_time": "2024-08-03T19:54:52.889Z"
   },
   {
    "duration": 30,
    "start_time": "2024-08-03T19:54:55.167Z"
   },
   {
    "duration": 10,
    "start_time": "2024-08-03T19:55:13.337Z"
   },
   {
    "duration": 24,
    "start_time": "2024-08-03T19:55:18.417Z"
   },
   {
    "duration": 88,
    "start_time": "2024-08-03T19:55:18.813Z"
   },
   {
    "duration": 33,
    "start_time": "2024-08-03T19:55:20.568Z"
   },
   {
    "duration": 83,
    "start_time": "2024-08-03T19:55:30.490Z"
   },
   {
    "duration": 168,
    "start_time": "2024-08-03T19:55:32.719Z"
   },
   {
    "duration": 30,
    "start_time": "2024-08-03T19:55:33.888Z"
   },
   {
    "duration": 27,
    "start_time": "2024-08-03T19:57:05.952Z"
   },
   {
    "duration": 62,
    "start_time": "2024-08-03T19:57:26.599Z"
   },
   {
    "duration": 86,
    "start_time": "2024-08-03T19:57:36.395Z"
   },
   {
    "duration": 19,
    "start_time": "2024-08-03T19:57:38.755Z"
   },
   {
    "duration": 11,
    "start_time": "2024-08-03T19:59:12.561Z"
   },
   {
    "duration": 160,
    "start_time": "2024-08-03T19:59:20.456Z"
   },
   {
    "duration": 21,
    "start_time": "2024-08-03T19:59:21.278Z"
   },
   {
    "duration": 333,
    "start_time": "2024-08-03T20:02:55.222Z"
   },
   {
    "duration": 57,
    "start_time": "2024-08-03T20:03:24.463Z"
   },
   {
    "duration": 444,
    "start_time": "2024-08-03T20:03:26.638Z"
   },
   {
    "duration": 433,
    "start_time": "2024-08-03T20:03:27.084Z"
   },
   {
    "duration": 99,
    "start_time": "2024-08-03T20:03:29.115Z"
   },
   {
    "duration": 11,
    "start_time": "2024-08-03T20:03:29.499Z"
   },
   {
    "duration": 23,
    "start_time": "2024-08-03T20:03:29.863Z"
   },
   {
    "duration": 49,
    "start_time": "2024-08-03T20:03:30.233Z"
   },
   {
    "duration": 5,
    "start_time": "2024-08-03T20:03:36.691Z"
   },
   {
    "duration": 6,
    "start_time": "2024-08-03T20:03:36.822Z"
   },
   {
    "duration": 3,
    "start_time": "2024-08-03T20:03:36.968Z"
   },
   {
    "duration": 2,
    "start_time": "2024-08-03T20:03:37.093Z"
   },
   {
    "duration": 858,
    "start_time": "2024-08-03T20:03:37.359Z"
   },
   {
    "duration": 3,
    "start_time": "2024-08-03T20:03:38.219Z"
   },
   {
    "duration": 1179,
    "start_time": "2024-08-03T20:03:38.223Z"
   },
   {
    "duration": 15,
    "start_time": "2024-08-03T20:03:39.404Z"
   },
   {
    "duration": 118,
    "start_time": "2024-08-03T20:03:39.421Z"
   },
   {
    "duration": 322,
    "start_time": "2024-08-03T20:03:39.541Z"
   },
   {
    "duration": 488,
    "start_time": "2024-08-03T20:03:39.865Z"
   },
   {
    "duration": 1027,
    "start_time": "2024-08-03T20:03:40.355Z"
   },
   {
    "duration": 37,
    "start_time": "2024-08-03T20:03:41.384Z"
   },
   {
    "duration": 122,
    "start_time": "2024-08-03T20:03:41.423Z"
   },
   {
    "duration": 38,
    "start_time": "2024-08-03T20:03:41.548Z"
   },
   {
    "duration": 40,
    "start_time": "2024-08-03T20:03:41.588Z"
   },
   {
    "duration": 25,
    "start_time": "2024-08-03T20:03:41.629Z"
   },
   {
    "duration": 23,
    "start_time": "2024-08-03T20:03:41.656Z"
   },
   {
    "duration": 32,
    "start_time": "2024-08-03T20:03:41.706Z"
   },
   {
    "duration": 24,
    "start_time": "2024-08-03T20:03:41.740Z"
   },
   {
    "duration": 622,
    "start_time": "2024-08-03T20:03:41.766Z"
   },
   {
    "duration": 39,
    "start_time": "2024-08-03T20:03:42.389Z"
   },
   {
    "duration": 7,
    "start_time": "2024-08-03T20:03:42.430Z"
   },
   {
    "duration": 30,
    "start_time": "2024-08-03T20:03:42.438Z"
   },
   {
    "duration": 70,
    "start_time": "2024-08-03T20:03:42.470Z"
   },
   {
    "duration": 46,
    "start_time": "2024-08-03T20:03:42.542Z"
   },
   {
    "duration": 22,
    "start_time": "2024-08-03T20:03:42.852Z"
   },
   {
    "duration": 20,
    "start_time": "2024-08-03T20:03:43.017Z"
   },
   {
    "duration": 59,
    "start_time": "2024-08-03T20:03:43.261Z"
   },
   {
    "duration": 151,
    "start_time": "2024-08-03T20:03:43.428Z"
   },
   {
    "duration": 31,
    "start_time": "2024-08-03T20:03:45.785Z"
   },
   {
    "duration": 319,
    "start_time": "2024-08-03T20:03:46.565Z"
   },
   {
    "duration": 13,
    "start_time": "2024-08-03T20:03:47.342Z"
   },
   {
    "duration": 117,
    "start_time": "2024-08-03T20:03:47.803Z"
   },
   {
    "duration": 78,
    "start_time": "2024-08-03T20:03:49.877Z"
   },
   {
    "duration": 235,
    "start_time": "2024-08-03T20:03:50.293Z"
   },
   {
    "duration": 448,
    "start_time": "2024-08-03T20:03:54.746Z"
   },
   {
    "duration": 430,
    "start_time": "2024-08-03T20:03:56.138Z"
   },
   {
    "duration": 94,
    "start_time": "2024-08-03T20:04:13.204Z"
   },
   {
    "duration": 18,
    "start_time": "2024-08-03T20:04:27.151Z"
   },
   {
    "duration": 96,
    "start_time": "2024-08-03T20:04:43.948Z"
   },
   {
    "duration": 15,
    "start_time": "2024-08-03T20:06:37.726Z"
   },
   {
    "duration": 22,
    "start_time": "2024-08-03T20:07:04.069Z"
   },
   {
    "duration": 11,
    "start_time": "2024-08-03T20:07:08.953Z"
   },
   {
    "duration": 11,
    "start_time": "2024-08-03T20:07:22.963Z"
   },
   {
    "duration": 225,
    "start_time": "2024-08-03T20:07:23.444Z"
   },
   {
    "duration": 24,
    "start_time": "2024-08-03T20:07:32.320Z"
   },
   {
    "duration": 85,
    "start_time": "2024-08-03T20:07:38.718Z"
   },
   {
    "duration": 55,
    "start_time": "2024-08-03T20:07:47.720Z"
   },
   {
    "duration": 180,
    "start_time": "2024-08-03T20:08:34.278Z"
   },
   {
    "duration": 50,
    "start_time": "2024-08-03T20:08:35.436Z"
   },
   {
    "duration": 23,
    "start_time": "2024-08-03T20:08:36.264Z"
   },
   {
    "duration": 59,
    "start_time": "2024-08-03T20:08:46.225Z"
   },
   {
    "duration": 54,
    "start_time": "2024-08-03T20:08:51.691Z"
   },
   {
    "duration": 49,
    "start_time": "2024-08-03T20:09:02.628Z"
   },
   {
    "duration": 16,
    "start_time": "2024-08-03T20:09:05.447Z"
   },
   {
    "duration": 332,
    "start_time": "2024-08-03T20:09:05.932Z"
   },
   {
    "duration": 15,
    "start_time": "2024-08-03T20:09:06.334Z"
   },
   {
    "duration": 100,
    "start_time": "2024-08-03T20:09:06.784Z"
   },
   {
    "duration": 199,
    "start_time": "2024-08-03T20:09:07.176Z"
   },
   {
    "duration": 53,
    "start_time": "2024-08-03T20:09:07.605Z"
   },
   {
    "duration": 737,
    "start_time": "2024-08-03T20:09:07.917Z"
   },
   {
    "duration": 446,
    "start_time": "2024-08-03T20:09:08.656Z"
   },
   {
    "duration": 25,
    "start_time": "2024-08-03T20:09:11.764Z"
   },
   {
    "duration": 227247,
    "start_time": "2024-08-03T20:09:31.780Z"
   },
   {
    "duration": 0,
    "start_time": "2024-08-03T20:13:19.028Z"
   },
   {
    "duration": 0,
    "start_time": "2024-08-03T20:13:19.030Z"
   },
   {
    "duration": 1576,
    "start_time": "2024-08-03T20:13:47.095Z"
   },
   {
    "duration": 5,
    "start_time": "2024-08-03T20:13:48.673Z"
   },
   {
    "duration": 9,
    "start_time": "2024-08-03T20:13:48.679Z"
   },
   {
    "duration": 27,
    "start_time": "2024-08-03T20:13:48.690Z"
   },
   {
    "duration": 1056,
    "start_time": "2024-08-03T20:13:48.720Z"
   },
   {
    "duration": 3,
    "start_time": "2024-08-03T20:13:49.777Z"
   },
   {
    "duration": 1301,
    "start_time": "2024-08-03T20:13:49.782Z"
   },
   {
    "duration": 5,
    "start_time": "2024-08-03T20:13:51.084Z"
   },
   {
    "duration": 50,
    "start_time": "2024-08-03T20:13:51.091Z"
   },
   {
    "duration": 339,
    "start_time": "2024-08-03T20:13:51.143Z"
   },
   {
    "duration": 538,
    "start_time": "2024-08-03T20:13:51.483Z"
   },
   {
    "duration": 1125,
    "start_time": "2024-08-03T20:13:52.023Z"
   },
   {
    "duration": 24,
    "start_time": "2024-08-03T20:13:53.149Z"
   },
   {
    "duration": 55,
    "start_time": "2024-08-03T20:13:53.176Z"
   },
   {
    "duration": 35,
    "start_time": "2024-08-03T20:13:53.233Z"
   },
   {
    "duration": 48,
    "start_time": "2024-08-03T20:13:53.269Z"
   },
   {
    "duration": 80,
    "start_time": "2024-08-03T20:13:53.319Z"
   },
   {
    "duration": 86,
    "start_time": "2024-08-03T20:13:53.401Z"
   },
   {
    "duration": 82,
    "start_time": "2024-08-03T20:13:53.490Z"
   },
   {
    "duration": 30,
    "start_time": "2024-08-03T20:13:53.574Z"
   },
   {
    "duration": 564,
    "start_time": "2024-08-03T20:13:53.617Z"
   },
   {
    "duration": 32,
    "start_time": "2024-08-03T20:13:54.183Z"
   },
   {
    "duration": 10,
    "start_time": "2024-08-03T20:13:54.220Z"
   },
   {
    "duration": 28,
    "start_time": "2024-08-03T20:13:54.232Z"
   },
   {
    "duration": 98,
    "start_time": "2024-08-03T20:13:54.262Z"
   },
   {
    "duration": 75,
    "start_time": "2024-08-03T20:13:54.362Z"
   },
   {
    "duration": 23,
    "start_time": "2024-08-03T20:13:54.439Z"
   },
   {
    "duration": 27,
    "start_time": "2024-08-03T20:13:54.465Z"
   },
   {
    "duration": 103,
    "start_time": "2024-08-03T20:13:54.493Z"
   },
   {
    "duration": 167,
    "start_time": "2024-08-03T20:13:54.598Z"
   },
   {
    "duration": 45,
    "start_time": "2024-08-03T20:13:54.767Z"
   },
   {
    "duration": 347,
    "start_time": "2024-08-03T20:13:54.813Z"
   },
   {
    "duration": 15,
    "start_time": "2024-08-03T20:13:55.162Z"
   },
   {
    "duration": 105,
    "start_time": "2024-08-03T20:13:55.179Z"
   },
   {
    "duration": 198,
    "start_time": "2024-08-03T20:13:55.285Z"
   },
   {
    "duration": 65,
    "start_time": "2024-08-03T20:13:55.485Z"
   },
   {
    "duration": 717,
    "start_time": "2024-08-03T20:13:55.552Z"
   },
   {
    "duration": 449,
    "start_time": "2024-08-03T20:13:56.271Z"
   },
   {
    "duration": 13,
    "start_time": "2024-08-03T20:13:56.722Z"
   },
   {
    "duration": 342,
    "start_time": "2024-08-03T20:13:56.737Z"
   },
   {
    "duration": 120377,
    "start_time": "2024-08-03T20:13:57.083Z"
   },
   {
    "duration": 338,
    "start_time": "2024-08-03T20:15:57.462Z"
   },
   {
    "duration": 333,
    "start_time": "2024-08-03T20:15:57.801Z"
   },
   {
    "duration": 140,
    "start_time": "2024-08-03T20:15:58.136Z"
   },
   {
    "duration": 0,
    "start_time": "2024-08-03T20:15:58.278Z"
   },
   {
    "duration": 0,
    "start_time": "2024-08-03T20:15:58.280Z"
   },
   {
    "duration": 0,
    "start_time": "2024-08-03T20:15:58.281Z"
   },
   {
    "duration": 0,
    "start_time": "2024-08-03T20:15:58.283Z"
   },
   {
    "duration": 0,
    "start_time": "2024-08-03T20:15:58.284Z"
   },
   {
    "duration": 0,
    "start_time": "2024-08-03T20:15:58.285Z"
   },
   {
    "duration": 0,
    "start_time": "2024-08-03T20:15:58.286Z"
   },
   {
    "duration": 51631,
    "start_time": "2024-08-03T20:19:12.092Z"
   },
   {
    "duration": 3318,
    "start_time": "2024-08-03T20:20:03.726Z"
   },
   {
    "duration": 18,
    "start_time": "2024-08-03T20:20:07.106Z"
   },
   {
    "duration": 138,
    "start_time": "2024-08-03T20:21:09.868Z"
   },
   {
    "duration": 301,
    "start_time": "2024-08-03T20:21:10.595Z"
   },
   {
    "duration": 3233,
    "start_time": "2024-08-03T20:27:56.688Z"
   },
   {
    "duration": 17338,
    "start_time": "2024-08-03T20:28:05.573Z"
   },
   {
    "duration": 297,
    "start_time": "2024-08-03T20:28:22.913Z"
   },
   {
    "duration": 302,
    "start_time": "2024-08-03T20:28:23.213Z"
   },
   {
    "duration": 10,
    "start_time": "2024-08-03T20:28:32.112Z"
   },
   {
    "duration": 10,
    "start_time": "2024-08-03T20:28:45.855Z"
   },
   {
    "duration": 21,
    "start_time": "2024-08-03T20:35:27.651Z"
   },
   {
    "duration": 313,
    "start_time": "2024-08-03T20:35:27.828Z"
   },
   {
    "duration": 108840,
    "start_time": "2024-08-03T20:35:28.143Z"
   },
   {
    "duration": 291,
    "start_time": "2024-08-03T20:37:16.985Z"
   },
   {
    "duration": 301,
    "start_time": "2024-08-03T20:37:17.278Z"
   },
   {
    "duration": 25,
    "start_time": "2024-08-03T20:37:17.581Z"
   },
   {
    "duration": 0,
    "start_time": "2024-08-03T20:37:17.607Z"
   },
   {
    "duration": 0,
    "start_time": "2024-08-03T20:37:17.609Z"
   },
   {
    "duration": 58212,
    "start_time": "2024-08-03T20:37:33.994Z"
   },
   {
    "duration": 3609,
    "start_time": "2024-08-03T20:38:32.208Z"
   },
   {
    "duration": 3494,
    "start_time": "2024-08-03T20:38:35.819Z"
   },
   {
    "duration": 3,
    "start_time": "2024-08-03T20:46:27.900Z"
   },
   {
    "duration": 2,
    "start_time": "2024-08-03T20:47:05.135Z"
   },
   {
    "duration": 1478,
    "start_time": "2024-08-03T20:47:37.978Z"
   },
   {
    "duration": 8,
    "start_time": "2024-08-03T20:47:39.458Z"
   },
   {
    "duration": 10,
    "start_time": "2024-08-03T20:47:39.468Z"
   },
   {
    "duration": 7,
    "start_time": "2024-08-03T20:47:39.480Z"
   },
   {
    "duration": 917,
    "start_time": "2024-08-03T20:47:39.489Z"
   },
   {
    "duration": 3,
    "start_time": "2024-08-03T20:47:40.408Z"
   },
   {
    "duration": 1193,
    "start_time": "2024-08-03T20:47:40.413Z"
   },
   {
    "duration": 4,
    "start_time": "2024-08-03T20:47:41.608Z"
   },
   {
    "duration": 314,
    "start_time": "2024-08-03T20:47:41.614Z"
   },
   {
    "duration": 517,
    "start_time": "2024-08-03T20:47:41.930Z"
   },
   {
    "duration": 1010,
    "start_time": "2024-08-03T20:47:42.449Z"
   },
   {
    "duration": 24,
    "start_time": "2024-08-03T20:47:43.460Z"
   },
   {
    "duration": 32,
    "start_time": "2024-08-03T20:47:43.486Z"
   },
   {
    "duration": 23,
    "start_time": "2024-08-03T20:47:43.521Z"
   },
   {
    "duration": 21,
    "start_time": "2024-08-03T20:47:43.545Z"
   },
   {
    "duration": 99,
    "start_time": "2024-08-03T20:47:43.568Z"
   },
   {
    "duration": 26,
    "start_time": "2024-08-03T20:47:43.669Z"
   },
   {
    "duration": 24,
    "start_time": "2024-08-03T20:47:43.696Z"
   },
   {
    "duration": 24,
    "start_time": "2024-08-03T20:47:43.722Z"
   },
   {
    "duration": 632,
    "start_time": "2024-08-03T20:47:43.748Z"
   },
   {
    "duration": 30,
    "start_time": "2024-08-03T20:47:44.382Z"
   },
   {
    "duration": 23,
    "start_time": "2024-08-03T20:47:44.414Z"
   },
   {
    "duration": 67,
    "start_time": "2024-08-03T20:47:44.439Z"
   },
   {
    "duration": 0,
    "start_time": "2024-08-03T20:47:44.508Z"
   },
   {
    "duration": 0,
    "start_time": "2024-08-03T20:47:44.509Z"
   },
   {
    "duration": 0,
    "start_time": "2024-08-03T20:47:44.510Z"
   },
   {
    "duration": 0,
    "start_time": "2024-08-03T20:47:44.511Z"
   },
   {
    "duration": 0,
    "start_time": "2024-08-03T20:47:44.512Z"
   },
   {
    "duration": 0,
    "start_time": "2024-08-03T20:47:44.513Z"
   },
   {
    "duration": 0,
    "start_time": "2024-08-03T20:47:44.514Z"
   },
   {
    "duration": 0,
    "start_time": "2024-08-03T20:47:44.515Z"
   },
   {
    "duration": 1,
    "start_time": "2024-08-03T20:47:44.516Z"
   },
   {
    "duration": 0,
    "start_time": "2024-08-03T20:47:44.518Z"
   },
   {
    "duration": 0,
    "start_time": "2024-08-03T20:47:44.519Z"
   },
   {
    "duration": 0,
    "start_time": "2024-08-03T20:47:44.520Z"
   },
   {
    "duration": 0,
    "start_time": "2024-08-03T20:47:44.521Z"
   },
   {
    "duration": 0,
    "start_time": "2024-08-03T20:47:44.522Z"
   },
   {
    "duration": 0,
    "start_time": "2024-08-03T20:47:44.523Z"
   },
   {
    "duration": 0,
    "start_time": "2024-08-03T20:47:44.524Z"
   },
   {
    "duration": 0,
    "start_time": "2024-08-03T20:47:44.526Z"
   },
   {
    "duration": 0,
    "start_time": "2024-08-03T20:47:44.527Z"
   },
   {
    "duration": 0,
    "start_time": "2024-08-03T20:47:44.528Z"
   },
   {
    "duration": 0,
    "start_time": "2024-08-03T20:47:44.529Z"
   },
   {
    "duration": 0,
    "start_time": "2024-08-03T20:47:44.530Z"
   },
   {
    "duration": 0,
    "start_time": "2024-08-03T20:47:44.531Z"
   },
   {
    "duration": 0,
    "start_time": "2024-08-03T20:47:44.532Z"
   },
   {
    "duration": 0,
    "start_time": "2024-08-03T20:47:44.533Z"
   },
   {
    "duration": 0,
    "start_time": "2024-08-03T20:47:44.534Z"
   },
   {
    "duration": 0,
    "start_time": "2024-08-03T20:47:44.535Z"
   },
   {
    "duration": 0,
    "start_time": "2024-08-03T20:47:44.536Z"
   },
   {
    "duration": 0,
    "start_time": "2024-08-03T20:47:44.538Z"
   },
   {
    "duration": 0,
    "start_time": "2024-08-03T20:47:44.539Z"
   },
   {
    "duration": 1511,
    "start_time": "2024-08-03T20:47:53.369Z"
   },
   {
    "duration": 5,
    "start_time": "2024-08-03T20:47:54.882Z"
   },
   {
    "duration": 14,
    "start_time": "2024-08-03T20:47:54.888Z"
   },
   {
    "duration": 6,
    "start_time": "2024-08-03T20:47:54.904Z"
   },
   {
    "duration": 939,
    "start_time": "2024-08-03T20:47:54.912Z"
   },
   {
    "duration": 3,
    "start_time": "2024-08-03T20:47:55.853Z"
   },
   {
    "duration": 1305,
    "start_time": "2024-08-03T20:47:55.858Z"
   },
   {
    "duration": 5,
    "start_time": "2024-08-03T20:47:57.165Z"
   },
   {
    "duration": 323,
    "start_time": "2024-08-03T20:47:57.171Z"
   },
   {
    "duration": 540,
    "start_time": "2024-08-03T20:47:57.496Z"
   },
   {
    "duration": 1082,
    "start_time": "2024-08-03T20:47:58.038Z"
   },
   {
    "duration": 26,
    "start_time": "2024-08-03T20:47:59.122Z"
   },
   {
    "duration": 35,
    "start_time": "2024-08-03T20:47:59.151Z"
   },
   {
    "duration": 32,
    "start_time": "2024-08-03T20:47:59.189Z"
   },
   {
    "duration": 25,
    "start_time": "2024-08-03T20:47:59.223Z"
   },
   {
    "duration": 25,
    "start_time": "2024-08-03T20:47:59.250Z"
   },
   {
    "duration": 40,
    "start_time": "2024-08-03T20:47:59.277Z"
   },
   {
    "duration": 24,
    "start_time": "2024-08-03T20:47:59.319Z"
   },
   {
    "duration": 24,
    "start_time": "2024-08-03T20:47:59.344Z"
   },
   {
    "duration": 535,
    "start_time": "2024-08-03T20:47:59.370Z"
   },
   {
    "duration": 27,
    "start_time": "2024-08-03T20:47:59.907Z"
   },
   {
    "duration": 24,
    "start_time": "2024-08-03T20:47:59.936Z"
   },
   {
    "duration": 43,
    "start_time": "2024-08-03T20:47:59.962Z"
   },
   {
    "duration": 6,
    "start_time": "2024-08-03T20:48:00.007Z"
   },
   {
    "duration": 70,
    "start_time": "2024-08-03T20:48:00.015Z"
   },
   {
    "duration": 80,
    "start_time": "2024-08-03T20:48:00.087Z"
   },
   {
    "duration": 95,
    "start_time": "2024-08-03T20:48:00.169Z"
   },
   {
    "duration": 49,
    "start_time": "2024-08-03T20:48:00.266Z"
   },
   {
    "duration": 224,
    "start_time": "2024-08-03T20:48:00.317Z"
   },
   {
    "duration": 90,
    "start_time": "2024-08-03T20:48:00.542Z"
   },
   {
    "duration": 201,
    "start_time": "2024-08-03T20:48:00.634Z"
   },
   {
    "duration": 346,
    "start_time": "2024-08-03T20:48:00.836Z"
   },
   {
    "duration": 23,
    "start_time": "2024-08-03T20:48:01.184Z"
   },
   {
    "duration": 105,
    "start_time": "2024-08-03T20:48:01.209Z"
   },
   {
    "duration": 198,
    "start_time": "2024-08-03T20:48:01.315Z"
   },
   {
    "duration": 47,
    "start_time": "2024-08-03T20:48:01.515Z"
   },
   {
    "duration": 705,
    "start_time": "2024-08-03T20:48:01.563Z"
   },
   {
    "duration": 443,
    "start_time": "2024-08-03T20:48:02.270Z"
   },
   {
    "duration": 15,
    "start_time": "2024-08-03T20:48:02.714Z"
   },
   {
    "duration": 341,
    "start_time": "2024-08-03T20:48:02.731Z"
   },
   {
    "duration": 116039,
    "start_time": "2024-08-03T20:48:03.077Z"
   },
   {
    "duration": 284,
    "start_time": "2024-08-03T20:49:59.118Z"
   },
   {
    "duration": 302,
    "start_time": "2024-08-03T20:49:59.404Z"
   },
   {
    "duration": 122,
    "start_time": "2024-08-03T20:49:59.708Z"
   },
   {
    "duration": 0,
    "start_time": "2024-08-03T20:49:59.832Z"
   },
   {
    "duration": 0,
    "start_time": "2024-08-03T20:49:59.833Z"
   },
   {
    "duration": 0,
    "start_time": "2024-08-03T20:49:59.835Z"
   },
   {
    "duration": 0,
    "start_time": "2024-08-03T20:49:59.836Z"
   },
   {
    "duration": 0,
    "start_time": "2024-08-03T20:49:59.837Z"
   },
   {
    "duration": 0,
    "start_time": "2024-08-03T20:49:59.838Z"
   },
   {
    "duration": 0,
    "start_time": "2024-08-03T20:49:59.839Z"
   },
   {
    "duration": 23,
    "start_time": "2024-08-03T20:50:10.474Z"
   },
   {
    "duration": 9,
    "start_time": "2024-08-03T20:50:11.258Z"
   },
   {
    "duration": 12,
    "start_time": "2024-08-03T20:51:13.834Z"
   },
   {
    "duration": 16,
    "start_time": "2024-08-03T20:52:07.101Z"
   },
   {
    "duration": 46,
    "start_time": "2024-08-03T20:52:10.727Z"
   },
   {
    "duration": 46,
    "start_time": "2024-08-03T20:52:56.939Z"
   },
   {
    "duration": 46,
    "start_time": "2024-08-03T20:53:51.302Z"
   },
   {
    "duration": 16799,
    "start_time": "2024-08-03T20:54:05.935Z"
   },
   {
    "duration": 1489,
    "start_time": "2024-08-03T20:55:15.289Z"
   },
   {
    "duration": 5,
    "start_time": "2024-08-03T20:55:16.780Z"
   },
   {
    "duration": 7,
    "start_time": "2024-08-03T20:55:16.787Z"
   },
   {
    "duration": 21,
    "start_time": "2024-08-03T20:55:16.796Z"
   },
   {
    "duration": 1049,
    "start_time": "2024-08-03T20:55:16.819Z"
   },
   {
    "duration": 3,
    "start_time": "2024-08-03T20:55:17.870Z"
   },
   {
    "duration": 1232,
    "start_time": "2024-08-03T20:55:17.874Z"
   },
   {
    "duration": 5,
    "start_time": "2024-08-03T20:55:19.108Z"
   },
   {
    "duration": 300,
    "start_time": "2024-08-03T20:55:19.115Z"
   },
   {
    "duration": 548,
    "start_time": "2024-08-03T20:55:19.419Z"
   },
   {
    "duration": 1070,
    "start_time": "2024-08-03T20:55:19.969Z"
   },
   {
    "duration": 37,
    "start_time": "2024-08-03T20:55:21.041Z"
   },
   {
    "duration": 36,
    "start_time": "2024-08-03T20:55:21.080Z"
   },
   {
    "duration": 44,
    "start_time": "2024-08-03T20:55:21.118Z"
   },
   {
    "duration": 27,
    "start_time": "2024-08-03T20:55:21.163Z"
   },
   {
    "duration": 26,
    "start_time": "2024-08-03T20:55:21.192Z"
   },
   {
    "duration": 23,
    "start_time": "2024-08-03T20:55:21.221Z"
   },
   {
    "duration": 24,
    "start_time": "2024-08-03T20:55:21.245Z"
   },
   {
    "duration": 54,
    "start_time": "2024-08-03T20:55:21.271Z"
   },
   {
    "duration": 524,
    "start_time": "2024-08-03T20:55:21.327Z"
   },
   {
    "duration": 26,
    "start_time": "2024-08-03T20:55:21.853Z"
   },
   {
    "duration": 68,
    "start_time": "2024-08-03T20:55:21.881Z"
   },
   {
    "duration": 22,
    "start_time": "2024-08-03T20:55:21.950Z"
   },
   {
    "duration": 9,
    "start_time": "2024-08-03T20:55:21.973Z"
   },
   {
    "duration": 26,
    "start_time": "2024-08-03T20:55:21.984Z"
   },
   {
    "duration": 60,
    "start_time": "2024-08-03T20:55:22.011Z"
   },
   {
    "duration": 71,
    "start_time": "2024-08-03T20:55:22.073Z"
   },
   {
    "duration": 45,
    "start_time": "2024-08-03T20:55:22.147Z"
   },
   {
    "duration": 143,
    "start_time": "2024-08-03T20:55:22.194Z"
   },
   {
    "duration": 28,
    "start_time": "2024-08-03T20:55:22.339Z"
   },
   {
    "duration": 181,
    "start_time": "2024-08-03T20:55:22.369Z"
   },
   {
    "duration": 333,
    "start_time": "2024-08-03T20:55:22.552Z"
   },
   {
    "duration": 26,
    "start_time": "2024-08-03T20:55:22.887Z"
   },
   {
    "duration": 103,
    "start_time": "2024-08-03T20:55:22.915Z"
   },
   {
    "duration": 186,
    "start_time": "2024-08-03T20:55:23.020Z"
   },
   {
    "duration": 45,
    "start_time": "2024-08-03T20:55:23.207Z"
   },
   {
    "duration": 580,
    "start_time": "2024-08-03T20:55:23.254Z"
   },
   {
    "duration": 432,
    "start_time": "2024-08-03T20:55:23.836Z"
   },
   {
    "duration": 14,
    "start_time": "2024-08-03T20:55:24.269Z"
   },
   {
    "duration": 315,
    "start_time": "2024-08-03T20:55:24.285Z"
   },
   {
    "duration": 67328,
    "start_time": "2024-08-03T20:55:24.602Z"
   },
   {
    "duration": 0,
    "start_time": "2024-08-03T20:56:31.932Z"
   },
   {
    "duration": 0,
    "start_time": "2024-08-03T20:56:31.934Z"
   },
   {
    "duration": 0,
    "start_time": "2024-08-03T20:56:31.936Z"
   },
   {
    "duration": 0,
    "start_time": "2024-08-03T20:56:31.937Z"
   },
   {
    "duration": 0,
    "start_time": "2024-08-03T20:56:31.938Z"
   },
   {
    "duration": 0,
    "start_time": "2024-08-03T20:56:31.940Z"
   },
   {
    "duration": 0,
    "start_time": "2024-08-03T20:56:31.941Z"
   },
   {
    "duration": 1,
    "start_time": "2024-08-03T20:56:31.942Z"
   },
   {
    "duration": 0,
    "start_time": "2024-08-03T20:56:31.944Z"
   },
   {
    "duration": 0,
    "start_time": "2024-08-03T20:56:31.946Z"
   },
   {
    "duration": 69,
    "start_time": "2024-08-03T20:56:53.533Z"
   },
   {
    "duration": 11,
    "start_time": "2024-08-03T20:56:57.314Z"
   },
   {
    "duration": 4,
    "start_time": "2024-08-03T21:01:01.924Z"
   },
   {
    "duration": 15,
    "start_time": "2024-08-03T21:02:49.447Z"
   },
   {
    "duration": 279,
    "start_time": "2024-08-03T21:02:49.900Z"
   },
   {
    "duration": 20,
    "start_time": "2024-08-03T21:02:50.219Z"
   },
   {
    "duration": 16,
    "start_time": "2024-08-03T21:03:34.518Z"
   },
   {
    "duration": 23,
    "start_time": "2024-08-03T21:05:47.913Z"
   },
   {
    "duration": 73,
    "start_time": "2024-08-03T21:06:35.956Z"
   },
   {
    "duration": 17,
    "start_time": "2024-08-03T21:06:41.162Z"
   },
   {
    "duration": 43479,
    "start_time": "2024-08-03T21:07:01.926Z"
   },
   {
    "duration": 67,
    "start_time": "2024-08-03T21:14:55.365Z"
   },
   {
    "duration": 11,
    "start_time": "2024-08-03T21:15:16.540Z"
   },
   {
    "duration": 515,
    "start_time": "2024-08-03T21:15:23.794Z"
   },
   {
    "duration": 12,
    "start_time": "2024-08-03T21:16:07.411Z"
   },
   {
    "duration": 13,
    "start_time": "2024-08-03T21:17:00.318Z"
   },
   {
    "duration": 872,
    "start_time": "2024-08-03T21:17:17.637Z"
   },
   {
    "duration": 12,
    "start_time": "2024-08-03T21:18:28.344Z"
   },
   {
    "duration": 11,
    "start_time": "2024-08-03T21:18:32.627Z"
   },
   {
    "duration": 12,
    "start_time": "2024-08-03T21:18:52.163Z"
   },
   {
    "duration": 11,
    "start_time": "2024-08-03T21:18:58.223Z"
   },
   {
    "duration": 11,
    "start_time": "2024-08-03T21:19:15.536Z"
   },
   {
    "duration": 11,
    "start_time": "2024-08-03T21:19:27.005Z"
   },
   {
    "duration": 10,
    "start_time": "2024-08-03T21:19:35.187Z"
   },
   {
    "duration": 12,
    "start_time": "2024-08-03T21:19:48.544Z"
   },
   {
    "duration": 12,
    "start_time": "2024-08-03T21:19:57.997Z"
   },
   {
    "duration": 492,
    "start_time": "2024-08-03T21:20:04.668Z"
   },
   {
    "duration": 465,
    "start_time": "2024-08-03T21:20:16.268Z"
   },
   {
    "duration": 5,
    "start_time": "2024-08-03T21:21:00.526Z"
   },
   {
    "duration": 73629,
    "start_time": "2024-08-03T21:21:04.007Z"
   },
   {
    "duration": 14,
    "start_time": "2024-08-03T21:23:13.017Z"
   },
   {
    "duration": 12,
    "start_time": "2024-08-03T21:23:18.414Z"
   },
   {
    "duration": 17,
    "start_time": "2024-08-03T21:23:26.307Z"
   },
   {
    "duration": 13,
    "start_time": "2024-08-03T21:23:51.561Z"
   },
   {
    "duration": 2252,
    "start_time": "2024-08-03T21:24:33.277Z"
   },
   {
    "duration": 1961,
    "start_time": "2024-08-03T21:24:56.009Z"
   },
   {
    "duration": 18,
    "start_time": "2024-08-03T21:25:22.258Z"
   },
   {
    "duration": 520,
    "start_time": "2024-08-03T21:25:41.146Z"
   },
   {
    "duration": 16,
    "start_time": "2024-08-03T21:27:10.766Z"
   },
   {
    "duration": 318,
    "start_time": "2024-08-03T21:27:11.077Z"
   },
   {
    "duration": 531,
    "start_time": "2024-08-03T21:27:12.872Z"
   },
   {
    "duration": 585,
    "start_time": "2024-08-03T21:27:32.842Z"
   },
   {
    "duration": 12,
    "start_time": "2024-08-03T21:28:32.698Z"
   },
   {
    "duration": 11,
    "start_time": "2024-08-03T21:28:47.832Z"
   },
   {
    "duration": 58192,
    "start_time": "2024-08-03T21:28:56.073Z"
   },
   {
    "duration": 13,
    "start_time": "2024-08-03T21:30:07.441Z"
   },
   {
    "duration": 169769,
    "start_time": "2024-08-03T21:30:11.522Z"
   },
   {
    "duration": 11,
    "start_time": "2024-08-03T21:35:12.868Z"
   },
   {
    "duration": 16,
    "start_time": "2024-08-03T21:35:37.083Z"
   },
   {
    "duration": 18,
    "start_time": "2024-08-03T21:36:44.067Z"
   },
   {
    "duration": 16,
    "start_time": "2024-08-03T21:36:48.475Z"
   },
   {
    "duration": 105,
    "start_time": "2024-08-03T21:40:29.239Z"
   },
   {
    "duration": 67,
    "start_time": "2024-08-03T21:40:37.773Z"
   },
   {
    "duration": 70,
    "start_time": "2024-08-03T21:40:43.744Z"
   },
   {
    "duration": 91,
    "start_time": "2024-08-03T21:40:58.864Z"
   },
   {
    "duration": 67,
    "start_time": "2024-08-03T21:41:20.177Z"
   },
   {
    "duration": 70,
    "start_time": "2024-08-03T21:41:49.655Z"
   },
   {
    "duration": 62,
    "start_time": "2024-08-03T21:41:56.522Z"
   },
   {
    "duration": 67,
    "start_time": "2024-08-03T21:42:03.583Z"
   },
   {
    "duration": 73,
    "start_time": "2024-08-03T21:42:06.707Z"
   },
   {
    "duration": 81,
    "start_time": "2024-08-03T21:43:19.174Z"
   },
   {
    "duration": 17,
    "start_time": "2024-08-03T21:43:31.165Z"
   },
   {
    "duration": 71,
    "start_time": "2024-08-03T21:43:46.149Z"
   },
   {
    "duration": 7,
    "start_time": "2024-08-03T21:43:50.499Z"
   },
   {
    "duration": 12,
    "start_time": "2024-08-03T21:44:07.477Z"
   },
   {
    "duration": 11,
    "start_time": "2024-08-03T21:44:07.899Z"
   },
   {
    "duration": 233,
    "start_time": "2024-08-03T21:44:54.374Z"
   },
   {
    "duration": 18,
    "start_time": "2024-08-03T21:45:24.339Z"
   },
   {
    "duration": 53636,
    "start_time": "2024-08-03T21:45:28.474Z"
   },
   {
    "duration": 11,
    "start_time": "2024-08-03T21:46:36.540Z"
   },
   {
    "duration": 412,
    "start_time": "2024-08-03T21:47:07.803Z"
   },
   {
    "duration": 11,
    "start_time": "2024-08-03T21:47:10.978Z"
   },
   {
    "duration": 387,
    "start_time": "2024-08-03T21:47:18.534Z"
   },
   {
    "duration": 48473,
    "start_time": "2024-08-03T21:47:53.049Z"
   },
   {
    "duration": 63209,
    "start_time": "2024-08-03T21:48:45.203Z"
   },
   {
    "duration": 341,
    "start_time": "2024-08-03T21:50:42.874Z"
   },
   {
    "duration": 370,
    "start_time": "2024-08-03T21:50:43.646Z"
   },
   {
    "duration": 1420,
    "start_time": "2024-08-03T21:55:37.464Z"
   },
   {
    "duration": 5,
    "start_time": "2024-08-03T21:55:38.886Z"
   },
   {
    "duration": 6,
    "start_time": "2024-08-03T21:55:38.892Z"
   },
   {
    "duration": 12,
    "start_time": "2024-08-03T21:55:38.905Z"
   },
   {
    "duration": 943,
    "start_time": "2024-08-03T21:55:38.920Z"
   },
   {
    "duration": 3,
    "start_time": "2024-08-03T21:55:39.865Z"
   },
   {
    "duration": 1194,
    "start_time": "2024-08-03T21:55:39.869Z"
   },
   {
    "duration": 5,
    "start_time": "2024-08-03T21:55:41.064Z"
   },
   {
    "duration": 292,
    "start_time": "2024-08-03T21:55:41.070Z"
   },
   {
    "duration": 506,
    "start_time": "2024-08-03T21:55:41.364Z"
   },
   {
    "duration": 1007,
    "start_time": "2024-08-03T21:55:41.871Z"
   },
   {
    "duration": 34,
    "start_time": "2024-08-03T21:55:42.880Z"
   },
   {
    "duration": 43,
    "start_time": "2024-08-03T21:55:42.916Z"
   },
   {
    "duration": 21,
    "start_time": "2024-08-03T21:55:42.962Z"
   },
   {
    "duration": 53,
    "start_time": "2024-08-03T21:55:42.985Z"
   },
   {
    "duration": 27,
    "start_time": "2024-08-03T21:55:43.040Z"
   },
   {
    "duration": 25,
    "start_time": "2024-08-03T21:55:43.069Z"
   },
   {
    "duration": 28,
    "start_time": "2024-08-03T21:55:43.096Z"
   },
   {
    "duration": 22,
    "start_time": "2024-08-03T21:55:43.126Z"
   },
   {
    "duration": 501,
    "start_time": "2024-08-03T21:55:43.150Z"
   },
   {
    "duration": 24,
    "start_time": "2024-08-03T21:55:43.653Z"
   },
   {
    "duration": 31,
    "start_time": "2024-08-03T21:55:43.678Z"
   },
   {
    "duration": 20,
    "start_time": "2024-08-03T21:55:43.710Z"
   },
   {
    "duration": 6,
    "start_time": "2024-08-03T21:55:43.732Z"
   },
   {
    "duration": 25,
    "start_time": "2024-08-03T21:55:43.740Z"
   },
   {
    "duration": 95,
    "start_time": "2024-08-03T21:55:43.767Z"
   },
   {
    "duration": 66,
    "start_time": "2024-08-03T21:55:43.863Z"
   },
   {
    "duration": 45,
    "start_time": "2024-08-03T21:55:43.930Z"
   },
   {
    "duration": 162,
    "start_time": "2024-08-03T21:55:43.977Z"
   },
   {
    "duration": 31,
    "start_time": "2024-08-03T21:55:44.140Z"
   },
   {
    "duration": 175,
    "start_time": "2024-08-03T21:55:44.173Z"
   },
   {
    "duration": 317,
    "start_time": "2024-08-03T21:55:44.351Z"
   },
   {
    "duration": 13,
    "start_time": "2024-08-03T21:55:44.670Z"
   },
   {
    "duration": 95,
    "start_time": "2024-08-03T21:55:44.685Z"
   },
   {
    "duration": 182,
    "start_time": "2024-08-03T21:55:44.782Z"
   },
   {
    "duration": 51,
    "start_time": "2024-08-03T21:55:44.966Z"
   },
   {
    "duration": 627,
    "start_time": "2024-08-03T21:55:45.018Z"
   },
   {
    "duration": 499,
    "start_time": "2024-08-03T21:55:45.647Z"
   },
   {
    "duration": 17,
    "start_time": "2024-08-03T21:55:46.148Z"
   },
   {
    "duration": 316,
    "start_time": "2024-08-03T21:55:46.167Z"
   },
   {
    "duration": 126719,
    "start_time": "2024-08-03T21:55:46.487Z"
   },
   {
    "duration": 0,
    "start_time": "2024-08-03T21:57:53.208Z"
   },
   {
    "duration": 0,
    "start_time": "2024-08-03T21:57:53.209Z"
   },
   {
    "duration": 0,
    "start_time": "2024-08-03T21:57:53.210Z"
   },
   {
    "duration": 0,
    "start_time": "2024-08-03T21:57:53.212Z"
   },
   {
    "duration": 0,
    "start_time": "2024-08-03T21:57:53.213Z"
   },
   {
    "duration": 0,
    "start_time": "2024-08-03T21:57:53.214Z"
   },
   {
    "duration": 0,
    "start_time": "2024-08-03T21:57:53.215Z"
   },
   {
    "duration": 0,
    "start_time": "2024-08-03T21:57:53.216Z"
   },
   {
    "duration": 0,
    "start_time": "2024-08-03T21:57:53.218Z"
   },
   {
    "duration": 0,
    "start_time": "2024-08-03T21:57:53.219Z"
   },
   {
    "duration": 69770,
    "start_time": "2024-08-03T21:58:07.340Z"
   },
   {
    "duration": 5,
    "start_time": "2024-08-03T21:59:31.503Z"
   },
   {
    "duration": 75539,
    "start_time": "2024-08-03T22:00:05.574Z"
   },
   {
    "duration": 370,
    "start_time": "2024-08-03T22:01:25.149Z"
   },
   {
    "duration": 438,
    "start_time": "2024-08-03T22:01:25.568Z"
   },
   {
    "duration": 15,
    "start_time": "2024-08-03T22:01:32.127Z"
   },
   {
    "duration": 277,
    "start_time": "2024-08-03T22:01:32.330Z"
   },
   {
    "duration": 51736,
    "start_time": "2024-08-03T22:01:32.609Z"
   },
   {
    "duration": 12,
    "start_time": "2024-08-03T22:02:24.347Z"
   },
   {
    "duration": 0,
    "start_time": "2024-08-03T22:02:24.361Z"
   },
   {
    "duration": 11,
    "start_time": "2024-08-03T22:02:28.482Z"
   },
   {
    "duration": 10,
    "start_time": "2024-08-03T22:02:48.009Z"
   },
   {
    "duration": 84,
    "start_time": "2024-08-03T22:03:21.712Z"
   },
   {
    "duration": 98,
    "start_time": "2024-08-03T22:03:23.598Z"
   },
   {
    "duration": 1616,
    "start_time": "2024-08-03T22:03:38.319Z"
   },
   {
    "duration": 5,
    "start_time": "2024-08-03T22:03:39.936Z"
   },
   {
    "duration": 14,
    "start_time": "2024-08-03T22:03:39.942Z"
   },
   {
    "duration": 4,
    "start_time": "2024-08-03T22:03:39.957Z"
   },
   {
    "duration": 974,
    "start_time": "2024-08-03T22:03:39.963Z"
   },
   {
    "duration": 3,
    "start_time": "2024-08-03T22:03:40.939Z"
   },
   {
    "duration": 1154,
    "start_time": "2024-08-03T22:03:40.944Z"
   },
   {
    "duration": 7,
    "start_time": "2024-08-03T22:03:42.099Z"
   },
   {
    "duration": 301,
    "start_time": "2024-08-03T22:03:42.107Z"
   },
   {
    "duration": 514,
    "start_time": "2024-08-03T22:03:42.409Z"
   },
   {
    "duration": 1058,
    "start_time": "2024-08-03T22:03:42.924Z"
   },
   {
    "duration": 24,
    "start_time": "2024-08-03T22:03:43.983Z"
   },
   {
    "duration": 91,
    "start_time": "2024-08-03T22:03:44.008Z"
   },
   {
    "duration": 25,
    "start_time": "2024-08-03T22:03:44.102Z"
   },
   {
    "duration": 51,
    "start_time": "2024-08-03T22:03:44.129Z"
   },
   {
    "duration": 33,
    "start_time": "2024-08-03T22:03:44.182Z"
   },
   {
    "duration": 30,
    "start_time": "2024-08-03T22:03:44.217Z"
   },
   {
    "duration": 24,
    "start_time": "2024-08-03T22:03:44.249Z"
   },
   {
    "duration": 34,
    "start_time": "2024-08-03T22:03:44.275Z"
   },
   {
    "duration": 491,
    "start_time": "2024-08-03T22:03:44.311Z"
   },
   {
    "duration": 25,
    "start_time": "2024-08-03T22:03:44.804Z"
   },
   {
    "duration": 35,
    "start_time": "2024-08-03T22:03:44.831Z"
   },
   {
    "duration": 55,
    "start_time": "2024-08-03T22:03:44.868Z"
   },
   {
    "duration": 13,
    "start_time": "2024-08-03T22:03:44.925Z"
   },
   {
    "duration": 28,
    "start_time": "2024-08-03T22:03:44.939Z"
   },
   {
    "duration": 88,
    "start_time": "2024-08-03T22:03:44.970Z"
   },
   {
    "duration": 73,
    "start_time": "2024-08-03T22:03:45.060Z"
   },
   {
    "duration": 48,
    "start_time": "2024-08-03T22:03:45.135Z"
   },
   {
    "duration": 164,
    "start_time": "2024-08-03T22:03:45.184Z"
   },
   {
    "duration": 29,
    "start_time": "2024-08-03T22:03:45.350Z"
   },
   {
    "duration": 164,
    "start_time": "2024-08-03T22:03:45.381Z"
   },
   {
    "duration": 304,
    "start_time": "2024-08-03T22:03:45.547Z"
   },
   {
    "duration": 13,
    "start_time": "2024-08-03T22:03:45.853Z"
   },
   {
    "duration": 199,
    "start_time": "2024-08-03T22:03:45.868Z"
   },
   {
    "duration": 190,
    "start_time": "2024-08-03T22:03:46.070Z"
   },
   {
    "duration": 49,
    "start_time": "2024-08-03T22:03:46.262Z"
   },
   {
    "duration": 624,
    "start_time": "2024-08-03T22:03:46.313Z"
   },
   {
    "duration": 431,
    "start_time": "2024-08-03T22:03:46.939Z"
   },
   {
    "duration": 15,
    "start_time": "2024-08-03T22:03:47.371Z"
   },
   {
    "duration": 312,
    "start_time": "2024-08-03T22:03:47.388Z"
   },
   {
    "duration": 50530,
    "start_time": "2024-08-03T22:03:47.705Z"
   },
   {
    "duration": 83,
    "start_time": "2024-08-03T22:04:38.237Z"
   },
   {
    "duration": 83,
    "start_time": "2024-08-03T22:04:38.322Z"
   },
   {
    "duration": 72101,
    "start_time": "2024-08-03T22:04:38.407Z"
   },
   {
    "duration": 505,
    "start_time": "2024-08-03T22:05:50.510Z"
   },
   {
    "duration": 495,
    "start_time": "2024-08-03T22:05:51.017Z"
   },
   {
    "duration": 16892,
    "start_time": "2024-08-03T22:05:51.514Z"
   },
   {
    "duration": 297,
    "start_time": "2024-08-03T22:06:08.408Z"
   },
   {
    "duration": 304,
    "start_time": "2024-08-03T22:06:08.707Z"
   },
   {
    "duration": 101,
    "start_time": "2024-08-03T22:06:09.013Z"
   },
   {
    "duration": 3,
    "start_time": "2024-08-03T22:06:09.116Z"
   },
   {
    "duration": 45,
    "start_time": "2024-08-04T09:14:40.887Z"
   },
   {
    "duration": 7,
    "start_time": "2024-08-04T09:17:16.810Z"
   },
   {
    "duration": 1549,
    "start_time": "2024-08-04T09:17:22.506Z"
   },
   {
    "duration": 5,
    "start_time": "2024-08-04T09:17:24.056Z"
   },
   {
    "duration": 5,
    "start_time": "2024-08-04T09:17:24.063Z"
   },
   {
    "duration": 22,
    "start_time": "2024-08-04T09:17:24.069Z"
   },
   {
    "duration": 1114,
    "start_time": "2024-08-04T09:17:24.092Z"
   },
   {
    "duration": 3,
    "start_time": "2024-08-04T09:17:25.207Z"
   },
   {
    "duration": 1032,
    "start_time": "2024-08-04T09:17:25.211Z"
   },
   {
    "duration": 5,
    "start_time": "2024-08-04T09:17:26.245Z"
   },
   {
    "duration": 278,
    "start_time": "2024-08-04T09:17:26.252Z"
   },
   {
    "duration": 446,
    "start_time": "2024-08-04T09:17:26.532Z"
   },
   {
    "duration": 900,
    "start_time": "2024-08-04T09:17:26.982Z"
   },
   {
    "duration": 21,
    "start_time": "2024-08-04T09:17:27.884Z"
   },
   {
    "duration": 23,
    "start_time": "2024-08-04T09:17:27.906Z"
   },
   {
    "duration": 20,
    "start_time": "2024-08-04T09:17:27.931Z"
   },
   {
    "duration": 35,
    "start_time": "2024-08-04T09:17:27.953Z"
   },
   {
    "duration": 33,
    "start_time": "2024-08-04T09:17:27.989Z"
   },
   {
    "duration": 22,
    "start_time": "2024-08-04T09:17:41.147Z"
   },
   {
    "duration": 33,
    "start_time": "2024-08-04T09:17:41.936Z"
   },
   {
    "duration": 21,
    "start_time": "2024-08-04T09:17:42.172Z"
   },
   {
    "duration": 22,
    "start_time": "2024-08-04T09:17:42.436Z"
   },
   {
    "duration": 449,
    "start_time": "2024-08-04T09:17:42.721Z"
   },
   {
    "duration": 25,
    "start_time": "2024-08-04T09:17:43.172Z"
   },
   {
    "duration": 31,
    "start_time": "2024-08-04T09:17:43.198Z"
   },
   {
    "duration": 19,
    "start_time": "2024-08-04T09:17:43.265Z"
   },
   {
    "duration": 5,
    "start_time": "2024-08-04T09:17:43.548Z"
   },
   {
    "duration": 25,
    "start_time": "2024-08-04T09:17:43.834Z"
   },
   {
    "duration": 53,
    "start_time": "2024-08-04T09:17:44.153Z"
   },
   {
    "duration": 53,
    "start_time": "2024-08-04T09:17:46.942Z"
   },
   {
    "duration": 38,
    "start_time": "2024-08-04T09:17:47.314Z"
   },
   {
    "duration": 118,
    "start_time": "2024-08-04T09:17:49.530Z"
   },
   {
    "duration": 26,
    "start_time": "2024-08-04T09:17:52.571Z"
   },
   {
    "duration": 265,
    "start_time": "2024-08-04T09:17:53.161Z"
   },
   {
    "duration": 4,
    "start_time": "2024-08-04T09:18:19.345Z"
   },
   {
    "duration": 247,
    "start_time": "2024-08-04T09:18:49.846Z"
   },
   {
    "duration": 13,
    "start_time": "2024-08-04T09:25:30.782Z"
   },
   {
    "duration": 84,
    "start_time": "2024-08-04T09:25:31.197Z"
   },
   {
    "duration": 173,
    "start_time": "2024-08-04T09:25:31.449Z"
   },
   {
    "duration": 44,
    "start_time": "2024-08-04T09:25:31.751Z"
   },
   {
    "duration": 626,
    "start_time": "2024-08-04T09:25:32.044Z"
   },
   {
    "duration": 450,
    "start_time": "2024-08-04T09:25:33.003Z"
   },
   {
    "duration": 15,
    "start_time": "2024-08-04T09:25:33.627Z"
   },
   {
    "duration": 291,
    "start_time": "2024-08-04T09:25:34.065Z"
   },
   {
    "duration": 63557,
    "start_time": "2024-08-04T09:25:34.461Z"
   },
   {
    "duration": 3,
    "start_time": "2024-08-04T09:26:40.497Z"
   },
   {
    "duration": 4,
    "start_time": "2024-08-04T09:26:45.094Z"
   },
   {
    "duration": 69,
    "start_time": "2024-08-04T09:26:58.905Z"
   },
   {
    "duration": 5,
    "start_time": "2024-08-04T09:32:56.960Z"
   },
   {
    "duration": 15,
    "start_time": "2024-08-04T09:33:00.895Z"
   },
   {
    "duration": 7510,
    "start_time": "2024-08-04T09:33:25.510Z"
   },
   {
    "duration": 94891,
    "start_time": "2024-08-04T09:33:47.074Z"
   },
   {
    "duration": 3,
    "start_time": "2024-08-04T09:35:32.195Z"
   },
   {
    "duration": 15,
    "start_time": "2024-08-04T09:38:31.442Z"
   },
   {
    "duration": 307,
    "start_time": "2024-08-04T09:38:31.819Z"
   },
   {
    "duration": 94224,
    "start_time": "2024-08-04T09:38:32.337Z"
   },
   {
    "duration": 2,
    "start_time": "2024-08-04T09:40:06.563Z"
   },
   {
    "duration": 12,
    "start_time": "2024-08-04T09:40:47.810Z"
   },
   {
    "duration": 74,
    "start_time": "2024-08-04T09:42:39.112Z"
   },
   {
    "duration": 50,
    "start_time": "2024-08-04T09:42:45.790Z"
   },
   {
    "duration": 10,
    "start_time": "2024-08-04T09:42:49.288Z"
   },
   {
    "duration": 10,
    "start_time": "2024-08-04T09:42:58.117Z"
   },
   {
    "duration": 11262,
    "start_time": "2024-08-04T09:43:14.135Z"
   },
   {
    "duration": 91,
    "start_time": "2024-08-04T09:44:21.171Z"
   },
   {
    "duration": 98,
    "start_time": "2024-08-04T09:44:21.744Z"
   },
   {
    "duration": 54547,
    "start_time": "2024-08-04T09:45:24.615Z"
   },
   {
    "duration": 17875,
    "start_time": "2024-08-04T09:46:30.031Z"
   },
   {
    "duration": 0,
    "start_time": "2024-08-04T09:46:47.907Z"
   },
   {
    "duration": 9,
    "start_time": "2024-08-04T09:46:49.817Z"
   },
   {
    "duration": 10,
    "start_time": "2024-08-04T09:46:58.731Z"
   },
   {
    "duration": 10,
    "start_time": "2024-08-04T09:47:39.998Z"
   },
   {
    "duration": 13,
    "start_time": "2024-08-04T09:48:04.019Z"
   },
   {
    "duration": 9,
    "start_time": "2024-08-04T09:48:06.354Z"
   },
   {
    "duration": 11,
    "start_time": "2024-08-04T09:48:31.442Z"
   },
   {
    "duration": 10,
    "start_time": "2024-08-04T09:48:44.223Z"
   },
   {
    "duration": 11,
    "start_time": "2024-08-04T09:50:02.995Z"
   },
   {
    "duration": 21,
    "start_time": "2024-08-04T09:50:15.231Z"
   },
   {
    "duration": 86,
    "start_time": "2024-08-04T09:50:15.435Z"
   },
   {
    "duration": 172,
    "start_time": "2024-08-04T09:50:15.601Z"
   },
   {
    "duration": 44,
    "start_time": "2024-08-04T09:50:15.796Z"
   },
   {
    "duration": 597,
    "start_time": "2024-08-04T09:50:16.237Z"
   },
   {
    "duration": 437,
    "start_time": "2024-08-04T09:50:17.571Z"
   },
   {
    "duration": 9,
    "start_time": "2024-08-04T09:50:22.710Z"
   },
   {
    "duration": 9,
    "start_time": "2024-08-04T09:51:33.091Z"
   },
   {
    "duration": 8,
    "start_time": "2024-08-04T09:51:36.419Z"
   },
   {
    "duration": 10,
    "start_time": "2024-08-04T09:51:42.215Z"
   },
   {
    "duration": 3,
    "start_time": "2024-08-04T09:51:46.878Z"
   },
   {
    "duration": 1723,
    "start_time": "2024-08-04T09:51:54.482Z"
   },
   {
    "duration": 20180,
    "start_time": "2024-08-04T09:52:21.928Z"
   },
   {
    "duration": 61372,
    "start_time": "2024-08-04T09:52:43.012Z"
   },
   {
    "duration": 8,
    "start_time": "2024-08-04T09:54:24.231Z"
   },
   {
    "duration": 3,
    "start_time": "2024-08-04T09:54:30.289Z"
   },
   {
    "duration": 48369,
    "start_time": "2024-08-04T09:56:38.021Z"
   },
   {
    "duration": 3,
    "start_time": "2024-08-04T09:57:26.392Z"
   },
   {
    "duration": 45298,
    "start_time": "2024-08-04T09:57:26.396Z"
   },
   {
    "duration": 792,
    "start_time": "2024-08-04T09:58:11.696Z"
   },
   {
    "duration": 700,
    "start_time": "2024-08-04T09:58:12.489Z"
   },
   {
    "duration": 7571,
    "start_time": "2024-08-04T09:58:46.632Z"
   },
   {
    "duration": 6223,
    "start_time": "2024-08-04T09:59:04.960Z"
   },
   {
    "duration": 704,
    "start_time": "2024-08-04T09:59:11.185Z"
   },
   {
    "duration": 709,
    "start_time": "2024-08-04T09:59:11.891Z"
   },
   {
    "duration": 5537,
    "start_time": "2024-08-04T09:59:55.148Z"
   },
   {
    "duration": 805,
    "start_time": "2024-08-04T10:00:00.687Z"
   },
   {
    "duration": 803,
    "start_time": "2024-08-04T10:00:01.493Z"
   },
   {
    "duration": 16666,
    "start_time": "2024-08-04T10:00:12.215Z"
   },
   {
    "duration": 208,
    "start_time": "2024-08-04T10:00:28.883Z"
   },
   {
    "duration": 306,
    "start_time": "2024-08-04T10:00:29.182Z"
   },
   {
    "duration": 99,
    "start_time": "2024-08-04T10:00:29.490Z"
   },
   {
    "duration": 9,
    "start_time": "2024-08-04T10:00:59.122Z"
   },
   {
    "duration": 9,
    "start_time": "2024-08-04T10:05:23.510Z"
   },
   {
    "duration": 4,
    "start_time": "2024-08-04T10:05:32.002Z"
   },
   {
    "duration": 1318,
    "start_time": "2024-08-04T10:05:36.550Z"
   },
   {
    "duration": 4,
    "start_time": "2024-08-04T10:05:37.870Z"
   },
   {
    "duration": 6,
    "start_time": "2024-08-04T10:05:37.876Z"
   },
   {
    "duration": 4,
    "start_time": "2024-08-04T10:05:37.884Z"
   },
   {
    "duration": 998,
    "start_time": "2024-08-04T10:05:37.889Z"
   },
   {
    "duration": 2,
    "start_time": "2024-08-04T10:05:38.889Z"
   },
   {
    "duration": 985,
    "start_time": "2024-08-04T10:05:38.892Z"
   },
   {
    "duration": 4,
    "start_time": "2024-08-04T10:05:39.882Z"
   },
   {
    "duration": 269,
    "start_time": "2024-08-04T10:05:39.888Z"
   },
   {
    "duration": 445,
    "start_time": "2024-08-04T10:05:40.159Z"
   },
   {
    "duration": 901,
    "start_time": "2024-08-04T10:05:40.605Z"
   },
   {
    "duration": 19,
    "start_time": "2024-08-04T10:05:41.508Z"
   },
   {
    "duration": 26,
    "start_time": "2024-08-04T10:05:41.529Z"
   },
   {
    "duration": 27,
    "start_time": "2024-08-04T10:05:41.557Z"
   },
   {
    "duration": 18,
    "start_time": "2024-08-04T10:05:41.586Z"
   },
   {
    "duration": 22,
    "start_time": "2024-08-04T10:05:41.605Z"
   },
   {
    "duration": 20,
    "start_time": "2024-08-04T10:05:41.958Z"
   },
   {
    "duration": 22,
    "start_time": "2024-08-04T10:05:42.115Z"
   },
   {
    "duration": 20,
    "start_time": "2024-08-04T10:05:42.418Z"
   },
   {
    "duration": 458,
    "start_time": "2024-08-04T10:05:42.708Z"
   },
   {
    "duration": 28,
    "start_time": "2024-08-04T10:05:43.169Z"
   },
   {
    "duration": 80,
    "start_time": "2024-08-04T10:05:43.198Z"
   },
   {
    "duration": 19,
    "start_time": "2024-08-04T10:05:43.307Z"
   },
   {
    "duration": 6,
    "start_time": "2024-08-04T10:05:43.623Z"
   },
   {
    "duration": 22,
    "start_time": "2024-08-04T10:05:43.940Z"
   },
   {
    "duration": 52,
    "start_time": "2024-08-04T10:05:44.432Z"
   },
   {
    "duration": 53,
    "start_time": "2024-08-04T10:05:45.505Z"
   },
   {
    "duration": 40,
    "start_time": "2024-08-04T10:05:46.210Z"
   },
   {
    "duration": 118,
    "start_time": "2024-08-04T10:05:47.243Z"
   },
   {
    "duration": 27,
    "start_time": "2024-08-04T10:05:48.061Z"
   },
   {
    "duration": 256,
    "start_time": "2024-08-04T10:05:48.522Z"
   },
   {
    "duration": 281,
    "start_time": "2024-08-04T10:05:48.962Z"
   },
   {
    "duration": 12,
    "start_time": "2024-08-04T10:05:51.950Z"
   },
   {
    "duration": 81,
    "start_time": "2024-08-04T10:05:52.356Z"
   },
   {
    "duration": 150,
    "start_time": "2024-08-04T10:05:52.673Z"
   },
   {
    "duration": 38,
    "start_time": "2024-08-04T10:05:52.935Z"
   },
   {
    "duration": 517,
    "start_time": "2024-08-04T10:05:53.133Z"
   },
   {
    "duration": 396,
    "start_time": "2024-08-04T10:05:53.652Z"
   },
   {
    "duration": 13,
    "start_time": "2024-08-04T10:05:54.050Z"
   },
   {
    "duration": 253,
    "start_time": "2024-08-04T10:05:54.106Z"
   },
   {
    "duration": 99,
    "start_time": "2024-08-04T10:05:54.501Z"
   },
   {
    "duration": 8,
    "start_time": "2024-08-04T10:05:54.871Z"
   },
   {
    "duration": 85375,
    "start_time": "2024-08-04T10:06:29.150Z"
   },
   {
    "duration": 3,
    "start_time": "2024-08-04T10:07:54.526Z"
   },
   {
    "duration": 10058,
    "start_time": "2024-08-04T10:07:54.530Z"
   },
   {
    "duration": 93,
    "start_time": "2024-08-04T10:08:04.589Z"
   },
   {
    "duration": 82,
    "start_time": "2024-08-04T10:08:04.683Z"
   },
   {
    "duration": 41424,
    "start_time": "2024-08-04T10:08:04.766Z"
   },
   {
    "duration": 2,
    "start_time": "2024-08-04T10:08:46.192Z"
   },
   {
    "duration": 4991,
    "start_time": "2024-08-04T10:08:46.195Z"
   },
   {
    "duration": 713,
    "start_time": "2024-08-04T10:08:51.188Z"
   },
   {
    "duration": 788,
    "start_time": "2024-08-04T10:08:51.903Z"
   },
   {
    "duration": 14692,
    "start_time": "2024-08-04T10:08:52.693Z"
   },
   {
    "duration": 210,
    "start_time": "2024-08-04T10:09:07.386Z"
   },
   {
    "duration": 297,
    "start_time": "2024-08-04T10:09:07.686Z"
   },
   {
    "duration": 102,
    "start_time": "2024-08-04T10:09:07.988Z"
   },
   {
    "duration": 10,
    "start_time": "2024-08-04T10:09:25.722Z"
   },
   {
    "duration": 3685,
    "start_time": "2024-08-04T10:10:14.798Z"
   },
   {
    "duration": 404,
    "start_time": "2024-08-04T10:10:18.486Z"
   },
   {
    "duration": 493,
    "start_time": "2024-08-04T10:10:18.892Z"
   },
   {
    "duration": 10,
    "start_time": "2024-08-04T10:10:22.664Z"
   },
   {
    "duration": 10,
    "start_time": "2024-08-04T10:10:30.001Z"
   },
   {
    "duration": 42,
    "start_time": "2024-08-04T10:14:22.108Z"
   },
   {
    "duration": 12,
    "start_time": "2024-08-04T10:16:16.046Z"
   },
   {
    "duration": 4,
    "start_time": "2024-08-04T10:16:19.948Z"
   },
   {
    "duration": 19,
    "start_time": "2024-08-04T10:18:58.501Z"
   },
   {
    "duration": 3,
    "start_time": "2024-08-04T10:19:17.262Z"
   },
   {
    "duration": 24,
    "start_time": "2024-08-04T10:19:21.314Z"
   },
   {
    "duration": 55,
    "start_time": "2024-08-04T10:19:30.992Z"
   },
   {
    "duration": 21,
    "start_time": "2024-08-04T10:20:00.829Z"
   },
   {
    "duration": 24,
    "start_time": "2024-08-04T10:20:10.279Z"
   },
   {
    "duration": 57,
    "start_time": "2024-08-04T10:21:03.023Z"
   },
   {
    "duration": 56,
    "start_time": "2024-08-04T10:21:43.670Z"
   },
   {
    "duration": 796,
    "start_time": "2024-08-04T10:22:03.779Z"
   },
   {
    "duration": 46459,
    "start_time": "2024-08-04T10:22:23.894Z"
   },
   {
    "duration": 139,
    "start_time": "2024-08-04T10:23:21.202Z"
   },
   {
    "duration": 1345,
    "start_time": "2024-08-04T10:25:10.300Z"
   },
   {
    "duration": 6,
    "start_time": "2024-08-04T10:25:11.646Z"
   },
   {
    "duration": 31,
    "start_time": "2024-08-04T10:25:11.653Z"
   },
   {
    "duration": 15,
    "start_time": "2024-08-04T10:25:11.686Z"
   },
   {
    "duration": 862,
    "start_time": "2024-08-04T10:25:11.703Z"
   },
   {
    "duration": 3,
    "start_time": "2024-08-04T10:25:12.566Z"
   },
   {
    "duration": 1059,
    "start_time": "2024-08-04T10:25:12.570Z"
   },
   {
    "duration": 4,
    "start_time": "2024-08-04T10:25:13.631Z"
   },
   {
    "duration": 268,
    "start_time": "2024-08-04T10:25:13.636Z"
   },
   {
    "duration": 422,
    "start_time": "2024-08-04T10:25:13.905Z"
   },
   {
    "duration": 901,
    "start_time": "2024-08-04T10:25:14.328Z"
   },
   {
    "duration": 20,
    "start_time": "2024-08-04T10:25:15.230Z"
   },
   {
    "duration": 84,
    "start_time": "2024-08-04T10:25:15.252Z"
   },
   {
    "duration": 38,
    "start_time": "2024-08-04T10:25:15.338Z"
   },
   {
    "duration": 23,
    "start_time": "2024-08-04T10:25:15.378Z"
   },
   {
    "duration": 27,
    "start_time": "2024-08-04T10:25:15.402Z"
   },
   {
    "duration": 22,
    "start_time": "2024-08-04T10:25:15.430Z"
   },
   {
    "duration": 20,
    "start_time": "2024-08-04T10:25:15.453Z"
   },
   {
    "duration": 21,
    "start_time": "2024-08-04T10:25:15.474Z"
   },
   {
    "duration": 467,
    "start_time": "2024-08-04T10:25:15.497Z"
   },
   {
    "duration": 26,
    "start_time": "2024-08-04T10:25:15.966Z"
   },
   {
    "duration": 20,
    "start_time": "2024-08-04T10:25:15.994Z"
   },
   {
    "duration": 27,
    "start_time": "2024-08-04T10:25:16.015Z"
   },
   {
    "duration": 6,
    "start_time": "2024-08-04T10:25:16.451Z"
   },
   {
    "duration": 24,
    "start_time": "2024-08-04T10:25:16.869Z"
   },
   {
    "duration": 54,
    "start_time": "2024-08-04T10:25:17.245Z"
   },
   {
    "duration": 54,
    "start_time": "2024-08-04T10:25:18.266Z"
   },
   {
    "duration": 40,
    "start_time": "2024-08-04T10:25:19.769Z"
   },
   {
    "duration": 118,
    "start_time": "2024-08-04T10:25:20.271Z"
   },
   {
    "duration": 27,
    "start_time": "2024-08-04T10:25:20.727Z"
   },
   {
    "duration": 250,
    "start_time": "2024-08-04T10:25:21.049Z"
   },
   {
    "duration": 276,
    "start_time": "2024-08-04T10:25:21.500Z"
   },
   {
    "duration": 12,
    "start_time": "2024-08-04T10:25:23.857Z"
   },
   {
    "duration": 80,
    "start_time": "2024-08-04T10:25:24.389Z"
   },
   {
    "duration": 150,
    "start_time": "2024-08-04T10:25:26.441Z"
   },
   {
    "duration": 38,
    "start_time": "2024-08-04T10:25:27.658Z"
   },
   {
    "duration": 943,
    "start_time": "2024-08-04T10:26:12.236Z"
   },
   {
    "duration": 14,
    "start_time": "2024-08-04T10:27:33.474Z"
   },
   {
    "duration": 70,
    "start_time": "2024-08-04T10:27:33.716Z"
   },
   {
    "duration": 135,
    "start_time": "2024-08-04T10:27:33.991Z"
   },
   {
    "duration": 38,
    "start_time": "2024-08-04T10:27:35.391Z"
   },
   {
    "duration": 22,
    "start_time": "2024-08-04T10:27:38.401Z"
   },
   {
    "duration": 9,
    "start_time": "2024-08-04T10:27:49.209Z"
   },
   {
    "duration": 14,
    "start_time": "2024-08-04T10:28:43.436Z"
   },
   {
    "duration": 67,
    "start_time": "2024-08-04T10:29:17.954Z"
   },
   {
    "duration": 47059,
    "start_time": "2024-08-04T10:29:19.475Z"
   },
   {
    "duration": 14,
    "start_time": "2024-08-04T10:30:27.942Z"
   },
   {
    "duration": 110,
    "start_time": "2024-08-04T10:30:32.090Z"
   },
   {
    "duration": 13,
    "start_time": "2024-08-04T10:31:22.334Z"
   },
   {
    "duration": 263,
    "start_time": "2024-08-04T10:31:22.678Z"
   },
   {
    "duration": 20,
    "start_time": "2024-08-04T10:32:04.465Z"
   },
   {
    "duration": 3966,
    "start_time": "2024-08-04T10:33:26.881Z"
   },
   {
    "duration": 76,
    "start_time": "2024-08-04T10:33:43.653Z"
   },
   {
    "duration": 1353,
    "start_time": "2024-08-04T10:34:42.094Z"
   },
   {
    "duration": 5,
    "start_time": "2024-08-04T10:34:43.448Z"
   },
   {
    "duration": 7,
    "start_time": "2024-08-04T10:34:43.454Z"
   },
   {
    "duration": 8,
    "start_time": "2024-08-04T10:34:43.462Z"
   },
   {
    "duration": 811,
    "start_time": "2024-08-04T10:34:43.471Z"
   },
   {
    "duration": 3,
    "start_time": "2024-08-04T10:34:44.284Z"
   },
   {
    "duration": 1038,
    "start_time": "2024-08-04T10:34:44.289Z"
   },
   {
    "duration": 5,
    "start_time": "2024-08-04T10:34:45.328Z"
   },
   {
    "duration": 284,
    "start_time": "2024-08-04T10:34:45.334Z"
   },
   {
    "duration": 443,
    "start_time": "2024-08-04T10:34:45.619Z"
   },
   {
    "duration": 921,
    "start_time": "2024-08-04T10:34:46.063Z"
   },
   {
    "duration": 20,
    "start_time": "2024-08-04T10:34:46.985Z"
   },
   {
    "duration": 21,
    "start_time": "2024-08-04T10:34:47.007Z"
   },
   {
    "duration": 30,
    "start_time": "2024-08-04T10:34:47.030Z"
   },
   {
    "duration": 26,
    "start_time": "2024-08-04T10:34:47.061Z"
   },
   {
    "duration": 26,
    "start_time": "2024-08-04T10:34:47.089Z"
   },
   {
    "duration": 21,
    "start_time": "2024-08-04T10:34:47.116Z"
   },
   {
    "duration": 21,
    "start_time": "2024-08-04T10:34:47.138Z"
   },
   {
    "duration": 31,
    "start_time": "2024-08-04T10:34:47.160Z"
   },
   {
    "duration": 460,
    "start_time": "2024-08-04T10:34:47.276Z"
   },
   {
    "duration": 21,
    "start_time": "2024-08-04T10:34:47.738Z"
   },
   {
    "duration": 28,
    "start_time": "2024-08-04T10:34:47.761Z"
   },
   {
    "duration": 19,
    "start_time": "2024-08-04T10:34:47.908Z"
   },
   {
    "duration": 5,
    "start_time": "2024-08-04T10:34:48.375Z"
   },
   {
    "duration": 23,
    "start_time": "2024-08-04T10:34:48.923Z"
   },
   {
    "duration": 53,
    "start_time": "2024-08-04T10:34:49.826Z"
   },
   {
    "duration": 54,
    "start_time": "2024-08-04T10:34:51.171Z"
   },
   {
    "duration": 41,
    "start_time": "2024-08-04T10:34:51.858Z"
   },
   {
    "duration": 116,
    "start_time": "2024-08-04T10:34:52.608Z"
   },
   {
    "duration": 25,
    "start_time": "2024-08-04T10:34:53.134Z"
   },
   {
    "duration": 264,
    "start_time": "2024-08-04T10:34:53.660Z"
   },
   {
    "duration": 263,
    "start_time": "2024-08-04T10:34:54.384Z"
   },
   {
    "duration": 11,
    "start_time": "2024-08-04T10:34:57.235Z"
   },
   {
    "duration": 78,
    "start_time": "2024-08-04T10:34:57.659Z"
   },
   {
    "duration": 158,
    "start_time": "2024-08-04T10:34:57.968Z"
   },
   {
    "duration": 40,
    "start_time": "2024-08-04T10:34:58.909Z"
   },
   {
    "duration": 81,
    "start_time": "2024-08-04T10:34:59.808Z"
   },
   {
    "duration": 48466,
    "start_time": "2024-08-04T10:35:00.938Z"
   },
   {
    "duration": 13,
    "start_time": "2024-08-04T10:35:53.376Z"
   },
   {
    "duration": 252,
    "start_time": "2024-08-04T10:35:53.818Z"
   },
   {
    "duration": 11456,
    "start_time": "2024-08-04T10:35:57.520Z"
   },
   {
    "duration": 0,
    "start_time": "2024-08-04T10:36:08.978Z"
   },
   {
    "duration": 0,
    "start_time": "2024-08-04T10:36:08.979Z"
   },
   {
    "duration": 7591,
    "start_time": "2024-08-04T10:36:30.340Z"
   },
   {
    "duration": 83,
    "start_time": "2024-08-04T10:36:46.480Z"
   },
   {
    "duration": 13,
    "start_time": "2024-08-04T10:37:09.388Z"
   },
   {
    "duration": 253,
    "start_time": "2024-08-04T10:37:09.611Z"
   },
   {
    "duration": 7586,
    "start_time": "2024-08-04T10:37:10.073Z"
   },
   {
    "duration": 15,
    "start_time": "2024-08-04T10:37:22.758Z"
   },
   {
    "duration": 14,
    "start_time": "2024-08-04T10:37:32.152Z"
   },
   {
    "duration": 7365,
    "start_time": "2024-08-04T10:37:43.583Z"
   },
   {
    "duration": 7,
    "start_time": "2024-08-04T10:38:33.159Z"
   },
   {
    "duration": 15,
    "start_time": "2024-08-04T10:38:46.992Z"
   },
   {
    "duration": 71,
    "start_time": "2024-08-04T10:38:47.534Z"
   },
   {
    "duration": 140,
    "start_time": "2024-08-04T10:38:47.829Z"
   },
   {
    "duration": 38,
    "start_time": "2024-08-04T10:38:49.543Z"
   },
   {
    "duration": 71,
    "start_time": "2024-08-04T10:38:50.292Z"
   },
   {
    "duration": 13,
    "start_time": "2024-08-04T10:38:52.533Z"
   },
   {
    "duration": 241,
    "start_time": "2024-08-04T10:38:52.741Z"
   },
   {
    "duration": 7980,
    "start_time": "2024-08-04T10:38:58.130Z"
   },
   {
    "duration": 1310,
    "start_time": "2024-08-04T10:39:09.739Z"
   },
   {
    "duration": 5,
    "start_time": "2024-08-04T10:39:11.050Z"
   },
   {
    "duration": 8,
    "start_time": "2024-08-04T10:39:11.056Z"
   },
   {
    "duration": 2,
    "start_time": "2024-08-04T10:39:11.066Z"
   },
   {
    "duration": 832,
    "start_time": "2024-08-04T10:39:11.069Z"
   },
   {
    "duration": 2,
    "start_time": "2024-08-04T10:39:11.903Z"
   },
   {
    "duration": 1055,
    "start_time": "2024-08-04T10:39:11.906Z"
   },
   {
    "duration": 4,
    "start_time": "2024-08-04T10:39:12.964Z"
   },
   {
    "duration": 282,
    "start_time": "2024-08-04T10:39:12.982Z"
   },
   {
    "duration": 439,
    "start_time": "2024-08-04T10:39:13.265Z"
   },
   {
    "duration": 936,
    "start_time": "2024-08-04T10:39:13.706Z"
   },
   {
    "duration": 22,
    "start_time": "2024-08-04T10:39:14.643Z"
   },
   {
    "duration": 33,
    "start_time": "2024-08-04T10:39:14.666Z"
   },
   {
    "duration": 20,
    "start_time": "2024-08-04T10:39:14.700Z"
   },
   {
    "duration": 20,
    "start_time": "2024-08-04T10:39:14.721Z"
   },
   {
    "duration": 21,
    "start_time": "2024-08-04T10:39:14.742Z"
   },
   {
    "duration": 20,
    "start_time": "2024-08-04T10:39:14.781Z"
   },
   {
    "duration": 21,
    "start_time": "2024-08-04T10:39:14.802Z"
   },
   {
    "duration": 21,
    "start_time": "2024-08-04T10:39:14.901Z"
   },
   {
    "duration": 451,
    "start_time": "2024-08-04T10:39:15.183Z"
   },
   {
    "duration": 23,
    "start_time": "2024-08-04T10:39:15.636Z"
   },
   {
    "duration": 33,
    "start_time": "2024-08-04T10:39:15.660Z"
   },
   {
    "duration": 19,
    "start_time": "2024-08-04T10:39:15.749Z"
   },
   {
    "duration": 6,
    "start_time": "2024-08-04T10:39:16.580Z"
   },
   {
    "duration": 22,
    "start_time": "2024-08-04T10:39:17.242Z"
   },
   {
    "duration": 54,
    "start_time": "2024-08-04T10:39:19.094Z"
   },
   {
    "duration": 65,
    "start_time": "2024-08-04T10:39:19.917Z"
   },
   {
    "duration": 40,
    "start_time": "2024-08-04T10:39:20.479Z"
   },
   {
    "duration": 116,
    "start_time": "2024-08-04T10:39:21.195Z"
   },
   {
    "duration": 28,
    "start_time": "2024-08-04T10:39:21.679Z"
   },
   {
    "duration": 259,
    "start_time": "2024-08-04T10:39:22.167Z"
   },
   {
    "duration": 267,
    "start_time": "2024-08-04T10:39:22.573Z"
   },
   {
    "duration": 12,
    "start_time": "2024-08-04T10:39:25.428Z"
   },
   {
    "duration": 81,
    "start_time": "2024-08-04T10:39:27.033Z"
   },
   {
    "duration": 154,
    "start_time": "2024-08-04T10:39:27.537Z"
   },
   {
    "duration": 38,
    "start_time": "2024-08-04T10:39:31.302Z"
   },
   {
    "duration": 83,
    "start_time": "2024-08-04T10:39:34.196Z"
   },
   {
    "duration": 100,
    "start_time": "2024-08-04T10:40:10.871Z"
   },
   {
    "duration": 1311,
    "start_time": "2024-08-04T10:40:55.527Z"
   },
   {
    "duration": 4,
    "start_time": "2024-08-04T10:40:56.840Z"
   },
   {
    "duration": 22,
    "start_time": "2024-08-04T10:40:56.846Z"
   },
   {
    "duration": 9,
    "start_time": "2024-08-04T10:40:56.869Z"
   },
   {
    "duration": 812,
    "start_time": "2024-08-04T10:40:56.879Z"
   },
   {
    "duration": 2,
    "start_time": "2024-08-04T10:40:57.693Z"
   },
   {
    "duration": 1024,
    "start_time": "2024-08-04T10:40:57.696Z"
   },
   {
    "duration": 4,
    "start_time": "2024-08-04T10:40:58.722Z"
   },
   {
    "duration": 278,
    "start_time": "2024-08-04T10:40:58.727Z"
   },
   {
    "duration": 438,
    "start_time": "2024-08-04T10:40:59.007Z"
   },
   {
    "duration": 946,
    "start_time": "2024-08-04T10:40:59.447Z"
   },
   {
    "duration": 20,
    "start_time": "2024-08-04T10:41:00.394Z"
   },
   {
    "duration": 45,
    "start_time": "2024-08-04T10:41:00.415Z"
   },
   {
    "duration": 40,
    "start_time": "2024-08-04T10:41:00.462Z"
   },
   {
    "duration": 57,
    "start_time": "2024-08-04T10:41:00.504Z"
   },
   {
    "duration": 50,
    "start_time": "2024-08-04T10:41:00.562Z"
   },
   {
    "duration": 83,
    "start_time": "2024-08-04T10:41:00.614Z"
   },
   {
    "duration": 40,
    "start_time": "2024-08-04T10:41:00.698Z"
   },
   {
    "duration": 90,
    "start_time": "2024-08-04T10:41:00.741Z"
   },
   {
    "duration": 457,
    "start_time": "2024-08-04T10:41:01.041Z"
   },
   {
    "duration": 22,
    "start_time": "2024-08-04T10:41:01.500Z"
   },
   {
    "duration": 92,
    "start_time": "2024-08-04T10:41:01.524Z"
   },
   {
    "duration": 67,
    "start_time": "2024-08-04T10:41:01.635Z"
   },
   {
    "duration": 8,
    "start_time": "2024-08-04T10:41:02.096Z"
   },
   {
    "duration": 25,
    "start_time": "2024-08-04T10:41:02.522Z"
   },
   {
    "duration": 53,
    "start_time": "2024-08-04T10:41:02.828Z"
   },
   {
    "duration": 54,
    "start_time": "2024-08-04T10:41:03.444Z"
   },
   {
    "duration": 39,
    "start_time": "2024-08-04T10:41:03.919Z"
   },
   {
    "duration": 118,
    "start_time": "2024-08-04T10:41:04.495Z"
   },
   {
    "duration": 26,
    "start_time": "2024-08-04T10:41:04.878Z"
   },
   {
    "duration": 257,
    "start_time": "2024-08-04T10:41:05.507Z"
   },
   {
    "duration": 276,
    "start_time": "2024-08-04T10:41:06.006Z"
   },
   {
    "duration": 12,
    "start_time": "2024-08-04T10:41:09.803Z"
   },
   {
    "duration": 83,
    "start_time": "2024-08-04T10:41:21.889Z"
   },
   {
    "duration": 157,
    "start_time": "2024-08-04T10:41:23.505Z"
   },
   {
    "duration": 40,
    "start_time": "2024-08-04T10:41:28.093Z"
   },
   {
    "duration": 97,
    "start_time": "2024-08-04T10:41:34.616Z"
   },
   {
    "duration": 79,
    "start_time": "2024-08-04T10:41:52.649Z"
   },
   {
    "duration": 18,
    "start_time": "2024-08-04T10:41:57.407Z"
   },
   {
    "duration": 3,
    "start_time": "2024-08-04T10:41:57.618Z"
   },
   {
    "duration": 13,
    "start_time": "2024-08-04T10:42:12.944Z"
   },
   {
    "duration": 3,
    "start_time": "2024-08-04T10:42:13.332Z"
   },
   {
    "duration": 261,
    "start_time": "2024-08-04T10:42:13.959Z"
   },
   {
    "duration": 7579,
    "start_time": "2024-08-04T10:42:17.846Z"
   },
   {
    "duration": 7558,
    "start_time": "2024-08-04T10:42:46.210Z"
   },
   {
    "duration": 8,
    "start_time": "2024-08-04T10:43:52.327Z"
   },
   {
    "duration": 528,
    "start_time": "2024-08-04T10:43:57.049Z"
   },
   {
    "duration": 75,
    "start_time": "2024-08-04T10:49:34.050Z"
   },
   {
    "duration": 1328,
    "start_time": "2024-08-04T10:49:44.531Z"
   },
   {
    "duration": 4,
    "start_time": "2024-08-04T10:49:45.861Z"
   },
   {
    "duration": 10,
    "start_time": "2024-08-04T10:49:45.867Z"
   },
   {
    "duration": 5,
    "start_time": "2024-08-04T10:49:45.881Z"
   },
   {
    "duration": 821,
    "start_time": "2024-08-04T10:49:45.888Z"
   },
   {
    "duration": 2,
    "start_time": "2024-08-04T10:49:46.711Z"
   },
   {
    "duration": 1012,
    "start_time": "2024-08-04T10:49:46.715Z"
   },
   {
    "duration": 4,
    "start_time": "2024-08-04T10:49:47.729Z"
   },
   {
    "duration": 260,
    "start_time": "2024-08-04T10:49:47.734Z"
   },
   {
    "duration": 449,
    "start_time": "2024-08-04T10:49:47.995Z"
   },
   {
    "duration": 907,
    "start_time": "2024-08-04T10:49:48.446Z"
   },
   {
    "duration": 29,
    "start_time": "2024-08-04T10:49:49.355Z"
   },
   {
    "duration": 22,
    "start_time": "2024-08-04T10:49:53.015Z"
   },
   {
    "duration": 21,
    "start_time": "2024-08-04T10:49:53.211Z"
   },
   {
    "duration": 19,
    "start_time": "2024-08-04T10:49:53.612Z"
   },
   {
    "duration": 22,
    "start_time": "2024-08-04T10:49:53.827Z"
   },
   {
    "duration": 21,
    "start_time": "2024-08-04T10:49:54.285Z"
   },
   {
    "duration": 21,
    "start_time": "2024-08-04T10:49:54.495Z"
   },
   {
    "duration": 21,
    "start_time": "2024-08-04T10:49:54.832Z"
   },
   {
    "duration": 459,
    "start_time": "2024-08-04T10:49:55.152Z"
   },
   {
    "duration": 22,
    "start_time": "2024-08-04T10:49:55.613Z"
   },
   {
    "duration": 24,
    "start_time": "2024-08-04T10:49:55.636Z"
   },
   {
    "duration": 19,
    "start_time": "2024-08-04T10:49:55.854Z"
   },
   {
    "duration": 6,
    "start_time": "2024-08-04T10:49:56.476Z"
   },
   {
    "duration": 23,
    "start_time": "2024-08-04T10:49:57.281Z"
   },
   {
    "duration": 52,
    "start_time": "2024-08-04T10:49:57.694Z"
   },
   {
    "duration": 55,
    "start_time": "2024-08-04T10:50:01.158Z"
   },
   {
    "duration": 40,
    "start_time": "2024-08-04T10:50:01.488Z"
   },
   {
    "duration": 124,
    "start_time": "2024-08-04T10:50:02.081Z"
   },
   {
    "duration": 26,
    "start_time": "2024-08-04T10:50:02.924Z"
   },
   {
    "duration": 257,
    "start_time": "2024-08-04T10:50:03.256Z"
   },
   {
    "duration": 270,
    "start_time": "2024-08-04T10:50:03.542Z"
   },
   {
    "duration": 12,
    "start_time": "2024-08-04T10:50:08.157Z"
   },
   {
    "duration": 84,
    "start_time": "2024-08-04T10:50:09.861Z"
   },
   {
    "duration": 186,
    "start_time": "2024-08-04T10:50:10.122Z"
   },
   {
    "duration": 39,
    "start_time": "2024-08-04T10:50:10.830Z"
   },
   {
    "duration": 83,
    "start_time": "2024-08-04T10:50:12.533Z"
   },
   {
    "duration": 176,
    "start_time": "2024-08-04T10:50:14.353Z"
   },
   {
    "duration": 34,
    "start_time": "2024-08-04T10:50:31.737Z"
   },
   {
    "duration": 3,
    "start_time": "2024-08-04T10:51:52.989Z"
   },
   {
    "duration": 30,
    "start_time": "2024-08-04T10:52:31.711Z"
   },
   {
    "duration": 34,
    "start_time": "2024-08-04T10:53:08.605Z"
   },
   {
    "duration": 29,
    "start_time": "2024-08-04T10:53:26.951Z"
   },
   {
    "duration": 31,
    "start_time": "2024-08-04T10:54:03.011Z"
   },
   {
    "duration": 48915,
    "start_time": "2024-08-04T10:54:47.341Z"
   },
   {
    "duration": 52,
    "start_time": "2024-08-04T10:55:56.389Z"
   },
   {
    "duration": 48655,
    "start_time": "2024-08-04T10:56:52.152Z"
   },
   {
    "duration": 10573,
    "start_time": "2024-08-04T10:57:54.949Z"
   },
   {
    "duration": 1389,
    "start_time": "2024-08-04T10:58:22.660Z"
   },
   {
    "duration": 4,
    "start_time": "2024-08-04T10:58:24.051Z"
   },
   {
    "duration": 32,
    "start_time": "2024-08-04T10:58:24.056Z"
   },
   {
    "duration": 3,
    "start_time": "2024-08-04T10:58:25.439Z"
   },
   {
    "duration": 1104,
    "start_time": "2024-08-04T10:58:25.731Z"
   },
   {
    "duration": 4,
    "start_time": "2024-08-04T10:58:26.837Z"
   },
   {
    "duration": 982,
    "start_time": "2024-08-04T10:58:26.842Z"
   },
   {
    "duration": 4,
    "start_time": "2024-08-04T10:58:27.827Z"
   },
   {
    "duration": 268,
    "start_time": "2024-08-04T10:58:27.833Z"
   },
   {
    "duration": 444,
    "start_time": "2024-08-04T10:58:28.102Z"
   },
   {
    "duration": 887,
    "start_time": "2024-08-04T10:58:28.547Z"
   },
   {
    "duration": 20,
    "start_time": "2024-08-04T10:58:29.436Z"
   },
   {
    "duration": 33,
    "start_time": "2024-08-04T10:58:29.457Z"
   },
   {
    "duration": 19,
    "start_time": "2024-08-04T10:58:29.491Z"
   },
   {
    "duration": 20,
    "start_time": "2024-08-04T10:58:29.512Z"
   },
   {
    "duration": 23,
    "start_time": "2024-08-04T10:58:29.533Z"
   },
   {
    "duration": 37,
    "start_time": "2024-08-04T10:58:29.558Z"
   },
   {
    "duration": 22,
    "start_time": "2024-08-04T10:58:29.597Z"
   },
   {
    "duration": 21,
    "start_time": "2024-08-04T10:58:29.698Z"
   },
   {
    "duration": 493,
    "start_time": "2024-08-04T10:58:29.989Z"
   },
   {
    "duration": 23,
    "start_time": "2024-08-04T10:58:30.484Z"
   },
   {
    "duration": 22,
    "start_time": "2024-08-04T10:58:30.509Z"
   },
   {
    "duration": 21,
    "start_time": "2024-08-04T10:58:30.569Z"
   },
   {
    "duration": 7,
    "start_time": "2024-08-04T10:58:31.049Z"
   },
   {
    "duration": 24,
    "start_time": "2024-08-04T10:58:31.369Z"
   },
   {
    "duration": 53,
    "start_time": "2024-08-04T10:58:31.721Z"
   },
   {
    "duration": 55,
    "start_time": "2024-08-04T10:58:32.592Z"
   },
   {
    "duration": 40,
    "start_time": "2024-08-04T10:58:33.042Z"
   },
   {
    "duration": 119,
    "start_time": "2024-08-04T10:58:33.482Z"
   },
   {
    "duration": 26,
    "start_time": "2024-08-04T10:58:33.976Z"
   },
   {
    "duration": 260,
    "start_time": "2024-08-04T10:58:34.475Z"
   },
   {
    "duration": 273,
    "start_time": "2024-08-04T10:58:34.977Z"
   },
   {
    "duration": 12,
    "start_time": "2024-08-04T10:58:36.632Z"
   },
   {
    "duration": 79,
    "start_time": "2024-08-04T10:58:37.063Z"
   },
   {
    "duration": 149,
    "start_time": "2024-08-04T10:58:38.373Z"
   },
   {
    "duration": 39,
    "start_time": "2024-08-04T10:58:38.716Z"
   },
   {
    "duration": 85,
    "start_time": "2024-08-04T10:58:39.244Z"
   },
   {
    "duration": 48170,
    "start_time": "2024-08-04T10:58:40.902Z"
   },
   {
    "duration": 10,
    "start_time": "2024-08-04T10:59:45.279Z"
   },
   {
    "duration": 24,
    "start_time": "2024-08-04T11:00:36.903Z"
   },
   {
    "duration": 4,
    "start_time": "2024-08-04T11:00:43.648Z"
   },
   {
    "duration": 15,
    "start_time": "2024-08-04T11:01:04.147Z"
   },
   {
    "duration": 4,
    "start_time": "2024-08-04T11:01:05.329Z"
   },
   {
    "duration": 4,
    "start_time": "2024-08-04T11:01:10.657Z"
   },
   {
    "duration": 45634,
    "start_time": "2024-08-04T11:01:14.871Z"
   },
   {
    "duration": 47658,
    "start_time": "2024-08-04T11:03:18.226Z"
   },
   {
    "duration": 47,
    "start_time": "2024-08-04T11:04:21.419Z"
   },
   {
    "duration": 69,
    "start_time": "2024-08-04T11:04:33.646Z"
   },
   {
    "duration": 47,
    "start_time": "2024-08-04T11:04:34.389Z"
   },
   {
    "duration": 14,
    "start_time": "2024-08-04T11:05:07.416Z"
   },
   {
    "duration": 73,
    "start_time": "2024-08-04T11:05:08.108Z"
   },
   {
    "duration": 132,
    "start_time": "2024-08-04T11:05:09.797Z"
   },
   {
    "duration": 39,
    "start_time": "2024-08-04T11:05:12.831Z"
   },
   {
    "duration": 8,
    "start_time": "2024-08-04T11:06:03.385Z"
   },
   {
    "duration": 16,
    "start_time": "2024-08-04T11:06:09.511Z"
   },
   {
    "duration": 3,
    "start_time": "2024-08-04T11:06:11.148Z"
   },
   {
    "duration": 84,
    "start_time": "2024-08-04T11:08:09.310Z"
   },
   {
    "duration": 47688,
    "start_time": "2024-08-04T11:09:38.246Z"
   },
   {
    "duration": 24,
    "start_time": "2024-08-04T11:11:05.159Z"
   },
   {
    "duration": 4,
    "start_time": "2024-08-04T11:11:08.118Z"
   },
   {
    "duration": 4,
    "start_time": "2024-08-04T11:11:11.636Z"
   },
   {
    "duration": 21,
    "start_time": "2024-08-04T11:11:26.558Z"
   },
   {
    "duration": 3,
    "start_time": "2024-08-04T11:11:29.476Z"
   },
   {
    "duration": 3,
    "start_time": "2024-08-04T11:11:32.241Z"
   },
   {
    "duration": 3,
    "start_time": "2024-08-04T11:13:05.964Z"
   },
   {
    "duration": 10,
    "start_time": "2024-08-04T11:14:11.104Z"
   },
   {
    "duration": 2,
    "start_time": "2024-08-04T11:14:19.791Z"
   },
   {
    "duration": 11,
    "start_time": "2024-08-04T11:14:20.755Z"
   },
   {
    "duration": 9,
    "start_time": "2024-08-04T11:14:24.170Z"
   },
   {
    "duration": 15,
    "start_time": "2024-08-04T11:14:34.134Z"
   },
   {
    "duration": 18,
    "start_time": "2024-08-04T11:14:46.039Z"
   },
   {
    "duration": 15,
    "start_time": "2024-08-04T11:14:49.653Z"
   },
   {
    "duration": 1422,
    "start_time": "2024-08-04T11:15:51.256Z"
   },
   {
    "duration": 5,
    "start_time": "2024-08-04T11:15:52.680Z"
   },
   {
    "duration": 19,
    "start_time": "2024-08-04T11:15:52.686Z"
   },
   {
    "duration": 27,
    "start_time": "2024-08-04T11:15:52.707Z"
   },
   {
    "duration": 1128,
    "start_time": "2024-08-04T11:15:52.736Z"
   },
   {
    "duration": 3,
    "start_time": "2024-08-04T11:15:53.865Z"
   },
   {
    "duration": 1013,
    "start_time": "2024-08-04T11:15:53.869Z"
   },
   {
    "duration": 6,
    "start_time": "2024-08-04T11:15:54.884Z"
   },
   {
    "duration": 264,
    "start_time": "2024-08-04T11:15:54.891Z"
   },
   {
    "duration": 426,
    "start_time": "2024-08-04T11:15:55.156Z"
   },
   {
    "duration": 909,
    "start_time": "2024-08-04T11:15:55.584Z"
   },
   {
    "duration": 20,
    "start_time": "2024-08-04T11:15:56.495Z"
   },
   {
    "duration": 21,
    "start_time": "2024-08-04T11:15:56.516Z"
   },
   {
    "duration": 19,
    "start_time": "2024-08-04T11:15:56.538Z"
   },
   {
    "duration": 34,
    "start_time": "2024-08-04T11:15:56.559Z"
   },
   {
    "duration": 22,
    "start_time": "2024-08-04T11:15:56.594Z"
   },
   {
    "duration": 21,
    "start_time": "2024-08-04T11:15:56.618Z"
   },
   {
    "duration": 20,
    "start_time": "2024-08-04T11:15:56.641Z"
   },
   {
    "duration": 20,
    "start_time": "2024-08-04T11:15:56.942Z"
   },
   {
    "duration": 453,
    "start_time": "2024-08-04T11:15:57.245Z"
   },
   {
    "duration": 22,
    "start_time": "2024-08-04T11:15:57.699Z"
   },
   {
    "duration": 47,
    "start_time": "2024-08-04T11:15:57.722Z"
   },
   {
    "duration": 18,
    "start_time": "2024-08-04T11:15:57.890Z"
   },
   {
    "duration": 6,
    "start_time": "2024-08-04T11:15:58.362Z"
   },
   {
    "duration": 22,
    "start_time": "2024-08-04T11:15:58.690Z"
   },
   {
    "duration": 53,
    "start_time": "2024-08-04T11:15:59.016Z"
   },
   {
    "duration": 56,
    "start_time": "2024-08-04T11:15:59.666Z"
   },
   {
    "duration": 40,
    "start_time": "2024-08-04T11:15:59.971Z"
   },
   {
    "duration": 117,
    "start_time": "2024-08-04T11:16:00.442Z"
   },
   {
    "duration": 27,
    "start_time": "2024-08-04T11:16:00.756Z"
   },
   {
    "duration": 258,
    "start_time": "2024-08-04T11:16:01.078Z"
   },
   {
    "duration": 270,
    "start_time": "2024-08-04T11:16:01.412Z"
   },
   {
    "duration": 12,
    "start_time": "2024-08-04T11:16:02.932Z"
   },
   {
    "duration": 81,
    "start_time": "2024-08-04T11:16:04.255Z"
   },
   {
    "duration": 148,
    "start_time": "2024-08-04T11:16:04.426Z"
   },
   {
    "duration": 39,
    "start_time": "2024-08-04T11:16:04.929Z"
   },
   {
    "duration": 83,
    "start_time": "2024-08-04T11:16:05.579Z"
   },
   {
    "duration": 26,
    "start_time": "2024-08-04T11:16:05.971Z"
   },
   {
    "duration": 1407,
    "start_time": "2024-08-04T11:17:55.663Z"
   },
   {
    "duration": 5,
    "start_time": "2024-08-04T11:17:58.383Z"
   },
   {
    "duration": 3,
    "start_time": "2024-08-04T11:17:58.541Z"
   },
   {
    "duration": 2,
    "start_time": "2024-08-04T11:17:58.853Z"
   },
   {
    "duration": 807,
    "start_time": "2024-08-04T11:17:59.247Z"
   },
   {
    "duration": 4,
    "start_time": "2024-08-04T11:18:00.055Z"
   },
   {
    "duration": 1093,
    "start_time": "2024-08-04T11:18:00.060Z"
   },
   {
    "duration": 5,
    "start_time": "2024-08-04T11:18:01.154Z"
   },
   {
    "duration": 310,
    "start_time": "2024-08-04T11:18:01.160Z"
   },
   {
    "duration": 444,
    "start_time": "2024-08-04T11:18:01.471Z"
   },
   {
    "duration": 930,
    "start_time": "2024-08-04T11:18:01.917Z"
   },
   {
    "duration": 20,
    "start_time": "2024-08-04T11:18:02.849Z"
   },
   {
    "duration": 39,
    "start_time": "2024-08-04T11:18:02.961Z"
   },
   {
    "duration": 20,
    "start_time": "2024-08-04T11:18:03.002Z"
   },
   {
    "duration": 20,
    "start_time": "2024-08-04T11:18:04.233Z"
   },
   {
    "duration": 22,
    "start_time": "2024-08-04T11:18:04.255Z"
   },
   {
    "duration": 454,
    "start_time": "2024-08-04T11:18:04.278Z"
   },
   {
    "duration": 23,
    "start_time": "2024-08-04T11:18:04.733Z"
   },
   {
    "duration": 28,
    "start_time": "2024-08-04T11:18:04.758Z"
   },
   {
    "duration": 39,
    "start_time": "2024-08-04T11:18:04.789Z"
   },
   {
    "duration": 23,
    "start_time": "2024-08-04T11:18:04.830Z"
   },
   {
    "duration": 23,
    "start_time": "2024-08-04T11:18:05.104Z"
   },
   {
    "duration": 53,
    "start_time": "2024-08-04T11:18:05.552Z"
   },
   {
    "duration": 56,
    "start_time": "2024-08-04T11:18:06.355Z"
   },
   {
    "duration": 39,
    "start_time": "2024-08-04T11:18:06.995Z"
   },
   {
    "duration": 123,
    "start_time": "2024-08-04T11:18:07.575Z"
   },
   {
    "duration": 33,
    "start_time": "2024-08-04T11:18:07.925Z"
   },
   {
    "duration": 269,
    "start_time": "2024-08-04T11:18:08.356Z"
   },
   {
    "duration": 274,
    "start_time": "2024-08-04T11:18:08.937Z"
   },
   {
    "duration": 11,
    "start_time": "2024-08-04T11:18:10.551Z"
   },
   {
    "duration": 83,
    "start_time": "2024-08-04T11:18:11.174Z"
   },
   {
    "duration": 157,
    "start_time": "2024-08-04T11:18:11.642Z"
   },
   {
    "duration": 38,
    "start_time": "2024-08-04T11:18:12.346Z"
   },
   {
    "duration": 80,
    "start_time": "2024-08-04T11:18:14.755Z"
   },
   {
    "duration": 1322,
    "start_time": "2024-08-04T11:23:17.423Z"
   },
   {
    "duration": 4,
    "start_time": "2024-08-04T11:23:18.747Z"
   },
   {
    "duration": 4,
    "start_time": "2024-08-04T11:23:18.753Z"
   },
   {
    "duration": 2,
    "start_time": "2024-08-04T11:23:19.566Z"
   },
   {
    "duration": 848,
    "start_time": "2024-08-04T11:23:19.995Z"
   },
   {
    "duration": 3,
    "start_time": "2024-08-04T11:23:20.845Z"
   },
   {
    "duration": 1004,
    "start_time": "2024-08-04T11:23:20.849Z"
   },
   {
    "duration": 4,
    "start_time": "2024-08-04T11:23:21.855Z"
   },
   {
    "duration": 288,
    "start_time": "2024-08-04T11:23:21.861Z"
   },
   {
    "duration": 432,
    "start_time": "2024-08-04T11:23:22.150Z"
   },
   {
    "duration": 884,
    "start_time": "2024-08-04T11:23:22.584Z"
   },
   {
    "duration": 25,
    "start_time": "2024-08-04T11:23:23.470Z"
   },
   {
    "duration": 69,
    "start_time": "2024-08-04T11:23:23.497Z"
   },
   {
    "duration": 19,
    "start_time": "2024-08-04T11:23:23.568Z"
   },
   {
    "duration": 19,
    "start_time": "2024-08-04T11:23:23.589Z"
   },
   {
    "duration": 23,
    "start_time": "2024-08-04T11:23:23.609Z"
   },
   {
    "duration": 19,
    "start_time": "2024-08-04T11:23:23.634Z"
   },
   {
    "duration": 20,
    "start_time": "2024-08-04T11:23:23.747Z"
   },
   {
    "duration": 20,
    "start_time": "2024-08-04T11:23:24.055Z"
   },
   {
    "duration": 446,
    "start_time": "2024-08-04T11:23:24.392Z"
   },
   {
    "duration": 22,
    "start_time": "2024-08-04T11:23:24.840Z"
   },
   {
    "duration": 23,
    "start_time": "2024-08-04T11:23:24.863Z"
   },
   {
    "duration": 19,
    "start_time": "2024-08-04T11:23:25.042Z"
   },
   {
    "duration": 5,
    "start_time": "2024-08-04T11:23:25.505Z"
   },
   {
    "duration": 22,
    "start_time": "2024-08-04T11:23:25.827Z"
   },
   {
    "duration": 58,
    "start_time": "2024-08-04T11:23:26.146Z"
   },
   {
    "duration": 53,
    "start_time": "2024-08-04T11:23:26.931Z"
   },
   {
    "duration": 39,
    "start_time": "2024-08-04T11:23:27.256Z"
   },
   {
    "duration": 117,
    "start_time": "2024-08-04T11:23:27.872Z"
   },
   {
    "duration": 26,
    "start_time": "2024-08-04T11:23:28.218Z"
   },
   {
    "duration": 254,
    "start_time": "2024-08-04T11:23:28.648Z"
   },
   {
    "duration": 262,
    "start_time": "2024-08-04T11:23:29.039Z"
   },
   {
    "duration": 12,
    "start_time": "2024-08-04T11:23:30.967Z"
   },
   {
    "duration": 80,
    "start_time": "2024-08-04T11:23:32.670Z"
   },
   {
    "duration": 153,
    "start_time": "2024-08-04T11:23:32.961Z"
   },
   {
    "duration": 40,
    "start_time": "2024-08-04T11:23:35.325Z"
   },
   {
    "duration": 84,
    "start_time": "2024-08-04T11:23:37.910Z"
   },
   {
    "duration": 26,
    "start_time": "2024-08-04T11:23:40.391Z"
   },
   {
    "duration": 80069,
    "start_time": "2024-08-04T11:23:42.162Z"
   },
   {
    "duration": 81,
    "start_time": "2024-08-04T11:25:09.084Z"
   },
   {
    "duration": 473,
    "start_time": "2024-08-04T11:25:28.080Z"
   },
   {
    "duration": 37,
    "start_time": "2024-08-04T11:25:33.450Z"
   },
   {
    "duration": 107,
    "start_time": "2024-08-04T11:25:55.717Z"
   },
   {
    "duration": 3,
    "start_time": "2024-08-04T11:26:08.976Z"
   },
   {
    "duration": 5,
    "start_time": "2024-08-04T11:26:09.333Z"
   },
   {
    "duration": 2,
    "start_time": "2024-08-04T11:26:09.472Z"
   },
   {
    "duration": 2,
    "start_time": "2024-08-04T11:26:09.870Z"
   },
   {
    "duration": 772,
    "start_time": "2024-08-04T11:26:10.183Z"
   },
   {
    "duration": 2,
    "start_time": "2024-08-04T11:26:10.957Z"
   },
   {
    "duration": 1022,
    "start_time": "2024-08-04T11:26:10.960Z"
   },
   {
    "duration": 4,
    "start_time": "2024-08-04T11:26:11.983Z"
   },
   {
    "duration": 273,
    "start_time": "2024-08-04T11:26:11.989Z"
   },
   {
    "duration": 388,
    "start_time": "2024-08-04T11:26:12.264Z"
   },
   {
    "duration": 855,
    "start_time": "2024-08-04T11:26:12.654Z"
   },
   {
    "duration": 20,
    "start_time": "2024-08-04T11:26:13.511Z"
   },
   {
    "duration": 24,
    "start_time": "2024-08-04T11:26:13.532Z"
   },
   {
    "duration": 28,
    "start_time": "2024-08-04T11:26:13.558Z"
   },
   {
    "duration": 19,
    "start_time": "2024-08-04T11:26:13.588Z"
   },
   {
    "duration": 46,
    "start_time": "2024-08-04T11:26:13.608Z"
   },
   {
    "duration": 21,
    "start_time": "2024-08-04T11:26:13.880Z"
   },
   {
    "duration": 20,
    "start_time": "2024-08-04T11:26:14.034Z"
   },
   {
    "duration": 21,
    "start_time": "2024-08-04T11:26:14.344Z"
   },
   {
    "duration": 456,
    "start_time": "2024-08-04T11:26:14.653Z"
   },
   {
    "duration": 22,
    "start_time": "2024-08-04T11:26:15.111Z"
   },
   {
    "duration": 22,
    "start_time": "2024-08-04T11:26:15.134Z"
   },
   {
    "duration": 19,
    "start_time": "2024-08-04T11:26:15.280Z"
   },
   {
    "duration": 5,
    "start_time": "2024-08-04T11:26:15.750Z"
   },
   {
    "duration": 22,
    "start_time": "2024-08-04T11:26:16.139Z"
   },
   {
    "duration": 57,
    "start_time": "2024-08-04T11:26:16.435Z"
   },
   {
    "duration": 40,
    "start_time": "2024-08-04T11:26:17.068Z"
   },
   {
    "duration": 42,
    "start_time": "2024-08-04T11:26:17.351Z"
   },
   {
    "duration": 120,
    "start_time": "2024-08-04T11:26:17.755Z"
   },
   {
    "duration": 29,
    "start_time": "2024-08-04T11:26:18.070Z"
   },
   {
    "duration": 275,
    "start_time": "2024-08-04T11:26:18.375Z"
   },
   {
    "duration": 253,
    "start_time": "2024-08-04T11:26:18.683Z"
   },
   {
    "duration": 14,
    "start_time": "2024-08-04T11:27:09.615Z"
   },
   {
    "duration": 69,
    "start_time": "2024-08-04T11:27:10.129Z"
   },
   {
    "duration": 132,
    "start_time": "2024-08-04T11:27:10.575Z"
   },
   {
    "duration": 39,
    "start_time": "2024-08-04T11:27:10.815Z"
   },
   {
    "duration": 71,
    "start_time": "2024-08-04T11:27:12.042Z"
   },
   {
    "duration": 19,
    "start_time": "2024-08-04T11:27:12.432Z"
   },
   {
    "duration": 1414,
    "start_time": "2024-08-04T11:27:24.970Z"
   },
   {
    "duration": 5,
    "start_time": "2024-08-04T11:27:26.385Z"
   },
   {
    "duration": 7,
    "start_time": "2024-08-04T11:27:26.391Z"
   },
   {
    "duration": 5,
    "start_time": "2024-08-04T11:27:26.400Z"
   },
   {
    "duration": 1088,
    "start_time": "2024-08-04T11:27:26.406Z"
   },
   {
    "duration": 3,
    "start_time": "2024-08-04T11:27:27.495Z"
   },
   {
    "duration": 999,
    "start_time": "2024-08-04T11:27:27.499Z"
   },
   {
    "duration": 5,
    "start_time": "2024-08-04T11:27:28.500Z"
   },
   {
    "duration": 268,
    "start_time": "2024-08-04T11:27:28.506Z"
   },
   {
    "duration": 438,
    "start_time": "2024-08-04T11:27:28.775Z"
   },
   {
    "duration": 867,
    "start_time": "2024-08-04T11:27:29.215Z"
   },
   {
    "duration": 22,
    "start_time": "2024-08-04T11:27:30.084Z"
   },
   {
    "duration": 46,
    "start_time": "2024-08-04T11:27:30.107Z"
   },
   {
    "duration": 39,
    "start_time": "2024-08-04T11:27:30.155Z"
   },
   {
    "duration": 62,
    "start_time": "2024-08-04T11:27:30.196Z"
   },
   {
    "duration": 89,
    "start_time": "2024-08-04T11:27:30.260Z"
   },
   {
    "duration": 85,
    "start_time": "2024-08-04T11:27:30.350Z"
   },
   {
    "duration": 128,
    "start_time": "2024-08-04T11:27:30.437Z"
   },
   {
    "duration": 80,
    "start_time": "2024-08-04T11:27:30.567Z"
   },
   {
    "duration": 503,
    "start_time": "2024-08-04T11:27:30.648Z"
   },
   {
    "duration": 31,
    "start_time": "2024-08-04T11:27:31.152Z"
   },
   {
    "duration": 61,
    "start_time": "2024-08-04T11:27:31.185Z"
   },
   {
    "duration": 19,
    "start_time": "2024-08-04T11:27:31.510Z"
   },
   {
    "duration": 6,
    "start_time": "2024-08-04T11:27:32.008Z"
   },
   {
    "duration": 24,
    "start_time": "2024-08-04T11:27:32.329Z"
   },
   {
    "duration": 56,
    "start_time": "2024-08-04T11:27:32.650Z"
   },
   {
    "duration": 54,
    "start_time": "2024-08-04T11:27:33.243Z"
   },
   {
    "duration": 40,
    "start_time": "2024-08-04T11:27:33.751Z"
   },
   {
    "duration": 118,
    "start_time": "2024-08-04T11:27:34.320Z"
   },
   {
    "duration": 26,
    "start_time": "2024-08-04T11:27:34.788Z"
   },
   {
    "duration": 251,
    "start_time": "2024-08-04T11:27:35.104Z"
   },
   {
    "duration": 282,
    "start_time": "2024-08-04T11:27:35.542Z"
   },
   {
    "duration": 11,
    "start_time": "2024-08-04T11:27:37.144Z"
   },
   {
    "duration": 77,
    "start_time": "2024-08-04T11:27:37.678Z"
   },
   {
    "duration": 151,
    "start_time": "2024-08-04T11:27:38.523Z"
   },
   {
    "duration": 38,
    "start_time": "2024-08-04T11:27:38.831Z"
   },
   {
    "duration": 84,
    "start_time": "2024-08-04T11:27:39.495Z"
   },
   {
    "duration": 25,
    "start_time": "2024-08-04T11:27:40.102Z"
   },
   {
    "duration": 80273,
    "start_time": "2024-08-04T11:27:40.670Z"
   },
   {
    "duration": 13,
    "start_time": "2024-08-04T11:29:53.330Z"
   },
   {
    "duration": 4,
    "start_time": "2024-08-04T11:29:54.272Z"
   },
   {
    "duration": 245,
    "start_time": "2024-08-04T11:29:55.164Z"
   },
   {
    "duration": 7686,
    "start_time": "2024-08-04T11:29:56.657Z"
   },
   {
    "duration": 86832,
    "start_time": "2024-08-04T11:30:10.958Z"
   },
   {
    "duration": 3,
    "start_time": "2024-08-04T11:31:42.184Z"
   },
   {
    "duration": 10032,
    "start_time": "2024-08-04T11:31:45.431Z"
   },
   {
    "duration": 84,
    "start_time": "2024-08-04T11:31:58.489Z"
   },
   {
    "duration": 15,
    "start_time": "2024-08-04T11:31:59.654Z"
   },
   {
    "duration": 82,
    "start_time": "2024-08-04T11:32:03.614Z"
   },
   {
    "duration": 39568,
    "start_time": "2024-08-04T11:32:13.623Z"
   },
   {
    "duration": 3,
    "start_time": "2024-08-04T11:32:53.192Z"
   },
   {
    "duration": 3693,
    "start_time": "2024-08-04T11:32:53.196Z"
   },
   {
    "duration": 408,
    "start_time": "2024-08-04T11:32:56.890Z"
   },
   {
    "duration": 500,
    "start_time": "2024-08-04T11:32:57.299Z"
   },
   {
    "duration": 14,
    "start_time": "2024-08-04T11:32:57.801Z"
   },
   {
    "duration": 14466,
    "start_time": "2024-08-04T11:32:57.817Z"
   },
   {
    "duration": 2,
    "start_time": "2024-08-04T11:33:12.284Z"
   },
   {
    "duration": 497,
    "start_time": "2024-08-04T11:33:12.288Z"
   },
   {
    "duration": 195,
    "start_time": "2024-08-04T11:33:12.788Z"
   },
   {
    "duration": 0,
    "start_time": "2024-08-04T11:33:12.984Z"
   },
   {
    "duration": 3,
    "start_time": "2024-08-04T11:33:18.029Z"
   },
   {
    "duration": 5300,
    "start_time": "2024-08-04T11:33:19.083Z"
   },
   {
    "duration": 702,
    "start_time": "2024-08-04T11:33:24.385Z"
   },
   {
    "duration": 703,
    "start_time": "2024-08-04T11:33:25.089Z"
   },
   {
    "duration": 14,
    "start_time": "2024-08-04T11:33:27.674Z"
   },
   {
    "duration": 14560,
    "start_time": "2024-08-04T11:33:28.231Z"
   },
   {
    "duration": 3,
    "start_time": "2024-08-04T11:33:42.883Z"
   },
   {
    "duration": 50,
    "start_time": "2024-08-04T11:33:45.434Z"
   },
   {
    "duration": 19,
    "start_time": "2024-08-04T11:33:45.959Z"
   },
   {
    "duration": 1349,
    "start_time": "2024-08-04T11:35:37.212Z"
   },
   {
    "duration": 4,
    "start_time": "2024-08-04T11:35:38.563Z"
   },
   {
    "duration": 4,
    "start_time": "2024-08-04T11:35:38.568Z"
   },
   {
    "duration": 3,
    "start_time": "2024-08-04T11:35:38.581Z"
   },
   {
    "duration": 827,
    "start_time": "2024-08-04T11:35:38.585Z"
   },
   {
    "duration": 3,
    "start_time": "2024-08-04T11:35:39.413Z"
   },
   {
    "duration": 1128,
    "start_time": "2024-08-04T11:35:39.418Z"
   },
   {
    "duration": 5,
    "start_time": "2024-08-04T11:35:40.547Z"
   },
   {
    "duration": 284,
    "start_time": "2024-08-04T11:35:40.554Z"
   },
   {
    "duration": 604,
    "start_time": "2024-08-04T11:35:40.840Z"
   },
   {
    "duration": 910,
    "start_time": "2024-08-04T11:35:41.446Z"
   },
   {
    "duration": 29,
    "start_time": "2024-08-04T11:35:42.358Z"
   },
   {
    "duration": 23,
    "start_time": "2024-08-04T11:35:42.388Z"
   },
   {
    "duration": 20,
    "start_time": "2024-08-04T11:35:42.414Z"
   },
   {
    "duration": 19,
    "start_time": "2024-08-04T11:35:42.435Z"
   },
   {
    "duration": 40,
    "start_time": "2024-08-04T11:35:42.455Z"
   },
   {
    "duration": 20,
    "start_time": "2024-08-04T11:35:42.496Z"
   },
   {
    "duration": 22,
    "start_time": "2024-08-04T11:35:42.518Z"
   },
   {
    "duration": 32,
    "start_time": "2024-08-04T11:35:42.541Z"
   },
   {
    "duration": 455,
    "start_time": "2024-08-04T11:35:42.582Z"
   },
   {
    "duration": 24,
    "start_time": "2024-08-04T11:35:43.038Z"
   },
   {
    "duration": 33,
    "start_time": "2024-08-04T11:35:43.063Z"
   },
   {
    "duration": 19,
    "start_time": "2024-08-04T11:35:43.097Z"
   },
   {
    "duration": 9,
    "start_time": "2024-08-04T11:35:43.118Z"
   },
   {
    "duration": 27,
    "start_time": "2024-08-04T11:35:43.128Z"
   },
   {
    "duration": 77,
    "start_time": "2024-08-04T11:35:43.157Z"
   },
   {
    "duration": 65,
    "start_time": "2024-08-04T11:35:43.235Z"
   },
   {
    "duration": 40,
    "start_time": "2024-08-04T11:35:43.301Z"
   },
   {
    "duration": 127,
    "start_time": "2024-08-04T11:35:43.343Z"
   },
   {
    "duration": 39,
    "start_time": "2024-08-04T11:35:43.471Z"
   },
   {
    "duration": 274,
    "start_time": "2024-08-04T11:35:43.512Z"
   },
   {
    "duration": 282,
    "start_time": "2024-08-04T11:35:43.787Z"
   },
   {
    "duration": 20,
    "start_time": "2024-08-04T11:35:44.070Z"
   },
   {
    "duration": 90,
    "start_time": "2024-08-04T11:35:44.092Z"
   },
   {
    "duration": 160,
    "start_time": "2024-08-04T11:35:44.183Z"
   },
   {
    "duration": 42,
    "start_time": "2024-08-04T11:35:44.345Z"
   },
   {
    "duration": 83,
    "start_time": "2024-08-04T11:35:44.388Z"
   },
   {
    "duration": 25,
    "start_time": "2024-08-04T11:35:44.481Z"
   },
   {
    "duration": 88888,
    "start_time": "2024-08-04T11:35:44.507Z"
   },
   {
    "duration": 13,
    "start_time": "2024-08-04T11:37:13.396Z"
   },
   {
    "duration": 4,
    "start_time": "2024-08-04T11:37:13.412Z"
   },
   {
    "duration": 255,
    "start_time": "2024-08-04T11:37:13.417Z"
   },
   {
    "duration": 87337,
    "start_time": "2024-08-04T11:37:13.674Z"
   },
   {
    "duration": 3,
    "start_time": "2024-08-04T11:38:41.012Z"
   },
   {
    "duration": 10027,
    "start_time": "2024-08-04T11:38:41.016Z"
   },
   {
    "duration": 82,
    "start_time": "2024-08-04T11:38:51.044Z"
   },
   {
    "duration": 84,
    "start_time": "2024-08-04T11:38:51.128Z"
   },
   {
    "duration": 40779,
    "start_time": "2024-08-04T11:38:51.214Z"
   },
   {
    "duration": 3,
    "start_time": "2024-08-04T11:39:31.995Z"
   },
   {
    "duration": 6691,
    "start_time": "2024-08-04T11:39:31.999Z"
   },
   {
    "duration": 791,
    "start_time": "2024-08-04T11:39:38.691Z"
   },
   {
    "duration": 702,
    "start_time": "2024-08-04T11:39:39.484Z"
   },
   {
    "duration": 15801,
    "start_time": "2024-08-04T11:39:40.188Z"
   },
   {
    "duration": 498,
    "start_time": "2024-08-04T11:39:55.991Z"
   },
   {
    "duration": 1416,
    "start_time": "2024-08-04T11:39:56.491Z"
   },
   {
    "duration": 0,
    "start_time": "2024-08-04T11:39:57.909Z"
   },
   {
    "duration": 0,
    "start_time": "2024-08-04T11:39:57.910Z"
   },
   {
    "duration": 0,
    "start_time": "2024-08-04T11:39:57.911Z"
   },
   {
    "duration": 0,
    "start_time": "2024-08-04T11:39:57.912Z"
   },
   {
    "duration": 0,
    "start_time": "2024-08-04T11:39:57.913Z"
   },
   {
    "duration": 0,
    "start_time": "2024-08-04T11:39:57.914Z"
   },
   {
    "duration": 0,
    "start_time": "2024-08-04T11:39:57.915Z"
   },
   {
    "duration": 1392,
    "start_time": "2024-08-04T11:40:37.568Z"
   },
   {
    "duration": 5,
    "start_time": "2024-08-04T11:40:38.962Z"
   },
   {
    "duration": 13,
    "start_time": "2024-08-04T11:40:38.969Z"
   },
   {
    "duration": 5,
    "start_time": "2024-08-04T11:40:38.983Z"
   },
   {
    "duration": 805,
    "start_time": "2024-08-04T11:40:38.990Z"
   },
   {
    "duration": 3,
    "start_time": "2024-08-04T11:40:39.796Z"
   },
   {
    "duration": 1058,
    "start_time": "2024-08-04T11:40:39.801Z"
   },
   {
    "duration": 4,
    "start_time": "2024-08-04T11:40:40.861Z"
   },
   {
    "duration": 259,
    "start_time": "2024-08-04T11:40:40.866Z"
   },
   {
    "duration": 424,
    "start_time": "2024-08-04T11:40:41.126Z"
   },
   {
    "duration": 873,
    "start_time": "2024-08-04T11:40:41.552Z"
   },
   {
    "duration": 23,
    "start_time": "2024-08-04T11:40:42.427Z"
   },
   {
    "duration": 37,
    "start_time": "2024-08-04T11:40:42.452Z"
   },
   {
    "duration": 19,
    "start_time": "2024-08-04T11:40:42.492Z"
   },
   {
    "duration": 22,
    "start_time": "2024-08-04T11:40:42.512Z"
   },
   {
    "duration": 23,
    "start_time": "2024-08-04T11:40:42.536Z"
   },
   {
    "duration": 32,
    "start_time": "2024-08-04T11:40:42.561Z"
   },
   {
    "duration": 22,
    "start_time": "2024-08-04T11:40:42.594Z"
   },
   {
    "duration": 21,
    "start_time": "2024-08-04T11:40:42.617Z"
   },
   {
    "duration": 463,
    "start_time": "2024-08-04T11:40:42.639Z"
   },
   {
    "duration": 22,
    "start_time": "2024-08-04T11:40:43.104Z"
   },
   {
    "duration": 20,
    "start_time": "2024-08-04T11:40:43.127Z"
   },
   {
    "duration": 37,
    "start_time": "2024-08-04T11:40:43.149Z"
   },
   {
    "duration": 6,
    "start_time": "2024-08-04T11:40:43.187Z"
   },
   {
    "duration": 26,
    "start_time": "2024-08-04T11:40:43.195Z"
   },
   {
    "duration": 80,
    "start_time": "2024-08-04T11:40:43.223Z"
   },
   {
    "duration": 53,
    "start_time": "2024-08-04T11:40:43.304Z"
   },
   {
    "duration": 51,
    "start_time": "2024-08-04T11:40:43.359Z"
   },
   {
    "duration": 121,
    "start_time": "2024-08-04T11:40:43.412Z"
   },
   {
    "duration": 25,
    "start_time": "2024-08-04T11:40:43.534Z"
   },
   {
    "duration": 263,
    "start_time": "2024-08-04T11:40:43.561Z"
   },
   {
    "duration": 263,
    "start_time": "2024-08-04T11:40:43.825Z"
   },
   {
    "duration": 12,
    "start_time": "2024-08-04T11:40:44.089Z"
   },
   {
    "duration": 95,
    "start_time": "2024-08-04T11:40:44.103Z"
   },
   {
    "duration": 151,
    "start_time": "2024-08-04T11:40:44.200Z"
   },
   {
    "duration": 45,
    "start_time": "2024-08-04T11:40:44.353Z"
   },
   {
    "duration": 83,
    "start_time": "2024-08-04T11:40:44.400Z"
   },
   {
    "duration": 24,
    "start_time": "2024-08-04T11:40:44.484Z"
   },
   {
    "duration": 86818,
    "start_time": "2024-08-04T11:40:44.510Z"
   },
   {
    "duration": 13,
    "start_time": "2024-08-04T11:42:11.330Z"
   },
   {
    "duration": 3,
    "start_time": "2024-08-04T11:42:11.348Z"
   },
   {
    "duration": 270,
    "start_time": "2024-08-04T11:42:11.353Z"
   },
   {
    "duration": 86446,
    "start_time": "2024-08-04T11:42:11.624Z"
   },
   {
    "duration": 3,
    "start_time": "2024-08-04T11:43:38.071Z"
   },
   {
    "duration": 10051,
    "start_time": "2024-08-04T11:43:38.076Z"
   },
   {
    "duration": 84,
    "start_time": "2024-08-04T11:43:48.129Z"
   },
   {
    "duration": 93,
    "start_time": "2024-08-04T11:43:48.214Z"
   },
   {
    "duration": 39681,
    "start_time": "2024-08-04T11:43:48.309Z"
   },
   {
    "duration": 3,
    "start_time": "2024-08-04T11:44:27.991Z"
   },
   {
    "duration": 5494,
    "start_time": "2024-08-04T11:44:27.995Z"
   },
   {
    "duration": 712,
    "start_time": "2024-08-04T11:44:33.490Z"
   },
   {
    "duration": 786,
    "start_time": "2024-08-04T11:44:34.203Z"
   },
   {
    "duration": 14897,
    "start_time": "2024-08-04T11:44:34.991Z"
   },
   {
    "duration": 501,
    "start_time": "2024-08-04T11:44:49.890Z"
   },
   {
    "duration": 297,
    "start_time": "2024-08-04T11:44:50.484Z"
   },
   {
    "duration": 5,
    "start_time": "2024-08-04T11:44:50.783Z"
   },
   {
    "duration": 101,
    "start_time": "2024-08-04T11:44:50.791Z"
   },
   {
    "duration": 87749,
    "start_time": "2024-08-04T11:44:50.893Z"
   },
   {
    "duration": 0,
    "start_time": "2024-08-04T11:46:18.643Z"
   },
   {
    "duration": 0,
    "start_time": "2024-08-04T11:46:18.645Z"
   },
   {
    "duration": 0,
    "start_time": "2024-08-04T11:46:18.646Z"
   },
   {
    "duration": 0,
    "start_time": "2024-08-04T11:46:18.647Z"
   },
   {
    "duration": 1371,
    "start_time": "2024-08-04T11:46:41.780Z"
   },
   {
    "duration": 4,
    "start_time": "2024-08-04T11:46:43.153Z"
   },
   {
    "duration": 19,
    "start_time": "2024-08-04T11:46:43.159Z"
   },
   {
    "duration": 7,
    "start_time": "2024-08-04T11:46:43.180Z"
   },
   {
    "duration": 825,
    "start_time": "2024-08-04T11:46:43.188Z"
   },
   {
    "duration": 3,
    "start_time": "2024-08-04T11:46:44.014Z"
   },
   {
    "duration": 1030,
    "start_time": "2024-08-04T11:46:44.018Z"
   },
   {
    "duration": 4,
    "start_time": "2024-08-04T11:46:45.050Z"
   },
   {
    "duration": 308,
    "start_time": "2024-08-04T11:46:45.056Z"
   },
   {
    "duration": 437,
    "start_time": "2024-08-04T11:46:45.366Z"
   },
   {
    "duration": 877,
    "start_time": "2024-08-04T11:46:45.805Z"
   },
   {
    "duration": 21,
    "start_time": "2024-08-04T11:46:46.684Z"
   },
   {
    "duration": 22,
    "start_time": "2024-08-04T11:46:46.706Z"
   },
   {
    "duration": 22,
    "start_time": "2024-08-04T11:46:46.731Z"
   },
   {
    "duration": 41,
    "start_time": "2024-08-04T11:46:46.754Z"
   },
   {
    "duration": 34,
    "start_time": "2024-08-04T11:46:46.797Z"
   },
   {
    "duration": 26,
    "start_time": "2024-08-04T11:46:46.832Z"
   },
   {
    "duration": 23,
    "start_time": "2024-08-04T11:46:46.860Z"
   },
   {
    "duration": 23,
    "start_time": "2024-08-04T11:46:46.884Z"
   },
   {
    "duration": 452,
    "start_time": "2024-08-04T11:46:46.908Z"
   },
   {
    "duration": 29,
    "start_time": "2024-08-04T11:46:47.362Z"
   },
   {
    "duration": 20,
    "start_time": "2024-08-04T11:46:47.392Z"
   },
   {
    "duration": 20,
    "start_time": "2024-08-04T11:46:47.413Z"
   },
   {
    "duration": 7,
    "start_time": "2024-08-04T11:46:47.434Z"
   },
   {
    "duration": 46,
    "start_time": "2024-08-04T11:46:47.442Z"
   },
   {
    "duration": 56,
    "start_time": "2024-08-04T11:46:47.490Z"
   },
   {
    "duration": 70,
    "start_time": "2024-08-04T11:46:47.548Z"
   },
   {
    "duration": 40,
    "start_time": "2024-08-04T11:46:47.620Z"
   },
   {
    "duration": 130,
    "start_time": "2024-08-04T11:46:47.662Z"
   },
   {
    "duration": 26,
    "start_time": "2024-08-04T11:46:47.794Z"
   },
   {
    "duration": 268,
    "start_time": "2024-08-04T11:46:47.822Z"
   },
   {
    "duration": 277,
    "start_time": "2024-08-04T11:46:48.091Z"
   },
   {
    "duration": 19,
    "start_time": "2024-08-04T11:46:48.370Z"
   },
   {
    "duration": 77,
    "start_time": "2024-08-04T11:46:48.391Z"
   },
   {
    "duration": 168,
    "start_time": "2024-08-04T11:46:48.470Z"
   },
   {
    "duration": 43,
    "start_time": "2024-08-04T11:46:48.639Z"
   },
   {
    "duration": 80,
    "start_time": "2024-08-04T11:46:48.683Z"
   },
   {
    "duration": 32,
    "start_time": "2024-08-04T11:46:48.764Z"
   },
   {
    "duration": 87518,
    "start_time": "2024-08-04T11:46:48.798Z"
   },
   {
    "duration": 12,
    "start_time": "2024-08-04T11:48:16.318Z"
   },
   {
    "duration": 3,
    "start_time": "2024-08-04T11:48:16.333Z"
   },
   {
    "duration": 265,
    "start_time": "2024-08-04T11:48:16.338Z"
   },
   {
    "duration": 2281,
    "start_time": "2024-08-04T16:13:30.015Z"
   },
   {
    "duration": 10,
    "start_time": "2024-08-04T16:13:32.298Z"
   },
   {
    "duration": 15,
    "start_time": "2024-08-04T16:13:32.310Z"
   },
   {
    "duration": 9,
    "start_time": "2024-08-04T16:13:32.328Z"
   },
   {
    "duration": 1127,
    "start_time": "2024-08-04T16:13:32.339Z"
   },
   {
    "duration": 3,
    "start_time": "2024-08-04T16:13:33.467Z"
   },
   {
    "duration": 1067,
    "start_time": "2024-08-04T16:13:33.472Z"
   },
   {
    "duration": 5,
    "start_time": "2024-08-04T16:13:34.540Z"
   },
   {
    "duration": 271,
    "start_time": "2024-08-04T16:13:34.547Z"
   },
   {
    "duration": 465,
    "start_time": "2024-08-04T16:13:34.821Z"
   },
   {
    "duration": 994,
    "start_time": "2024-08-04T16:13:35.296Z"
   },
   {
    "duration": 21,
    "start_time": "2024-08-04T16:13:36.295Z"
   },
   {
    "duration": 35,
    "start_time": "2024-08-04T16:13:36.318Z"
   },
   {
    "duration": 23,
    "start_time": "2024-08-04T16:13:36.354Z"
   },
   {
    "duration": 35,
    "start_time": "2024-08-04T16:13:36.378Z"
   },
   {
    "duration": 25,
    "start_time": "2024-08-04T16:13:36.415Z"
   },
   {
    "duration": 21,
    "start_time": "2024-08-04T16:13:36.442Z"
   },
   {
    "duration": 37,
    "start_time": "2024-08-04T16:13:36.464Z"
   },
   {
    "duration": 21,
    "start_time": "2024-08-04T16:13:36.503Z"
   },
   {
    "duration": 481,
    "start_time": "2024-08-04T16:13:36.526Z"
   },
   {
    "duration": 23,
    "start_time": "2024-08-04T16:13:37.009Z"
   },
   {
    "duration": 36,
    "start_time": "2024-08-04T16:13:37.033Z"
   },
   {
    "duration": 33,
    "start_time": "2024-08-04T16:13:37.070Z"
   },
   {
    "duration": 6,
    "start_time": "2024-08-04T16:13:37.104Z"
   },
   {
    "duration": 22,
    "start_time": "2024-08-04T16:13:37.112Z"
   },
   {
    "duration": 79,
    "start_time": "2024-08-04T16:13:37.135Z"
   },
   {
    "duration": 68,
    "start_time": "2024-08-04T16:13:37.216Z"
   },
   {
    "duration": 50,
    "start_time": "2024-08-04T16:13:37.297Z"
   },
   {
    "duration": 137,
    "start_time": "2024-08-04T16:13:37.348Z"
   },
   {
    "duration": 36,
    "start_time": "2024-08-04T16:13:37.486Z"
   },
   {
    "duration": 278,
    "start_time": "2024-08-04T16:13:37.524Z"
   },
   {
    "duration": 297,
    "start_time": "2024-08-04T16:13:37.803Z"
   },
   {
    "duration": 12,
    "start_time": "2024-08-04T16:13:38.102Z"
   },
   {
    "duration": 112,
    "start_time": "2024-08-04T16:13:38.115Z"
   },
   {
    "duration": 170,
    "start_time": "2024-08-04T16:13:38.229Z"
   },
   {
    "duration": 42,
    "start_time": "2024-08-04T16:13:38.401Z"
   },
   {
    "duration": 100,
    "start_time": "2024-08-04T16:13:38.444Z"
   },
   {
    "duration": 26,
    "start_time": "2024-08-04T16:13:38.545Z"
   },
   {
    "duration": 98779,
    "start_time": "2024-08-04T16:13:38.572Z"
   },
   {
    "duration": 14,
    "start_time": "2024-08-04T16:15:17.353Z"
   },
   {
    "duration": 4,
    "start_time": "2024-08-04T16:15:17.369Z"
   },
   {
    "duration": 283,
    "start_time": "2024-08-04T16:15:17.374Z"
   },
   {
    "duration": 96054,
    "start_time": "2024-08-04T16:15:17.659Z"
   },
   {
    "duration": 3,
    "start_time": "2024-08-04T16:16:53.714Z"
   },
   {
    "duration": 11166,
    "start_time": "2024-08-04T16:16:53.719Z"
   },
   {
    "duration": 93,
    "start_time": "2024-08-04T16:17:04.887Z"
   },
   {
    "duration": 94,
    "start_time": "2024-08-04T16:17:04.981Z"
   },
   {
    "duration": 1598422,
    "start_time": "2024-08-04T16:17:05.077Z"
   },
   {
    "duration": 0,
    "start_time": "2024-08-04T16:43:43.506Z"
   },
   {
    "duration": 0,
    "start_time": "2024-08-04T16:43:43.507Z"
   },
   {
    "duration": 0,
    "start_time": "2024-08-04T16:43:43.508Z"
   },
   {
    "duration": 0,
    "start_time": "2024-08-04T16:43:43.509Z"
   },
   {
    "duration": 0,
    "start_time": "2024-08-04T16:43:43.511Z"
   },
   {
    "duration": 0,
    "start_time": "2024-08-04T16:43:43.512Z"
   },
   {
    "duration": 0,
    "start_time": "2024-08-04T16:43:43.514Z"
   },
   {
    "duration": 0,
    "start_time": "2024-08-04T16:43:43.515Z"
   },
   {
    "duration": 0,
    "start_time": "2024-08-04T16:43:43.516Z"
   },
   {
    "duration": 0,
    "start_time": "2024-08-04T16:43:43.519Z"
   },
   {
    "duration": 26030,
    "start_time": "2024-08-04T16:43:52.291Z"
   },
   {
    "duration": 503,
    "start_time": "2024-08-04T16:44:18.399Z"
   },
   {
    "duration": 221,
    "start_time": "2024-08-04T16:44:18.906Z"
   },
   {
    "duration": 76,
    "start_time": "2024-08-04T16:44:19.129Z"
   },
   {
    "duration": 92,
    "start_time": "2024-08-04T16:44:19.209Z"
   },
   {
    "duration": 0,
    "start_time": "2024-08-04T16:44:19.308Z"
   },
   {
    "duration": 278379,
    "start_time": "2024-08-04T16:45:02.041Z"
   },
   {
    "duration": 800,
    "start_time": "2024-08-04T16:49:40.421Z"
   }
  ],
  "kernelspec": {
   "display_name": "Python 3 (ipykernel)",
   "language": "python",
   "name": "python3"
  },
  "language_info": {
   "codemirror_mode": {
    "name": "ipython",
    "version": 3
   },
   "file_extension": ".py",
   "mimetype": "text/x-python",
   "name": "python",
   "nbconvert_exporter": "python",
   "pygments_lexer": "ipython3",
   "version": "3.9.5"
  },
  "toc": {
   "base_numbering": 1,
   "nav_menu": {},
   "number_sections": true,
   "sideBar": true,
   "skip_h1_title": true,
   "title_cell": "Table of Contents",
   "title_sidebar": "Contents",
   "toc_cell": false,
   "toc_position": {},
   "toc_section_display": true,
   "toc_window_display": false
  }
 },
 "nbformat": 4,
 "nbformat_minor": 2
}
