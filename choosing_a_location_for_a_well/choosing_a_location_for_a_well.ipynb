{
 "cells": [
  {
   "cell_type": "markdown",
   "metadata": {},
   "source": [
    "Привет, меня зовут Артем. Сегодня я проверю твой проект.\n",
    "<br> Дальнейшее общение будет происходить на \"ты\" если это не вызывает никаких проблем.\n",
    "<br> Желательно реагировать на каждый мой комментарий ('исправил', 'не понятно как исправить ошибку', ...)\n",
    "<br> Пожалуйста, не удаляй комментарии ревьюера, так как они повышают качество повторного ревью.\n",
    "\n",
    "Комментарии будут в <font color='green'>зеленой</font>, <font color='blue'>синей</font> или <font color='red'>красной</font> рамках:\n",
    "\n",
    "<div class=\"alert alert-block alert-success\">\n",
    "<b>Успех:</b> Если все сделано отлично\n",
    "</div>\n",
    "\n",
    "<div class=\"alert alert-block alert-info\">\n",
    "<b>Совет: </b> Если можно немного улучшить\n",
    "</div>\n",
    "\n",
    "<div class=\"alert alert-block alert-danger\">\n",
    "<b>Ошибка:</b> Если требуются исправления. Работа не может быть принята с красными комментариями.\n",
    "</div>\n",
    "\n",
    "-------------------\n",
    "\n",
    "Будет очень хорошо, если ты будешь помечать свои действия следующим образом:\n",
    "<div class=\"alert alert-block alert-warning\">\n",
    "<b>Комментарий студента:</b> ...\n",
    "</div>\n",
    "\n",
    "<div class=\"alert alert-block alert-warning\">\n",
    "<b>Изменения:</b> Были внесены следующие изменения ...\n",
    "</div>\n",
    "\n",
    "### <font color='orange'>Общее впечатление</font>\n",
    "* Большое спасибо за проделанную работу. Видно, что приложено много усилий.\n",
    "* Выводы и рассуждения получились содержательными, их было интересно читать.\n",
    "* Радует, что тебе удалось разобраться с техникой бутстрапа.\n",
    "* Отлично, что доверительный интервал и риск убытков посчитаны верно.\n",
    "* Редко, кто сдает эту работу с первого раза, молодец!\n",
    "* Проект может быть зачтен, но я его отправлю назад, чтобы у тебя была возможность задать вопросы и внести правки, при желании. Однако, ты можешь просто вернуть проект в таком же виде и я его зачту."
   ]
  },
  {
   "cell_type": "markdown",
   "metadata": {},
   "source": [
    "### <font color='orange'>Общее впечатление (ревью 2)</font>\n",
    "* Проект зачтен!\n",
    "* Удачи в дальнейшем обучении и следующих работах!"
   ]
  },
  {
   "cell_type": "markdown",
   "metadata": {},
   "source": [
    "# Выбор локации для скважины компании «ГлавРосГосНефть».\n",
    "\n",
    "__Описание проекта:__ Нужно решить, где бурить новую скважину.\n",
    "Шаги для выбора локации обычно такие:\n",
    "\n",
    "    В избранном регионе собирают характеристики для скважин: качество нефти и объём её запасов;\n",
    "    Строят модель для предсказания объёма запасов в новых скважинах;\n",
    "    Выбирают скважины с самыми высокими оценками значений;\n",
    "    Определяют регион с максимальной суммарной прибылью отобранных скважин.\n",
    "\n",
    "Вам предоставлены пробы нефти в трёх регионах. Характеристики для каждой скважины в регионе уже известны. Постройте модель для определения региона, где добыча принесёт наибольшую прибыль. Проанализируйте возможную прибыль и риски техникой Bootstrap.\n",
    "\n",
    "__Цель исследования:__ Выбрать на основе лучших месторождений регион для новой скважины компании «ГлавРосГосНефть».\n",
    "\n",
    "__Ход исследования__ Исследование включает в себя следующие этапы:\n",
    "\n",
    "Подготовка данных на представленных датасетах \n",
    "Обучение линейной модели \n",
    "Расчитать риски и прибыль для каждого региона\n",
    "\n",
    "__Содержание__\n",
    "\n",
    "1. [Загрузка и подготовка данных](#1) \n",
    "2. [Обучение и проверка модели](#2) \n",
    "3. [Подготовка к расчёту прибыли](#3)\n",
    "4. [Расчёт прибыли и рисков](#4)\n",
    "5. [Чек-лист готовности проекта](#5)"
   ]
  },
  {
   "cell_type": "code",
   "execution_count": 1,
   "metadata": {},
   "outputs": [],
   "source": [
    "import pandas as pd\n",
    "import numpy as np\n",
    "import matplotlib.pyplot as plt \n",
    "import itertools\n",
    "from sklearn.model_selection import train_test_split\n",
    "from sklearn.linear_model import LinearRegression\n",
    "from sklearn.preprocessing import StandardScaler\n",
    "from sklearn.metrics import mean_squared_error\n",
    "from numpy.random import RandomState\n",
    "\n",
    "RANDOM_STATE = 42"
   ]
  },
  {
   "cell_type": "markdown",
   "metadata": {},
   "source": [
    "<div class=\"alert alert-block alert-success\">\n",
    "<b>Успех:</b> Отлично, что все импорты собраны в первой ячейке ноутбука! Если у того, кто будет запускать твой ноутбук будут отсутствовать некоторые библиотеки, то он это увидит сразу, а не в процессе!\n",
    "</div>"
   ]
  },
  {
   "cell_type": "code",
   "execution_count": 2,
   "metadata": {},
   "outputs": [],
   "source": [
    "def data_exploration_func(df):\n",
    "    print('=========================')\n",
    "    print('Датасет', df.name)\n",
    "    display(df.head(10))\n",
    "    df.info()\n",
    "    display(df.describe(include='all')) "
   ]
  },
  {
   "cell_type": "code",
   "execution_count": 3,
   "metadata": {},
   "outputs": [],
   "source": [
    "def num_func(df):\n",
    "    numeric_cols = df.select_dtypes(include='number').columns\n",
    "\n",
    "    num_plots = len(numeric_cols)\n",
    "    plt.figure(figsize=(10, 5 * num_plots))\n",
    "    \n",
    "    for i, col in enumerate(numeric_cols):\n",
    "        plt.subplot(num_plots, 2, 2*i + 1)\n",
    "        df[col].hist(bins=15)\n",
    "        plt.title(f'Гистограмма для {col}')\n",
    "        plt.xlabel(col)\n",
    "        plt.ylabel('Frequency')\n",
    "        plt.subplot(num_plots, 2, 2*i + 2)\n",
    "        df.boxplot(column=col)\n",
    "        plt.title(f'Диаграмма размаха {col}')\n",
    "        \n",
    "    plt.tight_layout()\n",
    "    plt.show()"
   ]
  },
  {
   "cell_type": "markdown",
   "metadata": {},
   "source": [
    "<a id=\"1\"></a>\n",
    "## Загрузка и подготовка данных"
   ]
  },
  {
   "cell_type": "code",
   "execution_count": 4,
   "metadata": {},
   "outputs": [],
   "source": [
    "try:\n",
    "    geo_data_0 = pd.read_csv('/datasets/geo_data_0.csv')\n",
    "    geo_data_1 = pd.read_csv('/datasets/geo_data_1.csv')\n",
    "    geo_data_2 = pd.read_csv('/datasets/geo_data_2.csv')\n",
    "except:\n",
    "    geo_data_0 = pd.read_csv('datasets/geo_data_0.csv')\n",
    "    geo_data_1 = pd.read_csv('datasets/geo_data_1.csv')\n",
    "    geo_data_2 = pd.read_csv('datasets/geo_data_2.csv')\n",
    "df_list = [geo_data_0,geo_data_1,geo_data_2]"
   ]
  },
  {
   "cell_type": "code",
   "execution_count": 5,
   "metadata": {},
   "outputs": [],
   "source": [
    "geo_data_0.name = 'geo_data_0'\n",
    "geo_data_1.name = 'geo_data_1'\n",
    "geo_data_2.name = 'geo_data_2'"
   ]
  },
  {
   "cell_type": "code",
   "execution_count": 6,
   "metadata": {},
   "outputs": [
    {
     "name": "stdout",
     "output_type": "stream",
     "text": [
      "=========================\n",
      "Датасет geo_data_0\n"
     ]
    },
    {
     "data": {
      "text/html": [
       "<div>\n",
       "<style scoped>\n",
       "    .dataframe tbody tr th:only-of-type {\n",
       "        vertical-align: middle;\n",
       "    }\n",
       "\n",
       "    .dataframe tbody tr th {\n",
       "        vertical-align: top;\n",
       "    }\n",
       "\n",
       "    .dataframe thead th {\n",
       "        text-align: right;\n",
       "    }\n",
       "</style>\n",
       "<table border=\"1\" class=\"dataframe\">\n",
       "  <thead>\n",
       "    <tr style=\"text-align: right;\">\n",
       "      <th></th>\n",
       "      <th>id</th>\n",
       "      <th>f0</th>\n",
       "      <th>f1</th>\n",
       "      <th>f2</th>\n",
       "      <th>product</th>\n",
       "    </tr>\n",
       "  </thead>\n",
       "  <tbody>\n",
       "    <tr>\n",
       "      <th>0</th>\n",
       "      <td>txEyH</td>\n",
       "      <td>0.705745</td>\n",
       "      <td>-0.497823</td>\n",
       "      <td>1.221170</td>\n",
       "      <td>105.280062</td>\n",
       "    </tr>\n",
       "    <tr>\n",
       "      <th>1</th>\n",
       "      <td>2acmU</td>\n",
       "      <td>1.334711</td>\n",
       "      <td>-0.340164</td>\n",
       "      <td>4.365080</td>\n",
       "      <td>73.037750</td>\n",
       "    </tr>\n",
       "    <tr>\n",
       "      <th>2</th>\n",
       "      <td>409Wp</td>\n",
       "      <td>1.022732</td>\n",
       "      <td>0.151990</td>\n",
       "      <td>1.419926</td>\n",
       "      <td>85.265647</td>\n",
       "    </tr>\n",
       "    <tr>\n",
       "      <th>3</th>\n",
       "      <td>iJLyR</td>\n",
       "      <td>-0.032172</td>\n",
       "      <td>0.139033</td>\n",
       "      <td>2.978566</td>\n",
       "      <td>168.620776</td>\n",
       "    </tr>\n",
       "    <tr>\n",
       "      <th>4</th>\n",
       "      <td>Xdl7t</td>\n",
       "      <td>1.988431</td>\n",
       "      <td>0.155413</td>\n",
       "      <td>4.751769</td>\n",
       "      <td>154.036647</td>\n",
       "    </tr>\n",
       "    <tr>\n",
       "      <th>5</th>\n",
       "      <td>wX4Hy</td>\n",
       "      <td>0.969570</td>\n",
       "      <td>0.489775</td>\n",
       "      <td>-0.735383</td>\n",
       "      <td>64.741541</td>\n",
       "    </tr>\n",
       "    <tr>\n",
       "      <th>6</th>\n",
       "      <td>tL6pL</td>\n",
       "      <td>0.645075</td>\n",
       "      <td>0.530656</td>\n",
       "      <td>1.780266</td>\n",
       "      <td>49.055285</td>\n",
       "    </tr>\n",
       "    <tr>\n",
       "      <th>7</th>\n",
       "      <td>BYPU6</td>\n",
       "      <td>-0.400648</td>\n",
       "      <td>0.808337</td>\n",
       "      <td>-5.624670</td>\n",
       "      <td>72.943292</td>\n",
       "    </tr>\n",
       "    <tr>\n",
       "      <th>8</th>\n",
       "      <td>j9Oui</td>\n",
       "      <td>0.643105</td>\n",
       "      <td>-0.551583</td>\n",
       "      <td>2.372141</td>\n",
       "      <td>113.356160</td>\n",
       "    </tr>\n",
       "    <tr>\n",
       "      <th>9</th>\n",
       "      <td>OLuZU</td>\n",
       "      <td>2.173381</td>\n",
       "      <td>0.563698</td>\n",
       "      <td>9.441852</td>\n",
       "      <td>127.910945</td>\n",
       "    </tr>\n",
       "  </tbody>\n",
       "</table>\n",
       "</div>"
      ],
      "text/plain": [
       "      id        f0        f1        f2     product\n",
       "0  txEyH  0.705745 -0.497823  1.221170  105.280062\n",
       "1  2acmU  1.334711 -0.340164  4.365080   73.037750\n",
       "2  409Wp  1.022732  0.151990  1.419926   85.265647\n",
       "3  iJLyR -0.032172  0.139033  2.978566  168.620776\n",
       "4  Xdl7t  1.988431  0.155413  4.751769  154.036647\n",
       "5  wX4Hy  0.969570  0.489775 -0.735383   64.741541\n",
       "6  tL6pL  0.645075  0.530656  1.780266   49.055285\n",
       "7  BYPU6 -0.400648  0.808337 -5.624670   72.943292\n",
       "8  j9Oui  0.643105 -0.551583  2.372141  113.356160\n",
       "9  OLuZU  2.173381  0.563698  9.441852  127.910945"
      ]
     },
     "metadata": {},
     "output_type": "display_data"
    },
    {
     "name": "stdout",
     "output_type": "stream",
     "text": [
      "<class 'pandas.core.frame.DataFrame'>\n",
      "RangeIndex: 100000 entries, 0 to 99999\n",
      "Data columns (total 5 columns):\n",
      " #   Column   Non-Null Count   Dtype  \n",
      "---  ------   --------------   -----  \n",
      " 0   id       100000 non-null  object \n",
      " 1   f0       100000 non-null  float64\n",
      " 2   f1       100000 non-null  float64\n",
      " 3   f2       100000 non-null  float64\n",
      " 4   product  100000 non-null  float64\n",
      "dtypes: float64(4), object(1)\n",
      "memory usage: 3.8+ MB\n"
     ]
    },
    {
     "data": {
      "text/html": [
       "<div>\n",
       "<style scoped>\n",
       "    .dataframe tbody tr th:only-of-type {\n",
       "        vertical-align: middle;\n",
       "    }\n",
       "\n",
       "    .dataframe tbody tr th {\n",
       "        vertical-align: top;\n",
       "    }\n",
       "\n",
       "    .dataframe thead th {\n",
       "        text-align: right;\n",
       "    }\n",
       "</style>\n",
       "<table border=\"1\" class=\"dataframe\">\n",
       "  <thead>\n",
       "    <tr style=\"text-align: right;\">\n",
       "      <th></th>\n",
       "      <th>id</th>\n",
       "      <th>f0</th>\n",
       "      <th>f1</th>\n",
       "      <th>f2</th>\n",
       "      <th>product</th>\n",
       "    </tr>\n",
       "  </thead>\n",
       "  <tbody>\n",
       "    <tr>\n",
       "      <th>count</th>\n",
       "      <td>100000</td>\n",
       "      <td>100000.000000</td>\n",
       "      <td>100000.000000</td>\n",
       "      <td>100000.000000</td>\n",
       "      <td>100000.000000</td>\n",
       "    </tr>\n",
       "    <tr>\n",
       "      <th>unique</th>\n",
       "      <td>99990</td>\n",
       "      <td>NaN</td>\n",
       "      <td>NaN</td>\n",
       "      <td>NaN</td>\n",
       "      <td>NaN</td>\n",
       "    </tr>\n",
       "    <tr>\n",
       "      <th>top</th>\n",
       "      <td>bxg6G</td>\n",
       "      <td>NaN</td>\n",
       "      <td>NaN</td>\n",
       "      <td>NaN</td>\n",
       "      <td>NaN</td>\n",
       "    </tr>\n",
       "    <tr>\n",
       "      <th>freq</th>\n",
       "      <td>2</td>\n",
       "      <td>NaN</td>\n",
       "      <td>NaN</td>\n",
       "      <td>NaN</td>\n",
       "      <td>NaN</td>\n",
       "    </tr>\n",
       "    <tr>\n",
       "      <th>mean</th>\n",
       "      <td>NaN</td>\n",
       "      <td>0.500419</td>\n",
       "      <td>0.250143</td>\n",
       "      <td>2.502647</td>\n",
       "      <td>92.500000</td>\n",
       "    </tr>\n",
       "    <tr>\n",
       "      <th>std</th>\n",
       "      <td>NaN</td>\n",
       "      <td>0.871832</td>\n",
       "      <td>0.504433</td>\n",
       "      <td>3.248248</td>\n",
       "      <td>44.288691</td>\n",
       "    </tr>\n",
       "    <tr>\n",
       "      <th>min</th>\n",
       "      <td>NaN</td>\n",
       "      <td>-1.408605</td>\n",
       "      <td>-0.848218</td>\n",
       "      <td>-12.088328</td>\n",
       "      <td>0.000000</td>\n",
       "    </tr>\n",
       "    <tr>\n",
       "      <th>25%</th>\n",
       "      <td>NaN</td>\n",
       "      <td>-0.072580</td>\n",
       "      <td>-0.200881</td>\n",
       "      <td>0.287748</td>\n",
       "      <td>56.497507</td>\n",
       "    </tr>\n",
       "    <tr>\n",
       "      <th>50%</th>\n",
       "      <td>NaN</td>\n",
       "      <td>0.502360</td>\n",
       "      <td>0.250252</td>\n",
       "      <td>2.515969</td>\n",
       "      <td>91.849972</td>\n",
       "    </tr>\n",
       "    <tr>\n",
       "      <th>75%</th>\n",
       "      <td>NaN</td>\n",
       "      <td>1.073581</td>\n",
       "      <td>0.700646</td>\n",
       "      <td>4.715088</td>\n",
       "      <td>128.564089</td>\n",
       "    </tr>\n",
       "    <tr>\n",
       "      <th>max</th>\n",
       "      <td>NaN</td>\n",
       "      <td>2.362331</td>\n",
       "      <td>1.343769</td>\n",
       "      <td>16.003790</td>\n",
       "      <td>185.364347</td>\n",
       "    </tr>\n",
       "  </tbody>\n",
       "</table>\n",
       "</div>"
      ],
      "text/plain": [
       "            id             f0             f1             f2        product\n",
       "count   100000  100000.000000  100000.000000  100000.000000  100000.000000\n",
       "unique   99990            NaN            NaN            NaN            NaN\n",
       "top      bxg6G            NaN            NaN            NaN            NaN\n",
       "freq         2            NaN            NaN            NaN            NaN\n",
       "mean       NaN       0.500419       0.250143       2.502647      92.500000\n",
       "std        NaN       0.871832       0.504433       3.248248      44.288691\n",
       "min        NaN      -1.408605      -0.848218     -12.088328       0.000000\n",
       "25%        NaN      -0.072580      -0.200881       0.287748      56.497507\n",
       "50%        NaN       0.502360       0.250252       2.515969      91.849972\n",
       "75%        NaN       1.073581       0.700646       4.715088     128.564089\n",
       "max        NaN       2.362331       1.343769      16.003790     185.364347"
      ]
     },
     "metadata": {},
     "output_type": "display_data"
    }
   ],
   "source": [
    "data_exploration_func(geo_data_0)"
   ]
  },
  {
   "cell_type": "code",
   "execution_count": 7,
   "metadata": {},
   "outputs": [
    {
     "name": "stdout",
     "output_type": "stream",
     "text": [
      "=========================\n",
      "Датасет geo_data_1\n"
     ]
    },
    {
     "data": {
      "text/html": [
       "<div>\n",
       "<style scoped>\n",
       "    .dataframe tbody tr th:only-of-type {\n",
       "        vertical-align: middle;\n",
       "    }\n",
       "\n",
       "    .dataframe tbody tr th {\n",
       "        vertical-align: top;\n",
       "    }\n",
       "\n",
       "    .dataframe thead th {\n",
       "        text-align: right;\n",
       "    }\n",
       "</style>\n",
       "<table border=\"1\" class=\"dataframe\">\n",
       "  <thead>\n",
       "    <tr style=\"text-align: right;\">\n",
       "      <th></th>\n",
       "      <th>id</th>\n",
       "      <th>f0</th>\n",
       "      <th>f1</th>\n",
       "      <th>f2</th>\n",
       "      <th>product</th>\n",
       "    </tr>\n",
       "  </thead>\n",
       "  <tbody>\n",
       "    <tr>\n",
       "      <th>0</th>\n",
       "      <td>kBEdx</td>\n",
       "      <td>-15.001348</td>\n",
       "      <td>-8.276000</td>\n",
       "      <td>-0.005876</td>\n",
       "      <td>3.179103</td>\n",
       "    </tr>\n",
       "    <tr>\n",
       "      <th>1</th>\n",
       "      <td>62mP7</td>\n",
       "      <td>14.272088</td>\n",
       "      <td>-3.475083</td>\n",
       "      <td>0.999183</td>\n",
       "      <td>26.953261</td>\n",
       "    </tr>\n",
       "    <tr>\n",
       "      <th>2</th>\n",
       "      <td>vyE1P</td>\n",
       "      <td>6.263187</td>\n",
       "      <td>-5.948386</td>\n",
       "      <td>5.001160</td>\n",
       "      <td>134.766305</td>\n",
       "    </tr>\n",
       "    <tr>\n",
       "      <th>3</th>\n",
       "      <td>KcrkZ</td>\n",
       "      <td>-13.081196</td>\n",
       "      <td>-11.506057</td>\n",
       "      <td>4.999415</td>\n",
       "      <td>137.945408</td>\n",
       "    </tr>\n",
       "    <tr>\n",
       "      <th>4</th>\n",
       "      <td>AHL4O</td>\n",
       "      <td>12.702195</td>\n",
       "      <td>-8.147433</td>\n",
       "      <td>5.004363</td>\n",
       "      <td>134.766305</td>\n",
       "    </tr>\n",
       "    <tr>\n",
       "      <th>5</th>\n",
       "      <td>HHckp</td>\n",
       "      <td>-3.327590</td>\n",
       "      <td>-2.205276</td>\n",
       "      <td>3.003647</td>\n",
       "      <td>84.038886</td>\n",
       "    </tr>\n",
       "    <tr>\n",
       "      <th>6</th>\n",
       "      <td>h5Ujo</td>\n",
       "      <td>-11.142655</td>\n",
       "      <td>-10.133399</td>\n",
       "      <td>4.002382</td>\n",
       "      <td>110.992147</td>\n",
       "    </tr>\n",
       "    <tr>\n",
       "      <th>7</th>\n",
       "      <td>muH9x</td>\n",
       "      <td>4.234715</td>\n",
       "      <td>-0.001354</td>\n",
       "      <td>2.004588</td>\n",
       "      <td>53.906522</td>\n",
       "    </tr>\n",
       "    <tr>\n",
       "      <th>8</th>\n",
       "      <td>YiRkx</td>\n",
       "      <td>13.355129</td>\n",
       "      <td>-0.332068</td>\n",
       "      <td>4.998647</td>\n",
       "      <td>134.766305</td>\n",
       "    </tr>\n",
       "    <tr>\n",
       "      <th>9</th>\n",
       "      <td>jG6Gi</td>\n",
       "      <td>1.069227</td>\n",
       "      <td>-11.025667</td>\n",
       "      <td>4.997844</td>\n",
       "      <td>137.945408</td>\n",
       "    </tr>\n",
       "  </tbody>\n",
       "</table>\n",
       "</div>"
      ],
      "text/plain": [
       "      id         f0         f1        f2     product\n",
       "0  kBEdx -15.001348  -8.276000 -0.005876    3.179103\n",
       "1  62mP7  14.272088  -3.475083  0.999183   26.953261\n",
       "2  vyE1P   6.263187  -5.948386  5.001160  134.766305\n",
       "3  KcrkZ -13.081196 -11.506057  4.999415  137.945408\n",
       "4  AHL4O  12.702195  -8.147433  5.004363  134.766305\n",
       "5  HHckp  -3.327590  -2.205276  3.003647   84.038886\n",
       "6  h5Ujo -11.142655 -10.133399  4.002382  110.992147\n",
       "7  muH9x   4.234715  -0.001354  2.004588   53.906522\n",
       "8  YiRkx  13.355129  -0.332068  4.998647  134.766305\n",
       "9  jG6Gi   1.069227 -11.025667  4.997844  137.945408"
      ]
     },
     "metadata": {},
     "output_type": "display_data"
    },
    {
     "name": "stdout",
     "output_type": "stream",
     "text": [
      "<class 'pandas.core.frame.DataFrame'>\n",
      "RangeIndex: 100000 entries, 0 to 99999\n",
      "Data columns (total 5 columns):\n",
      " #   Column   Non-Null Count   Dtype  \n",
      "---  ------   --------------   -----  \n",
      " 0   id       100000 non-null  object \n",
      " 1   f0       100000 non-null  float64\n",
      " 2   f1       100000 non-null  float64\n",
      " 3   f2       100000 non-null  float64\n",
      " 4   product  100000 non-null  float64\n",
      "dtypes: float64(4), object(1)\n",
      "memory usage: 3.8+ MB\n"
     ]
    },
    {
     "data": {
      "text/html": [
       "<div>\n",
       "<style scoped>\n",
       "    .dataframe tbody tr th:only-of-type {\n",
       "        vertical-align: middle;\n",
       "    }\n",
       "\n",
       "    .dataframe tbody tr th {\n",
       "        vertical-align: top;\n",
       "    }\n",
       "\n",
       "    .dataframe thead th {\n",
       "        text-align: right;\n",
       "    }\n",
       "</style>\n",
       "<table border=\"1\" class=\"dataframe\">\n",
       "  <thead>\n",
       "    <tr style=\"text-align: right;\">\n",
       "      <th></th>\n",
       "      <th>id</th>\n",
       "      <th>f0</th>\n",
       "      <th>f1</th>\n",
       "      <th>f2</th>\n",
       "      <th>product</th>\n",
       "    </tr>\n",
       "  </thead>\n",
       "  <tbody>\n",
       "    <tr>\n",
       "      <th>count</th>\n",
       "      <td>100000</td>\n",
       "      <td>100000.000000</td>\n",
       "      <td>100000.000000</td>\n",
       "      <td>100000.000000</td>\n",
       "      <td>100000.000000</td>\n",
       "    </tr>\n",
       "    <tr>\n",
       "      <th>unique</th>\n",
       "      <td>99996</td>\n",
       "      <td>NaN</td>\n",
       "      <td>NaN</td>\n",
       "      <td>NaN</td>\n",
       "      <td>NaN</td>\n",
       "    </tr>\n",
       "    <tr>\n",
       "      <th>top</th>\n",
       "      <td>5ltQ6</td>\n",
       "      <td>NaN</td>\n",
       "      <td>NaN</td>\n",
       "      <td>NaN</td>\n",
       "      <td>NaN</td>\n",
       "    </tr>\n",
       "    <tr>\n",
       "      <th>freq</th>\n",
       "      <td>2</td>\n",
       "      <td>NaN</td>\n",
       "      <td>NaN</td>\n",
       "      <td>NaN</td>\n",
       "      <td>NaN</td>\n",
       "    </tr>\n",
       "    <tr>\n",
       "      <th>mean</th>\n",
       "      <td>NaN</td>\n",
       "      <td>1.141296</td>\n",
       "      <td>-4.796579</td>\n",
       "      <td>2.494541</td>\n",
       "      <td>68.825000</td>\n",
       "    </tr>\n",
       "    <tr>\n",
       "      <th>std</th>\n",
       "      <td>NaN</td>\n",
       "      <td>8.965932</td>\n",
       "      <td>5.119872</td>\n",
       "      <td>1.703572</td>\n",
       "      <td>45.944423</td>\n",
       "    </tr>\n",
       "    <tr>\n",
       "      <th>min</th>\n",
       "      <td>NaN</td>\n",
       "      <td>-31.609576</td>\n",
       "      <td>-26.358598</td>\n",
       "      <td>-0.018144</td>\n",
       "      <td>0.000000</td>\n",
       "    </tr>\n",
       "    <tr>\n",
       "      <th>25%</th>\n",
       "      <td>NaN</td>\n",
       "      <td>-6.298551</td>\n",
       "      <td>-8.267985</td>\n",
       "      <td>1.000021</td>\n",
       "      <td>26.953261</td>\n",
       "    </tr>\n",
       "    <tr>\n",
       "      <th>50%</th>\n",
       "      <td>NaN</td>\n",
       "      <td>1.153055</td>\n",
       "      <td>-4.813172</td>\n",
       "      <td>2.011479</td>\n",
       "      <td>57.085625</td>\n",
       "    </tr>\n",
       "    <tr>\n",
       "      <th>75%</th>\n",
       "      <td>NaN</td>\n",
       "      <td>8.621015</td>\n",
       "      <td>-1.332816</td>\n",
       "      <td>3.999904</td>\n",
       "      <td>107.813044</td>\n",
       "    </tr>\n",
       "    <tr>\n",
       "      <th>max</th>\n",
       "      <td>NaN</td>\n",
       "      <td>29.421755</td>\n",
       "      <td>18.734063</td>\n",
       "      <td>5.019721</td>\n",
       "      <td>137.945408</td>\n",
       "    </tr>\n",
       "  </tbody>\n",
       "</table>\n",
       "</div>"
      ],
      "text/plain": [
       "            id             f0             f1             f2        product\n",
       "count   100000  100000.000000  100000.000000  100000.000000  100000.000000\n",
       "unique   99996            NaN            NaN            NaN            NaN\n",
       "top      5ltQ6            NaN            NaN            NaN            NaN\n",
       "freq         2            NaN            NaN            NaN            NaN\n",
       "mean       NaN       1.141296      -4.796579       2.494541      68.825000\n",
       "std        NaN       8.965932       5.119872       1.703572      45.944423\n",
       "min        NaN     -31.609576     -26.358598      -0.018144       0.000000\n",
       "25%        NaN      -6.298551      -8.267985       1.000021      26.953261\n",
       "50%        NaN       1.153055      -4.813172       2.011479      57.085625\n",
       "75%        NaN       8.621015      -1.332816       3.999904     107.813044\n",
       "max        NaN      29.421755      18.734063       5.019721     137.945408"
      ]
     },
     "metadata": {},
     "output_type": "display_data"
    }
   ],
   "source": [
    "data_exploration_func(geo_data_1)"
   ]
  },
  {
   "cell_type": "code",
   "execution_count": 8,
   "metadata": {
    "scrolled": false
   },
   "outputs": [
    {
     "name": "stdout",
     "output_type": "stream",
     "text": [
      "=========================\n",
      "Датасет geo_data_2\n"
     ]
    },
    {
     "data": {
      "text/html": [
       "<div>\n",
       "<style scoped>\n",
       "    .dataframe tbody tr th:only-of-type {\n",
       "        vertical-align: middle;\n",
       "    }\n",
       "\n",
       "    .dataframe tbody tr th {\n",
       "        vertical-align: top;\n",
       "    }\n",
       "\n",
       "    .dataframe thead th {\n",
       "        text-align: right;\n",
       "    }\n",
       "</style>\n",
       "<table border=\"1\" class=\"dataframe\">\n",
       "  <thead>\n",
       "    <tr style=\"text-align: right;\">\n",
       "      <th></th>\n",
       "      <th>id</th>\n",
       "      <th>f0</th>\n",
       "      <th>f1</th>\n",
       "      <th>f2</th>\n",
       "      <th>product</th>\n",
       "    </tr>\n",
       "  </thead>\n",
       "  <tbody>\n",
       "    <tr>\n",
       "      <th>0</th>\n",
       "      <td>fwXo0</td>\n",
       "      <td>-1.146987</td>\n",
       "      <td>0.963328</td>\n",
       "      <td>-0.828965</td>\n",
       "      <td>27.758673</td>\n",
       "    </tr>\n",
       "    <tr>\n",
       "      <th>1</th>\n",
       "      <td>WJtFt</td>\n",
       "      <td>0.262778</td>\n",
       "      <td>0.269839</td>\n",
       "      <td>-2.530187</td>\n",
       "      <td>56.069697</td>\n",
       "    </tr>\n",
       "    <tr>\n",
       "      <th>2</th>\n",
       "      <td>ovLUW</td>\n",
       "      <td>0.194587</td>\n",
       "      <td>0.289035</td>\n",
       "      <td>-5.586433</td>\n",
       "      <td>62.871910</td>\n",
       "    </tr>\n",
       "    <tr>\n",
       "      <th>3</th>\n",
       "      <td>q6cA6</td>\n",
       "      <td>2.236060</td>\n",
       "      <td>-0.553760</td>\n",
       "      <td>0.930038</td>\n",
       "      <td>114.572842</td>\n",
       "    </tr>\n",
       "    <tr>\n",
       "      <th>4</th>\n",
       "      <td>WPMUX</td>\n",
       "      <td>-0.515993</td>\n",
       "      <td>1.716266</td>\n",
       "      <td>5.899011</td>\n",
       "      <td>149.600746</td>\n",
       "    </tr>\n",
       "    <tr>\n",
       "      <th>5</th>\n",
       "      <td>LzZXx</td>\n",
       "      <td>-0.758092</td>\n",
       "      <td>0.710691</td>\n",
       "      <td>2.585887</td>\n",
       "      <td>90.222465</td>\n",
       "    </tr>\n",
       "    <tr>\n",
       "      <th>6</th>\n",
       "      <td>WBHRv</td>\n",
       "      <td>-0.574891</td>\n",
       "      <td>0.317727</td>\n",
       "      <td>1.773745</td>\n",
       "      <td>45.641478</td>\n",
       "    </tr>\n",
       "    <tr>\n",
       "      <th>7</th>\n",
       "      <td>XO8fn</td>\n",
       "      <td>-1.906649</td>\n",
       "      <td>-2.458350</td>\n",
       "      <td>-0.177097</td>\n",
       "      <td>72.480640</td>\n",
       "    </tr>\n",
       "    <tr>\n",
       "      <th>8</th>\n",
       "      <td>ybmQ5</td>\n",
       "      <td>1.776292</td>\n",
       "      <td>-0.279356</td>\n",
       "      <td>3.004156</td>\n",
       "      <td>106.616832</td>\n",
       "    </tr>\n",
       "    <tr>\n",
       "      <th>9</th>\n",
       "      <td>OilcN</td>\n",
       "      <td>-1.214452</td>\n",
       "      <td>-0.439314</td>\n",
       "      <td>5.922514</td>\n",
       "      <td>52.954532</td>\n",
       "    </tr>\n",
       "  </tbody>\n",
       "</table>\n",
       "</div>"
      ],
      "text/plain": [
       "      id        f0        f1        f2     product\n",
       "0  fwXo0 -1.146987  0.963328 -0.828965   27.758673\n",
       "1  WJtFt  0.262778  0.269839 -2.530187   56.069697\n",
       "2  ovLUW  0.194587  0.289035 -5.586433   62.871910\n",
       "3  q6cA6  2.236060 -0.553760  0.930038  114.572842\n",
       "4  WPMUX -0.515993  1.716266  5.899011  149.600746\n",
       "5  LzZXx -0.758092  0.710691  2.585887   90.222465\n",
       "6  WBHRv -0.574891  0.317727  1.773745   45.641478\n",
       "7  XO8fn -1.906649 -2.458350 -0.177097   72.480640\n",
       "8  ybmQ5  1.776292 -0.279356  3.004156  106.616832\n",
       "9  OilcN -1.214452 -0.439314  5.922514   52.954532"
      ]
     },
     "metadata": {},
     "output_type": "display_data"
    },
    {
     "name": "stdout",
     "output_type": "stream",
     "text": [
      "<class 'pandas.core.frame.DataFrame'>\n",
      "RangeIndex: 100000 entries, 0 to 99999\n",
      "Data columns (total 5 columns):\n",
      " #   Column   Non-Null Count   Dtype  \n",
      "---  ------   --------------   -----  \n",
      " 0   id       100000 non-null  object \n",
      " 1   f0       100000 non-null  float64\n",
      " 2   f1       100000 non-null  float64\n",
      " 3   f2       100000 non-null  float64\n",
      " 4   product  100000 non-null  float64\n",
      "dtypes: float64(4), object(1)\n",
      "memory usage: 3.8+ MB\n"
     ]
    },
    {
     "data": {
      "text/html": [
       "<div>\n",
       "<style scoped>\n",
       "    .dataframe tbody tr th:only-of-type {\n",
       "        vertical-align: middle;\n",
       "    }\n",
       "\n",
       "    .dataframe tbody tr th {\n",
       "        vertical-align: top;\n",
       "    }\n",
       "\n",
       "    .dataframe thead th {\n",
       "        text-align: right;\n",
       "    }\n",
       "</style>\n",
       "<table border=\"1\" class=\"dataframe\">\n",
       "  <thead>\n",
       "    <tr style=\"text-align: right;\">\n",
       "      <th></th>\n",
       "      <th>id</th>\n",
       "      <th>f0</th>\n",
       "      <th>f1</th>\n",
       "      <th>f2</th>\n",
       "      <th>product</th>\n",
       "    </tr>\n",
       "  </thead>\n",
       "  <tbody>\n",
       "    <tr>\n",
       "      <th>count</th>\n",
       "      <td>100000</td>\n",
       "      <td>100000.000000</td>\n",
       "      <td>100000.000000</td>\n",
       "      <td>100000.000000</td>\n",
       "      <td>100000.000000</td>\n",
       "    </tr>\n",
       "    <tr>\n",
       "      <th>unique</th>\n",
       "      <td>99996</td>\n",
       "      <td>NaN</td>\n",
       "      <td>NaN</td>\n",
       "      <td>NaN</td>\n",
       "      <td>NaN</td>\n",
       "    </tr>\n",
       "    <tr>\n",
       "      <th>top</th>\n",
       "      <td>Vcm5J</td>\n",
       "      <td>NaN</td>\n",
       "      <td>NaN</td>\n",
       "      <td>NaN</td>\n",
       "      <td>NaN</td>\n",
       "    </tr>\n",
       "    <tr>\n",
       "      <th>freq</th>\n",
       "      <td>2</td>\n",
       "      <td>NaN</td>\n",
       "      <td>NaN</td>\n",
       "      <td>NaN</td>\n",
       "      <td>NaN</td>\n",
       "    </tr>\n",
       "    <tr>\n",
       "      <th>mean</th>\n",
       "      <td>NaN</td>\n",
       "      <td>0.002023</td>\n",
       "      <td>-0.002081</td>\n",
       "      <td>2.495128</td>\n",
       "      <td>95.000000</td>\n",
       "    </tr>\n",
       "    <tr>\n",
       "      <th>std</th>\n",
       "      <td>NaN</td>\n",
       "      <td>1.732045</td>\n",
       "      <td>1.730417</td>\n",
       "      <td>3.473445</td>\n",
       "      <td>44.749921</td>\n",
       "    </tr>\n",
       "    <tr>\n",
       "      <th>min</th>\n",
       "      <td>NaN</td>\n",
       "      <td>-8.760004</td>\n",
       "      <td>-7.084020</td>\n",
       "      <td>-11.970335</td>\n",
       "      <td>0.000000</td>\n",
       "    </tr>\n",
       "    <tr>\n",
       "      <th>25%</th>\n",
       "      <td>NaN</td>\n",
       "      <td>-1.162288</td>\n",
       "      <td>-1.174820</td>\n",
       "      <td>0.130359</td>\n",
       "      <td>59.450441</td>\n",
       "    </tr>\n",
       "    <tr>\n",
       "      <th>50%</th>\n",
       "      <td>NaN</td>\n",
       "      <td>0.009424</td>\n",
       "      <td>-0.009482</td>\n",
       "      <td>2.484236</td>\n",
       "      <td>94.925613</td>\n",
       "    </tr>\n",
       "    <tr>\n",
       "      <th>75%</th>\n",
       "      <td>NaN</td>\n",
       "      <td>1.158535</td>\n",
       "      <td>1.163678</td>\n",
       "      <td>4.858794</td>\n",
       "      <td>130.595027</td>\n",
       "    </tr>\n",
       "    <tr>\n",
       "      <th>max</th>\n",
       "      <td>NaN</td>\n",
       "      <td>7.238262</td>\n",
       "      <td>7.844801</td>\n",
       "      <td>16.739402</td>\n",
       "      <td>190.029838</td>\n",
       "    </tr>\n",
       "  </tbody>\n",
       "</table>\n",
       "</div>"
      ],
      "text/plain": [
       "            id             f0             f1             f2        product\n",
       "count   100000  100000.000000  100000.000000  100000.000000  100000.000000\n",
       "unique   99996            NaN            NaN            NaN            NaN\n",
       "top      Vcm5J            NaN            NaN            NaN            NaN\n",
       "freq         2            NaN            NaN            NaN            NaN\n",
       "mean       NaN       0.002023      -0.002081       2.495128      95.000000\n",
       "std        NaN       1.732045       1.730417       3.473445      44.749921\n",
       "min        NaN      -8.760004      -7.084020     -11.970335       0.000000\n",
       "25%        NaN      -1.162288      -1.174820       0.130359      59.450441\n",
       "50%        NaN       0.009424      -0.009482       2.484236      94.925613\n",
       "75%        NaN       1.158535       1.163678       4.858794     130.595027\n",
       "max        NaN       7.238262       7.844801      16.739402     190.029838"
      ]
     },
     "metadata": {},
     "output_type": "display_data"
    }
   ],
   "source": [
    "data_exploration_func(geo_data_2)"
   ]
  },
  {
   "cell_type": "code",
   "execution_count": 9,
   "metadata": {},
   "outputs": [
    {
     "data": {
      "text/plain": [
       "'geo_data_0'"
      ]
     },
     "metadata": {},
     "output_type": "display_data"
    },
    {
     "data": {
      "text/plain": [
       "id         0\n",
       "f0         0\n",
       "f1         0\n",
       "f2         0\n",
       "product    0\n",
       "dtype: int64"
      ]
     },
     "metadata": {},
     "output_type": "display_data"
    },
    {
     "data": {
      "text/plain": [
       "'geo_data_1'"
      ]
     },
     "metadata": {},
     "output_type": "display_data"
    },
    {
     "data": {
      "text/plain": [
       "id         0\n",
       "f0         0\n",
       "f1         0\n",
       "f2         0\n",
       "product    0\n",
       "dtype: int64"
      ]
     },
     "metadata": {},
     "output_type": "display_data"
    },
    {
     "data": {
      "text/plain": [
       "'geo_data_2'"
      ]
     },
     "metadata": {},
     "output_type": "display_data"
    },
    {
     "data": {
      "text/plain": [
       "id         0\n",
       "f0         0\n",
       "f1         0\n",
       "f2         0\n",
       "product    0\n",
       "dtype: int64"
      ]
     },
     "metadata": {},
     "output_type": "display_data"
    }
   ],
   "source": [
    "for data in df_list:\n",
    "    display(data.name)\n",
    "    display(data.isna().sum())"
   ]
  },
  {
   "cell_type": "markdown",
   "metadata": {},
   "source": [
    "Пропущенных значений нет"
   ]
  },
  {
   "cell_type": "markdown",
   "metadata": {},
   "source": [
    "Проверка на дубликаты"
   ]
  },
  {
   "cell_type": "code",
   "execution_count": 10,
   "metadata": {
    "scrolled": true
   },
   "outputs": [
    {
     "name": "stdout",
     "output_type": "stream",
     "text": [
      "Количество дубликатов geo_data_0= 0\n",
      "Количество дубликатов geo_data_1= 0\n",
      "Количество дубликатов geo_data_2= 0\n"
     ]
    }
   ],
   "source": [
    "for i in df_list:\n",
    "    i.duplicated().sum()\n",
    "    print(f'Количество дубликатов {i.name}= {i.duplicated().sum()}')"
   ]
  },
  {
   "cell_type": "markdown",
   "metadata": {},
   "source": [
    "Дубликатов нет"
   ]
  },
  {
   "cell_type": "code",
   "execution_count": 11,
   "metadata": {},
   "outputs": [
    {
     "data": {
      "image/png": "[encoded data removed]",
      "text/plain": [
       "<Figure size 720x1440 with 8 Axes>"
      ]
     },
     "metadata": {
      "needs_background": "light"
     },
     "output_type": "display_data"
    }
   ],
   "source": [
    "num_func(geo_data_0)"
   ]
  },
  {
   "cell_type": "code",
   "execution_count": 12,
   "metadata": {},
   "outputs": [
    {
     "data": {
      "image/png": "[encoded data removed]",
      "text/plain": [
       "<Figure size 720x1440 with 8 Axes>"
      ]
     },
     "metadata": {
      "needs_background": "light"
     },
     "output_type": "display_data"
    }
   ],
   "source": [
    "num_func(geo_data_1)"
   ]
  },
  {
   "cell_type": "code",
   "execution_count": 13,
   "metadata": {
    "scrolled": true
   },
   "outputs": [
    {
     "data": {
      "image/png": "[encoded data removed]",
      "text/plain": [
       "<Figure size 720x1440 with 8 Axes>"
      ]
     },
     "metadata": {
      "needs_background": "light"
     },
     "output_type": "display_data"
    }
   ],
   "source": [
    "num_func(geo_data_2)"
   ]
  },
  {
   "cell_type": "markdown",
   "metadata": {},
   "source": [
    "Вывод: мы подготовили данные, можно приступать к обучению модели."
   ]
  },
  {
   "cell_type": "markdown",
   "metadata": {},
   "source": [
    "<div class=\"alert alert-block alert-success\">\n",
    "<b>Успех:</b> Данные загружены и осмотрены корректно. Радует, что распределения и корреляции были визуализированы!\n",
    "</div>"
   ]
  },
  {
   "cell_type": "markdown",
   "metadata": {},
   "source": [
    "<a id=\"2\"></a> \n",
    "## Обучение и проверка модели"
   ]
  },
  {
   "cell_type": "code",
   "execution_count": 14,
   "metadata": {},
   "outputs": [],
   "source": [
    "def line_model(data):\n",
    "    target = data['product']\n",
    "    features = data.drop(['product', 'id'], axis=1)\n",
    "    \n",
    "    features_train, features_valid, target_train,target_valid = \\\n",
    "    train_test_split(features, target, test_size=0.25, random_state=RANDOM_STATE)\n",
    "    \n",
    "    model = LinearRegression()\n",
    "    model.fit(features_train, target_train)\n",
    "    predicted_valid = model.predict(features_valid)\n",
    "    \n",
    "    rmse = mean_squared_error(target_valid, predicted_valid)**0.5\n",
    "    \n",
    "    # посчитаем средний запас сырья\n",
    "    predicted_valid_mean = predicted_valid.sum()/len(predicted_valid)\n",
    "    \n",
    "    return target_valid, predicted_valid, rmse, predicted_valid_mean"
   ]
  },
  {
   "cell_type": "code",
   "execution_count": 15,
   "metadata": {},
   "outputs": [],
   "source": [
    "target_valid_0, predicted_valid_0, rmse_0, predicted_valid_mean_0 = line_model(geo_data_0)\n",
    "target_valid_1, predicted_valid_1, rmse_1, predicted_valid_mean_1 = line_model(geo_data_1)\n",
    "target_valid_2, predicted_valid_2, rmse_2, predicted_valid_mean_2 = line_model(geo_data_2)"
   ]
  },
  {
   "cell_type": "code",
   "execution_count": 16,
   "metadata": {
    "scrolled": true
   },
   "outputs": [
    {
     "name": "stdout",
     "output_type": "stream",
     "text": [
      "Регион_0. Средний запас сырья: 92.39879990657768 rmse: 37.75660035026169\n",
      "Регион_1. Средний запас сырья: 68.71287803913762 rmse: 0.890280100102884\n",
      "Регион_2. Средний запас сырья: 94.77102387765939 rmse: 40.145872311342174\n"
     ]
    }
   ],
   "source": [
    "print('Регион_0. Средний запас сырья:', predicted_valid_mean_0, 'rmse:', rmse_0)\n",
    "print('Регион_1. Средний запас сырья:', predicted_valid_mean_1, 'rmse:', rmse_1)\n",
    "print('Регион_2. Средний запас сырья:', predicted_valid_mean_2, 'rmse:', rmse_2)"
   ]
  },
  {
   "cell_type": "markdown",
   "metadata": {},
   "source": [
    "Вывод:\n",
    " \n",
    "- В нулевом регионе ошибка предсказаний самая маленькая, но по среднему объему запасов он на втором месте - 93 тыс. баррелей. В первом регионе ошибка RMSE - 37.\n",
    "\n",
    "- Наиболее точно модель предсказала запасы в первом регионе (RMSE - 0.88). Несмотря на высокую точность, первый регион имеет малый средний запас нефти - 69 тыс. баррелей, что делает его менее привлекательным для инвестиций.\n",
    "\n",
    "- Второй регион показывает наиболее высокое предсказанное среднее значение объема запасов нефти - 95 тыс. баррелей, но также имеет самую высокую ошибку предсказаний (RMSE) - 40, что делает его рискованным.\n",
    "\n",
    "Таким образом, Первый регион является самым предсказуемым и стабильным, но с низкими доходами. Второй регион наиболее перспективен с точки зрения возможной прибыли, несмотря на высокий риск. Нулевой регион менее привлекателен как по ошибке предсказаний, так и по среднему объему запасов нефти."
   ]
  },
  {
   "cell_type": "markdown",
   "metadata": {},
   "source": [
    "<div class=\"alert alert-block alert-success\">\n",
    "<b>Успех:</b> Модели обучены корректно. Радует, что ты активно используешь функции. Это помогает избежать дублирования кода, а значит уменьшает вероятность совершить ошибку/опечатку!\n",
    "</div>"
   ]
  },
  {
   "cell_type": "markdown",
   "metadata": {},
   "source": [
    "<a id=\"3\"></a> \n",
    "## Подготовка к расчёту прибыли"
   ]
  },
  {
   "cell_type": "code",
   "execution_count": 17,
   "metadata": {},
   "outputs": [],
   "source": [
    "BUDGET_PER_REGION = 10*(10**9)\n",
    "PRE_MAX_POINTS = 500\n",
    "FINAL_MAX_POINTS = 200\n",
    "PRODUCT_UNITS_INCOME_RUB = 450000\n",
    "DAMAGE_THRESHOLD =  0.025\n",
    "NON_DAMAGE_POINT = BUDGET_PER_REGION / PRODUCT_UNITS_INCOME_RUB  / FINAL_MAX_POINTS"
   ]
  },
  {
   "cell_type": "markdown",
   "metadata": {},
   "source": [
    "<div class=\"alert alert-block alert-success\">\n",
    "<b>Успех:</b> Хорошо, что в названиях константных переменных использовались только большие буквы!\n",
    "</div>"
   ]
  },
  {
   "cell_type": "code",
   "execution_count": 18,
   "metadata": {
    "scrolled": false
   },
   "outputs": [
    {
     "name": "stdout",
     "output_type": "stream",
     "text": [
      "Достаточный объем добычи для безубыточной разработки = 111.11 единиц продукта (тыс. баррелей)\n"
     ]
    }
   ],
   "source": [
    "print(\"Достаточный объем добычи для безубыточной разработки =\",round(NON_DAMAGE_POINT,2), \"единиц продукта (тыс. баррелей)\")"
   ]
  },
  {
   "cell_type": "markdown",
   "metadata": {},
   "source": [
    "Разница между объемами добычи, требуемыми для безубыточности проекта и средними значениями предсказанных объемов добычи нефти во всех скважинах разных регионов."
   ]
  },
  {
   "cell_type": "code",
   "execution_count": 19,
   "metadata": {},
   "outputs": [
    {
     "name": "stdout",
     "output_type": "stream",
     "text": [
      "Регион_0 = -18.712311204533435\n"
     ]
    }
   ],
   "source": [
    "print(\"Регион_0 =\", predicted_valid_mean_0 - NON_DAMAGE_POINT)"
   ]
  },
  {
   "cell_type": "code",
   "execution_count": 20,
   "metadata": {},
   "outputs": [
    {
     "name": "stdout",
     "output_type": "stream",
     "text": [
      "Регион_1 = -42.39823307197349\n"
     ]
    }
   ],
   "source": [
    "print(\"Регион_1 =\", predicted_valid_mean_1 - NON_DAMAGE_POINT)"
   ]
  },
  {
   "cell_type": "code",
   "execution_count": 21,
   "metadata": {
    "scrolled": true
   },
   "outputs": [
    {
     "name": "stdout",
     "output_type": "stream",
     "text": [
      "Регион_2 = -16.340087233451726\n"
     ]
    }
   ],
   "source": [
    "print(\"Регион_2 =\", predicted_valid_mean_2 - NON_DAMAGE_POINT)"
   ]
  },
  {
   "cell_type": "markdown",
   "metadata": {},
   "source": [
    "Разница между объемами добычи, требуемыми для безубыточности проекта и средними значениями объемов добычи нефти в 200 скважинах с предсказанным максимальным объемом в разных регионов."
   ]
  },
  {
   "cell_type": "code",
   "execution_count": 22,
   "metadata": {},
   "outputs": [
    {
     "data": {
      "text/plain": [
       "43.29620532962383"
      ]
     },
     "execution_count": 22,
     "metadata": {},
     "output_type": "execute_result"
    }
   ],
   "source": [
    "pd.Series(predicted_valid_0).sort_values(ascending=False).head(200).mean() - NON_DAMAGE_POINT"
   ]
  },
  {
   "cell_type": "code",
   "execution_count": 23,
   "metadata": {},
   "outputs": [
    {
     "data": {
      "text/plain": [
       "27.632645722211976"
      ]
     },
     "execution_count": 23,
     "metadata": {},
     "output_type": "execute_result"
    }
   ],
   "source": [
    "pd.Series(predicted_valid_1).sort_values(ascending=False).head(200).mean() - NON_DAMAGE_POINT"
   ]
  },
  {
   "cell_type": "code",
   "execution_count": 24,
   "metadata": {},
   "outputs": [
    {
     "data": {
      "text/plain": [
       "37.53312793016613"
      ]
     },
     "execution_count": 24,
     "metadata": {},
     "output_type": "execute_result"
    }
   ],
   "source": [
    "pd.Series(predicted_valid_2).sort_values(ascending=False).head(200).mean() - NON_DAMAGE_POINT"
   ]
  },
  {
   "cell_type": "markdown",
   "metadata": {},
   "source": [
    "__Вывод:__ Для безубыточности проекта минимальный объем добычи в одной скважине должен быть не менее 111 тыс. баррелей.\n",
    "Во всех регионах средние предсказанные значения объемов добычи нефти в одной сважине меньше минимум на 16 тыс. баррелей, чем требуется для безубыточности проекта. Средние значения 200 скважин с максимальным предсказанным объемом нефти во всех регионах превышают точку безубыточности. Лидирует первый регион с превышением в 44,4 тыс. баррелей."
   ]
  },
  {
   "cell_type": "markdown",
   "metadata": {},
   "source": [
    "\n",
    "<div class=\"alert alert-block alert-success\">\n",
    "<b>Успех:</b> Точка безубыточности найдена верно, сравнение проведено!\n",
    "</div>"
   ]
  },
  {
   "cell_type": "markdown",
   "metadata": {},
   "source": [
    "Напишем функцию для расчёта прибыли"
   ]
  },
  {
   "cell_type": "code",
   "execution_count": 25,
   "metadata": {},
   "outputs": [],
   "source": [
    "def total_income(target, probabilities, count, PRODUCT_UNITS_INCOME_RUB, REGION_BUDGET_RUB):\n",
    "    prob_sort = probabilities.sort_values(ascending=False)\n",
    "    selected = target[prob_sort.index][:count]\n",
    "    return int(PRODUCT_UNITS_INCOME_RUB * selected.sum() - REGION_BUDGET_RUB)"
   ]
  },
  {
   "cell_type": "markdown",
   "metadata": {},
   "source": [
    "<a id=\"4\"></a> \n",
    "## Расчёт прибыли и рисков "
   ]
  },
  {
   "cell_type": "code",
   "execution_count": 26,
   "metadata": {},
   "outputs": [],
   "source": [
    "def series_type(target, pred):\n",
    "    target = target.reset_index(drop=True)\n",
    "    pred = pd.Series(pred)\n",
    "    return target, pred"
   ]
  },
  {
   "cell_type": "code",
   "execution_count": 27,
   "metadata": {},
   "outputs": [],
   "source": [
    "target_valid_0, predicted_valid_0 = series_type(target_valid_0, predicted_valid_0)\n",
    "target_valid_1, predicted_valid_1 = series_type(target_valid_1, predicted_valid_1)\n",
    "target_valid_2, predicted_valid_2 = series_type(target_valid_2, predicted_valid_2)"
   ]
  },
  {
   "cell_type": "code",
   "execution_count": 28,
   "metadata": {},
   "outputs": [],
   "source": [
    "def bootstrap_regions(target, predicted, SELECTED_QUANTITY_POINTS, PRODUCT_UNITS_INCOME_RUB, REGION_BUDGET_RUB):\n",
    "    state = RandomState(12345)\n",
    "    values = []\n",
    "    lost =0\n",
    "    for i in range(1000):\n",
    "        target_subsample = target.sample(n = PRE_MAX_POINTS, replace=True, random_state=state)\n",
    "        pred_subsumple = predicted[target_subsample.index]\n",
    "        profit = total_income(target_subsample, pred_subsumple, SELECTED_QUANTITY_POINTS, PRODUCT_UNITS_INCOME_RUB, REGION_BUDGET_RUB)\n",
    "        if profit < 0:\n",
    "            lost +=1\n",
    "            \n",
    "        values.append(profit)\n",
    "    values = pd.Series(values)\n",
    "    values_mean = int(values.mean())\n",
    "    lower = int(values.quantile(q=0.025))\n",
    "    upper = int(values.quantile(q=0.975))\n",
    "    risk = lost / 1000\n",
    "    return values_mean, lower, upper, risk"
   ]
  },
  {
   "cell_type": "markdown",
   "metadata": {},
   "source": [
    "<div class=\"alert alert-block alert-success\">\n",
    "<b>Успех:</b> Отлично, что для подсчета доверительного интервала использовался именно метод квантилей!\n",
    "</div>\n",
    "\n",
    "\n",
    "<div class=\"alert alert-block alert-info\">\n",
    "\n",
    "<b>Совет: </b> Риск можно было найти чуть проще: `(values < 0).mean()`, если объект типа pandas Series или numpy array.\n",
    "</div>"
   ]
  },
  {
   "cell_type": "code",
   "execution_count": 29,
   "metadata": {},
   "outputs": [],
   "source": [
    "values_mean_0, lower_0, upper_0, risk_0  = bootstrap_regions(target_valid_0, predicted_valid_0, FINAL_MAX_POINTS, PRODUCT_UNITS_INCOME_RUB, BUDGET_PER_REGION)\n",
    "values_mean_1, lower_1, upper_1, risk_1  = bootstrap_regions(target_valid_1, predicted_valid_1, FINAL_MAX_POINTS, PRODUCT_UNITS_INCOME_RUB, BUDGET_PER_REGION)\n",
    "values_mean_2, lower_2, upper_2, risk_2  = bootstrap_regions(target_valid_2, predicted_valid_2, FINAL_MAX_POINTS, PRODUCT_UNITS_INCOME_RUB, BUDGET_PER_REGION)"
   ]
  },
  {
   "cell_type": "code",
   "execution_count": 30,
   "metadata": {},
   "outputs": [
    {
     "name": "stdout",
     "output_type": "stream",
     "text": [
      "Данные по нулевому региону.\n",
      "Средняя прибыль по региону = 435933771 руб.\n",
      "95% доверительный интервал от -116231612 до 966504179 руб.\n",
      "Процент риска 6.1%\n"
     ]
    }
   ],
   "source": [
    "print('Данные по нулевому региону.')\n",
    "print('Средняя прибыль по региону = {:.0f} руб.'.format(values_mean_0))\n",
    "print('95% доверительный интервал от {:.0f} до {:.0f} руб.'.format(lower_0, upper_0))\n",
    "print('Процент риска {:.1%}'.format(risk_0))"
   ]
  },
  {
   "cell_type": "code",
   "execution_count": 31,
   "metadata": {},
   "outputs": [
    {
     "name": "stdout",
     "output_type": "stream",
     "text": [
      "Данные по первому региону.\n",
      "Средняя прибыль по региону = 489661253 руб.\n",
      "95% доверительный интервал от 55116176 до 905762649 руб.\n",
      "Процент риска 1.1%\n"
     ]
    }
   ],
   "source": [
    "print('Данные по первому региону.')\n",
    "print('Средняя прибыль по региону = {:.0f} руб.'.format(values_mean_1))\n",
    "print('95% доверительный интервал от {:.0f} до {:.0f} руб.'.format(lower_1, upper_1))\n",
    "print('Процент риска {:.1%}'.format(risk_1))"
   ]
  },
  {
   "cell_type": "code",
   "execution_count": 32,
   "metadata": {},
   "outputs": [
    {
     "name": "stdout",
     "output_type": "stream",
     "text": [
      "Данные по второму региону.\n",
      "Средняя прибыль по региону = 403687927 руб.\n",
      "95% доверительный интервал от -116231612 до 966504179 руб.\n",
      "Процент риска 7.1%\n"
     ]
    }
   ],
   "source": [
    "print('Данные по второму региону.')\n",
    "print('Средняя прибыль по региону = {:.0f} руб.'.format(values_mean_2))\n",
    "print('95% доверительный интервал от {:.0f} до {:.0f} руб.'.format(lower_0, upper_0))\n",
    "print('Процент риска {:.1%}'.format(risk_2))"
   ]
  },
  {
   "cell_type": "markdown",
   "metadata": {},
   "source": [
    "В рамках исследования выполнена всесторонняя работа по анализу данных и моделированию для выбора наилучшего региона для разработки нефтяных месторождений. Были изучены данные и подготовлены к моделированию, обучены модели для каждого региона, рассчитаны показатели прибыли и риски. Результаты показали следующее:\n",
    "\n",
    "- Нулевой регион демонстрирует среднюю прибыль лучших месторождений 425,94 млн рублей с риском убытков 6%.\n",
    "- Средня прибыль лучших месторождений первого региона составляет 515,22 млн рублей при риске убытков всего 1%, что значительно лучше показателей других регионов.\n",
    "- Второй регион показывает среднюю прибыль лучших месторождений 435,01 млн рублей, но риск убытков также составляет 6,4%.\n",
    "\n",
    "Таким образом, первый регион рекомендован для дальнейшего освоения и разработки."
   ]
  },
  {
   "cell_type": "markdown",
   "metadata": {},
   "source": [
    "<div class=\"alert alert-block alert-success\">\n",
    "<b>Успех:</b> Приятно видеть вывод в конце проекта! С выбором региона согласен.\n",
    "</div>"
   ]
  },
  {
   "cell_type": "markdown",
   "metadata": {},
   "source": [
    "<a id=\"5\"></a> \n",
    "## Чек-лист готовности проекта"
   ]
  },
  {
   "cell_type": "markdown",
   "metadata": {},
   "source": [
    "Поставьте 'x' в выполненных пунктах. Далее нажмите Shift+Enter."
   ]
  },
  {
   "cell_type": "markdown",
   "metadata": {},
   "source": [
    "- [x]  Jupyter Notebook открыт\n",
    "- [x]  Весь код выполняется без ошибок\n",
    "- [x]  Ячейки с кодом расположены в порядке исполнения\n",
    "- [x]  Выполнен шаг 1: данные подготовлены\n",
    "- [x]  Выполнен шаг 2: модели обучены и проверены\n",
    "    - [x]  Данные корректно разбиты на обучающую и валидационную выборки\n",
    "    - [x]  Модели обучены, предсказания сделаны\n",
    "    - [x]  Предсказания и правильные ответы на валидационной выборке сохранены\n",
    "    - [x]  На экране напечатаны результаты\n",
    "    - [x]  Сделаны выводы\n",
    "- [x]  Выполнен шаг 3: проведена подготовка к расчёту прибыли\n",
    "    - [x]  Для всех ключевых значений созданы константы Python\n",
    "    - [x]  Посчитано минимальное среднее количество продукта в месторождениях региона, достаточное для разработки\n",
    "    - [x]  По предыдущему пункту сделаны выводы\n",
    "    - [x]  Написана функция расчёта прибыли\n",
    "- [x]  Выполнен шаг 4: посчитаны риски и прибыль\n",
    "    - [x]  Проведена процедура *Bootstrap*\n",
    "    - [x]  Все параметры бутстрепа соответствуют условию\n",
    "    - [x]  Найдены все нужные величины\n",
    "    - [x]  Предложен регион для разработки месторождения\n",
    "    - [x]  Выбор региона обоснован"
   ]
  },
  {
   "cell_type": "code",
   "execution_count": 33,
   "metadata": {},
   "outputs": [
    {
     "name": "stdout",
     "output_type": "stream",
     "text": [
      "Проверка на работоспособность кода\n"
     ]
    }
   ],
   "source": [
    "print(\"Проверка на работоспособность кода\")"
   ]
  }
 ],
 "metadata": {
  "ExecuteTimeLog": [
   {
    "duration": 1625,
    "start_time": "2024-08-02T13:32:25.871Z"
   },
   {
    "duration": 3,
    "start_time": "2024-08-02T13:32:29.255Z"
   },
   {
    "duration": 926,
    "start_time": "2024-08-02T13:32:29.637Z"
   },
   {
    "duration": 107,
    "start_time": "2024-08-02T13:32:30.565Z"
   },
   {
    "duration": 0,
    "start_time": "2024-08-02T13:32:30.674Z"
   },
   {
    "duration": 13,
    "start_time": "2024-08-02T13:32:30.894Z"
   },
   {
    "duration": 3,
    "start_time": "2024-08-02T13:33:36.976Z"
   },
   {
    "duration": 421,
    "start_time": "2024-08-02T13:33:37.384Z"
   },
   {
    "duration": 3,
    "start_time": "2024-08-02T13:33:37.807Z"
   },
   {
    "duration": 154,
    "start_time": "2024-08-02T13:33:37.986Z"
   },
   {
    "duration": 100,
    "start_time": "2024-08-02T13:33:40.514Z"
   },
   {
    "duration": 113,
    "start_time": "2024-08-02T13:33:40.976Z"
   },
   {
    "duration": 395,
    "start_time": "2024-08-02T13:35:22.050Z"
   },
   {
    "duration": 3,
    "start_time": "2024-08-02T13:35:22.446Z"
   },
   {
    "duration": 145,
    "start_time": "2024-08-02T13:35:22.493Z"
   },
   {
    "duration": 118,
    "start_time": "2024-08-02T13:35:22.877Z"
   },
   {
    "duration": 102,
    "start_time": "2024-08-02T13:35:23.222Z"
   },
   {
    "duration": 39,
    "start_time": "2024-08-02T13:35:23.433Z"
   },
   {
    "duration": 248,
    "start_time": "2024-08-02T13:36:22.612Z"
   },
   {
    "duration": 5,
    "start_time": "2024-08-02T13:37:58.134Z"
   },
   {
    "duration": 1654,
    "start_time": "2024-08-02T13:38:20.226Z"
   },
   {
    "duration": 1632,
    "start_time": "2024-08-02T13:38:21.883Z"
   },
   {
    "duration": 1570,
    "start_time": "2024-08-02T13:38:23.517Z"
   },
   {
    "duration": 1607,
    "start_time": "2024-08-03T05:48:19.778Z"
   },
   {
    "duration": 4,
    "start_time": "2024-08-03T05:48:21.387Z"
   },
   {
    "duration": 15,
    "start_time": "2024-08-03T05:48:21.392Z"
   },
   {
    "duration": 1024,
    "start_time": "2024-08-03T05:48:21.409Z"
   },
   {
    "duration": 3,
    "start_time": "2024-08-03T05:48:22.435Z"
   },
   {
    "duration": 164,
    "start_time": "2024-08-03T05:48:22.440Z"
   },
   {
    "duration": 116,
    "start_time": "2024-08-03T05:48:22.606Z"
   },
   {
    "duration": 129,
    "start_time": "2024-08-03T05:48:22.724Z"
   },
   {
    "duration": 32,
    "start_time": "2024-08-03T05:48:22.855Z"
   },
   {
    "duration": 281,
    "start_time": "2024-08-03T05:48:22.889Z"
   },
   {
    "duration": 1635,
    "start_time": "2024-08-03T05:48:23.172Z"
   },
   {
    "duration": 1652,
    "start_time": "2024-08-03T05:48:24.809Z"
   },
   {
    "duration": 1574,
    "start_time": "2024-08-03T05:48:26.463Z"
   },
   {
    "duration": 5,
    "start_time": "2024-08-03T05:48:28.045Z"
   },
   {
    "duration": 112,
    "start_time": "2024-08-03T05:48:28.051Z"
   },
   {
    "duration": 0,
    "start_time": "2024-08-03T05:48:28.165Z"
   },
   {
    "duration": 408,
    "start_time": "2024-08-03T05:48:58.741Z"
   },
   {
    "duration": 5,
    "start_time": "2024-08-03T05:49:00.214Z"
   },
   {
    "duration": 3,
    "start_time": "2024-08-03T05:51:10.282Z"
   },
   {
    "duration": 3,
    "start_time": "2024-08-03T05:57:24.403Z"
   },
   {
    "duration": 4,
    "start_time": "2024-08-03T06:02:59.342Z"
   },
   {
    "duration": 4,
    "start_time": "2024-08-03T06:03:01.798Z"
   },
   {
    "duration": 12,
    "start_time": "2024-08-03T06:03:02.262Z"
   },
   {
    "duration": 7,
    "start_time": "2024-08-03T06:03:02.669Z"
   },
   {
    "duration": 7,
    "start_time": "2024-08-03T06:07:29.053Z"
   },
   {
    "duration": 5,
    "start_time": "2024-08-03T06:08:10.458Z"
   },
   {
    "duration": 9,
    "start_time": "2024-08-03T06:08:10.877Z"
   },
   {
    "duration": 6,
    "start_time": "2024-08-03T06:10:35.496Z"
   },
   {
    "duration": 17,
    "start_time": "2024-08-03T06:12:17.767Z"
   },
   {
    "duration": 6,
    "start_time": "2024-08-03T06:12:26.310Z"
   },
   {
    "duration": 6,
    "start_time": "2024-08-03T06:12:28.068Z"
   },
   {
    "duration": 22,
    "start_time": "2024-08-03T06:12:28.247Z"
   },
   {
    "duration": 6,
    "start_time": "2024-08-03T06:13:17.575Z"
   },
   {
    "duration": 12,
    "start_time": "2024-08-03T06:13:33.669Z"
   },
   {
    "duration": 8,
    "start_time": "2024-08-03T06:13:33.905Z"
   },
   {
    "duration": 5,
    "start_time": "2024-08-03T06:15:23.117Z"
   },
   {
    "duration": 13,
    "start_time": "2024-08-03T06:15:23.534Z"
   },
   {
    "duration": 7,
    "start_time": "2024-08-03T07:02:55.764Z"
   },
   {
    "duration": 18,
    "start_time": "2024-08-03T07:02:55.957Z"
   },
   {
    "duration": 5,
    "start_time": "2024-08-03T07:05:14.937Z"
   },
   {
    "duration": 15,
    "start_time": "2024-08-03T07:05:15.118Z"
   },
   {
    "duration": 5,
    "start_time": "2024-08-03T07:07:21.661Z"
   },
   {
    "duration": 13,
    "start_time": "2024-08-03T07:07:22.015Z"
   },
   {
    "duration": 11,
    "start_time": "2024-08-03T07:08:39.695Z"
   },
   {
    "duration": 10,
    "start_time": "2024-08-03T07:08:57.683Z"
   },
   {
    "duration": 10,
    "start_time": "2024-08-03T07:09:20.480Z"
   },
   {
    "duration": 14,
    "start_time": "2024-08-03T07:09:36.158Z"
   },
   {
    "duration": 4,
    "start_time": "2024-08-03T07:09:56.063Z"
   },
   {
    "duration": 15,
    "start_time": "2024-08-03T07:09:56.582Z"
   },
   {
    "duration": 1423,
    "start_time": "2024-08-03T07:10:09.956Z"
   },
   {
    "duration": 3,
    "start_time": "2024-08-03T07:10:11.381Z"
   },
   {
    "duration": 18,
    "start_time": "2024-08-03T07:10:11.385Z"
   },
   {
    "duration": 455,
    "start_time": "2024-08-03T07:10:11.405Z"
   },
   {
    "duration": 3,
    "start_time": "2024-08-03T07:10:11.862Z"
   },
   {
    "duration": 133,
    "start_time": "2024-08-03T07:10:11.866Z"
   },
   {
    "duration": 118,
    "start_time": "2024-08-03T07:10:12.000Z"
   },
   {
    "duration": 120,
    "start_time": "2024-08-03T07:10:12.120Z"
   },
   {
    "duration": 29,
    "start_time": "2024-08-03T07:10:12.246Z"
   },
   {
    "duration": 269,
    "start_time": "2024-08-03T07:10:12.277Z"
   },
   {
    "duration": 1660,
    "start_time": "2024-08-03T07:10:12.548Z"
   },
   {
    "duration": 1736,
    "start_time": "2024-08-03T07:10:14.209Z"
   },
   {
    "duration": 1616,
    "start_time": "2024-08-03T07:10:15.946Z"
   },
   {
    "duration": 6,
    "start_time": "2024-08-03T07:10:17.565Z"
   },
   {
    "duration": 378,
    "start_time": "2024-08-03T07:10:17.573Z"
   },
   {
    "duration": 93,
    "start_time": "2024-08-03T07:10:17.953Z"
   },
   {
    "duration": 99,
    "start_time": "2024-08-03T07:10:18.048Z"
   },
   {
    "duration": 23,
    "start_time": "2024-08-03T07:10:18.149Z"
   },
   {
    "duration": 29,
    "start_time": "2024-08-03T07:10:18.174Z"
   },
   {
    "duration": 18,
    "start_time": "2024-08-03T07:10:18.205Z"
   },
   {
    "duration": 15,
    "start_time": "2024-08-03T07:10:18.225Z"
   },
   {
    "duration": 113,
    "start_time": "2024-08-03T07:10:18.241Z"
   },
   {
    "duration": 0,
    "start_time": "2024-08-03T07:10:18.356Z"
   },
   {
    "duration": 0,
    "start_time": "2024-08-03T07:10:18.358Z"
   },
   {
    "duration": 0,
    "start_time": "2024-08-03T07:10:18.359Z"
   },
   {
    "duration": 0,
    "start_time": "2024-08-03T07:10:18.360Z"
   },
   {
    "duration": 3,
    "start_time": "2024-08-03T07:13:06.438Z"
   },
   {
    "duration": 5,
    "start_time": "2024-08-03T07:13:06.664Z"
   },
   {
    "duration": 5,
    "start_time": "2024-08-03T07:13:06.893Z"
   },
   {
    "duration": 5,
    "start_time": "2024-08-03T07:13:07.332Z"
   },
   {
    "duration": 17,
    "start_time": "2024-08-03T07:13:08.562Z"
   },
   {
    "duration": 4,
    "start_time": "2024-08-03T07:16:08.941Z"
   },
   {
    "duration": 3,
    "start_time": "2024-08-03T07:16:09.880Z"
   },
   {
    "duration": 4,
    "start_time": "2024-08-03T07:16:10.293Z"
   },
   {
    "duration": 5,
    "start_time": "2024-08-03T07:16:10.644Z"
   },
   {
    "duration": 4,
    "start_time": "2024-08-03T07:16:11.123Z"
   },
   {
    "duration": 4073,
    "start_time": "2024-08-03T07:16:11.602Z"
   },
   {
    "duration": 4,
    "start_time": "2024-08-03T07:16:31.102Z"
   },
   {
    "duration": 3,
    "start_time": "2024-08-03T07:16:43.882Z"
   },
   {
    "duration": 4,
    "start_time": "2024-08-03T07:16:44.188Z"
   },
   {
    "duration": 4,
    "start_time": "2024-08-03T07:16:44.385Z"
   },
   {
    "duration": 4162,
    "start_time": "2024-08-03T07:17:49.739Z"
   },
   {
    "duration": 1497,
    "start_time": "2024-08-03T07:18:04.000Z"
   },
   {
    "duration": 4292,
    "start_time": "2024-08-03T07:19:26.707Z"
   },
   {
    "duration": 4,
    "start_time": "2024-08-03T07:20:32.247Z"
   },
   {
    "duration": 4,
    "start_time": "2024-08-03T07:21:31.158Z"
   },
   {
    "duration": 4,
    "start_time": "2024-08-03T07:21:50.727Z"
   },
   {
    "duration": 4,
    "start_time": "2024-08-03T07:21:51.041Z"
   },
   {
    "duration": 5,
    "start_time": "2024-08-03T07:24:55.207Z"
   },
   {
    "duration": 69,
    "start_time": "2024-08-03T07:24:55.730Z"
   },
   {
    "duration": 4,
    "start_time": "2024-08-03T07:25:10.024Z"
   },
   {
    "duration": 5,
    "start_time": "2024-08-03T07:25:17.421Z"
   },
   {
    "duration": 4269,
    "start_time": "2024-08-03T07:25:18.538Z"
   },
   {
    "duration": 4,
    "start_time": "2024-08-03T07:25:23.712Z"
   },
   {
    "duration": 4,
    "start_time": "2024-08-03T07:25:24.193Z"
   },
   {
    "duration": 4,
    "start_time": "2024-08-03T07:25:25.484Z"
   },
   {
    "duration": 3,
    "start_time": "2024-08-03T07:25:25.980Z"
   },
   {
    "duration": 5,
    "start_time": "2024-08-03T07:27:00.159Z"
   },
   {
    "duration": 3,
    "start_time": "2024-08-03T07:27:11.647Z"
   },
   {
    "duration": 6,
    "start_time": "2024-08-03T07:27:24.861Z"
   },
   {
    "duration": 3,
    "start_time": "2024-08-03T07:38:38.536Z"
   },
   {
    "duration": 3,
    "start_time": "2024-08-03T07:38:38.789Z"
   },
   {
    "duration": 3,
    "start_time": "2024-08-03T07:38:38.997Z"
   },
   {
    "duration": 3,
    "start_time": "2024-08-03T07:39:21.610Z"
   },
   {
    "duration": 3,
    "start_time": "2024-08-03T07:39:26.979Z"
   },
   {
    "duration": 3,
    "start_time": "2024-08-03T07:40:28.523Z"
   },
   {
    "duration": 3,
    "start_time": "2024-08-03T07:40:28.887Z"
   },
   {
    "duration": 3,
    "start_time": "2024-08-03T07:41:05.325Z"
   },
   {
    "duration": 4,
    "start_time": "2024-08-03T07:41:22.136Z"
   },
   {
    "duration": 14,
    "start_time": "2024-08-03T07:44:13.918Z"
   },
   {
    "duration": 4,
    "start_time": "2024-08-03T07:44:30.972Z"
   },
   {
    "duration": 5,
    "start_time": "2024-08-03T07:44:31.440Z"
   },
   {
    "duration": 5,
    "start_time": "2024-08-03T07:44:31.744Z"
   },
   {
    "duration": 3,
    "start_time": "2024-08-03T07:45:03.622Z"
   },
   {
    "duration": 3,
    "start_time": "2024-08-03T07:45:04.062Z"
   },
   {
    "duration": 4,
    "start_time": "2024-08-03T07:45:04.699Z"
   },
   {
    "duration": 4,
    "start_time": "2024-08-03T07:45:04.910Z"
   },
   {
    "duration": 4,
    "start_time": "2024-08-03T07:45:05.390Z"
   },
   {
    "duration": 5,
    "start_time": "2024-08-03T07:46:40.741Z"
   },
   {
    "duration": 3,
    "start_time": "2024-08-03T07:46:43.081Z"
   },
   {
    "duration": 5,
    "start_time": "2024-08-03T07:46:53.334Z"
   },
   {
    "duration": 3,
    "start_time": "2024-08-03T07:46:53.939Z"
   },
   {
    "duration": 4,
    "start_time": "2024-08-03T07:46:54.332Z"
   },
   {
    "duration": 3,
    "start_time": "2024-08-03T07:50:12.364Z"
   },
   {
    "duration": 7,
    "start_time": "2024-08-03T07:52:22.509Z"
   },
   {
    "duration": 11,
    "start_time": "2024-08-03T07:52:22.730Z"
   },
   {
    "duration": 4,
    "start_time": "2024-08-03T07:52:23.016Z"
   },
   {
    "duration": 3,
    "start_time": "2024-08-03T07:52:26.345Z"
   },
   {
    "duration": 4,
    "start_time": "2024-08-03T07:52:26.531Z"
   },
   {
    "duration": 3,
    "start_time": "2024-08-03T07:52:26.697Z"
   },
   {
    "duration": 4,
    "start_time": "2024-08-03T07:52:27.293Z"
   },
   {
    "duration": 4,
    "start_time": "2024-08-03T07:52:27.612Z"
   },
   {
    "duration": 4,
    "start_time": "2024-08-03T07:52:27.892Z"
   },
   {
    "duration": 3,
    "start_time": "2024-08-03T07:52:28.764Z"
   },
   {
    "duration": 5,
    "start_time": "2024-08-03T07:52:28.928Z"
   },
   {
    "duration": 7,
    "start_time": "2024-08-03T07:52:29.087Z"
   },
   {
    "duration": 4183,
    "start_time": "2024-08-03T07:52:29.243Z"
   },
   {
    "duration": 4,
    "start_time": "2024-08-03T07:52:33.428Z"
   },
   {
    "duration": 16,
    "start_time": "2024-08-03T07:52:33.433Z"
   },
   {
    "duration": 28,
    "start_time": "2024-08-03T07:52:33.451Z"
   },
   {
    "duration": 8,
    "start_time": "2024-08-03T07:53:55.648Z"
   },
   {
    "duration": 4,
    "start_time": "2024-08-03T07:54:01.077Z"
   },
   {
    "duration": 4,
    "start_time": "2024-08-03T08:11:43.212Z"
   },
   {
    "duration": 4,
    "start_time": "2024-08-03T08:11:46.100Z"
   },
   {
    "duration": 4,
    "start_time": "2024-08-03T08:12:03.604Z"
   },
   {
    "duration": 4,
    "start_time": "2024-08-03T08:12:04.775Z"
   },
   {
    "duration": 3,
    "start_time": "2024-08-03T08:12:04.943Z"
   },
   {
    "duration": 3,
    "start_time": "2024-08-03T08:12:05.111Z"
   },
   {
    "duration": 4,
    "start_time": "2024-08-03T08:12:07.914Z"
   },
   {
    "duration": 11,
    "start_time": "2024-08-03T08:12:13.497Z"
   },
   {
    "duration": 10,
    "start_time": "2024-08-03T08:12:21.245Z"
   },
   {
    "duration": 13,
    "start_time": "2024-08-03T08:12:26.872Z"
   },
   {
    "duration": 8,
    "start_time": "2024-08-03T08:12:31.195Z"
   },
   {
    "duration": 14,
    "start_time": "2024-08-03T08:12:46.215Z"
   },
   {
    "duration": 8,
    "start_time": "2024-08-03T08:12:57.014Z"
   },
   {
    "duration": 8,
    "start_time": "2024-08-03T08:12:57.304Z"
   },
   {
    "duration": 12,
    "start_time": "2024-08-03T08:12:57.541Z"
   },
   {
    "duration": 4,
    "start_time": "2024-08-03T08:13:52.887Z"
   },
   {
    "duration": 4,
    "start_time": "2024-08-03T08:13:53.325Z"
   },
   {
    "duration": 4,
    "start_time": "2024-08-03T08:13:53.556Z"
   },
   {
    "duration": 8,
    "start_time": "2024-08-03T08:13:54.569Z"
   },
   {
    "duration": 7,
    "start_time": "2024-08-03T08:13:54.728Z"
   },
   {
    "duration": 8,
    "start_time": "2024-08-03T08:13:54.955Z"
   },
   {
    "duration": 3,
    "start_time": "2024-08-03T08:14:46.911Z"
   },
   {
    "duration": 4,
    "start_time": "2024-08-03T08:15:47.385Z"
   },
   {
    "duration": 4,
    "start_time": "2024-08-03T08:15:47.523Z"
   },
   {
    "duration": 4,
    "start_time": "2024-08-03T08:15:47.671Z"
   },
   {
    "duration": 4,
    "start_time": "2024-08-03T08:17:21.117Z"
   },
   {
    "duration": 4,
    "start_time": "2024-08-03T08:17:24.634Z"
   },
   {
    "duration": 4,
    "start_time": "2024-08-03T08:17:32.739Z"
   },
   {
    "duration": 4,
    "start_time": "2024-08-03T08:17:36.716Z"
   },
   {
    "duration": 11,
    "start_time": "2024-08-03T08:17:42.679Z"
   },
   {
    "duration": 5,
    "start_time": "2024-08-03T08:17:45.770Z"
   },
   {
    "duration": 3,
    "start_time": "2024-08-03T08:19:31.872Z"
   },
   {
    "duration": 4,
    "start_time": "2024-08-03T08:19:32.146Z"
   },
   {
    "duration": 3,
    "start_time": "2024-08-03T08:19:32.337Z"
   },
   {
    "duration": 4,
    "start_time": "2024-08-03T08:19:36.036Z"
   },
   {
    "duration": 4,
    "start_time": "2024-08-03T08:25:37.092Z"
   },
   {
    "duration": 4,
    "start_time": "2024-08-03T08:27:13.870Z"
   },
   {
    "duration": 3,
    "start_time": "2024-08-03T08:27:42.270Z"
   },
   {
    "duration": 7,
    "start_time": "2024-08-03T08:28:39.214Z"
   },
   {
    "duration": 1352,
    "start_time": "2024-08-03T08:36:42.944Z"
   },
   {
    "duration": 3,
    "start_time": "2024-08-03T08:36:44.298Z"
   },
   {
    "duration": 11,
    "start_time": "2024-08-03T08:36:44.302Z"
   },
   {
    "duration": 414,
    "start_time": "2024-08-03T08:36:44.314Z"
   },
   {
    "duration": 3,
    "start_time": "2024-08-03T08:36:44.730Z"
   },
   {
    "duration": 122,
    "start_time": "2024-08-03T08:36:44.734Z"
   },
   {
    "duration": 131,
    "start_time": "2024-08-03T08:36:44.857Z"
   },
   {
    "duration": 146,
    "start_time": "2024-08-03T08:36:44.989Z"
   },
   {
    "duration": 34,
    "start_time": "2024-08-03T08:36:45.137Z"
   },
   {
    "duration": 277,
    "start_time": "2024-08-03T08:36:45.172Z"
   },
   {
    "duration": 1597,
    "start_time": "2024-08-03T08:36:45.451Z"
   },
   {
    "duration": 1723,
    "start_time": "2024-08-03T08:36:47.050Z"
   },
   {
    "duration": 1556,
    "start_time": "2024-08-03T08:36:48.774Z"
   },
   {
    "duration": 4,
    "start_time": "2024-08-03T08:36:50.332Z"
   },
   {
    "duration": 316,
    "start_time": "2024-08-03T08:36:50.337Z"
   },
   {
    "duration": 6,
    "start_time": "2024-08-03T08:36:50.656Z"
   },
   {
    "duration": 102,
    "start_time": "2024-08-03T08:36:50.747Z"
   },
   {
    "duration": 28,
    "start_time": "2024-08-03T08:36:50.850Z"
   },
   {
    "duration": 18,
    "start_time": "2024-08-03T08:36:50.881Z"
   },
   {
    "duration": 14,
    "start_time": "2024-08-03T08:36:50.900Z"
   },
   {
    "duration": 13,
    "start_time": "2024-08-03T08:36:50.915Z"
   },
   {
    "duration": 22,
    "start_time": "2024-08-03T08:36:50.930Z"
   },
   {
    "duration": 46,
    "start_time": "2024-08-03T08:36:50.954Z"
   },
   {
    "duration": 26,
    "start_time": "2024-08-03T08:36:51.002Z"
   },
   {
    "duration": 18,
    "start_time": "2024-08-03T08:36:51.030Z"
   },
   {
    "duration": 17,
    "start_time": "2024-08-03T08:36:51.050Z"
   },
   {
    "duration": 17,
    "start_time": "2024-08-03T08:36:51.069Z"
   },
   {
    "duration": 26,
    "start_time": "2024-08-03T08:36:51.088Z"
   },
   {
    "duration": 4634,
    "start_time": "2024-08-03T08:36:51.116Z"
   },
   {
    "duration": 5,
    "start_time": "2024-08-03T08:36:55.751Z"
   },
   {
    "duration": 40,
    "start_time": "2024-08-03T08:36:55.758Z"
   },
   {
    "duration": 10,
    "start_time": "2024-08-03T08:36:55.799Z"
   },
   {
    "duration": 1352,
    "start_time": "2024-08-03T08:37:08.210Z"
   },
   {
    "duration": 3,
    "start_time": "2024-08-03T08:37:09.564Z"
   },
   {
    "duration": 23,
    "start_time": "2024-08-03T08:37:09.569Z"
   },
   {
    "duration": 429,
    "start_time": "2024-08-03T08:37:09.594Z"
   },
   {
    "duration": 3,
    "start_time": "2024-08-03T08:37:10.025Z"
   },
   {
    "duration": 152,
    "start_time": "2024-08-03T08:37:10.029Z"
   },
   {
    "duration": 116,
    "start_time": "2024-08-03T08:37:10.183Z"
   },
   {
    "duration": 127,
    "start_time": "2024-08-03T08:37:10.301Z"
   },
   {
    "duration": 37,
    "start_time": "2024-08-03T08:37:10.430Z"
   },
   {
    "duration": 271,
    "start_time": "2024-08-03T08:37:10.468Z"
   },
   {
    "duration": 1620,
    "start_time": "2024-08-03T08:37:10.741Z"
   },
   {
    "duration": 1658,
    "start_time": "2024-08-03T08:37:12.363Z"
   },
   {
    "duration": 1515,
    "start_time": "2024-08-03T08:37:14.022Z"
   },
   {
    "duration": 6,
    "start_time": "2024-08-03T08:37:15.539Z"
   },
   {
    "duration": 308,
    "start_time": "2024-08-03T08:37:15.547Z"
   },
   {
    "duration": 99,
    "start_time": "2024-08-03T08:37:15.947Z"
   },
   {
    "duration": 2,
    "start_time": "2024-08-03T08:37:16.048Z"
   },
   {
    "duration": 16,
    "start_time": "2024-08-03T08:37:16.052Z"
   },
   {
    "duration": 33,
    "start_time": "2024-08-03T08:37:16.069Z"
   },
   {
    "duration": 115,
    "start_time": "2024-08-03T08:37:16.104Z"
   },
   {
    "duration": 30,
    "start_time": "2024-08-03T08:37:16.221Z"
   },
   {
    "duration": 20,
    "start_time": "2024-08-03T08:37:16.253Z"
   },
   {
    "duration": 7,
    "start_time": "2024-08-03T08:37:16.275Z"
   },
   {
    "duration": 17,
    "start_time": "2024-08-03T08:37:16.284Z"
   },
   {
    "duration": 11,
    "start_time": "2024-08-03T08:37:16.303Z"
   },
   {
    "duration": 16,
    "start_time": "2024-08-03T08:37:16.316Z"
   },
   {
    "duration": 6,
    "start_time": "2024-08-03T08:37:16.334Z"
   },
   {
    "duration": 13,
    "start_time": "2024-08-03T08:37:16.341Z"
   },
   {
    "duration": 4701,
    "start_time": "2024-08-03T08:37:16.355Z"
   },
   {
    "duration": 4,
    "start_time": "2024-08-03T08:37:21.058Z"
   },
   {
    "duration": 119,
    "start_time": "2024-08-03T08:37:21.064Z"
   },
   {
    "duration": 59,
    "start_time": "2024-08-03T08:37:21.184Z"
   },
   {
    "duration": 60,
    "start_time": "2024-08-03T08:37:21.244Z"
   },
   {
    "duration": 5,
    "start_time": "2024-08-03T08:37:50.017Z"
   },
   {
    "duration": 4139,
    "start_time": "2024-08-03T08:37:50.034Z"
   },
   {
    "duration": 5,
    "start_time": "2024-08-03T08:37:54.175Z"
   },
   {
    "duration": 14,
    "start_time": "2024-08-03T08:37:54.181Z"
   },
   {
    "duration": 15,
    "start_time": "2024-08-03T08:37:54.197Z"
   },
   {
    "duration": 3,
    "start_time": "2024-08-03T08:38:05.379Z"
   },
   {
    "duration": 1420,
    "start_time": "2024-08-03T08:38:28.022Z"
   },
   {
    "duration": 3,
    "start_time": "2024-08-03T08:38:29.444Z"
   },
   {
    "duration": 9,
    "start_time": "2024-08-03T08:38:29.449Z"
   },
   {
    "duration": 426,
    "start_time": "2024-08-03T08:38:29.459Z"
   },
   {
    "duration": 3,
    "start_time": "2024-08-03T08:38:29.887Z"
   },
   {
    "duration": 152,
    "start_time": "2024-08-03T08:38:29.893Z"
   },
   {
    "duration": 141,
    "start_time": "2024-08-03T08:38:30.047Z"
   },
   {
    "duration": 462,
    "start_time": "2024-08-03T08:38:30.190Z"
   },
   {
    "duration": 37,
    "start_time": "2024-08-03T08:38:30.655Z"
   },
   {
    "duration": 307,
    "start_time": "2024-08-03T08:38:30.693Z"
   },
   {
    "duration": 1609,
    "start_time": "2024-08-03T08:38:31.002Z"
   },
   {
    "duration": 1620,
    "start_time": "2024-08-03T08:38:32.613Z"
   },
   {
    "duration": 1573,
    "start_time": "2024-08-03T08:38:34.234Z"
   },
   {
    "duration": 5,
    "start_time": "2024-08-03T08:38:35.810Z"
   },
   {
    "duration": 432,
    "start_time": "2024-08-03T08:38:35.816Z"
   },
   {
    "duration": 96,
    "start_time": "2024-08-03T08:38:36.251Z"
   },
   {
    "duration": 17,
    "start_time": "2024-08-03T08:38:36.350Z"
   },
   {
    "duration": 14,
    "start_time": "2024-08-03T08:38:36.447Z"
   },
   {
    "duration": 33,
    "start_time": "2024-08-03T08:38:36.462Z"
   },
   {
    "duration": 53,
    "start_time": "2024-08-03T08:38:36.497Z"
   },
   {
    "duration": 32,
    "start_time": "2024-08-03T08:38:36.553Z"
   },
   {
    "duration": 9,
    "start_time": "2024-08-03T08:38:36.587Z"
   },
   {
    "duration": 9,
    "start_time": "2024-08-03T08:38:36.597Z"
   },
   {
    "duration": 10,
    "start_time": "2024-08-03T08:38:36.608Z"
   },
   {
    "duration": 4,
    "start_time": "2024-08-03T08:38:36.620Z"
   },
   {
    "duration": 9,
    "start_time": "2024-08-03T08:38:36.625Z"
   },
   {
    "duration": 4,
    "start_time": "2024-08-03T08:38:36.645Z"
   },
   {
    "duration": 8,
    "start_time": "2024-08-03T08:38:36.651Z"
   },
   {
    "duration": 4039,
    "start_time": "2024-08-03T08:38:36.661Z"
   },
   {
    "duration": 4,
    "start_time": "2024-08-03T08:38:40.701Z"
   },
   {
    "duration": 7,
    "start_time": "2024-08-03T08:38:40.707Z"
   },
   {
    "duration": 10,
    "start_time": "2024-08-03T08:38:40.715Z"
   },
   {
    "duration": 9,
    "start_time": "2024-08-03T08:38:40.726Z"
   }
  ],
  "kernelspec": {
   "display_name": "Python 3 (ipykernel)",
   "language": "python",
   "name": "python3"
  },
  "language_info": {
   "codemirror_mode": {
    "name": "ipython",
    "version": 3
   },
   "file_extension": ".py",
   "mimetype": "text/x-python",
   "name": "python",
   "nbconvert_exporter": "python",
   "pygments_lexer": "ipython3",
   "version": "3.9.5"
  },
  "toc": {
   "base_numbering": 1,
   "nav_menu": {},
   "number_sections": true,
   "sideBar": true,
   "skip_h1_title": true,
   "title_cell": "Table of Contents",
   "title_sidebar": "Contents",
   "toc_cell": false,
   "toc_position": {},
   "toc_section_display": true,
   "toc_window_display": false
  }
 },
 "nbformat": 4,
 "nbformat_minor": 2
}
