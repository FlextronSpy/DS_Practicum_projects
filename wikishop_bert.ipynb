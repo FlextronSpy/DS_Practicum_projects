{
 "cells": [
  {
   "cell_type": "markdown",
   "id": "a12ef69b-cd4d-4cc5-b7f5-7c4597d566f1",
   "metadata": {},
   "source": [
    "<h1>Содержание<span class=\"tocSkip\"></span></h1>\n",
    "<div class=\"toc\"><ul class=\"toc-item\"><li><span><a href=\"#Подготовка\" data-toc-modified-id=\"Подготовка-1\"><span class=\"toc-item-num\">1&nbsp;&nbsp;</span>Подготовка</a></span></li><li><span><a href=\"#Обучение\" data-toc-modified-id=\"Обучение-2\"><span class=\"toc-item-num\">2&nbsp;&nbsp;</span>Обучение</a></span></li><li><span><a href=\"#Выводы\" data-toc-modified-id=\"Выводы-3\"><span class=\"toc-item-num\">3&nbsp;&nbsp;</span>Выводы</a></span></li><li><span><a href=\"#Чек-лист-проверки\" data-toc-modified-id=\"Чек-лист-проверки-4\"><span class=\"toc-item-num\">4&nbsp;&nbsp;</span>Чек-лист проверки</a></span></li></ul></div>"
   ]
  },
  {
   "cell_type": "markdown",
   "id": "dcbf9e7d-17f4-4d6a-8d92-2c7e00eaf2ed",
   "metadata": {},
   "source": [
    "# Проект для «Викишоп» на BERT"
   ]
  },
  {
   "cell_type": "markdown",
   "id": "cd489705-e74d-4b01-a02b-e49f7f0fe283",
   "metadata": {},
   "source": [
    "Интернет-магазин «Викишоп» запускает новый сервис. Теперь пользователи могут редактировать и дополнять описания товаров, как в вики-сообществах. То есть клиенты предлагают свои правки и комментируют изменения других. Магазину нужен инструмент, который будет искать токсичные комментарии и отправлять их на модерацию. \n",
    "\n",
    "Обучите модель классифицировать комментарии на позитивные и негативные. В вашем распоряжении набор данных с разметкой о токсичности правок.\n",
    "\n",
    "Постройте модель со значением метрики качества *F1* не меньше 0.75. \n",
    "\n",
    "**Инструкция по выполнению проекта**\n",
    "\n",
    "1. Загрузите и подготовьте данные.\n",
    "2. Обучите разные модели. \n",
    "3. Сделайте выводы.\n",
    "\n",
    "Для выполнения проекта применять *BERT* необязательно, но вы можете попробовать.\n",
    "\n",
    "**Описание данных**\n",
    "\n",
    "Данные находятся в файле `toxic_comments.csv`. Столбец *text* в нём содержит текст комментария, а *toxic* — целевой признак."
   ]
  },
  {
   "cell_type": "markdown",
   "id": "d22173bc-47e1-4bd1-909f-5c4b57411102",
   "metadata": {},
   "source": [
    "**Используемые библиотеки**"
   ]
  },
  {
   "cell_type": "code",
   "execution_count": null,
   "id": "8d14cef1-9e09-494a-a8ee-4d1c7d6f1ea4",
   "metadata": {},
   "outputs": [],
   "source": [
    "import pandas as pd\n",
    "import numpy as np\n",
    "import lightgbm as lgb\n",
    "import re \n",
    "import nltk\n",
    "from tqdm import notebook\n",
    "import torch\n",
    "import transformers \n",
    "import matplotlib.pyplot as plt\n",
    "%matplotlib inline\n",
    "\n",
    "from wordcloud import WordCloud\n",
    "from imblearn.over_sampling import SMOTE\n",
    "from imblearn.combine import SMOTETomek\n",
    "from sklearn.utils import shuffle\n",
    "from sklearn.model_selection import train_test_split, GridSearchCV, RandomizedSearchCV\n",
    "from sklearn.linear_model import LogisticRegression, SGDClassifier\n",
    "from sklearn.ensemble import RandomForestClassifier\n",
    "from catboost import CatBoostClassifier\n",
    "from sklearn.metrics import f1_score\n",
    "from sklearn.svm import LinearSVC\n",
    "from lightgbm import LGBMClassifier"
   ]
  },
  {
   "cell_type": "code",
   "execution_count": null,
   "id": "05442d9e-7a11-4f5b-8a0e-1c20106dbee7",
   "metadata": {},
   "outputs": [],
   "source": [
    "def preprocess_text(text):\n",
    "    text = re.sub(r\"(?:\\n|\\r)\", \" \", text)\n",
    "    text = re.sub(r\"[^a-zA-Z ]+\", \"\", text).strip()\n",
    "    text = text.lower()\n",
    "    return text"
   ]
  },
  {
   "cell_type": "code",
   "execution_count": null,
   "id": "903a48b4-f380-4eb2-9162-bfd9b66bb7eb",
   "metadata": {},
   "outputs": [],
   "source": [
    "RANDOM_STATE=42"
   ]
  },
  {
   "cell_type": "markdown",
   "id": "194ec2fb-08c1-4dbd-9109-610e24eaeaa1",
   "metadata": {},
   "source": [
    "## Подготовка"
   ]
  },
  {
   "cell_type": "code",
   "execution_count": null,
   "id": "417bda8f-6ebe-4a39-b7e2-2c3d64db9794",
   "metadata": {},
   "outputs": [],
   "source": [
    "try:\n",
    "    data = pd.read_csv('toxic_comments.csv', index_col=0) \n",
    "except:\n",
    "    data = pd.read_csv('https://code.s3.yandex.net/datasets/toxic_comments.csv', index_col=0)"
   ]
  },
  {
   "cell_type": "code",
   "execution_count": null,
   "id": "f5d0fcf0-3d50-4615-a1b9-6a80b4637d41",
   "metadata": {},
   "outputs": [],
   "source": [
    "data.info()"
   ]
  },
  {
   "cell_type": "markdown",
   "id": "4a993f03-1700-4bb2-b04d-6be18d86e5e1",
   "metadata": {},
   "source": [
    "Очистим текст от лишних символов"
   ]
  },
  {
   "cell_type": "code",
   "execution_count": null,
   "id": "573a9e95-ed70-4e2f-91c8-0be4292ac9f8",
   "metadata": {},
   "outputs": [],
   "source": [
    "data['text'] = data['text'].apply(preprocess_text)"
   ]
  },
  {
   "cell_type": "markdown",
   "id": "90932839-2d3c-4de6-afea-fbd8c63db0ea",
   "metadata": {},
   "source": [
    "Проверим данные на дубликаты"
   ]
  },
  {
   "cell_type": "code",
   "execution_count": null,
   "id": "6fbcef6d-6634-4ffc-90eb-18402d04aeaf",
   "metadata": {},
   "outputs": [],
   "source": [
    "data.duplicated().sum()"
   ]
  },
  {
   "cell_type": "markdown",
   "id": "e1e09f63-b70f-4389-8110-a1886b792a99",
   "metadata": {},
   "source": [
    "Удалим дубликаты"
   ]
  },
  {
   "cell_type": "code",
   "execution_count": null,
   "id": "b94a4241-2f4f-4bbb-80be-2c3b87d3c0ec",
   "metadata": {},
   "outputs": [],
   "source": [
    "data = data.drop_duplicates().reset_index(drop=True)"
   ]
  },
  {
   "cell_type": "code",
   "execution_count": null,
   "id": "a1b7cdde-1c53-49eb-873a-94b44e602a1d",
   "metadata": {},
   "outputs": [],
   "source": [
    "data.duplicated().sum()"
   ]
  },
  {
   "cell_type": "markdown",
   "id": "3304c469-4b32-42c3-ba41-af8939365d89",
   "metadata": {},
   "source": [
    "Дубликатов нет"
   ]
  },
  {
   "cell_type": "code",
   "execution_count": null,
   "id": "045b4c59-dc00-4ce8-b105-bc6930917498",
   "metadata": {},
   "outputs": [],
   "source": [
    "text_no_toxic = \" \".join(data.query(\"toxic==0\")['text'])\n",
    "wordcloud_no_toxic = WordCloud().generate(text_no_toxic)\n",
    "plt.imshow(wordcloud_no_toxic)"
   ]
  },
  {
   "cell_type": "code",
   "execution_count": null,
   "id": "f3b02bbd-7281-42ca-8077-66c034b815e9",
   "metadata": {},
   "outputs": [],
   "source": [
    "text_toxic = \" \".join(data.query(\"toxic==1\")['text'])\n",
    "wordcloud_toxic = WordCloud().generate(text_toxic)\n",
    "plt.imshow(wordcloud_toxic)"
   ]
  },
  {
   "cell_type": "markdown",
   "id": "fb394c0a-f3fd-4fd2-89a4-80fa67ff1793",
   "metadata": {},
   "source": [
    "Проверим данные на дисбаланс классов"
   ]
  },
  {
   "cell_type": "code",
   "execution_count": null,
   "id": "c5ce3330-8e90-4e0c-9288-67a104bf54ba",
   "metadata": {},
   "outputs": [],
   "source": [
    "data.hist()"
   ]
  },
  {
   "cell_type": "markdown",
   "id": "d4f136db-3339-49a7-b7e9-e6d78094bebd",
   "metadata": {},
   "source": [
    "Имеется явный дисбаланс. Выровняем классы на этапе обучения моделей (разделение данных)."
   ]
  },
  {
   "cell_type": "markdown",
   "id": "6f7fd5c8-b14f-4f37-bfdf-23f6754ab316",
   "metadata": {},
   "source": [
    "Перепроверим"
   ]
  },
  {
   "cell_type": "markdown",
   "id": "2ede07ad-5d6b-4131-b13e-d5ce160c8931",
   "metadata": {},
   "source": [
    "Для ускорения векторизации уменьшим количество строк до 2000."
   ]
  },
  {
   "cell_type": "code",
   "execution_count": null,
   "id": "60b12b3d-6e76-4a67-84f7-52e61cfc272d",
   "metadata": {},
   "outputs": [],
   "source": [
    "data = data.sample(n=2000, random_state=RANDOM_STATE)"
   ]
  },
  {
   "cell_type": "markdown",
   "id": "e230555b-4856-4947-91d6-6012747e9ef9",
   "metadata": {},
   "source": [
    "Проведем эмбеддинг BERT"
   ]
  },
  {
   "cell_type": "code",
   "execution_count": null,
   "id": "e0733c45-7df0-4c94-902f-312b56e3e7a7",
   "metadata": {},
   "outputs": [],
   "source": [
    "tokenizer = transformers.BertTokenizer.from_pretrained(\"unitary/toxic-bert\")\n",
    "#tokenizer = AutoTokenizer.from_pretrained(\"bert-base-uncased\")"
   ]
  },
  {
   "cell_type": "code",
   "execution_count": null,
   "id": "3d7cfa5c-f390-48f6-86f6-86ebe309db52",
   "metadata": {},
   "outputs": [],
   "source": [
    "tokenized = data['text'].apply(\n",
    "    lambda x: tokenizer.encode(x, add_special_tokens=True, truncation=True))\n",
    "\n",
    "max_len = 0\n",
    "for i in tokenized.values:\n",
    "    if len(i) > max_len:\n",
    "        max_len = len(i)\n",
    "\n",
    "padded = np.array([i + [0]*(max_len - len(i)) for i in tokenized.values])\n",
    "\n",
    "attention_mask = np.where(padded != 0, 1, 0)"
   ]
  },
  {
   "cell_type": "code",
   "execution_count": null,
   "id": "c665c216-a69c-466f-bb51-a8a311feb00f",
   "metadata": {},
   "outputs": [],
   "source": [
    "model = transformers.BertModel.from_pretrained(\"unitary/toxic-bert\", num_labels = 2)\n",
    "#model = AutoModelForSequenceClassification.from_pretrained(\"unitary/toxic-bert\")"
   ]
  },
  {
   "cell_type": "code",
   "execution_count": null,
   "id": "e41fda65-2ff8-4389-8801-b02f79962f60",
   "metadata": {},
   "outputs": [],
   "source": [
    "batch_size = 1\n",
    "embeddings = []\n",
    "for i in notebook.tqdm(range(padded.shape[0] // batch_size)):\n",
    "        batch = torch.LongTensor(padded[batch_size*i:batch_size*(i+1)]) \n",
    "        attention_mask_batch = torch.LongTensor(attention_mask[batch_size*i:batch_size*(i+1)])\n",
    "        \n",
    "        with torch.no_grad():\n",
    "            batch_embeddings = model(batch, attention_mask=attention_mask_batch)\n",
    "        \n",
    "        embeddings.append(batch_embeddings[0][:,0,:].numpy())"
   ]
  },
  {
   "cell_type": "markdown",
   "id": "027f05cc-492e-4087-b05c-9df9f18c52f9",
   "metadata": {},
   "source": [
    "## Обучение"
   ]
  },
  {
   "cell_type": "markdown",
   "id": "56802206-484e-47e4-8777-9e616bf8a0c4",
   "metadata": {},
   "source": [
    "Разделим таблицу."
   ]
  },
  {
   "cell_type": "code",
   "execution_count": null,
   "id": "3bf61861-bfec-4556-ab03-a21dfe575c07",
   "metadata": {},
   "outputs": [],
   "source": [
    "X = np.concatenate(embeddings)"
   ]
  },
  {
   "cell_type": "code",
   "execution_count": null,
   "id": "c8c18b8e-18a3-4651-96c9-774d748b420d",
   "metadata": {},
   "outputs": [],
   "source": [
    "y = data['toxic']"
   ]
  },
  {
   "cell_type": "code",
   "execution_count": null,
   "id": "9057444f-afb4-4ffd-98a7-5b2bd14e8afd",
   "metadata": {},
   "outputs": [],
   "source": [
    "X_train, X_test, y_train, y_test = train_test_split(\n",
    "    X, \n",
    "    y, \n",
    "    test_size = .25, \n",
    "    stratify = y,\n",
    "    random_state=RANDOM_STATE)"
   ]
  },
  {
   "cell_type": "code",
   "execution_count": null,
   "id": "bd308d78-4478-45d1-9931-94122b39ec04",
   "metadata": {},
   "outputs": [],
   "source": [
    "X_test.shape"
   ]
  },
  {
   "cell_type": "code",
   "execution_count": null,
   "id": "6b35b91a-5e07-4fcf-8a5e-a7b23703555a",
   "metadata": {},
   "outputs": [],
   "source": [
    "features_down = pd.DataFrame(X_train).reset_index(drop=True)\n",
    "target_down = pd.Series(y_train).reset_index(drop=True)\n",
    "features_zeros = features_down[target_down == 0]\n",
    "features_ones = features_down[target_down == 1]\n",
    "target_zeros = target_down[target_down == 0]\n",
    "target_ones = target_down[target_down == 1]\n",
    "features_downsampled = pd.concat(\n",
    "    [features_zeros.sample(frac=0.15, random_state=RANDOM_STATE)] + [features_ones]\n",
    ")\n",
    "target_downsampled = pd.concat(\n",
    "    [target_zeros.sample(frac=0.15, random_state=RANDOM_STATE)] + [target_ones]\n",
    ")\n",
    "features_downsampled, target_downsampled = shuffle(\n",
    "    features_downsampled, target_downsampled, random_state=RANDOM_STATE\n",
    ")\n",
    "\n"
   ]
  },
  {
   "cell_type": "code",
   "execution_count": null,
   "id": "245c1a0c-7a68-4847-ad2f-c598ad3f28c3",
   "metadata": {},
   "outputs": [],
   "source": [
    "features_up = pd.DataFrame(X_train).reset_index(drop=True)\n",
    "target_up = pd.Series(y_train).reset_index(drop=True)\n",
    "features_zeros = features_up[target_up == 0]\n",
    "features_ones = features_up[target_up == 1]\n",
    "target_zeros = target_up[target_up == 0]\n",
    "target_ones = target_up[target_up == 1]\n",
    "\n",
    "features_upsampled = pd.concat(\n",
    "    [features_zeros.sample(frac=0.10, random_state=RANDOM_STATE)] + [features_ones] * 3\n",
    ")\n",
    "target_upsampled = pd.concat(\n",
    "    [target_zeros.sample(frac=0.10, random_state=RANDOM_STATE)] + [target_ones] * 3\n",
    ")\n",
    "    \n",
    "features_upsampled, target_upsampled = shuffle(\n",
    "features_upsampled, target_upsampled, random_state=RANDOM_STATE)"
   ]
  },
  {
   "cell_type": "code",
   "execution_count": null,
   "id": "56095b16-dcd7-4d6d-9968-74e717e5c286",
   "metadata": {},
   "outputs": [],
   "source": [
    "smo_tek = SMOTE(random_state=RANDOM_STATE, k_neighbors=10)\n",
    "X_smotek, y_smotek = smo_tek.fit_resample(X_train, y_train)"
   ]
  },
  {
   "cell_type": "code",
   "execution_count": null,
   "id": "3e2b7502-65ab-4ac8-8740-0f7f9e925f46",
   "metadata": {},
   "outputs": [],
   "source": [
    "from imblearn.over_sampling import RandomOverSampler\n",
    "\n",
    "sampler = RandomOverSampler(random_state=RANDOM_STATE)\n",
    "X_overresample, y_overresample = sampler.fit_resample(X_train, y_train) "
   ]
  },
  {
   "cell_type": "code",
   "execution_count": null,
   "id": "9f72aed2-7729-4754-bdde-1e2e55d280e5",
   "metadata": {},
   "outputs": [],
   "source": [
    "from imblearn.under_sampling import RandomUnderSampler\n",
    "\n",
    "sampler = RandomUnderSampler(random_state=RANDOM_STATE)\n",
    "X_underresample, y_underresample = sampler.fit_resample(X_train, y_train) "
   ]
  },
  {
   "cell_type": "code",
   "execution_count": null,
   "id": "7634b255-f154-43be-bd38-7349d03aa714",
   "metadata": {},
   "outputs": [],
   "source": [
    "y_smotek"
   ]
  },
  {
   "cell_type": "markdown",
   "id": "fd9ef6c2-9fa3-47a2-874e-9a81fb15b901",
   "metadata": {},
   "source": [
    "Обучим модели"
   ]
  },
  {
   "cell_type": "markdown",
   "id": "8fd7d85b-c8bf-40be-9bae-a17bcc77570c",
   "metadata": {},
   "source": [
    "### LogisticRegression"
   ]
  },
  {
   "cell_type": "code",
   "execution_count": null,
   "id": "2a8a815d-506e-4358-968d-9016541c8628",
   "metadata": {
    "scrolled": true
   },
   "outputs": [],
   "source": [
    "params = {\n",
    "            'C': range(1,10),\n",
    "            'penalty': [None,'l1','l2'],\n",
    "             'solver' : ['liblinear','lbfgs']\n",
    "          } \n",
    "            \n",
    "\n",
    "lr_clf = LogisticRegression(random_state=RANDOM_STATE, max_iter=1000, class_weight='balanced') \n",
    "lr_model = GridSearchCV(lr_clf, param_grid=params, scoring='f1', cv = 4, n_jobs=1) \n",
    "lr_model.fit(X_train, y_train)\n",
    "lr_model.best_score_ "
   ]
  },
  {
   "cell_type": "markdown",
   "id": "498a5c33-0ed9-4db8-b11d-a8014a056e91",
   "metadata": {},
   "source": [
    "### RandomForestClassifier"
   ]
  },
  {
   "cell_type": "code",
   "execution_count": null,
   "id": "40e2de52-c3fe-470a-85b8-353d54c002c0",
   "metadata": {},
   "outputs": [],
   "source": [
    "params = {\n",
    "             'n_estimators': [10, 50, 100, 300],\n",
    "             'max_depth': [1, 4, 9, 50]\n",
    "            } \n",
    "\n",
    "rfr = RandomForestClassifier(random_state=RANDOM_STATE, class_weight='balanced') \n",
    "rfr_model = GridSearchCV(rfr, param_grid=params, scoring='f1', cv = 4, n_jobs=1) \n",
    "rfr_model.fit(X_train, y_train)"
   ]
  },
  {
   "cell_type": "code",
   "execution_count": null,
   "id": "9a71cc80-287a-4b0f-b035-ab1ae63da726",
   "metadata": {},
   "outputs": [],
   "source": [
    "rfr_model.best_score_"
   ]
  },
  {
   "cell_type": "markdown",
   "id": "80269684-6964-4d01-b321-6e34773fbea1",
   "metadata": {},
   "source": [
    "### LGBMClassifier"
   ]
  },
  {
   "cell_type": "code",
   "execution_count": null,
   "id": "764e2da2-3620-4956-957f-bb25553ffdf0",
   "metadata": {
    "scrolled": true
   },
   "outputs": [],
   "source": [
    "param_dist = {\"max_depth\": [1, 4, 9, 50],\n",
    "              \"num_leaves\": [100],\n",
    "              \"n_estimators\": [10, 50, 100, 300],\n",
    "             }\n",
    "\n",
    "lgr = LGBMClassifier(random_state=RANDOM_STATE, class_weight='balanced')\n",
    "LGBM_model = GridSearchCV(lgr, param_grid=param_dist, cv = 4, n_jobs=1, scoring='f1', verbose=5)\n",
    "LGBM_model.fit(X_train, y_train)"
   ]
  },
  {
   "cell_type": "code",
   "execution_count": null,
   "id": "5d8bd886-4006-4332-b5ae-e66c4ad389b5",
   "metadata": {},
   "outputs": [],
   "source": [
    "LGBM_model.best_score_"
   ]
  },
  {
   "cell_type": "markdown",
   "id": "feb26772-b6fc-49cb-a00f-982a53ceefee",
   "metadata": {},
   "source": [
    "### LinearSVC"
   ]
  },
  {
   "cell_type": "code",
   "execution_count": null,
   "id": "476ea198-bfe4-432d-a661-287c4c1a68ec",
   "metadata": {
    "scrolled": true
   },
   "outputs": [],
   "source": [
    "params = {\n",
    "    'C': [0.1, 1, 10, 50]\n",
    "          }\n",
    "\n",
    "\n",
    "svc = LinearSVC(random_state=RANDOM_STATE, class_weight='balanced') \n",
    "svc_model = GridSearchCV(svc, param_grid=params, scoring='f1', cv = 4, n_jobs=1) \n",
    "svc_model.fit(X_train, y_train)"
   ]
  },
  {
   "cell_type": "code",
   "execution_count": null,
   "id": "9a51287a-1716-4643-890f-379bf7d49364",
   "metadata": {},
   "outputs": [],
   "source": [
    "svc_model.best_score_"
   ]
  },
  {
   "cell_type": "markdown",
   "id": "74cf96c2-7551-4957-947b-a04d33ac0188",
   "metadata": {},
   "source": [
    "### CatBoostClassifier"
   ]
  },
  {
   "cell_type": "code",
   "execution_count": null,
   "id": "afe2c6a6-c863-49c4-869a-32a165f3e482",
   "metadata": {
    "scrolled": true
   },
   "outputs": [],
   "source": [
    "cbc = CatBoostClassifier(iterations = 200, learning_rate = 0.5, verbose = 20, random_state = RANDOM_STATE)\n",
    "cbc_model = GridSearchCV(svc, param_grid=params, scoring='f1', cv = 4, n_jobs=1) \n",
    "cbc_model.fit(X_train, y_train)"
   ]
  },
  {
   "cell_type": "code",
   "execution_count": null,
   "id": "ab0266a0-ad4c-4d74-808b-cf4690cc481e",
   "metadata": {},
   "outputs": [],
   "source": [
    "cbc_model.best_score_"
   ]
  },
  {
   "cell_type": "markdown",
   "id": "e2728152-f92d-4b27-9726-61d743703d6d",
   "metadata": {},
   "source": [
    "F1 лучшей модели:"
   ]
  },
  {
   "cell_type": "code",
   "execution_count": null,
   "id": "d8719754-a5c2-4b08-823b-b944646191b6",
   "metadata": {},
   "outputs": [],
   "source": [
    "f1_score(y_test, rfr_model.predict(X_test))"
   ]
  },
  {
   "cell_type": "markdown",
   "id": "0e1b07bd-5181-4957-9f31-7db67fc04c51",
   "metadata": {},
   "source": [
    "## Выводы"
   ]
  },
  {
   "cell_type": "markdown",
   "id": "f6fb831b-331c-44ca-a206-2d48d2d28c8a",
   "metadata": {},
   "source": [
    "В ходе проекта для интернет-магазина \"Викишоп\" была обучена модель для поиска токсичных комментариев при помощи BERT. Данные были подготовлены, Среди всех моделей лучшей оказалась RandomForestClassifie."
   ]
  },
  {
   "cell_type": "markdown",
   "id": "51ba3fb5-e0ab-48e0-a2bf-b2475eec3225",
   "metadata": {},
   "source": [
    "## Чек-лист проверки"
   ]
  },
  {
   "cell_type": "markdown",
   "id": "643aa3ac-6282-4635-9316-b89fe2e52b14",
   "metadata": {},
   "source": [
    "- [x]  Jupyter Notebook открыт\n",
    "- [x]  Весь код выполняется без ошибок\n",
    "- [x]  Ячейки с кодом расположены в порядке исполнения\n",
    "- [x]  Данные загружены и подготовлены\n",
    "- [x]  Модели обучены\n",
    "- [x]  Значение метрики *F1* не меньше 0.75\n",
    "- [x]  Выводы написаны"
   ]
  },
  {
   "cell_type": "code",
   "execution_count": null,
   "id": "9bd44ac9-5afe-47c1-b9e7-237a70b5248e",
   "metadata": {},
   "outputs": [],
   "source": [
    "print(\"Для проверки кода на работоспособность\")"
   ]
  }
 ],
 "metadata": {
  "kernelspec": {
   "display_name": "Python 3 (ipykernel)",
   "language": "python",
   "name": "python3"
  },
  "language_info": {
   "codemirror_mode": {
    "name": "ipython",
    "version": 3
   },
   "file_extension": ".py",
   "mimetype": "text/x-python",
   "name": "python",
   "nbconvert_exporter": "python",
   "pygments_lexer": "ipython3",
   "version": "3.9.5"
  },
  "toc": {
   "base_numbering": 1,
   "nav_menu": {},
   "number_sections": true,
   "sideBar": true,
   "skip_h1_title": true,
   "title_cell": "Table of Contents",
   "title_sidebar": "Contents",
   "toc_cell": false,
   "toc_position": {},
   "toc_section_display": true,
   "toc_window_display": false
  }
 },
 "nbformat": 4,
 "nbformat_minor": 5
}
