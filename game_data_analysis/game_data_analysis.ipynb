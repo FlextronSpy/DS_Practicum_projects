{
 "cells": [
  {
   "cell_type": "markdown",
   "metadata": {},
   "source": [
    "# Анализ данных игр для интернет-магазина \"Стримчик\" \n",
    "\n",
    "Заголовок: Анализ данных игр для интернет-магазина \"Стримчик\" \n",
    "\n",
    "Описание проекта: Интернет-магазина \"Стримчик\"  продаёт по всему миру компьютерные игры. Имея доступ к историческим данным о продажах игр, оценкам пользователей и критиков, а также информации о жанрах и платформах, мы стремимся выявить закономерности, определяющие успешность игр. Анализ данных поможет нам сделать ставку на потенциально популярный продукт и спланировать рекламную кампанию.\n",
    "\n",
    "Цель исследования:  Наша цель - выявить факторы, влияющие на успешность игр в интернет-магазине \"Стримчик\", с использованием доступных исторических данных. Мы стремимся определить, какие характеристики игр, такие как жанр, платформа, рейтинг ESRB и другие, оказывают наибольшее влияние на объемы продаж.\n",
    "\n",
    "Ход исследования: Исследование включает в себя следующие этапы:\n",
    "\n",
    "- Подготовка данных на представленных датасетах (информация о играх);\n",
    "- Исследовательский анализ данных о популярных жанрах, времени жизни консоли а также актуальных на сегодняшний день.\n",
    "- Статистический анализ данных. Проверка гипотез по средней оценке пользователя на Xbox One и PC, отличаются ли cредний пользовательский рейтинг жанров Action (англ. «действие», экшен-игры) и Sports (англ. «спортивные соревнования».\n",
    "- Интерпретация результатов анализа и формулирование выводов.\n",
    "\n",
    "Общий вывод: С помощью данного исследования мы можем выявить потенциальные платформы для инвестирования, узнать, насколько еще выгодно вкладываться в существующие платформы, а также узнать среднестатисчического пользователя каждого региона.\n"
   ]
  },
  {
   "cell_type": "markdown",
   "metadata": {},
   "source": [
    "Содержание\n",
    "1. [Загрузка данных](#1) \n",
    "2. [Предобработка данных](#2) \n",
    "3. [Исследовательский анализ данных](#3) \n",
    "4. [Портрет пользователя каждого региона](#4) \n",
    "5. [Проверка гипотез](#5) \n",
    "6. [Вывод исследования](#6) "
   ]
  },
  {
   "cell_type": "markdown",
   "metadata": {},
   "source": [
    "<a id=\"1\"></a> \n",
    "### Загрузка данных"
   ]
  },
  {
   "cell_type": "code",
   "execution_count": 2,
   "metadata": {},
   "outputs": [],
   "source": [
    "import pandas as pd\n",
    "import numpy as np\n",
    "import matplotlib.pyplot as plt\n",
    "from scipy.stats import ttest_ind as st\n",
    "from scipy import stats as st\n",
    "import seaborn as sns"
   ]
  },
  {
   "cell_type": "code",
   "execution_count": 2,
   "metadata": {},
   "outputs": [],
   "source": [
    "data = pd.read_csv('/datasets/games.csv')"
   ]
  },
  {
   "cell_type": "code",
   "execution_count": 3,
   "metadata": {
    "scrolled": false
   },
   "outputs": [
    {
     "data": {
      "text/html": [
       "<div>\n",
       "<style scoped>\n",
       "    .dataframe tbody tr th:only-of-type {\n",
       "        vertical-align: middle;\n",
       "    }\n",
       "\n",
       "    .dataframe tbody tr th {\n",
       "        vertical-align: top;\n",
       "    }\n",
       "\n",
       "    .dataframe thead th {\n",
       "        text-align: right;\n",
       "    }\n",
       "</style>\n",
       "<table border=\"1\" class=\"dataframe\">\n",
       "  <thead>\n",
       "    <tr style=\"text-align: right;\">\n",
       "      <th></th>\n",
       "      <th>Name</th>\n",
       "      <th>Platform</th>\n",
       "      <th>Year_of_Release</th>\n",
       "      <th>Genre</th>\n",
       "      <th>NA_sales</th>\n",
       "      <th>EU_sales</th>\n",
       "      <th>JP_sales</th>\n",
       "      <th>Other_sales</th>\n",
       "      <th>Critic_Score</th>\n",
       "      <th>User_Score</th>\n",
       "      <th>Rating</th>\n",
       "    </tr>\n",
       "  </thead>\n",
       "  <tbody>\n",
       "    <tr>\n",
       "      <th>0</th>\n",
       "      <td>Wii Sports</td>\n",
       "      <td>Wii</td>\n",
       "      <td>2006.0</td>\n",
       "      <td>Sports</td>\n",
       "      <td>41.36</td>\n",
       "      <td>28.96</td>\n",
       "      <td>3.77</td>\n",
       "      <td>8.45</td>\n",
       "      <td>76.0</td>\n",
       "      <td>8</td>\n",
       "      <td>E</td>\n",
       "    </tr>\n",
       "    <tr>\n",
       "      <th>1</th>\n",
       "      <td>Super Mario Bros.</td>\n",
       "      <td>NES</td>\n",
       "      <td>1985.0</td>\n",
       "      <td>Platform</td>\n",
       "      <td>29.08</td>\n",
       "      <td>3.58</td>\n",
       "      <td>6.81</td>\n",
       "      <td>0.77</td>\n",
       "      <td>NaN</td>\n",
       "      <td>NaN</td>\n",
       "      <td>NaN</td>\n",
       "    </tr>\n",
       "    <tr>\n",
       "      <th>2</th>\n",
       "      <td>Mario Kart Wii</td>\n",
       "      <td>Wii</td>\n",
       "      <td>2008.0</td>\n",
       "      <td>Racing</td>\n",
       "      <td>15.68</td>\n",
       "      <td>12.76</td>\n",
       "      <td>3.79</td>\n",
       "      <td>3.29</td>\n",
       "      <td>82.0</td>\n",
       "      <td>8.3</td>\n",
       "      <td>E</td>\n",
       "    </tr>\n",
       "    <tr>\n",
       "      <th>3</th>\n",
       "      <td>Wii Sports Resort</td>\n",
       "      <td>Wii</td>\n",
       "      <td>2009.0</td>\n",
       "      <td>Sports</td>\n",
       "      <td>15.61</td>\n",
       "      <td>10.93</td>\n",
       "      <td>3.28</td>\n",
       "      <td>2.95</td>\n",
       "      <td>80.0</td>\n",
       "      <td>8</td>\n",
       "      <td>E</td>\n",
       "    </tr>\n",
       "    <tr>\n",
       "      <th>4</th>\n",
       "      <td>Pokemon Red/Pokemon Blue</td>\n",
       "      <td>GB</td>\n",
       "      <td>1996.0</td>\n",
       "      <td>Role-Playing</td>\n",
       "      <td>11.27</td>\n",
       "      <td>8.89</td>\n",
       "      <td>10.22</td>\n",
       "      <td>1.00</td>\n",
       "      <td>NaN</td>\n",
       "      <td>NaN</td>\n",
       "      <td>NaN</td>\n",
       "    </tr>\n",
       "    <tr>\n",
       "      <th>5</th>\n",
       "      <td>Tetris</td>\n",
       "      <td>GB</td>\n",
       "      <td>1989.0</td>\n",
       "      <td>Puzzle</td>\n",
       "      <td>23.20</td>\n",
       "      <td>2.26</td>\n",
       "      <td>4.22</td>\n",
       "      <td>0.58</td>\n",
       "      <td>NaN</td>\n",
       "      <td>NaN</td>\n",
       "      <td>NaN</td>\n",
       "    </tr>\n",
       "    <tr>\n",
       "      <th>6</th>\n",
       "      <td>New Super Mario Bros.</td>\n",
       "      <td>DS</td>\n",
       "      <td>2006.0</td>\n",
       "      <td>Platform</td>\n",
       "      <td>11.28</td>\n",
       "      <td>9.14</td>\n",
       "      <td>6.50</td>\n",
       "      <td>2.88</td>\n",
       "      <td>89.0</td>\n",
       "      <td>8.5</td>\n",
       "      <td>E</td>\n",
       "    </tr>\n",
       "    <tr>\n",
       "      <th>7</th>\n",
       "      <td>Wii Play</td>\n",
       "      <td>Wii</td>\n",
       "      <td>2006.0</td>\n",
       "      <td>Misc</td>\n",
       "      <td>13.96</td>\n",
       "      <td>9.18</td>\n",
       "      <td>2.93</td>\n",
       "      <td>2.84</td>\n",
       "      <td>58.0</td>\n",
       "      <td>6.6</td>\n",
       "      <td>E</td>\n",
       "    </tr>\n",
       "    <tr>\n",
       "      <th>8</th>\n",
       "      <td>New Super Mario Bros. Wii</td>\n",
       "      <td>Wii</td>\n",
       "      <td>2009.0</td>\n",
       "      <td>Platform</td>\n",
       "      <td>14.44</td>\n",
       "      <td>6.94</td>\n",
       "      <td>4.70</td>\n",
       "      <td>2.24</td>\n",
       "      <td>87.0</td>\n",
       "      <td>8.4</td>\n",
       "      <td>E</td>\n",
       "    </tr>\n",
       "    <tr>\n",
       "      <th>9</th>\n",
       "      <td>Duck Hunt</td>\n",
       "      <td>NES</td>\n",
       "      <td>1984.0</td>\n",
       "      <td>Shooter</td>\n",
       "      <td>26.93</td>\n",
       "      <td>0.63</td>\n",
       "      <td>0.28</td>\n",
       "      <td>0.47</td>\n",
       "      <td>NaN</td>\n",
       "      <td>NaN</td>\n",
       "      <td>NaN</td>\n",
       "    </tr>\n",
       "  </tbody>\n",
       "</table>\n",
       "</div>"
      ],
      "text/plain": [
       "                        Name Platform  Year_of_Release         Genre  \\\n",
       "0                 Wii Sports      Wii           2006.0        Sports   \n",
       "1          Super Mario Bros.      NES           1985.0      Platform   \n",
       "2             Mario Kart Wii      Wii           2008.0        Racing   \n",
       "3          Wii Sports Resort      Wii           2009.0        Sports   \n",
       "4   Pokemon Red/Pokemon Blue       GB           1996.0  Role-Playing   \n",
       "5                     Tetris       GB           1989.0        Puzzle   \n",
       "6      New Super Mario Bros.       DS           2006.0      Platform   \n",
       "7                   Wii Play      Wii           2006.0          Misc   \n",
       "8  New Super Mario Bros. Wii      Wii           2009.0      Platform   \n",
       "9                  Duck Hunt      NES           1984.0       Shooter   \n",
       "\n",
       "   NA_sales  EU_sales  JP_sales  Other_sales  Critic_Score User_Score Rating  \n",
       "0     41.36     28.96      3.77         8.45          76.0          8      E  \n",
       "1     29.08      3.58      6.81         0.77           NaN        NaN    NaN  \n",
       "2     15.68     12.76      3.79         3.29          82.0        8.3      E  \n",
       "3     15.61     10.93      3.28         2.95          80.0          8      E  \n",
       "4     11.27      8.89     10.22         1.00           NaN        NaN    NaN  \n",
       "5     23.20      2.26      4.22         0.58           NaN        NaN    NaN  \n",
       "6     11.28      9.14      6.50         2.88          89.0        8.5      E  \n",
       "7     13.96      9.18      2.93         2.84          58.0        6.6      E  \n",
       "8     14.44      6.94      4.70         2.24          87.0        8.4      E  \n",
       "9     26.93      0.63      0.28         0.47           NaN        NaN    NaN  "
      ]
     },
     "execution_count": 3,
     "metadata": {},
     "output_type": "execute_result"
    }
   ],
   "source": [
    "data.head(10)"
   ]
  },
  {
   "cell_type": "code",
   "execution_count": 4,
   "metadata": {},
   "outputs": [
    {
     "name": "stdout",
     "output_type": "stream",
     "text": [
      "<class 'pandas.core.frame.DataFrame'>\n",
      "RangeIndex: 16715 entries, 0 to 16714\n",
      "Data columns (total 11 columns):\n",
      " #   Column           Non-Null Count  Dtype  \n",
      "---  ------           --------------  -----  \n",
      " 0   Name             16713 non-null  object \n",
      " 1   Platform         16715 non-null  object \n",
      " 2   Year_of_Release  16446 non-null  float64\n",
      " 3   Genre            16713 non-null  object \n",
      " 4   NA_sales         16715 non-null  float64\n",
      " 5   EU_sales         16715 non-null  float64\n",
      " 6   JP_sales         16715 non-null  float64\n",
      " 7   Other_sales      16715 non-null  float64\n",
      " 8   Critic_Score     8137 non-null   float64\n",
      " 9   User_Score       10014 non-null  object \n",
      " 10  Rating           9949 non-null   object \n",
      "dtypes: float64(6), object(5)\n",
      "memory usage: 1.4+ MB\n"
     ]
    }
   ],
   "source": [
    "data.info()"
   ]
  },
  {
   "cell_type": "markdown",
   "metadata": {},
   "source": [
    "- Name — название игры\n",
    "- Platform — платформа\n",
    "- Year_of_Release — год выпуска\n",
    "- Genre — жанр игры\n",
    "- NA_sales — продажи в Северной Америке (миллионы проданных копий)\n",
    "- EU_sales — продажи в Европе (миллионы проданных копий)\n",
    "- JP_sales — продажи в Японии (миллионы проданных копий)\n",
    "- Other_sales — продажи в других странах (миллионы проданных копий)\n",
    "- Critic_Score — оценка критиков (максимум 100)\n",
    "- User_Score — оценка пользователей (максимум 10)\n",
    "- Rating — рейтинг от организации ESRB (англ. Entertainment Software Rating Board). Эта ассоциация определяет рейтинг компьютерных игр и присваивает им подходящую возрастную категорию."
   ]
  },
  {
   "cell_type": "code",
   "execution_count": 5,
   "metadata": {
    "scrolled": true
   },
   "outputs": [
    {
     "data": {
      "text/html": [
       "<div>\n",
       "<style scoped>\n",
       "    .dataframe tbody tr th:only-of-type {\n",
       "        vertical-align: middle;\n",
       "    }\n",
       "\n",
       "    .dataframe tbody tr th {\n",
       "        vertical-align: top;\n",
       "    }\n",
       "\n",
       "    .dataframe thead th {\n",
       "        text-align: right;\n",
       "    }\n",
       "</style>\n",
       "<table border=\"1\" class=\"dataframe\">\n",
       "  <thead>\n",
       "    <tr style=\"text-align: right;\">\n",
       "      <th></th>\n",
       "      <th>Year_of_Release</th>\n",
       "      <th>NA_sales</th>\n",
       "      <th>EU_sales</th>\n",
       "      <th>JP_sales</th>\n",
       "      <th>Other_sales</th>\n",
       "      <th>Critic_Score</th>\n",
       "    </tr>\n",
       "  </thead>\n",
       "  <tbody>\n",
       "    <tr>\n",
       "      <th>count</th>\n",
       "      <td>16446.000000</td>\n",
       "      <td>16715.000000</td>\n",
       "      <td>16715.000000</td>\n",
       "      <td>16715.000000</td>\n",
       "      <td>16715.000000</td>\n",
       "      <td>8137.000000</td>\n",
       "    </tr>\n",
       "    <tr>\n",
       "      <th>mean</th>\n",
       "      <td>2006.484616</td>\n",
       "      <td>0.263377</td>\n",
       "      <td>0.145060</td>\n",
       "      <td>0.077617</td>\n",
       "      <td>0.047342</td>\n",
       "      <td>68.967679</td>\n",
       "    </tr>\n",
       "    <tr>\n",
       "      <th>std</th>\n",
       "      <td>5.877050</td>\n",
       "      <td>0.813604</td>\n",
       "      <td>0.503339</td>\n",
       "      <td>0.308853</td>\n",
       "      <td>0.186731</td>\n",
       "      <td>13.938165</td>\n",
       "    </tr>\n",
       "    <tr>\n",
       "      <th>min</th>\n",
       "      <td>1980.000000</td>\n",
       "      <td>0.000000</td>\n",
       "      <td>0.000000</td>\n",
       "      <td>0.000000</td>\n",
       "      <td>0.000000</td>\n",
       "      <td>13.000000</td>\n",
       "    </tr>\n",
       "    <tr>\n",
       "      <th>25%</th>\n",
       "      <td>2003.000000</td>\n",
       "      <td>0.000000</td>\n",
       "      <td>0.000000</td>\n",
       "      <td>0.000000</td>\n",
       "      <td>0.000000</td>\n",
       "      <td>60.000000</td>\n",
       "    </tr>\n",
       "    <tr>\n",
       "      <th>50%</th>\n",
       "      <td>2007.000000</td>\n",
       "      <td>0.080000</td>\n",
       "      <td>0.020000</td>\n",
       "      <td>0.000000</td>\n",
       "      <td>0.010000</td>\n",
       "      <td>71.000000</td>\n",
       "    </tr>\n",
       "    <tr>\n",
       "      <th>75%</th>\n",
       "      <td>2010.000000</td>\n",
       "      <td>0.240000</td>\n",
       "      <td>0.110000</td>\n",
       "      <td>0.040000</td>\n",
       "      <td>0.030000</td>\n",
       "      <td>79.000000</td>\n",
       "    </tr>\n",
       "    <tr>\n",
       "      <th>max</th>\n",
       "      <td>2016.000000</td>\n",
       "      <td>41.360000</td>\n",
       "      <td>28.960000</td>\n",
       "      <td>10.220000</td>\n",
       "      <td>10.570000</td>\n",
       "      <td>98.000000</td>\n",
       "    </tr>\n",
       "  </tbody>\n",
       "</table>\n",
       "</div>"
      ],
      "text/plain": [
       "       Year_of_Release      NA_sales      EU_sales      JP_sales  \\\n",
       "count     16446.000000  16715.000000  16715.000000  16715.000000   \n",
       "mean       2006.484616      0.263377      0.145060      0.077617   \n",
       "std           5.877050      0.813604      0.503339      0.308853   \n",
       "min        1980.000000      0.000000      0.000000      0.000000   \n",
       "25%        2003.000000      0.000000      0.000000      0.000000   \n",
       "50%        2007.000000      0.080000      0.020000      0.000000   \n",
       "75%        2010.000000      0.240000      0.110000      0.040000   \n",
       "max        2016.000000     41.360000     28.960000     10.220000   \n",
       "\n",
       "        Other_sales  Critic_Score  \n",
       "count  16715.000000   8137.000000  \n",
       "mean       0.047342     68.967679  \n",
       "std        0.186731     13.938165  \n",
       "min        0.000000     13.000000  \n",
       "25%        0.000000     60.000000  \n",
       "50%        0.010000     71.000000  \n",
       "75%        0.030000     79.000000  \n",
       "max       10.570000     98.000000  "
      ]
     },
     "execution_count": 5,
     "metadata": {},
     "output_type": "execute_result"
    }
   ],
   "source": [
    "data.describe()"
   ]
  },
  {
   "cell_type": "markdown",
   "metadata": {},
   "source": [
    "<a id=\"2\"></a> \n",
    "### Предобработка данных"
   ]
  },
  {
   "cell_type": "markdown",
   "metadata": {},
   "source": [
    "Приведем к нижнему регистру названия столбцов."
   ]
  },
  {
   "cell_type": "code",
   "execution_count": 6,
   "metadata": {
    "scrolled": true
   },
   "outputs": [],
   "source": [
    "data = data.rename(str.lower, axis='columns')"
   ]
  },
  {
   "cell_type": "markdown",
   "metadata": {},
   "source": [
    "Проверим количество пропусков в датасете:"
   ]
  },
  {
   "cell_type": "code",
   "execution_count": 7,
   "metadata": {
    "scrolled": true
   },
   "outputs": [
    {
     "data": {
      "text/plain": [
       "name                  2\n",
       "platform              0\n",
       "year_of_release     269\n",
       "genre                 2\n",
       "na_sales              0\n",
       "eu_sales              0\n",
       "jp_sales              0\n",
       "other_sales           0\n",
       "critic_score       8578\n",
       "user_score         6701\n",
       "rating             6766\n",
       "dtype: int64"
      ]
     },
     "execution_count": 7,
     "metadata": {},
     "output_type": "execute_result"
    }
   ],
   "source": [
    "data.isna().sum()"
   ]
  },
  {
   "cell_type": "code",
   "execution_count": 8,
   "metadata": {},
   "outputs": [
    {
     "data": {
      "text/plain": [
       "name                0.01\n",
       "platform            0.00\n",
       "year_of_release     1.61\n",
       "genre               0.01\n",
       "na_sales            0.00\n",
       "eu_sales            0.00\n",
       "jp_sales            0.00\n",
       "other_sales         0.00\n",
       "critic_score       51.32\n",
       "user_score         40.09\n",
       "rating             40.48\n",
       "dtype: float64"
      ]
     },
     "execution_count": 8,
     "metadata": {},
     "output_type": "execute_result"
    }
   ],
   "source": [
    "(data.isna().mean() * 100).round(2)"
   ]
  },
  {
   "cell_type": "markdown",
   "metadata": {},
   "source": [
    "- name -  у нас имеются 2 пропуска с именем, удаляем данные, т.к.. Хоть одна из игр достаточно успешно продалась с продажей в почти 2 миллиона, эти данные могут нам помешать при выявлении успешно проданной игры за 1993 год. Удаляем данные.\n",
    "- year_of_release - Замена даже для спортивных симуляторов предыдущим годом некоректоно, т.к. некоторые игры выпустились в год, который упоминается (например, PDC World Championship Darts 2008, Дата выхода - 25 января 2008 года). Промаркируем пропущенные значения -1, и в дальнейшем не будем их использовать в анализе.\n",
    "- genre - имеются 2 пропуска в тех же строках, что и имя игры. Удалилиь вместе с теми строками.\n",
    "- critic_score - Нет оценок у части игр, причин может быть несколько:\n",
    "    - Игра новая, и оценки еще не успели выйти;\n",
    "    - эта игра не так известна, что также влияет на выход оценок;\n",
    "    - Оценка выходит за диапазон того, как оценивают игру; \n",
    "    - У игры нет оценки конкретно на эту платформ;\n",
    "    - Данные не полностью подтянулись, что вполне вероятно - нет оценок у достаточно популярных игр (Super Mario Bros, Tetris, Duck Hunt и пр.). Лучше уточнить у разработчиков.\n",
    "    \n",
    "    Заполнить средним или медианной мы не можем, т.к. даже плохая игра при средней оценке может стать лучше только из-за замены средним и наоборот. Оставим как есть.\n",
    "- user_score - Точно те же причины пропусков, что и у cтолбца critic_score, а также возможен вариант, что не было в то время оценки чисто от пользователей. Оставим как есть.\n",
    "- rating - Также возможен вариант, что для того, чтобы получить оценку игры издателю нужно отправить анкету игры или ролик с геймплеем, но с учетом, что большую часть игр от независимых разработчиков, выпускаются в цифровом магазине, то и оценки нет. Средним/медианной заполнить не получится, т.к. для взрослой игры мы можем случайно дать рейтинг \"E - для всех\",ставить без рейтинга некоректно, оставим как есть, переименовав их в Misc. (от англ. \"miscellaneous\" - разнообразные, разные)."
   ]
  },
  {
   "cell_type": "code",
   "execution_count": 9,
   "metadata": {
    "scrolled": false
   },
   "outputs": [],
   "source": [
    "data = data.dropna(subset=['name'])"
   ]
  },
  {
   "cell_type": "code",
   "execution_count": 10,
   "metadata": {},
   "outputs": [],
   "source": [
    "data['year_of_release'] = data['year_of_release'].fillna(-1)"
   ]
  },
  {
   "cell_type": "code",
   "execution_count": 11,
   "metadata": {},
   "outputs": [],
   "source": [
    "data['rating'] = data['rating'].fillna('Misc')"
   ]
  },
  {
   "cell_type": "markdown",
   "metadata": {},
   "source": [
    "Проверим на наличие явных и неявных дубликатов."
   ]
  },
  {
   "cell_type": "code",
   "execution_count": 12,
   "metadata": {
    "scrolled": true
   },
   "outputs": [
    {
     "data": {
      "text/plain": [
       "0"
      ]
     },
     "execution_count": 12,
     "metadata": {},
     "output_type": "execute_result"
    }
   ],
   "source": [
    "data.duplicated().sum()"
   ]
  },
  {
   "cell_type": "markdown",
   "metadata": {},
   "source": [
    "Явных дубликатов нет."
   ]
  },
  {
   "cell_type": "markdown",
   "metadata": {},
   "source": [
    "Проверим на наличие неявных дубликатов. Проверим на столбцах name, genre, platform, rating, и, user_score."
   ]
  },
  {
   "cell_type": "code",
   "execution_count": 13,
   "metadata": {},
   "outputs": [
    {
     "data": {
      "text/html": [
       "<div>\n",
       "<style scoped>\n",
       "    .dataframe tbody tr th:only-of-type {\n",
       "        vertical-align: middle;\n",
       "    }\n",
       "\n",
       "    .dataframe tbody tr th {\n",
       "        vertical-align: top;\n",
       "    }\n",
       "\n",
       "    .dataframe thead th {\n",
       "        text-align: right;\n",
       "    }\n",
       "</style>\n",
       "<table border=\"1\" class=\"dataframe\">\n",
       "  <thead>\n",
       "    <tr style=\"text-align: right;\">\n",
       "      <th></th>\n",
       "      <th>name</th>\n",
       "      <th>platform</th>\n",
       "      <th>year_of_release</th>\n",
       "      <th>genre</th>\n",
       "      <th>na_sales</th>\n",
       "      <th>eu_sales</th>\n",
       "      <th>jp_sales</th>\n",
       "      <th>other_sales</th>\n",
       "      <th>critic_score</th>\n",
       "      <th>user_score</th>\n",
       "      <th>rating</th>\n",
       "    </tr>\n",
       "  </thead>\n",
       "  <tbody>\n",
       "    <tr>\n",
       "      <th>604</th>\n",
       "      <td>Madden NFL 13</td>\n",
       "      <td>PS3</td>\n",
       "      <td>2012.0</td>\n",
       "      <td>Sports</td>\n",
       "      <td>2.11</td>\n",
       "      <td>0.22</td>\n",
       "      <td>0.00</td>\n",
       "      <td>0.23</td>\n",
       "      <td>83.0</td>\n",
       "      <td>5.5</td>\n",
       "      <td>E</td>\n",
       "    </tr>\n",
       "    <tr>\n",
       "      <th>1190</th>\n",
       "      <td>Need for Speed: Most Wanted</td>\n",
       "      <td>X360</td>\n",
       "      <td>2012.0</td>\n",
       "      <td>Racing</td>\n",
       "      <td>0.62</td>\n",
       "      <td>0.78</td>\n",
       "      <td>0.01</td>\n",
       "      <td>0.15</td>\n",
       "      <td>83.0</td>\n",
       "      <td>8.5</td>\n",
       "      <td>T</td>\n",
       "    </tr>\n",
       "    <tr>\n",
       "      <th>1591</th>\n",
       "      <td>Need for Speed: Most Wanted</td>\n",
       "      <td>X360</td>\n",
       "      <td>2005.0</td>\n",
       "      <td>Racing</td>\n",
       "      <td>1.00</td>\n",
       "      <td>0.13</td>\n",
       "      <td>0.02</td>\n",
       "      <td>0.10</td>\n",
       "      <td>83.0</td>\n",
       "      <td>8.5</td>\n",
       "      <td>T</td>\n",
       "    </tr>\n",
       "    <tr>\n",
       "      <th>1745</th>\n",
       "      <td>Sonic the Hedgehog</td>\n",
       "      <td>PS3</td>\n",
       "      <td>2006.0</td>\n",
       "      <td>Platform</td>\n",
       "      <td>0.41</td>\n",
       "      <td>0.06</td>\n",
       "      <td>0.04</td>\n",
       "      <td>0.66</td>\n",
       "      <td>43.0</td>\n",
       "      <td>4.1</td>\n",
       "      <td>E10+</td>\n",
       "    </tr>\n",
       "    <tr>\n",
       "      <th>4127</th>\n",
       "      <td>Sonic the Hedgehog</td>\n",
       "      <td>PS3</td>\n",
       "      <td>-1.0</td>\n",
       "      <td>Platform</td>\n",
       "      <td>0.00</td>\n",
       "      <td>0.48</td>\n",
       "      <td>0.00</td>\n",
       "      <td>0.00</td>\n",
       "      <td>43.0</td>\n",
       "      <td>4.1</td>\n",
       "      <td>E10+</td>\n",
       "    </tr>\n",
       "    <tr>\n",
       "      <th>5972</th>\n",
       "      <td>Need for Speed: Most Wanted</td>\n",
       "      <td>PC</td>\n",
       "      <td>2005.0</td>\n",
       "      <td>Racing</td>\n",
       "      <td>0.02</td>\n",
       "      <td>0.23</td>\n",
       "      <td>0.00</td>\n",
       "      <td>0.04</td>\n",
       "      <td>82.0</td>\n",
       "      <td>8.5</td>\n",
       "      <td>T</td>\n",
       "    </tr>\n",
       "    <tr>\n",
       "      <th>11715</th>\n",
       "      <td>Need for Speed: Most Wanted</td>\n",
       "      <td>PC</td>\n",
       "      <td>2012.0</td>\n",
       "      <td>Racing</td>\n",
       "      <td>0.00</td>\n",
       "      <td>0.06</td>\n",
       "      <td>0.00</td>\n",
       "      <td>0.02</td>\n",
       "      <td>82.0</td>\n",
       "      <td>8.5</td>\n",
       "      <td>T</td>\n",
       "    </tr>\n",
       "    <tr>\n",
       "      <th>16230</th>\n",
       "      <td>Madden NFL 13</td>\n",
       "      <td>PS3</td>\n",
       "      <td>2012.0</td>\n",
       "      <td>Sports</td>\n",
       "      <td>0.00</td>\n",
       "      <td>0.01</td>\n",
       "      <td>0.00</td>\n",
       "      <td>0.00</td>\n",
       "      <td>83.0</td>\n",
       "      <td>5.5</td>\n",
       "      <td>E</td>\n",
       "    </tr>\n",
       "  </tbody>\n",
       "</table>\n",
       "</div>"
      ],
      "text/plain": [
       "                              name platform  year_of_release     genre  \\\n",
       "604                  Madden NFL 13      PS3           2012.0    Sports   \n",
       "1190   Need for Speed: Most Wanted     X360           2012.0    Racing   \n",
       "1591   Need for Speed: Most Wanted     X360           2005.0    Racing   \n",
       "1745            Sonic the Hedgehog      PS3           2006.0  Platform   \n",
       "4127            Sonic the Hedgehog      PS3             -1.0  Platform   \n",
       "5972   Need for Speed: Most Wanted       PC           2005.0    Racing   \n",
       "11715  Need for Speed: Most Wanted       PC           2012.0    Racing   \n",
       "16230                Madden NFL 13      PS3           2012.0    Sports   \n",
       "\n",
       "       na_sales  eu_sales  jp_sales  other_sales  critic_score user_score  \\\n",
       "604        2.11      0.22      0.00         0.23          83.0        5.5   \n",
       "1190       0.62      0.78      0.01         0.15          83.0        8.5   \n",
       "1591       1.00      0.13      0.02         0.10          83.0        8.5   \n",
       "1745       0.41      0.06      0.04         0.66          43.0        4.1   \n",
       "4127       0.00      0.48      0.00         0.00          43.0        4.1   \n",
       "5972       0.02      0.23      0.00         0.04          82.0        8.5   \n",
       "11715      0.00      0.06      0.00         0.02          82.0        8.5   \n",
       "16230      0.00      0.01      0.00         0.00          83.0        5.5   \n",
       "\n",
       "      rating  \n",
       "604        E  \n",
       "1190       T  \n",
       "1591       T  \n",
       "1745    E10+  \n",
       "4127    E10+  \n",
       "5972       T  \n",
       "11715      T  \n",
       "16230      E  "
      ]
     },
     "execution_count": 13,
     "metadata": {},
     "output_type": "execute_result"
    }
   ],
   "source": [
    "data.loc[data.duplicated(subset=[\"name\", \"platform\"], keep=False),:]"
   ]
  },
  {
   "cell_type": "code",
   "execution_count": 14,
   "metadata": {
    "scrolled": true
   },
   "outputs": [
    {
     "data": {
      "text/plain": [
       "array(['Sports', 'Platform', 'Racing', 'Role-Playing', 'Puzzle', 'Misc',\n",
       "       'Shooter', 'Simulation', 'Action', 'Fighting', 'Adventure',\n",
       "       'Strategy'], dtype=object)"
      ]
     },
     "execution_count": 14,
     "metadata": {},
     "output_type": "execute_result"
    }
   ],
   "source": [
    "data['genre'].unique()"
   ]
  },
  {
   "cell_type": "code",
   "execution_count": 15,
   "metadata": {
    "scrolled": false
   },
   "outputs": [
    {
     "data": {
      "text/plain": [
       "array(['Wii', 'NES', 'GB', 'DS', 'X360', 'PS3', 'PS2', 'SNES', 'GBA',\n",
       "       'PS4', '3DS', 'N64', 'PS', 'XB', 'PC', '2600', 'PSP', 'XOne',\n",
       "       'WiiU', 'GC', 'GEN', 'DC', 'PSV', 'SAT', 'SCD', 'WS', 'NG', 'TG16',\n",
       "       '3DO', 'GG', 'PCFX'], dtype=object)"
      ]
     },
     "execution_count": 15,
     "metadata": {},
     "output_type": "execute_result"
    }
   ],
   "source": [
    "data['platform'].unique()"
   ]
  },
  {
   "cell_type": "code",
   "execution_count": 16,
   "metadata": {},
   "outputs": [
    {
     "data": {
      "text/plain": [
       "array(['E', 'Misc', 'M', 'T', 'E10+', 'K-A', 'AO', 'EC', 'RP'],\n",
       "      dtype=object)"
      ]
     },
     "execution_count": 16,
     "metadata": {},
     "output_type": "execute_result"
    }
   ],
   "source": [
    "data['rating'].unique()"
   ]
  },
  {
   "cell_type": "markdown",
   "metadata": {},
   "source": [
    "Неявный дубликат у нас в имени. Need for Speed: Most Wanted имеет несколько версий игр 2005 и 2012 года под разные платформы- оставляем их. Madden NFL 13 и Sonic the Hedgehog выглядят как неявные дубликаты - удалим те строки, прибавив количество продаж с удаленных строк. Также неявный дубликат у нас в рейтинге, т.к. K-A действовал до 1998 года, и стал после известен как E - для всех. Переименуем его."
   ]
  },
  {
   "cell_type": "markdown",
   "metadata": {},
   "source": [
    "Проверим, насколько часто встречаются игры по рейтингу."
   ]
  },
  {
   "cell_type": "code",
   "execution_count": 17,
   "metadata": {},
   "outputs": [
    {
     "data": {
      "text/html": [
       "<div>\n",
       "<style scoped>\n",
       "    .dataframe tbody tr th:only-of-type {\n",
       "        vertical-align: middle;\n",
       "    }\n",
       "\n",
       "    .dataframe tbody tr th {\n",
       "        vertical-align: top;\n",
       "    }\n",
       "\n",
       "    .dataframe thead th {\n",
       "        text-align: right;\n",
       "    }\n",
       "</style>\n",
       "<table border=\"1\" class=\"dataframe\">\n",
       "  <thead>\n",
       "    <tr style=\"text-align: right;\">\n",
       "      <th></th>\n",
       "      <th>name</th>\n",
       "    </tr>\n",
       "    <tr>\n",
       "      <th>rating</th>\n",
       "      <th></th>\n",
       "    </tr>\n",
       "  </thead>\n",
       "  <tbody>\n",
       "    <tr>\n",
       "      <th>Misc</th>\n",
       "      <td>6676</td>\n",
       "    </tr>\n",
       "    <tr>\n",
       "      <th>E</th>\n",
       "      <td>3921</td>\n",
       "    </tr>\n",
       "    <tr>\n",
       "      <th>T</th>\n",
       "      <td>2905</td>\n",
       "    </tr>\n",
       "    <tr>\n",
       "      <th>M</th>\n",
       "      <td>1536</td>\n",
       "    </tr>\n",
       "    <tr>\n",
       "      <th>E10+</th>\n",
       "      <td>1393</td>\n",
       "    </tr>\n",
       "    <tr>\n",
       "      <th>EC</th>\n",
       "      <td>8</td>\n",
       "    </tr>\n",
       "    <tr>\n",
       "      <th>K-A</th>\n",
       "      <td>3</td>\n",
       "    </tr>\n",
       "    <tr>\n",
       "      <th>AO</th>\n",
       "      <td>1</td>\n",
       "    </tr>\n",
       "    <tr>\n",
       "      <th>RP</th>\n",
       "      <td>1</td>\n",
       "    </tr>\n",
       "  </tbody>\n",
       "</table>\n",
       "</div>"
      ],
      "text/plain": [
       "        name\n",
       "rating      \n",
       "Misc    6676\n",
       "E       3921\n",
       "T       2905\n",
       "M       1536\n",
       "E10+    1393\n",
       "EC         8\n",
       "K-A        3\n",
       "AO         1\n",
       "RP         1"
      ]
     },
     "execution_count": 17,
     "metadata": {},
     "output_type": "execute_result"
    }
   ],
   "source": [
    "(\n",
    "    data.query('year_of_release != -1').pivot_table(\n",
    "        index='rating',\n",
    "        values=['name'], \n",
    "        aggfunc='count')\n",
    "    .sort_values('name',ascending=False)\n",
    ")"
   ]
  },
  {
   "cell_type": "markdown",
   "metadata": {},
   "source": [
    "1 EC - игра только для взрослых, 1 RP- ожидает присвоения и 8 EC - Для детей младшего возраста. Заменим рейтинг EC на E, остальные удалим."
   ]
  },
  {
   "cell_type": "code",
   "execution_count": 18,
   "metadata": {},
   "outputs": [],
   "source": [
    "data['rating'] = data['rating'].replace(['K-A','EC'], 'E', regex=True).replace(['RP','AO'], np.NaN, regex=True)"
   ]
  },
  {
   "cell_type": "code",
   "execution_count": 19,
   "metadata": {},
   "outputs": [
    {
     "data": {
      "text/plain": [
       "array(['E', 'Misc', 'M', 'T', 'E10+', nan], dtype=object)"
      ]
     },
     "execution_count": 19,
     "metadata": {},
     "output_type": "execute_result"
    }
   ],
   "source": [
    "data['rating'].unique()"
   ]
  },
  {
   "cell_type": "code",
   "execution_count": 20,
   "metadata": {},
   "outputs": [],
   "source": [
    "data = data.drop([4127,16230])"
   ]
  },
  {
   "cell_type": "code",
   "execution_count": 21,
   "metadata": {},
   "outputs": [],
   "source": [
    "data.loc[604,'eu_sales'] = 0.23"
   ]
  },
  {
   "cell_type": "code",
   "execution_count": 22,
   "metadata": {},
   "outputs": [],
   "source": [
    "data.loc[1745,'eu_sales'] = 0.54"
   ]
  },
  {
   "cell_type": "code",
   "execution_count": 23,
   "metadata": {},
   "outputs": [
    {
     "data": {
      "text/html": [
       "<div>\n",
       "<style scoped>\n",
       "    .dataframe tbody tr th:only-of-type {\n",
       "        vertical-align: middle;\n",
       "    }\n",
       "\n",
       "    .dataframe tbody tr th {\n",
       "        vertical-align: top;\n",
       "    }\n",
       "\n",
       "    .dataframe thead th {\n",
       "        text-align: right;\n",
       "    }\n",
       "</style>\n",
       "<table border=\"1\" class=\"dataframe\">\n",
       "  <thead>\n",
       "    <tr style=\"text-align: right;\">\n",
       "      <th></th>\n",
       "      <th>name</th>\n",
       "      <th>platform</th>\n",
       "      <th>year_of_release</th>\n",
       "      <th>genre</th>\n",
       "      <th>na_sales</th>\n",
       "      <th>eu_sales</th>\n",
       "      <th>jp_sales</th>\n",
       "      <th>other_sales</th>\n",
       "      <th>critic_score</th>\n",
       "      <th>user_score</th>\n",
       "      <th>rating</th>\n",
       "    </tr>\n",
       "  </thead>\n",
       "  <tbody>\n",
       "    <tr>\n",
       "      <th>0</th>\n",
       "      <td>Wii Sports</td>\n",
       "      <td>Wii</td>\n",
       "      <td>2006.0</td>\n",
       "      <td>Sports</td>\n",
       "      <td>41.36</td>\n",
       "      <td>28.96</td>\n",
       "      <td>3.77</td>\n",
       "      <td>8.45</td>\n",
       "      <td>76.0</td>\n",
       "      <td>8</td>\n",
       "      <td>E</td>\n",
       "    </tr>\n",
       "    <tr>\n",
       "      <th>1</th>\n",
       "      <td>Super Mario Bros.</td>\n",
       "      <td>NES</td>\n",
       "      <td>1985.0</td>\n",
       "      <td>Platform</td>\n",
       "      <td>29.08</td>\n",
       "      <td>3.58</td>\n",
       "      <td>6.81</td>\n",
       "      <td>0.77</td>\n",
       "      <td>NaN</td>\n",
       "      <td>NaN</td>\n",
       "      <td>Misc</td>\n",
       "    </tr>\n",
       "    <tr>\n",
       "      <th>2</th>\n",
       "      <td>Mario Kart Wii</td>\n",
       "      <td>Wii</td>\n",
       "      <td>2008.0</td>\n",
       "      <td>Racing</td>\n",
       "      <td>15.68</td>\n",
       "      <td>12.76</td>\n",
       "      <td>3.79</td>\n",
       "      <td>3.29</td>\n",
       "      <td>82.0</td>\n",
       "      <td>8.3</td>\n",
       "      <td>E</td>\n",
       "    </tr>\n",
       "    <tr>\n",
       "      <th>3</th>\n",
       "      <td>Wii Sports Resort</td>\n",
       "      <td>Wii</td>\n",
       "      <td>2009.0</td>\n",
       "      <td>Sports</td>\n",
       "      <td>15.61</td>\n",
       "      <td>10.93</td>\n",
       "      <td>3.28</td>\n",
       "      <td>2.95</td>\n",
       "      <td>80.0</td>\n",
       "      <td>8</td>\n",
       "      <td>E</td>\n",
       "    </tr>\n",
       "    <tr>\n",
       "      <th>4</th>\n",
       "      <td>Pokemon Red/Pokemon Blue</td>\n",
       "      <td>GB</td>\n",
       "      <td>1996.0</td>\n",
       "      <td>Role-Playing</td>\n",
       "      <td>11.27</td>\n",
       "      <td>8.89</td>\n",
       "      <td>10.22</td>\n",
       "      <td>1.00</td>\n",
       "      <td>NaN</td>\n",
       "      <td>NaN</td>\n",
       "      <td>Misc</td>\n",
       "    </tr>\n",
       "    <tr>\n",
       "      <th>...</th>\n",
       "      <td>...</td>\n",
       "      <td>...</td>\n",
       "      <td>...</td>\n",
       "      <td>...</td>\n",
       "      <td>...</td>\n",
       "      <td>...</td>\n",
       "      <td>...</td>\n",
       "      <td>...</td>\n",
       "      <td>...</td>\n",
       "      <td>...</td>\n",
       "      <td>...</td>\n",
       "    </tr>\n",
       "    <tr>\n",
       "      <th>16710</th>\n",
       "      <td>Samurai Warriors: Sanada Maru</td>\n",
       "      <td>PS3</td>\n",
       "      <td>2016.0</td>\n",
       "      <td>Action</td>\n",
       "      <td>0.00</td>\n",
       "      <td>0.00</td>\n",
       "      <td>0.01</td>\n",
       "      <td>0.00</td>\n",
       "      <td>NaN</td>\n",
       "      <td>NaN</td>\n",
       "      <td>Misc</td>\n",
       "    </tr>\n",
       "    <tr>\n",
       "      <th>16711</th>\n",
       "      <td>LMA Manager 2007</td>\n",
       "      <td>X360</td>\n",
       "      <td>2006.0</td>\n",
       "      <td>Sports</td>\n",
       "      <td>0.00</td>\n",
       "      <td>0.01</td>\n",
       "      <td>0.00</td>\n",
       "      <td>0.00</td>\n",
       "      <td>NaN</td>\n",
       "      <td>NaN</td>\n",
       "      <td>Misc</td>\n",
       "    </tr>\n",
       "    <tr>\n",
       "      <th>16712</th>\n",
       "      <td>Haitaka no Psychedelica</td>\n",
       "      <td>PSV</td>\n",
       "      <td>2016.0</td>\n",
       "      <td>Adventure</td>\n",
       "      <td>0.00</td>\n",
       "      <td>0.00</td>\n",
       "      <td>0.01</td>\n",
       "      <td>0.00</td>\n",
       "      <td>NaN</td>\n",
       "      <td>NaN</td>\n",
       "      <td>Misc</td>\n",
       "    </tr>\n",
       "    <tr>\n",
       "      <th>16713</th>\n",
       "      <td>Spirits &amp; Spells</td>\n",
       "      <td>GBA</td>\n",
       "      <td>2003.0</td>\n",
       "      <td>Platform</td>\n",
       "      <td>0.01</td>\n",
       "      <td>0.00</td>\n",
       "      <td>0.00</td>\n",
       "      <td>0.00</td>\n",
       "      <td>NaN</td>\n",
       "      <td>NaN</td>\n",
       "      <td>Misc</td>\n",
       "    </tr>\n",
       "    <tr>\n",
       "      <th>16714</th>\n",
       "      <td>Winning Post 8 2016</td>\n",
       "      <td>PSV</td>\n",
       "      <td>2016.0</td>\n",
       "      <td>Simulation</td>\n",
       "      <td>0.00</td>\n",
       "      <td>0.00</td>\n",
       "      <td>0.01</td>\n",
       "      <td>0.00</td>\n",
       "      <td>NaN</td>\n",
       "      <td>NaN</td>\n",
       "      <td>Misc</td>\n",
       "    </tr>\n",
       "  </tbody>\n",
       "</table>\n",
       "<p>16711 rows × 11 columns</p>\n",
       "</div>"
      ],
      "text/plain": [
       "                                name platform  year_of_release         genre  \\\n",
       "0                         Wii Sports      Wii           2006.0        Sports   \n",
       "1                  Super Mario Bros.      NES           1985.0      Platform   \n",
       "2                     Mario Kart Wii      Wii           2008.0        Racing   \n",
       "3                  Wii Sports Resort      Wii           2009.0        Sports   \n",
       "4           Pokemon Red/Pokemon Blue       GB           1996.0  Role-Playing   \n",
       "...                              ...      ...              ...           ...   \n",
       "16710  Samurai Warriors: Sanada Maru      PS3           2016.0        Action   \n",
       "16711               LMA Manager 2007     X360           2006.0        Sports   \n",
       "16712        Haitaka no Psychedelica      PSV           2016.0     Adventure   \n",
       "16713               Spirits & Spells      GBA           2003.0      Platform   \n",
       "16714            Winning Post 8 2016      PSV           2016.0    Simulation   \n",
       "\n",
       "       na_sales  eu_sales  jp_sales  other_sales  critic_score user_score  \\\n",
       "0         41.36     28.96      3.77         8.45          76.0          8   \n",
       "1         29.08      3.58      6.81         0.77           NaN        NaN   \n",
       "2         15.68     12.76      3.79         3.29          82.0        8.3   \n",
       "3         15.61     10.93      3.28         2.95          80.0          8   \n",
       "4         11.27      8.89     10.22         1.00           NaN        NaN   \n",
       "...         ...       ...       ...          ...           ...        ...   \n",
       "16710      0.00      0.00      0.01         0.00           NaN        NaN   \n",
       "16711      0.00      0.01      0.00         0.00           NaN        NaN   \n",
       "16712      0.00      0.00      0.01         0.00           NaN        NaN   \n",
       "16713      0.01      0.00      0.00         0.00           NaN        NaN   \n",
       "16714      0.00      0.00      0.01         0.00           NaN        NaN   \n",
       "\n",
       "      rating  \n",
       "0          E  \n",
       "1       Misc  \n",
       "2          E  \n",
       "3          E  \n",
       "4       Misc  \n",
       "...      ...  \n",
       "16710   Misc  \n",
       "16711   Misc  \n",
       "16712   Misc  \n",
       "16713   Misc  \n",
       "16714   Misc  \n",
       "\n",
       "[16711 rows x 11 columns]"
      ]
     },
     "execution_count": 23,
     "metadata": {},
     "output_type": "execute_result"
    }
   ],
   "source": [
    "data"
   ]
  },
  {
   "cell_type": "code",
   "execution_count": 24,
   "metadata": {},
   "outputs": [
    {
     "data": {
      "text/plain": [
       "array(['8', nan, '8.3', '8.5', '6.6', '8.4', '8.6', '7.7', '6.3', '7.4',\n",
       "       '8.2', '9', '7.9', '8.1', '8.7', '7.1', '3.4', '5.3', '4.8', '3.2',\n",
       "       '8.9', '6.4', '7.8', '7.5', '2.6', '7.2', '9.2', '7', '7.3', '4.3',\n",
       "       '7.6', '5.7', '5', '9.1', '6.5', 'tbd', '8.8', '6.9', '9.4', '6.8',\n",
       "       '6.1', '6.7', '5.4', '4', '4.9', '4.5', '9.3', '6.2', '4.2', '6',\n",
       "       '3.7', '4.1', '5.8', '5.6', '5.5', '4.4', '4.6', '5.9', '3.9',\n",
       "       '3.1', '2.9', '5.2', '3.3', '4.7', '5.1', '3.5', '2.5', '1.9', '3',\n",
       "       '2.7', '2.2', '2', '9.5', '2.1', '3.6', '2.8', '1.8', '3.8', '0',\n",
       "       '1.6', '9.6', '2.4', '1.7', '1.1', '0.3', '1.5', '0.7', '1.2',\n",
       "       '2.3', '0.5', '1.3', '0.2', '0.6', '1.4', '0.9', '1', '9.7'],\n",
       "      dtype=object)"
      ]
     },
     "execution_count": 24,
     "metadata": {},
     "output_type": "execute_result"
    }
   ],
   "source": [
    "data['user_score'].unique()"
   ]
  },
  {
   "cell_type": "markdown",
   "metadata": {},
   "source": [
    "Стоит заметить на аббревиатуру 'tbd' в столбце с оценкой пользователей. Аббревиатура на сайте metacritic.com указывает, что они не выставляют оценку, если к этой игре нет хотя бы 4 рецензий. Причин может быть несколько:\n",
    "- Игра настолько неизвестна, что просто некому оставить отзыв;\n",
    "- Нет доступа к сайту людям, которые хотят выставить оценку;\n",
    "- Оценка пользователей есть, но не на конкретно этом сайте. Нужно уточнить источник датасета;\n",
    "- Игроки находятся в других регионах, и им незачем оставлять рейтинг на metacritic. \n",
    "\n",
    "Можем оставить значение как есть, но т.к. эта аббревиатура равнозначно NaN, то и заменим его на NaN."
   ]
  },
  {
   "cell_type": "code",
   "execution_count": 25,
   "metadata": {},
   "outputs": [],
   "source": [
    "data['user_score'] = data['user_score'].replace('tbd', np.NaN)"
   ]
  },
  {
   "cell_type": "code",
   "execution_count": 26,
   "metadata": {},
   "outputs": [
    {
     "data": {
      "text/html": [
       "<div>\n",
       "<style scoped>\n",
       "    .dataframe tbody tr th:only-of-type {\n",
       "        vertical-align: middle;\n",
       "    }\n",
       "\n",
       "    .dataframe tbody tr th {\n",
       "        vertical-align: top;\n",
       "    }\n",
       "\n",
       "    .dataframe thead th {\n",
       "        text-align: right;\n",
       "    }\n",
       "</style>\n",
       "<table border=\"1\" class=\"dataframe\">\n",
       "  <thead>\n",
       "    <tr style=\"text-align: right;\">\n",
       "      <th></th>\n",
       "      <th>name</th>\n",
       "      <th>platform</th>\n",
       "      <th>year_of_release</th>\n",
       "      <th>genre</th>\n",
       "      <th>na_sales</th>\n",
       "      <th>eu_sales</th>\n",
       "      <th>jp_sales</th>\n",
       "      <th>other_sales</th>\n",
       "      <th>critic_score</th>\n",
       "      <th>user_score</th>\n",
       "      <th>rating</th>\n",
       "    </tr>\n",
       "  </thead>\n",
       "  <tbody>\n",
       "  </tbody>\n",
       "</table>\n",
       "</div>"
      ],
      "text/plain": [
       "Empty DataFrame\n",
       "Columns: [name, platform, year_of_release, genre, na_sales, eu_sales, jp_sales, other_sales, critic_score, user_score, rating]\n",
       "Index: []"
      ]
     },
     "execution_count": 26,
     "metadata": {},
     "output_type": "execute_result"
    }
   ],
   "source": [
    "data.query('user_score == \"tbd\"')"
   ]
  },
  {
   "cell_type": "markdown",
   "metadata": {},
   "source": [
    "Приведем тип данных:\n",
    "- year_of_release стоит привести к int, т.к. это года, а года не могут быть с плавающей запятой\n",
    "- user_score - приведем к float, т.к. у нас имеются оценки с дробью,"
   ]
  },
  {
   "cell_type": "code",
   "execution_count": 27,
   "metadata": {},
   "outputs": [],
   "source": [
    "data['year_of_release'] = data['year_of_release'].astype('int')"
   ]
  },
  {
   "cell_type": "code",
   "execution_count": 28,
   "metadata": {},
   "outputs": [],
   "source": [
    "data['user_score'] = data['user_score'].astype('float')"
   ]
  },
  {
   "cell_type": "markdown",
   "metadata": {},
   "source": [
    "Посчитаем суммарные продажи во всех регионах и запишем в столбец *total_sales*."
   ]
  },
  {
   "cell_type": "code",
   "execution_count": 29,
   "metadata": {},
   "outputs": [],
   "source": [
    "data['total_sales'] = (data['na_sales'] + data['eu_sales'] + data['jp_sales'] + data['other_sales'])"
   ]
  },
  {
   "cell_type": "markdown",
   "metadata": {},
   "source": [
    "**Вывод:** мы предобработали данные:\n",
    "- Заменили пропуска там, где это возможно;\n",
    "- Заменили тип данных там, где это возможно;\n",
    "- проверили на дубликаты.\n",
    "- добавили новый столбец с общими продажами;"
   ]
  },
  {
   "cell_type": "markdown",
   "metadata": {},
   "source": [
    "<a id=\"3\"></a> \n",
    "### Исследовательский анализ данных"
   ]
  },
  {
   "cell_type": "markdown",
   "metadata": {},
   "source": [
    "Посмотрим, сколько игр выпускалось в разные года."
   ]
  },
  {
   "cell_type": "code",
   "execution_count": 30,
   "metadata": {},
   "outputs": [
    {
     "data": {
      "text/plain": [
       "Text(0, 0.5, 'Количество игр')"
      ]
     },
     "execution_count": 30,
     "metadata": {},
     "output_type": "execute_result"
    },
    {
     "data": {
      "image/png": "[encoded data removed]",
      "text/plain": [
       "<Figure size 1008x360 with 1 Axes>"
      ]
     },
     "metadata": {
      "needs_background": "light"
     },
     "output_type": "display_data"
    }
   ],
   "source": [
    "(\n",
    "    data.query('year_of_release != -1').pivot_table(\n",
    "        index='year_of_release',\n",
    "        values=['name'], \n",
    "        aggfunc='count')\n",
    "    .rename(columns={'name':'Количество игр'})\n",
    "    .plot(kind='bar', figsize=(14,5))     \n",
    ")\n",
    "plt.title('Количество игр, выпущенных в различные года')\n",
    "plt.xlabel('Год выхода игры')\n",
    "plt.ylabel('Количество игр')"
   ]
  },
  {
   "cell_type": "markdown",
   "metadata": {},
   "source": [
    "Самый пик выхода игр - 2005 по 2011 года. Это связано с большим разнообразием платформ, вышедших в эти года, крупными из них являются playstation, xbox 360, wii и созданием игр под них."
   ]
  },
  {
   "cell_type": "markdown",
   "metadata": {},
   "source": [
    "Посмотрим, как менялись продажи по платформам."
   ]
  },
  {
   "cell_type": "code",
   "execution_count": 31,
   "metadata": {},
   "outputs": [
    {
     "data": {
      "text/html": [
       "<div>\n",
       "<style scoped>\n",
       "    .dataframe tbody tr th:only-of-type {\n",
       "        vertical-align: middle;\n",
       "    }\n",
       "\n",
       "    .dataframe tbody tr th {\n",
       "        vertical-align: top;\n",
       "    }\n",
       "\n",
       "    .dataframe thead th {\n",
       "        text-align: right;\n",
       "    }\n",
       "</style>\n",
       "<table border=\"1\" class=\"dataframe\">\n",
       "  <thead>\n",
       "    <tr style=\"text-align: right;\">\n",
       "      <th></th>\n",
       "      <th>total_sales</th>\n",
       "    </tr>\n",
       "    <tr>\n",
       "      <th>platform</th>\n",
       "      <th></th>\n",
       "    </tr>\n",
       "  </thead>\n",
       "  <tbody>\n",
       "    <tr>\n",
       "      <th>PS2</th>\n",
       "      <td>1233.56</td>\n",
       "    </tr>\n",
       "    <tr>\n",
       "      <th>X360</th>\n",
       "      <td>961.24</td>\n",
       "    </tr>\n",
       "    <tr>\n",
       "      <th>PS3</th>\n",
       "      <td>931.82</td>\n",
       "    </tr>\n",
       "    <tr>\n",
       "      <th>Wii</th>\n",
       "      <td>891.18</td>\n",
       "    </tr>\n",
       "    <tr>\n",
       "      <th>DS</th>\n",
       "      <td>802.78</td>\n",
       "    </tr>\n",
       "    <tr>\n",
       "      <th>PS</th>\n",
       "      <td>727.58</td>\n",
       "    </tr>\n",
       "    <tr>\n",
       "      <th>PS4</th>\n",
       "      <td>314.14</td>\n",
       "    </tr>\n",
       "    <tr>\n",
       "      <th>GBA</th>\n",
       "      <td>312.88</td>\n",
       "    </tr>\n",
       "    <tr>\n",
       "      <th>PSP</th>\n",
       "      <td>289.53</td>\n",
       "    </tr>\n",
       "    <tr>\n",
       "      <th>3DS</th>\n",
       "      <td>257.81</td>\n",
       "    </tr>\n",
       "    <tr>\n",
       "      <th>PC</th>\n",
       "      <td>255.76</td>\n",
       "    </tr>\n",
       "    <tr>\n",
       "      <th>GB</th>\n",
       "      <td>254.43</td>\n",
       "    </tr>\n",
       "    <tr>\n",
       "      <th>XB</th>\n",
       "      <td>251.57</td>\n",
       "    </tr>\n",
       "    <tr>\n",
       "      <th>NES</th>\n",
       "      <td>251.05</td>\n",
       "    </tr>\n",
       "    <tr>\n",
       "      <th>N64</th>\n",
       "      <td>218.01</td>\n",
       "    </tr>\n",
       "    <tr>\n",
       "      <th>SNES</th>\n",
       "      <td>200.04</td>\n",
       "    </tr>\n",
       "    <tr>\n",
       "      <th>GC</th>\n",
       "      <td>196.73</td>\n",
       "    </tr>\n",
       "    <tr>\n",
       "      <th>XOne</th>\n",
       "      <td>159.32</td>\n",
       "    </tr>\n",
       "    <tr>\n",
       "      <th>2600</th>\n",
       "      <td>86.48</td>\n",
       "    </tr>\n",
       "    <tr>\n",
       "      <th>WiiU</th>\n",
       "      <td>82.19</td>\n",
       "    </tr>\n",
       "    <tr>\n",
       "      <th>PSV</th>\n",
       "      <td>53.81</td>\n",
       "    </tr>\n",
       "    <tr>\n",
       "      <th>SAT</th>\n",
       "      <td>33.59</td>\n",
       "    </tr>\n",
       "    <tr>\n",
       "      <th>GEN</th>\n",
       "      <td>28.35</td>\n",
       "    </tr>\n",
       "    <tr>\n",
       "      <th>DC</th>\n",
       "      <td>15.95</td>\n",
       "    </tr>\n",
       "    <tr>\n",
       "      <th>SCD</th>\n",
       "      <td>1.86</td>\n",
       "    </tr>\n",
       "    <tr>\n",
       "      <th>NG</th>\n",
       "      <td>1.44</td>\n",
       "    </tr>\n",
       "    <tr>\n",
       "      <th>WS</th>\n",
       "      <td>1.42</td>\n",
       "    </tr>\n",
       "    <tr>\n",
       "      <th>TG16</th>\n",
       "      <td>0.16</td>\n",
       "    </tr>\n",
       "    <tr>\n",
       "      <th>3DO</th>\n",
       "      <td>0.10</td>\n",
       "    </tr>\n",
       "    <tr>\n",
       "      <th>GG</th>\n",
       "      <td>0.04</td>\n",
       "    </tr>\n",
       "    <tr>\n",
       "      <th>PCFX</th>\n",
       "      <td>0.03</td>\n",
       "    </tr>\n",
       "  </tbody>\n",
       "</table>\n",
       "</div>"
      ],
      "text/plain": [
       "          total_sales\n",
       "platform             \n",
       "PS2           1233.56\n",
       "X360           961.24\n",
       "PS3            931.82\n",
       "Wii            891.18\n",
       "DS             802.78\n",
       "PS             727.58\n",
       "PS4            314.14\n",
       "GBA            312.88\n",
       "PSP            289.53\n",
       "3DS            257.81\n",
       "PC             255.76\n",
       "GB             254.43\n",
       "XB             251.57\n",
       "NES            251.05\n",
       "N64            218.01\n",
       "SNES           200.04\n",
       "GC             196.73\n",
       "XOne           159.32\n",
       "2600            86.48\n",
       "WiiU            82.19\n",
       "PSV             53.81\n",
       "SAT             33.59\n",
       "GEN             28.35\n",
       "DC              15.95\n",
       "SCD              1.86\n",
       "NG               1.44\n",
       "WS               1.42\n",
       "TG16             0.16\n",
       "3DO              0.10\n",
       "GG               0.04\n",
       "PCFX             0.03"
      ]
     },
     "execution_count": 31,
     "metadata": {},
     "output_type": "execute_result"
    }
   ],
   "source": [
    "top_platform_sales = (\n",
    "    data.query('year_of_release != -1').pivot_table(\n",
    "        index='platform',\n",
    "        values=['total_sales'], \n",
    "        aggfunc='sum')\n",
    "    .sort_values(by='total_sales', ascending=False)\n",
    ")\n",
    "top_platform_sales"
   ]
  },
  {
   "cell_type": "code",
   "execution_count": 32,
   "metadata": {
    "scrolled": false
   },
   "outputs": [
    {
     "data": {
      "text/plain": [
       "Text(0, 0.5, 'Платформы')"
      ]
     },
     "execution_count": 32,
     "metadata": {},
     "output_type": "execute_result"
    },
    {
     "data": {
      "image/png": "[encoded data removed]",
      "text/plain": [
       "<Figure size 720x432 with 1 Axes>"
      ]
     },
     "metadata": {
      "needs_background": "light"
     },
     "output_type": "display_data"
    }
   ],
   "source": [
    "(\n",
    "    top_platform_sales\n",
    "    .plot.barh(figsize=(10,6))\n",
    ")\n",
    "plt.title('Платформы по количеству продаж')\n",
    "plt.xlabel('Общая сумма проданных игр, млн. копий')\n",
    "plt.ylabel('Платформы')"
   ]
  },
  {
   "cell_type": "markdown",
   "metadata": {},
   "source": [
    "Возьмем данные топ-10 платформ по количеству продаж за весь период. Построим по ним среднее время жизни консоли за весь период"
   ]
  },
  {
   "cell_type": "code",
   "execution_count": 33,
   "metadata": {},
   "outputs": [
    {
     "data": {
      "text/plain": [
       "['PS2', 'X360', 'PS3', 'Wii', 'DS', 'PS', 'PS4', 'GBA', 'PSP', '3DS']"
      ]
     },
     "execution_count": 33,
     "metadata": {},
     "output_type": "execute_result"
    }
   ],
   "source": [
    "top10_platform = list(top_platform_sales.index[:10])\n",
    "top10_platform"
   ]
  },
  {
   "cell_type": "code",
   "execution_count": 34,
   "metadata": {
    "scrolled": false
   },
   "outputs": [
    {
     "data": {
      "text/plain": [
       "Text(0, 0.5, 'Общая сумма продаж, млн. копий')"
      ]
     },
     "execution_count": 34,
     "metadata": {},
     "output_type": "execute_result"
    },
    {
     "data": {
      "image/png": "[encoded data removed]",
      "text/plain": [
       "<Figure size 1440x720 with 1 Axes>"
      ]
     },
     "metadata": {
      "needs_background": "light"
     },
     "output_type": "display_data"
    }
   ],
   "source": [
    "top_platforms_by_years =data.query('year_of_release > 1993 and platform == @top10_platform').pivot_table(\n",
    "                                 index = ['year_of_release'],\n",
    "                                 columns = ['platform'],\n",
    "                                 values = ['total_sales'],\n",
    "                                 aggfunc =  ['sum'])\n",
    "top_platforms_by_years.plot.line(style='.-', figsize = (20,10),label='platform')\n",
    "plt.title('\"Время жизни\" платформы')\n",
    "plt.xlabel('Год выхода игр')\n",
    "plt.ylabel('Общая сумма продаж, млн. копий')\n",
    "#plt.show()"
   ]
  },
  {
   "cell_type": "markdown",
   "metadata": {},
   "source": [
    "**Вывод:** В среднем консоли живут по 7 - 10 лет. Это объясняется техническим устареванием самой консоли.Появление новой консоли объясняется теми же причинами. Портативные платформы (за исключением DS) менее популярны, чем для домашнего пользования.  Пик продаж приходится через 2 - 3 года после появления консоли. Это может объясняться количеством игр, которые выпустили за время существования консоли. Для более наглядного исследования желательно разделить исследование платформ портативных и домашних."
   ]
  },
  {
   "cell_type": "markdown",
   "metadata": {},
   "source": [
    "Проверим какие на сегодняшний день актуальные платформы. Возьмем данные с 2015 по настоящие года, когда сегодняшние консоли уже вышли, но находятся на середине своей жизни.\n",
    "Предыдущие года не учитываем."
   ]
  },
  {
   "cell_type": "code",
   "execution_count": 35,
   "metadata": {
    "scrolled": false
   },
   "outputs": [
    {
     "data": {
      "image/png": "[encoded data removed]",
      "text/plain": [
       "<Figure size 1440x720 with 1 Axes>"
      ]
     },
     "metadata": {
      "needs_background": "light"
     },
     "output_type": "display_data"
    }
   ],
   "source": [
    "actual_platform = data.query('year_of_release >= 2015')\n",
    "actual_platform_pivot_table = actual_platform.pivot_table(\n",
    "                                 index = ['year_of_release'],\n",
    "                                 columns = ['platform'],\n",
    "                                 values = ['total_sales'],\n",
    "                                 aggfunc =  ['sum'])\n",
    "actual_platform_pivot_table.plot.line(style='.-', figsize = (20,10),label='platform')\n",
    "plt.title('Актуальные платформы с 2013 года')\n",
    "plt.xlabel('Год выхода игр')\n",
    "plt.ylabel('Общая сумма продаж, млн. копий')\n",
    "j = np.arange(11)"
   ]
  },
  {
   "cell_type": "markdown",
   "metadata": {},
   "source": [
    "**Вывод:** По продажам игр лидируют:\n",
    "- PS4\n",
    "- XOne\n",
    "- 3DS\n",
    "- PC\n",
    "- WiiU\n",
    "\n",
    "На остальные консоли либо перестали производить игры (PSP,DS), либо их жизненный путь заканчивается, и в скором времени их заменят другими платформами. Также стоит отметить, что PC, как платформа, будет актуален всегда, хоть как игровая платформа и выходит дороже, и поэтому для составления рекламной стратегии не стоит упускать из виду(уточнение: для данного вывода нужно дополнительное исследование на цену платформ)."
   ]
  },
  {
   "cell_type": "markdown",
   "metadata": {},
   "source": [
    "Постройм график «ящик с усами» по глобальным продажам игр в разбивке по платформам."
   ]
  },
  {
   "cell_type": "code",
   "execution_count": 36,
   "metadata": {
    "scrolled": false
   },
   "outputs": [
    {
     "data": {
      "text/plain": [
       "(0.0, 1.75)"
      ]
     },
     "execution_count": 36,
     "metadata": {},
     "output_type": "execute_result"
    },
    {
     "data": {
      "image/png": "[encoded data removed]",
      "text/plain": [
       "<Figure size 1152x720 with 1 Axes>"
      ]
     },
     "metadata": {
      "needs_background": "light"
     },
     "output_type": "display_data"
    }
   ],
   "source": [
    "ax = (\n",
    "    actual_platform\n",
    "    .boxplot(\n",
    "        column = ['total_sales'],\n",
    "        by = ['platform'],\n",
    "        figsize=(16, 10))\n",
    ")\n",
    "plt.suptitle('')\n",
    "plt.title('Диаграмма размаха общих продаж по платформам')\n",
    "plt.xlabel('Платформы')\n",
    "plt.ylabel('Общая сумма проданных игр, млн. копий')\n",
    "plt.ylim([0, 1.75])"
   ]
  },
  {
   "cell_type": "markdown",
   "metadata": {},
   "source": [
    "**Вывод:** Медиана по топовым платформам варьируется от 100 до 250 тыс проданных копий за игру.\n",
    "Верхняя граница предела, за которыми уже определяются аномалии, у двух платформ - PS3 и X360 - на уровне 1,7 млн копий.\n",
    "У остальных - от 1 до 1,5 млн. копий."
   ]
  },
  {
   "cell_type": "markdown",
   "metadata": {},
   "source": [
    "Посмотрим, как влияют на продажи внутри одной популярной платформы отзывы пользователей и критиков."
   ]
  },
  {
   "cell_type": "markdown",
   "metadata": {},
   "source": [
    "Возьмем в качестве популярной платформы PS4."
   ]
  },
  {
   "cell_type": "markdown",
   "metadata": {},
   "source": [
    "**PS4**"
   ]
  },
  {
   "cell_type": "code",
   "execution_count": 37,
   "metadata": {},
   "outputs": [
    {
     "data": {
      "image/png": "[encoded data removed]",
      "text/plain": [
       "<Figure size 1224x360 with 2 Axes>"
      ]
     },
     "metadata": {
      "needs_background": "light"
     },
     "output_type": "display_data"
    }
   ],
   "source": [
    "fig, (ax1, ax2) = plt.subplots(1, 2)\n",
    "fig.set_size_inches(17,5)\n",
    "ax1 = data.query('platform == \"PS4\"').plot(ax=ax1, x='total_sales', y='user_score', kind='scatter',title='Корреляция оценки пользователей на продажи игр наPS4',xlabel='Общие продажи игр на PS4', ylabel='Оценка пользователей') \n",
    "ax2 = data.query('platform == \"PS4\"').plot(ax=ax2, x='total_sales', y='critic_score', kind='scatter',title='Корреляция оценки критиков на продажи игр на PS4',xlabel='Общие продажи игр на PS4', ylabel='Оценка критиков') "
   ]
  },
  {
   "cell_type": "code",
   "execution_count": 38,
   "metadata": {},
   "outputs": [
    {
     "name": "stdout",
     "output_type": "stream",
     "text": [
      "Корреляция оценки пользователей на продажи игр на PS4 -  -0.031957110204556376\n",
      "Корреляция оценки критиков на продажи игр на PS4 -  0.406567902061781\n"
     ]
    }
   ],
   "source": [
    "print('Корреляция оценки пользователей на продажи игр на PS4 - ',data.query('platform == \"PS4\"')['total_sales'].corr(data['user_score']))\n",
    "print('Корреляция оценки критиков на продажи игр на PS4 - ',data.query('platform == \"PS4\"')['total_sales'].corr(data['critic_score']))"
   ]
  },
  {
   "cell_type": "markdown",
   "metadata": {},
   "source": [
    "**Вывод:** Практически нет влияния отзывов пользователей на продажи. Чуть более тесная связь между продажами и отзывами критиков. Это может быть связано, что критик в основном, более объективно выставляет оценку, в отличии от субъективной оценки пользователя. Также может быть связан из-за того, что игры, где выше бюджет, более качественны, и соответственно выше оценка, но не всегда так выходит. "
   ]
  },
  {
   "cell_type": "markdown",
   "metadata": {},
   "source": [
    "Посмотрим на влияние продаж от отзывов критика и отзывов пользователя на других популярных платформах."
   ]
  },
  {
   "cell_type": "markdown",
   "metadata": {},
   "source": [
    "**XBOX ONE**"
   ]
  },
  {
   "cell_type": "code",
   "execution_count": 39,
   "metadata": {},
   "outputs": [
    {
     "data": {
      "image/png": "[encoded data removed]",
      "text/plain": [
       "<Figure size 1224x360 with 2 Axes>"
      ]
     },
     "metadata": {
      "needs_background": "light"
     },
     "output_type": "display_data"
    }
   ],
   "source": [
    "fig, (ax1, ax2) = plt.subplots(1, 2)\n",
    "fig.set_size_inches(17,5)\n",
    "ax1 = data.query('platform == \"XOne\"').plot(ax=ax1, x='total_sales', y='user_score', kind='scatter',title='Корреляция оценки пользователей на продажи игр на Xbox One',xlabel='Общие продажи игр на Xbox One', ylabel='Оценка пользователей') \n",
    "ax2 = data.query('platform == \"XOne\"').plot(ax=ax2, x='total_sales', y='critic_score', kind='scatter',title='Корреляция оценки критиков на продажи игр на Xbox One',xlabel='Общие продажи игр на Xbox One', ylabel='Оценка критиков') "
   ]
  },
  {
   "cell_type": "code",
   "execution_count": 40,
   "metadata": {},
   "outputs": [
    {
     "name": "stdout",
     "output_type": "stream",
     "text": [
      "Корреляция оценки пользователей на продажи игр на XOne -  -0.06892505328279412\n",
      "Корреляция оценки критиков на продажи игр на XOne -  0.41699832800840175\n"
     ]
    }
   ],
   "source": [
    "print('Корреляция оценки пользователей на продажи игр на XOne - ',data.query('platform == \"XOne\"')['total_sales'].corr(data['user_score']))\n",
    "print('Корреляция оценки критиков на продажи игр на XOne - ',data.query('platform == \"XOne\"')['total_sales'].corr(data['critic_score']))"
   ]
  },
  {
   "cell_type": "markdown",
   "metadata": {},
   "source": [
    "**Nintendo 3DS**"
   ]
  },
  {
   "cell_type": "code",
   "execution_count": 41,
   "metadata": {},
   "outputs": [
    {
     "data": {
      "text/plain": [
       "<AxesSubplot:title={'center':'Корреляция оценки критиков на продажи игр на 3DS'}, xlabel='Общие продажи игр на 3DS', ylabel='Оценка критиков'>"
      ]
     },
     "execution_count": 41,
     "metadata": {},
     "output_type": "execute_result"
    },
    {
     "data": {
      "image/png": "[encoded data removed]",
      "text/plain": [
       "<Figure size 1224x360 with 2 Axes>"
      ]
     },
     "metadata": {
      "needs_background": "light"
     },
     "output_type": "display_data"
    }
   ],
   "source": [
    "fig, (ax1, ax2) = plt.subplots(1, 2)\n",
    "fig.set_size_inches(17,5)\n",
    "data.query('platform == \"3DS\"').plot(ax=ax1, x='total_sales', y='user_score', kind='scatter',title='Корреляция оценки пользователей на продажи игр на 3DS',xlabel='Общие продажи игр на 3DS', ylabel='Оценка пользователей') \n",
    "data.query('platform == \"3DS\"').plot(ax=ax2, x='total_sales', y='critic_score', kind='scatter',title='Корреляция оценки критиков на продажи игр на 3DS',xlabel='Общие продажи игр на 3DS', ylabel='Оценка критиков') "
   ]
  },
  {
   "cell_type": "code",
   "execution_count": 42,
   "metadata": {},
   "outputs": [
    {
     "name": "stdout",
     "output_type": "stream",
     "text": [
      "Корреляция оценки пользователей на продажи игр на 3DS -  0.22480798039571082\n",
      "Корреляция оценки критиков на продажи игр на 3DS -  0.3494009303924131\n"
     ]
    }
   ],
   "source": [
    "print('Корреляция оценки пользователей на продажи игр на 3DS - ',data.query('platform == \"3DS\"')['total_sales'].corr(data['user_score']))\n",
    "print('Корреляция оценки критиков на продажи игр на 3DS - ',data.query('platform == \"3DS\"')['total_sales'].corr(data['critic_score']))"
   ]
  },
  {
   "cell_type": "markdown",
   "metadata": {},
   "source": [
    "**PC**"
   ]
  },
  {
   "cell_type": "code",
   "execution_count": 43,
   "metadata": {
    "scrolled": true
   },
   "outputs": [
    {
     "data": {
      "image/png": "[encoded data removed]",
      "text/plain": [
       "<Figure size 1224x360 with 2 Axes>"
      ]
     },
     "metadata": {
      "needs_background": "light"
     },
     "output_type": "display_data"
    }
   ],
   "source": [
    "fig, (ax1, ax2) = plt.subplots(1, 2)\n",
    "fig.set_size_inches(17,5)\n",
    "ax1 = data.query('platform == \"PC\"').plot(ax=ax1, x='total_sales', y='user_score', kind='scatter',title='Корреляция оценки пользователей на продажи игр на PC',xlabel='Общие продажи игр на PC', ylabel='Оценка пользователей') \n",
    "ax2 = data.query('platform == \"PC\"').plot(ax=ax2, x='total_sales', y='critic_score', kind='scatter',title='Корреляция оценки критиков на продажи игр на PC',xlabel='Общие продажи игр на PC', ylabel='Оценка критиков') "
   ]
  },
  {
   "cell_type": "code",
   "execution_count": 44,
   "metadata": {},
   "outputs": [
    {
     "name": "stdout",
     "output_type": "stream",
     "text": [
      "Корреляция оценки пользователей на продажи игр на PC -  0.010475684621486419\n",
      "Корреляция оценки критиков на продажи игр на PC -  0.2568867378948212\n"
     ]
    }
   ],
   "source": [
    "print('Корреляция оценки пользователей на продажи игр на PC - ',data.query('platform == \"PC\"')['total_sales'].corr(data['user_score']))\n",
    "print('Корреляция оценки критиков на продажи игр на PC - ',data.query('platform == \"PC\"')['total_sales'].corr(data['critic_score']))"
   ]
  },
  {
   "cell_type": "markdown",
   "metadata": {},
   "source": [
    "**WiiU**"
   ]
  },
  {
   "cell_type": "code",
   "execution_count": 45,
   "metadata": {},
   "outputs": [
    {
     "data": {
      "image/png": "[encoded data removed]",
      "text/plain": [
       "<Figure size 1224x360 with 2 Axes>"
      ]
     },
     "metadata": {
      "needs_background": "light"
     },
     "output_type": "display_data"
    }
   ],
   "source": [
    "fig, (ax1, ax2) = plt.subplots(1, 2)\n",
    "fig.set_size_inches(17,5)\n",
    "ax1 = data.query('platform == \"WiiU\"').plot(ax=ax1, x='total_sales', y='user_score', kind='scatter',title='Корреляция оценки пользователей на продажи игр на WiiU',xlabel='Общие продажи игр на WiiU', ylabel='Оценка пользователей') \n",
    "ax2 = data.query('platform == \"WiiU\"').plot(ax=ax2, x='total_sales', y='critic_score', kind='scatter',title='Корреляция оценки критиков на продажи игр на WiiU',xlabel='Общие продажи игр на WiiU', ylabel='Оценка критиков') "
   ]
  },
  {
   "cell_type": "code",
   "execution_count": 46,
   "metadata": {},
   "outputs": [
    {
     "name": "stdout",
     "output_type": "stream",
     "text": [
      "Корреляция оценки пользователей на продажи игр на WiiU -  0.4002190202148617\n",
      "Корреляция оценки критиков на продажи игр на WiiU -  0.3483797601201749\n"
     ]
    }
   ],
   "source": [
    "print('Корреляция оценки пользователей на продажи игр на WiiU - ',data.query('platform == \"WiiU\"')['total_sales'].corr(data['user_score']))\n",
    "print('Корреляция оценки критиков на продажи игр на WiiU - ',data.query('platform == \"WiiU\"')['total_sales'].corr(data['critic_score']))"
   ]
  },
  {
   "cell_type": "markdown",
   "metadata": {},
   "source": [
    "**Вывод:** Ситуация та-же, что и с PS4, только связь продаж игр на 3DS и WiiU с оценкой пользователей чуть выше. Это может быть связана, что 3DS и WiiU - портативные консоли, и вместо отзыва в интернете от неизвестного человека, можно оценить игру непосредственно у самого пользователя консоли, играя вместе с ним."
   ]
  },
  {
   "cell_type": "markdown",
   "metadata": {},
   "source": [
    "Посмотрим на общее распределение игр по жанрам."
   ]
  },
  {
   "cell_type": "code",
   "execution_count": 47,
   "metadata": {},
   "outputs": [
    {
     "data": {
      "text/plain": [
       "Text(0, 0.5, 'Жанры')"
      ]
     },
     "execution_count": 47,
     "metadata": {},
     "output_type": "execute_result"
    },
    {
     "data": {
      "image/png": "[encoded data removed]",
      "text/plain": [
       "<Figure size 432x288 with 1 Axes>"
      ]
     },
     "metadata": {
      "needs_background": "light"
     },
     "output_type": "display_data"
    }
   ],
   "source": [
    "popular_genre = actual_platform.pivot_table(index='genre', values='name' ,aggfunc ='count').sort_values('name',ascending=False)\n",
    "popular_genre.plot.barh()\n",
    "plt.title('Платформы по количеству игр по жанрам')\n",
    "plt.xlabel('Общая количество проданных игр, млн. копий')\n",
    "plt.ylabel('Жанры')"
   ]
  },
  {
   "cell_type": "markdown",
   "metadata": {},
   "source": [
    "Топ-3 по количеству игр по жанрам:\n",
    "- Action\n",
    "- Role-Playing\n",
    "- Adventure"
   ]
  },
  {
   "cell_type": "markdown",
   "metadata": {},
   "source": [
    "Построим диаграмму размаха продаж по жанрам."
   ]
  },
  {
   "cell_type": "code",
   "execution_count": 48,
   "metadata": {},
   "outputs": [
    {
     "data": {
      "image/png": "[encoded data removed]",
      "text/plain": [
       "<Figure size 1152x720 with 1 Axes>"
      ]
     },
     "metadata": {
      "needs_background": "light"
     },
     "output_type": "display_data"
    }
   ],
   "source": [
    "actual_platform.boxplot(column = ['total_sales'],by = ['genre'],figsize=(16, 10))\n",
    "plt.suptitle('')\n",
    "plt.title('Диаграмма размаха общих продаж по жанрам')\n",
    "plt.xlabel('Жанры игр')\n",
    "plt.ylabel('Общая сумма проданных игр, млн. копий')\n",
    "plt.ylim([0, 3.5])\n",
    "plt.show()"
   ]
  },
  {
   "cell_type": "markdown",
   "metadata": {},
   "source": [
    "Хоть игр в жанре Action больше, данный жанр уступает Shooter по количеству проданных копий. Топ-3 по проданным копиям игр по жанрам:\n",
    "- Shooter\n",
    "- Sports\n",
    "- Platform"
   ]
  },
  {
   "cell_type": "markdown",
   "metadata": {},
   "source": [
    "<a id=\"4\"></a> \n",
    "### Портрет пользователя каждого региона"
   ]
  },
  {
   "cell_type": "markdown",
   "metadata": {},
   "source": [
    "Составим портрет пользователя каждого региона по следующим критериям:\n",
    "\n",
    "    Самые популярные платформы (топ-5).\n",
    "    Самые популярные жанры (топ-5).\n",
    "    Влияет ли рейтинг ESRB на продажи в отдельном регионе?\n",
    "    \n",
    "Рейтинг ESRB имеет градацию:\n",
    "- EC - от 3 лет\n",
    "- E - от 6 лет\n",
    "- E10+ - от 10 лет\n",
    "- T - от 13 лет\n",
    "- M - от 17 лет\n",
    "- AO - от 18 лет\n",
    "- RP - рейтинг ожидается"
   ]
  },
  {
   "cell_type": "markdown",
   "metadata": {},
   "source": [
    "**Самые популярные платформы (топ-5)**"
   ]
  },
  {
   "cell_type": "code",
   "execution_count": 49,
   "metadata": {},
   "outputs": [
    {
     "data": {
      "text/plain": [
       "Text(0.5, 1.0, 'JP - регион')"
      ]
     },
     "execution_count": 49,
     "metadata": {},
     "output_type": "execute_result"
    },
    {
     "data": {
      "image/png": "[encoded data removed]",
      "text/plain": [
       "<Figure size 1224x360 with 3 Axes>"
      ]
     },
     "metadata": {},
     "output_type": "display_data"
    }
   ],
   "source": [
    "fig, (ax1, ax2, ax3) = plt.subplots(1, 3)\n",
    "fig.set_size_inches(17,5)\n",
    "fig.suptitle('Самые популярные платформы по регионам (топ-5).')\n",
    "(\n",
    "    actual_platform\n",
    "    .pivot_table(\n",
    "        index='platform',\n",
    "        values='na_sales',\n",
    "        aggfunc='sum')\n",
    "    .sort_values('na_sales',ascending=False)\n",
    "    .head(5)\n",
    "    .plot.pie(ax=ax1,ylabel='',autopct='%1.0f%%', subplots=True, figsize=(8,8))\n",
    ")\n",
    "(\n",
    "    actual_platform\n",
    "    .pivot_table(\n",
    "        index='platform',\n",
    "        values='eu_sales',\n",
    "        aggfunc='sum')\n",
    "    .sort_values('eu_sales',ascending=False)\n",
    "    .head(5)\n",
    "    .plot.pie(ax=ax2,ylabel='',autopct='%1.0f%%', subplots=True, figsize=(8,8))\n",
    ")\n",
    "(\n",
    "    actual_platform\n",
    "    .pivot_table(\n",
    "        index='platform',\n",
    "        values='jp_sales',\n",
    "        aggfunc='sum')\n",
    "    .sort_values('jp_sales',ascending=False)\n",
    "    .head(5)\n",
    "    .plot.pie(ax=ax3,ylabel='',autopct='%1.0f%%', subplots=True, figsize=(8,8))\n",
    ")\n",
    "ax1.set_title('NA - регион')\n",
    "ax2.set_title('EU - регион')\n",
    "ax3.set_title('JP - регион')"
   ]
  },
  {
   "cell_type": "markdown",
   "metadata": {},
   "source": [
    "**Самые популярные жанры (топ-5)**"
   ]
  },
  {
   "cell_type": "code",
   "execution_count": 50,
   "metadata": {
    "scrolled": false
   },
   "outputs": [
    {
     "data": {
      "text/plain": [
       "Text(0.5, 1.0, 'JP - регион')"
      ]
     },
     "execution_count": 50,
     "metadata": {},
     "output_type": "execute_result"
    },
    {
     "data": {
      "image/png": "[encoded data removed]",
      "text/plain": [
       "<Figure size 1224x360 with 3 Axes>"
      ]
     },
     "metadata": {},
     "output_type": "display_data"
    }
   ],
   "source": [
    "fig, (ax1, ax2, ax3) = plt.subplots(1, 3)\n",
    "fig.set_size_inches(17,5)\n",
    "fig.suptitle('Самые популярные жанры по регионам (топ-5).')\n",
    "(\n",
    "    actual_platform\n",
    "    .pivot_table(\n",
    "        index='genre',\n",
    "        values='na_sales',\n",
    "        aggfunc='sum')\n",
    "    .sort_values('na_sales',ascending=False)\n",
    "    .head(5)\n",
    "    .plot.pie(ax=ax1,ylabel='',autopct='%1.0f%%', subplots=True, figsize=(8,8))\n",
    ")\n",
    "(\n",
    "    actual_platform\n",
    "    .pivot_table(\n",
    "        index='genre',\n",
    "        values='eu_sales',\n",
    "        aggfunc='sum')\n",
    "    .sort_values('eu_sales',ascending=False)\n",
    "    .head(5)\n",
    "    .plot.pie(ax=ax2,ylabel='',autopct='%1.0f%%', subplots=True, figsize=(8,8))\n",
    ")\n",
    "(\n",
    "    actual_platform\n",
    "    .pivot_table(\n",
    "        index='genre',\n",
    "        values='jp_sales',\n",
    "        aggfunc='sum')\n",
    "    .sort_values('jp_sales',ascending=False)\n",
    "    .head(5)\n",
    "    .plot.pie(ax=ax3,ylabel='',autopct='%1.0f%%', subplots=True, figsize=(8,8))\n",
    ")\n",
    "ax1.set_title('NA - регион')\n",
    "ax2.set_title('EU - регион')\n",
    "ax3.set_title('JP - регион')"
   ]
  },
  {
   "cell_type": "markdown",
   "metadata": {},
   "source": [
    "**Влияет ли рейтинг ESRB на продажи в отдельном регионе?**"
   ]
  },
  {
   "cell_type": "code",
   "execution_count": 51,
   "metadata": {
    "scrolled": false
   },
   "outputs": [
    {
     "data": {
      "text/plain": [
       "Text(0.5, 1.0, 'JP - регион')"
      ]
     },
     "execution_count": 51,
     "metadata": {},
     "output_type": "execute_result"
    },
    {
     "data": {
      "image/png": "[encoded data removed]",
      "text/plain": [
       "<Figure size 1224x360 with 3 Axes>"
      ]
     },
     "metadata": {},
     "output_type": "display_data"
    }
   ],
   "source": [
    "fig, (ax1, ax2, ax3) = plt.subplots(1, 3)\n",
    "fig.set_size_inches(17,5)\n",
    "fig.suptitle('Диаграмма игр по продажам игр по рейтингу')\n",
    "(\n",
    "    actual_platform\n",
    "    .pivot_table(\n",
    "        index='rating',\n",
    "        values='na_sales',\n",
    "        aggfunc='sum')\n",
    "    .sort_values('na_sales',ascending=False)\n",
    "    .plot.pie(ax=ax1, ylabel='',autopct='%1.0f%%', subplots=True, figsize=(8,8))\n",
    ")\n",
    "(\n",
    "    actual_platform\n",
    "    .pivot_table(\n",
    "        index='rating',\n",
    "        values='eu_sales',\n",
    "        aggfunc='sum')\n",
    "    .sort_values('eu_sales',ascending=False)\n",
    "    .plot.pie(ax=ax2, ylabel='',autopct='%1.0f%%', subplots=True, figsize=(8,8))\n",
    ")\n",
    "(\n",
    "    actual_platform\n",
    "    .pivot_table(\n",
    "        index='rating',\n",
    "        values='jp_sales',\n",
    "        aggfunc='sum')\n",
    "    .sort_values('jp_sales',ascending=False)\n",
    "    .plot.pie(ax=ax3,ylabel='',autopct='%1.0f%%', subplots=True, figsize=(8,8))\n",
    ")\n",
    "ax1.set_title('NA - регион')\n",
    "ax2.set_title('EU - регион')\n",
    "ax3.set_title('JP - регион')"
   ]
  },
  {
   "cell_type": "markdown",
   "metadata": {},
   "source": [
    "**Вывод:** Проведя анализ, по всем регионам доминирующей платформой стал PS4, большинство игроков предпочитают игры жанра Action. Отдельно по регионам можно составить портрет игрока:\n",
    "\n",
    "- Американский игрок - Любит играть или на PS4, или на XOne, предпочитает игры жанров Action и Shooter, предпочитая игры для взрослых.\n",
    "- Европейский игрок - Любит играть на PS4, или на PS3, предпочитает игры жанров Action и Shooter, предпочитая игры для взрослых.\n",
    "- Японский игрок - Любит играть или на портативной консоле 3DS, или на PS4, предпочитает игры жанров Action и Role-playing , предпочитая игры либо только для взрослых, либо детские игры от 3+. Но это по европейским стандартам. В японии используется своя система рейтинга Computer Entertainment Rating Organizatio (CERO) - почти то же, что и ESRB, но для японского рынка, и соответственно, результат может отличается."
   ]
  },
  {
   "cell_type": "markdown",
   "metadata": {},
   "source": [
    "<a id=\"5\"></a> \n",
    "### Проверка гипотез"
   ]
  },
  {
   "cell_type": "markdown",
   "metadata": {},
   "source": [
    "Для проверки обеих гипотез будем использовать двусторонний t-критерий Стьюдента, т.к. в обоих случаях выборки независимы между собой."
   ]
  },
  {
   "cell_type": "markdown",
   "metadata": {},
   "source": [
    "**5.1 Проверим, одинаковы ли средние пользовательские рейтинги платформ Xbox One и PC?** <a id=\"5.1\"></a> "
   ]
  },
  {
   "cell_type": "markdown",
   "metadata": {},
   "source": [
    "Гипотезы:\n",
    "\n",
    "    H0: средние пользовательские рейтинги платформ Xbox One и PC одинаковые;\n",
    "    H1: средние пользовательские рейтинги платформ Xbox One и PC разные.\n",
    "\n",
    "Для проверки обеих гипотез будем использовать двусторонний t-критерий Стьюдента, т.к. в обоих случаях выборки независимы между собой."
   ]
  },
  {
   "cell_type": "code",
   "execution_count": 52,
   "metadata": {
    "scrolled": true
   },
   "outputs": [
    {
     "name": "stdout",
     "output_type": "stream",
     "text": [
      "p-значение: 0.2946308864003345\n",
      "Не получилось отвергнуть нулевую гипотезу\n"
     ]
    }
   ],
   "source": [
    "xone = actual_platform.query('platform == \"XOne\" and user_score.isna() == False')['user_score']\n",
    "pc = actual_platform.query('platform == \"PC\" and user_score.isna() == False')['user_score']\n",
    "\n",
    "alpha = .05\n",
    "\n",
    "results = st.ttest_ind(\n",
    "    xone, \n",
    "    pc, \n",
    "    equal_var=False)\n",
    "\n",
    "print('p-значение:', results.pvalue)\n",
    "\n",
    "if (results.pvalue < alpha):\n",
    "    print(\"Отвергаем нулевую гипотезу\")\n",
    "else:\n",
    "    print(\"Не получилось отвергнуть нулевую гипотезу\")"
   ]
  },
  {
   "cell_type": "markdown",
   "metadata": {},
   "source": [
    "Перепроверим результат:"
   ]
  },
  {
   "cell_type": "code",
   "execution_count": 53,
   "metadata": {},
   "outputs": [
    {
     "data": {
      "text/html": [
       "<div>\n",
       "<style scoped>\n",
       "    .dataframe tbody tr th:only-of-type {\n",
       "        vertical-align: middle;\n",
       "    }\n",
       "\n",
       "    .dataframe tbody tr th {\n",
       "        vertical-align: top;\n",
       "    }\n",
       "\n",
       "    .dataframe thead th {\n",
       "        text-align: right;\n",
       "    }\n",
       "</style>\n",
       "<table border=\"1\" class=\"dataframe\">\n",
       "  <thead>\n",
       "    <tr style=\"text-align: right;\">\n",
       "      <th></th>\n",
       "      <th>user_score</th>\n",
       "    </tr>\n",
       "    <tr>\n",
       "      <th>platform</th>\n",
       "      <th></th>\n",
       "    </tr>\n",
       "  </thead>\n",
       "  <tbody>\n",
       "    <tr>\n",
       "      <th>PC</th>\n",
       "      <td>6.296429</td>\n",
       "    </tr>\n",
       "    <tr>\n",
       "      <th>XOne</th>\n",
       "      <td>6.542149</td>\n",
       "    </tr>\n",
       "  </tbody>\n",
       "</table>\n",
       "</div>"
      ],
      "text/plain": [
       "          user_score\n",
       "platform            \n",
       "PC          6.296429\n",
       "XOne        6.542149"
      ]
     },
     "execution_count": 53,
     "metadata": {},
     "output_type": "execute_result"
    }
   ],
   "source": [
    "xone_pc = actual_platform.query('platform == \"XOne\" or platform == \"PC\"')\n",
    "xone_pc.pivot_table(index='platform', values='user_score', aggfunc='mean')"
   ]
  },
  {
   "cell_type": "markdown",
   "metadata": {},
   "source": [
    "**Вывод:** У нас не получилось отвергнуть гипотезу о том, что средние пользовательские рейтинги платформ Xbox One и PC одинаковые;"
   ]
  },
  {
   "cell_type": "markdown",
   "metadata": {},
   "source": [
    "**5.2 Проверим, разные ли средние пользовательские рейтинги жанров Action и Sports.**"
   ]
  },
  {
   "cell_type": "markdown",
   "metadata": {},
   "source": [
    "Гипотезы:\n",
    "\n",
    "    H0: Средние пользовательские рейтинги жанров Action и Sports одинаковые.\n",
    "    H1: Средние пользовательские рейтинги жанров Action и Sports разные."
   ]
  },
  {
   "cell_type": "code",
   "execution_count": 54,
   "metadata": {
    "scrolled": true
   },
   "outputs": [
    {
     "name": "stdout",
     "output_type": "stream",
     "text": [
      "p-значение: 5.97163549920592e-10\n",
      "Отвергаем нулевую гипотезу\n"
     ]
    }
   ],
   "source": [
    "action = actual_platform.query('genre == \"Action\" and user_score.isna() == False')['user_score']\n",
    "sports = actual_platform.query('genre == \"Sports\" and user_score.isna() == False')['user_score']\n",
    "\n",
    "alpha = .05\n",
    "\n",
    "results = st.ttest_ind(\n",
    "    action, \n",
    "    sports, \n",
    "    equal_var=False)\n",
    "\n",
    "print('p-значение:', results.pvalue)\n",
    "\n",
    "if (results.pvalue < alpha):\n",
    "    print(\"Отвергаем нулевую гипотезу\")\n",
    "else:\n",
    "    print(\"Не получилось отвергнуть нулевую гипотезу\")"
   ]
  },
  {
   "cell_type": "markdown",
   "metadata": {},
   "source": [
    "Перепроверим результат:"
   ]
  },
  {
   "cell_type": "code",
   "execution_count": 55,
   "metadata": {},
   "outputs": [
    {
     "data": {
      "text/html": [
       "<div>\n",
       "<style scoped>\n",
       "    .dataframe tbody tr th:only-of-type {\n",
       "        vertical-align: middle;\n",
       "    }\n",
       "\n",
       "    .dataframe tbody tr th {\n",
       "        vertical-align: top;\n",
       "    }\n",
       "\n",
       "    .dataframe thead th {\n",
       "        text-align: right;\n",
       "    }\n",
       "</style>\n",
       "<table border=\"1\" class=\"dataframe\">\n",
       "  <thead>\n",
       "    <tr style=\"text-align: right;\">\n",
       "      <th></th>\n",
       "      <th>user_score</th>\n",
       "    </tr>\n",
       "    <tr>\n",
       "      <th>genre</th>\n",
       "      <th></th>\n",
       "    </tr>\n",
       "  </thead>\n",
       "  <tbody>\n",
       "    <tr>\n",
       "      <th>Action</th>\n",
       "      <td>6.80829</td>\n",
       "    </tr>\n",
       "    <tr>\n",
       "      <th>Sports</th>\n",
       "      <td>5.19878</td>\n",
       "    </tr>\n",
       "  </tbody>\n",
       "</table>\n",
       "</div>"
      ],
      "text/plain": [
       "        user_score\n",
       "genre             \n",
       "Action     6.80829\n",
       "Sports     5.19878"
      ]
     },
     "execution_count": 55,
     "metadata": {},
     "output_type": "execute_result"
    }
   ],
   "source": [
    "action_sports = actual_platform.query('genre == \"Action\" or genre == \"Sports\"')\n",
    "action_sports.pivot_table(index='genre', values='user_score', aggfunc='mean')"
   ]
  },
  {
   "cell_type": "markdown",
   "metadata": {},
   "source": [
    "**Вывод:** У нас не получилось отвергнуть гипотезу о том, что средние пользовательские рейтинги платформ Xbox One и PC разные;"
   ]
  },
  {
   "cell_type": "markdown",
   "metadata": {},
   "source": [
    "Вывод исследования](#6) "
   ]
  },
  {
   "cell_type": "markdown",
   "metadata": {},
   "source": [
    "При проведении анализа данных были выявлены следующие результаты:\n",
    "\n",
    "- Самый насыщенные по количеству игр период с 2005 по 2011 года.\n",
    "- В среднем консоли живут по 7 - 10 лет.\n",
    "- На сегодняшний день актуальными платформами являются: PS4, XOne и 3DS, PC и WiiU. PC как платформа, будет актуальна всегда, но за ней нет мощной рекламной стратегии, т.к. PC - это больше для рутинных и рабочих задач.\n",
    "- По всем регионам самой популярной консолью является PS4. Американские и европейские игроки предпочитают взрослые игры Action и Shooters, на консолях XboxOne и PS4, в то время как японские игроки больше предпочитают портативную консоль 3DS и PS4 и взрослые игры жанров Role-playing и Action\n",
    "\n",
    "В результате проведенного исследования были подтверждены следующие гипотезы:\n",
    "\n",
    "- С вероятностью 5% средние пользовательские рейтинги жанров Action и Sports отличаются.\n",
    "- Cредние пользовательские рейтинги платформ Xbox One и PC одинаковые."
   ]
  },
  {
   "cell_type": "markdown",
   "metadata": {},
   "source": [
    "Рекомендации рекламному отделу:\n",
    "Для составления рекламных предложений могу предложить следующие рекомендации:\n",
    "- Делать акцент на нынешние консоли, в особенности Xbox One и PC;\n",
    "- Увеличить рекламу игр жанров Action и Shooters, можно добавить для насыщения рынка игры жанров Sports и Role-playing;\n",
    "- Устроить распродажи игр для платформ, у которых подходит к концку срок жизни, например Wii, WiiU или Xbox360."
   ]
  }
 ],
 "metadata": {
  "ExecuteTimeLog": [
   {
    "duration": 373,
    "start_time": "2024-04-11T13:43:40.774Z"
   },
   {
    "duration": 108,
    "start_time": "2024-04-11T13:43:41.719Z"
   },
   {
    "duration": 26,
    "start_time": "2024-04-11T13:43:45.895Z"
   },
   {
    "duration": 16,
    "start_time": "2024-04-11T14:29:30.071Z"
   },
   {
    "duration": 6,
    "start_time": "2024-04-11T14:29:52.702Z"
   },
   {
    "duration": 28,
    "start_time": "2024-04-11T14:30:21.922Z"
   },
   {
    "duration": 80,
    "start_time": "2024-04-11T15:06:48.296Z"
   },
   {
    "duration": 6,
    "start_time": "2024-04-11T15:06:51.981Z"
   },
   {
    "duration": 61,
    "start_time": "2024-04-11T15:07:01.970Z"
   },
   {
    "duration": 53,
    "start_time": "2024-04-11T15:09:23.879Z"
   },
   {
    "duration": 19,
    "start_time": "2024-04-11T15:09:24.578Z"
   },
   {
    "duration": 19,
    "start_time": "2024-04-11T15:09:28.250Z"
   },
   {
    "duration": 20,
    "start_time": "2024-04-11T15:12:29.742Z"
   },
   {
    "duration": 63,
    "start_time": "2024-04-11T15:12:36.609Z"
   },
   {
    "duration": 21,
    "start_time": "2024-04-11T15:12:56.786Z"
   },
   {
    "duration": 15,
    "start_time": "2024-04-11T15:13:14.983Z"
   },
   {
    "duration": 24,
    "start_time": "2024-04-11T15:13:17.772Z"
   },
   {
    "duration": 19,
    "start_time": "2024-04-11T15:13:23.369Z"
   },
   {
    "duration": 18,
    "start_time": "2024-04-11T15:13:34.833Z"
   },
   {
    "duration": 410,
    "start_time": "2024-04-11T15:13:40.332Z"
   },
   {
    "duration": 55,
    "start_time": "2024-04-11T15:13:40.744Z"
   },
   {
    "duration": 27,
    "start_time": "2024-04-11T15:13:40.801Z"
   },
   {
    "duration": 24,
    "start_time": "2024-04-11T15:13:40.830Z"
   },
   {
    "duration": 5,
    "start_time": "2024-04-11T15:13:40.856Z"
   },
   {
    "duration": 32,
    "start_time": "2024-04-11T15:13:40.862Z"
   },
   {
    "duration": 85,
    "start_time": "2024-04-11T15:35:14.809Z"
   },
   {
    "duration": 18,
    "start_time": "2024-04-11T15:35:31.599Z"
   },
   {
    "duration": 69,
    "start_time": "2024-04-11T15:35:55.662Z"
   },
   {
    "duration": 25,
    "start_time": "2024-04-11T15:36:00.181Z"
   },
   {
    "duration": 19,
    "start_time": "2024-04-11T15:37:44.300Z"
   },
   {
    "duration": 68,
    "start_time": "2024-04-11T15:37:50.358Z"
   },
   {
    "duration": 12,
    "start_time": "2024-04-11T15:38:03.966Z"
   },
   {
    "duration": 430,
    "start_time": "2024-04-11T15:38:07.516Z"
   },
   {
    "duration": 56,
    "start_time": "2024-04-11T15:38:07.948Z"
   },
   {
    "duration": 26,
    "start_time": "2024-04-11T15:38:08.005Z"
   },
   {
    "duration": 21,
    "start_time": "2024-04-11T15:38:08.032Z"
   },
   {
    "duration": 5,
    "start_time": "2024-04-11T15:38:08.055Z"
   },
   {
    "duration": 32,
    "start_time": "2024-04-11T15:38:08.061Z"
   },
   {
    "duration": 22,
    "start_time": "2024-04-11T16:03:05.866Z"
   },
   {
    "duration": 20,
    "start_time": "2024-04-11T16:03:12.305Z"
   },
   {
    "duration": 5,
    "start_time": "2024-04-11T16:03:17.477Z"
   },
   {
    "duration": 20,
    "start_time": "2024-04-11T16:03:18.806Z"
   },
   {
    "duration": 17,
    "start_time": "2024-04-11T16:03:35.246Z"
   },
   {
    "duration": 19,
    "start_time": "2024-04-11T16:03:49.054Z"
   },
   {
    "duration": 363,
    "start_time": "2024-04-11T16:04:02.149Z"
   },
   {
    "duration": 54,
    "start_time": "2024-04-11T16:04:02.515Z"
   },
   {
    "duration": 24,
    "start_time": "2024-04-11T16:04:02.571Z"
   },
   {
    "duration": 20,
    "start_time": "2024-04-11T16:04:02.596Z"
   },
   {
    "duration": 5,
    "start_time": "2024-04-11T16:04:02.618Z"
   },
   {
    "duration": 34,
    "start_time": "2024-04-11T16:04:02.624Z"
   },
   {
    "duration": 3,
    "start_time": "2024-04-11T16:04:02.660Z"
   },
   {
    "duration": 40,
    "start_time": "2024-04-11T16:04:02.664Z"
   },
   {
    "duration": 56,
    "start_time": "2024-04-11T16:04:02.706Z"
   },
   {
    "duration": 0,
    "start_time": "2024-04-11T16:04:02.764Z"
   },
   {
    "duration": 0,
    "start_time": "2024-04-11T16:04:02.765Z"
   },
   {
    "duration": 75,
    "start_time": "2024-04-11T16:04:38.088Z"
   },
   {
    "duration": 15,
    "start_time": "2024-04-11T16:04:47.621Z"
   },
   {
    "duration": 29,
    "start_time": "2024-04-11T16:04:52.549Z"
   },
   {
    "duration": 7,
    "start_time": "2024-04-11T16:05:00.489Z"
   },
   {
    "duration": 10,
    "start_time": "2024-04-11T16:05:04.067Z"
   },
   {
    "duration": 11,
    "start_time": "2024-04-11T16:08:17.296Z"
   },
   {
    "duration": 927,
    "start_time": "2024-04-12T19:08:18.306Z"
   },
   {
    "duration": 1261,
    "start_time": "2024-04-12T19:08:24.507Z"
   },
   {
    "duration": 63,
    "start_time": "2024-04-12T19:08:25.770Z"
   },
   {
    "duration": 34,
    "start_time": "2024-04-12T19:08:25.835Z"
   },
   {
    "duration": 21,
    "start_time": "2024-04-12T19:08:25.870Z"
   },
   {
    "duration": 24,
    "start_time": "2024-04-12T19:08:25.893Z"
   },
   {
    "duration": 29,
    "start_time": "2024-04-12T19:08:25.918Z"
   },
   {
    "duration": 3,
    "start_time": "2024-04-12T19:08:25.949Z"
   },
   {
    "duration": 62,
    "start_time": "2024-04-12T19:08:25.954Z"
   },
   {
    "duration": 123,
    "start_time": "2024-04-12T19:08:26.018Z"
   },
   {
    "duration": 0,
    "start_time": "2024-04-12T19:08:26.143Z"
   },
   {
    "duration": 0,
    "start_time": "2024-04-12T19:08:26.145Z"
   },
   {
    "duration": 0,
    "start_time": "2024-04-12T19:08:26.147Z"
   },
   {
    "duration": 867,
    "start_time": "2024-04-12T19:08:33.622Z"
   },
   {
    "duration": 976,
    "start_time": "2024-04-12T19:08:47.171Z"
   },
   {
    "duration": 15,
    "start_time": "2024-04-12T19:10:00.127Z"
   },
   {
    "duration": 21,
    "start_time": "2024-04-12T19:10:10.183Z"
   },
   {
    "duration": 13,
    "start_time": "2024-04-12T19:10:15.910Z"
   },
   {
    "duration": 11,
    "start_time": "2024-04-12T19:10:19.806Z"
   },
   {
    "duration": 7,
    "start_time": "2024-04-12T19:12:36.694Z"
   },
   {
    "duration": 20,
    "start_time": "2024-04-12T19:13:03.600Z"
   },
   {
    "duration": 25,
    "start_time": "2024-04-12T19:17:07.558Z"
   },
   {
    "duration": 18,
    "start_time": "2024-04-12T19:19:38.361Z"
   },
   {
    "duration": 24,
    "start_time": "2024-04-12T19:20:39.387Z"
   },
   {
    "duration": 26,
    "start_time": "2024-04-12T19:46:01.327Z"
   },
   {
    "duration": 24,
    "start_time": "2024-04-12T19:49:35.951Z"
   },
   {
    "duration": 23,
    "start_time": "2024-04-12T19:50:00.894Z"
   },
   {
    "duration": 10,
    "start_time": "2024-04-12T19:50:04.248Z"
   },
   {
    "duration": 10,
    "start_time": "2024-04-12T19:50:15.292Z"
   },
   {
    "duration": 16,
    "start_time": "2024-04-12T19:50:22.884Z"
   },
   {
    "duration": 897,
    "start_time": "2024-04-12T19:52:54.514Z"
   },
   {
    "duration": 993,
    "start_time": "2024-04-12T19:53:03.009Z"
   },
   {
    "duration": 969,
    "start_time": "2024-04-12T19:53:10.694Z"
   },
   {
    "duration": 6,
    "start_time": "2024-04-12T19:53:15.585Z"
   },
   {
    "duration": 5,
    "start_time": "2024-04-12T19:53:19.847Z"
   },
   {
    "duration": 7,
    "start_time": "2024-04-12T20:01:41.778Z"
   },
   {
    "duration": 7,
    "start_time": "2024-04-12T20:01:47.144Z"
   },
   {
    "duration": 16,
    "start_time": "2024-04-12T20:02:01.099Z"
   },
   {
    "duration": 17,
    "start_time": "2024-04-12T20:02:08.111Z"
   },
   {
    "duration": 10,
    "start_time": "2024-04-12T20:02:30.296Z"
   },
   {
    "duration": 16,
    "start_time": "2024-04-12T20:02:37.158Z"
   },
   {
    "duration": 10,
    "start_time": "2024-04-12T20:02:45.969Z"
   },
   {
    "duration": 22,
    "start_time": "2024-04-12T20:02:48.725Z"
   },
   {
    "duration": 23,
    "start_time": "2024-04-12T20:02:56.404Z"
   },
   {
    "duration": 22,
    "start_time": "2024-04-12T20:03:07.002Z"
   },
   {
    "duration": 30,
    "start_time": "2024-04-12T20:03:13.642Z"
   },
   {
    "duration": 15,
    "start_time": "2024-04-12T20:03:17.392Z"
   },
   {
    "duration": 14,
    "start_time": "2024-04-12T20:03:21.990Z"
   },
   {
    "duration": 28,
    "start_time": "2024-04-12T20:07:41.899Z"
   },
   {
    "duration": 55,
    "start_time": "2024-04-12T20:08:11.834Z"
   },
   {
    "duration": 11,
    "start_time": "2024-04-12T20:10:42.464Z"
   },
   {
    "duration": 16,
    "start_time": "2024-04-12T20:10:45.273Z"
   },
   {
    "duration": 18,
    "start_time": "2024-04-12T20:11:29.986Z"
   },
   {
    "duration": 16,
    "start_time": "2024-04-12T20:11:34.087Z"
   },
   {
    "duration": 9,
    "start_time": "2024-04-12T20:12:32.341Z"
   },
   {
    "duration": 5,
    "start_time": "2024-04-12T20:12:41.037Z"
   },
   {
    "duration": 11,
    "start_time": "2024-04-12T20:12:56.745Z"
   },
   {
    "duration": 17,
    "start_time": "2024-04-12T20:13:13.913Z"
   },
   {
    "duration": 6,
    "start_time": "2024-04-12T20:13:40.160Z"
   },
   {
    "duration": 23,
    "start_time": "2024-04-12T20:13:44.531Z"
   },
   {
    "duration": 22,
    "start_time": "2024-04-12T20:13:52.775Z"
   },
   {
    "duration": 10,
    "start_time": "2024-04-12T20:13:58.301Z"
   },
   {
    "duration": 56,
    "start_time": "2024-04-12T20:14:06.071Z"
   },
   {
    "duration": 963,
    "start_time": "2024-04-12T20:14:15.873Z"
   },
   {
    "duration": 3,
    "start_time": "2024-04-12T20:14:30.713Z"
   },
   {
    "duration": 23,
    "start_time": "2024-04-12T20:14:37.421Z"
   },
   {
    "duration": 25,
    "start_time": "2024-04-12T20:15:16.669Z"
   },
   {
    "duration": 6,
    "start_time": "2024-04-12T20:15:21.335Z"
   },
   {
    "duration": 6,
    "start_time": "2024-04-12T20:15:39.868Z"
   },
   {
    "duration": 7,
    "start_time": "2024-04-12T20:16:00.855Z"
   },
   {
    "duration": 13,
    "start_time": "2024-04-12T20:17:46.399Z"
   },
   {
    "duration": 25,
    "start_time": "2024-04-12T20:21:46.564Z"
   },
   {
    "duration": 9,
    "start_time": "2024-04-12T20:34:14.381Z"
   },
   {
    "duration": 32,
    "start_time": "2024-04-12T20:34:27.523Z"
   },
   {
    "duration": 15,
    "start_time": "2024-04-12T20:34:39.893Z"
   },
   {
    "duration": 22,
    "start_time": "2024-04-12T20:35:01.197Z"
   },
   {
    "duration": 3,
    "start_time": "2024-04-12T20:35:04.149Z"
   },
   {
    "duration": 68,
    "start_time": "2024-04-12T20:35:04.490Z"
   },
   {
    "duration": 33,
    "start_time": "2024-04-12T20:35:04.713Z"
   },
   {
    "duration": 15,
    "start_time": "2024-04-12T20:35:05.371Z"
   },
   {
    "duration": 31,
    "start_time": "2024-04-12T20:35:14.337Z"
   },
   {
    "duration": 4,
    "start_time": "2024-04-12T20:35:14.848Z"
   },
   {
    "duration": 18,
    "start_time": "2024-04-12T20:35:16.207Z"
   },
   {
    "duration": 25,
    "start_time": "2024-04-12T20:35:18.431Z"
   },
   {
    "duration": 16,
    "start_time": "2024-04-12T20:35:19.045Z"
   },
   {
    "duration": 5,
    "start_time": "2024-04-12T20:35:19.851Z"
   },
   {
    "duration": 6,
    "start_time": "2024-04-12T20:35:20.024Z"
   },
   {
    "duration": 29,
    "start_time": "2024-04-12T20:35:20.594Z"
   },
   {
    "duration": 10,
    "start_time": "2024-04-12T20:35:22.552Z"
   },
   {
    "duration": 4,
    "start_time": "2024-04-12T20:35:39.006Z"
   },
   {
    "duration": 15,
    "start_time": "2024-04-12T20:35:42.631Z"
   },
   {
    "duration": 20,
    "start_time": "2024-04-12T20:36:35.574Z"
   },
   {
    "duration": 8,
    "start_time": "2024-04-12T20:36:47.435Z"
   },
   {
    "duration": 4,
    "start_time": "2024-04-12T20:36:50.927Z"
   },
   {
    "duration": 27,
    "start_time": "2024-04-12T20:36:54.204Z"
   },
   {
    "duration": 12,
    "start_time": "2024-04-12T20:39:28.598Z"
   },
   {
    "duration": 35,
    "start_time": "2024-04-12T20:39:51.511Z"
   },
   {
    "duration": 28,
    "start_time": "2024-04-12T20:40:11.343Z"
   },
   {
    "duration": 11,
    "start_time": "2024-04-12T20:40:15.042Z"
   },
   {
    "duration": 9,
    "start_time": "2024-04-12T20:40:22.683Z"
   },
   {
    "duration": 14,
    "start_time": "2024-04-12T20:40:47.213Z"
   },
   {
    "duration": 4,
    "start_time": "2024-04-12T20:43:03.515Z"
   },
   {
    "duration": 11,
    "start_time": "2024-04-12T20:43:24.183Z"
   },
   {
    "duration": 10,
    "start_time": "2024-04-12T20:43:55.791Z"
   },
   {
    "duration": 22,
    "start_time": "2024-04-12T20:44:10.718Z"
   },
   {
    "duration": 3,
    "start_time": "2024-04-12T20:44:17.684Z"
   },
   {
    "duration": 16,
    "start_time": "2024-04-12T20:45:27.273Z"
   },
   {
    "duration": 5,
    "start_time": "2024-04-12T20:47:55.277Z"
   },
   {
    "duration": 25,
    "start_time": "2024-04-12T20:48:01.059Z"
   },
   {
    "duration": 6,
    "start_time": "2024-04-12T20:48:40.949Z"
   },
   {
    "duration": 1213,
    "start_time": "2024-04-12T22:14:53.078Z"
   },
   {
    "duration": 60,
    "start_time": "2024-04-12T22:14:54.293Z"
   },
   {
    "duration": 27,
    "start_time": "2024-04-12T22:14:54.354Z"
   },
   {
    "duration": 15,
    "start_time": "2024-04-12T22:14:54.383Z"
   },
   {
    "duration": 43,
    "start_time": "2024-04-12T22:14:54.401Z"
   },
   {
    "duration": 3,
    "start_time": "2024-04-12T22:14:54.446Z"
   },
   {
    "duration": 17,
    "start_time": "2024-04-12T22:14:54.451Z"
   },
   {
    "duration": 46,
    "start_time": "2024-04-12T22:14:54.470Z"
   },
   {
    "duration": 4,
    "start_time": "2024-04-12T22:14:54.519Z"
   },
   {
    "duration": 18,
    "start_time": "2024-04-12T22:14:54.525Z"
   },
   {
    "duration": 5,
    "start_time": "2024-04-12T22:14:54.545Z"
   },
   {
    "duration": 9,
    "start_time": "2024-04-12T22:14:54.551Z"
   },
   {
    "duration": 58,
    "start_time": "2024-04-12T22:14:54.562Z"
   },
   {
    "duration": 4,
    "start_time": "2024-04-12T22:14:54.623Z"
   },
   {
    "duration": 5,
    "start_time": "2024-04-12T22:14:54.629Z"
   },
   {
    "duration": 6,
    "start_time": "2024-04-12T22:14:54.636Z"
   },
   {
    "duration": 50,
    "start_time": "2024-04-12T22:14:54.644Z"
   },
   {
    "duration": 0,
    "start_time": "2024-04-12T22:14:54.696Z"
   },
   {
    "duration": 0,
    "start_time": "2024-04-12T22:14:54.699Z"
   },
   {
    "duration": 6,
    "start_time": "2024-04-12T22:15:15.019Z"
   },
   {
    "duration": 4,
    "start_time": "2024-04-12T22:15:18.977Z"
   },
   {
    "duration": 24,
    "start_time": "2024-04-12T22:15:47.148Z"
   },
   {
    "duration": 125,
    "start_time": "2024-04-12T22:17:14.732Z"
   },
   {
    "duration": 10,
    "start_time": "2024-04-12T22:17:22.027Z"
   },
   {
    "duration": 17,
    "start_time": "2024-04-12T22:17:35.196Z"
   },
   {
    "duration": 175,
    "start_time": "2024-04-12T22:17:52.527Z"
   },
   {
    "duration": 26,
    "start_time": "2024-04-12T22:18:04.723Z"
   },
   {
    "duration": 154,
    "start_time": "2024-04-12T22:46:54.338Z"
   },
   {
    "duration": 191,
    "start_time": "2024-04-12T22:47:44.935Z"
   },
   {
    "duration": 1045,
    "start_time": "2024-04-12T22:48:04.426Z"
   },
   {
    "duration": 16,
    "start_time": "2024-04-12T22:48:22.127Z"
   },
   {
    "duration": 16,
    "start_time": "2024-04-12T22:50:23.072Z"
   },
   {
    "duration": 17,
    "start_time": "2024-04-12T22:51:38.987Z"
   },
   {
    "duration": 15,
    "start_time": "2024-04-12T22:52:17.642Z"
   },
   {
    "duration": 16,
    "start_time": "2024-04-12T22:53:02.182Z"
   },
   {
    "duration": 161,
    "start_time": "2024-04-12T22:53:14.112Z"
   },
   {
    "duration": 166,
    "start_time": "2024-04-12T22:53:23.865Z"
   },
   {
    "duration": 199,
    "start_time": "2024-04-12T22:54:24.584Z"
   },
   {
    "duration": 141,
    "start_time": "2024-04-12T22:54:43.498Z"
   },
   {
    "duration": 110,
    "start_time": "2024-04-12T22:54:49.827Z"
   },
   {
    "duration": 503,
    "start_time": "2024-04-12T22:55:15.566Z"
   },
   {
    "duration": 361,
    "start_time": "2024-04-12T22:55:33.388Z"
   },
   {
    "duration": 335,
    "start_time": "2024-04-12T22:55:48.751Z"
   },
   {
    "duration": 336,
    "start_time": "2024-04-12T22:55:58.231Z"
   },
   {
    "duration": 337,
    "start_time": "2024-04-12T22:56:36.735Z"
   },
   {
    "duration": 403,
    "start_time": "2024-04-12T22:56:40.739Z"
   },
   {
    "duration": 56,
    "start_time": "2024-04-12T22:56:52.109Z"
   },
   {
    "duration": 56,
    "start_time": "2024-04-12T22:56:54.313Z"
   },
   {
    "duration": 56,
    "start_time": "2024-04-12T22:56:58.780Z"
   },
   {
    "duration": 335,
    "start_time": "2024-04-12T22:57:02.288Z"
   },
   {
    "duration": 328,
    "start_time": "2024-04-12T22:57:09.041Z"
   },
   {
    "duration": 54,
    "start_time": "2024-04-12T22:57:32.729Z"
   },
   {
    "duration": 51,
    "start_time": "2024-04-12T22:57:42.634Z"
   },
   {
    "duration": 369,
    "start_time": "2024-04-12T22:57:53.727Z"
   },
   {
    "duration": 378,
    "start_time": "2024-04-12T22:58:18.102Z"
   },
   {
    "duration": 397,
    "start_time": "2024-04-12T22:58:51.213Z"
   },
   {
    "duration": 478,
    "start_time": "2024-04-12T23:02:17.689Z"
   },
   {
    "duration": 395,
    "start_time": "2024-04-12T23:02:41.372Z"
   },
   {
    "duration": 325,
    "start_time": "2024-04-12T23:04:57.627Z"
   },
   {
    "duration": 337,
    "start_time": "2024-04-12T23:05:04.923Z"
   },
   {
    "duration": 332,
    "start_time": "2024-04-12T23:05:29.727Z"
   },
   {
    "duration": 28,
    "start_time": "2024-04-12T23:05:49.581Z"
   },
   {
    "duration": 347,
    "start_time": "2024-04-12T23:05:55.063Z"
   },
   {
    "duration": 33,
    "start_time": "2024-04-12T23:11:46.896Z"
   },
   {
    "duration": 443,
    "start_time": "2024-04-12T23:11:54.060Z"
   },
   {
    "duration": 347,
    "start_time": "2024-04-12T23:12:15.764Z"
   },
   {
    "duration": 27,
    "start_time": "2024-04-12T23:13:18.114Z"
   },
   {
    "duration": 52,
    "start_time": "2024-04-12T23:13:26.267Z"
   },
   {
    "duration": 19,
    "start_time": "2024-04-12T23:14:04.749Z"
   },
   {
    "duration": 21,
    "start_time": "2024-04-12T23:14:28.367Z"
   },
   {
    "duration": 18,
    "start_time": "2024-04-12T23:14:47.332Z"
   },
   {
    "duration": 18,
    "start_time": "2024-04-12T23:18:47.962Z"
   },
   {
    "duration": 12,
    "start_time": "2024-04-12T23:19:11.836Z"
   },
   {
    "duration": 14,
    "start_time": "2024-04-12T23:19:17.996Z"
   },
   {
    "duration": 14,
    "start_time": "2024-04-12T23:19:41.885Z"
   },
   {
    "duration": 19,
    "start_time": "2024-04-12T23:19:50.846Z"
   },
   {
    "duration": 974,
    "start_time": "2024-04-12T23:20:05.419Z"
   },
   {
    "duration": 16,
    "start_time": "2024-04-12T23:21:37.895Z"
   },
   {
    "duration": 3890,
    "start_time": "2024-04-12T23:22:34.131Z"
   },
   {
    "duration": 26,
    "start_time": "2024-04-12T23:22:44.335Z"
   },
   {
    "duration": 24,
    "start_time": "2024-04-12T23:22:51.509Z"
   },
   {
    "duration": 273,
    "start_time": "2024-04-12T23:23:04.242Z"
   },
   {
    "duration": 22,
    "start_time": "2024-04-12T23:23:08.205Z"
   },
   {
    "duration": 140,
    "start_time": "2024-04-12T23:23:23.399Z"
   },
   {
    "duration": 1032,
    "start_time": "2024-04-12T23:23:46.713Z"
   },
   {
    "duration": 1544,
    "start_time": "2024-04-12T23:24:00.098Z"
   },
   {
    "duration": 27,
    "start_time": "2024-04-12T23:24:04.593Z"
   },
   {
    "duration": 144,
    "start_time": "2024-04-12T23:24:17.280Z"
   },
   {
    "duration": 16,
    "start_time": "2024-04-12T23:26:31.497Z"
   },
   {
    "duration": 126,
    "start_time": "2024-04-12T23:27:00.327Z"
   },
   {
    "duration": 16,
    "start_time": "2024-04-12T23:27:07.797Z"
   },
   {
    "duration": 19,
    "start_time": "2024-04-12T23:27:11.473Z"
   },
   {
    "duration": 309,
    "start_time": "2024-04-12T23:27:38.433Z"
   },
   {
    "duration": 20,
    "start_time": "2024-04-12T23:27:40.665Z"
   },
   {
    "duration": 312,
    "start_time": "2024-04-12T23:27:55.176Z"
   },
   {
    "duration": 18,
    "start_time": "2024-04-12T23:28:01.319Z"
   },
   {
    "duration": 16,
    "start_time": "2024-04-12T23:28:13.955Z"
   },
   {
    "duration": 17,
    "start_time": "2024-04-12T23:28:21.198Z"
   },
   {
    "duration": 4,
    "start_time": "2024-04-12T23:28:55.146Z"
   },
   {
    "duration": 14,
    "start_time": "2024-04-12T23:29:02.742Z"
   },
   {
    "duration": 23,
    "start_time": "2024-04-12T23:29:11.471Z"
   },
   {
    "duration": 25,
    "start_time": "2024-04-12T23:30:08.857Z"
   },
   {
    "duration": 8,
    "start_time": "2024-04-12T23:31:02.655Z"
   },
   {
    "duration": 8,
    "start_time": "2024-04-12T23:31:06.752Z"
   },
   {
    "duration": 4,
    "start_time": "2024-04-12T23:31:12.094Z"
   },
   {
    "duration": 17,
    "start_time": "2024-04-12T23:32:26.277Z"
   },
   {
    "duration": 17,
    "start_time": "2024-04-12T23:32:44.454Z"
   },
   {
    "duration": 20,
    "start_time": "2024-04-12T23:34:33.381Z"
   },
   {
    "duration": 16,
    "start_time": "2024-04-12T23:34:45.883Z"
   },
   {
    "duration": 17,
    "start_time": "2024-04-12T23:34:52.533Z"
   },
   {
    "duration": 4,
    "start_time": "2024-04-12T23:34:57.304Z"
   },
   {
    "duration": 20,
    "start_time": "2024-04-12T23:35:02.470Z"
   },
   {
    "duration": 18,
    "start_time": "2024-04-12T23:35:05.547Z"
   },
   {
    "duration": 20,
    "start_time": "2024-04-12T23:35:09.027Z"
   },
   {
    "duration": 25,
    "start_time": "2024-04-12T23:36:14.153Z"
   },
   {
    "duration": 20,
    "start_time": "2024-04-12T23:41:14.646Z"
   },
   {
    "duration": 17,
    "start_time": "2024-04-12T23:41:22.516Z"
   },
   {
    "duration": 17,
    "start_time": "2024-04-12T23:43:01.811Z"
   },
   {
    "duration": 18,
    "start_time": "2024-04-12T23:43:07.041Z"
   },
   {
    "duration": 79,
    "start_time": "2024-04-12T23:43:09.683Z"
   },
   {
    "duration": 70,
    "start_time": "2024-04-12T23:43:30.531Z"
   },
   {
    "duration": 537,
    "start_time": "2024-04-12T23:43:59.885Z"
   },
   {
    "duration": 547,
    "start_time": "2024-04-12T23:44:12.727Z"
   },
   {
    "duration": 44,
    "start_time": "2024-04-12T23:44:24.377Z"
   },
   {
    "duration": 27,
    "start_time": "2024-04-12T23:44:45.122Z"
   },
   {
    "duration": 27,
    "start_time": "2024-04-12T23:45:00.725Z"
   },
   {
    "duration": 26,
    "start_time": "2024-04-12T23:45:13.100Z"
   },
   {
    "duration": 26,
    "start_time": "2024-04-12T23:45:29.667Z"
   },
   {
    "duration": 18,
    "start_time": "2024-04-12T23:45:33.574Z"
   },
   {
    "duration": 18,
    "start_time": "2024-04-12T23:45:45.954Z"
   },
   {
    "duration": 72,
    "start_time": "2024-04-12T23:45:49.045Z"
   },
   {
    "duration": 4893,
    "start_time": "2024-04-12T23:46:01.687Z"
   },
   {
    "duration": 31,
    "start_time": "2024-04-12T23:47:14.352Z"
   },
   {
    "duration": 32,
    "start_time": "2024-04-12T23:47:30.985Z"
   },
   {
    "duration": 963,
    "start_time": "2024-04-12T23:47:42.289Z"
   },
   {
    "duration": 72,
    "start_time": "2024-04-12T23:47:57.603Z"
   },
   {
    "duration": 899,
    "start_time": "2024-04-12T23:48:12.942Z"
   },
   {
    "duration": 1013,
    "start_time": "2024-04-12T23:49:16.886Z"
   },
   {
    "duration": 909,
    "start_time": "2024-04-12T23:49:42.959Z"
   },
   {
    "duration": 66,
    "start_time": "2024-04-12T23:52:47.158Z"
   },
   {
    "duration": 15,
    "start_time": "2024-04-12T23:52:53.741Z"
   },
   {
    "duration": 9,
    "start_time": "2024-04-12T23:53:01.019Z"
   },
   {
    "duration": 12,
    "start_time": "2024-04-12T23:53:04.518Z"
   },
   {
    "duration": 17,
    "start_time": "2024-04-12T23:53:15.311Z"
   },
   {
    "duration": 21,
    "start_time": "2024-04-12T23:53:30.174Z"
   },
   {
    "duration": 16,
    "start_time": "2024-04-12T23:53:48.904Z"
   },
   {
    "duration": 17,
    "start_time": "2024-04-12T23:54:29.563Z"
   },
   {
    "duration": 17,
    "start_time": "2024-04-12T23:54:34.277Z"
   },
   {
    "duration": 1032,
    "start_time": "2024-04-12T23:54:39.156Z"
   },
   {
    "duration": 1062,
    "start_time": "2024-04-12T23:54:40.634Z"
   },
   {
    "duration": 4670,
    "start_time": "2024-04-12T23:54:49.808Z"
   },
   {
    "duration": 21,
    "start_time": "2024-04-12T23:55:20.287Z"
   },
   {
    "duration": 21,
    "start_time": "2024-04-12T23:55:24.258Z"
   },
   {
    "duration": 19,
    "start_time": "2024-04-12T23:55:34.070Z"
   },
   {
    "duration": 997,
    "start_time": "2024-04-12T23:56:13.117Z"
   },
   {
    "duration": 74,
    "start_time": "2024-04-12T23:56:17.770Z"
   },
   {
    "duration": 68,
    "start_time": "2024-04-12T23:56:26.193Z"
   },
   {
    "duration": 25,
    "start_time": "2024-04-12T23:56:48.783Z"
   },
   {
    "duration": 77,
    "start_time": "2024-04-12T23:56:55.709Z"
   },
   {
    "duration": 85,
    "start_time": "2024-04-12T23:56:58.846Z"
   },
   {
    "duration": 76,
    "start_time": "2024-04-12T23:57:00.873Z"
   },
   {
    "duration": 20,
    "start_time": "2024-04-12T23:57:10.590Z"
   },
   {
    "duration": 73,
    "start_time": "2024-04-12T23:57:18.412Z"
   },
   {
    "duration": 24,
    "start_time": "2024-04-12T23:57:23.759Z"
   },
   {
    "duration": 962,
    "start_time": "2024-04-12T23:57:27.834Z"
   },
   {
    "duration": 83,
    "start_time": "2024-04-12T23:57:36.042Z"
   },
   {
    "duration": 71,
    "start_time": "2024-04-12T23:57:56.582Z"
   },
   {
    "duration": 71,
    "start_time": "2024-04-12T23:58:01.066Z"
   },
   {
    "duration": 25,
    "start_time": "2024-04-12T23:58:14.965Z"
   },
   {
    "duration": 575,
    "start_time": "2024-04-12T23:58:32.571Z"
   },
   {
    "duration": 688,
    "start_time": "2024-04-12T23:58:46.552Z"
   },
   {
    "duration": 521,
    "start_time": "2024-04-12T23:59:08.802Z"
   },
   {
    "duration": 25,
    "start_time": "2024-04-12T23:59:39.414Z"
   },
   {
    "duration": 77,
    "start_time": "2024-04-12T23:59:49.061Z"
   },
   {
    "duration": 26,
    "start_time": "2024-04-12T23:59:53.869Z"
   },
   {
    "duration": 27,
    "start_time": "2024-04-13T00:00:08.588Z"
   },
   {
    "duration": 21,
    "start_time": "2024-04-13T00:00:33.090Z"
   },
   {
    "duration": 22,
    "start_time": "2024-04-13T00:00:35.719Z"
   },
   {
    "duration": 5323,
    "start_time": "2024-04-13T00:00:53.042Z"
   },
   {
    "duration": 1015,
    "start_time": "2024-04-13T00:01:08.518Z"
   },
   {
    "duration": 19,
    "start_time": "2024-04-13T00:01:44.508Z"
   },
   {
    "duration": 1199,
    "start_time": "2024-04-13T00:02:06.735Z"
   },
   {
    "duration": 233,
    "start_time": "2024-04-13T00:02:12.879Z"
   },
   {
    "duration": 1011,
    "start_time": "2024-04-13T00:03:04.339Z"
   },
   {
    "duration": 25,
    "start_time": "2024-04-13T00:03:20.035Z"
   },
   {
    "duration": 18,
    "start_time": "2024-04-13T00:03:27.858Z"
   },
   {
    "duration": 18,
    "start_time": "2024-04-13T00:03:34.212Z"
   },
   {
    "duration": 19,
    "start_time": "2024-04-13T00:03:39.953Z"
   },
   {
    "duration": 22,
    "start_time": "2024-04-13T00:05:01.327Z"
   },
   {
    "duration": 24,
    "start_time": "2024-04-13T00:05:18.670Z"
   },
   {
    "duration": 1010,
    "start_time": "2024-04-13T00:05:39.204Z"
   },
   {
    "duration": 4453,
    "start_time": "2024-04-13T00:05:47.352Z"
   },
   {
    "duration": 4678,
    "start_time": "2024-04-13T00:06:45.698Z"
   },
   {
    "duration": 16,
    "start_time": "2024-04-13T00:08:27.704Z"
   },
   {
    "duration": 28,
    "start_time": "2024-04-13T00:08:32.563Z"
   },
   {
    "duration": 15,
    "start_time": "2024-04-13T00:08:41.093Z"
   },
   {
    "duration": 595,
    "start_time": "2024-04-13T00:09:03.376Z"
   },
   {
    "duration": 647,
    "start_time": "2024-04-13T00:09:16.544Z"
   },
   {
    "duration": 25,
    "start_time": "2024-04-13T00:09:46.999Z"
   },
   {
    "duration": 615,
    "start_time": "2024-04-13T00:09:50.393Z"
   },
   {
    "duration": 855,
    "start_time": "2024-04-13T00:09:55.886Z"
   },
   {
    "duration": 24,
    "start_time": "2024-04-13T00:10:05.149Z"
   },
   {
    "duration": 3020,
    "start_time": "2024-04-13T00:10:23.075Z"
   },
   {
    "duration": 619,
    "start_time": "2024-04-13T00:10:32.512Z"
   },
   {
    "duration": 626,
    "start_time": "2024-04-13T00:11:24.926Z"
   },
   {
    "duration": 649,
    "start_time": "2024-04-13T00:11:28.728Z"
   },
   {
    "duration": 212,
    "start_time": "2024-04-13T00:12:14.939Z"
   },
   {
    "duration": 78,
    "start_time": "2024-04-13T00:12:30.226Z"
   },
   {
    "duration": 656,
    "start_time": "2024-04-13T00:12:43.604Z"
   },
   {
    "duration": 21,
    "start_time": "2024-04-13T00:14:13.423Z"
   },
   {
    "duration": 281,
    "start_time": "2024-04-13T00:14:21.676Z"
   },
   {
    "duration": 283,
    "start_time": "2024-04-13T00:14:25.259Z"
   },
   {
    "duration": 276,
    "start_time": "2024-04-13T00:14:33.520Z"
   },
   {
    "duration": 73,
    "start_time": "2024-04-13T00:14:51.105Z"
   },
   {
    "duration": 326,
    "start_time": "2024-04-13T00:14:52.623Z"
   },
   {
    "duration": 548,
    "start_time": "2024-04-13T00:15:09.076Z"
   },
   {
    "duration": 279,
    "start_time": "2024-04-13T00:15:23.258Z"
   },
   {
    "duration": 308,
    "start_time": "2024-04-13T00:15:27.982Z"
   },
   {
    "duration": 306,
    "start_time": "2024-04-13T00:15:57.650Z"
   },
   {
    "duration": 306,
    "start_time": "2024-04-13T00:16:00.639Z"
   },
   {
    "duration": 619,
    "start_time": "2024-04-13T00:19:30.816Z"
   },
   {
    "duration": 510,
    "start_time": "2024-04-13T00:19:39.656Z"
   },
   {
    "duration": 336,
    "start_time": "2024-04-13T00:19:46.767Z"
   },
   {
    "duration": 41,
    "start_time": "2024-04-13T00:20:33.828Z"
   },
   {
    "duration": 348,
    "start_time": "2024-04-13T00:21:02.200Z"
   },
   {
    "duration": 204,
    "start_time": "2024-04-13T00:21:07.359Z"
   },
   {
    "duration": 292,
    "start_time": "2024-04-13T00:21:44.145Z"
   },
   {
    "duration": 19,
    "start_time": "2024-04-13T00:21:54.912Z"
   },
   {
    "duration": 292,
    "start_time": "2024-04-13T00:21:59.641Z"
   },
   {
    "duration": 289,
    "start_time": "2024-04-13T00:22:02.734Z"
   },
   {
    "duration": 79,
    "start_time": "2024-04-13T00:22:54.726Z"
   },
   {
    "duration": 301,
    "start_time": "2024-04-13T00:23:06.950Z"
   },
   {
    "duration": 295,
    "start_time": "2024-04-13T00:23:26.043Z"
   },
   {
    "duration": 297,
    "start_time": "2024-04-13T00:23:51.510Z"
   },
   {
    "duration": 325,
    "start_time": "2024-04-13T00:24:04.357Z"
   },
   {
    "duration": 20,
    "start_time": "2024-04-13T00:24:30.272Z"
   },
   {
    "duration": 500,
    "start_time": "2024-04-13T00:24:42.615Z"
   },
   {
    "duration": 287,
    "start_time": "2024-04-13T00:24:58.294Z"
   },
   {
    "duration": 296,
    "start_time": "2024-04-13T00:25:04.096Z"
   },
   {
    "duration": 161,
    "start_time": "2024-04-13T00:25:19.299Z"
   },
   {
    "duration": 279,
    "start_time": "2024-04-13T00:25:23.581Z"
   },
   {
    "duration": 61,
    "start_time": "2024-04-13T00:28:26.670Z"
   },
   {
    "duration": 294,
    "start_time": "2024-04-13T00:28:32.969Z"
   },
   {
    "duration": 286,
    "start_time": "2024-04-13T00:28:40.925Z"
   },
   {
    "duration": 304,
    "start_time": "2024-04-13T00:30:07.459Z"
   },
   {
    "duration": 312,
    "start_time": "2024-04-13T00:30:19.413Z"
   },
   {
    "duration": 321,
    "start_time": "2024-04-13T00:30:39.790Z"
   },
   {
    "duration": 293,
    "start_time": "2024-04-13T00:31:17.392Z"
   },
   {
    "duration": 298,
    "start_time": "2024-04-13T00:31:25.448Z"
   },
   {
    "duration": 299,
    "start_time": "2024-04-13T00:31:31.469Z"
   },
   {
    "duration": 306,
    "start_time": "2024-04-13T00:31:36.216Z"
   },
   {
    "duration": 73,
    "start_time": "2024-04-13T00:31:52.233Z"
   },
   {
    "duration": 93,
    "start_time": "2024-04-13T00:31:53.790Z"
   },
   {
    "duration": 295,
    "start_time": "2024-04-13T00:31:57.675Z"
   },
   {
    "duration": 296,
    "start_time": "2024-04-13T00:33:25.087Z"
   },
   {
    "duration": 309,
    "start_time": "2024-04-13T00:33:50.838Z"
   },
   {
    "duration": 1021,
    "start_time": "2024-04-13T00:34:18.102Z"
   },
   {
    "duration": 331,
    "start_time": "2024-04-13T00:34:28.617Z"
   },
   {
    "duration": 307,
    "start_time": "2024-04-13T00:34:34.097Z"
   },
   {
    "duration": 12,
    "start_time": "2024-04-13T00:34:47.747Z"
   },
   {
    "duration": 327,
    "start_time": "2024-04-13T00:35:00.789Z"
   },
   {
    "duration": 584,
    "start_time": "2024-04-13T00:35:17.734Z"
   },
   {
    "duration": 317,
    "start_time": "2024-04-13T00:35:37.851Z"
   },
   {
    "duration": 114,
    "start_time": "2024-04-13T00:35:43.588Z"
   },
   {
    "duration": 1114,
    "start_time": "2024-04-13T00:35:56.745Z"
   },
   {
    "duration": 19,
    "start_time": "2024-04-13T00:36:05.372Z"
   },
   {
    "duration": 1162,
    "start_time": "2024-04-13T00:36:17.848Z"
   },
   {
    "duration": 260,
    "start_time": "2024-04-13T00:36:25.597Z"
   },
   {
    "duration": 241,
    "start_time": "2024-04-13T00:36:52.317Z"
   },
   {
    "duration": 122,
    "start_time": "2024-04-13T00:37:48.004Z"
   },
   {
    "duration": 247,
    "start_time": "2024-04-13T00:38:18.283Z"
   },
   {
    "duration": 244,
    "start_time": "2024-04-13T00:38:23.870Z"
   },
   {
    "duration": 241,
    "start_time": "2024-04-13T00:38:29.548Z"
   },
   {
    "duration": 249,
    "start_time": "2024-04-13T00:38:36.340Z"
   },
   {
    "duration": 230,
    "start_time": "2024-04-13T00:38:49.622Z"
   },
   {
    "duration": 257,
    "start_time": "2024-04-13T00:38:54.282Z"
   },
   {
    "duration": 261,
    "start_time": "2024-04-13T00:39:01.020Z"
   },
   {
    "duration": 241,
    "start_time": "2024-04-13T00:39:09.303Z"
   },
   {
    "duration": 347,
    "start_time": "2024-04-13T00:39:48.601Z"
   },
   {
    "duration": 236,
    "start_time": "2024-04-13T00:39:52.321Z"
   },
   {
    "duration": 230,
    "start_time": "2024-04-13T00:42:53.547Z"
   },
   {
    "duration": 45,
    "start_time": "2024-04-13T00:43:03.608Z"
   },
   {
    "duration": 19,
    "start_time": "2024-04-13T00:43:13.060Z"
   },
   {
    "duration": 242,
    "start_time": "2024-04-13T00:43:15.567Z"
   },
   {
    "duration": 43,
    "start_time": "2024-04-13T00:43:27.856Z"
   },
   {
    "duration": 39,
    "start_time": "2024-04-13T00:43:39.684Z"
   },
   {
    "duration": 325,
    "start_time": "2024-04-13T00:43:43.707Z"
   },
   {
    "duration": 1278,
    "start_time": "2024-04-13T00:44:34.583Z"
   },
   {
    "duration": 60,
    "start_time": "2024-04-13T00:44:35.863Z"
   },
   {
    "duration": 24,
    "start_time": "2024-04-13T00:44:35.924Z"
   },
   {
    "duration": 23,
    "start_time": "2024-04-13T00:44:35.950Z"
   },
   {
    "duration": 36,
    "start_time": "2024-04-13T00:44:35.975Z"
   },
   {
    "duration": 15,
    "start_time": "2024-04-13T00:44:36.013Z"
   },
   {
    "duration": 14,
    "start_time": "2024-04-13T00:44:36.030Z"
   },
   {
    "duration": 42,
    "start_time": "2024-04-13T00:44:36.046Z"
   },
   {
    "duration": 4,
    "start_time": "2024-04-13T00:44:36.089Z"
   },
   {
    "duration": 27,
    "start_time": "2024-04-13T00:44:36.094Z"
   },
   {
    "duration": 5,
    "start_time": "2024-04-13T00:44:36.122Z"
   },
   {
    "duration": 5,
    "start_time": "2024-04-13T00:44:36.128Z"
   },
   {
    "duration": 22,
    "start_time": "2024-04-13T00:44:36.135Z"
   },
   {
    "duration": 4,
    "start_time": "2024-04-13T00:44:36.160Z"
   },
   {
    "duration": 7,
    "start_time": "2024-04-13T00:44:36.166Z"
   },
   {
    "duration": 4,
    "start_time": "2024-04-13T00:44:36.175Z"
   },
   {
    "duration": 25,
    "start_time": "2024-04-13T00:44:36.215Z"
   },
   {
    "duration": 382,
    "start_time": "2024-04-13T00:44:36.242Z"
   },
   {
    "duration": 19,
    "start_time": "2024-04-13T00:44:36.626Z"
   },
   {
    "duration": 270,
    "start_time": "2024-04-13T00:44:36.646Z"
   },
   {
    "duration": 4,
    "start_time": "2024-04-13T00:44:36.917Z"
   },
   {
    "duration": 358,
    "start_time": "2024-04-13T00:44:36.922Z"
   },
   {
    "duration": 71,
    "start_time": "2024-04-13T00:44:37.282Z"
   },
   {
    "duration": 0,
    "start_time": "2024-04-13T00:44:37.355Z"
   },
   {
    "duration": 1,
    "start_time": "2024-04-13T00:44:37.356Z"
   },
   {
    "duration": 249,
    "start_time": "2024-04-13T00:45:07.991Z"
   },
   {
    "duration": 246,
    "start_time": "2024-04-13T00:45:13.288Z"
   },
   {
    "duration": 309,
    "start_time": "2024-04-13T00:45:29.852Z"
   },
   {
    "duration": 238,
    "start_time": "2024-04-13T00:45:36.168Z"
   },
   {
    "duration": 267,
    "start_time": "2024-04-13T00:45:45.710Z"
   },
   {
    "duration": 243,
    "start_time": "2024-04-13T00:45:50.465Z"
   },
   {
    "duration": 255,
    "start_time": "2024-04-13T00:45:58.024Z"
   },
   {
    "duration": 101,
    "start_time": "2024-04-13T00:46:23.165Z"
   },
   {
    "duration": 10,
    "start_time": "2024-04-13T00:46:27.475Z"
   },
   {
    "duration": 16,
    "start_time": "2024-04-13T00:47:34.037Z"
   },
   {
    "duration": 277,
    "start_time": "2024-04-13T00:47:40.091Z"
   },
   {
    "duration": 389,
    "start_time": "2024-04-13T00:47:43.953Z"
   },
   {
    "duration": 288,
    "start_time": "2024-04-13T00:47:56.729Z"
   },
   {
    "duration": 52,
    "start_time": "2024-04-13T00:48:10.087Z"
   },
   {
    "duration": 290,
    "start_time": "2024-04-13T00:48:26.025Z"
   },
   {
    "duration": 3258,
    "start_time": "2024-04-13T00:48:35.609Z"
   },
   {
    "duration": 314,
    "start_time": "2024-04-13T00:48:45.155Z"
   },
   {
    "duration": 286,
    "start_time": "2024-04-13T00:48:50.999Z"
   },
   {
    "duration": 415,
    "start_time": "2024-04-13T00:48:54.674Z"
   },
   {
    "duration": 290,
    "start_time": "2024-04-13T00:49:20.533Z"
   },
   {
    "duration": 290,
    "start_time": "2024-04-13T00:49:28.011Z"
   },
   {
    "duration": 304,
    "start_time": "2024-04-13T00:49:59.619Z"
   },
   {
    "duration": 295,
    "start_time": "2024-04-13T00:50:19.121Z"
   },
   {
    "duration": 333,
    "start_time": "2024-04-13T00:50:51.174Z"
   },
   {
    "duration": 19,
    "start_time": "2024-04-13T00:51:27.187Z"
   },
   {
    "duration": 18,
    "start_time": "2024-04-13T00:51:33.354Z"
   },
   {
    "duration": 4,
    "start_time": "2024-04-13T00:52:19.466Z"
   },
   {
    "duration": 27,
    "start_time": "2024-04-13T00:52:24.424Z"
   },
   {
    "duration": 18,
    "start_time": "2024-04-13T00:52:35.591Z"
   },
   {
    "duration": 131,
    "start_time": "2024-04-13T00:52:49.814Z"
   },
   {
    "duration": 28,
    "start_time": "2024-04-13T00:52:53.615Z"
   },
   {
    "duration": 29,
    "start_time": "2024-04-13T00:52:58.128Z"
   },
   {
    "duration": 35,
    "start_time": "2024-04-13T00:53:19.175Z"
   },
   {
    "duration": 37,
    "start_time": "2024-04-13T00:53:37.722Z"
   },
   {
    "duration": 19,
    "start_time": "2024-04-13T00:53:46.620Z"
   },
   {
    "duration": 19,
    "start_time": "2024-04-13T00:53:58.347Z"
   },
   {
    "duration": 9,
    "start_time": "2024-04-13T00:54:03.856Z"
   },
   {
    "duration": 198,
    "start_time": "2024-04-13T00:54:19.736Z"
   },
   {
    "duration": 8,
    "start_time": "2024-04-13T00:54:27.856Z"
   },
   {
    "duration": 4,
    "start_time": "2024-04-13T00:54:34.257Z"
   },
   {
    "duration": 126,
    "start_time": "2024-04-13T00:55:05.942Z"
   },
   {
    "duration": 350,
    "start_time": "2024-04-13T00:55:24.747Z"
   },
   {
    "duration": 77,
    "start_time": "2024-04-13T00:56:09.410Z"
   },
   {
    "duration": 23,
    "start_time": "2024-04-13T00:56:13.341Z"
   },
   {
    "duration": 31,
    "start_time": "2024-04-13T00:56:23.859Z"
   },
   {
    "duration": 73,
    "start_time": "2024-04-13T00:56:31.791Z"
   },
   {
    "duration": 2847,
    "start_time": "2024-04-13T00:56:38.649Z"
   },
   {
    "duration": 1069,
    "start_time": "2024-04-13T00:57:05.169Z"
   },
   {
    "duration": 1057,
    "start_time": "2024-04-13T00:57:12.652Z"
   },
   {
    "duration": 18,
    "start_time": "2024-04-13T00:57:27.912Z"
   },
   {
    "duration": 301,
    "start_time": "2024-04-13T00:57:35.107Z"
   },
   {
    "duration": 424,
    "start_time": "2024-04-13T00:57:37.634Z"
   },
   {
    "duration": 358,
    "start_time": "2024-04-13T01:00:04.406Z"
   },
   {
    "duration": 37,
    "start_time": "2024-04-13T01:00:57.951Z"
   },
   {
    "duration": 40,
    "start_time": "2024-04-13T01:01:06.382Z"
   },
   {
    "duration": 37,
    "start_time": "2024-04-13T01:01:13.428Z"
   },
   {
    "duration": 31,
    "start_time": "2024-04-13T01:01:15.432Z"
   },
   {
    "duration": 39,
    "start_time": "2024-04-13T01:01:33.128Z"
   },
   {
    "duration": 34,
    "start_time": "2024-04-13T01:01:34.627Z"
   },
   {
    "duration": 35,
    "start_time": "2024-04-13T01:01:37.223Z"
   },
   {
    "duration": 335,
    "start_time": "2024-04-13T01:01:43.879Z"
   },
   {
    "duration": 334,
    "start_time": "2024-04-13T01:01:50.461Z"
   },
   {
    "duration": 324,
    "start_time": "2024-04-13T01:03:50.030Z"
   },
   {
    "duration": 342,
    "start_time": "2024-04-13T01:04:00.216Z"
   },
   {
    "duration": 40,
    "start_time": "2024-04-13T01:04:33.941Z"
   },
   {
    "duration": 336,
    "start_time": "2024-04-13T01:04:40.567Z"
   },
   {
    "duration": 22,
    "start_time": "2024-04-13T01:04:49.508Z"
   },
   {
    "duration": 319,
    "start_time": "2024-04-13T01:04:52.848Z"
   },
   {
    "duration": 9,
    "start_time": "2024-04-13T01:05:35.471Z"
   },
   {
    "duration": 31,
    "start_time": "2024-04-13T01:05:39.741Z"
   },
   {
    "duration": 9,
    "start_time": "2024-04-13T01:05:49.451Z"
   },
   {
    "duration": 25,
    "start_time": "2024-04-13T01:05:52.973Z"
   },
   {
    "duration": 21,
    "start_time": "2024-04-13T01:06:45.636Z"
   },
   {
    "duration": 44,
    "start_time": "2024-04-13T01:06:54.302Z"
   },
   {
    "duration": 41,
    "start_time": "2024-04-13T01:07:15.971Z"
   },
   {
    "duration": 328,
    "start_time": "2024-04-13T01:07:20.653Z"
   },
   {
    "duration": 336,
    "start_time": "2024-04-13T01:07:31.765Z"
   },
   {
    "duration": 50,
    "start_time": "2024-04-13T01:08:39.937Z"
   },
   {
    "duration": 329,
    "start_time": "2024-04-13T01:10:46.636Z"
   },
   {
    "duration": 340,
    "start_time": "2024-04-13T01:11:18.402Z"
   },
   {
    "duration": 356,
    "start_time": "2024-04-13T01:14:38.765Z"
   },
   {
    "duration": 8,
    "start_time": "2024-04-13T01:27:11.138Z"
   },
   {
    "duration": 26,
    "start_time": "2024-04-13T01:27:14.587Z"
   },
   {
    "duration": 35,
    "start_time": "2024-04-13T01:28:49.832Z"
   },
   {
    "duration": 405,
    "start_time": "2024-04-13T01:29:33.546Z"
   },
   {
    "duration": 405,
    "start_time": "2024-04-13T01:30:56.619Z"
   },
   {
    "duration": 546,
    "start_time": "2024-04-13T01:31:07.499Z"
   },
   {
    "duration": 58,
    "start_time": "2024-04-13T01:35:44.857Z"
   },
   {
    "duration": 67,
    "start_time": "2024-04-13T01:36:04.042Z"
   },
   {
    "duration": 70,
    "start_time": "2024-04-13T01:36:11.378Z"
   },
   {
    "duration": 69,
    "start_time": "2024-04-13T01:36:14.102Z"
   },
   {
    "duration": 67,
    "start_time": "2024-04-13T01:36:19.017Z"
   },
   {
    "duration": 57,
    "start_time": "2024-04-13T01:36:22.559Z"
   },
   {
    "duration": 84,
    "start_time": "2024-04-13T01:36:51.804Z"
   },
   {
    "duration": 79,
    "start_time": "2024-04-13T01:37:41.052Z"
   },
   {
    "duration": 72,
    "start_time": "2024-04-13T01:37:53.739Z"
   },
   {
    "duration": 58,
    "start_time": "2024-04-13T01:38:02.986Z"
   },
   {
    "duration": 384,
    "start_time": "2024-04-13T01:38:08.499Z"
   },
   {
    "duration": 410,
    "start_time": "2024-04-13T01:41:07.887Z"
   },
   {
    "duration": 402,
    "start_time": "2024-04-13T01:41:10.487Z"
   },
   {
    "duration": 389,
    "start_time": "2024-04-13T01:41:13.174Z"
   },
   {
    "duration": 383,
    "start_time": "2024-04-13T01:42:03.584Z"
   },
   {
    "duration": 381,
    "start_time": "2024-04-13T01:42:31.056Z"
   },
   {
    "duration": 398,
    "start_time": "2024-04-13T01:43:43.006Z"
   },
   {
    "duration": 398,
    "start_time": "2024-04-13T01:43:52.788Z"
   },
   {
    "duration": 372,
    "start_time": "2024-04-13T01:44:01.635Z"
   },
   {
    "duration": 367,
    "start_time": "2024-04-13T01:44:08.262Z"
   },
   {
    "duration": 372,
    "start_time": "2024-04-13T01:44:10.849Z"
   },
   {
    "duration": 382,
    "start_time": "2024-04-13T01:44:24.464Z"
   },
   {
    "duration": 378,
    "start_time": "2024-04-13T01:44:26.274Z"
   },
   {
    "duration": 16,
    "start_time": "2024-04-13T01:47:04.418Z"
   },
   {
    "duration": 17,
    "start_time": "2024-04-13T01:47:28.556Z"
   },
   {
    "duration": 20,
    "start_time": "2024-04-13T01:47:32.690Z"
   },
   {
    "duration": 773,
    "start_time": "2024-04-13T01:48:05.165Z"
   },
   {
    "duration": 512,
    "start_time": "2024-04-13T01:48:21.717Z"
   },
   {
    "duration": 15,
    "start_time": "2024-04-13T01:48:36.078Z"
   },
   {
    "duration": 551,
    "start_time": "2024-04-13T01:49:01.263Z"
   },
   {
    "duration": 349,
    "start_time": "2024-04-13T01:50:06.534Z"
   },
   {
    "duration": 357,
    "start_time": "2024-04-13T01:50:13.790Z"
   },
   {
    "duration": 352,
    "start_time": "2024-04-13T01:50:55.923Z"
   },
   {
    "duration": 367,
    "start_time": "2024-04-13T01:51:02.750Z"
   },
   {
    "duration": 304,
    "start_time": "2024-04-13T01:51:10.154Z"
   },
   {
    "duration": 299,
    "start_time": "2024-04-13T01:51:34.378Z"
   },
   {
    "duration": 494,
    "start_time": "2024-04-13T01:53:07.283Z"
   },
   {
    "duration": 432,
    "start_time": "2024-04-13T01:53:14.503Z"
   },
   {
    "duration": 157,
    "start_time": "2024-04-13T01:53:32.120Z"
   },
   {
    "duration": 9,
    "start_time": "2024-04-13T01:54:19.518Z"
   },
   {
    "duration": 10,
    "start_time": "2024-04-13T01:54:36.303Z"
   },
   {
    "duration": 290,
    "start_time": "2024-04-13T01:55:28.165Z"
   },
   {
    "duration": 292,
    "start_time": "2024-04-13T01:55:40.101Z"
   },
   {
    "duration": 278,
    "start_time": "2024-04-13T01:56:23.723Z"
   },
   {
    "duration": 10,
    "start_time": "2024-04-13T01:56:36.758Z"
   },
   {
    "duration": 10,
    "start_time": "2024-04-13T01:56:42.111Z"
   },
   {
    "duration": 10,
    "start_time": "2024-04-13T01:56:46.224Z"
   },
   {
    "duration": 10,
    "start_time": "2024-04-13T01:56:50.806Z"
   },
   {
    "duration": 376,
    "start_time": "2024-04-13T01:56:55.371Z"
   },
   {
    "duration": 288,
    "start_time": "2024-04-13T01:56:58.497Z"
   },
   {
    "duration": 272,
    "start_time": "2024-04-13T01:57:09.638Z"
   },
   {
    "duration": 300,
    "start_time": "2024-04-13T01:57:19.623Z"
   },
   {
    "duration": 328,
    "start_time": "2024-04-13T01:57:25.599Z"
   },
   {
    "duration": 529,
    "start_time": "2024-04-13T01:57:42.389Z"
   },
   {
    "duration": 64,
    "start_time": "2024-04-13T01:58:01.459Z"
   },
   {
    "duration": 304,
    "start_time": "2024-04-13T01:58:08.885Z"
   },
   {
    "duration": 283,
    "start_time": "2024-04-13T02:03:26.049Z"
   },
   {
    "duration": 295,
    "start_time": "2024-04-13T02:03:54.302Z"
   },
   {
    "duration": 148,
    "start_time": "2024-04-13T02:04:33.066Z"
   },
   {
    "duration": 296,
    "start_time": "2024-04-13T02:04:46.735Z"
   },
   {
    "duration": 276,
    "start_time": "2024-04-13T02:05:02.930Z"
   },
   {
    "duration": 305,
    "start_time": "2024-04-13T02:05:15.904Z"
   },
   {
    "duration": 278,
    "start_time": "2024-04-13T02:05:26.089Z"
   },
   {
    "duration": 306,
    "start_time": "2024-04-13T02:05:42.563Z"
   },
   {
    "duration": 281,
    "start_time": "2024-04-13T02:06:07.683Z"
   },
   {
    "duration": 529,
    "start_time": "2024-04-13T02:06:15.222Z"
   },
   {
    "duration": 287,
    "start_time": "2024-04-13T02:06:23.472Z"
   },
   {
    "duration": 304,
    "start_time": "2024-04-13T02:06:28.068Z"
   },
   {
    "duration": 305,
    "start_time": "2024-04-13T02:06:34.640Z"
   },
   {
    "duration": 290,
    "start_time": "2024-04-13T02:06:58.287Z"
   },
   {
    "duration": 282,
    "start_time": "2024-04-13T02:07:07.173Z"
   },
   {
    "duration": 303,
    "start_time": "2024-04-13T02:08:02.007Z"
   },
   {
    "duration": 302,
    "start_time": "2024-04-13T02:08:14.763Z"
   },
   {
    "duration": 302,
    "start_time": "2024-04-13T02:08:25.860Z"
   },
   {
    "duration": 330,
    "start_time": "2024-04-13T02:08:45.314Z"
   },
   {
    "duration": 16,
    "start_time": "2024-04-13T02:11:11.531Z"
   },
   {
    "duration": 10,
    "start_time": "2024-04-13T02:14:41.550Z"
   },
   {
    "duration": 19,
    "start_time": "2024-04-13T02:14:45.835Z"
   },
   {
    "duration": 22,
    "start_time": "2024-04-13T02:15:13.170Z"
   },
   {
    "duration": 19,
    "start_time": "2024-04-13T02:15:20.243Z"
   },
   {
    "duration": 36,
    "start_time": "2024-04-13T02:16:28.559Z"
   },
   {
    "duration": 19,
    "start_time": "2024-04-13T02:16:32.052Z"
   },
   {
    "duration": 11,
    "start_time": "2024-04-13T02:16:55.943Z"
   },
   {
    "duration": 24,
    "start_time": "2024-04-13T02:17:07.000Z"
   },
   {
    "duration": 15,
    "start_time": "2024-04-13T02:17:15.499Z"
   },
   {
    "duration": 17,
    "start_time": "2024-04-13T02:19:01.205Z"
   },
   {
    "duration": 6,
    "start_time": "2024-04-13T02:20:18.853Z"
   },
   {
    "duration": 8,
    "start_time": "2024-04-13T02:20:34.195Z"
   },
   {
    "duration": 6,
    "start_time": "2024-04-13T02:20:38.591Z"
   },
   {
    "duration": 12,
    "start_time": "2024-04-13T02:21:25.363Z"
   },
   {
    "duration": 6,
    "start_time": "2024-04-13T02:21:44.887Z"
   },
   {
    "duration": 5,
    "start_time": "2024-04-13T02:21:48.014Z"
   },
   {
    "duration": 140,
    "start_time": "2024-04-13T02:22:56.975Z"
   },
   {
    "duration": 17,
    "start_time": "2024-04-13T02:23:15.130Z"
   },
   {
    "duration": 143,
    "start_time": "2024-04-13T02:23:23.063Z"
   },
   {
    "duration": 6,
    "start_time": "2024-04-13T02:23:44.331Z"
   },
   {
    "duration": 142,
    "start_time": "2024-04-13T02:24:01.809Z"
   },
   {
    "duration": 354,
    "start_time": "2024-04-13T02:24:02.486Z"
   },
   {
    "duration": 145,
    "start_time": "2024-04-13T02:24:33.412Z"
   },
   {
    "duration": 137,
    "start_time": "2024-04-13T02:24:40.608Z"
   },
   {
    "duration": 133,
    "start_time": "2024-04-13T02:24:53.881Z"
   },
   {
    "duration": 1301,
    "start_time": "2024-04-13T02:26:29.382Z"
   },
   {
    "duration": 133,
    "start_time": "2024-04-13T02:26:37.310Z"
   },
   {
    "duration": 145,
    "start_time": "2024-04-13T02:26:40.755Z"
   },
   {
    "duration": 136,
    "start_time": "2024-04-13T02:29:08.722Z"
   },
   {
    "duration": 133,
    "start_time": "2024-04-13T02:29:19.742Z"
   },
   {
    "duration": 15,
    "start_time": "2024-04-13T02:34:08.242Z"
   },
   {
    "duration": 29,
    "start_time": "2024-04-13T02:36:04.513Z"
   },
   {
    "duration": 131,
    "start_time": "2024-04-13T02:36:12.300Z"
   },
   {
    "duration": 162,
    "start_time": "2024-04-13T02:36:25.317Z"
   },
   {
    "duration": 150,
    "start_time": "2024-04-13T02:36:47.330Z"
   },
   {
    "duration": 12,
    "start_time": "2024-04-13T02:37:32.558Z"
   },
   {
    "duration": 4264,
    "start_time": "2024-04-13T02:37:40.919Z"
   },
   {
    "duration": 37,
    "start_time": "2024-04-13T02:37:49.727Z"
   },
   {
    "duration": 65,
    "start_time": "2024-04-13T02:38:07.941Z"
   },
   {
    "duration": 10,
    "start_time": "2024-04-13T02:38:11.319Z"
   },
   {
    "duration": 38,
    "start_time": "2024-04-13T02:38:17.431Z"
   },
   {
    "duration": 154,
    "start_time": "2024-04-13T02:39:34.895Z"
   },
   {
    "duration": 165,
    "start_time": "2024-04-13T02:39:35.739Z"
   },
   {
    "duration": 143,
    "start_time": "2024-04-13T02:39:37.505Z"
   },
   {
    "duration": 150,
    "start_time": "2024-04-13T02:39:37.980Z"
   },
   {
    "duration": 11,
    "start_time": "2024-04-13T02:45:10.732Z"
   },
   {
    "duration": 60,
    "start_time": "2024-04-13T02:45:25.857Z"
   },
   {
    "duration": 9,
    "start_time": "2024-04-13T02:46:41.722Z"
   },
   {
    "duration": 12,
    "start_time": "2024-04-13T02:46:45.426Z"
   },
   {
    "duration": 13,
    "start_time": "2024-04-13T02:46:57.888Z"
   },
   {
    "duration": 15,
    "start_time": "2024-04-13T02:47:08.061Z"
   },
   {
    "duration": 13,
    "start_time": "2024-04-13T02:47:12.373Z"
   },
   {
    "duration": 177,
    "start_time": "2024-04-13T02:47:31.711Z"
   },
   {
    "duration": 13,
    "start_time": "2024-04-13T02:47:45.259Z"
   },
   {
    "duration": 187,
    "start_time": "2024-04-13T02:47:54.033Z"
   },
   {
    "duration": 185,
    "start_time": "2024-04-13T02:48:43.423Z"
   },
   {
    "duration": 307,
    "start_time": "2024-04-13T02:49:38.339Z"
   },
   {
    "duration": 301,
    "start_time": "2024-04-13T02:49:47.366Z"
   },
   {
    "duration": 298,
    "start_time": "2024-04-13T02:49:52.213Z"
   },
   {
    "duration": 314,
    "start_time": "2024-04-13T02:50:00.175Z"
   },
   {
    "duration": 312,
    "start_time": "2024-04-13T02:50:34.943Z"
   },
   {
    "duration": 310,
    "start_time": "2024-04-13T02:52:56.086Z"
   },
   {
    "duration": 223,
    "start_time": "2024-04-13T02:53:02.013Z"
   },
   {
    "duration": 315,
    "start_time": "2024-04-13T02:54:31.528Z"
   },
   {
    "duration": 14,
    "start_time": "2024-04-13T03:00:27.476Z"
   },
   {
    "duration": 14,
    "start_time": "2024-04-13T03:01:42.502Z"
   },
   {
    "duration": 14,
    "start_time": "2024-04-13T03:10:33.843Z"
   },
   {
    "duration": 154,
    "start_time": "2024-04-13T03:11:04.459Z"
   },
   {
    "duration": 17,
    "start_time": "2024-04-13T03:11:10.739Z"
   },
   {
    "duration": 136,
    "start_time": "2024-04-13T03:11:15.131Z"
   },
   {
    "duration": 16,
    "start_time": "2024-04-13T03:12:04.528Z"
   },
   {
    "duration": 17,
    "start_time": "2024-04-13T03:12:05.050Z"
   },
   {
    "duration": 136,
    "start_time": "2024-04-13T03:12:31.346Z"
   },
   {
    "duration": 128,
    "start_time": "2024-04-13T03:12:33.599Z"
   },
   {
    "duration": 17,
    "start_time": "2024-04-13T03:15:17.985Z"
   },
   {
    "duration": 171,
    "start_time": "2024-04-13T03:15:23.686Z"
   },
   {
    "duration": 28,
    "start_time": "2024-04-13T03:15:37.772Z"
   },
   {
    "duration": 205,
    "start_time": "2024-04-13T03:16:00.196Z"
   },
   {
    "duration": 171,
    "start_time": "2024-04-13T03:16:05.288Z"
   },
   {
    "duration": 176,
    "start_time": "2024-04-13T03:17:33.239Z"
   },
   {
    "duration": 184,
    "start_time": "2024-04-13T03:18:21.287Z"
   },
   {
    "duration": 192,
    "start_time": "2024-04-13T03:18:30.066Z"
   },
   {
    "duration": 498,
    "start_time": "2024-04-13T03:18:35.601Z"
   },
   {
    "duration": 217,
    "start_time": "2024-04-13T03:18:41.106Z"
   },
   {
    "duration": 199,
    "start_time": "2024-04-13T03:19:03.861Z"
   },
   {
    "duration": 198,
    "start_time": "2024-04-13T03:19:10.077Z"
   },
   {
    "duration": 200,
    "start_time": "2024-04-13T03:20:47.625Z"
   },
   {
    "duration": 218,
    "start_time": "2024-04-13T03:20:48.327Z"
   },
   {
    "duration": 222,
    "start_time": "2024-04-13T03:20:52.523Z"
   },
   {
    "duration": 203,
    "start_time": "2024-04-13T03:20:53.262Z"
   },
   {
    "duration": 209,
    "start_time": "2024-04-13T03:20:54.661Z"
   },
   {
    "duration": 230,
    "start_time": "2024-04-13T03:20:55.318Z"
   },
   {
    "duration": 59,
    "start_time": "2024-04-13T03:22:26.812Z"
   },
   {
    "duration": 142,
    "start_time": "2024-04-13T03:22:29.705Z"
   },
   {
    "duration": 167,
    "start_time": "2024-04-13T03:23:16.089Z"
   },
   {
    "duration": 142,
    "start_time": "2024-04-13T03:23:23.899Z"
   },
   {
    "duration": 124,
    "start_time": "2024-04-13T03:24:09.038Z"
   },
   {
    "duration": 5,
    "start_time": "2024-04-13T03:26:55.483Z"
   },
   {
    "duration": 5,
    "start_time": "2024-04-13T03:30:12.634Z"
   },
   {
    "duration": 12,
    "start_time": "2024-04-13T03:35:20.038Z"
   },
   {
    "duration": 9,
    "start_time": "2024-04-13T03:35:27.121Z"
   },
   {
    "duration": 5,
    "start_time": "2024-04-13T03:35:35.166Z"
   },
   {
    "duration": 5,
    "start_time": "2024-04-13T03:36:04.650Z"
   },
   {
    "duration": 3,
    "start_time": "2024-04-13T03:39:15.499Z"
   },
   {
    "duration": 2174,
    "start_time": "2024-04-13T03:39:31.993Z"
   },
   {
    "duration": 68,
    "start_time": "2024-04-13T03:42:40.105Z"
   },
   {
    "duration": 12,
    "start_time": "2024-04-13T03:42:49.472Z"
   },
   {
    "duration": 894,
    "start_time": "2024-04-13T03:43:04.198Z"
   },
   {
    "duration": 736,
    "start_time": "2024-04-13T03:43:24.198Z"
   },
   {
    "duration": 723,
    "start_time": "2024-04-13T03:43:38.734Z"
   },
   {
    "duration": 128,
    "start_time": "2024-04-13T03:50:31.974Z"
   },
   {
    "duration": 190,
    "start_time": "2024-04-13T03:55:11.718Z"
   },
   {
    "duration": 199,
    "start_time": "2024-04-13T03:55:34.083Z"
   },
   {
    "duration": 190,
    "start_time": "2024-04-13T03:55:59.446Z"
   },
   {
    "duration": 173,
    "start_time": "2024-04-13T03:56:42.433Z"
   },
   {
    "duration": 214,
    "start_time": "2024-04-13T03:56:53.607Z"
   },
   {
    "duration": 202,
    "start_time": "2024-04-13T03:58:38.950Z"
   },
   {
    "duration": 178,
    "start_time": "2024-04-13T03:59:01.381Z"
   },
   {
    "duration": 196,
    "start_time": "2024-04-13T03:59:08.737Z"
   },
   {
    "duration": 196,
    "start_time": "2024-04-13T03:59:16.624Z"
   },
   {
    "duration": 13,
    "start_time": "2024-04-13T04:00:17.642Z"
   },
   {
    "duration": 11,
    "start_time": "2024-04-13T04:00:23.384Z"
   },
   {
    "duration": 13,
    "start_time": "2024-04-13T04:00:26.311Z"
   },
   {
    "duration": 16,
    "start_time": "2024-04-13T04:00:45.185Z"
   },
   {
    "duration": 15,
    "start_time": "2024-04-13T04:00:50.448Z"
   },
   {
    "duration": 224,
    "start_time": "2024-04-13T04:01:38.743Z"
   },
   {
    "duration": 203,
    "start_time": "2024-04-13T04:04:10.404Z"
   },
   {
    "duration": 16,
    "start_time": "2024-04-13T04:19:55.609Z"
   },
   {
    "duration": 14,
    "start_time": "2024-04-13T04:20:54.725Z"
   },
   {
    "duration": 14,
    "start_time": "2024-04-13T04:20:58.152Z"
   },
   {
    "duration": 9,
    "start_time": "2024-04-13T04:21:01.999Z"
   },
   {
    "duration": 3,
    "start_time": "2024-04-13T04:21:15.695Z"
   },
   {
    "duration": 13,
    "start_time": "2024-04-13T04:21:18.582Z"
   },
   {
    "duration": 3,
    "start_time": "2024-04-13T04:22:09.888Z"
   },
   {
    "duration": 9,
    "start_time": "2024-04-13T04:22:12.548Z"
   },
   {
    "duration": 7,
    "start_time": "2024-04-13T04:22:27.173Z"
   },
   {
    "duration": 8,
    "start_time": "2024-04-13T04:22:32.910Z"
   },
   {
    "duration": 36,
    "start_time": "2024-04-13T04:24:36.900Z"
   },
   {
    "duration": 33,
    "start_time": "2024-04-13T04:24:56.008Z"
   },
   {
    "duration": 7,
    "start_time": "2024-04-13T04:25:18.371Z"
   },
   {
    "duration": 30,
    "start_time": "2024-04-13T04:25:43.103Z"
   },
   {
    "duration": 10,
    "start_time": "2024-04-13T04:25:51.747Z"
   },
   {
    "duration": 13,
    "start_time": "2024-04-13T04:26:02.146Z"
   },
   {
    "duration": 10,
    "start_time": "2024-04-13T04:26:07.313Z"
   },
   {
    "duration": 9,
    "start_time": "2024-04-13T04:26:17.397Z"
   },
   {
    "duration": 10,
    "start_time": "2024-04-13T04:26:25.948Z"
   },
   {
    "duration": 9,
    "start_time": "2024-04-13T04:26:39.635Z"
   },
   {
    "duration": 11,
    "start_time": "2024-04-13T04:26:52.391Z"
   },
   {
    "duration": 13,
    "start_time": "2024-04-13T04:27:18.751Z"
   },
   {
    "duration": 15,
    "start_time": "2024-04-13T04:34:10.369Z"
   },
   {
    "duration": 13,
    "start_time": "2024-04-13T04:35:13.251Z"
   },
   {
    "duration": 9,
    "start_time": "2024-04-13T04:40:46.849Z"
   },
   {
    "duration": 17,
    "start_time": "2024-04-13T04:40:52.233Z"
   },
   {
    "duration": 14,
    "start_time": "2024-04-13T04:41:39.162Z"
   },
   {
    "duration": 15,
    "start_time": "2024-04-13T04:41:43.728Z"
   },
   {
    "duration": 14,
    "start_time": "2024-04-13T04:41:50.852Z"
   },
   {
    "duration": 18,
    "start_time": "2024-04-13T04:59:12.933Z"
   },
   {
    "duration": 15,
    "start_time": "2024-04-13T05:00:01.894Z"
   },
   {
    "duration": 1179,
    "start_time": "2024-04-13T05:00:08.554Z"
   },
   {
    "duration": 59,
    "start_time": "2024-04-13T05:00:09.735Z"
   },
   {
    "duration": 21,
    "start_time": "2024-04-13T05:00:09.795Z"
   },
   {
    "duration": 15,
    "start_time": "2024-04-13T05:00:09.817Z"
   },
   {
    "duration": 31,
    "start_time": "2024-04-13T05:00:09.835Z"
   },
   {
    "duration": 4,
    "start_time": "2024-04-13T05:00:09.868Z"
   },
   {
    "duration": 20,
    "start_time": "2024-04-13T05:00:09.873Z"
   },
   {
    "duration": 40,
    "start_time": "2024-04-13T05:00:09.895Z"
   },
   {
    "duration": 3,
    "start_time": "2024-04-13T05:00:09.937Z"
   },
   {
    "duration": 15,
    "start_time": "2024-04-13T05:00:09.941Z"
   },
   {
    "duration": 5,
    "start_time": "2024-04-13T05:00:09.958Z"
   },
   {
    "duration": 6,
    "start_time": "2024-04-13T05:00:09.964Z"
   },
   {
    "duration": 14,
    "start_time": "2024-04-13T05:00:09.971Z"
   },
   {
    "duration": 10,
    "start_time": "2024-04-13T05:00:10.014Z"
   },
   {
    "duration": 14,
    "start_time": "2024-04-13T05:00:10.025Z"
   },
   {
    "duration": 35,
    "start_time": "2024-04-13T05:00:10.040Z"
   },
   {
    "duration": 4,
    "start_time": "2024-04-13T05:00:10.077Z"
   },
   {
    "duration": 10,
    "start_time": "2024-04-13T05:00:10.083Z"
   },
   {
    "duration": 5,
    "start_time": "2024-04-13T05:00:10.094Z"
   },
   {
    "duration": 31,
    "start_time": "2024-04-13T05:00:10.100Z"
   },
   {
    "duration": 379,
    "start_time": "2024-04-13T05:00:10.133Z"
   },
   {
    "duration": 20,
    "start_time": "2024-04-13T05:00:10.515Z"
   },
   {
    "duration": 304,
    "start_time": "2024-04-13T05:00:10.536Z"
   },
   {
    "duration": 5,
    "start_time": "2024-04-13T05:00:10.841Z"
   },
   {
    "duration": 373,
    "start_time": "2024-04-13T05:00:10.847Z"
   },
   {
    "duration": 392,
    "start_time": "2024-04-13T05:00:11.222Z"
   },
   {
    "duration": 314,
    "start_time": "2024-04-13T05:00:11.616Z"
   },
   {
    "duration": 212,
    "start_time": "2024-04-13T05:00:11.932Z"
   },
   {
    "duration": 151,
    "start_time": "2024-04-13T05:00:12.146Z"
   },
   {
    "duration": 148,
    "start_time": "2024-04-13T05:00:12.299Z"
   },
   {
    "duration": 154,
    "start_time": "2024-04-13T05:00:12.449Z"
   },
   {
    "duration": 141,
    "start_time": "2024-04-13T05:00:12.604Z"
   },
   {
    "duration": 167,
    "start_time": "2024-04-13T05:00:12.746Z"
   },
   {
    "duration": 222,
    "start_time": "2024-04-13T05:00:12.915Z"
   },
   {
    "duration": 302,
    "start_time": "2024-04-13T05:00:13.139Z"
   },
   {
    "duration": 207,
    "start_time": "2024-04-13T05:00:13.443Z"
   },
   {
    "duration": 224,
    "start_time": "2024-04-13T05:00:13.652Z"
   },
   {
    "duration": 190,
    "start_time": "2024-04-13T05:00:13.877Z"
   },
   {
    "duration": 310,
    "start_time": "2024-04-13T05:00:14.069Z"
   },
   {
    "duration": 224,
    "start_time": "2024-04-13T05:00:14.381Z"
   },
   {
    "duration": 206,
    "start_time": "2024-04-13T05:00:14.615Z"
   },
   {
    "duration": 216,
    "start_time": "2024-04-13T05:00:14.823Z"
   },
   {
    "duration": 227,
    "start_time": "2024-04-13T05:00:15.041Z"
   },
   {
    "duration": 209,
    "start_time": "2024-04-13T05:00:15.269Z"
   },
   {
    "duration": 15,
    "start_time": "2024-04-13T05:00:15.480Z"
   },
   {
    "duration": 36,
    "start_time": "2024-04-13T05:00:15.497Z"
   },
   {
    "duration": 21,
    "start_time": "2024-04-13T05:00:15.535Z"
   },
   {
    "duration": 26,
    "start_time": "2024-04-13T05:00:15.557Z"
   },
   {
    "duration": 7,
    "start_time": "2024-04-13T05:08:50.518Z"
   },
   {
    "duration": 3,
    "start_time": "2024-04-13T05:08:55.307Z"
   },
   {
    "duration": 5,
    "start_time": "2024-04-13T05:10:08.951Z"
   },
   {
    "duration": 6,
    "start_time": "2024-04-13T05:10:50.839Z"
   },
   {
    "duration": 6,
    "start_time": "2024-04-13T05:11:48.957Z"
   },
   {
    "duration": 6,
    "start_time": "2024-04-13T05:11:49.252Z"
   },
   {
    "duration": 5,
    "start_time": "2024-04-13T05:11:49.641Z"
   },
   {
    "duration": 10,
    "start_time": "2024-04-13T05:11:50.130Z"
   },
   {
    "duration": 5,
    "start_time": "2024-04-13T05:11:50.414Z"
   },
   {
    "duration": 1219,
    "start_time": "2024-04-13T05:18:20.005Z"
   },
   {
    "duration": 57,
    "start_time": "2024-04-13T05:18:21.226Z"
   },
   {
    "duration": 20,
    "start_time": "2024-04-13T05:18:21.284Z"
   },
   {
    "duration": 15,
    "start_time": "2024-04-13T05:18:21.305Z"
   },
   {
    "duration": 28,
    "start_time": "2024-04-13T05:18:21.322Z"
   },
   {
    "duration": 4,
    "start_time": "2024-04-13T05:18:21.351Z"
   },
   {
    "duration": 9,
    "start_time": "2024-04-13T05:18:21.357Z"
   },
   {
    "duration": 8,
    "start_time": "2024-04-13T05:18:21.367Z"
   },
   {
    "duration": 4,
    "start_time": "2024-04-13T05:18:21.376Z"
   },
   {
    "duration": 15,
    "start_time": "2024-04-13T05:18:21.415Z"
   },
   {
    "duration": 4,
    "start_time": "2024-04-13T05:18:21.432Z"
   },
   {
    "duration": 11,
    "start_time": "2024-04-13T05:18:21.438Z"
   },
   {
    "duration": 5,
    "start_time": "2024-04-13T05:18:21.450Z"
   },
   {
    "duration": 10,
    "start_time": "2024-04-13T05:18:21.457Z"
   },
   {
    "duration": 11,
    "start_time": "2024-04-13T05:18:21.468Z"
   },
   {
    "duration": 35,
    "start_time": "2024-04-13T05:18:21.481Z"
   },
   {
    "duration": 12,
    "start_time": "2024-04-13T05:18:21.518Z"
   },
   {
    "duration": 14,
    "start_time": "2024-04-13T05:18:21.532Z"
   },
   {
    "duration": 7,
    "start_time": "2024-04-13T05:18:21.547Z"
   },
   {
    "duration": 370,
    "start_time": "2024-04-13T05:18:21.555Z"
   },
   {
    "duration": 20,
    "start_time": "2024-04-13T05:18:21.927Z"
   },
   {
    "duration": 303,
    "start_time": "2024-04-13T05:18:21.948Z"
   },
   {
    "duration": 4,
    "start_time": "2024-04-13T05:18:22.253Z"
   },
   {
    "duration": 349,
    "start_time": "2024-04-13T05:18:22.258Z"
   },
   {
    "duration": 440,
    "start_time": "2024-04-13T05:18:22.608Z"
   },
   {
    "duration": 312,
    "start_time": "2024-04-13T05:18:23.050Z"
   },
   {
    "duration": 220,
    "start_time": "2024-04-13T05:18:23.364Z"
   },
   {
    "duration": 165,
    "start_time": "2024-04-13T05:18:23.586Z"
   },
   {
    "duration": 143,
    "start_time": "2024-04-13T05:18:23.753Z"
   },
   {
    "duration": 157,
    "start_time": "2024-04-13T05:18:23.898Z"
   },
   {
    "duration": 147,
    "start_time": "2024-04-13T05:18:24.057Z"
   },
   {
    "duration": 159,
    "start_time": "2024-04-13T05:18:24.206Z"
   },
   {
    "duration": 202,
    "start_time": "2024-04-13T05:18:24.367Z"
   },
   {
    "duration": 326,
    "start_time": "2024-04-13T05:18:24.570Z"
   },
   {
    "duration": 216,
    "start_time": "2024-04-13T05:18:24.898Z"
   },
   {
    "duration": 224,
    "start_time": "2024-04-13T05:18:25.115Z"
   },
   {
    "duration": 201,
    "start_time": "2024-04-13T05:18:25.341Z"
   },
   {
    "duration": 330,
    "start_time": "2024-04-13T05:18:25.543Z"
   },
   {
    "duration": 228,
    "start_time": "2024-04-13T05:18:25.875Z"
   },
   {
    "duration": 192,
    "start_time": "2024-04-13T05:18:26.105Z"
   },
   {
    "duration": 221,
    "start_time": "2024-04-13T05:18:26.301Z"
   },
   {
    "duration": 233,
    "start_time": "2024-04-13T05:18:26.524Z"
   },
   {
    "duration": 210,
    "start_time": "2024-04-13T05:18:26.759Z"
   },
   {
    "duration": 13,
    "start_time": "2024-04-13T05:18:26.971Z"
   },
   {
    "duration": 29,
    "start_time": "2024-04-13T05:18:26.986Z"
   },
   {
    "duration": 13,
    "start_time": "2024-04-13T05:18:27.017Z"
   },
   {
    "duration": 14,
    "start_time": "2024-04-13T05:18:27.032Z"
   },
   {
    "duration": 1184,
    "start_time": "2024-04-13T17:08:45.982Z"
   },
   {
    "duration": 190,
    "start_time": "2024-04-13T17:08:47.168Z"
   },
   {
    "duration": 16,
    "start_time": "2024-04-13T17:08:47.359Z"
   },
   {
    "duration": 33,
    "start_time": "2024-04-13T17:08:47.377Z"
   },
   {
    "duration": 23,
    "start_time": "2024-04-13T17:08:47.411Z"
   },
   {
    "duration": 3,
    "start_time": "2024-04-13T17:08:47.435Z"
   },
   {
    "duration": 17,
    "start_time": "2024-04-13T17:08:47.439Z"
   },
   {
    "duration": 19,
    "start_time": "2024-04-13T17:08:47.457Z"
   },
   {
    "duration": 3,
    "start_time": "2024-04-13T17:08:47.477Z"
   },
   {
    "duration": 18,
    "start_time": "2024-04-13T17:08:47.482Z"
   },
   {
    "duration": 4,
    "start_time": "2024-04-13T17:08:47.501Z"
   },
   {
    "duration": 9,
    "start_time": "2024-04-13T17:08:47.507Z"
   },
   {
    "duration": 6,
    "start_time": "2024-04-13T17:08:47.517Z"
   },
   {
    "duration": 24,
    "start_time": "2024-04-13T17:08:47.524Z"
   },
   {
    "duration": 13,
    "start_time": "2024-04-13T17:08:47.549Z"
   },
   {
    "duration": 5,
    "start_time": "2024-04-13T17:08:47.563Z"
   },
   {
    "duration": 10,
    "start_time": "2024-04-13T17:08:47.569Z"
   },
   {
    "duration": 3,
    "start_time": "2024-04-13T17:08:47.580Z"
   },
   {
    "duration": 15,
    "start_time": "2024-04-13T17:08:47.585Z"
   },
   {
    "duration": 294,
    "start_time": "2024-04-13T17:08:47.602Z"
   },
   {
    "duration": 16,
    "start_time": "2024-04-13T17:08:47.898Z"
   },
   {
    "duration": 247,
    "start_time": "2024-04-13T17:08:47.915Z"
   },
   {
    "duration": 4,
    "start_time": "2024-04-13T17:08:48.163Z"
   },
   {
    "duration": 333,
    "start_time": "2024-04-13T17:08:48.168Z"
   },
   {
    "duration": 310,
    "start_time": "2024-04-13T17:08:48.502Z"
   },
   {
    "duration": 288,
    "start_time": "2024-04-13T17:08:48.813Z"
   },
   {
    "duration": 122,
    "start_time": "2024-04-13T17:08:49.103Z"
   },
   {
    "duration": 124,
    "start_time": "2024-04-13T17:08:49.228Z"
   },
   {
    "duration": 113,
    "start_time": "2024-04-13T17:08:49.354Z"
   },
   {
    "duration": 133,
    "start_time": "2024-04-13T17:08:49.469Z"
   },
   {
    "duration": 118,
    "start_time": "2024-04-13T17:08:49.603Z"
   },
   {
    "duration": 115,
    "start_time": "2024-04-13T17:08:49.722Z"
   },
   {
    "duration": 166,
    "start_time": "2024-04-13T17:08:49.839Z"
   },
   {
    "duration": 248,
    "start_time": "2024-04-13T17:08:50.006Z"
   },
   {
    "duration": 167,
    "start_time": "2024-04-13T17:08:50.256Z"
   },
   {
    "duration": 179,
    "start_time": "2024-04-13T17:08:50.424Z"
   },
   {
    "duration": 234,
    "start_time": "2024-04-13T17:08:50.604Z"
   },
   {
    "duration": 165,
    "start_time": "2024-04-13T17:08:50.840Z"
   },
   {
    "duration": 169,
    "start_time": "2024-04-13T17:08:51.006Z"
   },
   {
    "duration": 151,
    "start_time": "2024-04-13T17:08:51.177Z"
   },
   {
    "duration": 162,
    "start_time": "2024-04-13T17:08:51.329Z"
   },
   {
    "duration": 175,
    "start_time": "2024-04-13T17:08:51.492Z"
   },
   {
    "duration": 160,
    "start_time": "2024-04-13T17:08:51.669Z"
   },
   {
    "duration": 11,
    "start_time": "2024-04-13T17:08:51.830Z"
   },
   {
    "duration": 25,
    "start_time": "2024-04-13T17:08:51.843Z"
   },
   {
    "duration": 21,
    "start_time": "2024-04-13T17:08:51.869Z"
   },
   {
    "duration": 14,
    "start_time": "2024-04-13T17:08:51.892Z"
   },
   {
    "duration": 940,
    "start_time": "2024-04-13T17:46:38.985Z"
   },
   {
    "duration": 48,
    "start_time": "2024-04-13T17:46:39.926Z"
   },
   {
    "duration": 14,
    "start_time": "2024-04-13T17:46:39.975Z"
   },
   {
    "duration": 11,
    "start_time": "2024-04-13T17:46:39.991Z"
   },
   {
    "duration": 21,
    "start_time": "2024-04-13T17:46:40.003Z"
   },
   {
    "duration": 3,
    "start_time": "2024-04-13T17:46:40.025Z"
   },
   {
    "duration": 16,
    "start_time": "2024-04-13T17:46:40.029Z"
   },
   {
    "duration": 7,
    "start_time": "2024-04-13T17:46:40.046Z"
   },
   {
    "duration": 9,
    "start_time": "2024-04-13T17:46:40.054Z"
   },
   {
    "duration": 20,
    "start_time": "2024-04-13T17:46:40.065Z"
   },
   {
    "duration": 12,
    "start_time": "2024-04-13T17:46:40.086Z"
   },
   {
    "duration": 7,
    "start_time": "2024-04-13T17:46:40.099Z"
   },
   {
    "duration": 5,
    "start_time": "2024-04-13T17:46:40.107Z"
   },
   {
    "duration": 4,
    "start_time": "2024-04-13T17:46:40.113Z"
   },
   {
    "duration": 9,
    "start_time": "2024-04-13T17:46:40.118Z"
   },
   {
    "duration": 13,
    "start_time": "2024-04-13T17:46:40.128Z"
   },
   {
    "duration": 4,
    "start_time": "2024-04-13T17:46:40.142Z"
   },
   {
    "duration": 11,
    "start_time": "2024-04-13T17:46:40.147Z"
   },
   {
    "duration": 3,
    "start_time": "2024-04-13T17:46:40.160Z"
   },
   {
    "duration": 10,
    "start_time": "2024-04-13T17:46:40.164Z"
   },
   {
    "duration": 278,
    "start_time": "2024-04-13T17:46:40.175Z"
   },
   {
    "duration": 15,
    "start_time": "2024-04-13T17:46:40.454Z"
   },
   {
    "duration": 229,
    "start_time": "2024-04-13T17:46:40.470Z"
   },
   {
    "duration": 4,
    "start_time": "2024-04-13T17:46:40.700Z"
   },
   {
    "duration": 308,
    "start_time": "2024-04-13T17:46:40.705Z"
   },
   {
    "duration": 296,
    "start_time": "2024-04-13T17:46:41.014Z"
   },
   {
    "duration": 242,
    "start_time": "2024-04-13T17:46:41.311Z"
   },
   {
    "duration": 162,
    "start_time": "2024-04-13T17:46:41.557Z"
   },
   {
    "duration": 115,
    "start_time": "2024-04-13T17:46:41.721Z"
   },
   {
    "duration": 111,
    "start_time": "2024-04-13T17:46:41.838Z"
   },
   {
    "duration": 115,
    "start_time": "2024-04-13T17:46:41.951Z"
   },
   {
    "duration": 119,
    "start_time": "2024-04-13T17:46:42.067Z"
   },
   {
    "duration": 115,
    "start_time": "2024-04-13T17:46:42.187Z"
   },
   {
    "duration": 159,
    "start_time": "2024-04-13T17:46:42.303Z"
   },
   {
    "duration": 246,
    "start_time": "2024-04-13T17:46:42.463Z"
   },
   {
    "duration": 167,
    "start_time": "2024-04-13T17:46:42.710Z"
   },
   {
    "duration": 169,
    "start_time": "2024-04-13T17:46:42.878Z"
   },
   {
    "duration": 154,
    "start_time": "2024-04-13T17:46:43.048Z"
   },
   {
    "duration": 214,
    "start_time": "2024-04-13T17:46:43.203Z"
   },
   {
    "duration": 174,
    "start_time": "2024-04-13T17:46:43.418Z"
   },
   {
    "duration": 151,
    "start_time": "2024-04-13T17:46:43.593Z"
   },
   {
    "duration": 160,
    "start_time": "2024-04-13T17:46:43.746Z"
   },
   {
    "duration": 171,
    "start_time": "2024-04-13T17:46:43.908Z"
   },
   {
    "duration": 162,
    "start_time": "2024-04-13T17:46:44.084Z"
   },
   {
    "duration": 11,
    "start_time": "2024-04-13T17:46:44.247Z"
   },
   {
    "duration": 25,
    "start_time": "2024-04-13T17:46:44.260Z"
   },
   {
    "duration": 10,
    "start_time": "2024-04-13T17:46:44.286Z"
   },
   {
    "duration": 11,
    "start_time": "2024-04-13T17:46:44.298Z"
   },
   {
    "duration": 5,
    "start_time": "2024-04-13T19:10:46.093Z"
   },
   {
    "duration": 349,
    "start_time": "2024-04-13T19:11:44.891Z"
   },
   {
    "duration": 395,
    "start_time": "2024-04-13T19:14:02.853Z"
   },
   {
    "duration": 391,
    "start_time": "2024-04-13T19:14:31.112Z"
   },
   {
    "duration": 437,
    "start_time": "2024-04-13T19:17:27.601Z"
   },
   {
    "duration": 340,
    "start_time": "2024-04-13T19:18:30.314Z"
   },
   {
    "duration": 305,
    "start_time": "2024-04-13T19:18:32.344Z"
   },
   {
    "duration": 6,
    "start_time": "2024-04-13T19:20:56.733Z"
   },
   {
    "duration": 9,
    "start_time": "2024-04-13T19:21:23.737Z"
   },
   {
    "duration": 5,
    "start_time": "2024-04-13T19:21:27.041Z"
   },
   {
    "duration": 15,
    "start_time": "2024-04-13T19:21:38.643Z"
   },
   {
    "duration": 68,
    "start_time": "2024-04-13T19:34:37.187Z"
   },
   {
    "duration": 17,
    "start_time": "2024-04-13T19:34:38.671Z"
   },
   {
    "duration": 1052,
    "start_time": "2024-04-13T19:34:43.592Z"
   },
   {
    "duration": 64,
    "start_time": "2024-04-13T19:34:48.802Z"
   },
   {
    "duration": 28,
    "start_time": "2024-04-13T19:34:49.116Z"
   },
   {
    "duration": 17,
    "start_time": "2024-04-13T19:34:49.310Z"
   },
   {
    "duration": 34,
    "start_time": "2024-04-13T19:34:49.721Z"
   },
   {
    "duration": 4,
    "start_time": "2024-04-13T19:34:50.202Z"
   },
   {
    "duration": 15,
    "start_time": "2024-04-13T19:34:50.625Z"
   },
   {
    "duration": 11,
    "start_time": "2024-04-13T19:34:51.122Z"
   },
   {
    "duration": 8,
    "start_time": "2024-04-13T19:34:52.004Z"
   },
   {
    "duration": 6,
    "start_time": "2024-04-13T19:34:52.631Z"
   },
   {
    "duration": 16,
    "start_time": "2024-04-13T19:34:53.799Z"
   },
   {
    "duration": 15,
    "start_time": "2024-04-13T19:35:01.925Z"
   },
   {
    "duration": 79,
    "start_time": "2024-04-13T19:37:51.148Z"
   },
   {
    "duration": 908,
    "start_time": "2024-04-13T19:37:55.802Z"
   },
   {
    "duration": 905,
    "start_time": "2024-04-13T19:38:07.991Z"
   },
   {
    "duration": 13,
    "start_time": "2024-04-13T19:38:12.825Z"
   },
   {
    "duration": 11,
    "start_time": "2024-04-13T19:42:51.672Z"
   },
   {
    "duration": 18,
    "start_time": "2024-04-13T19:43:58.387Z"
   },
   {
    "duration": 18,
    "start_time": "2024-04-13T19:45:03.481Z"
   },
   {
    "duration": 9,
    "start_time": "2024-04-13T19:45:07.064Z"
   },
   {
    "duration": 18,
    "start_time": "2024-04-13T19:45:08.726Z"
   },
   {
    "duration": 25,
    "start_time": "2024-04-13T19:45:19.009Z"
   },
   {
    "duration": 14,
    "start_time": "2024-04-13T19:45:19.276Z"
   },
   {
    "duration": 31,
    "start_time": "2024-04-13T19:45:19.867Z"
   },
   {
    "duration": 4,
    "start_time": "2024-04-13T19:45:20.501Z"
   },
   {
    "duration": 13,
    "start_time": "2024-04-13T19:45:22.208Z"
   },
   {
    "duration": 11,
    "start_time": "2024-04-13T19:45:22.537Z"
   },
   {
    "duration": 9,
    "start_time": "2024-04-13T19:45:23.406Z"
   },
   {
    "duration": 4,
    "start_time": "2024-04-13T19:45:23.653Z"
   },
   {
    "duration": 18,
    "start_time": "2024-04-13T19:45:24.099Z"
   },
   {
    "duration": 13,
    "start_time": "2024-04-13T19:45:25.399Z"
   },
   {
    "duration": 17,
    "start_time": "2024-04-13T19:45:28.446Z"
   },
   {
    "duration": 3,
    "start_time": "2024-04-13T19:45:34.754Z"
   },
   {
    "duration": 64,
    "start_time": "2024-04-13T19:45:35.225Z"
   },
   {
    "duration": 22,
    "start_time": "2024-04-13T19:45:35.651Z"
   },
   {
    "duration": 20,
    "start_time": "2024-04-13T19:45:36.011Z"
   },
   {
    "duration": 29,
    "start_time": "2024-04-13T19:45:36.453Z"
   },
   {
    "duration": 4,
    "start_time": "2024-04-13T19:45:37.039Z"
   },
   {
    "duration": 10,
    "start_time": "2024-04-13T19:45:37.379Z"
   },
   {
    "duration": 11,
    "start_time": "2024-04-13T19:45:37.570Z"
   },
   {
    "duration": 12,
    "start_time": "2024-04-13T19:45:38.418Z"
   },
   {
    "duration": 4,
    "start_time": "2024-04-13T19:45:39.193Z"
   },
   {
    "duration": 21,
    "start_time": "2024-04-13T19:45:40.014Z"
   },
   {
    "duration": 27,
    "start_time": "2024-04-13T19:45:41.118Z"
   },
   {
    "duration": 21,
    "start_time": "2024-04-13T19:46:40.352Z"
   },
   {
    "duration": 9,
    "start_time": "2024-04-13T19:49:09.089Z"
   },
   {
    "duration": 21,
    "start_time": "2024-04-13T19:49:18.234Z"
   },
   {
    "duration": 27,
    "start_time": "2024-04-13T19:49:35.826Z"
   },
   {
    "duration": 20,
    "start_time": "2024-04-13T19:52:46.395Z"
   },
   {
    "duration": 19,
    "start_time": "2024-04-13T19:53:09.027Z"
   },
   {
    "duration": 22,
    "start_time": "2024-04-13T20:01:08.479Z"
   },
   {
    "duration": 22,
    "start_time": "2024-04-13T20:01:43.022Z"
   },
   {
    "duration": 10,
    "start_time": "2024-04-13T20:01:49.654Z"
   },
   {
    "duration": 3,
    "start_time": "2024-04-13T20:01:59.460Z"
   },
   {
    "duration": 3,
    "start_time": "2024-04-13T20:02:00.421Z"
   },
   {
    "duration": 21,
    "start_time": "2024-04-13T20:02:03.715Z"
   },
   {
    "duration": 23,
    "start_time": "2024-04-13T20:02:11.114Z"
   },
   {
    "duration": 22,
    "start_time": "2024-04-13T20:03:11.750Z"
   },
   {
    "duration": 22,
    "start_time": "2024-04-13T20:03:16.626Z"
   },
   {
    "duration": 3,
    "start_time": "2024-04-13T20:03:25.202Z"
   },
   {
    "duration": 58,
    "start_time": "2024-04-13T20:03:25.685Z"
   },
   {
    "duration": 15,
    "start_time": "2024-04-13T20:03:26.166Z"
   },
   {
    "duration": 15,
    "start_time": "2024-04-13T20:03:26.893Z"
   },
   {
    "duration": 29,
    "start_time": "2024-04-13T20:03:27.928Z"
   },
   {
    "duration": 3,
    "start_time": "2024-04-13T20:03:32.275Z"
   },
   {
    "duration": 10,
    "start_time": "2024-04-13T20:03:32.554Z"
   },
   {
    "duration": 10,
    "start_time": "2024-04-13T20:03:32.705Z"
   },
   {
    "duration": 8,
    "start_time": "2024-04-13T20:03:33.306Z"
   },
   {
    "duration": 3,
    "start_time": "2024-04-13T20:03:33.678Z"
   },
   {
    "duration": 24,
    "start_time": "2024-04-13T20:03:33.987Z"
   },
   {
    "duration": 21,
    "start_time": "2024-04-13T20:03:34.889Z"
   },
   {
    "duration": 6,
    "start_time": "2024-04-13T20:03:38.270Z"
   },
   {
    "duration": 6,
    "start_time": "2024-04-13T20:03:38.448Z"
   },
   {
    "duration": 5,
    "start_time": "2024-04-13T20:03:38.759Z"
   },
   {
    "duration": 21,
    "start_time": "2024-04-13T20:03:52.484Z"
   },
   {
    "duration": 4,
    "start_time": "2024-04-13T20:03:55.094Z"
   },
   {
    "duration": 4,
    "start_time": "2024-04-13T20:03:55.559Z"
   },
   {
    "duration": 20,
    "start_time": "2024-04-13T20:03:58.702Z"
   },
   {
    "duration": 20,
    "start_time": "2024-04-13T20:04:10.379Z"
   },
   {
    "duration": 5,
    "start_time": "2024-04-13T20:05:13.391Z"
   },
   {
    "duration": 4,
    "start_time": "2024-04-13T20:05:15.949Z"
   },
   {
    "duration": 3,
    "start_time": "2024-04-13T20:05:29.020Z"
   },
   {
    "duration": 3,
    "start_time": "2024-04-13T20:05:29.386Z"
   },
   {
    "duration": 19,
    "start_time": "2024-04-13T20:05:29.947Z"
   },
   {
    "duration": 21,
    "start_time": "2024-04-13T20:05:55.194Z"
   },
   {
    "duration": 23,
    "start_time": "2024-04-13T20:07:28.268Z"
   },
   {
    "duration": 3,
    "start_time": "2024-04-13T20:07:28.481Z"
   },
   {
    "duration": 4,
    "start_time": "2024-04-13T20:07:28.903Z"
   },
   {
    "duration": 21,
    "start_time": "2024-04-13T20:07:32.461Z"
   },
   {
    "duration": 23,
    "start_time": "2024-04-13T20:07:54.172Z"
   },
   {
    "duration": 5,
    "start_time": "2024-04-13T20:09:09.671Z"
   },
   {
    "duration": 19,
    "start_time": "2024-04-13T20:11:27.621Z"
   },
   {
    "duration": 1200,
    "start_time": "2024-04-13T20:11:36.247Z"
   },
   {
    "duration": 60,
    "start_time": "2024-04-13T20:11:37.449Z"
   },
   {
    "duration": 21,
    "start_time": "2024-04-13T20:11:37.510Z"
   },
   {
    "duration": 15,
    "start_time": "2024-04-13T20:11:37.533Z"
   },
   {
    "duration": 36,
    "start_time": "2024-04-13T20:11:37.550Z"
   },
   {
    "duration": 4,
    "start_time": "2024-04-13T20:11:37.587Z"
   },
   {
    "duration": 30,
    "start_time": "2024-04-13T20:11:37.592Z"
   },
   {
    "duration": 10,
    "start_time": "2024-04-13T20:11:37.623Z"
   },
   {
    "duration": 9,
    "start_time": "2024-04-13T20:11:37.634Z"
   },
   {
    "duration": 3,
    "start_time": "2024-04-13T20:11:37.646Z"
   },
   {
    "duration": 19,
    "start_time": "2024-04-13T20:11:37.650Z"
   },
   {
    "duration": 45,
    "start_time": "2024-04-13T20:11:37.670Z"
   },
   {
    "duration": 5,
    "start_time": "2024-04-13T20:11:37.716Z"
   },
   {
    "duration": 8,
    "start_time": "2024-04-13T20:11:37.722Z"
   },
   {
    "duration": 9,
    "start_time": "2024-04-13T20:11:37.732Z"
   },
   {
    "duration": 6,
    "start_time": "2024-04-13T20:11:37.743Z"
   },
   {
    "duration": 14,
    "start_time": "2024-04-13T20:11:37.750Z"
   },
   {
    "duration": 4,
    "start_time": "2024-04-13T20:11:37.766Z"
   },
   {
    "duration": 44,
    "start_time": "2024-04-13T20:11:37.771Z"
   },
   {
    "duration": 11,
    "start_time": "2024-04-13T20:11:37.818Z"
   },
   {
    "duration": 6,
    "start_time": "2024-04-13T20:11:37.830Z"
   },
   {
    "duration": 21,
    "start_time": "2024-04-13T20:11:37.838Z"
   },
   {
    "duration": 17,
    "start_time": "2024-04-13T20:11:37.861Z"
   },
   {
    "duration": 17,
    "start_time": "2024-04-13T20:11:37.880Z"
   },
   {
    "duration": 8,
    "start_time": "2024-04-13T20:11:37.899Z"
   },
   {
    "duration": 10,
    "start_time": "2024-04-13T20:11:37.909Z"
   },
   {
    "duration": 418,
    "start_time": "2024-04-13T20:11:37.921Z"
   },
   {
    "duration": 21,
    "start_time": "2024-04-13T20:11:38.343Z"
   },
   {
    "duration": 345,
    "start_time": "2024-04-13T20:11:38.365Z"
   },
   {
    "duration": 4,
    "start_time": "2024-04-13T20:11:38.714Z"
   },
   {
    "duration": 371,
    "start_time": "2024-04-13T20:11:38.720Z"
   },
   {
    "duration": 408,
    "start_time": "2024-04-13T20:11:39.093Z"
   },
   {
    "duration": 336,
    "start_time": "2024-04-13T20:11:39.503Z"
   },
   {
    "duration": 239,
    "start_time": "2024-04-13T20:11:39.841Z"
   },
   {
    "duration": 166,
    "start_time": "2024-04-13T20:11:40.082Z"
   },
   {
    "duration": 157,
    "start_time": "2024-04-13T20:11:40.249Z"
   },
   {
    "duration": 160,
    "start_time": "2024-04-13T20:11:40.414Z"
   },
   {
    "duration": 151,
    "start_time": "2024-04-13T20:11:40.575Z"
   },
   {
    "duration": 157,
    "start_time": "2024-04-13T20:11:40.727Z"
   },
   {
    "duration": 230,
    "start_time": "2024-04-13T20:11:40.885Z"
   },
   {
    "duration": 324,
    "start_time": "2024-04-13T20:11:41.117Z"
   },
   {
    "duration": 210,
    "start_time": "2024-04-13T20:11:41.442Z"
   },
   {
    "duration": 225,
    "start_time": "2024-04-13T20:11:41.653Z"
   },
   {
    "duration": 193,
    "start_time": "2024-04-13T20:11:41.880Z"
   },
   {
    "duration": 294,
    "start_time": "2024-04-13T20:11:42.075Z"
   },
   {
    "duration": 229,
    "start_time": "2024-04-13T20:11:42.371Z"
   },
   {
    "duration": 220,
    "start_time": "2024-04-13T20:11:42.602Z"
   },
   {
    "duration": 227,
    "start_time": "2024-04-13T20:11:42.825Z"
   },
   {
    "duration": 225,
    "start_time": "2024-04-13T20:11:43.054Z"
   },
   {
    "duration": 205,
    "start_time": "2024-04-13T20:11:43.281Z"
   },
   {
    "duration": 14,
    "start_time": "2024-04-13T20:11:43.487Z"
   },
   {
    "duration": 14,
    "start_time": "2024-04-13T20:11:43.515Z"
   },
   {
    "duration": 13,
    "start_time": "2024-04-13T20:11:43.530Z"
   },
   {
    "duration": 16,
    "start_time": "2024-04-13T20:11:43.544Z"
   },
   {
    "duration": 351,
    "start_time": "2024-04-13T20:12:15.145Z"
   },
   {
    "duration": 300,
    "start_time": "2024-04-13T20:20:31.797Z"
   },
   {
    "duration": 56,
    "start_time": "2024-04-13T20:21:37.385Z"
   },
   {
    "duration": 33,
    "start_time": "2024-04-13T20:21:59.271Z"
   },
   {
    "duration": 158,
    "start_time": "2024-04-13T20:22:15.553Z"
   },
   {
    "duration": 152,
    "start_time": "2024-04-13T20:22:19.273Z"
   },
   {
    "duration": 309,
    "start_time": "2024-04-13T20:23:07.508Z"
   },
   {
    "duration": 251,
    "start_time": "2024-04-13T20:23:14.331Z"
   },
   {
    "duration": 378,
    "start_time": "2024-04-13T20:23:50.943Z"
   },
   {
    "duration": 123,
    "start_time": "2024-04-13T20:26:56.132Z"
   },
   {
    "duration": 344,
    "start_time": "2024-04-13T20:27:10.545Z"
   },
   {
    "duration": 291,
    "start_time": "2024-04-13T20:27:21.291Z"
   },
   {
    "duration": 272,
    "start_time": "2024-04-13T20:27:28.882Z"
   },
   {
    "duration": 328,
    "start_time": "2024-04-13T20:28:26.086Z"
   },
   {
    "duration": 518,
    "start_time": "2024-04-13T20:28:35.827Z"
   },
   {
    "duration": 356,
    "start_time": "2024-04-13T20:30:59.876Z"
   },
   {
    "duration": 16,
    "start_time": "2024-04-13T20:31:11.386Z"
   },
   {
    "duration": 364,
    "start_time": "2024-04-13T20:31:17.415Z"
   },
   {
    "duration": 354,
    "start_time": "2024-04-13T20:31:53.038Z"
   },
   {
    "duration": 378,
    "start_time": "2024-04-13T20:32:43.571Z"
   },
   {
    "duration": 16,
    "start_time": "2024-04-13T20:32:50.179Z"
   },
   {
    "duration": 386,
    "start_time": "2024-04-13T20:32:56.770Z"
   },
   {
    "duration": 399,
    "start_time": "2024-04-13T20:33:02.901Z"
   },
   {
    "duration": 268,
    "start_time": "2024-04-13T20:33:36.218Z"
   },
   {
    "duration": 408,
    "start_time": "2024-04-13T20:33:39.026Z"
   },
   {
    "duration": 21,
    "start_time": "2024-04-13T20:34:45.763Z"
   },
   {
    "duration": 432,
    "start_time": "2024-04-13T20:34:54.526Z"
   },
   {
    "duration": 302,
    "start_time": "2024-04-13T20:35:42.146Z"
   },
   {
    "duration": 172,
    "start_time": "2024-04-13T20:36:51.367Z"
   },
   {
    "duration": 176,
    "start_time": "2024-04-13T20:37:04.840Z"
   },
   {
    "duration": 170,
    "start_time": "2024-04-13T20:37:11.778Z"
   },
   {
    "duration": 174,
    "start_time": "2024-04-13T20:37:15.330Z"
   },
   {
    "duration": 183,
    "start_time": "2024-04-13T20:37:42.894Z"
   },
   {
    "duration": 207,
    "start_time": "2024-04-13T20:37:51.690Z"
   },
   {
    "duration": 412,
    "start_time": "2024-04-13T20:37:57.014Z"
   },
   {
    "duration": 581,
    "start_time": "2024-04-13T20:38:16.608Z"
   },
   {
    "duration": 443,
    "start_time": "2024-04-13T20:38:22.098Z"
   },
   {
    "duration": 476,
    "start_time": "2024-04-13T20:38:35.707Z"
   },
   {
    "duration": 530,
    "start_time": "2024-04-13T20:38:39.958Z"
   },
   {
    "duration": 440,
    "start_time": "2024-04-13T20:39:46.720Z"
   },
   {
    "duration": 338,
    "start_time": "2024-04-13T20:40:06.898Z"
   },
   {
    "duration": 85,
    "start_time": "2024-04-13T20:40:14.314Z"
   },
   {
    "duration": 223,
    "start_time": "2024-04-13T20:40:17.614Z"
   },
   {
    "duration": 338,
    "start_time": "2024-04-13T20:40:29.923Z"
   },
   {
    "duration": 275,
    "start_time": "2024-04-13T20:41:19.177Z"
   },
   {
    "duration": 281,
    "start_time": "2024-04-13T20:41:27.106Z"
   },
   {
    "duration": 286,
    "start_time": "2024-04-13T20:41:34.371Z"
   },
   {
    "duration": 281,
    "start_time": "2024-04-13T20:42:33.252Z"
   },
   {
    "duration": 298,
    "start_time": "2024-04-13T20:42:41.089Z"
   },
   {
    "duration": 296,
    "start_time": "2024-04-13T20:43:22.399Z"
   },
   {
    "duration": 59,
    "start_time": "2024-04-13T20:43:45.035Z"
   },
   {
    "duration": 296,
    "start_time": "2024-04-13T20:43:56.128Z"
   },
   {
    "duration": 298,
    "start_time": "2024-04-13T20:44:45.960Z"
   },
   {
    "duration": 301,
    "start_time": "2024-04-13T20:45:50.545Z"
   },
   {
    "duration": 305,
    "start_time": "2024-04-13T20:46:15.647Z"
   },
   {
    "duration": 437,
    "start_time": "2024-04-13T20:46:54.790Z"
   },
   {
    "duration": 302,
    "start_time": "2024-04-13T20:47:36.987Z"
   },
   {
    "duration": 310,
    "start_time": "2024-04-13T20:48:18.722Z"
   },
   {
    "duration": 290,
    "start_time": "2024-04-13T20:48:24.943Z"
   },
   {
    "duration": 9,
    "start_time": "2024-04-13T20:50:08.435Z"
   },
   {
    "duration": 8,
    "start_time": "2024-04-13T20:50:18.357Z"
   },
   {
    "duration": 8,
    "start_time": "2024-04-13T20:50:19.414Z"
   },
   {
    "duration": 10,
    "start_time": "2024-04-13T20:50:49.410Z"
   },
   {
    "duration": 12,
    "start_time": "2024-04-13T20:51:28.810Z"
   },
   {
    "duration": 11,
    "start_time": "2024-04-13T20:51:35.309Z"
   },
   {
    "duration": 13,
    "start_time": "2024-04-13T20:52:08.774Z"
   },
   {
    "duration": 11,
    "start_time": "2024-04-13T20:52:30.596Z"
   },
   {
    "duration": 11,
    "start_time": "2024-04-13T20:52:50.702Z"
   },
   {
    "duration": 12,
    "start_time": "2024-04-13T20:53:12.269Z"
   },
   {
    "duration": 11,
    "start_time": "2024-04-13T20:54:09.643Z"
   },
   {
    "duration": 52,
    "start_time": "2024-04-13T20:54:41.850Z"
   },
   {
    "duration": 346,
    "start_time": "2024-04-13T20:55:37.772Z"
   },
   {
    "duration": 217,
    "start_time": "2024-04-13T20:56:00.359Z"
   },
   {
    "duration": 256,
    "start_time": "2024-04-13T20:56:02.817Z"
   },
   {
    "duration": 204,
    "start_time": "2024-04-13T20:56:31.004Z"
   },
   {
    "duration": 57,
    "start_time": "2024-04-13T20:57:19.860Z"
   },
   {
    "duration": 308,
    "start_time": "2024-04-13T20:57:24.120Z"
   },
   {
    "duration": 293,
    "start_time": "2024-04-13T20:57:26.386Z"
   },
   {
    "duration": 171,
    "start_time": "2024-04-13T20:58:04.996Z"
   },
   {
    "duration": 329,
    "start_time": "2024-04-13T20:58:07.315Z"
   },
   {
    "duration": 546,
    "start_time": "2024-04-13T20:58:11.574Z"
   },
   {
    "duration": 521,
    "start_time": "2024-04-13T20:58:35.339Z"
   },
   {
    "duration": 525,
    "start_time": "2024-04-13T20:58:49.321Z"
   },
   {
    "duration": 531,
    "start_time": "2024-04-13T20:59:27.035Z"
   },
   {
    "duration": 553,
    "start_time": "2024-04-13T20:59:45.442Z"
   },
   {
    "duration": 578,
    "start_time": "2024-04-13T21:00:09.878Z"
   },
   {
    "duration": 274,
    "start_time": "2024-04-13T21:00:34.401Z"
   },
   {
    "duration": 672,
    "start_time": "2024-04-13T21:00:42.964Z"
   },
   {
    "duration": 556,
    "start_time": "2024-04-13T21:00:58.404Z"
   },
   {
    "duration": 531,
    "start_time": "2024-04-13T21:01:20.258Z"
   },
   {
    "duration": 16,
    "start_time": "2024-04-13T21:06:31.629Z"
   },
   {
    "duration": 14,
    "start_time": "2024-04-13T21:06:46.144Z"
   },
   {
    "duration": 10,
    "start_time": "2024-04-13T21:06:47.770Z"
   },
   {
    "duration": 11,
    "start_time": "2024-04-13T21:07:00.760Z"
   },
   {
    "duration": 10,
    "start_time": "2024-04-13T21:07:30.647Z"
   },
   {
    "duration": 11,
    "start_time": "2024-04-13T21:07:40.728Z"
   },
   {
    "duration": 10,
    "start_time": "2024-04-13T21:07:46.575Z"
   },
   {
    "duration": 12,
    "start_time": "2024-04-13T21:07:56.429Z"
   },
   {
    "duration": 1181,
    "start_time": "2024-04-13T21:08:14.360Z"
   },
   {
    "duration": 56,
    "start_time": "2024-04-13T21:08:15.543Z"
   },
   {
    "duration": 20,
    "start_time": "2024-04-13T21:08:15.601Z"
   },
   {
    "duration": 22,
    "start_time": "2024-04-13T21:08:15.623Z"
   },
   {
    "duration": 31,
    "start_time": "2024-04-13T21:08:15.647Z"
   },
   {
    "duration": 10,
    "start_time": "2024-04-13T21:08:15.680Z"
   },
   {
    "duration": 38,
    "start_time": "2024-04-13T21:08:15.692Z"
   },
   {
    "duration": 21,
    "start_time": "2024-04-13T21:08:15.732Z"
   },
   {
    "duration": 19,
    "start_time": "2024-04-13T21:08:15.754Z"
   },
   {
    "duration": 28,
    "start_time": "2024-04-13T21:08:15.775Z"
   },
   {
    "duration": 32,
    "start_time": "2024-04-13T21:08:15.805Z"
   },
   {
    "duration": 22,
    "start_time": "2024-04-13T21:08:15.839Z"
   },
   {
    "duration": 7,
    "start_time": "2024-04-13T21:08:15.863Z"
   },
   {
    "duration": 8,
    "start_time": "2024-04-13T21:08:15.871Z"
   },
   {
    "duration": 19,
    "start_time": "2024-04-13T21:08:15.881Z"
   },
   {
    "duration": 14,
    "start_time": "2024-04-13T21:08:15.901Z"
   },
   {
    "duration": 5,
    "start_time": "2024-04-13T21:08:15.916Z"
   },
   {
    "duration": 12,
    "start_time": "2024-04-13T21:08:15.923Z"
   },
   {
    "duration": 21,
    "start_time": "2024-04-13T21:08:15.937Z"
   },
   {
    "duration": 25,
    "start_time": "2024-04-13T21:08:15.959Z"
   },
   {
    "duration": 7,
    "start_time": "2024-04-13T21:08:15.986Z"
   },
   {
    "duration": 7,
    "start_time": "2024-04-13T21:08:15.994Z"
   },
   {
    "duration": 15,
    "start_time": "2024-04-13T21:08:16.003Z"
   },
   {
    "duration": 3,
    "start_time": "2024-04-13T21:08:16.020Z"
   },
   {
    "duration": 7,
    "start_time": "2024-04-13T21:08:16.025Z"
   },
   {
    "duration": 5,
    "start_time": "2024-04-13T21:08:16.034Z"
   },
   {
    "duration": 398,
    "start_time": "2024-04-13T21:08:16.040Z"
   },
   {
    "duration": 19,
    "start_time": "2024-04-13T21:08:16.441Z"
   },
   {
    "duration": 320,
    "start_time": "2024-04-13T21:08:16.462Z"
   },
   {
    "duration": 4,
    "start_time": "2024-04-13T21:08:16.783Z"
   },
   {
    "duration": 385,
    "start_time": "2024-04-13T21:08:16.788Z"
   },
   {
    "duration": 372,
    "start_time": "2024-04-13T21:08:17.175Z"
   },
   {
    "duration": 316,
    "start_time": "2024-04-13T21:08:17.549Z"
   },
   {
    "duration": 402,
    "start_time": "2024-04-13T21:08:17.866Z"
   },
   {
    "duration": 12,
    "start_time": "2024-04-13T21:08:18.269Z"
   },
   {
    "duration": 326,
    "start_time": "2024-04-13T21:08:18.282Z"
   },
   {
    "duration": 16,
    "start_time": "2024-04-13T21:08:18.610Z"
   },
   {
    "duration": 328,
    "start_time": "2024-04-13T21:08:18.627Z"
   },
   {
    "duration": 12,
    "start_time": "2024-04-13T21:08:18.957Z"
   },
   {
    "duration": 327,
    "start_time": "2024-04-13T21:08:18.970Z"
   },
   {
    "duration": 24,
    "start_time": "2024-04-13T21:08:19.299Z"
   },
   {
    "duration": 304,
    "start_time": "2024-04-13T21:08:19.325Z"
   },
   {
    "duration": 12,
    "start_time": "2024-04-13T21:08:19.630Z"
   },
   {
    "duration": 205,
    "start_time": "2024-04-13T21:08:19.643Z"
   },
   {
    "duration": 348,
    "start_time": "2024-04-13T21:08:19.850Z"
   },
   {
    "duration": 554,
    "start_time": "2024-04-13T21:08:20.200Z"
   },
   {
    "duration": 243,
    "start_time": "2024-04-13T21:08:20.756Z"
   },
   {
    "duration": 290,
    "start_time": "2024-04-13T21:08:21.000Z"
   },
   {
    "duration": 231,
    "start_time": "2024-04-13T21:08:21.292Z"
   },
   {
    "duration": 235,
    "start_time": "2024-04-13T21:08:21.524Z"
   },
   {
    "duration": 198,
    "start_time": "2024-04-13T21:08:21.761Z"
   },
   {
    "duration": 224,
    "start_time": "2024-04-13T21:08:21.961Z"
   },
   {
    "duration": 237,
    "start_time": "2024-04-13T21:08:22.186Z"
   },
   {
    "duration": 196,
    "start_time": "2024-04-13T21:08:22.424Z"
   },
   {
    "duration": 13,
    "start_time": "2024-04-13T21:08:22.622Z"
   },
   {
    "duration": 13,
    "start_time": "2024-04-13T21:08:22.637Z"
   },
   {
    "duration": 12,
    "start_time": "2024-04-13T21:08:22.651Z"
   },
   {
    "duration": 13,
    "start_time": "2024-04-13T21:08:22.665Z"
   },
   {
    "duration": 11,
    "start_time": "2024-04-13T21:09:38.148Z"
   },
   {
    "duration": 110,
    "start_time": "2024-04-13T21:10:29.081Z"
   },
   {
    "duration": 10,
    "start_time": "2024-04-13T21:10:36.216Z"
   },
   {
    "duration": 5,
    "start_time": "2024-04-13T21:10:40.045Z"
   },
   {
    "duration": 4,
    "start_time": "2024-04-13T21:11:00.829Z"
   },
   {
    "duration": 16,
    "start_time": "2024-04-13T21:11:07.274Z"
   },
   {
    "duration": 21,
    "start_time": "2024-04-13T21:11:19.685Z"
   },
   {
    "duration": 177,
    "start_time": "2024-04-13T21:14:42.553Z"
   },
   {
    "duration": 17,
    "start_time": "2024-04-13T21:14:47.478Z"
   },
   {
    "duration": 17,
    "start_time": "2024-04-13T21:15:01.602Z"
   },
   {
    "duration": 16,
    "start_time": "2024-04-13T21:15:15.632Z"
   },
   {
    "duration": 11,
    "start_time": "2024-04-13T21:17:52.136Z"
   },
   {
    "duration": 23,
    "start_time": "2024-04-13T21:19:21.045Z"
   },
   {
    "duration": 18,
    "start_time": "2024-04-13T21:19:31.882Z"
   },
   {
    "duration": 19,
    "start_time": "2024-04-13T21:19:34.461Z"
   },
   {
    "duration": 22,
    "start_time": "2024-04-13T21:23:40.908Z"
   },
   {
    "duration": 18,
    "start_time": "2024-04-13T21:24:34.221Z"
   },
   {
    "duration": 13,
    "start_time": "2024-04-13T21:25:21.010Z"
   },
   {
    "duration": 13,
    "start_time": "2024-04-13T21:26:09.261Z"
   },
   {
    "duration": 21,
    "start_time": "2024-04-13T21:26:37.800Z"
   },
   {
    "duration": 1209,
    "start_time": "2024-04-13T21:26:47.325Z"
   },
   {
    "duration": 57,
    "start_time": "2024-04-13T21:26:48.536Z"
   },
   {
    "duration": 20,
    "start_time": "2024-04-13T21:26:48.595Z"
   },
   {
    "duration": 22,
    "start_time": "2024-04-13T21:26:48.617Z"
   },
   {
    "duration": 43,
    "start_time": "2024-04-13T21:26:48.641Z"
   },
   {
    "duration": 3,
    "start_time": "2024-04-13T21:26:48.686Z"
   },
   {
    "duration": 15,
    "start_time": "2024-04-13T21:26:48.691Z"
   },
   {
    "duration": 15,
    "start_time": "2024-04-13T21:26:48.708Z"
   },
   {
    "duration": 18,
    "start_time": "2024-04-13T21:26:48.724Z"
   },
   {
    "duration": 4,
    "start_time": "2024-04-13T21:26:48.744Z"
   },
   {
    "duration": 22,
    "start_time": "2024-04-13T21:26:48.750Z"
   },
   {
    "duration": 22,
    "start_time": "2024-04-13T21:26:48.774Z"
   },
   {
    "duration": 20,
    "start_time": "2024-04-13T21:26:48.797Z"
   },
   {
    "duration": 9,
    "start_time": "2024-04-13T21:26:48.820Z"
   },
   {
    "duration": 13,
    "start_time": "2024-04-13T21:26:48.830Z"
   },
   {
    "duration": 120,
    "start_time": "2024-04-13T21:26:48.845Z"
   },
   {
    "duration": 0,
    "start_time": "2024-04-13T21:26:48.968Z"
   },
   {
    "duration": 0,
    "start_time": "2024-04-13T21:26:48.969Z"
   },
   {
    "duration": 0,
    "start_time": "2024-04-13T21:26:48.970Z"
   },
   {
    "duration": 0,
    "start_time": "2024-04-13T21:26:48.970Z"
   },
   {
    "duration": 0,
    "start_time": "2024-04-13T21:26:48.971Z"
   },
   {
    "duration": 0,
    "start_time": "2024-04-13T21:26:48.972Z"
   },
   {
    "duration": 0,
    "start_time": "2024-04-13T21:26:48.973Z"
   },
   {
    "duration": 0,
    "start_time": "2024-04-13T21:26:48.974Z"
   },
   {
    "duration": 0,
    "start_time": "2024-04-13T21:26:48.975Z"
   },
   {
    "duration": 0,
    "start_time": "2024-04-13T21:26:48.976Z"
   },
   {
    "duration": 0,
    "start_time": "2024-04-13T21:26:48.977Z"
   },
   {
    "duration": 0,
    "start_time": "2024-04-13T21:26:48.978Z"
   },
   {
    "duration": 0,
    "start_time": "2024-04-13T21:26:48.979Z"
   },
   {
    "duration": 0,
    "start_time": "2024-04-13T21:26:48.980Z"
   },
   {
    "duration": 0,
    "start_time": "2024-04-13T21:26:48.981Z"
   },
   {
    "duration": 0,
    "start_time": "2024-04-13T21:26:48.982Z"
   },
   {
    "duration": 0,
    "start_time": "2024-04-13T21:26:48.984Z"
   },
   {
    "duration": 0,
    "start_time": "2024-04-13T21:26:48.985Z"
   },
   {
    "duration": 0,
    "start_time": "2024-04-13T21:26:49.015Z"
   },
   {
    "duration": 0,
    "start_time": "2024-04-13T21:26:49.016Z"
   },
   {
    "duration": 0,
    "start_time": "2024-04-13T21:26:49.017Z"
   },
   {
    "duration": 0,
    "start_time": "2024-04-13T21:26:49.018Z"
   },
   {
    "duration": 0,
    "start_time": "2024-04-13T21:26:49.019Z"
   },
   {
    "duration": 0,
    "start_time": "2024-04-13T21:26:49.021Z"
   },
   {
    "duration": 0,
    "start_time": "2024-04-13T21:26:49.021Z"
   },
   {
    "duration": 0,
    "start_time": "2024-04-13T21:26:49.023Z"
   },
   {
    "duration": 0,
    "start_time": "2024-04-13T21:26:49.024Z"
   },
   {
    "duration": 0,
    "start_time": "2024-04-13T21:26:49.025Z"
   },
   {
    "duration": 0,
    "start_time": "2024-04-13T21:26:49.026Z"
   },
   {
    "duration": 0,
    "start_time": "2024-04-13T21:26:49.027Z"
   },
   {
    "duration": 0,
    "start_time": "2024-04-13T21:26:49.028Z"
   },
   {
    "duration": 0,
    "start_time": "2024-04-13T21:26:49.029Z"
   },
   {
    "duration": 0,
    "start_time": "2024-04-13T21:26:49.030Z"
   },
   {
    "duration": 0,
    "start_time": "2024-04-13T21:26:49.031Z"
   },
   {
    "duration": 0,
    "start_time": "2024-04-13T21:26:49.032Z"
   },
   {
    "duration": 0,
    "start_time": "2024-04-13T21:26:49.033Z"
   },
   {
    "duration": 0,
    "start_time": "2024-04-13T21:26:49.034Z"
   },
   {
    "duration": 0,
    "start_time": "2024-04-13T21:26:49.035Z"
   },
   {
    "duration": 0,
    "start_time": "2024-04-13T21:26:49.036Z"
   },
   {
    "duration": 0,
    "start_time": "2024-04-13T21:26:49.038Z"
   },
   {
    "duration": 0,
    "start_time": "2024-04-13T21:26:49.039Z"
   },
   {
    "duration": 0,
    "start_time": "2024-04-13T21:26:49.039Z"
   },
   {
    "duration": 0,
    "start_time": "2024-04-13T21:26:49.040Z"
   },
   {
    "duration": 0,
    "start_time": "2024-04-13T21:26:49.041Z"
   },
   {
    "duration": 0,
    "start_time": "2024-04-13T21:26:49.042Z"
   },
   {
    "duration": 15,
    "start_time": "2024-04-13T21:27:07.800Z"
   },
   {
    "duration": 15,
    "start_time": "2024-04-13T21:27:17.031Z"
   },
   {
    "duration": 3,
    "start_time": "2024-04-13T21:28:15.606Z"
   },
   {
    "duration": 20,
    "start_time": "2024-04-13T21:28:17.180Z"
   },
   {
    "duration": 1179,
    "start_time": "2024-04-13T21:28:26.042Z"
   },
   {
    "duration": 58,
    "start_time": "2024-04-13T21:28:27.223Z"
   },
   {
    "duration": 21,
    "start_time": "2024-04-13T21:28:27.282Z"
   },
   {
    "duration": 15,
    "start_time": "2024-04-13T21:28:27.305Z"
   },
   {
    "duration": 28,
    "start_time": "2024-04-13T21:28:27.322Z"
   },
   {
    "duration": 4,
    "start_time": "2024-04-13T21:28:27.352Z"
   },
   {
    "duration": 11,
    "start_time": "2024-04-13T21:28:27.357Z"
   },
   {
    "duration": 11,
    "start_time": "2024-04-13T21:28:27.370Z"
   },
   {
    "duration": 37,
    "start_time": "2024-04-13T21:28:27.383Z"
   },
   {
    "duration": 3,
    "start_time": "2024-04-13T21:28:27.422Z"
   },
   {
    "duration": 23,
    "start_time": "2024-04-13T21:28:27.426Z"
   },
   {
    "duration": 20,
    "start_time": "2024-04-13T21:28:27.451Z"
   },
   {
    "duration": 5,
    "start_time": "2024-04-13T21:28:27.473Z"
   },
   {
    "duration": 7,
    "start_time": "2024-04-13T21:28:27.480Z"
   },
   {
    "duration": 30,
    "start_time": "2024-04-13T21:28:27.489Z"
   },
   {
    "duration": 22,
    "start_time": "2024-04-13T21:28:27.520Z"
   },
   {
    "duration": 17,
    "start_time": "2024-04-13T21:28:27.543Z"
   },
   {
    "duration": 4,
    "start_time": "2024-04-13T21:28:27.562Z"
   },
   {
    "duration": 4,
    "start_time": "2024-04-13T21:28:27.567Z"
   },
   {
    "duration": 4,
    "start_time": "2024-04-13T21:28:27.572Z"
   },
   {
    "duration": 54,
    "start_time": "2024-04-13T21:28:27.577Z"
   },
   {
    "duration": 10,
    "start_time": "2024-04-13T21:28:27.633Z"
   },
   {
    "duration": 20,
    "start_time": "2024-04-13T21:28:27.644Z"
   },
   {
    "duration": 6,
    "start_time": "2024-04-13T21:28:27.666Z"
   },
   {
    "duration": 8,
    "start_time": "2024-04-13T21:28:27.673Z"
   },
   {
    "duration": 40,
    "start_time": "2024-04-13T21:28:27.682Z"
   },
   {
    "duration": 5,
    "start_time": "2024-04-13T21:28:27.724Z"
   },
   {
    "duration": 12,
    "start_time": "2024-04-13T21:28:27.730Z"
   },
   {
    "duration": 5,
    "start_time": "2024-04-13T21:28:27.743Z"
   },
   {
    "duration": 411,
    "start_time": "2024-04-13T21:28:27.750Z"
   },
   {
    "duration": 28,
    "start_time": "2024-04-13T21:28:28.163Z"
   },
   {
    "duration": 330,
    "start_time": "2024-04-13T21:28:28.193Z"
   },
   {
    "duration": 4,
    "start_time": "2024-04-13T21:28:28.525Z"
   },
   {
    "duration": 395,
    "start_time": "2024-04-13T21:28:28.530Z"
   },
   {
    "duration": 375,
    "start_time": "2024-04-13T21:28:28.927Z"
   },
   {
    "duration": 339,
    "start_time": "2024-04-13T21:28:29.304Z"
   },
   {
    "duration": 387,
    "start_time": "2024-04-13T21:28:29.644Z"
   },
   {
    "duration": 12,
    "start_time": "2024-04-13T21:28:30.032Z"
   },
   {
    "duration": 333,
    "start_time": "2024-04-13T21:28:30.045Z"
   },
   {
    "duration": 11,
    "start_time": "2024-04-13T21:28:30.380Z"
   },
   {
    "duration": 368,
    "start_time": "2024-04-13T21:28:30.395Z"
   },
   {
    "duration": 12,
    "start_time": "2024-04-13T21:28:30.764Z"
   },
   {
    "duration": 344,
    "start_time": "2024-04-13T21:28:30.778Z"
   },
   {
    "duration": 12,
    "start_time": "2024-04-13T21:28:31.124Z"
   },
   {
    "duration": 386,
    "start_time": "2024-04-13T21:28:31.137Z"
   },
   {
    "duration": 12,
    "start_time": "2024-04-13T21:28:31.525Z"
   },
   {
    "duration": 222,
    "start_time": "2024-04-13T21:28:31.539Z"
   },
   {
    "duration": 329,
    "start_time": "2024-04-13T21:28:31.763Z"
   },
   {
    "duration": 538,
    "start_time": "2024-04-13T21:28:32.093Z"
   },
   {
    "duration": 238,
    "start_time": "2024-04-13T21:28:32.633Z"
   },
   {
    "duration": 294,
    "start_time": "2024-04-13T21:28:32.872Z"
   },
   {
    "duration": 222,
    "start_time": "2024-04-13T21:28:33.167Z"
   },
   {
    "duration": 226,
    "start_time": "2024-04-13T21:28:33.391Z"
   },
   {
    "duration": 194,
    "start_time": "2024-04-13T21:28:33.619Z"
   },
   {
    "duration": 213,
    "start_time": "2024-04-13T21:28:33.815Z"
   },
   {
    "duration": 249,
    "start_time": "2024-04-13T21:28:34.029Z"
   },
   {
    "duration": 212,
    "start_time": "2024-04-13T21:28:34.280Z"
   },
   {
    "duration": 13,
    "start_time": "2024-04-13T21:28:34.494Z"
   },
   {
    "duration": 15,
    "start_time": "2024-04-13T21:28:34.515Z"
   },
   {
    "duration": 13,
    "start_time": "2024-04-13T21:28:34.532Z"
   },
   {
    "duration": 25,
    "start_time": "2024-04-13T21:28:34.547Z"
   },
   {
    "duration": 38,
    "start_time": "2024-04-13T21:29:44.513Z"
   },
   {
    "duration": 5,
    "start_time": "2024-04-13T21:30:04.070Z"
   },
   {
    "duration": 5,
    "start_time": "2024-04-13T21:30:27.550Z"
   },
   {
    "duration": 5,
    "start_time": "2024-04-13T21:35:06.183Z"
   },
   {
    "duration": 5,
    "start_time": "2024-04-13T21:35:09.606Z"
   },
   {
    "duration": 18,
    "start_time": "2024-04-13T21:35:13.301Z"
   },
   {
    "duration": 533,
    "start_time": "2024-04-13T21:35:34.165Z"
   },
   {
    "duration": 1159,
    "start_time": "2024-04-13T21:35:39.392Z"
   },
   {
    "duration": 58,
    "start_time": "2024-04-13T21:35:40.553Z"
   },
   {
    "duration": 20,
    "start_time": "2024-04-13T21:35:40.613Z"
   },
   {
    "duration": 14,
    "start_time": "2024-04-13T21:35:40.635Z"
   },
   {
    "duration": 28,
    "start_time": "2024-04-13T21:35:40.651Z"
   },
   {
    "duration": 4,
    "start_time": "2024-04-13T21:35:40.681Z"
   },
   {
    "duration": 32,
    "start_time": "2024-04-13T21:35:40.687Z"
   },
   {
    "duration": 13,
    "start_time": "2024-04-13T21:35:40.721Z"
   },
   {
    "duration": 9,
    "start_time": "2024-04-13T21:35:40.736Z"
   },
   {
    "duration": 8,
    "start_time": "2024-04-13T21:35:40.747Z"
   },
   {
    "duration": 8,
    "start_time": "2024-04-13T21:35:40.756Z"
   },
   {
    "duration": 17,
    "start_time": "2024-04-13T21:35:40.765Z"
   },
   {
    "duration": 46,
    "start_time": "2024-04-13T21:35:40.784Z"
   },
   {
    "duration": 5,
    "start_time": "2024-04-13T21:35:40.834Z"
   },
   {
    "duration": 5,
    "start_time": "2024-04-13T21:35:40.840Z"
   },
   {
    "duration": 6,
    "start_time": "2024-04-13T21:35:40.847Z"
   },
   {
    "duration": 20,
    "start_time": "2024-04-13T21:35:40.854Z"
   },
   {
    "duration": 93,
    "start_time": "2024-04-13T21:35:40.875Z"
   },
   {
    "duration": 4,
    "start_time": "2024-04-13T21:35:40.969Z"
   },
   {
    "duration": 7,
    "start_time": "2024-04-13T21:35:40.974Z"
   },
   {
    "duration": 4,
    "start_time": "2024-04-13T21:35:40.982Z"
   },
   {
    "duration": 27,
    "start_time": "2024-04-13T21:35:40.987Z"
   },
   {
    "duration": 20,
    "start_time": "2024-04-13T21:35:41.016Z"
   },
   {
    "duration": 5,
    "start_time": "2024-04-13T21:35:41.037Z"
   },
   {
    "duration": 12,
    "start_time": "2024-04-13T21:35:41.043Z"
   },
   {
    "duration": 15,
    "start_time": "2024-04-13T21:35:41.056Z"
   },
   {
    "duration": 4,
    "start_time": "2024-04-13T21:35:41.072Z"
   },
   {
    "duration": 8,
    "start_time": "2024-04-13T21:35:41.078Z"
   },
   {
    "duration": 13,
    "start_time": "2024-04-13T21:35:41.088Z"
   },
   {
    "duration": 368,
    "start_time": "2024-04-13T21:35:41.115Z"
   },
   {
    "duration": 18,
    "start_time": "2024-04-13T21:35:41.484Z"
   },
   {
    "duration": 321,
    "start_time": "2024-04-13T21:35:41.504Z"
   },
   {
    "duration": 4,
    "start_time": "2024-04-13T21:35:41.828Z"
   },
   {
    "duration": 367,
    "start_time": "2024-04-13T21:35:41.834Z"
   },
   {
    "duration": 354,
    "start_time": "2024-04-13T21:35:42.204Z"
   },
   {
    "duration": 308,
    "start_time": "2024-04-13T21:35:42.560Z"
   },
   {
    "duration": 397,
    "start_time": "2024-04-13T21:35:42.869Z"
   },
   {
    "duration": 11,
    "start_time": "2024-04-13T21:35:43.268Z"
   },
   {
    "duration": 316,
    "start_time": "2024-04-13T21:35:43.281Z"
   },
   {
    "duration": 17,
    "start_time": "2024-04-13T21:35:43.598Z"
   },
   {
    "duration": 308,
    "start_time": "2024-04-13T21:35:43.619Z"
   },
   {
    "duration": 12,
    "start_time": "2024-04-13T21:35:43.929Z"
   },
   {
    "duration": 337,
    "start_time": "2024-04-13T21:35:43.942Z"
   },
   {
    "duration": 13,
    "start_time": "2024-04-13T21:35:44.280Z"
   },
   {
    "duration": 327,
    "start_time": "2024-04-13T21:35:44.295Z"
   },
   {
    "duration": 11,
    "start_time": "2024-04-13T21:35:44.624Z"
   },
   {
    "duration": 220,
    "start_time": "2024-04-13T21:35:44.637Z"
   },
   {
    "duration": 346,
    "start_time": "2024-04-13T21:35:44.860Z"
   },
   {
    "duration": 592,
    "start_time": "2024-04-13T21:35:45.208Z"
   },
   {
    "duration": 241,
    "start_time": "2024-04-13T21:35:45.803Z"
   },
   {
    "duration": 316,
    "start_time": "2024-04-13T21:35:46.046Z"
   },
   {
    "duration": 218,
    "start_time": "2024-04-13T21:35:46.364Z"
   },
   {
    "duration": 224,
    "start_time": "2024-04-13T21:35:46.584Z"
   },
   {
    "duration": 222,
    "start_time": "2024-04-13T21:35:46.809Z"
   },
   {
    "duration": 220,
    "start_time": "2024-04-13T21:35:47.032Z"
   },
   {
    "duration": 247,
    "start_time": "2024-04-13T21:35:47.254Z"
   },
   {
    "duration": 232,
    "start_time": "2024-04-13T21:35:47.503Z"
   },
   {
    "duration": 14,
    "start_time": "2024-04-13T21:35:47.736Z"
   },
   {
    "duration": 15,
    "start_time": "2024-04-13T21:35:47.752Z"
   },
   {
    "duration": 12,
    "start_time": "2024-04-13T21:35:47.769Z"
   },
   {
    "duration": 45,
    "start_time": "2024-04-13T21:35:47.783Z"
   },
   {
    "duration": 561,
    "start_time": "2024-04-13T21:38:35.182Z"
   },
   {
    "duration": 564,
    "start_time": "2024-04-13T21:39:16.074Z"
   },
   {
    "duration": 898,
    "start_time": "2024-04-13T21:42:34.615Z"
   },
   {
    "duration": 530,
    "start_time": "2024-04-13T21:42:40.895Z"
   },
   {
    "duration": 569,
    "start_time": "2024-04-13T21:42:55.296Z"
   },
   {
    "duration": 562,
    "start_time": "2024-04-13T21:44:49.020Z"
   },
   {
    "duration": 540,
    "start_time": "2024-04-13T21:45:56.744Z"
   },
   {
    "duration": 1242,
    "start_time": "2024-04-13T22:05:28.899Z"
   },
   {
    "duration": 59,
    "start_time": "2024-04-13T22:05:30.143Z"
   },
   {
    "duration": 20,
    "start_time": "2024-04-13T22:05:30.204Z"
   },
   {
    "duration": 39,
    "start_time": "2024-04-13T22:05:30.226Z"
   },
   {
    "duration": 56,
    "start_time": "2024-04-13T22:05:30.268Z"
   },
   {
    "duration": 18,
    "start_time": "2024-04-13T22:05:30.325Z"
   },
   {
    "duration": 64,
    "start_time": "2024-04-13T22:05:30.345Z"
   },
   {
    "duration": 68,
    "start_time": "2024-04-13T22:05:30.411Z"
   },
   {
    "duration": 50,
    "start_time": "2024-04-13T22:05:30.481Z"
   },
   {
    "duration": 27,
    "start_time": "2024-04-13T22:05:30.533Z"
   },
   {
    "duration": 48,
    "start_time": "2024-04-13T22:05:30.562Z"
   },
   {
    "duration": 67,
    "start_time": "2024-04-13T22:05:30.612Z"
   },
   {
    "duration": 49,
    "start_time": "2024-04-13T22:05:30.680Z"
   },
   {
    "duration": 46,
    "start_time": "2024-04-13T22:05:30.732Z"
   },
   {
    "duration": 81,
    "start_time": "2024-04-13T22:05:30.780Z"
   },
   {
    "duration": 33,
    "start_time": "2024-04-13T22:05:30.863Z"
   },
   {
    "duration": 52,
    "start_time": "2024-04-13T22:05:30.898Z"
   },
   {
    "duration": 79,
    "start_time": "2024-04-13T22:05:30.951Z"
   },
   {
    "duration": 19,
    "start_time": "2024-04-13T22:05:31.031Z"
   },
   {
    "duration": 84,
    "start_time": "2024-04-13T22:05:31.051Z"
   },
   {
    "duration": 53,
    "start_time": "2024-04-13T22:05:31.137Z"
   },
   {
    "duration": 30,
    "start_time": "2024-04-13T22:05:31.191Z"
   },
   {
    "duration": 65,
    "start_time": "2024-04-13T22:05:31.223Z"
   },
   {
    "duration": 22,
    "start_time": "2024-04-13T22:05:31.290Z"
   },
   {
    "duration": 16,
    "start_time": "2024-04-13T22:05:31.313Z"
   },
   {
    "duration": 20,
    "start_time": "2024-04-13T22:05:31.331Z"
   },
   {
    "duration": 26,
    "start_time": "2024-04-13T22:05:31.352Z"
   },
   {
    "duration": 29,
    "start_time": "2024-04-13T22:05:31.379Z"
   },
   {
    "duration": 32,
    "start_time": "2024-04-13T22:05:31.409Z"
   },
   {
    "duration": 459,
    "start_time": "2024-04-13T22:05:31.442Z"
   },
   {
    "duration": 27,
    "start_time": "2024-04-13T22:05:31.904Z"
   },
   {
    "duration": 323,
    "start_time": "2024-04-13T22:05:31.933Z"
   },
   {
    "duration": 4,
    "start_time": "2024-04-13T22:05:32.258Z"
   },
   {
    "duration": 374,
    "start_time": "2024-04-13T22:05:32.264Z"
   },
   {
    "duration": 390,
    "start_time": "2024-04-13T22:05:32.640Z"
   },
   {
    "duration": 324,
    "start_time": "2024-04-13T22:05:33.032Z"
   },
   {
    "duration": 368,
    "start_time": "2024-04-13T22:05:33.358Z"
   },
   {
    "duration": 11,
    "start_time": "2024-04-13T22:05:33.727Z"
   },
   {
    "duration": 295,
    "start_time": "2024-04-13T22:05:33.740Z"
   },
   {
    "duration": 12,
    "start_time": "2024-04-13T22:05:34.037Z"
   },
   {
    "duration": 306,
    "start_time": "2024-04-13T22:05:34.052Z"
   },
   {
    "duration": 12,
    "start_time": "2024-04-13T22:05:34.359Z"
   },
   {
    "duration": 330,
    "start_time": "2024-04-13T22:05:34.373Z"
   },
   {
    "duration": 15,
    "start_time": "2024-04-13T22:05:34.704Z"
   },
   {
    "duration": 316,
    "start_time": "2024-04-13T22:05:34.721Z"
   },
   {
    "duration": 11,
    "start_time": "2024-04-13T22:05:35.039Z"
   },
   {
    "duration": 198,
    "start_time": "2024-04-13T22:05:35.052Z"
   },
   {
    "duration": 317,
    "start_time": "2024-04-13T22:05:35.252Z"
   },
   {
    "duration": 604,
    "start_time": "2024-04-13T22:05:35.571Z"
   },
   {
    "duration": 677,
    "start_time": "2024-04-13T22:05:36.177Z"
   },
   {
    "duration": 534,
    "start_time": "2024-04-13T22:05:36.856Z"
   },
   {
    "duration": 25,
    "start_time": "2024-04-13T22:05:37.392Z"
   },
   {
    "duration": 20,
    "start_time": "2024-04-13T22:05:37.419Z"
   },
   {
    "duration": 13,
    "start_time": "2024-04-13T22:05:37.441Z"
   },
   {
    "duration": 15,
    "start_time": "2024-04-13T22:05:37.455Z"
   },
   {
    "duration": 1165,
    "start_time": "2024-04-14T04:43:21.992Z"
   },
   {
    "duration": 117,
    "start_time": "2024-04-14T04:43:23.159Z"
   },
   {
    "duration": 20,
    "start_time": "2024-04-14T04:43:23.278Z"
   },
   {
    "duration": 14,
    "start_time": "2024-04-14T04:43:23.301Z"
   },
   {
    "duration": 35,
    "start_time": "2024-04-14T04:43:23.316Z"
   },
   {
    "duration": 10,
    "start_time": "2024-04-14T04:43:23.353Z"
   },
   {
    "duration": 16,
    "start_time": "2024-04-14T04:43:23.364Z"
   },
   {
    "duration": 12,
    "start_time": "2024-04-14T04:43:23.382Z"
   },
   {
    "duration": 7,
    "start_time": "2024-04-14T04:43:23.395Z"
   },
   {
    "duration": 12,
    "start_time": "2024-04-14T04:43:23.405Z"
   },
   {
    "duration": 19,
    "start_time": "2024-04-14T04:43:23.419Z"
   },
   {
    "duration": 32,
    "start_time": "2024-04-14T04:43:23.440Z"
   },
   {
    "duration": 21,
    "start_time": "2024-04-14T04:43:23.474Z"
   },
   {
    "duration": 5,
    "start_time": "2024-04-14T04:43:23.496Z"
   },
   {
    "duration": 11,
    "start_time": "2024-04-14T04:43:23.502Z"
   },
   {
    "duration": 6,
    "start_time": "2024-04-14T04:43:23.514Z"
   },
   {
    "duration": 47,
    "start_time": "2024-04-14T04:43:23.521Z"
   },
   {
    "duration": 59,
    "start_time": "2024-04-14T04:43:23.570Z"
   },
   {
    "duration": 4,
    "start_time": "2024-04-14T04:43:23.630Z"
   },
   {
    "duration": 6,
    "start_time": "2024-04-14T04:43:23.636Z"
   },
   {
    "duration": 3,
    "start_time": "2024-04-14T04:43:23.643Z"
   },
   {
    "duration": 10,
    "start_time": "2024-04-14T04:43:23.666Z"
   },
   {
    "duration": 23,
    "start_time": "2024-04-14T04:43:23.678Z"
   },
   {
    "duration": 5,
    "start_time": "2024-04-14T04:43:23.703Z"
   },
   {
    "duration": 4,
    "start_time": "2024-04-14T04:43:23.709Z"
   },
   {
    "duration": 15,
    "start_time": "2024-04-14T04:43:23.715Z"
   },
   {
    "duration": 13,
    "start_time": "2024-04-14T04:43:23.732Z"
   },
   {
    "duration": 13,
    "start_time": "2024-04-14T04:43:23.749Z"
   },
   {
    "duration": 8,
    "start_time": "2024-04-14T04:43:23.769Z"
   },
   {
    "duration": 374,
    "start_time": "2024-04-14T04:43:23.779Z"
   },
   {
    "duration": 26,
    "start_time": "2024-04-14T04:43:24.155Z"
   },
   {
    "duration": 306,
    "start_time": "2024-04-14T04:43:24.182Z"
   },
   {
    "duration": 3,
    "start_time": "2024-04-14T04:43:24.490Z"
   },
   {
    "duration": 423,
    "start_time": "2024-04-14T04:43:24.495Z"
   },
   {
    "duration": 346,
    "start_time": "2024-04-14T04:43:24.920Z"
   },
   {
    "duration": 305,
    "start_time": "2024-04-14T04:43:25.276Z"
   },
   {
    "duration": 390,
    "start_time": "2024-04-14T04:43:25.583Z"
   },
   {
    "duration": 14,
    "start_time": "2024-04-14T04:43:25.974Z"
   },
   {
    "duration": 330,
    "start_time": "2024-04-14T04:43:25.990Z"
   },
   {
    "duration": 11,
    "start_time": "2024-04-14T04:43:26.322Z"
   },
   {
    "duration": 333,
    "start_time": "2024-04-14T04:43:26.334Z"
   },
   {
    "duration": 12,
    "start_time": "2024-04-14T04:43:26.672Z"
   },
   {
    "duration": 311,
    "start_time": "2024-04-14T04:43:26.686Z"
   },
   {
    "duration": 12,
    "start_time": "2024-04-14T04:43:26.998Z"
   },
   {
    "duration": 367,
    "start_time": "2024-04-14T04:43:27.012Z"
   },
   {
    "duration": 10,
    "start_time": "2024-04-14T04:43:27.381Z"
   },
   {
    "duration": 203,
    "start_time": "2024-04-14T04:43:27.393Z"
   },
   {
    "duration": 355,
    "start_time": "2024-04-14T04:43:27.598Z"
   },
   {
    "duration": 620,
    "start_time": "2024-04-14T04:43:27.955Z"
   },
   {
    "duration": 699,
    "start_time": "2024-04-14T04:43:28.578Z"
   },
   {
    "duration": 557,
    "start_time": "2024-04-14T04:43:29.278Z"
   },
   {
    "duration": 42,
    "start_time": "2024-04-14T04:43:29.837Z"
   },
   {
    "duration": 31,
    "start_time": "2024-04-14T04:43:29.881Z"
   },
   {
    "duration": 27,
    "start_time": "2024-04-14T04:43:29.914Z"
   },
   {
    "duration": 28,
    "start_time": "2024-04-14T04:43:29.943Z"
   },
   {
    "duration": 58,
    "start_time": "2024-06-15T23:56:52.688Z"
   },
   {
    "duration": 1628,
    "start_time": "2024-06-15T23:56:55.602Z"
   },
   {
    "duration": 110,
    "start_time": "2024-06-15T23:56:58.066Z"
   },
   {
    "duration": 5,
    "start_time": "2024-06-15T23:57:06.083Z"
   },
   {
    "duration": 8,
    "start_time": "2024-06-15T23:57:20.207Z"
   },
   {
    "duration": 8,
    "start_time": "2024-06-15T23:57:28.596Z"
   },
   {
    "duration": 1295,
    "start_time": "2024-06-15T23:57:58.257Z"
   },
   {
    "duration": 2544,
    "start_time": "2024-06-15T23:58:24.168Z"
   },
   {
    "duration": 1274,
    "start_time": "2024-06-15T23:58:35.766Z"
   }
  ],
  "kernelspec": {
   "display_name": "Python 3 (ipykernel)",
   "language": "python",
   "name": "python3"
  },
  "language_info": {
   "codemirror_mode": {
    "name": "ipython",
    "version": 3
   },
   "file_extension": ".py",
   "mimetype": "text/x-python",
   "name": "python",
   "nbconvert_exporter": "python",
   "pygments_lexer": "ipython3",
   "version": "3.9.5"
  },
  "toc": {
   "base_numbering": 1,
   "nav_menu": {},
   "number_sections": true,
   "sideBar": true,
   "skip_h1_title": true,
   "title_cell": "Table of Contents",
   "title_sidebar": "Contents",
   "toc_cell": false,
   "toc_position": {},
   "toc_section_display": true,
   "toc_window_display": false
  }
 },
 "nbformat": 4,
 "nbformat_minor": 2
}
