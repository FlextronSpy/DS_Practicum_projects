{
 "cells": [
  {
   "cell_type": "markdown",
   "metadata": {
    "toc": true
   },
   "source": [
    "<h1>Содержание<span class=\"tocSkip\"></span></h1>\n",
    "<div class=\"toc\"><li><span><a href=\"#Подготовка\" data-toc-modified-id=\"Подготовка-1\"><span class=\"toc-item-num\">1&nbsp;&nbsp;</span>Подготовка</a></span></li><li><span><a href=\"#Анализ\" data-toc-modified-id=\"Анализ-2\"><span class=\"toc-item-num\">2&nbsp;&nbsp;</span>Анализ</a></span></li><li><span><a href=\"#Обучение\" data-toc-modified-id=\"Обучение-3\"><span class=\"toc-item-num\">3&nbsp;&nbsp;</span>Обучение</a></span><ul class=\"toc-item\"><li><span><a href=\"#LinearRegression\" data-toc-modified-id=\"LinearRegression-3.1\"><span class=\"toc-item-num\">3.1&nbsp;&nbsp;</span>LinearRegression</a></span></li><li><span><a href=\"#CatBoostRegression\" data-toc-modified-id=\"CatBoostRegression-3.2\"><span class=\"toc-item-num\">3.2&nbsp;&nbsp;</span>CatBoostRegression</a></span></li><li><span><a href=\"#LightGBM\" data-toc-modified-id=\"LightGBM-3.3\"><span class=\"toc-item-num\">3.3&nbsp;&nbsp;</span>LightGBM</a></span></li><li><span><a href=\"#DecisionTreeRegressor\" data-toc-modified-id=\"DecisionTreeRegressor-3.4\"><span class=\"toc-item-num\">3.4&nbsp;&nbsp;</span>DecisionTreeRegressor</a></span></li></ul></li><li><span><a href=\"#Тестирование\" data-toc-modified-id=\"Тестирование-4\"><span class=\"toc-item-num\">4&nbsp;&nbsp;</span>Тестирование</a></span></li><li><span><a href=\"#Чек-лист-проверки\" data-toc-modified-id=\"Чек-лист-проверки-5\"><span class=\"toc-item-num\">5&nbsp;&nbsp;</span>Чек-лист проверки</a></span></li></ul></div>"
   ]
  },
  {
   "cell_type": "markdown",
   "metadata": {},
   "source": [
    "#  Прогнозирование заказов такси"
   ]
  },
  {
   "cell_type": "markdown",
   "metadata": {},
   "source": [
    "Компания «Чётенькое такси» собрала исторические данные о заказах такси в аэропортах. Чтобы привлекать больше водителей в период пиковой нагрузки, нужно спрогнозировать количество заказов такси на следующий час. Постройте модель для такого предсказания.\n",
    "\n",
    "Значение метрики *RMSE* на тестовой выборке должно быть не больше 48.\n",
    "\n",
    "Вам нужно:\n",
    "\n",
    "1. Загрузить данные и выполнить их ресемплирование по одному часу.\n",
    "2. Проанализировать данные.\n",
    "3. Обучить разные модели с различными гиперпараметрами. Сделать тестовую выборку размером 10% от исходных данных.\n",
    "4. Проверить данные на тестовой выборке и сделать выводы.\n",
    "\n",
    "\n",
    "Данные лежат в файле `taxi.csv`. Количество заказов находится в столбце `num_orders` (от англ. *number of orders*, «число заказов»)."
   ]
  },
  {
   "cell_type": "markdown",
   "metadata": {},
   "source": [
    "__Загрузка библиотек__"
   ]
  },
  {
   "cell_type": "code",
   "execution_count": 1,
   "metadata": {},
   "outputs": [],
   "source": [
    "import time\n",
    "import warnings\n",
    "import numpy as np\n",
    "import pandas as pd\n",
    "import lightgbm as lgb\n",
    "import plotly.graph_objects as go\n",
    "import matplotlib.pyplot as plt\n",
    "from lightgbm import LGBMRegressor\n",
    "from catboost import CatBoostRegressor, Pool\n",
    "from sklearn.metrics import mean_squared_error\n",
    "from sklearn.tree import DecisionTreeRegressor\n",
    "from sklearn.linear_model import LinearRegression\n",
    "from statsmodels.tsa.seasonal import seasonal_decompose\n",
    "from sklearn.model_selection import GridSearchCV, train_test_split, TimeSeriesSplit\n",
    "\n",
    "warnings.filterwarnings('ignore')"
   ]
  },
  {
   "cell_type": "markdown",
   "metadata": {},
   "source": [
    "__Функции, которые будут использоваться в проекте__"
   ]
  },
  {
   "cell_type": "code",
   "execution_count": 2,
   "metadata": {},
   "outputs": [],
   "source": [
    "def num_func(data):\n",
    "    numeric_cols = data.select_dtypes(include='number').columns\n",
    "\n",
    "    num_plots = len(numeric_cols)\n",
    "    plt.figure(figsize=(10, 5 * num_plots))\n",
    "    \n",
    "    for i, col in enumerate(numeric_cols):\n",
    "        plt.subplot(num_plots, 2, 2*i + 1)\n",
    "        df[col].hist(bins=15)\n",
    "        plt.title(f'Гистограмма для {col}')\n",
    "        plt.xlabel(col)\n",
    "        plt.ylabel('Frequency')\n",
    "        plt.subplot(num_plots, 2, 2*i + 2)\n",
    "        df.boxplot(column=col)\n",
    "        plt.title(f'Диаграмма размаха {col}')\n",
    "        \n",
    "    plt.tight_layout()\n",
    "    plt.show()"
   ]
  },
  {
   "cell_type": "code",
   "execution_count": 3,
   "metadata": {},
   "outputs": [],
   "source": [
    "def data_exploration_func(data):\n",
    "    print('=========================')\n",
    "    print('Датасет', data.name)\n",
    "    display(data.head(10))\n",
    "    data.info()\n",
    "    display(data.describe(include='all')) "
   ]
  },
  {
   "cell_type": "code",
   "execution_count": 4,
   "metadata": {},
   "outputs": [],
   "source": [
    "def get_features(data_learning):\n",
    "    data_learning['month'] = data_learning.index.month\n",
    "    data_learning['day'] = data_learning.index.day\n",
    "    data_learning['dayofweek'] = data_learning.index.dayofweek\n",
    "    data_learning['hour'] = data_learning.index.hour\n",
    "    \n",
    "    for lag in range(1, 6):\n",
    "        data_learning['lag_{}'.format(lag)] = data_learning['num_orders'].shift(lag)\n",
    "    \n",
    "    data_learning['rolling_mean'] = data_learning['num_orders'].shift().rolling(1).mean()\n",
    "    data_learning.dropna(inplace=True)\n",
    "    \n",
    "    return data_learning"
   ]
  },
  {
   "cell_type": "code",
   "execution_count": 5,
   "metadata": {},
   "outputs": [],
   "source": [
    "def lineplot(data, title):\n",
    "    data.plot()\n",
    "    plt.title(title)\n",
    "    plt.show()"
   ]
  },
  {
   "cell_type": "code",
   "execution_count": 6,
   "metadata": {},
   "outputs": [],
   "source": [
    "def display_result(target, pred, rmse, model_name):\n",
    "    \n",
    "    result = target.to_frame().reset_index()\n",
    "    result['prediction'] = pd.Series(pred)\n",
    "    result.set_index('datetime', inplace=True)\n",
    "\n",
    "    fig = go.Figure(layout=dict(title=dict(text=model_name)))\n",
    "    fig.add_trace(go.Scatter(x=result.index, y=result[target.name], name='True'))\n",
    "    fig.update_xaxes(title_text='Время (дни)')\n",
    "    fig.update_yaxes(title_text='Количество заказов')\n",
    "    fig.add_trace(go.Scatter(x=result.index, y=result['prediction'], name='Predicted'))\n",
    "    display(fig)"
   ]
  },
  {
   "cell_type": "markdown",
   "metadata": {},
   "source": [
    "__Константа__"
   ]
  },
  {
   "cell_type": "code",
   "execution_count": 7,
   "metadata": {},
   "outputs": [],
   "source": [
    "RANDOM_STATE=42"
   ]
  },
  {
   "cell_type": "markdown",
   "metadata": {},
   "source": [
    "## Подготовка"
   ]
  },
  {
   "cell_type": "code",
   "execution_count": 8,
   "metadata": {},
   "outputs": [],
   "source": [
    "try:\n",
    "    data = pd.read_csv('taxi.csv', index_col=[0], parse_dates=[0]) \n",
    "except:\n",
    "    data = pd.read_csv('/datasets/taxi.csv', index_col=[0], parse_dates=[0])"
   ]
  },
  {
   "cell_type": "code",
   "execution_count": 9,
   "metadata": {},
   "outputs": [],
   "source": [
    "data.name = \"taxi\""
   ]
  },
  {
   "cell_type": "code",
   "execution_count": 10,
   "metadata": {
    "scrolled": true
   },
   "outputs": [
    {
     "name": "stdout",
     "output_type": "stream",
     "text": [
      "=========================\n",
      "Датасет taxi\n"
     ]
    },
    {
     "data": {
      "text/html": [
       "<div>\n",
       "<style scoped>\n",
       "    .dataframe tbody tr th:only-of-type {\n",
       "        vertical-align: middle;\n",
       "    }\n",
       "\n",
       "    .dataframe tbody tr th {\n",
       "        vertical-align: top;\n",
       "    }\n",
       "\n",
       "    .dataframe thead th {\n",
       "        text-align: right;\n",
       "    }\n",
       "</style>\n",
       "<table border=\"1\" class=\"dataframe\">\n",
       "  <thead>\n",
       "    <tr style=\"text-align: right;\">\n",
       "      <th></th>\n",
       "      <th>num_orders</th>\n",
       "    </tr>\n",
       "    <tr>\n",
       "      <th>datetime</th>\n",
       "      <th></th>\n",
       "    </tr>\n",
       "  </thead>\n",
       "  <tbody>\n",
       "    <tr>\n",
       "      <th>2018-03-01 00:00:00</th>\n",
       "      <td>9</td>\n",
       "    </tr>\n",
       "    <tr>\n",
       "      <th>2018-03-01 00:10:00</th>\n",
       "      <td>14</td>\n",
       "    </tr>\n",
       "    <tr>\n",
       "      <th>2018-03-01 00:20:00</th>\n",
       "      <td>28</td>\n",
       "    </tr>\n",
       "    <tr>\n",
       "      <th>2018-03-01 00:30:00</th>\n",
       "      <td>20</td>\n",
       "    </tr>\n",
       "    <tr>\n",
       "      <th>2018-03-01 00:40:00</th>\n",
       "      <td>32</td>\n",
       "    </tr>\n",
       "    <tr>\n",
       "      <th>2018-03-01 00:50:00</th>\n",
       "      <td>21</td>\n",
       "    </tr>\n",
       "    <tr>\n",
       "      <th>2018-03-01 01:00:00</th>\n",
       "      <td>7</td>\n",
       "    </tr>\n",
       "    <tr>\n",
       "      <th>2018-03-01 01:10:00</th>\n",
       "      <td>5</td>\n",
       "    </tr>\n",
       "    <tr>\n",
       "      <th>2018-03-01 01:20:00</th>\n",
       "      <td>17</td>\n",
       "    </tr>\n",
       "    <tr>\n",
       "      <th>2018-03-01 01:30:00</th>\n",
       "      <td>12</td>\n",
       "    </tr>\n",
       "  </tbody>\n",
       "</table>\n",
       "</div>"
      ],
      "text/plain": [
       "                     num_orders\n",
       "datetime                       \n",
       "2018-03-01 00:00:00           9\n",
       "2018-03-01 00:10:00          14\n",
       "2018-03-01 00:20:00          28\n",
       "2018-03-01 00:30:00          20\n",
       "2018-03-01 00:40:00          32\n",
       "2018-03-01 00:50:00          21\n",
       "2018-03-01 01:00:00           7\n",
       "2018-03-01 01:10:00           5\n",
       "2018-03-01 01:20:00          17\n",
       "2018-03-01 01:30:00          12"
      ]
     },
     "metadata": {},
     "output_type": "display_data"
    },
    {
     "name": "stdout",
     "output_type": "stream",
     "text": [
      "<class 'pandas.core.frame.DataFrame'>\n",
      "DatetimeIndex: 26496 entries, 2018-03-01 00:00:00 to 2018-08-31 23:50:00\n",
      "Data columns (total 1 columns):\n",
      " #   Column      Non-Null Count  Dtype\n",
      "---  ------      --------------  -----\n",
      " 0   num_orders  26496 non-null  int64\n",
      "dtypes: int64(1)\n",
      "memory usage: 414.0 KB\n"
     ]
    },
    {
     "data": {
      "text/html": [
       "<div>\n",
       "<style scoped>\n",
       "    .dataframe tbody tr th:only-of-type {\n",
       "        vertical-align: middle;\n",
       "    }\n",
       "\n",
       "    .dataframe tbody tr th {\n",
       "        vertical-align: top;\n",
       "    }\n",
       "\n",
       "    .dataframe thead th {\n",
       "        text-align: right;\n",
       "    }\n",
       "</style>\n",
       "<table border=\"1\" class=\"dataframe\">\n",
       "  <thead>\n",
       "    <tr style=\"text-align: right;\">\n",
       "      <th></th>\n",
       "      <th>num_orders</th>\n",
       "    </tr>\n",
       "  </thead>\n",
       "  <tbody>\n",
       "    <tr>\n",
       "      <th>count</th>\n",
       "      <td>26496.000000</td>\n",
       "    </tr>\n",
       "    <tr>\n",
       "      <th>mean</th>\n",
       "      <td>14.070463</td>\n",
       "    </tr>\n",
       "    <tr>\n",
       "      <th>std</th>\n",
       "      <td>9.211330</td>\n",
       "    </tr>\n",
       "    <tr>\n",
       "      <th>min</th>\n",
       "      <td>0.000000</td>\n",
       "    </tr>\n",
       "    <tr>\n",
       "      <th>25%</th>\n",
       "      <td>8.000000</td>\n",
       "    </tr>\n",
       "    <tr>\n",
       "      <th>50%</th>\n",
       "      <td>13.000000</td>\n",
       "    </tr>\n",
       "    <tr>\n",
       "      <th>75%</th>\n",
       "      <td>19.000000</td>\n",
       "    </tr>\n",
       "    <tr>\n",
       "      <th>max</th>\n",
       "      <td>119.000000</td>\n",
       "    </tr>\n",
       "  </tbody>\n",
       "</table>\n",
       "</div>"
      ],
      "text/plain": [
       "         num_orders\n",
       "count  26496.000000\n",
       "mean      14.070463\n",
       "std        9.211330\n",
       "min        0.000000\n",
       "25%        8.000000\n",
       "50%       13.000000\n",
       "75%       19.000000\n",
       "max      119.000000"
      ]
     },
     "metadata": {},
     "output_type": "display_data"
    }
   ],
   "source": [
    "data_exploration_func(data)"
   ]
  },
  {
   "cell_type": "markdown",
   "metadata": {},
   "source": [
    "Количество заказов находится в столбце 'num_orders' (от англ. number of orders, «число заказов»)."
   ]
  },
  {
   "cell_type": "markdown",
   "metadata": {},
   "source": [
    "Проверим на количество пропусков"
   ]
  },
  {
   "cell_type": "code",
   "execution_count": 11,
   "metadata": {
    "scrolled": true
   },
   "outputs": [
    {
     "data": {
      "text/plain": [
       "num_orders    0\n",
       "dtype: int64"
      ]
     },
     "execution_count": 11,
     "metadata": {},
     "output_type": "execute_result"
    }
   ],
   "source": [
    "data.isna().sum()"
   ]
  },
  {
   "cell_type": "markdown",
   "metadata": {},
   "source": [
    "Проверим на наличие дубликатов"
   ]
  },
  {
   "cell_type": "code",
   "execution_count": 12,
   "metadata": {},
   "outputs": [
    {
     "data": {
      "text/plain": [
       "26415"
      ]
     },
     "execution_count": 12,
     "metadata": {},
     "output_type": "execute_result"
    }
   ],
   "source": [
    "data.duplicated().sum()"
   ]
  },
  {
   "cell_type": "markdown",
   "metadata": {},
   "source": [
    "Проверим, в хронологическом ли порядке расположены даты и время, посмотрим на атрибут индекса таблицы is_monotonic. Если порядок соблюдён, атрибут вернёт True, если нет — False."
   ]
  },
  {
   "cell_type": "code",
   "execution_count": 13,
   "metadata": {
    "scrolled": true
   },
   "outputs": [
    {
     "data": {
      "text/plain": [
       "True"
      ]
     },
     "execution_count": 13,
     "metadata": {},
     "output_type": "execute_result"
    }
   ],
   "source": [
    "data.index.is_monotonic"
   ]
  },
  {
   "cell_type": "markdown",
   "metadata": {},
   "source": [
    "Выполним ресемплирование, т.е. измененим интервал со значениями ряда. Выберем интервал в один час, а по каждой группе — вычислим суммарное значение."
   ]
  },
  {
   "cell_type": "code",
   "execution_count": 14,
   "metadata": {},
   "outputs": [],
   "source": [
    "data = data.resample('1H').sum()"
   ]
  },
  {
   "cell_type": "markdown",
   "metadata": {},
   "source": [
    "__Вывод:__\n",
    "Данные были успешно считаны и содержат один столбец - num_orders, без пропусков и отклонений в статистике. Временные дубликаты отсутствуют. Данные отсортированы и преобразованы во временной ряд, проверена его монотонность. Выполнено ресемплирование с интервалом в один час с функцией суммирования. Даты и время в датафрейме расположены хронологически, что подтверждает корректность предварительной обработки данных. Теперь данные готовы для обучения моделей."
   ]
  },
  {
   "cell_type": "markdown",
   "metadata": {},
   "source": [
    "## Анализ"
   ]
  },
  {
   "cell_type": "markdown",
   "metadata": {},
   "source": [
    "Построим временной ряд количества заказов."
   ]
  },
  {
   "cell_type": "code",
   "execution_count": 15,
   "metadata": {
    "scrolled": true
   },
   "outputs": [
    {
     "data": {
      "image/png": "[encoded data removed]",
      "text/plain": [
       "<Figure size 432x288 with 1 Axes>"
      ]
     },
     "metadata": {
      "needs_background": "light"
     },
     "output_type": "display_data"
    }
   ],
   "source": [
    "lineplot(data['num_orders'], 'Количество заказов')"
   ]
  },
  {
   "cell_type": "markdown",
   "metadata": {},
   "source": [
    "Временной ряд на графике имеет множественные колебания, потому что у него меняется среднее значение."
   ]
  },
  {
   "cell_type": "markdown",
   "metadata": {},
   "source": [
    "Разделим данные на трендовую, сезонную и шумовую состовляющие и построим соответствующие графики"
   ]
  },
  {
   "cell_type": "code",
   "execution_count": 16,
   "metadata": {},
   "outputs": [],
   "source": [
    "decomposed = seasonal_decompose(data)"
   ]
  },
  {
   "cell_type": "code",
   "execution_count": 17,
   "metadata": {},
   "outputs": [
    {
     "data": {
      "image/png": "[encoded data removed]",
      "text/plain": [
       "<Figure size 432x288 with 1 Axes>"
      ]
     },
     "metadata": {
      "needs_background": "light"
     },
     "output_type": "display_data"
    }
   ],
   "source": [
    "lineplot(decomposed.trend, 'Тренд')"
   ]
  },
  {
   "cell_type": "code",
   "execution_count": 18,
   "metadata": {},
   "outputs": [
    {
     "data": {
      "image/png": "[encoded data removed]",
      "text/plain": [
       "<Figure size 432x288 with 1 Axes>"
      ]
     },
     "metadata": {
      "needs_background": "light"
     },
     "output_type": "display_data"
    }
   ],
   "source": [
    "lineplot(decomposed.trend.rolling(24*7).mean(), 'Тренд (сглаженный)')"
   ]
  },
  {
   "cell_type": "code",
   "execution_count": 19,
   "metadata": {},
   "outputs": [
    {
     "data": {
      "image/png": "[encoded data removed]",
      "text/plain": [
       "<Figure size 432x288 with 1 Axes>"
      ]
     },
     "metadata": {
      "needs_background": "light"
     },
     "output_type": "display_data"
    }
   ],
   "source": [
    "lineplot(decomposed.seasonal.tail(24*7), 'Сезонность')"
   ]
  },
  {
   "cell_type": "code",
   "execution_count": 20,
   "metadata": {
    "scrolled": true
   },
   "outputs": [
    {
     "data": {
      "image/png": "[encoded data removed]",
      "text/plain": [
       "<Figure size 432x288 with 1 Axes>"
      ]
     },
     "metadata": {
      "needs_background": "light"
     },
     "output_type": "display_data"
    }
   ],
   "source": [
    "lineplot(decomposed.resid, 'Шумы')"
   ]
  },
  {
   "cell_type": "code",
   "execution_count": 21,
   "metadata": {
    "scrolled": true
   },
   "outputs": [
    {
     "data": {
      "image/png": "[encoded data removed]",
      "text/plain": [
       "<Figure size 432x288 with 1 Axes>"
      ]
     },
     "metadata": {
      "needs_background": "light"
     },
     "output_type": "display_data"
    }
   ],
   "source": [
    "lineplot(decomposed.seasonal['2018-03-01':'2018-03-7'], 'Сезонность по неделе')"
   ]
  },
  {
   "cell_type": "code",
   "execution_count": 22,
   "metadata": {
    "scrolled": true
   },
   "outputs": [
    {
     "data": {
      "image/png": "[encoded data removed]",
      "text/plain": [
       "<Figure size 432x288 with 1 Axes>"
      ]
     },
     "metadata": {
      "needs_background": "light"
     },
     "output_type": "display_data"
    }
   ],
   "source": [
    "lineplot(decomposed.seasonal['2018-03-01':'2018-03-2'], 'Дневная сезонность')"
   ]
  },
  {
   "cell_type": "markdown",
   "metadata": {},
   "source": [
    "__Вывод:__\n",
    "- Наблюдается общий тренд равномерного роста количества заказов с периодическими небольшими падениями. Это может указывать на постепенное увеличение спроса или развитие бизнеса в данной области.\n",
    "- Присутствует выраженная сезонность по времени суток: минимум заказов наблюдается в ночное время, затем количество заказов возрастает с утра и в течение дня, достигая пика к вечеру.\n",
    "- Временной ряд имеет множественные колебания и не является стационарным, однако разности временного ряда стационарны.\n",
    "- Разложение временного ряда показало положительный линейный тренд на протяжении года, а также наличие шума в данных.\n",
    "- Анализ сезонности на интервале в неделю выявил циклично-повторяющиеся закономерности: рост количества заказов происходит в одинаковые часы каждый день, с пиком вечером, за исключением воскресенья, когда пик немного ниже."
   ]
  },
  {
   "cell_type": "markdown",
   "metadata": {},
   "source": [
    "## Обучение"
   ]
  },
  {
   "cell_type": "markdown",
   "metadata": {},
   "source": [
    "Создадим признаки для горизонта прогнозирования в один шаг при помощи функции _get_features()_"
   ]
  },
  {
   "cell_type": "code",
   "execution_count": 86,
   "metadata": {},
   "outputs": [],
   "source": [
    "train_models = []\n",
    "train_models_name = ['Linear Regression', 'CatBoostRegressor', 'LightGBM', 'DecisionTreeRegressor']\n",
    "rmse_train = []\n",
    "tscv = TimeSeriesSplit(n_splits=5)"
   ]
  },
  {
   "cell_type": "code",
   "execution_count": 87,
   "metadata": {
    "scrolled": true
   },
   "outputs": [
    {
     "data": {
      "text/html": [
       "<div>\n",
       "<style scoped>\n",
       "    .dataframe tbody tr th:only-of-type {\n",
       "        vertical-align: middle;\n",
       "    }\n",
       "\n",
       "    .dataframe tbody tr th {\n",
       "        vertical-align: top;\n",
       "    }\n",
       "\n",
       "    .dataframe thead th {\n",
       "        text-align: right;\n",
       "    }\n",
       "</style>\n",
       "<table border=\"1\" class=\"dataframe\">\n",
       "  <thead>\n",
       "    <tr style=\"text-align: right;\">\n",
       "      <th></th>\n",
       "      <th>num_orders</th>\n",
       "      <th>month</th>\n",
       "      <th>day</th>\n",
       "      <th>dayofweek</th>\n",
       "      <th>hour</th>\n",
       "      <th>lag_1</th>\n",
       "      <th>lag_2</th>\n",
       "      <th>lag_3</th>\n",
       "      <th>lag_4</th>\n",
       "      <th>lag_5</th>\n",
       "      <th>rolling_mean</th>\n",
       "    </tr>\n",
       "    <tr>\n",
       "      <th>datetime</th>\n",
       "      <th></th>\n",
       "      <th></th>\n",
       "      <th></th>\n",
       "      <th></th>\n",
       "      <th></th>\n",
       "      <th></th>\n",
       "      <th></th>\n",
       "      <th></th>\n",
       "      <th></th>\n",
       "      <th></th>\n",
       "      <th></th>\n",
       "    </tr>\n",
       "  </thead>\n",
       "  <tbody>\n",
       "    <tr>\n",
       "      <th>2018-03-01 05:00:00</th>\n",
       "      <td>6</td>\n",
       "      <td>3</td>\n",
       "      <td>1</td>\n",
       "      <td>3</td>\n",
       "      <td>5</td>\n",
       "      <td>43.0</td>\n",
       "      <td>66.0</td>\n",
       "      <td>71.0</td>\n",
       "      <td>85.0</td>\n",
       "      <td>124.0</td>\n",
       "      <td>43.0</td>\n",
       "    </tr>\n",
       "    <tr>\n",
       "      <th>2018-03-01 06:00:00</th>\n",
       "      <td>12</td>\n",
       "      <td>3</td>\n",
       "      <td>1</td>\n",
       "      <td>3</td>\n",
       "      <td>6</td>\n",
       "      <td>6.0</td>\n",
       "      <td>43.0</td>\n",
       "      <td>66.0</td>\n",
       "      <td>71.0</td>\n",
       "      <td>85.0</td>\n",
       "      <td>6.0</td>\n",
       "    </tr>\n",
       "    <tr>\n",
       "      <th>2018-03-01 07:00:00</th>\n",
       "      <td>15</td>\n",
       "      <td>3</td>\n",
       "      <td>1</td>\n",
       "      <td>3</td>\n",
       "      <td>7</td>\n",
       "      <td>12.0</td>\n",
       "      <td>6.0</td>\n",
       "      <td>43.0</td>\n",
       "      <td>66.0</td>\n",
       "      <td>71.0</td>\n",
       "      <td>12.0</td>\n",
       "    </tr>\n",
       "    <tr>\n",
       "      <th>2018-03-01 08:00:00</th>\n",
       "      <td>34</td>\n",
       "      <td>3</td>\n",
       "      <td>1</td>\n",
       "      <td>3</td>\n",
       "      <td>8</td>\n",
       "      <td>15.0</td>\n",
       "      <td>12.0</td>\n",
       "      <td>6.0</td>\n",
       "      <td>43.0</td>\n",
       "      <td>66.0</td>\n",
       "      <td>15.0</td>\n",
       "    </tr>\n",
       "    <tr>\n",
       "      <th>2018-03-01 09:00:00</th>\n",
       "      <td>69</td>\n",
       "      <td>3</td>\n",
       "      <td>1</td>\n",
       "      <td>3</td>\n",
       "      <td>9</td>\n",
       "      <td>34.0</td>\n",
       "      <td>15.0</td>\n",
       "      <td>12.0</td>\n",
       "      <td>6.0</td>\n",
       "      <td>43.0</td>\n",
       "      <td>34.0</td>\n",
       "    </tr>\n",
       "    <tr>\n",
       "      <th>...</th>\n",
       "      <td>...</td>\n",
       "      <td>...</td>\n",
       "      <td>...</td>\n",
       "      <td>...</td>\n",
       "      <td>...</td>\n",
       "      <td>...</td>\n",
       "      <td>...</td>\n",
       "      <td>...</td>\n",
       "      <td>...</td>\n",
       "      <td>...</td>\n",
       "      <td>...</td>\n",
       "    </tr>\n",
       "    <tr>\n",
       "      <th>2018-08-31 19:00:00</th>\n",
       "      <td>136</td>\n",
       "      <td>8</td>\n",
       "      <td>31</td>\n",
       "      <td>4</td>\n",
       "      <td>19</td>\n",
       "      <td>207.0</td>\n",
       "      <td>217.0</td>\n",
       "      <td>197.0</td>\n",
       "      <td>116.0</td>\n",
       "      <td>133.0</td>\n",
       "      <td>207.0</td>\n",
       "    </tr>\n",
       "    <tr>\n",
       "      <th>2018-08-31 20:00:00</th>\n",
       "      <td>154</td>\n",
       "      <td>8</td>\n",
       "      <td>31</td>\n",
       "      <td>4</td>\n",
       "      <td>20</td>\n",
       "      <td>136.0</td>\n",
       "      <td>207.0</td>\n",
       "      <td>217.0</td>\n",
       "      <td>197.0</td>\n",
       "      <td>116.0</td>\n",
       "      <td>136.0</td>\n",
       "    </tr>\n",
       "    <tr>\n",
       "      <th>2018-08-31 21:00:00</th>\n",
       "      <td>159</td>\n",
       "      <td>8</td>\n",
       "      <td>31</td>\n",
       "      <td>4</td>\n",
       "      <td>21</td>\n",
       "      <td>154.0</td>\n",
       "      <td>136.0</td>\n",
       "      <td>207.0</td>\n",
       "      <td>217.0</td>\n",
       "      <td>197.0</td>\n",
       "      <td>154.0</td>\n",
       "    </tr>\n",
       "    <tr>\n",
       "      <th>2018-08-31 22:00:00</th>\n",
       "      <td>223</td>\n",
       "      <td>8</td>\n",
       "      <td>31</td>\n",
       "      <td>4</td>\n",
       "      <td>22</td>\n",
       "      <td>159.0</td>\n",
       "      <td>154.0</td>\n",
       "      <td>136.0</td>\n",
       "      <td>207.0</td>\n",
       "      <td>217.0</td>\n",
       "      <td>159.0</td>\n",
       "    </tr>\n",
       "    <tr>\n",
       "      <th>2018-08-31 23:00:00</th>\n",
       "      <td>205</td>\n",
       "      <td>8</td>\n",
       "      <td>31</td>\n",
       "      <td>4</td>\n",
       "      <td>23</td>\n",
       "      <td>223.0</td>\n",
       "      <td>159.0</td>\n",
       "      <td>154.0</td>\n",
       "      <td>136.0</td>\n",
       "      <td>207.0</td>\n",
       "      <td>223.0</td>\n",
       "    </tr>\n",
       "  </tbody>\n",
       "</table>\n",
       "<p>4411 rows × 11 columns</p>\n",
       "</div>"
      ],
      "text/plain": [
       "                     num_orders  month  day  dayofweek  hour  lag_1  lag_2  \\\n",
       "datetime                                                                     \n",
       "2018-03-01 05:00:00           6      3    1          3     5   43.0   66.0   \n",
       "2018-03-01 06:00:00          12      3    1          3     6    6.0   43.0   \n",
       "2018-03-01 07:00:00          15      3    1          3     7   12.0    6.0   \n",
       "2018-03-01 08:00:00          34      3    1          3     8   15.0   12.0   \n",
       "2018-03-01 09:00:00          69      3    1          3     9   34.0   15.0   \n",
       "...                         ...    ...  ...        ...   ...    ...    ...   \n",
       "2018-08-31 19:00:00         136      8   31          4    19  207.0  217.0   \n",
       "2018-08-31 20:00:00         154      8   31          4    20  136.0  207.0   \n",
       "2018-08-31 21:00:00         159      8   31          4    21  154.0  136.0   \n",
       "2018-08-31 22:00:00         223      8   31          4    22  159.0  154.0   \n",
       "2018-08-31 23:00:00         205      8   31          4    23  223.0  159.0   \n",
       "\n",
       "                     lag_3  lag_4  lag_5  rolling_mean  \n",
       "datetime                                                \n",
       "2018-03-01 05:00:00   71.0   85.0  124.0          43.0  \n",
       "2018-03-01 06:00:00   66.0   71.0   85.0           6.0  \n",
       "2018-03-01 07:00:00   43.0   66.0   71.0          12.0  \n",
       "2018-03-01 08:00:00    6.0   43.0   66.0          15.0  \n",
       "2018-03-01 09:00:00   12.0    6.0   43.0          34.0  \n",
       "...                    ...    ...    ...           ...  \n",
       "2018-08-31 19:00:00  197.0  116.0  133.0         207.0  \n",
       "2018-08-31 20:00:00  217.0  197.0  116.0         136.0  \n",
       "2018-08-31 21:00:00  207.0  217.0  197.0         154.0  \n",
       "2018-08-31 22:00:00  136.0  207.0  217.0         159.0  \n",
       "2018-08-31 23:00:00  154.0  136.0  207.0         223.0  \n",
       "\n",
       "[4411 rows x 11 columns]"
      ]
     },
     "execution_count": 87,
     "metadata": {},
     "output_type": "execute_result"
    }
   ],
   "source": [
    "data_learning = data.copy()\n",
    "get_features(data_learning)"
   ]
  },
  {
   "cell_type": "code",
   "execution_count": 88,
   "metadata": {},
   "outputs": [],
   "source": [
    "X = data_learning.drop(['num_orders'], axis=1)\n",
    "y = data_learning['num_orders']"
   ]
  },
  {
   "cell_type": "markdown",
   "metadata": {},
   "source": [
    "Разделим данные на обучающую и тестовую выборки"
   ]
  },
  {
   "cell_type": "code",
   "execution_count": 89,
   "metadata": {},
   "outputs": [],
   "source": [
    "X_train, X_test, y_train, y_test = train_test_split(X, \n",
    "                                                    y, \n",
    "                                                    shuffle=False, \n",
    "                                                    test_size=0.1, \n",
    "                                                    random_state=RANDOM_STATE)"
   ]
  },
  {
   "cell_type": "markdown",
   "metadata": {},
   "source": [
    "### LinearRegression"
   ]
  },
  {
   "cell_type": "code",
   "execution_count": 90,
   "metadata": {},
   "outputs": [],
   "source": [
    "model_lr = LinearRegression()\n",
    "\n",
    "model_lr.fit(X_train, y_train)\n",
    "\n",
    "predictions_lr = model_lr.predict(X_train)"
   ]
  },
  {
   "cell_type": "code",
   "execution_count": 91,
   "metadata": {
    "scrolled": false
   },
   "outputs": [
    {
     "name": "stdout",
     "output_type": "stream",
     "text": [
      "RMSE LinearRegression: 30.49\n"
     ]
    }
   ],
   "source": [
    "rmse = mean_squared_error(y_train, predictions_lr, squared=False)\n",
    "print(\"RMSE LinearRegression: %.2f\" % rmse)\n",
    "rmse_train.append(rmse)\n",
    "train_models.append([model_lr, rmse])"
   ]
  },
  {
   "cell_type": "markdown",
   "metadata": {},
   "source": [
    "### CatBoostRegression"
   ]
  },
  {
   "cell_type": "code",
   "execution_count": 92,
   "metadata": {},
   "outputs": [],
   "source": [
    "train_pool = Pool(X_train, \n",
    "                  y_train)\n",
    "\n",
    "test_pool = Pool(X_test)"
   ]
  },
  {
   "cell_type": "code",
   "execution_count": 93,
   "metadata": {
    "scrolled": true
   },
   "outputs": [
    {
     "name": "stdout",
     "output_type": "stream",
     "text": [
      "0:\tlearn: 28.9194957\ttotal: 778us\tremaining: 77ms\n",
      "1:\tlearn: 28.2166699\ttotal: 1.59ms\tremaining: 77.9ms\n",
      "2:\tlearn: 27.6355621\ttotal: 2.17ms\tremaining: 70.1ms\n",
      "3:\tlearn: 27.2261300\ttotal: 2.8ms\tremaining: 67.3ms\n",
      "4:\tlearn: 26.6653095\ttotal: 3.48ms\tremaining: 66.2ms\n",
      "5:\tlearn: 26.1130798\ttotal: 4.13ms\tremaining: 64.7ms\n",
      "6:\tlearn: 25.7568859\ttotal: 4.77ms\tremaining: 63.4ms\n",
      "7:\tlearn: 25.4169552\ttotal: 5.44ms\tremaining: 62.5ms\n",
      "8:\tlearn: 24.9473432\ttotal: 6.12ms\tremaining: 61.9ms\n",
      "9:\tlearn: 24.5375523\ttotal: 6.71ms\tremaining: 60.4ms\n",
      "10:\tlearn: 24.1948076\ttotal: 7.23ms\tremaining: 58.5ms\n",
      "11:\tlearn: 23.8171322\ttotal: 7.74ms\tremaining: 56.8ms\n",
      "12:\tlearn: 23.4335607\ttotal: 8.75ms\tremaining: 58.5ms\n",
      "13:\tlearn: 23.0713052\ttotal: 9.69ms\tremaining: 59.5ms\n",
      "14:\tlearn: 22.7445548\ttotal: 10.6ms\tremaining: 59.9ms\n",
      "15:\tlearn: 22.4273636\ttotal: 11.6ms\tremaining: 61ms\n",
      "16:\tlearn: 22.2354789\ttotal: 12.7ms\tremaining: 62ms\n",
      "17:\tlearn: 21.9912276\ttotal: 13.6ms\tremaining: 61.9ms\n",
      "18:\tlearn: 21.7953480\ttotal: 14.5ms\tremaining: 62ms\n",
      "19:\tlearn: 21.5642802\ttotal: 15.5ms\tremaining: 61.9ms\n",
      "20:\tlearn: 21.4149622\ttotal: 16.4ms\tremaining: 61.9ms\n",
      "21:\tlearn: 21.1427384\ttotal: 17.4ms\tremaining: 61.8ms\n",
      "22:\tlearn: 20.9485190\ttotal: 18.4ms\tremaining: 61.7ms\n",
      "23:\tlearn: 20.7652566\ttotal: 19.4ms\tremaining: 61.5ms\n",
      "24:\tlearn: 20.6385057\ttotal: 20.4ms\tremaining: 61.1ms\n",
      "25:\tlearn: 20.4767270\ttotal: 21.3ms\tremaining: 60.7ms\n",
      "26:\tlearn: 20.3064137\ttotal: 22.2ms\tremaining: 60.1ms\n",
      "27:\tlearn: 20.1273932\ttotal: 23.1ms\tremaining: 59.4ms\n",
      "28:\tlearn: 19.9419682\ttotal: 24.1ms\tremaining: 58.9ms\n",
      "29:\tlearn: 19.8212497\ttotal: 24.9ms\tremaining: 58.1ms\n",
      "30:\tlearn: 19.6984302\ttotal: 25.8ms\tremaining: 57.4ms\n",
      "31:\tlearn: 19.5513808\ttotal: 26.8ms\tremaining: 57ms\n",
      "32:\tlearn: 19.4607594\ttotal: 27.4ms\tremaining: 55.7ms\n",
      "33:\tlearn: 19.3082416\ttotal: 28.1ms\tremaining: 54.5ms\n",
      "34:\tlearn: 19.2442405\ttotal: 28.7ms\tremaining: 53.2ms\n",
      "35:\tlearn: 19.1235042\ttotal: 29.3ms\tremaining: 52.2ms\n",
      "36:\tlearn: 19.0148631\ttotal: 30ms\tremaining: 51.1ms\n",
      "37:\tlearn: 18.9367392\ttotal: 30.6ms\tremaining: 50ms\n",
      "38:\tlearn: 18.8162032\ttotal: 31.2ms\tremaining: 48.8ms\n",
      "39:\tlearn: 18.7505955\ttotal: 31.9ms\tremaining: 47.8ms\n",
      "40:\tlearn: 18.6303462\ttotal: 32.6ms\tremaining: 46.9ms\n",
      "41:\tlearn: 18.5455836\ttotal: 33.2ms\tremaining: 45.8ms\n",
      "42:\tlearn: 18.4776951\ttotal: 33.7ms\tremaining: 44.7ms\n",
      "43:\tlearn: 18.3879073\ttotal: 34.3ms\tremaining: 43.7ms\n",
      "44:\tlearn: 18.3217704\ttotal: 35ms\tremaining: 42.7ms\n",
      "45:\tlearn: 18.2670025\ttotal: 35.5ms\tremaining: 41.7ms\n",
      "46:\tlearn: 18.2097433\ttotal: 36.1ms\tremaining: 40.7ms\n",
      "47:\tlearn: 18.1458307\ttotal: 36.7ms\tremaining: 39.8ms\n",
      "48:\tlearn: 18.1005260\ttotal: 37.4ms\tremaining: 39ms\n",
      "49:\tlearn: 18.0450381\ttotal: 38.1ms\tremaining: 38.1ms\n",
      "50:\tlearn: 17.9988608\ttotal: 38.6ms\tremaining: 37ms\n",
      "51:\tlearn: 17.9077809\ttotal: 39.1ms\tremaining: 36.1ms\n",
      "52:\tlearn: 17.8732197\ttotal: 39.8ms\tremaining: 35.3ms\n",
      "53:\tlearn: 17.8145470\ttotal: 40.4ms\tremaining: 34.4ms\n",
      "54:\tlearn: 17.7590744\ttotal: 41ms\tremaining: 33.5ms\n",
      "55:\tlearn: 17.7011815\ttotal: 41.7ms\tremaining: 32.7ms\n",
      "56:\tlearn: 17.6592959\ttotal: 42.2ms\tremaining: 31.9ms\n",
      "57:\tlearn: 17.5747783\ttotal: 42.8ms\tremaining: 31ms\n",
      "58:\tlearn: 17.5352520\ttotal: 43.4ms\tremaining: 30.1ms\n",
      "59:\tlearn: 17.4928187\ttotal: 43.9ms\tremaining: 29.3ms\n",
      "60:\tlearn: 17.4438314\ttotal: 44.5ms\tremaining: 28.4ms\n",
      "61:\tlearn: 17.3984017\ttotal: 45.1ms\tremaining: 27.6ms\n",
      "62:\tlearn: 17.3504123\ttotal: 45.8ms\tremaining: 26.9ms\n",
      "63:\tlearn: 17.3149095\ttotal: 46.4ms\tremaining: 26.1ms\n",
      "64:\tlearn: 17.2898629\ttotal: 46.9ms\tremaining: 25.3ms\n",
      "65:\tlearn: 17.2648880\ttotal: 47.5ms\tremaining: 24.5ms\n",
      "66:\tlearn: 17.2167708\ttotal: 48.1ms\tremaining: 23.7ms\n",
      "67:\tlearn: 17.1751157\ttotal: 48.7ms\tremaining: 22.9ms\n",
      "68:\tlearn: 17.1403117\ttotal: 49.3ms\tremaining: 22.1ms\n",
      "69:\tlearn: 17.1167157\ttotal: 49.9ms\tremaining: 21.4ms\n",
      "70:\tlearn: 17.0710681\ttotal: 50.4ms\tremaining: 20.6ms\n",
      "71:\tlearn: 17.0385896\ttotal: 51.1ms\tremaining: 19.9ms\n",
      "72:\tlearn: 16.9933886\ttotal: 51.8ms\tremaining: 19.1ms\n",
      "73:\tlearn: 16.9381711\ttotal: 52.3ms\tremaining: 18.4ms\n",
      "74:\tlearn: 16.8999641\ttotal: 52.9ms\tremaining: 17.6ms\n",
      "75:\tlearn: 16.8851845\ttotal: 53.6ms\tremaining: 16.9ms\n",
      "76:\tlearn: 16.8370203\ttotal: 54.2ms\tremaining: 16.2ms\n",
      "77:\tlearn: 16.8038323\ttotal: 54.7ms\tremaining: 15.4ms\n",
      "78:\tlearn: 16.7691896\ttotal: 55.2ms\tremaining: 14.7ms\n",
      "79:\tlearn: 16.7442257\ttotal: 55.8ms\tremaining: 13.9ms\n",
      "80:\tlearn: 16.7047847\ttotal: 56.3ms\tremaining: 13.2ms\n",
      "81:\tlearn: 16.6613490\ttotal: 56.9ms\tremaining: 12.5ms\n",
      "82:\tlearn: 16.6439007\ttotal: 57.5ms\tremaining: 11.8ms\n",
      "83:\tlearn: 16.6244708\ttotal: 58ms\tremaining: 11ms\n",
      "84:\tlearn: 16.5869867\ttotal: 58.5ms\tremaining: 10.3ms\n",
      "85:\tlearn: 16.5543356\ttotal: 59.1ms\tremaining: 9.62ms\n",
      "86:\tlearn: 16.5307665\ttotal: 59.7ms\tremaining: 8.92ms\n",
      "87:\tlearn: 16.5179357\ttotal: 60.3ms\tremaining: 8.22ms\n",
      "88:\tlearn: 16.4860624\ttotal: 60.9ms\tremaining: 7.52ms\n",
      "89:\tlearn: 16.4668661\ttotal: 61.4ms\tremaining: 6.83ms\n",
      "90:\tlearn: 16.4233600\ttotal: 62.1ms\tremaining: 6.14ms\n",
      "91:\tlearn: 16.3717436\ttotal: 62.6ms\tremaining: 5.45ms\n",
      "92:\tlearn: 16.3424451\ttotal: 63.2ms\tremaining: 4.75ms\n",
      "93:\tlearn: 16.3122711\ttotal: 63.7ms\tremaining: 4.07ms\n",
      "94:\tlearn: 16.2798588\ttotal: 64.3ms\tremaining: 3.38ms\n",
      "95:\tlearn: 16.2460106\ttotal: 64.8ms\tremaining: 2.7ms\n",
      "96:\tlearn: 16.2086922\ttotal: 65.3ms\tremaining: 2.02ms\n",
      "97:\tlearn: 16.1803948\ttotal: 65.8ms\tremaining: 1.34ms\n",
      "98:\tlearn: 16.1447257\ttotal: 66.5ms\tremaining: 671us\n",
      "99:\tlearn: 16.1143703\ttotal: 67.3ms\tremaining: 0us\n",
      "0:\tlearn: 29.7345580\ttotal: 1.02ms\tremaining: 101ms\n",
      "1:\tlearn: 29.1891552\ttotal: 2.15ms\tremaining: 105ms\n",
      "2:\tlearn: 28.6500222\ttotal: 3.15ms\tremaining: 102ms\n",
      "3:\tlearn: 28.1649598\ttotal: 4.14ms\tremaining: 99.4ms\n",
      "4:\tlearn: 27.6654801\ttotal: 5.05ms\tremaining: 96ms\n",
      "5:\tlearn: 27.2224317\ttotal: 5.98ms\tremaining: 93.7ms\n",
      "6:\tlearn: 26.8393939\ttotal: 6.85ms\tremaining: 91ms\n",
      "7:\tlearn: 26.4453644\ttotal: 7.69ms\tremaining: 88.5ms\n",
      "8:\tlearn: 26.0524591\ttotal: 8.53ms\tremaining: 86.2ms\n",
      "9:\tlearn: 25.6839886\ttotal: 9.39ms\tremaining: 84.5ms\n",
      "10:\tlearn: 25.4307000\ttotal: 10.2ms\tremaining: 82.9ms\n",
      "11:\tlearn: 25.2262441\ttotal: 11.1ms\tremaining: 81.2ms\n",
      "12:\tlearn: 24.8843707\ttotal: 11.8ms\tremaining: 79.3ms\n",
      "13:\tlearn: 24.5985930\ttotal: 12.8ms\tremaining: 78.5ms\n",
      "14:\tlearn: 24.3524650\ttotal: 13.7ms\tremaining: 77.4ms\n",
      "15:\tlearn: 24.1312757\ttotal: 14.5ms\tremaining: 75.9ms\n",
      "16:\tlearn: 23.8721716\ttotal: 15.3ms\tremaining: 74.9ms\n",
      "17:\tlearn: 23.6689735\ttotal: 16.2ms\tremaining: 73.9ms\n",
      "18:\tlearn: 23.4841040\ttotal: 17ms\tremaining: 72.4ms\n",
      "19:\tlearn: 23.2151454\ttotal: 17.8ms\tremaining: 71.2ms\n",
      "20:\tlearn: 23.0139869\ttotal: 18.6ms\tremaining: 69.9ms\n",
      "21:\tlearn: 22.7684469\ttotal: 19.5ms\tremaining: 69ms\n",
      "22:\tlearn: 22.5680259\ttotal: 20.4ms\tremaining: 68.4ms\n",
      "23:\tlearn: 22.3855505\ttotal: 21.4ms\tremaining: 67.7ms\n",
      "24:\tlearn: 22.2493828\ttotal: 22.5ms\tremaining: 67.4ms\n",
      "25:\tlearn: 22.1285818\ttotal: 23.2ms\tremaining: 66.2ms\n",
      "26:\tlearn: 21.9708079\ttotal: 24ms\tremaining: 65ms\n",
      "27:\tlearn: 21.8495256\ttotal: 24.9ms\tremaining: 63.9ms\n",
      "28:\tlearn: 21.6926770\ttotal: 25.7ms\tremaining: 62.9ms\n",
      "29:\tlearn: 21.5766196\ttotal: 26.5ms\tremaining: 61.9ms\n",
      "30:\tlearn: 21.4389053\ttotal: 27.3ms\tremaining: 60.8ms\n",
      "31:\tlearn: 21.3476634\ttotal: 28.2ms\tremaining: 59.9ms\n",
      "32:\tlearn: 21.2645413\ttotal: 29.1ms\tremaining: 59ms\n",
      "33:\tlearn: 21.1905583\ttotal: 30ms\tremaining: 58.3ms\n",
      "34:\tlearn: 21.0951036\ttotal: 30.9ms\tremaining: 57.4ms\n",
      "35:\tlearn: 20.9842350\ttotal: 31.8ms\tremaining: 56.6ms\n",
      "36:\tlearn: 20.8655542\ttotal: 32.6ms\tremaining: 55.6ms\n",
      "37:\tlearn: 20.7923025\ttotal: 33.4ms\tremaining: 54.5ms\n",
      "38:\tlearn: 20.6752325\ttotal: 34.2ms\tremaining: 53.5ms\n",
      "39:\tlearn: 20.6220839\ttotal: 35.1ms\tremaining: 52.7ms\n",
      "40:\tlearn: 20.5593910\ttotal: 36ms\tremaining: 51.8ms\n",
      "41:\tlearn: 20.4549515\ttotal: 37ms\tremaining: 51.1ms\n",
      "42:\tlearn: 20.4015021\ttotal: 38.1ms\tremaining: 50.6ms\n",
      "43:\tlearn: 20.3225136\ttotal: 39ms\tremaining: 49.6ms\n",
      "44:\tlearn: 20.2482027\ttotal: 39.7ms\tremaining: 48.6ms\n",
      "45:\tlearn: 20.1945580\ttotal: 40.5ms\tremaining: 47.6ms\n",
      "46:\tlearn: 20.0934363\ttotal: 41.4ms\tremaining: 46.6ms\n",
      "47:\tlearn: 20.0233853\ttotal: 42.2ms\tremaining: 45.7ms\n",
      "48:\tlearn: 19.9931128\ttotal: 43ms\tremaining: 44.7ms\n",
      "49:\tlearn: 19.9306002\ttotal: 43.8ms\tremaining: 43.8ms\n",
      "50:\tlearn: 19.8564322\ttotal: 44.7ms\tremaining: 42.9ms\n",
      "51:\tlearn: 19.7847903\ttotal: 45.5ms\tremaining: 42ms\n",
      "52:\tlearn: 19.7207793\ttotal: 46.3ms\tremaining: 41.1ms\n",
      "53:\tlearn: 19.6695645\ttotal: 47.3ms\tremaining: 40.3ms\n",
      "54:\tlearn: 19.5852814\ttotal: 48.4ms\tremaining: 39.6ms\n",
      "55:\tlearn: 19.5342340\ttotal: 49.3ms\tremaining: 38.8ms\n",
      "56:\tlearn: 19.4901997\ttotal: 50.2ms\tremaining: 37.9ms\n",
      "57:\tlearn: 19.4511062\ttotal: 51ms\tremaining: 36.9ms\n",
      "58:\tlearn: 19.3957601\ttotal: 51.8ms\tremaining: 36ms\n",
      "59:\tlearn: 19.3505814\ttotal: 52.6ms\tremaining: 35.1ms\n",
      "60:\tlearn: 19.3184493\ttotal: 53.5ms\tremaining: 34.2ms\n",
      "61:\tlearn: 19.2555091\ttotal: 54.7ms\tremaining: 33.5ms\n",
      "62:\tlearn: 19.2085188\ttotal: 55.8ms\tremaining: 32.8ms\n",
      "63:\tlearn: 19.1795675\ttotal: 56.8ms\tremaining: 31.9ms\n",
      "64:\tlearn: 19.1546963\ttotal: 57.7ms\tremaining: 31.1ms\n",
      "65:\tlearn: 19.1128142\ttotal: 58.5ms\tremaining: 30.1ms\n",
      "66:\tlearn: 19.0532428\ttotal: 59.4ms\tremaining: 29.2ms\n",
      "67:\tlearn: 18.9990027\ttotal: 60.2ms\tremaining: 28.3ms\n",
      "68:\tlearn: 18.9428741\ttotal: 61ms\tremaining: 27.4ms\n",
      "69:\tlearn: 18.9135636\ttotal: 61.8ms\tremaining: 26.5ms\n",
      "70:\tlearn: 18.8636471\ttotal: 62.6ms\tremaining: 25.6ms\n",
      "71:\tlearn: 18.8151174\ttotal: 63.4ms\tremaining: 24.7ms\n",
      "72:\tlearn: 18.7740116\ttotal: 64.2ms\tremaining: 23.7ms\n",
      "73:\tlearn: 18.7443158\ttotal: 65ms\tremaining: 22.8ms\n",
      "74:\tlearn: 18.7051172\ttotal: 65.9ms\tremaining: 22ms\n",
      "75:\tlearn: 18.6769084\ttotal: 66.7ms\tremaining: 21.1ms\n",
      "76:\tlearn: 18.6506284\ttotal: 67.4ms\tremaining: 20.1ms\n",
      "77:\tlearn: 18.6178986\ttotal: 68.3ms\tremaining: 19.3ms\n",
      "78:\tlearn: 18.5956512\ttotal: 69.1ms\tremaining: 18.4ms\n",
      "79:\tlearn: 18.5609095\ttotal: 69.9ms\tremaining: 17.5ms\n",
      "80:\tlearn: 18.5415578\ttotal: 70.7ms\tremaining: 16.6ms\n",
      "81:\tlearn: 18.5022189\ttotal: 71.6ms\tremaining: 15.7ms\n",
      "82:\tlearn: 18.4687085\ttotal: 72.7ms\tremaining: 14.9ms\n",
      "83:\tlearn: 18.4524466\ttotal: 73.8ms\tremaining: 14.1ms\n",
      "84:\tlearn: 18.4092892\ttotal: 74.9ms\tremaining: 13.2ms\n",
      "85:\tlearn: 18.3898160\ttotal: 75.8ms\tremaining: 12.3ms\n",
      "86:\tlearn: 18.3767656\ttotal: 76.5ms\tremaining: 11.4ms\n",
      "87:\tlearn: 18.3596484\ttotal: 77.4ms\tremaining: 10.5ms\n",
      "88:\tlearn: 18.3219087\ttotal: 78.2ms\tremaining: 9.66ms\n",
      "89:\tlearn: 18.2806790\ttotal: 79ms\tremaining: 8.78ms\n",
      "90:\tlearn: 18.2589434\ttotal: 79.8ms\tremaining: 7.89ms\n",
      "91:\tlearn: 18.2283789\ttotal: 80.7ms\tremaining: 7.01ms\n",
      "92:\tlearn: 18.2059675\ttotal: 81.5ms\tremaining: 6.13ms\n",
      "93:\tlearn: 18.1539607\ttotal: 82.3ms\tremaining: 5.25ms\n",
      "94:\tlearn: 18.1247125\ttotal: 83.1ms\tremaining: 4.38ms\n",
      "95:\tlearn: 18.0807150\ttotal: 83.9ms\tremaining: 3.5ms\n",
      "96:\tlearn: 18.0463436\ttotal: 84.7ms\tremaining: 2.62ms\n",
      "97:\tlearn: 18.0117110\ttotal: 85.5ms\tremaining: 1.75ms\n",
      "98:\tlearn: 17.9966173\ttotal: 86.4ms\tremaining: 872us\n",
      "99:\tlearn: 17.9616648\ttotal: 87.2ms\tremaining: 0us\n"
     ]
    },
    {
     "name": "stdout",
     "output_type": "stream",
     "text": [
      "0:\tlearn: 31.2480920\ttotal: 1.19ms\tremaining: 118ms\n",
      "1:\tlearn: 30.6096313\ttotal: 2.25ms\tremaining: 110ms\n",
      "2:\tlearn: 30.0355834\ttotal: 3.37ms\tremaining: 109ms\n",
      "3:\tlearn: 29.5203363\ttotal: 4.37ms\tremaining: 105ms\n",
      "4:\tlearn: 29.0306836\ttotal: 5.27ms\tremaining: 100ms\n",
      "5:\tlearn: 28.6261059\ttotal: 6.15ms\tremaining: 96.4ms\n",
      "6:\tlearn: 28.1758711\ttotal: 7.03ms\tremaining: 93.4ms\n",
      "7:\tlearn: 27.8586333\ttotal: 7.89ms\tremaining: 90.8ms\n",
      "8:\tlearn: 27.4567259\ttotal: 8.73ms\tremaining: 88.3ms\n",
      "9:\tlearn: 27.1280408\ttotal: 9.64ms\tremaining: 86.8ms\n",
      "10:\tlearn: 26.8895177\ttotal: 10.7ms\tremaining: 86.4ms\n",
      "11:\tlearn: 26.6736474\ttotal: 11.6ms\tremaining: 85.1ms\n",
      "12:\tlearn: 26.4592992\ttotal: 12.5ms\tremaining: 83.8ms\n",
      "13:\tlearn: 26.1805509\ttotal: 13.5ms\tremaining: 82.7ms\n",
      "14:\tlearn: 25.8690419\ttotal: 14.3ms\tremaining: 81.2ms\n",
      "15:\tlearn: 25.6873536\ttotal: 15.3ms\tremaining: 80.1ms\n",
      "16:\tlearn: 25.4226316\ttotal: 16.2ms\tremaining: 78.9ms\n",
      "17:\tlearn: 25.2239658\ttotal: 17.1ms\tremaining: 77.8ms\n",
      "18:\tlearn: 25.0365445\ttotal: 17.9ms\tremaining: 76.2ms\n",
      "19:\tlearn: 24.8543346\ttotal: 18.8ms\tremaining: 75.2ms\n",
      "20:\tlearn: 24.6739254\ttotal: 19.7ms\tremaining: 74.2ms\n",
      "21:\tlearn: 24.5620909\ttotal: 20.7ms\tremaining: 73.2ms\n",
      "22:\tlearn: 24.3714021\ttotal: 21.6ms\tremaining: 72.1ms\n",
      "23:\tlearn: 24.2791397\ttotal: 22.4ms\tremaining: 70.9ms\n",
      "24:\tlearn: 24.1619193\ttotal: 23.2ms\tremaining: 69.7ms\n",
      "25:\tlearn: 24.0406646\ttotal: 24.1ms\tremaining: 68.5ms\n",
      "26:\tlearn: 23.8822988\ttotal: 24.9ms\tremaining: 67.4ms\n",
      "27:\tlearn: 23.7258789\ttotal: 25.9ms\tremaining: 66.5ms\n",
      "28:\tlearn: 23.5916315\ttotal: 26.8ms\tremaining: 65.5ms\n",
      "29:\tlearn: 23.4693436\ttotal: 27.7ms\tremaining: 64.5ms\n",
      "30:\tlearn: 23.3191906\ttotal: 28.7ms\tremaining: 63.9ms\n",
      "31:\tlearn: 23.1566169\ttotal: 29.7ms\tremaining: 63.2ms\n",
      "32:\tlearn: 23.0483786\ttotal: 30.6ms\tremaining: 62.2ms\n",
      "33:\tlearn: 22.9191093\ttotal: 31.5ms\tremaining: 61.2ms\n",
      "34:\tlearn: 22.8267530\ttotal: 32.5ms\tremaining: 60.3ms\n",
      "35:\tlearn: 22.7080664\ttotal: 33.4ms\tremaining: 59.4ms\n",
      "36:\tlearn: 22.6174478\ttotal: 34.3ms\tremaining: 58.4ms\n",
      "37:\tlearn: 22.5003991\ttotal: 35.3ms\tremaining: 57.6ms\n",
      "38:\tlearn: 22.4181447\ttotal: 36.2ms\tremaining: 56.7ms\n",
      "39:\tlearn: 22.2905701\ttotal: 37.1ms\tremaining: 55.7ms\n",
      "40:\tlearn: 22.1902821\ttotal: 38.1ms\tremaining: 54.8ms\n",
      "41:\tlearn: 22.0844717\ttotal: 39.1ms\tremaining: 54ms\n",
      "42:\tlearn: 21.9830576\ttotal: 40.1ms\tremaining: 53.1ms\n",
      "43:\tlearn: 21.8605970\ttotal: 41ms\tremaining: 52.2ms\n",
      "44:\tlearn: 21.8157483\ttotal: 42ms\tremaining: 51.3ms\n",
      "45:\tlearn: 21.7514731\ttotal: 42.9ms\tremaining: 50.4ms\n",
      "46:\tlearn: 21.7026999\ttotal: 43.8ms\tremaining: 49.4ms\n",
      "47:\tlearn: 21.6440143\ttotal: 44.7ms\tremaining: 48.4ms\n",
      "48:\tlearn: 21.5528287\ttotal: 45.6ms\tremaining: 47.4ms\n",
      "49:\tlearn: 21.5149127\ttotal: 46.5ms\tremaining: 46.5ms\n",
      "50:\tlearn: 21.4382449\ttotal: 47.4ms\tremaining: 45.5ms\n",
      "51:\tlearn: 21.3920718\ttotal: 48.4ms\tremaining: 44.6ms\n",
      "52:\tlearn: 21.3327312\ttotal: 49.3ms\tremaining: 43.7ms\n",
      "53:\tlearn: 21.2563412\ttotal: 50.2ms\tremaining: 42.8ms\n",
      "54:\tlearn: 21.1843250\ttotal: 51.3ms\tremaining: 42ms\n",
      "55:\tlearn: 21.1420532\ttotal: 52.3ms\tremaining: 41.1ms\n",
      "56:\tlearn: 21.0784943\ttotal: 53.4ms\tremaining: 40.3ms\n",
      "57:\tlearn: 21.0554546\ttotal: 54.4ms\tremaining: 39.4ms\n",
      "58:\tlearn: 20.9744759\ttotal: 55.4ms\tremaining: 38.5ms\n",
      "59:\tlearn: 20.9457121\ttotal: 56.5ms\tremaining: 37.7ms\n",
      "60:\tlearn: 20.8905575\ttotal: 57.6ms\tremaining: 36.9ms\n",
      "61:\tlearn: 20.8613499\ttotal: 58.6ms\tremaining: 35.9ms\n",
      "62:\tlearn: 20.8304796\ttotal: 59.7ms\tremaining: 35.1ms\n",
      "63:\tlearn: 20.7956777\ttotal: 60.8ms\tremaining: 34.2ms\n",
      "64:\tlearn: 20.7449985\ttotal: 61.8ms\tremaining: 33.3ms\n",
      "65:\tlearn: 20.6558223\ttotal: 62.8ms\tremaining: 32.3ms\n",
      "66:\tlearn: 20.5991275\ttotal: 63.9ms\tremaining: 31.5ms\n",
      "67:\tlearn: 20.5778270\ttotal: 64.8ms\tremaining: 30.5ms\n",
      "68:\tlearn: 20.5473509\ttotal: 65.8ms\tremaining: 29.6ms\n",
      "69:\tlearn: 20.5021972\ttotal: 66.8ms\tremaining: 28.6ms\n",
      "70:\tlearn: 20.4679359\ttotal: 67.9ms\tremaining: 27.7ms\n",
      "71:\tlearn: 20.4130000\ttotal: 68.9ms\tremaining: 26.8ms\n",
      "72:\tlearn: 20.3763181\ttotal: 69.9ms\tremaining: 25.9ms\n",
      "73:\tlearn: 20.3347032\ttotal: 70.9ms\tremaining: 24.9ms\n",
      "74:\tlearn: 20.3101162\ttotal: 71.9ms\tremaining: 24ms\n",
      "75:\tlearn: 20.2410299\ttotal: 72.9ms\tremaining: 23ms\n",
      "76:\tlearn: 20.1708620\ttotal: 73.9ms\tremaining: 22.1ms\n",
      "77:\tlearn: 20.1445041\ttotal: 75ms\tremaining: 21.1ms\n",
      "78:\tlearn: 20.0804062\ttotal: 76.1ms\tremaining: 20.2ms\n",
      "79:\tlearn: 20.0515747\ttotal: 77.5ms\tremaining: 19.4ms\n",
      "80:\tlearn: 20.0130595\ttotal: 79.1ms\tremaining: 18.5ms\n",
      "81:\tlearn: 20.0014495\ttotal: 80.5ms\tremaining: 17.7ms\n",
      "82:\tlearn: 19.9431379\ttotal: 82.1ms\tremaining: 16.8ms\n",
      "83:\tlearn: 19.9033603\ttotal: 83.7ms\tremaining: 15.9ms\n",
      "84:\tlearn: 19.8681661\ttotal: 85.2ms\tremaining: 15ms\n",
      "85:\tlearn: 19.8540654\ttotal: 86.6ms\tremaining: 14.1ms\n",
      "86:\tlearn: 19.8276416\ttotal: 87.6ms\tremaining: 13.1ms\n",
      "87:\tlearn: 19.7846162\ttotal: 88.5ms\tremaining: 12.1ms\n",
      "88:\tlearn: 19.7742201\ttotal: 89.6ms\tremaining: 11.1ms\n",
      "89:\tlearn: 19.7509836\ttotal: 90.7ms\tremaining: 10.1ms\n",
      "90:\tlearn: 19.6950835\ttotal: 91.7ms\tremaining: 9.07ms\n",
      "91:\tlearn: 19.6647996\ttotal: 92.7ms\tremaining: 8.06ms\n",
      "92:\tlearn: 19.6471960\ttotal: 93.6ms\tremaining: 7.04ms\n",
      "93:\tlearn: 19.6266504\ttotal: 94.6ms\tremaining: 6.04ms\n",
      "94:\tlearn: 19.6074021\ttotal: 95.5ms\tremaining: 5.03ms\n",
      "95:\tlearn: 19.5733076\ttotal: 96.4ms\tremaining: 4.02ms\n",
      "96:\tlearn: 19.5362256\ttotal: 97.3ms\tremaining: 3.01ms\n",
      "97:\tlearn: 19.5182936\ttotal: 98.2ms\tremaining: 2ms\n",
      "98:\tlearn: 19.4993574\ttotal: 99.2ms\tremaining: 1ms\n",
      "99:\tlearn: 19.4375271\ttotal: 100ms\tremaining: 0us\n",
      "0:\tlearn: 32.6482119\ttotal: 1.3ms\tremaining: 129ms\n",
      "1:\tlearn: 32.0041309\ttotal: 2.5ms\tremaining: 122ms\n",
      "2:\tlearn: 31.3817501\ttotal: 3.59ms\tremaining: 116ms\n",
      "3:\tlearn: 30.7979321\ttotal: 4.65ms\tremaining: 112ms\n",
      "4:\tlearn: 30.2585491\ttotal: 5.63ms\tremaining: 107ms\n",
      "5:\tlearn: 29.8230024\ttotal: 6.63ms\tremaining: 104ms\n",
      "6:\tlearn: 29.3607292\ttotal: 7.64ms\tremaining: 102ms\n",
      "7:\tlearn: 29.0111915\ttotal: 8.59ms\tremaining: 98.8ms\n",
      "8:\tlearn: 28.5924562\ttotal: 9.68ms\tremaining: 97.9ms\n",
      "9:\tlearn: 28.2570736\ttotal: 10.7ms\tremaining: 96.6ms\n",
      "10:\tlearn: 27.9627704\ttotal: 11.7ms\tremaining: 94.4ms\n",
      "11:\tlearn: 27.6496162\ttotal: 12.5ms\tremaining: 92ms\n",
      "12:\tlearn: 27.3130970\ttotal: 13.5ms\tremaining: 90.5ms\n",
      "13:\tlearn: 27.0458990\ttotal: 14.5ms\tremaining: 89ms\n",
      "14:\tlearn: 26.7306933\ttotal: 15.5ms\tremaining: 87.6ms\n",
      "15:\tlearn: 26.4825434\ttotal: 16.4ms\tremaining: 86.4ms\n",
      "16:\tlearn: 26.2532135\ttotal: 17.5ms\tremaining: 85.5ms\n",
      "17:\tlearn: 26.0305450\ttotal: 18.5ms\tremaining: 84.2ms\n",
      "18:\tlearn: 25.7960292\ttotal: 19.6ms\tremaining: 83.3ms\n",
      "19:\tlearn: 25.6030771\ttotal: 20.5ms\tremaining: 82.2ms\n",
      "20:\tlearn: 25.4577952\ttotal: 21.5ms\tremaining: 80.9ms\n",
      "21:\tlearn: 25.3449308\ttotal: 22.4ms\tremaining: 79.5ms\n",
      "22:\tlearn: 25.1971955\ttotal: 23.4ms\tremaining: 78.2ms\n",
      "23:\tlearn: 25.0891599\ttotal: 24.4ms\tremaining: 77.2ms\n",
      "24:\tlearn: 24.9677464\ttotal: 25.5ms\tremaining: 76.6ms\n",
      "25:\tlearn: 24.7694299\ttotal: 26.6ms\tremaining: 75.7ms\n",
      "26:\tlearn: 24.5895104\ttotal: 27.6ms\tremaining: 74.5ms\n",
      "27:\tlearn: 24.4891373\ttotal: 28.5ms\tremaining: 73.3ms\n",
      "28:\tlearn: 24.3375465\ttotal: 29.5ms\tremaining: 72.2ms\n",
      "29:\tlearn: 24.2009610\ttotal: 30.5ms\tremaining: 71.1ms\n",
      "30:\tlearn: 24.0298861\ttotal: 31.4ms\tremaining: 69.9ms\n",
      "31:\tlearn: 23.9258067\ttotal: 32.3ms\tremaining: 68.7ms\n",
      "32:\tlearn: 23.8119096\ttotal: 33.4ms\tremaining: 67.8ms\n",
      "33:\tlearn: 23.6961601\ttotal: 34.4ms\tremaining: 66.8ms\n",
      "34:\tlearn: 23.5605675\ttotal: 35.4ms\tremaining: 65.8ms\n",
      "35:\tlearn: 23.4334031\ttotal: 36.4ms\tremaining: 64.7ms\n",
      "36:\tlearn: 23.3630932\ttotal: 37.3ms\tremaining: 63.5ms\n",
      "37:\tlearn: 23.2838880\ttotal: 38.3ms\tremaining: 62.4ms\n",
      "38:\tlearn: 23.2227343\ttotal: 39.3ms\tremaining: 61.4ms\n",
      "39:\tlearn: 23.1324575\ttotal: 40.3ms\tremaining: 60.5ms\n",
      "40:\tlearn: 23.0522638\ttotal: 41.4ms\tremaining: 59.5ms\n",
      "41:\tlearn: 22.9387232\ttotal: 42.5ms\tremaining: 58.7ms\n",
      "42:\tlearn: 22.8484984\ttotal: 43.5ms\tremaining: 57.6ms\n",
      "43:\tlearn: 22.7427484\ttotal: 44.5ms\tremaining: 56.7ms\n",
      "44:\tlearn: 22.6989747\ttotal: 45.6ms\tremaining: 55.7ms\n",
      "45:\tlearn: 22.6107495\ttotal: 46.5ms\tremaining: 54.6ms\n",
      "46:\tlearn: 22.5425422\ttotal: 47.6ms\tremaining: 53.6ms\n",
      "47:\tlearn: 22.4938737\ttotal: 48.6ms\tremaining: 52.6ms\n",
      "48:\tlearn: 22.4038212\ttotal: 49.7ms\tremaining: 51.7ms\n",
      "49:\tlearn: 22.3569336\ttotal: 50.6ms\tremaining: 50.6ms\n",
      "50:\tlearn: 22.2845302\ttotal: 51.7ms\tremaining: 49.6ms\n",
      "51:\tlearn: 22.2411321\ttotal: 52.7ms\tremaining: 48.7ms\n",
      "52:\tlearn: 22.1861791\ttotal: 53.8ms\tremaining: 47.7ms\n",
      "53:\tlearn: 22.1329931\ttotal: 54.8ms\tremaining: 46.7ms\n",
      "54:\tlearn: 22.0933578\ttotal: 55.9ms\tremaining: 45.7ms\n",
      "55:\tlearn: 22.0174086\ttotal: 56.9ms\tremaining: 44.7ms\n",
      "56:\tlearn: 21.9548708\ttotal: 57.9ms\tremaining: 43.7ms\n",
      "57:\tlearn: 21.9010056\ttotal: 58.9ms\tremaining: 42.6ms\n",
      "58:\tlearn: 21.8215096\ttotal: 59.9ms\tremaining: 41.6ms\n",
      "59:\tlearn: 21.7949997\ttotal: 60.9ms\tremaining: 40.6ms\n",
      "60:\tlearn: 21.7429998\ttotal: 61.9ms\tremaining: 39.6ms\n",
      "61:\tlearn: 21.7078098\ttotal: 62.8ms\tremaining: 38.5ms\n",
      "62:\tlearn: 21.6810894\ttotal: 63.8ms\tremaining: 37.5ms\n",
      "63:\tlearn: 21.6429009\ttotal: 64.9ms\tremaining: 36.5ms\n",
      "64:\tlearn: 21.5897947\ttotal: 66ms\tremaining: 35.5ms\n",
      "65:\tlearn: 21.5653833\ttotal: 67ms\tremaining: 34.5ms\n",
      "66:\tlearn: 21.5240843\ttotal: 68ms\tremaining: 33.5ms\n",
      "67:\tlearn: 21.4881682\ttotal: 69ms\tremaining: 32.5ms\n",
      "68:\tlearn: 21.4568435\ttotal: 70.1ms\tremaining: 31.5ms\n",
      "69:\tlearn: 21.3830319\ttotal: 71.1ms\tremaining: 30.5ms\n",
      "70:\tlearn: 21.3470659\ttotal: 72.2ms\tremaining: 29.5ms\n",
      "71:\tlearn: 21.3063697\ttotal: 73.2ms\tremaining: 28.5ms\n",
      "72:\tlearn: 21.2661461\ttotal: 74.2ms\tremaining: 27.5ms\n",
      "73:\tlearn: 21.2278177\ttotal: 75.2ms\tremaining: 26.4ms\n",
      "74:\tlearn: 21.1866182\ttotal: 76.2ms\tremaining: 25.4ms\n",
      "75:\tlearn: 21.1615043\ttotal: 77.2ms\tremaining: 24.4ms\n",
      "76:\tlearn: 21.0952430\ttotal: 78.1ms\tremaining: 23.3ms\n",
      "77:\tlearn: 21.0596216\ttotal: 79.1ms\tremaining: 22.3ms\n",
      "78:\tlearn: 21.0327692\ttotal: 80.1ms\tremaining: 21.3ms\n",
      "79:\tlearn: 20.9939280\ttotal: 81.2ms\tremaining: 20.3ms\n",
      "80:\tlearn: 20.9462192\ttotal: 82.3ms\tremaining: 19.3ms\n",
      "81:\tlearn: 20.9152438\ttotal: 83.3ms\tremaining: 18.3ms\n",
      "82:\tlearn: 20.8547328\ttotal: 84.4ms\tremaining: 17.3ms\n",
      "83:\tlearn: 20.7856086\ttotal: 85.4ms\tremaining: 16.3ms\n",
      "84:\tlearn: 20.7540207\ttotal: 86.5ms\tremaining: 15.3ms\n",
      "85:\tlearn: 20.7373285\ttotal: 87.4ms\tremaining: 14.2ms\n",
      "86:\tlearn: 20.7050665\ttotal: 88.5ms\tremaining: 13.2ms\n",
      "87:\tlearn: 20.6647311\ttotal: 89.5ms\tremaining: 12.2ms\n",
      "88:\tlearn: 20.6541060\ttotal: 90.5ms\tremaining: 11.2ms\n",
      "89:\tlearn: 20.6467575\ttotal: 91.6ms\tremaining: 10.2ms\n",
      "90:\tlearn: 20.6302946\ttotal: 92.7ms\tremaining: 9.16ms\n",
      "91:\tlearn: 20.6141558\ttotal: 93.6ms\tremaining: 8.14ms\n",
      "92:\tlearn: 20.5966154\ttotal: 94.6ms\tremaining: 7.12ms\n",
      "93:\tlearn: 20.5496038\ttotal: 95.7ms\tremaining: 6.11ms\n",
      "94:\tlearn: 20.5197357\ttotal: 96.7ms\tremaining: 5.09ms\n",
      "95:\tlearn: 20.4897906\ttotal: 97.8ms\tremaining: 4.08ms\n",
      "96:\tlearn: 20.4538686\ttotal: 98.8ms\tremaining: 3.06ms\n",
      "97:\tlearn: 20.4138142\ttotal: 99.7ms\tremaining: 2.04ms\n",
      "98:\tlearn: 20.4011019\ttotal: 101ms\tremaining: 1.02ms\n",
      "99:\tlearn: 20.3895353\ttotal: 102ms\tremaining: 0us\n"
     ]
    },
    {
     "name": "stdout",
     "output_type": "stream",
     "text": [
      "0:\tlearn: 34.0490154\ttotal: 1.43ms\tremaining: 142ms\n",
      "1:\tlearn: 33.3928239\ttotal: 2.71ms\tremaining: 133ms\n",
      "2:\tlearn: 32.7577669\ttotal: 3.91ms\tremaining: 126ms\n",
      "3:\tlearn: 32.1149598\ttotal: 5.02ms\tremaining: 120ms\n",
      "4:\tlearn: 31.5641836\ttotal: 6.24ms\tremaining: 119ms\n",
      "5:\tlearn: 31.0130320\ttotal: 7.41ms\tremaining: 116ms\n",
      "6:\tlearn: 30.5344813\ttotal: 8.55ms\tremaining: 114ms\n",
      "7:\tlearn: 30.1141569\ttotal: 9.73ms\tremaining: 112ms\n",
      "8:\tlearn: 29.6469933\ttotal: 10.8ms\tremaining: 109ms\n",
      "9:\tlearn: 29.2868099\ttotal: 12ms\tremaining: 108ms\n",
      "10:\tlearn: 28.9621515\ttotal: 13.2ms\tremaining: 107ms\n",
      "11:\tlearn: 28.5667457\ttotal: 14.4ms\tremaining: 106ms\n",
      "12:\tlearn: 28.3120030\ttotal: 15.6ms\tremaining: 104ms\n",
      "13:\tlearn: 28.0704450\ttotal: 16.7ms\tremaining: 103ms\n",
      "14:\tlearn: 27.6990016\ttotal: 17.9ms\tremaining: 101ms\n",
      "15:\tlearn: 27.4241518\ttotal: 19ms\tremaining: 100ms\n",
      "16:\tlearn: 27.1077423\ttotal: 20.1ms\tremaining: 98.2ms\n",
      "17:\tlearn: 26.8302806\ttotal: 21.2ms\tremaining: 96.5ms\n",
      "18:\tlearn: 26.5820071\ttotal: 22.3ms\tremaining: 95.2ms\n",
      "19:\tlearn: 26.3862695\ttotal: 23.5ms\tremaining: 93.9ms\n",
      "20:\tlearn: 26.2097216\ttotal: 24.6ms\tremaining: 92.7ms\n",
      "21:\tlearn: 26.0964275\ttotal: 26ms\tremaining: 92.1ms\n",
      "22:\tlearn: 25.8672195\ttotal: 27.2ms\tremaining: 90.9ms\n",
      "23:\tlearn: 25.6934285\ttotal: 28.4ms\tremaining: 90.1ms\n",
      "24:\tlearn: 25.5562571\ttotal: 29.6ms\tremaining: 88.8ms\n",
      "25:\tlearn: 25.4149613\ttotal: 30.8ms\tremaining: 87.7ms\n",
      "26:\tlearn: 25.2424138\ttotal: 32.1ms\tremaining: 86.8ms\n",
      "27:\tlearn: 25.1332742\ttotal: 33.3ms\tremaining: 85.6ms\n",
      "28:\tlearn: 25.0075291\ttotal: 34.5ms\tremaining: 84.4ms\n",
      "29:\tlearn: 24.8619321\ttotal: 35.6ms\tremaining: 83.2ms\n",
      "30:\tlearn: 24.7206790\ttotal: 36.7ms\tremaining: 81.7ms\n",
      "31:\tlearn: 24.5920821\ttotal: 38ms\tremaining: 80.7ms\n",
      "32:\tlearn: 24.4620773\ttotal: 39.2ms\tremaining: 79.7ms\n",
      "33:\tlearn: 24.3644631\ttotal: 40.4ms\tremaining: 78.5ms\n",
      "34:\tlearn: 24.2371896\ttotal: 41.7ms\tremaining: 77.4ms\n",
      "35:\tlearn: 24.1434999\ttotal: 42.8ms\tremaining: 76.1ms\n",
      "36:\tlearn: 24.0688396\ttotal: 43.9ms\tremaining: 74.8ms\n",
      "37:\tlearn: 23.9938156\ttotal: 45.1ms\tremaining: 73.6ms\n",
      "38:\tlearn: 23.9059314\ttotal: 46.3ms\tremaining: 72.4ms\n",
      "39:\tlearn: 23.8417774\ttotal: 47.4ms\tremaining: 71.1ms\n",
      "40:\tlearn: 23.7627470\ttotal: 48.5ms\tremaining: 69.7ms\n",
      "41:\tlearn: 23.6924778\ttotal: 49.7ms\tremaining: 68.6ms\n",
      "42:\tlearn: 23.5984288\ttotal: 50.8ms\tremaining: 67.3ms\n",
      "43:\tlearn: 23.4928036\ttotal: 51.8ms\tremaining: 65.9ms\n",
      "44:\tlearn: 23.4543746\ttotal: 53ms\tremaining: 64.8ms\n",
      "45:\tlearn: 23.3702348\ttotal: 54.1ms\tremaining: 63.5ms\n",
      "46:\tlearn: 23.2970718\ttotal: 55.1ms\tremaining: 62.2ms\n",
      "47:\tlearn: 23.2484548\ttotal: 56.2ms\tremaining: 60.9ms\n",
      "48:\tlearn: 23.1638554\ttotal: 57.3ms\tremaining: 59.6ms\n",
      "49:\tlearn: 23.1153300\ttotal: 58.6ms\tremaining: 58.6ms\n",
      "50:\tlearn: 23.0349271\ttotal: 59.7ms\tremaining: 57.4ms\n",
      "51:\tlearn: 22.9992243\ttotal: 61ms\tremaining: 56.3ms\n",
      "52:\tlearn: 22.9461683\ttotal: 62.1ms\tremaining: 55.1ms\n",
      "53:\tlearn: 22.8972379\ttotal: 63.3ms\tremaining: 53.9ms\n",
      "54:\tlearn: 22.8187550\ttotal: 64.4ms\tremaining: 52.7ms\n",
      "55:\tlearn: 22.7460584\ttotal: 65.4ms\tremaining: 51.4ms\n",
      "56:\tlearn: 22.7048736\ttotal: 66.6ms\tremaining: 50.3ms\n",
      "57:\tlearn: 22.6467187\ttotal: 67.7ms\tremaining: 49ms\n",
      "58:\tlearn: 22.5923864\ttotal: 68.8ms\tremaining: 47.8ms\n",
      "59:\tlearn: 22.5704129\ttotal: 69.9ms\tremaining: 46.6ms\n",
      "60:\tlearn: 22.5050118\ttotal: 71ms\tremaining: 45.4ms\n",
      "61:\tlearn: 22.4787448\ttotal: 72.1ms\tremaining: 44.2ms\n",
      "62:\tlearn: 22.4392151\ttotal: 73.3ms\tremaining: 43.1ms\n",
      "63:\tlearn: 22.3973669\ttotal: 74.4ms\tremaining: 41.8ms\n",
      "64:\tlearn: 22.3198279\ttotal: 75.5ms\tremaining: 40.6ms\n",
      "65:\tlearn: 22.2638164\ttotal: 76.7ms\tremaining: 39.5ms\n",
      "66:\tlearn: 22.2007301\ttotal: 77.8ms\tremaining: 38.3ms\n",
      "67:\tlearn: 22.1663347\ttotal: 79ms\tremaining: 37.2ms\n",
      "68:\tlearn: 22.1440409\ttotal: 80.1ms\tremaining: 36ms\n",
      "69:\tlearn: 22.0957219\ttotal: 81.2ms\tremaining: 34.8ms\n",
      "70:\tlearn: 22.0614988\ttotal: 82.3ms\tremaining: 33.6ms\n",
      "71:\tlearn: 22.0290886\ttotal: 83.4ms\tremaining: 32.4ms\n",
      "72:\tlearn: 21.9944073\ttotal: 84.5ms\tremaining: 31.3ms\n",
      "73:\tlearn: 21.9649369\ttotal: 85.8ms\tremaining: 30.1ms\n",
      "74:\tlearn: 21.9389660\ttotal: 86.8ms\tremaining: 28.9ms\n",
      "75:\tlearn: 21.8938171\ttotal: 87.9ms\tremaining: 27.7ms\n",
      "76:\tlearn: 21.8268171\ttotal: 89ms\tremaining: 26.6ms\n",
      "77:\tlearn: 21.7940316\ttotal: 90.1ms\tremaining: 25.4ms\n",
      "78:\tlearn: 21.7402372\ttotal: 91.2ms\tremaining: 24.2ms\n",
      "79:\tlearn: 21.6965459\ttotal: 92.3ms\tremaining: 23.1ms\n",
      "80:\tlearn: 21.6462238\ttotal: 93.4ms\tremaining: 21.9ms\n",
      "81:\tlearn: 21.6236594\ttotal: 94.6ms\tremaining: 20.8ms\n",
      "82:\tlearn: 21.5664420\ttotal: 95.7ms\tremaining: 19.6ms\n",
      "83:\tlearn: 21.5161233\ttotal: 96.8ms\tremaining: 18.4ms\n",
      "84:\tlearn: 21.4885150\ttotal: 97.9ms\tremaining: 17.3ms\n",
      "85:\tlearn: 21.4484733\ttotal: 99ms\tremaining: 16.1ms\n",
      "86:\tlearn: 21.4024128\ttotal: 100ms\tremaining: 15ms\n",
      "87:\tlearn: 21.3593824\ttotal: 101ms\tremaining: 13.8ms\n",
      "88:\tlearn: 21.3442454\ttotal: 102ms\tremaining: 12.7ms\n",
      "89:\tlearn: 21.3202371\ttotal: 104ms\tremaining: 11.5ms\n",
      "90:\tlearn: 21.2904992\ttotal: 105ms\tremaining: 10.4ms\n",
      "91:\tlearn: 21.2519702\ttotal: 106ms\tremaining: 9.2ms\n",
      "92:\tlearn: 21.2368421\ttotal: 107ms\tremaining: 8.05ms\n",
      "93:\tlearn: 21.2073837\ttotal: 108ms\tremaining: 6.9ms\n",
      "94:\tlearn: 21.1839930\ttotal: 109ms\tremaining: 5.75ms\n",
      "95:\tlearn: 21.1588256\ttotal: 110ms\tremaining: 4.6ms\n",
      "96:\tlearn: 21.1252307\ttotal: 112ms\tremaining: 3.45ms\n",
      "97:\tlearn: 21.0958751\ttotal: 113ms\tremaining: 2.3ms\n",
      "98:\tlearn: 21.0741248\ttotal: 114ms\tremaining: 1.15ms\n",
      "99:\tlearn: 21.0504187\ttotal: 115ms\tremaining: 0us\n",
      "0:\tlearn: 20.4160722\ttotal: 792us\tremaining: 78.5ms\n",
      "1:\tlearn: 18.8061795\ttotal: 1.8ms\tremaining: 88.1ms\n",
      "2:\tlearn: 18.2074800\ttotal: 2.5ms\tremaining: 80.9ms\n",
      "3:\tlearn: 17.0823680\ttotal: 3.09ms\tremaining: 74.1ms\n",
      "4:\tlearn: 16.6220779\ttotal: 3.77ms\tremaining: 71.6ms\n",
      "5:\tlearn: 15.8111917\ttotal: 4.36ms\tremaining: 68.3ms\n",
      "6:\tlearn: 15.3969598\ttotal: 4.99ms\tremaining: 66.3ms\n",
      "7:\tlearn: 14.8658437\ttotal: 5.85ms\tremaining: 67.3ms\n",
      "8:\tlearn: 14.4683019\ttotal: 6.42ms\tremaining: 64.9ms\n",
      "9:\tlearn: 13.7480913\ttotal: 7.17ms\tremaining: 64.5ms\n",
      "10:\tlearn: 13.5972994\ttotal: 7.88ms\tremaining: 63.8ms\n",
      "11:\tlearn: 13.2588041\ttotal: 8.61ms\tremaining: 63.2ms\n",
      "12:\tlearn: 12.8227030\ttotal: 9.24ms\tremaining: 61.9ms\n",
      "13:\tlearn: 12.4755772\ttotal: 9.89ms\tremaining: 60.7ms\n",
      "14:\tlearn: 12.1994743\ttotal: 10.5ms\tremaining: 59.6ms\n",
      "15:\tlearn: 11.8071015\ttotal: 11.1ms\tremaining: 58.2ms\n",
      "16:\tlearn: 11.3930196\ttotal: 11.7ms\tremaining: 56.9ms\n",
      "17:\tlearn: 11.3475799\ttotal: 12.3ms\tremaining: 55.9ms\n",
      "18:\tlearn: 11.1419893\ttotal: 12.9ms\tremaining: 55ms\n",
      "19:\tlearn: 10.7896682\ttotal: 13.5ms\tremaining: 54ms\n",
      "20:\tlearn: 10.5090625\ttotal: 14.2ms\tremaining: 53.3ms\n",
      "21:\tlearn: 10.3339833\ttotal: 14.7ms\tremaining: 52.3ms\n",
      "22:\tlearn: 10.2671649\ttotal: 15.4ms\tremaining: 51.4ms\n",
      "23:\tlearn: 10.0801018\ttotal: 15.9ms\tremaining: 50.5ms\n",
      "24:\tlearn: 9.8152992\ttotal: 16.5ms\tremaining: 49.6ms\n",
      "25:\tlearn: 9.5060935\ttotal: 17.2ms\tremaining: 48.9ms\n",
      "26:\tlearn: 9.2997061\ttotal: 17.8ms\tremaining: 48ms\n",
      "27:\tlearn: 9.0275332\ttotal: 18.3ms\tremaining: 46.9ms\n",
      "28:\tlearn: 8.7925962\ttotal: 18.8ms\tremaining: 46.1ms\n",
      "29:\tlearn: 8.6295838\ttotal: 19.4ms\tremaining: 45.3ms\n",
      "30:\tlearn: 8.4979880\ttotal: 20.1ms\tremaining: 44.7ms\n",
      "31:\tlearn: 8.3312062\ttotal: 20.6ms\tremaining: 43.8ms\n",
      "32:\tlearn: 8.2371272\ttotal: 21.1ms\tremaining: 42.9ms\n",
      "33:\tlearn: 7.8944029\ttotal: 21.8ms\tremaining: 42.3ms\n",
      "34:\tlearn: 7.8323706\ttotal: 22.4ms\tremaining: 41.5ms\n",
      "35:\tlearn: 7.6602103\ttotal: 22.9ms\tremaining: 40.8ms\n",
      "36:\tlearn: 7.5149287\ttotal: 23.5ms\tremaining: 40ms\n",
      "37:\tlearn: 7.4606549\ttotal: 24.1ms\tremaining: 39.3ms\n",
      "38:\tlearn: 7.2133464\ttotal: 24.6ms\tremaining: 38.5ms\n",
      "39:\tlearn: 7.0149833\ttotal: 25.3ms\tremaining: 37.9ms\n",
      "40:\tlearn: 6.8744111\ttotal: 25.9ms\tremaining: 37.3ms\n",
      "41:\tlearn: 6.7254632\ttotal: 26.4ms\tremaining: 36.5ms\n",
      "42:\tlearn: 6.6207913\ttotal: 26.9ms\tremaining: 35.7ms\n",
      "43:\tlearn: 6.5241427\ttotal: 27.6ms\tremaining: 35.1ms\n",
      "44:\tlearn: 6.3647454\ttotal: 28.6ms\tremaining: 34.9ms\n",
      "45:\tlearn: 6.2255186\ttotal: 29.6ms\tremaining: 34.8ms\n",
      "46:\tlearn: 6.0602543\ttotal: 30.5ms\tremaining: 34.4ms\n",
      "47:\tlearn: 5.9012814\ttotal: 31.5ms\tremaining: 34.1ms\n",
      "48:\tlearn: 5.7842824\ttotal: 32.4ms\tremaining: 33.7ms\n",
      "49:\tlearn: 5.6932008\ttotal: 33.2ms\tremaining: 33.2ms\n",
      "50:\tlearn: 5.5872630\ttotal: 34ms\tremaining: 32.7ms\n",
      "51:\tlearn: 5.5417008\ttotal: 34.9ms\tremaining: 32.3ms\n",
      "52:\tlearn: 5.4175754\ttotal: 35.8ms\tremaining: 31.8ms\n",
      "53:\tlearn: 5.2931696\ttotal: 36.8ms\tremaining: 31.3ms\n",
      "54:\tlearn: 5.1672251\ttotal: 37.6ms\tremaining: 30.8ms\n",
      "55:\tlearn: 5.0920342\ttotal: 38.7ms\tremaining: 30.4ms\n",
      "56:\tlearn: 5.0383954\ttotal: 39.5ms\tremaining: 29.8ms\n",
      "57:\tlearn: 4.9269577\ttotal: 40.4ms\tremaining: 29.3ms\n",
      "58:\tlearn: 4.8223057\ttotal: 41.4ms\tremaining: 28.7ms\n",
      "59:\tlearn: 4.7261788\ttotal: 42.2ms\tremaining: 28.1ms\n",
      "60:\tlearn: 4.5537980\ttotal: 43ms\tremaining: 27.5ms\n",
      "61:\tlearn: 4.4587651\ttotal: 43.9ms\tremaining: 26.9ms\n",
      "62:\tlearn: 4.4184605\ttotal: 44.8ms\tremaining: 26.3ms\n",
      "63:\tlearn: 4.3226387\ttotal: 45.7ms\tremaining: 25.7ms\n",
      "64:\tlearn: 4.2749227\ttotal: 46.6ms\tremaining: 25.1ms\n",
      "65:\tlearn: 4.2137058\ttotal: 47.4ms\tremaining: 24.4ms\n",
      "66:\tlearn: 4.0751042\ttotal: 48.3ms\tremaining: 23.8ms\n",
      "67:\tlearn: 3.9472212\ttotal: 49.2ms\tremaining: 23.1ms\n",
      "68:\tlearn: 3.9405212\ttotal: 50.1ms\tremaining: 22.5ms\n",
      "69:\tlearn: 3.8724563\ttotal: 51ms\tremaining: 21.8ms\n",
      "70:\tlearn: 3.7839198\ttotal: 51.8ms\tremaining: 21.2ms\n",
      "71:\tlearn: 3.7301134\ttotal: 52.7ms\tremaining: 20.5ms\n",
      "72:\tlearn: 3.6605815\ttotal: 53.6ms\tremaining: 19.8ms\n",
      "73:\tlearn: 3.5774969\ttotal: 54.5ms\tremaining: 19.1ms\n",
      "74:\tlearn: 3.5686462\ttotal: 55.3ms\tremaining: 18.4ms\n",
      "75:\tlearn: 3.4883325\ttotal: 56.2ms\tremaining: 17.7ms\n",
      "76:\tlearn: 3.4269001\ttotal: 57.1ms\tremaining: 17.1ms\n",
      "77:\tlearn: 3.3657234\ttotal: 57.9ms\tremaining: 16.3ms\n",
      "78:\tlearn: 3.2989813\ttotal: 58.9ms\tremaining: 15.6ms\n",
      "79:\tlearn: 3.2239171\ttotal: 59.4ms\tremaining: 14.9ms\n",
      "80:\tlearn: 3.1310691\ttotal: 60.2ms\tremaining: 14.1ms\n",
      "81:\tlearn: 3.0488998\ttotal: 60.8ms\tremaining: 13.4ms\n",
      "82:\tlearn: 2.9986199\ttotal: 61.4ms\tremaining: 12.6ms\n",
      "83:\tlearn: 2.9622490\ttotal: 62.1ms\tremaining: 11.8ms\n",
      "84:\tlearn: 2.9217948\ttotal: 62.7ms\tremaining: 11.1ms\n",
      "85:\tlearn: 2.8613906\ttotal: 63.3ms\tremaining: 10.3ms\n",
      "86:\tlearn: 2.8096112\ttotal: 63.9ms\tremaining: 9.55ms\n",
      "87:\tlearn: 2.7771960\ttotal: 64.5ms\tremaining: 8.8ms\n",
      "88:\tlearn: 2.7161080\ttotal: 65.1ms\tremaining: 8.05ms\n",
      "89:\tlearn: 2.6758160\ttotal: 65.7ms\tremaining: 7.3ms\n",
      "90:\tlearn: 2.6113509\ttotal: 66.2ms\tremaining: 6.54ms\n",
      "91:\tlearn: 2.5564801\ttotal: 66.8ms\tremaining: 5.81ms\n",
      "92:\tlearn: 2.5380634\ttotal: 67.5ms\tremaining: 5.08ms\n",
      "93:\tlearn: 2.5012143\ttotal: 68.1ms\tremaining: 4.35ms\n",
      "94:\tlearn: 2.4677894\ttotal: 68.7ms\tremaining: 3.62ms\n",
      "95:\tlearn: 2.4076890\ttotal: 69.2ms\tremaining: 2.88ms\n",
      "96:\tlearn: 2.3761360\ttotal: 69.9ms\tremaining: 2.16ms\n",
      "97:\tlearn: 2.3336613\ttotal: 70.5ms\tremaining: 1.44ms\n",
      "98:\tlearn: 2.3302552\ttotal: 71.2ms\tremaining: 719us\n",
      "99:\tlearn: 2.2811304\ttotal: 71.8ms\tremaining: 0us\n"
     ]
    },
    {
     "name": "stdout",
     "output_type": "stream",
     "text": [
      "0:\tlearn: 23.2143686\ttotal: 981us\tremaining: 97.1ms\n",
      "1:\tlearn: 21.6350162\ttotal: 1.96ms\tremaining: 96.1ms\n",
      "2:\tlearn: 20.9112088\ttotal: 2.78ms\tremaining: 90ms\n",
      "3:\tlearn: 19.9786440\ttotal: 3.65ms\tremaining: 87.6ms\n",
      "4:\tlearn: 19.1809145\ttotal: 4.4ms\tremaining: 83.7ms\n",
      "5:\tlearn: 18.5322887\ttotal: 5.16ms\tremaining: 80.8ms\n",
      "6:\tlearn: 18.0965353\ttotal: 5.96ms\tremaining: 79.1ms\n",
      "7:\tlearn: 17.7216055\ttotal: 6.79ms\tremaining: 78.1ms\n",
      "8:\tlearn: 17.2621205\ttotal: 7.63ms\tremaining: 77.2ms\n",
      "9:\tlearn: 17.2234534\ttotal: 8.3ms\tremaining: 74.7ms\n",
      "10:\tlearn: 16.7449326\ttotal: 9.06ms\tremaining: 73.3ms\n",
      "11:\tlearn: 16.3132702\ttotal: 9.81ms\tremaining: 71.9ms\n",
      "12:\tlearn: 15.7875610\ttotal: 10.5ms\tremaining: 70.5ms\n",
      "13:\tlearn: 15.4832644\ttotal: 11.3ms\tremaining: 69.2ms\n",
      "14:\tlearn: 15.2219645\ttotal: 12.1ms\tremaining: 68.4ms\n",
      "15:\tlearn: 15.1470591\ttotal: 13ms\tremaining: 68ms\n",
      "16:\tlearn: 14.9865390\ttotal: 13.7ms\tremaining: 66.9ms\n",
      "17:\tlearn: 14.8346297\ttotal: 14.5ms\tremaining: 65.9ms\n",
      "18:\tlearn: 14.5939060\ttotal: 15.3ms\tremaining: 65.4ms\n",
      "19:\tlearn: 14.2444460\ttotal: 16.1ms\tremaining: 64.5ms\n",
      "20:\tlearn: 14.0837759\ttotal: 16.9ms\tremaining: 63.7ms\n",
      "21:\tlearn: 14.0656122\ttotal: 17.6ms\tremaining: 62.5ms\n",
      "22:\tlearn: 13.8422174\ttotal: 18.5ms\tremaining: 61.8ms\n",
      "23:\tlearn: 13.5975597\ttotal: 19.3ms\tremaining: 61.2ms\n",
      "24:\tlearn: 13.4147532\ttotal: 20.2ms\tremaining: 60.5ms\n",
      "25:\tlearn: 13.2623464\ttotal: 21.1ms\tremaining: 59.9ms\n",
      "26:\tlearn: 13.1538653\ttotal: 22ms\tremaining: 59.4ms\n",
      "27:\tlearn: 12.9939885\ttotal: 22.8ms\tremaining: 58.5ms\n",
      "28:\tlearn: 12.9003566\ttotal: 23.5ms\tremaining: 57.5ms\n",
      "29:\tlearn: 12.6950595\ttotal: 24.3ms\tremaining: 56.7ms\n",
      "30:\tlearn: 12.5491711\ttotal: 25.2ms\tremaining: 56.1ms\n",
      "31:\tlearn: 12.4045323\ttotal: 26ms\tremaining: 55.2ms\n",
      "32:\tlearn: 12.2652903\ttotal: 26.8ms\tremaining: 54.3ms\n",
      "33:\tlearn: 12.1490801\ttotal: 27.6ms\tremaining: 53.6ms\n",
      "34:\tlearn: 11.9469612\ttotal: 28.4ms\tremaining: 52.7ms\n",
      "35:\tlearn: 11.9351400\ttotal: 29.1ms\tremaining: 51.7ms\n",
      "36:\tlearn: 11.7719483\ttotal: 29.9ms\tremaining: 50.8ms\n",
      "37:\tlearn: 11.6194202\ttotal: 30.7ms\tremaining: 50ms\n",
      "38:\tlearn: 11.5400857\ttotal: 31.5ms\tremaining: 49.2ms\n",
      "39:\tlearn: 11.3755186\ttotal: 32.3ms\tremaining: 48.4ms\n",
      "40:\tlearn: 11.2564312\ttotal: 33.1ms\tremaining: 47.6ms\n",
      "41:\tlearn: 11.2127416\ttotal: 33.8ms\tremaining: 46.7ms\n",
      "42:\tlearn: 11.1160857\ttotal: 34.5ms\tremaining: 45.8ms\n",
      "43:\tlearn: 10.9317240\ttotal: 35.3ms\tremaining: 44.9ms\n",
      "44:\tlearn: 10.7491115\ttotal: 36.1ms\tremaining: 44.1ms\n",
      "45:\tlearn: 10.6059663\ttotal: 36.9ms\tremaining: 43.3ms\n",
      "46:\tlearn: 10.3962255\ttotal: 37.7ms\tremaining: 42.5ms\n",
      "47:\tlearn: 10.2298404\ttotal: 38.6ms\tremaining: 41.8ms\n",
      "48:\tlearn: 10.0762243\ttotal: 39.4ms\tremaining: 41ms\n",
      "49:\tlearn: 9.9892327\ttotal: 40.1ms\tremaining: 40.1ms\n",
      "50:\tlearn: 9.8967106\ttotal: 40.9ms\tremaining: 39.3ms\n",
      "51:\tlearn: 9.7378365\ttotal: 41.7ms\tremaining: 38.5ms\n",
      "52:\tlearn: 9.6292325\ttotal: 42.6ms\tremaining: 37.8ms\n",
      "53:\tlearn: 9.4582908\ttotal: 43.4ms\tremaining: 37ms\n",
      "54:\tlearn: 9.3517315\ttotal: 44.3ms\tremaining: 36.2ms\n",
      "55:\tlearn: 9.2508305\ttotal: 45.2ms\tremaining: 35.5ms\n",
      "56:\tlearn: 9.1350870\ttotal: 46ms\tremaining: 34.7ms\n",
      "57:\tlearn: 8.9940147\ttotal: 46.9ms\tremaining: 33.9ms\n",
      "58:\tlearn: 8.9861062\ttotal: 47.6ms\tremaining: 33.1ms\n",
      "59:\tlearn: 8.9178060\ttotal: 48.4ms\tremaining: 32.3ms\n",
      "60:\tlearn: 8.8553592\ttotal: 49.2ms\tremaining: 31.5ms\n",
      "61:\tlearn: 8.7715598\ttotal: 50ms\tremaining: 30.7ms\n",
      "62:\tlearn: 8.6769976\ttotal: 50.9ms\tremaining: 29.9ms\n",
      "63:\tlearn: 8.6000820\ttotal: 51.8ms\tremaining: 29.1ms\n",
      "64:\tlearn: 8.4908989\ttotal: 52.6ms\tremaining: 28.3ms\n",
      "65:\tlearn: 8.3493868\ttotal: 53.3ms\tremaining: 27.5ms\n",
      "66:\tlearn: 8.2901882\ttotal: 54.1ms\tremaining: 26.7ms\n",
      "67:\tlearn: 8.1796629\ttotal: 55ms\tremaining: 25.9ms\n",
      "68:\tlearn: 8.0631917\ttotal: 55.8ms\tremaining: 25.1ms\n",
      "69:\tlearn: 8.0031784\ttotal: 56.7ms\tremaining: 24.3ms\n",
      "70:\tlearn: 7.9086355\ttotal: 57.6ms\tremaining: 23.5ms\n",
      "71:\tlearn: 7.8219513\ttotal: 58.4ms\tremaining: 22.7ms\n",
      "72:\tlearn: 7.7305925\ttotal: 59.2ms\tremaining: 21.9ms\n",
      "73:\tlearn: 7.6268914\ttotal: 60.1ms\tremaining: 21.1ms\n",
      "74:\tlearn: 7.5297427\ttotal: 60.9ms\tremaining: 20.3ms\n",
      "75:\tlearn: 7.4659075\ttotal: 61.7ms\tremaining: 19.5ms\n",
      "76:\tlearn: 7.4258606\ttotal: 62.5ms\tremaining: 18.7ms\n",
      "77:\tlearn: 7.3418420\ttotal: 63.4ms\tremaining: 17.9ms\n",
      "78:\tlearn: 7.3140974\ttotal: 64.2ms\tremaining: 17.1ms\n",
      "79:\tlearn: 7.2492331\ttotal: 65ms\tremaining: 16.2ms\n",
      "80:\tlearn: 7.2196604\ttotal: 65.9ms\tremaining: 15.5ms\n",
      "81:\tlearn: 7.1507628\ttotal: 66.7ms\tremaining: 14.6ms\n",
      "82:\tlearn: 7.0900468\ttotal: 67.6ms\tremaining: 13.8ms\n",
      "83:\tlearn: 7.0267521\ttotal: 68.4ms\tremaining: 13ms\n",
      "84:\tlearn: 6.8966240\ttotal: 69.3ms\tremaining: 12.2ms\n",
      "85:\tlearn: 6.8005721\ttotal: 70.1ms\tremaining: 11.4ms\n",
      "86:\tlearn: 6.7598901\ttotal: 70.9ms\tremaining: 10.6ms\n",
      "87:\tlearn: 6.6730189\ttotal: 71.8ms\tremaining: 9.79ms\n",
      "88:\tlearn: 6.5175938\ttotal: 72.7ms\tremaining: 8.98ms\n",
      "89:\tlearn: 6.5097236\ttotal: 73.5ms\tremaining: 8.17ms\n",
      "90:\tlearn: 6.5058960\ttotal: 74.4ms\tremaining: 7.35ms\n",
      "91:\tlearn: 6.4594480\ttotal: 75.2ms\tremaining: 6.54ms\n",
      "92:\tlearn: 6.3550642\ttotal: 76ms\tremaining: 5.72ms\n",
      "93:\tlearn: 6.2803622\ttotal: 76.9ms\tremaining: 4.91ms\n",
      "94:\tlearn: 6.2214829\ttotal: 77.8ms\tremaining: 4.09ms\n",
      "95:\tlearn: 6.1688026\ttotal: 78.6ms\tremaining: 3.28ms\n",
      "96:\tlearn: 6.0881530\ttotal: 79.4ms\tremaining: 2.46ms\n",
      "97:\tlearn: 6.0301287\ttotal: 80.2ms\tremaining: 1.64ms\n",
      "98:\tlearn: 5.9773601\ttotal: 81ms\tremaining: 818us\n",
      "99:\tlearn: 5.9051778\ttotal: 81.9ms\tremaining: 0us\n",
      "0:\tlearn: 24.1278244\ttotal: 1.22ms\tremaining: 121ms\n",
      "1:\tlearn: 22.3201039\ttotal: 2.46ms\tremaining: 120ms\n",
      "2:\tlearn: 21.3357215\ttotal: 3.52ms\tremaining: 114ms\n",
      "3:\tlearn: 20.8826397\ttotal: 4.52ms\tremaining: 109ms\n",
      "4:\tlearn: 20.0923762\ttotal: 5.47ms\tremaining: 104ms\n",
      "5:\tlearn: 19.7149973\ttotal: 6.5ms\tremaining: 102ms\n",
      "6:\tlearn: 19.3600767\ttotal: 7.58ms\tremaining: 101ms\n",
      "7:\tlearn: 18.9443330\ttotal: 8.55ms\tremaining: 98.4ms\n",
      "8:\tlearn: 18.5735684\ttotal: 9.67ms\tremaining: 97.8ms\n",
      "9:\tlearn: 18.0731290\ttotal: 10.7ms\tremaining: 96.5ms\n",
      "10:\tlearn: 17.6651605\ttotal: 11.7ms\tremaining: 94.4ms\n",
      "11:\tlearn: 17.5359973\ttotal: 12.7ms\tremaining: 93.1ms\n",
      "12:\tlearn: 17.2835054\ttotal: 13.6ms\tremaining: 91.2ms\n",
      "13:\tlearn: 17.0688988\ttotal: 14.6ms\tremaining: 89.8ms\n",
      "14:\tlearn: 16.9259149\ttotal: 15.6ms\tremaining: 88.4ms\n",
      "15:\tlearn: 16.8858734\ttotal: 16.6ms\tremaining: 87ms\n",
      "16:\tlearn: 16.6350244\ttotal: 17.6ms\tremaining: 85.8ms\n",
      "17:\tlearn: 16.4809867\ttotal: 18.5ms\tremaining: 84.5ms\n",
      "18:\tlearn: 16.2814929\ttotal: 19.5ms\tremaining: 83.3ms\n",
      "19:\tlearn: 15.9263801\ttotal: 20.5ms\tremaining: 82.1ms\n",
      "20:\tlearn: 15.7211695\ttotal: 21.6ms\tremaining: 81.1ms\n",
      "21:\tlearn: 15.5668922\ttotal: 22.6ms\tremaining: 80ms\n",
      "22:\tlearn: 15.4079878\ttotal: 23.5ms\tremaining: 78.5ms\n",
      "23:\tlearn: 15.2708452\ttotal: 24.4ms\tremaining: 77.4ms\n",
      "24:\tlearn: 15.1340068\ttotal: 25.5ms\tremaining: 76.4ms\n",
      "25:\tlearn: 15.0050822\ttotal: 26.4ms\tremaining: 75.2ms\n",
      "26:\tlearn: 14.7847087\ttotal: 27.5ms\tremaining: 74.3ms\n",
      "27:\tlearn: 14.5781912\ttotal: 28.5ms\tremaining: 73.3ms\n",
      "28:\tlearn: 14.4874204\ttotal: 29.5ms\tremaining: 72.2ms\n",
      "29:\tlearn: 14.2493958\ttotal: 30.4ms\tremaining: 70.9ms\n",
      "30:\tlearn: 14.1145844\ttotal: 31.4ms\tremaining: 70ms\n",
      "31:\tlearn: 13.9973748\ttotal: 32.4ms\tremaining: 68.9ms\n",
      "32:\tlearn: 13.9874038\ttotal: 33.3ms\tremaining: 67.6ms\n",
      "33:\tlearn: 13.8212790\ttotal: 34.2ms\tremaining: 66.5ms\n",
      "34:\tlearn: 13.6002613\ttotal: 35.1ms\tremaining: 65.2ms\n",
      "35:\tlearn: 13.4925989\ttotal: 36ms\tremaining: 64.1ms\n",
      "36:\tlearn: 13.3207648\ttotal: 37.1ms\tremaining: 63.2ms\n",
      "37:\tlearn: 13.2434401\ttotal: 38ms\tremaining: 62ms\n",
      "38:\tlearn: 13.2376773\ttotal: 38.9ms\tremaining: 60.8ms\n",
      "39:\tlearn: 13.1657790\ttotal: 39.8ms\tremaining: 59.7ms\n",
      "40:\tlearn: 13.0257113\ttotal: 40.8ms\tremaining: 58.7ms\n",
      "41:\tlearn: 12.9527525\ttotal: 41.7ms\tremaining: 57.6ms\n",
      "42:\tlearn: 12.8197243\ttotal: 42.7ms\tremaining: 56.6ms\n",
      "43:\tlearn: 12.6791028\ttotal: 43.7ms\tremaining: 55.6ms\n",
      "44:\tlearn: 12.5943385\ttotal: 44.5ms\tremaining: 54.4ms\n",
      "45:\tlearn: 12.4803764\ttotal: 45.6ms\tremaining: 53.5ms\n",
      "46:\tlearn: 12.3771800\ttotal: 46.5ms\tremaining: 52.4ms\n",
      "47:\tlearn: 12.2736701\ttotal: 47.4ms\tremaining: 51.3ms\n",
      "48:\tlearn: 12.1698096\ttotal: 48.3ms\tremaining: 50.3ms\n",
      "49:\tlearn: 12.1161482\ttotal: 49.2ms\tremaining: 49.2ms\n",
      "50:\tlearn: 11.9714637\ttotal: 50.1ms\tremaining: 48.2ms\n",
      "51:\tlearn: 11.8907184\ttotal: 51ms\tremaining: 47ms\n",
      "52:\tlearn: 11.7773422\ttotal: 51.9ms\tremaining: 46ms\n",
      "53:\tlearn: 11.6393557\ttotal: 52.8ms\tremaining: 45ms\n",
      "54:\tlearn: 11.6328265\ttotal: 54ms\tremaining: 44.2ms\n",
      "55:\tlearn: 11.5021714\ttotal: 54.9ms\tremaining: 43.1ms\n",
      "56:\tlearn: 11.4055394\ttotal: 55.9ms\tremaining: 42.1ms\n",
      "57:\tlearn: 11.3250868\ttotal: 56.8ms\tremaining: 41.1ms\n",
      "58:\tlearn: 11.2551462\ttotal: 57.7ms\tremaining: 40.1ms\n",
      "59:\tlearn: 11.1441016\ttotal: 58.7ms\tremaining: 39.1ms\n",
      "60:\tlearn: 11.0629052\ttotal: 59.7ms\tremaining: 38.1ms\n",
      "61:\tlearn: 10.9573038\ttotal: 60.5ms\tremaining: 37.1ms\n",
      "62:\tlearn: 10.8066771\ttotal: 61.4ms\tremaining: 36ms\n",
      "63:\tlearn: 10.7045672\ttotal: 62.3ms\tremaining: 35ms\n",
      "64:\tlearn: 10.6349490\ttotal: 63.2ms\tremaining: 34ms\n",
      "65:\tlearn: 10.6149199\ttotal: 64ms\tremaining: 33ms\n",
      "66:\tlearn: 10.5413810\ttotal: 64.9ms\tremaining: 32ms\n",
      "67:\tlearn: 10.4512339\ttotal: 65.9ms\tremaining: 31ms\n",
      "68:\tlearn: 10.4039781\ttotal: 66.9ms\tremaining: 30ms\n",
      "69:\tlearn: 10.3513321\ttotal: 67.8ms\tremaining: 29ms\n",
      "70:\tlearn: 10.3010255\ttotal: 68.8ms\tremaining: 28.1ms\n",
      "71:\tlearn: 10.1609940\ttotal: 69.7ms\tremaining: 27.1ms\n",
      "72:\tlearn: 10.0814472\ttotal: 70.6ms\tremaining: 26.1ms\n",
      "73:\tlearn: 10.0215391\ttotal: 71.5ms\tremaining: 25.1ms\n",
      "74:\tlearn: 9.9613585\ttotal: 72.5ms\tremaining: 24.2ms\n",
      "75:\tlearn: 9.8855521\ttotal: 73.4ms\tremaining: 23.2ms\n",
      "76:\tlearn: 9.7984518\ttotal: 74.4ms\tremaining: 22.2ms\n",
      "77:\tlearn: 9.7828578\ttotal: 75.3ms\tremaining: 21.2ms\n",
      "78:\tlearn: 9.7217740\ttotal: 76.2ms\tremaining: 20.2ms\n",
      "79:\tlearn: 9.5939550\ttotal: 77.1ms\tremaining: 19.3ms\n",
      "80:\tlearn: 9.5243945\ttotal: 78.1ms\tremaining: 18.3ms\n",
      "81:\tlearn: 9.4418007\ttotal: 79.1ms\tremaining: 17.4ms\n",
      "82:\tlearn: 9.3305207\ttotal: 80ms\tremaining: 16.4ms\n",
      "83:\tlearn: 9.2686545\ttotal: 80.9ms\tremaining: 15.4ms\n",
      "84:\tlearn: 9.1888754\ttotal: 81.9ms\tremaining: 14.4ms\n",
      "85:\tlearn: 9.1346252\ttotal: 82.8ms\tremaining: 13.5ms\n",
      "86:\tlearn: 9.0564674\ttotal: 83.7ms\tremaining: 12.5ms\n",
      "87:\tlearn: 8.9937095\ttotal: 84.7ms\tremaining: 11.5ms\n",
      "88:\tlearn: 8.9191174\ttotal: 85.6ms\tremaining: 10.6ms\n",
      "89:\tlearn: 8.8563346\ttotal: 86.6ms\tremaining: 9.62ms\n",
      "90:\tlearn: 8.8145789\ttotal: 87.5ms\tremaining: 8.66ms\n",
      "91:\tlearn: 8.7748324\ttotal: 88.6ms\tremaining: 7.7ms\n",
      "92:\tlearn: 8.7076376\ttotal: 89.5ms\tremaining: 6.74ms\n",
      "93:\tlearn: 8.6397639\ttotal: 90.5ms\tremaining: 5.77ms\n",
      "94:\tlearn: 8.6130201\ttotal: 91.4ms\tremaining: 4.81ms\n",
      "95:\tlearn: 8.5858292\ttotal: 92.3ms\tremaining: 3.84ms\n",
      "96:\tlearn: 8.5247650\ttotal: 93.2ms\tremaining: 2.88ms\n",
      "97:\tlearn: 8.4447543\ttotal: 94.2ms\tremaining: 1.92ms\n",
      "98:\tlearn: 8.3921408\ttotal: 95.1ms\tremaining: 961us\n",
      "99:\tlearn: 8.3377608\ttotal: 96.1ms\tremaining: 0us\n"
     ]
    },
    {
     "name": "stdout",
     "output_type": "stream",
     "text": [
      "0:\tlearn: 24.7018208\ttotal: 1.16ms\tremaining: 115ms\n",
      "1:\tlearn: 22.8120158\ttotal: 2.39ms\tremaining: 117ms\n",
      "2:\tlearn: 21.8517127\ttotal: 3.51ms\tremaining: 113ms\n",
      "3:\tlearn: 21.4535412\ttotal: 4.52ms\tremaining: 109ms\n",
      "4:\tlearn: 20.8240937\ttotal: 5.57ms\tremaining: 106ms\n",
      "5:\tlearn: 20.2605750\ttotal: 6.74ms\tremaining: 106ms\n",
      "6:\tlearn: 19.9196153\ttotal: 7.71ms\tremaining: 102ms\n",
      "7:\tlearn: 19.7609916\ttotal: 8.72ms\tremaining: 100ms\n",
      "8:\tlearn: 19.4192143\ttotal: 9.7ms\tremaining: 98ms\n",
      "9:\tlearn: 19.1705719\ttotal: 10.8ms\tremaining: 97.3ms\n",
      "10:\tlearn: 18.8000519\ttotal: 11.9ms\tremaining: 96.1ms\n",
      "11:\tlearn: 18.7389698\ttotal: 12.9ms\tremaining: 94.3ms\n",
      "12:\tlearn: 18.5642485\ttotal: 13.9ms\tremaining: 93.2ms\n",
      "13:\tlearn: 18.4894512\ttotal: 15ms\tremaining: 92ms\n",
      "14:\tlearn: 18.2705679\ttotal: 16ms\tremaining: 90.5ms\n",
      "15:\tlearn: 17.9790617\ttotal: 17ms\tremaining: 89.3ms\n",
      "16:\tlearn: 17.7580767\ttotal: 18.1ms\tremaining: 88.6ms\n",
      "17:\tlearn: 17.4910029\ttotal: 19.3ms\tremaining: 87.8ms\n",
      "18:\tlearn: 17.2013153\ttotal: 20.2ms\tremaining: 86.3ms\n",
      "19:\tlearn: 17.0996189\ttotal: 21.3ms\tremaining: 85.3ms\n",
      "20:\tlearn: 16.8499282\ttotal: 22.5ms\tremaining: 84.5ms\n",
      "21:\tlearn: 16.7412943\ttotal: 23.5ms\tremaining: 83.4ms\n",
      "22:\tlearn: 16.4636189\ttotal: 24.7ms\tremaining: 82.7ms\n",
      "23:\tlearn: 16.2496486\ttotal: 25.7ms\tremaining: 81.5ms\n",
      "24:\tlearn: 16.0937754\ttotal: 26.8ms\tremaining: 80.3ms\n",
      "25:\tlearn: 15.9733099\ttotal: 27.9ms\tremaining: 79.3ms\n",
      "26:\tlearn: 15.7974035\ttotal: 29ms\tremaining: 78.5ms\n",
      "27:\tlearn: 15.6375552\ttotal: 30.2ms\tremaining: 77.6ms\n",
      "28:\tlearn: 15.4712938\ttotal: 31.3ms\tremaining: 76.6ms\n",
      "29:\tlearn: 15.3463173\ttotal: 32.2ms\tremaining: 75.1ms\n",
      "30:\tlearn: 15.2414111\ttotal: 33.2ms\tremaining: 73.9ms\n",
      "31:\tlearn: 15.1370279\ttotal: 34.4ms\tremaining: 73ms\n",
      "32:\tlearn: 15.1290860\ttotal: 35.4ms\tremaining: 71.8ms\n",
      "33:\tlearn: 14.9934419\ttotal: 36.4ms\tremaining: 70.6ms\n",
      "34:\tlearn: 14.8958553\ttotal: 37.7ms\tremaining: 70.1ms\n",
      "35:\tlearn: 14.7673448\ttotal: 38.7ms\tremaining: 68.8ms\n",
      "36:\tlearn: 14.7309225\ttotal: 39.8ms\tremaining: 67.7ms\n",
      "37:\tlearn: 14.7255995\ttotal: 40.8ms\tremaining: 66.5ms\n",
      "38:\tlearn: 14.6798995\ttotal: 41.7ms\tremaining: 65.2ms\n",
      "39:\tlearn: 14.6571925\ttotal: 42.7ms\tremaining: 64.1ms\n",
      "40:\tlearn: 14.5681017\ttotal: 43.8ms\tremaining: 63.1ms\n",
      "41:\tlearn: 14.4847922\ttotal: 44.9ms\tremaining: 62.1ms\n",
      "42:\tlearn: 14.2934972\ttotal: 46ms\tremaining: 61ms\n",
      "43:\tlearn: 14.1772563\ttotal: 47.2ms\tremaining: 60ms\n",
      "44:\tlearn: 14.1076059\ttotal: 48.2ms\tremaining: 58.9ms\n",
      "45:\tlearn: 14.0213266\ttotal: 49.5ms\tremaining: 58.1ms\n",
      "46:\tlearn: 13.9389311\ttotal: 50.4ms\tremaining: 56.9ms\n",
      "47:\tlearn: 13.8635314\ttotal: 51.5ms\tremaining: 55.8ms\n",
      "48:\tlearn: 13.7989519\ttotal: 52.6ms\tremaining: 54.8ms\n",
      "49:\tlearn: 13.6784022\ttotal: 53.7ms\tremaining: 53.7ms\n",
      "50:\tlearn: 13.5430813\ttotal: 54.7ms\tremaining: 52.6ms\n",
      "51:\tlearn: 13.4383454\ttotal: 55.9ms\tremaining: 51.6ms\n",
      "52:\tlearn: 13.3323593\ttotal: 57ms\tremaining: 50.5ms\n",
      "53:\tlearn: 13.3262360\ttotal: 58ms\tremaining: 49.4ms\n",
      "54:\tlearn: 13.2441226\ttotal: 59.1ms\tremaining: 48.4ms\n",
      "55:\tlearn: 13.2210230\ttotal: 60.1ms\tremaining: 47.2ms\n",
      "56:\tlearn: 13.1098517\ttotal: 61.3ms\tremaining: 46.3ms\n",
      "57:\tlearn: 13.0301012\ttotal: 62.4ms\tremaining: 45.2ms\n",
      "58:\tlearn: 12.9743842\ttotal: 63.4ms\tremaining: 44.1ms\n",
      "59:\tlearn: 12.9349632\ttotal: 64.4ms\tremaining: 42.9ms\n",
      "60:\tlearn: 12.8732003\ttotal: 65.5ms\tremaining: 41.9ms\n",
      "61:\tlearn: 12.7997291\ttotal: 66.6ms\tremaining: 40.8ms\n",
      "62:\tlearn: 12.6977052\ttotal: 67.7ms\tremaining: 39.7ms\n",
      "63:\tlearn: 12.6665736\ttotal: 68.8ms\tremaining: 38.7ms\n",
      "64:\tlearn: 12.6045207\ttotal: 69.9ms\tremaining: 37.6ms\n",
      "65:\tlearn: 12.5417307\ttotal: 70.9ms\tremaining: 36.5ms\n",
      "66:\tlearn: 12.4428144\ttotal: 72ms\tremaining: 35.5ms\n",
      "67:\tlearn: 12.4004360\ttotal: 72.9ms\tremaining: 34.3ms\n",
      "68:\tlearn: 12.3593203\ttotal: 73.9ms\tremaining: 33.2ms\n",
      "69:\tlearn: 12.2148346\ttotal: 74.9ms\tremaining: 32.1ms\n",
      "70:\tlearn: 12.1330316\ttotal: 76ms\tremaining: 31ms\n",
      "71:\tlearn: 12.0514838\ttotal: 77.1ms\tremaining: 30ms\n",
      "72:\tlearn: 11.9805264\ttotal: 78.1ms\tremaining: 28.9ms\n",
      "73:\tlearn: 11.9355186\ttotal: 79.1ms\tremaining: 27.8ms\n",
      "74:\tlearn: 11.8766593\ttotal: 80ms\tremaining: 26.7ms\n",
      "75:\tlearn: 11.8728243\ttotal: 80.9ms\tremaining: 25.6ms\n",
      "76:\tlearn: 11.8126416\ttotal: 81.9ms\tremaining: 24.5ms\n",
      "77:\tlearn: 11.7656974\ttotal: 83ms\tremaining: 23.4ms\n",
      "78:\tlearn: 11.7296125\ttotal: 84ms\tremaining: 22.3ms\n",
      "79:\tlearn: 11.6678604\ttotal: 85.2ms\tremaining: 21.3ms\n",
      "80:\tlearn: 11.5367417\ttotal: 86.2ms\tremaining: 20.2ms\n",
      "81:\tlearn: 11.4122090\ttotal: 87.3ms\tremaining: 19.2ms\n",
      "82:\tlearn: 11.3097041\ttotal: 88.3ms\tremaining: 18.1ms\n",
      "83:\tlearn: 11.2588264\ttotal: 89.3ms\tremaining: 17ms\n",
      "84:\tlearn: 11.2145651\ttotal: 90.4ms\tremaining: 15.9ms\n",
      "85:\tlearn: 11.1481667\ttotal: 91.4ms\tremaining: 14.9ms\n",
      "86:\tlearn: 11.0496034\ttotal: 92.5ms\tremaining: 13.8ms\n",
      "87:\tlearn: 10.9934966\ttotal: 93.6ms\tremaining: 12.8ms\n",
      "88:\tlearn: 10.9048191\ttotal: 94.6ms\tremaining: 11.7ms\n",
      "89:\tlearn: 10.8555195\ttotal: 95.6ms\tremaining: 10.6ms\n",
      "90:\tlearn: 10.7746059\ttotal: 96.8ms\tremaining: 9.57ms\n",
      "91:\tlearn: 10.7220384\ttotal: 97.8ms\tremaining: 8.51ms\n",
      "92:\tlearn: 10.6736825\ttotal: 98.9ms\tremaining: 7.44ms\n",
      "93:\tlearn: 10.6379206\ttotal: 100ms\tremaining: 6.38ms\n",
      "94:\tlearn: 10.5770640\ttotal: 101ms\tremaining: 5.32ms\n",
      "95:\tlearn: 10.5258929\ttotal: 102ms\tremaining: 4.25ms\n",
      "96:\tlearn: 10.4763241\ttotal: 103ms\tremaining: 3.19ms\n",
      "97:\tlearn: 10.4158573\ttotal: 104ms\tremaining: 2.13ms\n",
      "98:\tlearn: 10.3287199\ttotal: 105ms\tremaining: 1.06ms\n",
      "99:\tlearn: 10.2900950\ttotal: 106ms\tremaining: 0us\n",
      "0:\tlearn: 25.9021307\ttotal: 1.4ms\tremaining: 138ms\n",
      "1:\tlearn: 24.0757719\ttotal: 2.67ms\tremaining: 131ms\n",
      "2:\tlearn: 23.3875502\ttotal: 3.87ms\tremaining: 125ms\n",
      "3:\tlearn: 22.4351301\ttotal: 5ms\tremaining: 120ms\n",
      "4:\tlearn: 22.0708343\ttotal: 6.19ms\tremaining: 118ms\n",
      "5:\tlearn: 21.3085126\ttotal: 7.31ms\tremaining: 115ms\n",
      "6:\tlearn: 21.0210310\ttotal: 8.41ms\tremaining: 112ms\n",
      "7:\tlearn: 20.5386527\ttotal: 9.56ms\tremaining: 110ms\n",
      "8:\tlearn: 19.9596638\ttotal: 10.6ms\tremaining: 107ms\n",
      "9:\tlearn: 19.6254041\ttotal: 11.7ms\tremaining: 105ms\n",
      "10:\tlearn: 19.2934663\ttotal: 12.9ms\tremaining: 104ms\n",
      "11:\tlearn: 19.0501740\ttotal: 14ms\tremaining: 103ms\n",
      "12:\tlearn: 18.9492679\ttotal: 15.2ms\tremaining: 102ms\n",
      "13:\tlearn: 18.7982775\ttotal: 16.4ms\tremaining: 101ms\n",
      "14:\tlearn: 18.5866374\ttotal: 17.5ms\tremaining: 99.2ms\n",
      "15:\tlearn: 18.3829714\ttotal: 18.6ms\tremaining: 97.9ms\n",
      "16:\tlearn: 18.2693606\ttotal: 19.7ms\tremaining: 96.4ms\n",
      "17:\tlearn: 18.2342807\ttotal: 20.8ms\tremaining: 94.5ms\n",
      "18:\tlearn: 18.0989314\ttotal: 21.9ms\tremaining: 93.5ms\n",
      "19:\tlearn: 17.9827218\ttotal: 23ms\tremaining: 92.1ms\n",
      "20:\tlearn: 17.8542087\ttotal: 24.1ms\tremaining: 90.6ms\n",
      "21:\tlearn: 17.7086785\ttotal: 25.3ms\tremaining: 89.7ms\n",
      "22:\tlearn: 17.6256950\ttotal: 26.5ms\tremaining: 88.6ms\n",
      "23:\tlearn: 17.4419555\ttotal: 27.5ms\tremaining: 87.1ms\n",
      "24:\tlearn: 17.2860621\ttotal: 28.8ms\tremaining: 86.4ms\n",
      "25:\tlearn: 17.1312131\ttotal: 30ms\tremaining: 85.3ms\n",
      "26:\tlearn: 17.1041572\ttotal: 31.1ms\tremaining: 84.2ms\n",
      "27:\tlearn: 16.9820890\ttotal: 32.4ms\tremaining: 83.3ms\n",
      "28:\tlearn: 16.8877755\ttotal: 33.4ms\tremaining: 81.9ms\n",
      "29:\tlearn: 16.7934097\ttotal: 34.6ms\tremaining: 80.7ms\n",
      "30:\tlearn: 16.6979588\ttotal: 35.7ms\tremaining: 79.5ms\n",
      "31:\tlearn: 16.5552871\ttotal: 36.8ms\tremaining: 78.3ms\n",
      "32:\tlearn: 16.4705782\ttotal: 38ms\tremaining: 77.2ms\n",
      "33:\tlearn: 16.3648535\ttotal: 39.2ms\tremaining: 76ms\n",
      "34:\tlearn: 16.3504989\ttotal: 40.2ms\tremaining: 74.7ms\n",
      "35:\tlearn: 16.1771551\ttotal: 41.4ms\tremaining: 73.5ms\n",
      "36:\tlearn: 16.1332582\ttotal: 42.4ms\tremaining: 72.2ms\n",
      "37:\tlearn: 15.9891885\ttotal: 43.5ms\tremaining: 71ms\n",
      "38:\tlearn: 15.9049875\ttotal: 44.6ms\tremaining: 69.8ms\n",
      "39:\tlearn: 15.8064301\ttotal: 45.7ms\tremaining: 68.5ms\n",
      "40:\tlearn: 15.6897710\ttotal: 46.8ms\tremaining: 67.4ms\n",
      "41:\tlearn: 15.6093570\ttotal: 47.9ms\tremaining: 66.2ms\n",
      "42:\tlearn: 15.5176277\ttotal: 49ms\tremaining: 65ms\n",
      "43:\tlearn: 15.4201343\ttotal: 50.2ms\tremaining: 63.9ms\n",
      "44:\tlearn: 15.4125021\ttotal: 51.1ms\tremaining: 62.5ms\n",
      "45:\tlearn: 15.2709558\ttotal: 52.2ms\tremaining: 61.3ms\n",
      "46:\tlearn: 15.1991770\ttotal: 53.4ms\tremaining: 60.2ms\n",
      "47:\tlearn: 15.1203554\ttotal: 54.5ms\tremaining: 59ms\n",
      "48:\tlearn: 15.0199936\ttotal: 55.6ms\tremaining: 57.9ms\n",
      "49:\tlearn: 14.9596897\ttotal: 56.8ms\tremaining: 56.8ms\n",
      "50:\tlearn: 14.7610829\ttotal: 57.9ms\tremaining: 55.6ms\n",
      "51:\tlearn: 14.6412020\ttotal: 59ms\tremaining: 54.5ms\n",
      "52:\tlearn: 14.6346867\ttotal: 60.1ms\tremaining: 53.3ms\n",
      "53:\tlearn: 14.5463885\ttotal: 61.2ms\tremaining: 52.1ms\n",
      "54:\tlearn: 14.4401585\ttotal: 62.4ms\tremaining: 51.1ms\n",
      "55:\tlearn: 14.3621050\ttotal: 63.5ms\tremaining: 49.9ms\n",
      "56:\tlearn: 14.2654735\ttotal: 65ms\tremaining: 49ms\n",
      "57:\tlearn: 14.1823197\ttotal: 66.2ms\tremaining: 48ms\n",
      "58:\tlearn: 14.0983539\ttotal: 67.4ms\tremaining: 46.9ms\n",
      "59:\tlearn: 14.0162282\ttotal: 68.6ms\tremaining: 45.7ms\n",
      "60:\tlearn: 13.9320576\ttotal: 69.7ms\tremaining: 44.6ms\n",
      "61:\tlearn: 13.8569431\ttotal: 70.8ms\tremaining: 43.4ms\n",
      "62:\tlearn: 13.8240476\ttotal: 72ms\tremaining: 42.3ms\n",
      "63:\tlearn: 13.7633604\ttotal: 73.3ms\tremaining: 41.2ms\n",
      "64:\tlearn: 13.6993576\ttotal: 74.5ms\tremaining: 40.1ms\n",
      "65:\tlearn: 13.6940888\ttotal: 75.6ms\tremaining: 38.9ms\n",
      "66:\tlearn: 13.6618079\ttotal: 76.7ms\tremaining: 37.8ms\n",
      "67:\tlearn: 13.6145455\ttotal: 78ms\tremaining: 36.7ms\n",
      "68:\tlearn: 13.5637578\ttotal: 79.1ms\tremaining: 35.6ms\n",
      "69:\tlearn: 13.4708215\ttotal: 80.2ms\tremaining: 34.4ms\n",
      "70:\tlearn: 13.4191469\ttotal: 81.2ms\tremaining: 33.2ms\n",
      "71:\tlearn: 13.3441189\ttotal: 82.3ms\tremaining: 32ms\n",
      "72:\tlearn: 13.2664377\ttotal: 83.8ms\tremaining: 31ms\n",
      "73:\tlearn: 13.2040458\ttotal: 85ms\tremaining: 29.9ms\n",
      "74:\tlearn: 13.1386467\ttotal: 86.2ms\tremaining: 28.7ms\n",
      "75:\tlearn: 13.0791292\ttotal: 87.3ms\tremaining: 27.6ms\n",
      "76:\tlearn: 13.0581211\ttotal: 88.4ms\tremaining: 26.4ms\n",
      "77:\tlearn: 13.0275282\ttotal: 89.6ms\tremaining: 25.3ms\n",
      "78:\tlearn: 12.9483935\ttotal: 90.6ms\tremaining: 24.1ms\n",
      "79:\tlearn: 12.9160013\ttotal: 91.8ms\tremaining: 22.9ms\n",
      "80:\tlearn: 12.8631446\ttotal: 92.8ms\tremaining: 21.8ms\n",
      "81:\tlearn: 12.8427951\ttotal: 93.9ms\tremaining: 20.6ms\n",
      "82:\tlearn: 12.7846040\ttotal: 95ms\tremaining: 19.5ms\n",
      "83:\tlearn: 12.7256199\ttotal: 96.1ms\tremaining: 18.3ms\n",
      "84:\tlearn: 12.6633777\ttotal: 97.2ms\tremaining: 17.2ms\n",
      "85:\tlearn: 12.6127839\ttotal: 98.3ms\tremaining: 16ms\n",
      "86:\tlearn: 12.5315953\ttotal: 99.5ms\tremaining: 14.9ms\n",
      "87:\tlearn: 12.5187572\ttotal: 101ms\tremaining: 13.7ms\n",
      "88:\tlearn: 12.4885914\ttotal: 102ms\tremaining: 12.6ms\n",
      "89:\tlearn: 12.4463486\ttotal: 103ms\tremaining: 11.4ms\n",
      "90:\tlearn: 12.4239030\ttotal: 104ms\tremaining: 10.3ms\n",
      "91:\tlearn: 12.3617364\ttotal: 105ms\tremaining: 9.14ms\n",
      "92:\tlearn: 12.2952100\ttotal: 106ms\tremaining: 8ms\n",
      "93:\tlearn: 12.1931482\ttotal: 107ms\tremaining: 6.86ms\n",
      "94:\tlearn: 12.1636464\ttotal: 109ms\tremaining: 5.72ms\n",
      "95:\tlearn: 12.1590853\ttotal: 110ms\tremaining: 4.58ms\n",
      "96:\tlearn: 12.1202991\ttotal: 111ms\tremaining: 3.43ms\n",
      "97:\tlearn: 12.0492381\ttotal: 113ms\tremaining: 2.3ms\n",
      "98:\tlearn: 12.0074595\ttotal: 114ms\tremaining: 1.15ms\n",
      "99:\tlearn: 11.9459751\ttotal: 115ms\tremaining: 0us\n"
     ]
    },
    {
     "name": "stdout",
     "output_type": "stream",
     "text": [
      "0:\tlearn: 28.9664219\ttotal: 8.49ms\tremaining: 841ms\n",
      "1:\tlearn: 28.3191065\ttotal: 16.7ms\tremaining: 817ms\n",
      "2:\tlearn: 27.6594053\ttotal: 24.3ms\tremaining: 787ms\n",
      "3:\tlearn: 27.0335350\ttotal: 32.1ms\tremaining: 771ms\n",
      "4:\tlearn: 26.5240087\ttotal: 40.3ms\tremaining: 766ms\n",
      "5:\tlearn: 26.0476063\ttotal: 48.5ms\tremaining: 759ms\n",
      "6:\tlearn: 25.4773851\ttotal: 56.5ms\tremaining: 751ms\n",
      "7:\tlearn: 25.0030360\ttotal: 64.5ms\tremaining: 742ms\n",
      "8:\tlearn: 24.5245007\ttotal: 72.7ms\tremaining: 735ms\n",
      "9:\tlearn: 24.1051096\ttotal: 80.8ms\tremaining: 727ms\n",
      "10:\tlearn: 23.6417398\ttotal: 88.6ms\tremaining: 717ms\n",
      "11:\tlearn: 23.2243188\ttotal: 96.8ms\tremaining: 710ms\n",
      "12:\tlearn: 22.8956688\ttotal: 105ms\tremaining: 701ms\n",
      "13:\tlearn: 22.5553091\ttotal: 113ms\tremaining: 693ms\n",
      "14:\tlearn: 22.1865618\ttotal: 121ms\tremaining: 687ms\n",
      "15:\tlearn: 21.8609321\ttotal: 130ms\tremaining: 680ms\n",
      "16:\tlearn: 21.5513617\ttotal: 138ms\tremaining: 674ms\n",
      "17:\tlearn: 21.2349450\ttotal: 146ms\tremaining: 664ms\n",
      "18:\tlearn: 20.9504701\ttotal: 154ms\tremaining: 655ms\n",
      "19:\tlearn: 20.6775576\ttotal: 155ms\tremaining: 620ms\n",
      "20:\tlearn: 20.3719352\ttotal: 163ms\tremaining: 612ms\n",
      "21:\tlearn: 20.1132812\ttotal: 164ms\tremaining: 581ms\n",
      "22:\tlearn: 19.8680549\ttotal: 172ms\tremaining: 575ms\n",
      "23:\tlearn: 19.6388652\ttotal: 180ms\tremaining: 569ms\n",
      "24:\tlearn: 19.3600994\ttotal: 187ms\tremaining: 562ms\n",
      "25:\tlearn: 19.1412967\ttotal: 195ms\tremaining: 556ms\n",
      "26:\tlearn: 18.8997991\ttotal: 204ms\tremaining: 552ms\n",
      "27:\tlearn: 18.6613538\ttotal: 212ms\tremaining: 544ms\n",
      "28:\tlearn: 18.4551520\ttotal: 221ms\tremaining: 542ms\n",
      "29:\tlearn: 18.2522695\ttotal: 234ms\tremaining: 546ms\n",
      "30:\tlearn: 18.0851846\ttotal: 236ms\tremaining: 526ms\n",
      "31:\tlearn: 17.8934557\ttotal: 245ms\tremaining: 522ms\n",
      "32:\tlearn: 17.7158358\ttotal: 254ms\tremaining: 515ms\n",
      "33:\tlearn: 17.5617311\ttotal: 262ms\tremaining: 509ms\n",
      "34:\tlearn: 17.3887214\ttotal: 271ms\tremaining: 503ms\n",
      "35:\tlearn: 17.2389614\ttotal: 279ms\tremaining: 496ms\n",
      "36:\tlearn: 17.0858344\ttotal: 287ms\tremaining: 488ms\n",
      "37:\tlearn: 16.9556498\ttotal: 295ms\tremaining: 481ms\n",
      "38:\tlearn: 16.8175761\ttotal: 303ms\tremaining: 474ms\n",
      "39:\tlearn: 16.7075322\ttotal: 311ms\tremaining: 466ms\n",
      "40:\tlearn: 16.5437433\ttotal: 319ms\tremaining: 459ms\n",
      "41:\tlearn: 16.4032980\ttotal: 327ms\tremaining: 451ms\n",
      "42:\tlearn: 16.3147455\ttotal: 334ms\tremaining: 443ms\n",
      "43:\tlearn: 16.1785994\ttotal: 343ms\tremaining: 436ms\n",
      "44:\tlearn: 16.0475022\ttotal: 350ms\tremaining: 428ms\n",
      "45:\tlearn: 15.9084649\ttotal: 358ms\tremaining: 420ms\n",
      "46:\tlearn: 15.8143293\ttotal: 366ms\tremaining: 413ms\n",
      "47:\tlearn: 15.6896841\ttotal: 374ms\tremaining: 406ms\n",
      "48:\tlearn: 15.5626531\ttotal: 382ms\tremaining: 398ms\n",
      "49:\tlearn: 15.4521096\ttotal: 390ms\tremaining: 390ms\n",
      "50:\tlearn: 15.3160298\ttotal: 398ms\tremaining: 383ms\n",
      "51:\tlearn: 15.2170874\ttotal: 406ms\tremaining: 375ms\n",
      "52:\tlearn: 15.1140247\ttotal: 414ms\tremaining: 368ms\n",
      "53:\tlearn: 15.0132894\ttotal: 423ms\tremaining: 360ms\n",
      "54:\tlearn: 14.9104618\ttotal: 431ms\tremaining: 353ms\n",
      "55:\tlearn: 14.7958300\ttotal: 439ms\tremaining: 345ms\n",
      "56:\tlearn: 14.6738125\ttotal: 447ms\tremaining: 337ms\n",
      "57:\tlearn: 14.5937089\ttotal: 455ms\tremaining: 330ms\n",
      "58:\tlearn: 14.4942228\ttotal: 463ms\tremaining: 322ms\n",
      "59:\tlearn: 14.4087344\ttotal: 471ms\tremaining: 314ms\n",
      "60:\tlearn: 14.3062655\ttotal: 480ms\tremaining: 307ms\n",
      "61:\tlearn: 14.2363927\ttotal: 488ms\tremaining: 299ms\n",
      "62:\tlearn: 14.1412410\ttotal: 495ms\tremaining: 291ms\n",
      "63:\tlearn: 14.0688314\ttotal: 503ms\tremaining: 283ms\n",
      "64:\tlearn: 13.9902208\ttotal: 511ms\tremaining: 275ms\n",
      "65:\tlearn: 13.8988805\ttotal: 519ms\tremaining: 267ms\n",
      "66:\tlearn: 13.8303904\ttotal: 526ms\tremaining: 259ms\n",
      "67:\tlearn: 13.7572824\ttotal: 533ms\tremaining: 251ms\n",
      "68:\tlearn: 13.6906735\ttotal: 541ms\tremaining: 243ms\n",
      "69:\tlearn: 13.6124084\ttotal: 549ms\tremaining: 235ms\n",
      "70:\tlearn: 13.5237766\ttotal: 557ms\tremaining: 228ms\n",
      "71:\tlearn: 13.4372198\ttotal: 565ms\tremaining: 220ms\n",
      "72:\tlearn: 13.3796743\ttotal: 573ms\tremaining: 212ms\n",
      "73:\tlearn: 13.3221796\ttotal: 581ms\tremaining: 204ms\n",
      "74:\tlearn: 13.2483414\ttotal: 589ms\tremaining: 196ms\n",
      "75:\tlearn: 13.1730735\ttotal: 597ms\tremaining: 188ms\n",
      "76:\tlearn: 13.1071924\ttotal: 604ms\tremaining: 181ms\n",
      "77:\tlearn: 13.0328713\ttotal: 612ms\tremaining: 173ms\n",
      "78:\tlearn: 12.9481056\ttotal: 620ms\tremaining: 165ms\n",
      "79:\tlearn: 12.8665029\ttotal: 627ms\tremaining: 157ms\n",
      "80:\tlearn: 12.7829966\ttotal: 635ms\tremaining: 149ms\n",
      "81:\tlearn: 12.7338348\ttotal: 643ms\tremaining: 141ms\n",
      "82:\tlearn: 12.6771501\ttotal: 651ms\tremaining: 133ms\n",
      "83:\tlearn: 12.5980725\ttotal: 659ms\tremaining: 126ms\n",
      "84:\tlearn: 12.5242681\ttotal: 668ms\tremaining: 118ms\n",
      "85:\tlearn: 12.4699398\ttotal: 676ms\tremaining: 110ms\n",
      "86:\tlearn: 12.3927355\ttotal: 683ms\tremaining: 102ms\n",
      "87:\tlearn: 12.3314800\ttotal: 691ms\tremaining: 94.3ms\n",
      "88:\tlearn: 12.2654607\ttotal: 699ms\tremaining: 86.4ms\n",
      "89:\tlearn: 12.2129493\ttotal: 706ms\tremaining: 78.5ms\n",
      "90:\tlearn: 12.1550872\ttotal: 714ms\tremaining: 70.6ms\n",
      "91:\tlearn: 12.0969097\ttotal: 722ms\tremaining: 62.8ms\n",
      "92:\tlearn: 12.0547476\ttotal: 730ms\tremaining: 54.9ms\n",
      "93:\tlearn: 11.9853432\ttotal: 737ms\tremaining: 47.1ms\n",
      "94:\tlearn: 11.9110854\ttotal: 745ms\tremaining: 39.2ms\n",
      "95:\tlearn: 11.8474221\ttotal: 753ms\tremaining: 31.4ms\n",
      "96:\tlearn: 11.7881287\ttotal: 761ms\tremaining: 23.5ms\n",
      "97:\tlearn: 11.7364157\ttotal: 769ms\tremaining: 15.7ms\n",
      "98:\tlearn: 11.6825111\ttotal: 777ms\tremaining: 7.85ms\n",
      "99:\tlearn: 11.6231478\ttotal: 785ms\tremaining: 0us\n",
      "0:\tlearn: 29.6924673\ttotal: 9.22ms\tremaining: 913ms\n",
      "1:\tlearn: 29.0793963\ttotal: 19.2ms\tremaining: 941ms\n",
      "2:\tlearn: 28.4187606\ttotal: 24ms\tremaining: 775ms\n",
      "3:\tlearn: 27.8879729\ttotal: 32.5ms\tremaining: 781ms\n",
      "4:\tlearn: 27.3742730\ttotal: 41.2ms\tremaining: 782ms\n",
      "5:\tlearn: 26.9251191\ttotal: 50.2ms\tremaining: 787ms\n",
      "6:\tlearn: 26.4822221\ttotal: 59.4ms\tremaining: 789ms\n",
      "7:\tlearn: 26.0526796\ttotal: 68.2ms\tremaining: 784ms\n",
      "8:\tlearn: 25.7003008\ttotal: 73.3ms\tremaining: 741ms\n",
      "9:\tlearn: 25.2772919\ttotal: 78.1ms\tremaining: 703ms\n",
      "10:\tlearn: 24.8837804\ttotal: 87.3ms\tremaining: 706ms\n",
      "11:\tlearn: 24.5196560\ttotal: 95.9ms\tremaining: 703ms\n",
      "12:\tlearn: 24.2064557\ttotal: 105ms\tremaining: 701ms\n",
      "13:\tlearn: 23.8136336\ttotal: 114ms\tremaining: 698ms\n",
      "14:\tlearn: 23.4757751\ttotal: 122ms\tremaining: 693ms\n",
      "15:\tlearn: 23.1853483\ttotal: 131ms\tremaining: 688ms\n",
      "16:\tlearn: 22.8844721\ttotal: 140ms\tremaining: 682ms\n",
      "17:\tlearn: 22.5686997\ttotal: 149ms\tremaining: 677ms\n",
      "18:\tlearn: 22.2826938\ttotal: 158ms\tremaining: 672ms\n",
      "19:\tlearn: 22.0419523\ttotal: 167ms\tremaining: 666ms\n",
      "20:\tlearn: 21.8091467\ttotal: 175ms\tremaining: 660ms\n",
      "21:\tlearn: 21.5766621\ttotal: 185ms\tremaining: 657ms\n",
      "22:\tlearn: 21.3378065\ttotal: 195ms\tremaining: 652ms\n",
      "23:\tlearn: 21.1366434\ttotal: 205ms\tremaining: 649ms\n",
      "24:\tlearn: 20.9376724\ttotal: 207ms\tremaining: 620ms\n",
      "25:\tlearn: 20.7210466\ttotal: 216ms\tremaining: 616ms\n",
      "26:\tlearn: 20.5172344\ttotal: 226ms\tremaining: 611ms\n",
      "27:\tlearn: 20.2830837\ttotal: 235ms\tremaining: 605ms\n",
      "28:\tlearn: 20.0890518\ttotal: 245ms\tremaining: 599ms\n",
      "29:\tlearn: 19.8871486\ttotal: 254ms\tremaining: 592ms\n",
      "30:\tlearn: 19.7015701\ttotal: 263ms\tremaining: 586ms\n",
      "31:\tlearn: 19.5080252\ttotal: 272ms\tremaining: 579ms\n",
      "32:\tlearn: 19.3181988\ttotal: 282ms\tremaining: 572ms\n",
      "33:\tlearn: 19.1954530\ttotal: 293ms\tremaining: 568ms\n",
      "34:\tlearn: 19.1044537\ttotal: 294ms\tremaining: 545ms\n",
      "35:\tlearn: 18.9213791\ttotal: 303ms\tremaining: 538ms\n",
      "36:\tlearn: 18.7838202\ttotal: 312ms\tremaining: 531ms\n",
      "37:\tlearn: 18.6506927\ttotal: 321ms\tremaining: 524ms\n",
      "38:\tlearn: 18.5436699\ttotal: 331ms\tremaining: 518ms\n",
      "39:\tlearn: 18.3875333\ttotal: 340ms\tremaining: 510ms\n",
      "40:\tlearn: 18.2734620\ttotal: 350ms\tremaining: 503ms\n",
      "41:\tlearn: 18.1597944\ttotal: 360ms\tremaining: 497ms\n",
      "42:\tlearn: 18.0048362\ttotal: 370ms\tremaining: 491ms\n",
      "43:\tlearn: 17.8906111\ttotal: 379ms\tremaining: 483ms\n",
      "44:\tlearn: 17.7585225\ttotal: 388ms\tremaining: 474ms\n",
      "45:\tlearn: 17.6729936\ttotal: 397ms\tremaining: 466ms\n",
      "46:\tlearn: 17.5710640\ttotal: 406ms\tremaining: 458ms\n",
      "47:\tlearn: 17.4462102\ttotal: 415ms\tremaining: 449ms\n",
      "48:\tlearn: 17.3729618\ttotal: 423ms\tremaining: 440ms\n",
      "49:\tlearn: 17.2820414\ttotal: 432ms\tremaining: 432ms\n",
      "50:\tlearn: 17.1538175\ttotal: 440ms\tremaining: 423ms\n",
      "51:\tlearn: 17.0480804\ttotal: 449ms\tremaining: 415ms\n",
      "52:\tlearn: 16.9299091\ttotal: 458ms\tremaining: 406ms\n",
      "53:\tlearn: 16.8433654\ttotal: 467ms\tremaining: 398ms\n",
      "54:\tlearn: 16.7728955\ttotal: 486ms\tremaining: 397ms\n",
      "55:\tlearn: 16.6582379\ttotal: 497ms\tremaining: 390ms\n",
      "56:\tlearn: 16.5742780\ttotal: 507ms\tremaining: 382ms\n",
      "57:\tlearn: 16.5115060\ttotal: 520ms\tremaining: 376ms\n",
      "58:\tlearn: 16.4266486\ttotal: 533ms\tremaining: 371ms\n",
      "59:\tlearn: 16.3158614\ttotal: 542ms\tremaining: 362ms\n",
      "60:\tlearn: 16.2145849\ttotal: 557ms\tremaining: 356ms\n",
      "61:\tlearn: 16.1240132\ttotal: 571ms\tremaining: 350ms\n",
      "62:\tlearn: 16.0549696\ttotal: 580ms\tremaining: 341ms\n"
     ]
    },
    {
     "name": "stdout",
     "output_type": "stream",
     "text": [
      "63:\tlearn: 15.9806857\ttotal: 591ms\tremaining: 333ms\n",
      "64:\tlearn: 15.8794296\ttotal: 600ms\tremaining: 323ms\n",
      "65:\tlearn: 15.7800439\ttotal: 609ms\tremaining: 314ms\n",
      "66:\tlearn: 15.7105360\ttotal: 618ms\tremaining: 304ms\n",
      "67:\tlearn: 15.6222439\ttotal: 626ms\tremaining: 295ms\n",
      "68:\tlearn: 15.5451054\ttotal: 635ms\tremaining: 285ms\n",
      "69:\tlearn: 15.4845066\ttotal: 644ms\tremaining: 276ms\n",
      "70:\tlearn: 15.4359040\ttotal: 652ms\tremaining: 266ms\n",
      "71:\tlearn: 15.3544316\ttotal: 663ms\tremaining: 258ms\n",
      "72:\tlearn: 15.2694243\ttotal: 672ms\tremaining: 249ms\n",
      "73:\tlearn: 15.1884193\ttotal: 681ms\tremaining: 239ms\n",
      "74:\tlearn: 15.1064329\ttotal: 690ms\tremaining: 230ms\n",
      "75:\tlearn: 15.0409608\ttotal: 698ms\tremaining: 220ms\n",
      "76:\tlearn: 14.9959938\ttotal: 706ms\tremaining: 211ms\n",
      "77:\tlearn: 14.9429453\ttotal: 715ms\tremaining: 202ms\n",
      "78:\tlearn: 14.8543773\ttotal: 724ms\tremaining: 192ms\n",
      "79:\tlearn: 14.7523419\ttotal: 733ms\tremaining: 183ms\n",
      "80:\tlearn: 14.6889801\ttotal: 742ms\tremaining: 174ms\n",
      "81:\tlearn: 14.6439102\ttotal: 751ms\tremaining: 165ms\n",
      "82:\tlearn: 14.5542193\ttotal: 759ms\tremaining: 156ms\n",
      "83:\tlearn: 14.4937837\ttotal: 768ms\tremaining: 146ms\n",
      "84:\tlearn: 14.4112596\ttotal: 777ms\tremaining: 137ms\n",
      "85:\tlearn: 14.3613465\ttotal: 786ms\tremaining: 128ms\n",
      "86:\tlearn: 14.3238633\ttotal: 795ms\tremaining: 119ms\n",
      "87:\tlearn: 14.2290349\ttotal: 804ms\tremaining: 110ms\n",
      "88:\tlearn: 14.1723799\ttotal: 813ms\tremaining: 100ms\n",
      "89:\tlearn: 14.0990450\ttotal: 822ms\tremaining: 91.3ms\n",
      "90:\tlearn: 14.0501619\ttotal: 831ms\tremaining: 82.2ms\n",
      "91:\tlearn: 13.9891723\ttotal: 840ms\tremaining: 73ms\n",
      "92:\tlearn: 13.9149237\ttotal: 849ms\tremaining: 63.9ms\n",
      "93:\tlearn: 13.8789717\ttotal: 858ms\tremaining: 54.7ms\n",
      "94:\tlearn: 13.8066286\ttotal: 867ms\tremaining: 45.6ms\n",
      "95:\tlearn: 13.7256145\ttotal: 877ms\tremaining: 36.5ms\n",
      "96:\tlearn: 13.6431812\ttotal: 886ms\tremaining: 27.4ms\n",
      "97:\tlearn: 13.5762630\ttotal: 895ms\tremaining: 18.3ms\n",
      "98:\tlearn: 13.5079587\ttotal: 904ms\tremaining: 9.13ms\n",
      "99:\tlearn: 13.4414218\ttotal: 914ms\tremaining: 0us\n",
      "0:\tlearn: 31.2815435\ttotal: 10.5ms\tremaining: 1.04s\n",
      "1:\tlearn: 30.6584918\ttotal: 21ms\tremaining: 1.03s\n",
      "2:\tlearn: 30.0650521\ttotal: 31.9ms\tremaining: 1.03s\n",
      "3:\tlearn: 29.4125761\ttotal: 42.7ms\tremaining: 1.02s\n",
      "4:\tlearn: 28.8300086\ttotal: 53.3ms\tremaining: 1.01s\n",
      "5:\tlearn: 28.3510901\ttotal: 63.7ms\tremaining: 999ms\n",
      "6:\tlearn: 27.9161227\ttotal: 73.4ms\tremaining: 975ms\n",
      "7:\tlearn: 27.4204030\ttotal: 83.9ms\tremaining: 965ms\n",
      "8:\tlearn: 26.9806115\ttotal: 94.3ms\tremaining: 954ms\n",
      "9:\tlearn: 26.5635163\ttotal: 105ms\tremaining: 946ms\n",
      "10:\tlearn: 26.2210305\ttotal: 116ms\tremaining: 936ms\n",
      "11:\tlearn: 25.7886080\ttotal: 126ms\tremaining: 925ms\n",
      "12:\tlearn: 25.5393512\ttotal: 128ms\tremaining: 854ms\n",
      "13:\tlearn: 25.1365179\ttotal: 138ms\tremaining: 848ms\n",
      "14:\tlearn: 24.7837416\ttotal: 149ms\tremaining: 844ms\n",
      "15:\tlearn: 24.4473480\ttotal: 160ms\tremaining: 843ms\n",
      "16:\tlearn: 24.0847412\ttotal: 170ms\tremaining: 832ms\n",
      "17:\tlearn: 23.7502364\ttotal: 181ms\tremaining: 823ms\n",
      "18:\tlearn: 23.4701538\ttotal: 191ms\tremaining: 812ms\n",
      "19:\tlearn: 23.1972113\ttotal: 201ms\tremaining: 804ms\n",
      "20:\tlearn: 22.9600084\ttotal: 212ms\tremaining: 798ms\n",
      "21:\tlearn: 22.7238729\ttotal: 222ms\tremaining: 788ms\n",
      "22:\tlearn: 22.4379976\ttotal: 232ms\tremaining: 778ms\n",
      "23:\tlearn: 22.2306939\ttotal: 243ms\tremaining: 769ms\n",
      "24:\tlearn: 21.9849309\ttotal: 253ms\tremaining: 760ms\n",
      "25:\tlearn: 21.7682724\ttotal: 264ms\tremaining: 752ms\n",
      "26:\tlearn: 21.6230319\ttotal: 275ms\tremaining: 743ms\n",
      "27:\tlearn: 21.4322213\ttotal: 286ms\tremaining: 736ms\n",
      "28:\tlearn: 21.2448335\ttotal: 300ms\tremaining: 735ms\n",
      "29:\tlearn: 21.0648861\ttotal: 311ms\tremaining: 726ms\n",
      "30:\tlearn: 20.8958087\ttotal: 322ms\tremaining: 716ms\n",
      "31:\tlearn: 20.7198099\ttotal: 333ms\tremaining: 707ms\n",
      "32:\tlearn: 20.5547040\ttotal: 343ms\tremaining: 696ms\n",
      "33:\tlearn: 20.4218745\ttotal: 358ms\tremaining: 695ms\n",
      "34:\tlearn: 20.2924932\ttotal: 372ms\tremaining: 691ms\n",
      "35:\tlearn: 20.1485539\ttotal: 383ms\tremaining: 681ms\n",
      "36:\tlearn: 20.0160977\ttotal: 394ms\tremaining: 670ms\n",
      "37:\tlearn: 19.8921816\ttotal: 405ms\tremaining: 660ms\n",
      "38:\tlearn: 19.7821522\ttotal: 415ms\tremaining: 650ms\n",
      "39:\tlearn: 19.6718227\ttotal: 421ms\tremaining: 632ms\n",
      "40:\tlearn: 19.5531589\ttotal: 433ms\tremaining: 623ms\n",
      "41:\tlearn: 19.4284897\ttotal: 449ms\tremaining: 620ms\n",
      "42:\tlearn: 19.3066415\ttotal: 461ms\tremaining: 612ms\n",
      "43:\tlearn: 19.1805270\ttotal: 471ms\tremaining: 600ms\n",
      "44:\tlearn: 19.0835181\ttotal: 482ms\tremaining: 589ms\n",
      "45:\tlearn: 18.9787301\ttotal: 495ms\tremaining: 581ms\n",
      "46:\tlearn: 18.8398798\ttotal: 506ms\tremaining: 570ms\n",
      "47:\tlearn: 18.7019596\ttotal: 517ms\tremaining: 560ms\n",
      "48:\tlearn: 18.6103283\ttotal: 528ms\tremaining: 549ms\n",
      "49:\tlearn: 18.5092386\ttotal: 539ms\tremaining: 539ms\n",
      "50:\tlearn: 18.3990891\ttotal: 550ms\tremaining: 528ms\n",
      "51:\tlearn: 18.2861806\ttotal: 560ms\tremaining: 517ms\n",
      "52:\tlearn: 18.2332586\ttotal: 571ms\tremaining: 506ms\n",
      "53:\tlearn: 18.1531412\ttotal: 581ms\tremaining: 495ms\n",
      "54:\tlearn: 18.0624390\ttotal: 591ms\tremaining: 484ms\n",
      "55:\tlearn: 17.9757358\ttotal: 601ms\tremaining: 472ms\n",
      "56:\tlearn: 17.8869379\ttotal: 611ms\tremaining: 461ms\n",
      "57:\tlearn: 17.8190685\ttotal: 621ms\tremaining: 450ms\n",
      "58:\tlearn: 17.7411579\ttotal: 631ms\tremaining: 438ms\n",
      "59:\tlearn: 17.6725891\ttotal: 641ms\tremaining: 427ms\n",
      "60:\tlearn: 17.6166145\ttotal: 651ms\tremaining: 416ms\n",
      "61:\tlearn: 17.5201486\ttotal: 661ms\tremaining: 405ms\n",
      "62:\tlearn: 17.4578487\ttotal: 671ms\tremaining: 394ms\n",
      "63:\tlearn: 17.3702925\ttotal: 682ms\tremaining: 383ms\n",
      "64:\tlearn: 17.3133772\ttotal: 691ms\tremaining: 372ms\n",
      "65:\tlearn: 17.2316979\ttotal: 701ms\tremaining: 361ms\n",
      "66:\tlearn: 17.1895208\ttotal: 711ms\tremaining: 350ms\n",
      "67:\tlearn: 17.1193147\ttotal: 721ms\tremaining: 339ms\n",
      "68:\tlearn: 17.0842300\ttotal: 731ms\tremaining: 328ms\n",
      "69:\tlearn: 17.0124728\ttotal: 740ms\tremaining: 317ms\n",
      "70:\tlearn: 16.9549546\ttotal: 750ms\tremaining: 306ms\n",
      "71:\tlearn: 16.8796586\ttotal: 760ms\tremaining: 296ms\n",
      "72:\tlearn: 16.8026005\ttotal: 770ms\tremaining: 285ms\n",
      "73:\tlearn: 16.7277258\ttotal: 779ms\tremaining: 274ms\n",
      "74:\tlearn: 16.6531914\ttotal: 789ms\tremaining: 263ms\n",
      "75:\tlearn: 16.5934111\ttotal: 799ms\tremaining: 252ms\n",
      "76:\tlearn: 16.5406840\ttotal: 809ms\tremaining: 242ms\n",
      "77:\tlearn: 16.4499660\ttotal: 818ms\tremaining: 231ms\n",
      "78:\tlearn: 16.3509403\ttotal: 828ms\tremaining: 220ms\n",
      "79:\tlearn: 16.3021393\ttotal: 838ms\tremaining: 209ms\n",
      "80:\tlearn: 16.2405813\ttotal: 848ms\tremaining: 199ms\n",
      "81:\tlearn: 16.2025473\ttotal: 859ms\tremaining: 189ms\n",
      "82:\tlearn: 16.1249823\ttotal: 869ms\tremaining: 178ms\n",
      "83:\tlearn: 16.0969008\ttotal: 879ms\tremaining: 167ms\n",
      "84:\tlearn: 16.0383601\ttotal: 889ms\tremaining: 157ms\n",
      "85:\tlearn: 15.9734708\ttotal: 899ms\tremaining: 146ms\n",
      "86:\tlearn: 15.9031257\ttotal: 909ms\tremaining: 136ms\n",
      "87:\tlearn: 15.8399491\ttotal: 919ms\tremaining: 125ms\n",
      "88:\tlearn: 15.8098081\ttotal: 930ms\tremaining: 115ms\n",
      "89:\tlearn: 15.7848311\ttotal: 931ms\tremaining: 103ms\n",
      "90:\tlearn: 15.7464669\ttotal: 942ms\tremaining: 93.2ms\n",
      "91:\tlearn: 15.7283236\ttotal: 952ms\tremaining: 82.8ms\n",
      "92:\tlearn: 15.6892370\ttotal: 963ms\tremaining: 72.5ms\n",
      "93:\tlearn: 15.6304664\ttotal: 974ms\tremaining: 62.2ms\n",
      "94:\tlearn: 15.5831376\ttotal: 985ms\tremaining: 51.8ms\n",
      "95:\tlearn: 15.5302255\ttotal: 996ms\tremaining: 41.5ms\n",
      "96:\tlearn: 15.4920219\ttotal: 1.01s\tremaining: 31.1ms\n",
      "97:\tlearn: 15.4319036\ttotal: 1.02s\tremaining: 20.8ms\n",
      "98:\tlearn: 15.4029487\ttotal: 1.03s\tremaining: 10.4ms\n",
      "99:\tlearn: 15.3623712\ttotal: 1.04s\tremaining: 0us\n",
      "0:\tlearn: 32.6292673\ttotal: 11.3ms\tremaining: 1.12s\n",
      "1:\tlearn: 31.9610153\ttotal: 24.6ms\tremaining: 1.21s\n",
      "2:\tlearn: 31.3199435\ttotal: 36ms\tremaining: 1.16s\n",
      "3:\tlearn: 30.7300486\ttotal: 47.6ms\tremaining: 1.14s\n",
      "4:\tlearn: 30.1228138\ttotal: 59.8ms\tremaining: 1.14s\n",
      "5:\tlearn: 29.6172684\ttotal: 70.9ms\tremaining: 1.11s\n",
      "6:\tlearn: 29.1283572\ttotal: 83ms\tremaining: 1.1s\n",
      "7:\tlearn: 28.6167440\ttotal: 95.8ms\tremaining: 1.1s\n",
      "8:\tlearn: 28.1682017\ttotal: 107ms\tremaining: 1.08s\n",
      "9:\tlearn: 27.6810197\ttotal: 118ms\tremaining: 1.06s\n",
      "10:\tlearn: 27.3015995\ttotal: 132ms\tremaining: 1.06s\n",
      "11:\tlearn: 26.8634167\ttotal: 143ms\tremaining: 1.05s\n",
      "12:\tlearn: 26.5989944\ttotal: 145ms\tremaining: 968ms\n",
      "13:\tlearn: 26.2186753\ttotal: 157ms\tremaining: 964ms\n",
      "14:\tlearn: 25.8594916\ttotal: 174ms\tremaining: 988ms\n",
      "15:\tlearn: 25.4992273\ttotal: 189ms\tremaining: 994ms\n",
      "16:\tlearn: 25.1137243\ttotal: 200ms\tremaining: 978ms\n",
      "17:\tlearn: 24.7908192\ttotal: 212ms\tremaining: 966ms\n",
      "18:\tlearn: 24.5227270\ttotal: 223ms\tremaining: 952ms\n",
      "19:\tlearn: 24.2306649\ttotal: 234ms\tremaining: 937ms\n",
      "20:\tlearn: 23.9909510\ttotal: 245ms\tremaining: 923ms\n",
      "21:\tlearn: 23.7831835\ttotal: 256ms\tremaining: 908ms\n",
      "22:\tlearn: 23.4942953\ttotal: 267ms\tremaining: 895ms\n",
      "23:\tlearn: 23.2612941\ttotal: 279ms\tremaining: 884ms\n",
      "24:\tlearn: 23.0310168\ttotal: 291ms\tremaining: 872ms\n",
      "25:\tlearn: 22.8055569\ttotal: 302ms\tremaining: 858ms\n",
      "26:\tlearn: 22.6536206\ttotal: 313ms\tremaining: 845ms\n",
      "27:\tlearn: 22.4545470\ttotal: 324ms\tremaining: 832ms\n",
      "28:\tlearn: 22.3171604\ttotal: 335ms\tremaining: 819ms\n",
      "29:\tlearn: 22.1435257\ttotal: 346ms\tremaining: 807ms\n",
      "30:\tlearn: 22.0019587\ttotal: 356ms\tremaining: 793ms\n",
      "31:\tlearn: 21.8179087\ttotal: 367ms\tremaining: 780ms\n",
      "32:\tlearn: 21.6607052\ttotal: 378ms\tremaining: 768ms\n",
      "33:\tlearn: 21.5469635\ttotal: 390ms\tremaining: 757ms\n"
     ]
    },
    {
     "name": "stdout",
     "output_type": "stream",
     "text": [
      "34:\tlearn: 21.3958772\ttotal: 407ms\tremaining: 755ms\n",
      "35:\tlearn: 21.2689252\ttotal: 423ms\tremaining: 752ms\n",
      "36:\tlearn: 21.1408361\ttotal: 434ms\tremaining: 740ms\n",
      "37:\tlearn: 21.0300269\ttotal: 447ms\tremaining: 730ms\n",
      "38:\tlearn: 20.8779080\ttotal: 458ms\tremaining: 717ms\n",
      "39:\tlearn: 20.7620141\ttotal: 470ms\tremaining: 705ms\n",
      "40:\tlearn: 20.6400231\ttotal: 481ms\tremaining: 692ms\n",
      "41:\tlearn: 20.5110069\ttotal: 492ms\tremaining: 680ms\n",
      "42:\tlearn: 20.3917926\ttotal: 504ms\tremaining: 668ms\n",
      "43:\tlearn: 20.2743209\ttotal: 515ms\tremaining: 655ms\n",
      "44:\tlearn: 20.1758822\ttotal: 526ms\tremaining: 642ms\n",
      "45:\tlearn: 20.0796020\ttotal: 540ms\tremaining: 634ms\n",
      "46:\tlearn: 20.0024836\ttotal: 552ms\tremaining: 623ms\n",
      "47:\tlearn: 19.8929893\ttotal: 564ms\tremaining: 611ms\n",
      "48:\tlearn: 19.7796951\ttotal: 581ms\tremaining: 605ms\n",
      "49:\tlearn: 19.6801789\ttotal: 593ms\tremaining: 593ms\n",
      "50:\tlearn: 19.5760367\ttotal: 610ms\tremaining: 586ms\n",
      "51:\tlearn: 19.4725111\ttotal: 628ms\tremaining: 580ms\n",
      "52:\tlearn: 19.3941921\ttotal: 640ms\tremaining: 568ms\n",
      "53:\tlearn: 19.3118387\ttotal: 652ms\tremaining: 555ms\n",
      "54:\tlearn: 19.2363445\ttotal: 663ms\tremaining: 543ms\n",
      "55:\tlearn: 19.1627718\ttotal: 674ms\tremaining: 530ms\n",
      "56:\tlearn: 19.0594300\ttotal: 685ms\tremaining: 517ms\n",
      "57:\tlearn: 18.9707481\ttotal: 696ms\tremaining: 504ms\n",
      "58:\tlearn: 18.9109330\ttotal: 707ms\tremaining: 491ms\n",
      "59:\tlearn: 18.8102964\ttotal: 719ms\tremaining: 479ms\n",
      "60:\tlearn: 18.7379700\ttotal: 731ms\tremaining: 467ms\n",
      "61:\tlearn: 18.6669216\ttotal: 742ms\tremaining: 455ms\n",
      "62:\tlearn: 18.5835260\ttotal: 753ms\tremaining: 442ms\n",
      "63:\tlearn: 18.5242827\ttotal: 766ms\tremaining: 431ms\n",
      "64:\tlearn: 18.4698424\ttotal: 778ms\tremaining: 419ms\n",
      "65:\tlearn: 18.4181884\ttotal: 790ms\tremaining: 407ms\n",
      "66:\tlearn: 18.3607993\ttotal: 805ms\tremaining: 397ms\n",
      "67:\tlearn: 18.3007077\ttotal: 816ms\tremaining: 384ms\n",
      "68:\tlearn: 18.2316059\ttotal: 827ms\tremaining: 372ms\n",
      "69:\tlearn: 18.1752255\ttotal: 838ms\tremaining: 359ms\n",
      "70:\tlearn: 18.1192998\ttotal: 850ms\tremaining: 347ms\n",
      "71:\tlearn: 18.0563881\ttotal: 860ms\tremaining: 335ms\n",
      "72:\tlearn: 17.9696177\ttotal: 871ms\tremaining: 322ms\n",
      "73:\tlearn: 17.8701891\ttotal: 882ms\tremaining: 310ms\n",
      "74:\tlearn: 17.8439851\ttotal: 892ms\tremaining: 297ms\n",
      "75:\tlearn: 17.7679113\ttotal: 903ms\tremaining: 285ms\n",
      "76:\tlearn: 17.7064817\ttotal: 914ms\tremaining: 273ms\n",
      "77:\tlearn: 17.6644119\ttotal: 925ms\tremaining: 261ms\n",
      "78:\tlearn: 17.6220994\ttotal: 936ms\tremaining: 249ms\n",
      "79:\tlearn: 17.5630962\ttotal: 947ms\tremaining: 237ms\n",
      "80:\tlearn: 17.5158422\ttotal: 958ms\tremaining: 225ms\n",
      "81:\tlearn: 17.4683743\ttotal: 969ms\tremaining: 213ms\n",
      "82:\tlearn: 17.4043206\ttotal: 980ms\tremaining: 201ms\n",
      "83:\tlearn: 17.3383912\ttotal: 991ms\tremaining: 189ms\n",
      "84:\tlearn: 17.2939944\ttotal: 1s\tremaining: 177ms\n",
      "85:\tlearn: 17.2589737\ttotal: 1.02s\tremaining: 165ms\n",
      "86:\tlearn: 17.1964835\ttotal: 1.03s\tremaining: 153ms\n",
      "87:\tlearn: 17.1600840\ttotal: 1.04s\tremaining: 142ms\n",
      "88:\tlearn: 17.1223554\ttotal: 1.05s\tremaining: 130ms\n",
      "89:\tlearn: 17.0725618\ttotal: 1.05s\tremaining: 117ms\n",
      "90:\tlearn: 16.9938292\ttotal: 1.06s\tremaining: 105ms\n",
      "91:\tlearn: 16.9633283\ttotal: 1.07s\tremaining: 93.3ms\n",
      "92:\tlearn: 16.9128836\ttotal: 1.08s\tremaining: 81.6ms\n",
      "93:\tlearn: 16.8671355\ttotal: 1.09s\tremaining: 69.9ms\n",
      "94:\tlearn: 16.8555597\ttotal: 1.1s\tremaining: 57.7ms\n",
      "95:\tlearn: 16.8116760\ttotal: 1.11s\tremaining: 46.2ms\n",
      "96:\tlearn: 16.7229160\ttotal: 1.12s\tremaining: 34.6ms\n",
      "97:\tlearn: 16.6597417\ttotal: 1.13s\tremaining: 23.1ms\n",
      "98:\tlearn: 16.6253800\ttotal: 1.14s\tremaining: 11.5ms\n",
      "99:\tlearn: 16.5808163\ttotal: 1.15s\tremaining: 0us\n",
      "0:\tlearn: 34.0273646\ttotal: 11.8ms\tremaining: 1.17s\n",
      "1:\tlearn: 33.2186107\ttotal: 23.2ms\tremaining: 1.13s\n",
      "2:\tlearn: 32.5385245\ttotal: 34.7ms\tremaining: 1.12s\n",
      "3:\tlearn: 31.8698023\ttotal: 46.4ms\tremaining: 1.11s\n",
      "4:\tlearn: 31.2268716\ttotal: 58.4ms\tremaining: 1.11s\n",
      "5:\tlearn: 30.6828943\ttotal: 70.2ms\tremaining: 1.1s\n",
      "6:\tlearn: 30.1420736\ttotal: 82.6ms\tremaining: 1.1s\n",
      "7:\tlearn: 29.5799297\ttotal: 94.6ms\tremaining: 1.09s\n",
      "8:\tlearn: 29.1044720\ttotal: 106ms\tremaining: 1.07s\n",
      "9:\tlearn: 28.6126061\ttotal: 118ms\tremaining: 1.06s\n",
      "10:\tlearn: 28.1846925\ttotal: 130ms\tremaining: 1.05s\n",
      "11:\tlearn: 27.7543728\ttotal: 142ms\tremaining: 1.04s\n",
      "12:\tlearn: 27.4096879\ttotal: 154ms\tremaining: 1.03s\n",
      "13:\tlearn: 27.0127944\ttotal: 166ms\tremaining: 1.02s\n",
      "14:\tlearn: 26.6823619\ttotal: 178ms\tremaining: 1s\n",
      "15:\tlearn: 26.3140731\ttotal: 190ms\tremaining: 999ms\n",
      "16:\tlearn: 26.0018301\ttotal: 202ms\tremaining: 988ms\n",
      "17:\tlearn: 25.6871201\ttotal: 215ms\tremaining: 977ms\n",
      "18:\tlearn: 25.3287474\ttotal: 226ms\tremaining: 965ms\n",
      "19:\tlearn: 25.0863651\ttotal: 238ms\tremaining: 952ms\n",
      "20:\tlearn: 24.8274907\ttotal: 250ms\tremaining: 939ms\n",
      "21:\tlearn: 24.5556482\ttotal: 262ms\tremaining: 929ms\n",
      "22:\tlearn: 24.2988432\ttotal: 274ms\tremaining: 917ms\n",
      "23:\tlearn: 24.0953289\ttotal: 286ms\tremaining: 904ms\n",
      "24:\tlearn: 23.8785474\ttotal: 298ms\tremaining: 894ms\n",
      "25:\tlearn: 23.6711075\ttotal: 313ms\tremaining: 890ms\n",
      "26:\tlearn: 23.4906392\ttotal: 331ms\tremaining: 894ms\n",
      "27:\tlearn: 23.2958306\ttotal: 345ms\tremaining: 887ms\n",
      "28:\tlearn: 23.1305510\ttotal: 357ms\tremaining: 874ms\n",
      "29:\tlearn: 22.9693687\ttotal: 369ms\tremaining: 861ms\n",
      "30:\tlearn: 22.7838396\ttotal: 380ms\tremaining: 847ms\n",
      "31:\tlearn: 22.5876094\ttotal: 392ms\tremaining: 833ms\n",
      "32:\tlearn: 22.4089479\ttotal: 404ms\tremaining: 820ms\n",
      "33:\tlearn: 22.2614176\ttotal: 416ms\tremaining: 807ms\n",
      "34:\tlearn: 22.1218967\ttotal: 427ms\tremaining: 793ms\n",
      "35:\tlearn: 22.0038993\ttotal: 439ms\tremaining: 780ms\n",
      "36:\tlearn: 21.8877659\ttotal: 451ms\tremaining: 767ms\n",
      "37:\tlearn: 21.7458997\ttotal: 462ms\tremaining: 754ms\n",
      "38:\tlearn: 21.6264633\ttotal: 474ms\tremaining: 741ms\n",
      "39:\tlearn: 21.4991716\ttotal: 485ms\tremaining: 728ms\n",
      "40:\tlearn: 21.3902503\ttotal: 497ms\tremaining: 715ms\n",
      "41:\tlearn: 21.2829092\ttotal: 509ms\tremaining: 703ms\n",
      "42:\tlearn: 21.1753354\ttotal: 521ms\tremaining: 690ms\n",
      "43:\tlearn: 21.0566244\ttotal: 533ms\tremaining: 678ms\n",
      "44:\tlearn: 20.8891973\ttotal: 544ms\tremaining: 665ms\n",
      "45:\tlearn: 20.7631948\ttotal: 556ms\tremaining: 653ms\n",
      "46:\tlearn: 20.6943567\ttotal: 567ms\tremaining: 640ms\n",
      "47:\tlearn: 20.6011647\ttotal: 579ms\tremaining: 627ms\n",
      "48:\tlearn: 20.4806110\ttotal: 591ms\tremaining: 615ms\n",
      "49:\tlearn: 20.3619974\ttotal: 602ms\tremaining: 602ms\n",
      "50:\tlearn: 20.2766161\ttotal: 615ms\tremaining: 591ms\n",
      "51:\tlearn: 20.1989903\ttotal: 627ms\tremaining: 579ms\n",
      "52:\tlearn: 20.1206499\ttotal: 638ms\tremaining: 566ms\n",
      "53:\tlearn: 20.0534379\ttotal: 649ms\tremaining: 553ms\n",
      "54:\tlearn: 19.9725725\ttotal: 660ms\tremaining: 540ms\n",
      "55:\tlearn: 19.8741731\ttotal: 672ms\tremaining: 528ms\n",
      "56:\tlearn: 19.7957949\ttotal: 684ms\tremaining: 516ms\n",
      "57:\tlearn: 19.7304988\ttotal: 696ms\tremaining: 504ms\n",
      "58:\tlearn: 19.6453701\ttotal: 707ms\tremaining: 491ms\n",
      "59:\tlearn: 19.5767288\ttotal: 719ms\tremaining: 479ms\n",
      "60:\tlearn: 19.5126314\ttotal: 731ms\tremaining: 467ms\n",
      "61:\tlearn: 19.4116149\ttotal: 743ms\tremaining: 455ms\n",
      "62:\tlearn: 19.3534779\ttotal: 755ms\tremaining: 443ms\n",
      "63:\tlearn: 19.2880027\ttotal: 766ms\tremaining: 431ms\n",
      "64:\tlearn: 19.2327364\ttotal: 777ms\tremaining: 419ms\n",
      "65:\tlearn: 19.1518092\ttotal: 789ms\tremaining: 406ms\n",
      "66:\tlearn: 19.1043116\ttotal: 801ms\tremaining: 394ms\n",
      "67:\tlearn: 19.0314838\ttotal: 813ms\tremaining: 383ms\n",
      "68:\tlearn: 18.9638564\ttotal: 825ms\tremaining: 371ms\n",
      "69:\tlearn: 18.9524278\ttotal: 827ms\tremaining: 354ms\n",
      "70:\tlearn: 18.9194701\ttotal: 843ms\tremaining: 344ms\n",
      "71:\tlearn: 18.8692950\ttotal: 855ms\tremaining: 332ms\n",
      "72:\tlearn: 18.8011686\ttotal: 866ms\tremaining: 320ms\n",
      "73:\tlearn: 18.7198808\ttotal: 878ms\tremaining: 308ms\n",
      "74:\tlearn: 18.6702319\ttotal: 890ms\tremaining: 297ms\n",
      "75:\tlearn: 18.5959164\ttotal: 901ms\tremaining: 285ms\n",
      "76:\tlearn: 18.5271603\ttotal: 913ms\tremaining: 273ms\n",
      "77:\tlearn: 18.4827589\ttotal: 924ms\tremaining: 261ms\n",
      "78:\tlearn: 18.4113216\ttotal: 935ms\tremaining: 249ms\n",
      "79:\tlearn: 18.3672364\ttotal: 948ms\tremaining: 237ms\n",
      "80:\tlearn: 18.3031852\ttotal: 960ms\tremaining: 225ms\n",
      "81:\tlearn: 18.2512252\ttotal: 972ms\tremaining: 213ms\n",
      "82:\tlearn: 18.2138992\ttotal: 984ms\tremaining: 201ms\n",
      "83:\tlearn: 18.1616108\ttotal: 995ms\tremaining: 190ms\n",
      "84:\tlearn: 18.1310698\ttotal: 1.01s\tremaining: 178ms\n",
      "85:\tlearn: 18.0775652\ttotal: 1.02s\tremaining: 166ms\n",
      "86:\tlearn: 18.0380206\ttotal: 1.03s\tremaining: 154ms\n",
      "87:\tlearn: 17.9879942\ttotal: 1.04s\tremaining: 142ms\n",
      "88:\tlearn: 17.9156539\ttotal: 1.05s\tremaining: 130ms\n",
      "89:\tlearn: 17.8599119\ttotal: 1.07s\tremaining: 118ms\n",
      "90:\tlearn: 17.8086112\ttotal: 1.08s\tremaining: 107ms\n",
      "91:\tlearn: 17.7629890\ttotal: 1.09s\tremaining: 94.8ms\n",
      "92:\tlearn: 17.7290899\ttotal: 1.1s\tremaining: 83ms\n",
      "93:\tlearn: 17.6882578\ttotal: 1.11s\tremaining: 71.1ms\n",
      "94:\tlearn: 17.6557380\ttotal: 1.13s\tremaining: 59.3ms\n",
      "95:\tlearn: 17.5912449\ttotal: 1.14s\tremaining: 47.4ms\n",
      "96:\tlearn: 17.5488174\ttotal: 1.15s\tremaining: 35.6ms\n",
      "97:\tlearn: 17.4898373\ttotal: 1.16s\tremaining: 23.7ms\n",
      "98:\tlearn: 17.4504109\ttotal: 1.17s\tremaining: 11.8ms\n",
      "99:\tlearn: 17.4144604\ttotal: 1.18s\tremaining: 0us\n"
     ]
    },
    {
     "name": "stdout",
     "output_type": "stream",
     "text": [
      "0:\tlearn: 20.2665864\ttotal: 8ms\tremaining: 792ms\n",
      "1:\tlearn: 16.6333149\ttotal: 15.8ms\tremaining: 776ms\n",
      "2:\tlearn: 14.7564122\ttotal: 23.9ms\tremaining: 773ms\n",
      "3:\tlearn: 13.6490109\ttotal: 32ms\tremaining: 769ms\n",
      "4:\tlearn: 12.8306580\ttotal: 39.9ms\tremaining: 758ms\n",
      "5:\tlearn: 11.8230901\ttotal: 47.9ms\tremaining: 751ms\n",
      "6:\tlearn: 10.8674982\ttotal: 55.8ms\tremaining: 742ms\n",
      "7:\tlearn: 9.7381178\ttotal: 63.2ms\tremaining: 726ms\n",
      "8:\tlearn: 9.1223987\ttotal: 71.1ms\tremaining: 719ms\n",
      "9:\tlearn: 8.3571628\ttotal: 78.5ms\tremaining: 707ms\n",
      "10:\tlearn: 7.5858700\ttotal: 86.6ms\tremaining: 700ms\n",
      "11:\tlearn: 7.5360635\ttotal: 94.4ms\tremaining: 692ms\n",
      "12:\tlearn: 6.5911084\ttotal: 103ms\tremaining: 686ms\n",
      "13:\tlearn: 6.2121229\ttotal: 110ms\tremaining: 678ms\n",
      "14:\tlearn: 5.4484231\ttotal: 118ms\tremaining: 671ms\n",
      "15:\tlearn: 4.9874130\ttotal: 126ms\tremaining: 661ms\n",
      "16:\tlearn: 4.6583642\ttotal: 137ms\tremaining: 668ms\n",
      "17:\tlearn: 4.3852425\ttotal: 149ms\tremaining: 677ms\n",
      "18:\tlearn: 4.0396909\ttotal: 157ms\tremaining: 669ms\n",
      "19:\tlearn: 3.5356852\ttotal: 164ms\tremaining: 658ms\n",
      "20:\tlearn: 3.0994392\ttotal: 173ms\tremaining: 652ms\n",
      "21:\tlearn: 2.9320215\ttotal: 181ms\tremaining: 643ms\n",
      "22:\tlearn: 2.6993372\ttotal: 189ms\tremaining: 634ms\n",
      "23:\tlearn: 2.5034361\ttotal: 198ms\tremaining: 626ms\n",
      "24:\tlearn: 2.3949857\ttotal: 206ms\tremaining: 617ms\n",
      "25:\tlearn: 2.1902659\ttotal: 213ms\tremaining: 606ms\n",
      "26:\tlearn: 2.0722315\ttotal: 221ms\tremaining: 597ms\n",
      "27:\tlearn: 1.9350390\ttotal: 229ms\tremaining: 588ms\n",
      "28:\tlearn: 1.8291541\ttotal: 237ms\tremaining: 580ms\n",
      "29:\tlearn: 1.7264381\ttotal: 244ms\tremaining: 570ms\n",
      "30:\tlearn: 1.5812325\ttotal: 251ms\tremaining: 560ms\n",
      "31:\tlearn: 1.5301116\ttotal: 259ms\tremaining: 550ms\n",
      "32:\tlearn: 1.3435924\ttotal: 266ms\tremaining: 541ms\n",
      "33:\tlearn: 1.2570382\ttotal: 274ms\tremaining: 532ms\n",
      "34:\tlearn: 1.1840094\ttotal: 282ms\tremaining: 524ms\n",
      "35:\tlearn: 1.1002117\ttotal: 290ms\tremaining: 516ms\n",
      "36:\tlearn: 1.0933281\ttotal: 298ms\tremaining: 508ms\n",
      "37:\tlearn: 1.0115654\ttotal: 307ms\tremaining: 500ms\n",
      "38:\tlearn: 0.9815987\ttotal: 314ms\tremaining: 491ms\n",
      "39:\tlearn: 0.8940427\ttotal: 322ms\tremaining: 483ms\n",
      "40:\tlearn: 0.8186532\ttotal: 330ms\tremaining: 475ms\n",
      "41:\tlearn: 0.7774308\ttotal: 338ms\tremaining: 467ms\n",
      "42:\tlearn: 0.7421735\ttotal: 346ms\tremaining: 458ms\n",
      "43:\tlearn: 0.7021048\ttotal: 354ms\tremaining: 451ms\n",
      "44:\tlearn: 0.6919885\ttotal: 362ms\tremaining: 443ms\n",
      "45:\tlearn: 0.6570991\ttotal: 370ms\tremaining: 435ms\n",
      "46:\tlearn: 0.5840695\ttotal: 378ms\tremaining: 426ms\n",
      "47:\tlearn: 0.5656327\ttotal: 386ms\tremaining: 419ms\n",
      "48:\tlearn: 0.5636267\ttotal: 389ms\tremaining: 405ms\n",
      "49:\tlearn: 0.5377346\ttotal: 396ms\tremaining: 396ms\n",
      "50:\tlearn: 0.4818126\ttotal: 405ms\tremaining: 390ms\n",
      "51:\tlearn: 0.4581485\ttotal: 414ms\tremaining: 382ms\n",
      "52:\tlearn: 0.4262545\ttotal: 423ms\tremaining: 375ms\n",
      "53:\tlearn: 0.3859402\ttotal: 430ms\tremaining: 367ms\n",
      "54:\tlearn: 0.3556605\ttotal: 439ms\tremaining: 359ms\n",
      "55:\tlearn: 0.3279214\ttotal: 447ms\tremaining: 351ms\n",
      "56:\tlearn: 0.2904708\ttotal: 455ms\tremaining: 343ms\n",
      "57:\tlearn: 0.2803933\ttotal: 463ms\tremaining: 335ms\n",
      "58:\tlearn: 0.2707030\ttotal: 471ms\tremaining: 327ms\n",
      "59:\tlearn: 0.2546650\ttotal: 478ms\tremaining: 319ms\n",
      "60:\tlearn: 0.2541367\ttotal: 486ms\tremaining: 311ms\n",
      "61:\tlearn: 0.2423817\ttotal: 494ms\tremaining: 303ms\n",
      "62:\tlearn: 0.2160425\ttotal: 502ms\tremaining: 295ms\n",
      "63:\tlearn: 0.1900060\ttotal: 509ms\tremaining: 287ms\n",
      "64:\tlearn: 0.1665655\ttotal: 517ms\tremaining: 279ms\n",
      "65:\tlearn: 0.1602146\ttotal: 525ms\tremaining: 271ms\n",
      "66:\tlearn: 0.1545961\ttotal: 533ms\tremaining: 262ms\n",
      "67:\tlearn: 0.1516479\ttotal: 540ms\tremaining: 254ms\n",
      "68:\tlearn: 0.1376260\ttotal: 548ms\tremaining: 246ms\n",
      "69:\tlearn: 0.1287345\ttotal: 556ms\tremaining: 238ms\n",
      "70:\tlearn: 0.1259560\ttotal: 563ms\tremaining: 230ms\n",
      "71:\tlearn: 0.1203544\ttotal: 571ms\tremaining: 222ms\n",
      "72:\tlearn: 0.1184022\ttotal: 576ms\tremaining: 213ms\n",
      "73:\tlearn: 0.1124660\ttotal: 587ms\tremaining: 206ms\n",
      "74:\tlearn: 0.1010287\ttotal: 598ms\tremaining: 199ms\n",
      "75:\tlearn: 0.0941678\ttotal: 610ms\tremaining: 193ms\n",
      "76:\tlearn: 0.0895193\ttotal: 619ms\tremaining: 185ms\n",
      "77:\tlearn: 0.0855234\ttotal: 627ms\tremaining: 177ms\n",
      "78:\tlearn: 0.0791018\ttotal: 635ms\tremaining: 169ms\n",
      "79:\tlearn: 0.0765911\ttotal: 643ms\tremaining: 161ms\n",
      "80:\tlearn: 0.0736912\ttotal: 650ms\tremaining: 152ms\n",
      "81:\tlearn: 0.0695976\ttotal: 658ms\tremaining: 144ms\n",
      "82:\tlearn: 0.0630630\ttotal: 665ms\tremaining: 136ms\n",
      "83:\tlearn: 0.0585543\ttotal: 673ms\tremaining: 128ms\n",
      "84:\tlearn: 0.0575842\ttotal: 681ms\tremaining: 120ms\n",
      "85:\tlearn: 0.0524985\ttotal: 688ms\tremaining: 112ms\n",
      "86:\tlearn: 0.0506464\ttotal: 696ms\tremaining: 104ms\n",
      "87:\tlearn: 0.0485726\ttotal: 703ms\tremaining: 95.9ms\n",
      "88:\tlearn: 0.0464184\ttotal: 711ms\tremaining: 87.9ms\n",
      "89:\tlearn: 0.0446384\ttotal: 718ms\tremaining: 79.8ms\n",
      "90:\tlearn: 0.0393620\ttotal: 726ms\tremaining: 71.8ms\n",
      "91:\tlearn: 0.0374224\ttotal: 733ms\tremaining: 63.7ms\n",
      "92:\tlearn: 0.0368072\ttotal: 741ms\tremaining: 55.7ms\n",
      "93:\tlearn: 0.0358320\ttotal: 748ms\tremaining: 47.7ms\n",
      "94:\tlearn: 0.0346936\ttotal: 756ms\tremaining: 39.8ms\n",
      "95:\tlearn: 0.0330219\ttotal: 764ms\tremaining: 31.8ms\n",
      "96:\tlearn: 0.0305213\ttotal: 772ms\tremaining: 23.9ms\n",
      "97:\tlearn: 0.0299757\ttotal: 780ms\tremaining: 15.9ms\n",
      "98:\tlearn: 0.0277737\ttotal: 787ms\tremaining: 7.95ms\n",
      "99:\tlearn: 0.0263190\ttotal: 795ms\tremaining: 0us\n",
      "0:\tlearn: 21.9089847\ttotal: 10.1ms\tremaining: 1s\n",
      "1:\tlearn: 19.2620675\ttotal: 19.4ms\tremaining: 949ms\n",
      "2:\tlearn: 17.1995157\ttotal: 29.2ms\tremaining: 943ms\n",
      "3:\tlearn: 15.0387257\ttotal: 38.6ms\tremaining: 925ms\n",
      "4:\tlearn: 14.1176056\ttotal: 47.7ms\tremaining: 906ms\n",
      "5:\tlearn: 13.3105959\ttotal: 57.1ms\tremaining: 895ms\n",
      "6:\tlearn: 12.5014130\ttotal: 66.1ms\tremaining: 878ms\n",
      "7:\tlearn: 11.7834407\ttotal: 75.5ms\tremaining: 868ms\n",
      "8:\tlearn: 11.1488184\ttotal: 84.7ms\tremaining: 856ms\n",
      "9:\tlearn: 10.6389079\ttotal: 94.1ms\tremaining: 847ms\n",
      "10:\tlearn: 9.6631075\ttotal: 104ms\tremaining: 841ms\n",
      "11:\tlearn: 8.9879301\ttotal: 114ms\tremaining: 833ms\n",
      "12:\tlearn: 8.4804917\ttotal: 123ms\tremaining: 824ms\n",
      "13:\tlearn: 8.2145952\ttotal: 133ms\tremaining: 814ms\n",
      "14:\tlearn: 7.6761256\ttotal: 142ms\tremaining: 805ms\n",
      "15:\tlearn: 7.3800954\ttotal: 152ms\tremaining: 796ms\n",
      "16:\tlearn: 7.1452701\ttotal: 161ms\tremaining: 788ms\n",
      "17:\tlearn: 6.8547151\ttotal: 171ms\tremaining: 778ms\n",
      "18:\tlearn: 6.5470285\ttotal: 180ms\tremaining: 768ms\n",
      "19:\tlearn: 6.0371191\ttotal: 190ms\tremaining: 759ms\n",
      "20:\tlearn: 5.8779851\ttotal: 202ms\tremaining: 761ms\n",
      "21:\tlearn: 5.6078010\ttotal: 212ms\tremaining: 752ms\n",
      "22:\tlearn: 5.4800419\ttotal: 222ms\tremaining: 742ms\n",
      "23:\tlearn: 5.3252526\ttotal: 231ms\tremaining: 732ms\n",
      "24:\tlearn: 4.8743149\ttotal: 244ms\tremaining: 732ms\n",
      "25:\tlearn: 4.4246467\ttotal: 254ms\tremaining: 722ms\n",
      "26:\tlearn: 4.3607675\ttotal: 263ms\tremaining: 712ms\n",
      "27:\tlearn: 4.0891969\ttotal: 273ms\tremaining: 703ms\n",
      "28:\tlearn: 4.0366997\ttotal: 283ms\tremaining: 693ms\n",
      "29:\tlearn: 3.6573990\ttotal: 292ms\tremaining: 682ms\n",
      "30:\tlearn: 3.4903819\ttotal: 302ms\tremaining: 671ms\n",
      "31:\tlearn: 3.3100931\ttotal: 315ms\tremaining: 669ms\n",
      "32:\tlearn: 3.2352461\ttotal: 329ms\tremaining: 669ms\n",
      "33:\tlearn: 3.1245034\ttotal: 340ms\tremaining: 661ms\n",
      "34:\tlearn: 2.9655154\ttotal: 350ms\tremaining: 651ms\n",
      "35:\tlearn: 2.8194020\ttotal: 360ms\tremaining: 639ms\n",
      "36:\tlearn: 2.6076948\ttotal: 369ms\tremaining: 629ms\n",
      "37:\tlearn: 2.4338976\ttotal: 379ms\tremaining: 618ms\n",
      "38:\tlearn: 2.3041138\ttotal: 388ms\tremaining: 607ms\n",
      "39:\tlearn: 2.1876448\ttotal: 398ms\tremaining: 596ms\n",
      "40:\tlearn: 2.0419527\ttotal: 407ms\tremaining: 586ms\n",
      "41:\tlearn: 1.9856875\ttotal: 416ms\tremaining: 575ms\n",
      "42:\tlearn: 1.9259587\ttotal: 425ms\tremaining: 563ms\n",
      "43:\tlearn: 1.8223749\ttotal: 434ms\tremaining: 553ms\n",
      "44:\tlearn: 1.7889287\ttotal: 444ms\tremaining: 543ms\n",
      "45:\tlearn: 1.7416465\ttotal: 453ms\tremaining: 532ms\n",
      "46:\tlearn: 1.6885679\ttotal: 463ms\tremaining: 522ms\n",
      "47:\tlearn: 1.6059209\ttotal: 472ms\tremaining: 511ms\n",
      "48:\tlearn: 1.4771461\ttotal: 481ms\tremaining: 501ms\n",
      "49:\tlearn: 1.4100144\ttotal: 491ms\tremaining: 491ms\n",
      "50:\tlearn: 1.3527911\ttotal: 500ms\tremaining: 481ms\n",
      "51:\tlearn: 1.3504633\ttotal: 510ms\tremaining: 471ms\n",
      "52:\tlearn: 1.3187743\ttotal: 519ms\tremaining: 460ms\n",
      "53:\tlearn: 1.2873514\ttotal: 528ms\tremaining: 450ms\n",
      "54:\tlearn: 1.2030494\ttotal: 537ms\tremaining: 440ms\n",
      "55:\tlearn: 1.1403990\ttotal: 547ms\tremaining: 429ms\n",
      "56:\tlearn: 1.0926877\ttotal: 556ms\tremaining: 419ms\n",
      "57:\tlearn: 1.0604917\ttotal: 565ms\tremaining: 409ms\n",
      "58:\tlearn: 1.0096608\ttotal: 574ms\tremaining: 399ms\n",
      "59:\tlearn: 1.0033253\ttotal: 584ms\tremaining: 389ms\n",
      "60:\tlearn: 0.9565616\ttotal: 594ms\tremaining: 380ms\n",
      "61:\tlearn: 0.9021072\ttotal: 603ms\tremaining: 370ms\n",
      "62:\tlearn: 0.8514881\ttotal: 612ms\tremaining: 360ms\n",
      "63:\tlearn: 0.7750334\ttotal: 622ms\tremaining: 350ms\n",
      "64:\tlearn: 0.7375255\ttotal: 632ms\tremaining: 340ms\n",
      "65:\tlearn: 0.7091393\ttotal: 641ms\tremaining: 330ms\n",
      "66:\tlearn: 0.6594726\ttotal: 651ms\tremaining: 320ms\n",
      "67:\tlearn: 0.6377018\ttotal: 660ms\tremaining: 311ms\n",
      "68:\tlearn: 0.6095987\ttotal: 670ms\tremaining: 301ms\n",
      "69:\tlearn: 0.5932634\ttotal: 679ms\tremaining: 291ms\n",
      "70:\tlearn: 0.5831980\ttotal: 689ms\tremaining: 281ms\n",
      "71:\tlearn: 0.5674575\ttotal: 698ms\tremaining: 271ms\n",
      "72:\tlearn: 0.5573854\ttotal: 707ms\tremaining: 262ms\n",
      "73:\tlearn: 0.5291548\ttotal: 717ms\tremaining: 252ms\n",
      "74:\tlearn: 0.4946457\ttotal: 726ms\tremaining: 242ms\n",
      "75:\tlearn: 0.4750031\ttotal: 736ms\tremaining: 232ms\n",
      "76:\tlearn: 0.4595240\ttotal: 745ms\tremaining: 223ms\n",
      "77:\tlearn: 0.4299595\ttotal: 754ms\tremaining: 213ms\n",
      "78:\tlearn: 0.4186029\ttotal: 764ms\tremaining: 203ms\n",
      "79:\tlearn: 0.4066024\ttotal: 773ms\tremaining: 193ms\n",
      "80:\tlearn: 0.3882990\ttotal: 783ms\tremaining: 184ms\n"
     ]
    },
    {
     "name": "stdout",
     "output_type": "stream",
     "text": [
      "81:\tlearn: 0.3766962\ttotal: 792ms\tremaining: 174ms\n",
      "82:\tlearn: 0.3613750\ttotal: 802ms\tremaining: 164ms\n",
      "83:\tlearn: 0.3426085\ttotal: 811ms\tremaining: 154ms\n",
      "84:\tlearn: 0.3107421\ttotal: 820ms\tremaining: 145ms\n",
      "85:\tlearn: 0.2946136\ttotal: 829ms\tremaining: 135ms\n",
      "86:\tlearn: 0.2853777\ttotal: 838ms\tremaining: 125ms\n",
      "87:\tlearn: 0.2761175\ttotal: 847ms\tremaining: 116ms\n",
      "88:\tlearn: 0.2674284\ttotal: 857ms\tremaining: 106ms\n",
      "89:\tlearn: 0.2558066\ttotal: 866ms\tremaining: 96.3ms\n",
      "90:\tlearn: 0.2532441\ttotal: 876ms\tremaining: 86.7ms\n",
      "91:\tlearn: 0.2367255\ttotal: 886ms\tremaining: 77ms\n",
      "92:\tlearn: 0.2297372\ttotal: 895ms\tremaining: 67.4ms\n",
      "93:\tlearn: 0.2252297\ttotal: 905ms\tremaining: 57.8ms\n",
      "94:\tlearn: 0.2177550\ttotal: 915ms\tremaining: 48.1ms\n",
      "95:\tlearn: 0.2118362\ttotal: 924ms\tremaining: 38.5ms\n",
      "96:\tlearn: 0.2072678\ttotal: 933ms\tremaining: 28.9ms\n",
      "97:\tlearn: 0.2002198\ttotal: 942ms\tremaining: 19.2ms\n",
      "98:\tlearn: 0.1937885\ttotal: 951ms\tremaining: 9.61ms\n",
      "99:\tlearn: 0.1837995\ttotal: 960ms\tremaining: 0us\n",
      "0:\tlearn: 23.2718747\ttotal: 11ms\tremaining: 1.09s\n",
      "1:\tlearn: 20.7049537\ttotal: 21.4ms\tremaining: 1.05s\n",
      "2:\tlearn: 19.9720490\ttotal: 31.7ms\tremaining: 1.03s\n",
      "3:\tlearn: 18.8090780\ttotal: 42.1ms\tremaining: 1.01s\n",
      "4:\tlearn: 17.5759911\ttotal: 52.5ms\tremaining: 998ms\n",
      "5:\tlearn: 16.8022725\ttotal: 62.7ms\tremaining: 982ms\n",
      "6:\tlearn: 15.7729732\ttotal: 73ms\tremaining: 970ms\n",
      "7:\tlearn: 15.1381833\ttotal: 83.7ms\tremaining: 963ms\n",
      "8:\tlearn: 13.9840889\ttotal: 94.3ms\tremaining: 953ms\n",
      "9:\tlearn: 13.5207651\ttotal: 105ms\tremaining: 943ms\n",
      "10:\tlearn: 12.7532574\ttotal: 115ms\tremaining: 933ms\n",
      "11:\tlearn: 11.9116388\ttotal: 125ms\tremaining: 920ms\n",
      "12:\tlearn: 11.3344462\ttotal: 136ms\tremaining: 911ms\n",
      "13:\tlearn: 10.5889948\ttotal: 146ms\tremaining: 899ms\n",
      "14:\tlearn: 10.2640895\ttotal: 156ms\tremaining: 887ms\n",
      "15:\tlearn: 10.0618145\ttotal: 166ms\tremaining: 874ms\n",
      "16:\tlearn: 9.4857717\ttotal: 176ms\tremaining: 861ms\n",
      "17:\tlearn: 9.1851205\ttotal: 187ms\tremaining: 850ms\n",
      "18:\tlearn: 8.7387697\ttotal: 197ms\tremaining: 841ms\n",
      "19:\tlearn: 8.2874750\ttotal: 212ms\tremaining: 850ms\n",
      "20:\tlearn: 8.0269461\ttotal: 223ms\tremaining: 837ms\n",
      "21:\tlearn: 7.7129741\ttotal: 233ms\tremaining: 825ms\n",
      "22:\tlearn: 7.2021696\ttotal: 244ms\tremaining: 816ms\n",
      "23:\tlearn: 7.1197530\ttotal: 254ms\tremaining: 805ms\n",
      "24:\tlearn: 6.7405424\ttotal: 265ms\tremaining: 794ms\n",
      "25:\tlearn: 6.5207115\ttotal: 275ms\tremaining: 783ms\n",
      "26:\tlearn: 6.3872304\ttotal: 285ms\tremaining: 771ms\n",
      "27:\tlearn: 6.0053082\ttotal: 295ms\tremaining: 759ms\n",
      "28:\tlearn: 5.9995060\ttotal: 306ms\tremaining: 749ms\n",
      "29:\tlearn: 5.8115494\ttotal: 316ms\tremaining: 738ms\n",
      "30:\tlearn: 5.4664253\ttotal: 328ms\tremaining: 731ms\n",
      "31:\tlearn: 5.2571199\ttotal: 345ms\tremaining: 733ms\n",
      "32:\tlearn: 4.9924046\ttotal: 356ms\tremaining: 723ms\n",
      "33:\tlearn: 4.7196297\ttotal: 367ms\tremaining: 712ms\n",
      "34:\tlearn: 4.6429970\ttotal: 378ms\tremaining: 701ms\n",
      "35:\tlearn: 4.4551069\ttotal: 388ms\tremaining: 691ms\n",
      "36:\tlearn: 4.2995041\ttotal: 399ms\tremaining: 679ms\n",
      "37:\tlearn: 4.1667192\ttotal: 410ms\tremaining: 669ms\n",
      "38:\tlearn: 4.0340692\ttotal: 421ms\tremaining: 659ms\n",
      "39:\tlearn: 3.8723672\ttotal: 432ms\tremaining: 649ms\n",
      "40:\tlearn: 3.7314995\ttotal: 443ms\tremaining: 637ms\n",
      "41:\tlearn: 3.6153099\ttotal: 453ms\tremaining: 626ms\n",
      "42:\tlearn: 3.5486508\ttotal: 464ms\tremaining: 615ms\n",
      "43:\tlearn: 3.5341665\ttotal: 474ms\tremaining: 604ms\n",
      "44:\tlearn: 3.3427526\ttotal: 485ms\tremaining: 592ms\n",
      "45:\tlearn: 3.1549998\ttotal: 495ms\tremaining: 581ms\n",
      "46:\tlearn: 3.0351695\ttotal: 505ms\tremaining: 569ms\n",
      "47:\tlearn: 2.7918989\ttotal: 515ms\tremaining: 558ms\n",
      "48:\tlearn: 2.7179781\ttotal: 525ms\tremaining: 546ms\n",
      "49:\tlearn: 2.6437448\ttotal: 534ms\tremaining: 534ms\n",
      "50:\tlearn: 2.5954971\ttotal: 544ms\tremaining: 523ms\n",
      "51:\tlearn: 2.4696307\ttotal: 554ms\tremaining: 512ms\n",
      "52:\tlearn: 2.4579244\ttotal: 565ms\tremaining: 501ms\n",
      "53:\tlearn: 2.3648137\ttotal: 575ms\tremaining: 490ms\n",
      "54:\tlearn: 2.2682266\ttotal: 585ms\tremaining: 479ms\n",
      "55:\tlearn: 2.1830390\ttotal: 595ms\tremaining: 468ms\n",
      "56:\tlearn: 2.1399754\ttotal: 606ms\tremaining: 457ms\n",
      "57:\tlearn: 2.1376712\ttotal: 616ms\tremaining: 446ms\n",
      "58:\tlearn: 2.0991033\ttotal: 626ms\tremaining: 435ms\n",
      "59:\tlearn: 2.0147201\ttotal: 636ms\tremaining: 424ms\n",
      "60:\tlearn: 1.9687550\ttotal: 646ms\tremaining: 413ms\n",
      "61:\tlearn: 1.8934333\ttotal: 657ms\tremaining: 402ms\n",
      "62:\tlearn: 1.8593677\ttotal: 667ms\tremaining: 391ms\n",
      "63:\tlearn: 1.7627352\ttotal: 677ms\tremaining: 381ms\n",
      "64:\tlearn: 1.7074384\ttotal: 688ms\tremaining: 370ms\n",
      "65:\tlearn: 1.6650244\ttotal: 698ms\tremaining: 360ms\n",
      "66:\tlearn: 1.5895294\ttotal: 708ms\tremaining: 349ms\n",
      "67:\tlearn: 1.5856761\ttotal: 719ms\tremaining: 338ms\n",
      "68:\tlearn: 1.4901506\ttotal: 730ms\tremaining: 328ms\n",
      "69:\tlearn: 1.4880170\ttotal: 740ms\tremaining: 317ms\n",
      "70:\tlearn: 1.4485786\ttotal: 751ms\tremaining: 307ms\n",
      "71:\tlearn: 1.4094665\ttotal: 761ms\tremaining: 296ms\n",
      "72:\tlearn: 1.3609558\ttotal: 771ms\tremaining: 285ms\n",
      "73:\tlearn: 1.3330414\ttotal: 781ms\tremaining: 275ms\n",
      "74:\tlearn: 1.2968574\ttotal: 791ms\tremaining: 264ms\n",
      "75:\tlearn: 1.2756238\ttotal: 801ms\tremaining: 253ms\n",
      "76:\tlearn: 1.2686753\ttotal: 812ms\tremaining: 243ms\n",
      "77:\tlearn: 1.2103645\ttotal: 823ms\tremaining: 232ms\n",
      "78:\tlearn: 1.1777264\ttotal: 833ms\tremaining: 221ms\n",
      "79:\tlearn: 1.1312893\ttotal: 843ms\tremaining: 211ms\n",
      "80:\tlearn: 1.1110200\ttotal: 854ms\tremaining: 200ms\n",
      "81:\tlearn: 1.0828461\ttotal: 865ms\tremaining: 190ms\n",
      "82:\tlearn: 1.0522798\ttotal: 876ms\tremaining: 179ms\n",
      "83:\tlearn: 0.9883163\ttotal: 887ms\tremaining: 169ms\n",
      "84:\tlearn: 0.9685611\ttotal: 897ms\tremaining: 158ms\n",
      "85:\tlearn: 0.9489855\ttotal: 908ms\tremaining: 148ms\n",
      "86:\tlearn: 0.9109564\ttotal: 918ms\tremaining: 137ms\n",
      "87:\tlearn: 0.8962057\ttotal: 929ms\tremaining: 127ms\n",
      "88:\tlearn: 0.8581624\ttotal: 940ms\tremaining: 116ms\n",
      "89:\tlearn: 0.8360446\ttotal: 951ms\tremaining: 106ms\n",
      "90:\tlearn: 0.8136980\ttotal: 961ms\tremaining: 95.1ms\n",
      "91:\tlearn: 0.7753989\ttotal: 972ms\tremaining: 84.5ms\n",
      "92:\tlearn: 0.7617411\ttotal: 983ms\tremaining: 74ms\n",
      "93:\tlearn: 0.7406940\ttotal: 994ms\tremaining: 63.4ms\n",
      "94:\tlearn: 0.7192951\ttotal: 1s\tremaining: 52.8ms\n",
      "95:\tlearn: 0.6776710\ttotal: 1.01s\tremaining: 42.3ms\n",
      "96:\tlearn: 0.6564718\ttotal: 1.02s\tremaining: 31.7ms\n",
      "97:\tlearn: 0.6313232\ttotal: 1.04s\tremaining: 21.1ms\n",
      "98:\tlearn: 0.6175739\ttotal: 1.05s\tremaining: 10.6ms\n",
      "99:\tlearn: 0.5975844\ttotal: 1.06s\tremaining: 0us\n",
      "0:\tlearn: 23.0262220\ttotal: 11.5ms\tremaining: 1.14s\n",
      "1:\tlearn: 21.0545743\ttotal: 23.1ms\tremaining: 1.13s\n",
      "2:\tlearn: 20.8197260\ttotal: 24.7ms\tremaining: 800ms\n",
      "3:\tlearn: 19.3691161\ttotal: 36.3ms\tremaining: 870ms\n",
      "4:\tlearn: 17.4978118\ttotal: 47.7ms\tremaining: 907ms\n",
      "5:\tlearn: 16.5422636\ttotal: 59.2ms\tremaining: 927ms\n",
      "6:\tlearn: 16.2759019\ttotal: 70.7ms\tremaining: 939ms\n",
      "7:\tlearn: 15.6281953\ttotal: 82.6ms\tremaining: 950ms\n",
      "8:\tlearn: 14.8779335\ttotal: 93.8ms\tremaining: 948ms\n",
      "9:\tlearn: 14.0289483\ttotal: 107ms\tremaining: 963ms\n",
      "10:\tlearn: 13.6178685\ttotal: 125ms\tremaining: 1.01s\n",
      "11:\tlearn: 13.2233742\ttotal: 139ms\tremaining: 1.02s\n",
      "12:\tlearn: 12.7032804\ttotal: 150ms\tremaining: 1s\n",
      "13:\tlearn: 11.9090592\ttotal: 162ms\tremaining: 995ms\n",
      "14:\tlearn: 11.7939365\ttotal: 174ms\tremaining: 986ms\n",
      "15:\tlearn: 11.4536778\ttotal: 186ms\tremaining: 976ms\n",
      "16:\tlearn: 11.0522120\ttotal: 197ms\tremaining: 963ms\n",
      "17:\tlearn: 10.6781250\ttotal: 209ms\tremaining: 951ms\n",
      "18:\tlearn: 10.4297083\ttotal: 220ms\tremaining: 940ms\n",
      "19:\tlearn: 9.7231744\ttotal: 232ms\tremaining: 929ms\n",
      "20:\tlearn: 9.2921468\ttotal: 244ms\tremaining: 916ms\n",
      "21:\tlearn: 9.1118256\ttotal: 255ms\tremaining: 904ms\n",
      "22:\tlearn: 8.9127108\ttotal: 266ms\tremaining: 891ms\n",
      "23:\tlearn: 8.4754086\ttotal: 278ms\tremaining: 879ms\n",
      "24:\tlearn: 8.2637884\ttotal: 289ms\tremaining: 868ms\n",
      "25:\tlearn: 8.0834847\ttotal: 301ms\tremaining: 856ms\n",
      "26:\tlearn: 7.8330754\ttotal: 313ms\tremaining: 845ms\n",
      "27:\tlearn: 7.5198713\ttotal: 324ms\tremaining: 834ms\n",
      "28:\tlearn: 7.4359560\ttotal: 336ms\tremaining: 822ms\n",
      "29:\tlearn: 6.9580317\ttotal: 347ms\tremaining: 810ms\n",
      "30:\tlearn: 6.9468171\ttotal: 358ms\tremaining: 798ms\n",
      "31:\tlearn: 6.6672090\ttotal: 370ms\tremaining: 785ms\n",
      "32:\tlearn: 6.4904514\ttotal: 381ms\tremaining: 773ms\n",
      "33:\tlearn: 6.4164908\ttotal: 392ms\tremaining: 761ms\n",
      "34:\tlearn: 6.2697779\ttotal: 404ms\tremaining: 749ms\n",
      "35:\tlearn: 5.9189785\ttotal: 415ms\tremaining: 738ms\n",
      "36:\tlearn: 5.5429395\ttotal: 426ms\tremaining: 725ms\n",
      "37:\tlearn: 5.4440471\ttotal: 437ms\tremaining: 713ms\n",
      "38:\tlearn: 5.2619000\ttotal: 448ms\tremaining: 701ms\n",
      "39:\tlearn: 5.0190363\ttotal: 459ms\tremaining: 688ms\n",
      "40:\tlearn: 4.8898409\ttotal: 470ms\tremaining: 677ms\n",
      "41:\tlearn: 4.7978574\ttotal: 482ms\tremaining: 665ms\n",
      "42:\tlearn: 4.6269605\ttotal: 493ms\tremaining: 654ms\n",
      "43:\tlearn: 4.5459925\ttotal: 505ms\tremaining: 642ms\n",
      "44:\tlearn: 4.4322157\ttotal: 516ms\tremaining: 630ms\n",
      "45:\tlearn: 4.2843158\ttotal: 527ms\tremaining: 619ms\n",
      "46:\tlearn: 4.2263420\ttotal: 538ms\tremaining: 607ms\n",
      "47:\tlearn: 4.0825337\ttotal: 550ms\tremaining: 596ms\n",
      "48:\tlearn: 3.8754628\ttotal: 561ms\tremaining: 584ms\n",
      "49:\tlearn: 3.8201191\ttotal: 572ms\tremaining: 572ms\n",
      "50:\tlearn: 3.6821468\ttotal: 583ms\tremaining: 560ms\n"
     ]
    },
    {
     "name": "stdout",
     "output_type": "stream",
     "text": [
      "51:\tlearn: 3.5841170\ttotal: 594ms\tremaining: 549ms\n",
      "52:\tlearn: 3.5065963\ttotal: 605ms\tremaining: 537ms\n",
      "53:\tlearn: 3.3175570\ttotal: 617ms\tremaining: 525ms\n",
      "54:\tlearn: 3.3108398\ttotal: 629ms\tremaining: 515ms\n",
      "55:\tlearn: 3.2682068\ttotal: 641ms\tremaining: 504ms\n",
      "56:\tlearn: 3.2197561\ttotal: 652ms\tremaining: 492ms\n",
      "57:\tlearn: 3.1214092\ttotal: 663ms\tremaining: 480ms\n",
      "58:\tlearn: 3.0698835\ttotal: 674ms\tremaining: 469ms\n",
      "59:\tlearn: 2.9870920\ttotal: 685ms\tremaining: 457ms\n",
      "60:\tlearn: 2.9424769\ttotal: 696ms\tremaining: 445ms\n",
      "61:\tlearn: 2.9107515\ttotal: 707ms\tremaining: 433ms\n",
      "62:\tlearn: 2.9076887\ttotal: 718ms\tremaining: 422ms\n",
      "63:\tlearn: 2.8522827\ttotal: 729ms\tremaining: 410ms\n",
      "64:\tlearn: 2.7407409\ttotal: 741ms\tremaining: 399ms\n",
      "65:\tlearn: 2.6269638\ttotal: 752ms\tremaining: 387ms\n",
      "66:\tlearn: 2.5527537\ttotal: 763ms\tremaining: 376ms\n",
      "67:\tlearn: 2.5216073\ttotal: 774ms\tremaining: 364ms\n",
      "68:\tlearn: 2.4066130\ttotal: 785ms\tremaining: 353ms\n",
      "69:\tlearn: 2.3452043\ttotal: 796ms\tremaining: 341ms\n",
      "70:\tlearn: 2.3097135\ttotal: 808ms\tremaining: 330ms\n",
      "71:\tlearn: 2.2189930\ttotal: 819ms\tremaining: 319ms\n",
      "72:\tlearn: 2.1054178\ttotal: 831ms\tremaining: 307ms\n",
      "73:\tlearn: 2.0646245\ttotal: 842ms\tremaining: 296ms\n",
      "74:\tlearn: 1.9802827\ttotal: 853ms\tremaining: 284ms\n",
      "75:\tlearn: 1.9312432\ttotal: 864ms\tremaining: 273ms\n",
      "76:\tlearn: 1.8982956\ttotal: 876ms\tremaining: 262ms\n",
      "77:\tlearn: 1.8772359\ttotal: 887ms\tremaining: 250ms\n",
      "78:\tlearn: 1.7964163\ttotal: 898ms\tremaining: 239ms\n",
      "79:\tlearn: 1.7651389\ttotal: 909ms\tremaining: 227ms\n",
      "80:\tlearn: 1.6794496\ttotal: 921ms\tremaining: 216ms\n",
      "81:\tlearn: 1.6420717\ttotal: 931ms\tremaining: 204ms\n",
      "82:\tlearn: 1.6408199\ttotal: 942ms\tremaining: 193ms\n",
      "83:\tlearn: 1.6167842\ttotal: 953ms\tremaining: 182ms\n",
      "84:\tlearn: 1.5916631\ttotal: 964ms\tremaining: 170ms\n",
      "85:\tlearn: 1.5457792\ttotal: 976ms\tremaining: 159ms\n",
      "86:\tlearn: 1.5265031\ttotal: 987ms\tremaining: 148ms\n",
      "87:\tlearn: 1.5020823\ttotal: 999ms\tremaining: 136ms\n",
      "88:\tlearn: 1.4419925\ttotal: 1.01s\tremaining: 125ms\n",
      "89:\tlearn: 1.4003275\ttotal: 1.02s\tremaining: 113ms\n",
      "90:\tlearn: 1.3454745\ttotal: 1.03s\tremaining: 102ms\n",
      "91:\tlearn: 1.3255076\ttotal: 1.04s\tremaining: 90.7ms\n",
      "92:\tlearn: 1.3206355\ttotal: 1.05s\tremaining: 79.3ms\n",
      "93:\tlearn: 1.2618832\ttotal: 1.06s\tremaining: 68ms\n",
      "94:\tlearn: 1.2423929\ttotal: 1.07s\tremaining: 56.6ms\n",
      "95:\tlearn: 1.2134991\ttotal: 1.09s\tremaining: 45.3ms\n",
      "96:\tlearn: 1.1732066\ttotal: 1.1s\tremaining: 34ms\n",
      "97:\tlearn: 1.1518088\ttotal: 1.11s\tremaining: 22.7ms\n",
      "98:\tlearn: 1.0982489\ttotal: 1.12s\tremaining: 11.3ms\n",
      "99:\tlearn: 1.0646060\ttotal: 1.13s\tremaining: 0us\n",
      "0:\tlearn: 24.4725621\ttotal: 12.7ms\tremaining: 1.26s\n",
      "1:\tlearn: 22.1822088\ttotal: 24.7ms\tremaining: 1.21s\n",
      "2:\tlearn: 21.1679090\ttotal: 38.3ms\tremaining: 1.24s\n",
      "3:\tlearn: 19.6301425\ttotal: 50.3ms\tremaining: 1.21s\n",
      "4:\tlearn: 18.9580830\ttotal: 68.6ms\tremaining: 1.3s\n",
      "5:\tlearn: 17.8328449\ttotal: 84.5ms\tremaining: 1.32s\n",
      "6:\tlearn: 17.5878617\ttotal: 96.7ms\tremaining: 1.28s\n",
      "7:\tlearn: 17.0820292\ttotal: 109ms\tremaining: 1.26s\n",
      "8:\tlearn: 15.8007721\ttotal: 125ms\tremaining: 1.27s\n",
      "9:\tlearn: 15.1089465\ttotal: 144ms\tremaining: 1.29s\n",
      "10:\tlearn: 14.2588970\ttotal: 158ms\tremaining: 1.28s\n",
      "11:\tlearn: 13.7211635\ttotal: 171ms\tremaining: 1.25s\n",
      "12:\tlearn: 13.0427044\ttotal: 183ms\tremaining: 1.23s\n",
      "13:\tlearn: 12.9714703\ttotal: 196ms\tremaining: 1.2s\n",
      "14:\tlearn: 12.3213190\ttotal: 207ms\tremaining: 1.18s\n",
      "15:\tlearn: 11.7500381\ttotal: 219ms\tremaining: 1.15s\n",
      "16:\tlearn: 11.7237172\ttotal: 231ms\tremaining: 1.13s\n",
      "17:\tlearn: 11.3751547\ttotal: 243ms\tremaining: 1.11s\n",
      "18:\tlearn: 11.1716578\ttotal: 255ms\tremaining: 1.09s\n",
      "19:\tlearn: 10.7836978\ttotal: 267ms\tremaining: 1.07s\n",
      "20:\tlearn: 10.4786605\ttotal: 279ms\tremaining: 1.05s\n",
      "21:\tlearn: 10.4651410\ttotal: 291ms\tremaining: 1.03s\n",
      "22:\tlearn: 9.9972799\ttotal: 303ms\tremaining: 1.01s\n",
      "23:\tlearn: 9.9199866\ttotal: 315ms\tremaining: 998ms\n",
      "24:\tlearn: 9.6380070\ttotal: 328ms\tremaining: 983ms\n",
      "25:\tlearn: 9.2802195\ttotal: 340ms\tremaining: 967ms\n",
      "26:\tlearn: 8.8706369\ttotal: 352ms\tremaining: 953ms\n",
      "27:\tlearn: 8.6931005\ttotal: 365ms\tremaining: 938ms\n",
      "28:\tlearn: 8.5102551\ttotal: 377ms\tremaining: 923ms\n",
      "29:\tlearn: 8.0022258\ttotal: 389ms\tremaining: 909ms\n",
      "30:\tlearn: 7.8361308\ttotal: 402ms\tremaining: 894ms\n",
      "31:\tlearn: 7.7274287\ttotal: 417ms\tremaining: 886ms\n",
      "32:\tlearn: 7.6350354\ttotal: 429ms\tremaining: 871ms\n",
      "33:\tlearn: 7.4902217\ttotal: 441ms\tremaining: 857ms\n",
      "34:\tlearn: 7.4471696\ttotal: 454ms\tremaining: 843ms\n",
      "35:\tlearn: 7.2638480\ttotal: 467ms\tremaining: 829ms\n",
      "36:\tlearn: 7.0335755\ttotal: 478ms\tremaining: 814ms\n",
      "37:\tlearn: 6.8403357\ttotal: 490ms\tremaining: 800ms\n",
      "38:\tlearn: 6.6133963\ttotal: 501ms\tremaining: 784ms\n",
      "39:\tlearn: 6.4991033\ttotal: 515ms\tremaining: 772ms\n",
      "40:\tlearn: 6.3207385\ttotal: 529ms\tremaining: 761ms\n",
      "41:\tlearn: 6.0998566\ttotal: 542ms\tremaining: 748ms\n",
      "42:\tlearn: 6.0042213\ttotal: 563ms\tremaining: 746ms\n",
      "43:\tlearn: 5.8827148\ttotal: 580ms\tremaining: 738ms\n",
      "44:\tlearn: 5.7691834\ttotal: 596ms\tremaining: 728ms\n",
      "45:\tlearn: 5.6091567\ttotal: 613ms\tremaining: 719ms\n",
      "46:\tlearn: 5.5196465\ttotal: 625ms\tremaining: 704ms\n",
      "47:\tlearn: 5.4433470\ttotal: 637ms\tremaining: 690ms\n",
      "48:\tlearn: 5.3067751\ttotal: 649ms\tremaining: 676ms\n",
      "49:\tlearn: 5.2352007\ttotal: 661ms\tremaining: 661ms\n",
      "50:\tlearn: 4.9552042\ttotal: 672ms\tremaining: 646ms\n",
      "51:\tlearn: 4.8220185\ttotal: 683ms\tremaining: 631ms\n",
      "52:\tlearn: 4.7528730\ttotal: 695ms\tremaining: 616ms\n",
      "53:\tlearn: 4.6336674\ttotal: 707ms\tremaining: 603ms\n",
      "54:\tlearn: 4.5712224\ttotal: 719ms\tremaining: 588ms\n",
      "55:\tlearn: 4.5648251\ttotal: 731ms\tremaining: 574ms\n",
      "56:\tlearn: 4.4509705\ttotal: 743ms\tremaining: 560ms\n",
      "57:\tlearn: 4.3970812\ttotal: 755ms\tremaining: 547ms\n",
      "58:\tlearn: 4.2983858\ttotal: 770ms\tremaining: 535ms\n",
      "59:\tlearn: 4.1782974\ttotal: 782ms\tremaining: 521ms\n",
      "60:\tlearn: 4.0454343\ttotal: 793ms\tremaining: 507ms\n",
      "61:\tlearn: 3.9721729\ttotal: 805ms\tremaining: 493ms\n",
      "62:\tlearn: 3.8501033\ttotal: 817ms\tremaining: 480ms\n",
      "63:\tlearn: 3.7800071\ttotal: 829ms\tremaining: 466ms\n",
      "64:\tlearn: 3.6781954\ttotal: 840ms\tremaining: 452ms\n",
      "65:\tlearn: 3.5735744\ttotal: 852ms\tremaining: 439ms\n",
      "66:\tlearn: 3.5044250\ttotal: 864ms\tremaining: 425ms\n",
      "67:\tlearn: 3.4024748\ttotal: 875ms\tremaining: 412ms\n",
      "68:\tlearn: 3.2807934\ttotal: 888ms\tremaining: 399ms\n",
      "69:\tlearn: 3.2071563\ttotal: 899ms\tremaining: 385ms\n",
      "70:\tlearn: 3.1377925\ttotal: 911ms\tremaining: 372ms\n",
      "71:\tlearn: 3.0779199\ttotal: 922ms\tremaining: 359ms\n",
      "72:\tlearn: 3.0348659\ttotal: 934ms\tremaining: 346ms\n",
      "73:\tlearn: 2.9836709\ttotal: 946ms\tremaining: 332ms\n",
      "74:\tlearn: 2.9171099\ttotal: 957ms\tremaining: 319ms\n",
      "75:\tlearn: 2.8837636\ttotal: 968ms\tremaining: 306ms\n",
      "76:\tlearn: 2.8221161\ttotal: 980ms\tremaining: 293ms\n",
      "77:\tlearn: 2.7051706\ttotal: 992ms\tremaining: 280ms\n",
      "78:\tlearn: 2.6233460\ttotal: 1s\tremaining: 267ms\n",
      "79:\tlearn: 2.5936694\ttotal: 1.01s\tremaining: 254ms\n",
      "80:\tlearn: 2.5925723\ttotal: 1.03s\tremaining: 241ms\n",
      "81:\tlearn: 2.5370820\ttotal: 1.04s\tremaining: 228ms\n",
      "82:\tlearn: 2.4811065\ttotal: 1.05s\tremaining: 215ms\n",
      "83:\tlearn: 2.4237246\ttotal: 1.06s\tremaining: 202ms\n",
      "84:\tlearn: 2.3781861\ttotal: 1.07s\tremaining: 190ms\n",
      "85:\tlearn: 2.3279918\ttotal: 1.08s\tremaining: 177ms\n",
      "86:\tlearn: 2.3037726\ttotal: 1.1s\tremaining: 164ms\n",
      "87:\tlearn: 2.2775561\ttotal: 1.11s\tremaining: 151ms\n",
      "88:\tlearn: 2.2065631\ttotal: 1.13s\tremaining: 139ms\n",
      "89:\tlearn: 2.1305455\ttotal: 1.14s\tremaining: 127ms\n",
      "90:\tlearn: 2.0195410\ttotal: 1.15s\tremaining: 114ms\n",
      "91:\tlearn: 1.9467043\ttotal: 1.17s\tremaining: 101ms\n",
      "92:\tlearn: 1.8813410\ttotal: 1.18s\tremaining: 88.6ms\n",
      "93:\tlearn: 1.8504274\ttotal: 1.19s\tremaining: 75.9ms\n",
      "94:\tlearn: 1.8496034\ttotal: 1.2s\tremaining: 63.2ms\n",
      "95:\tlearn: 1.8221077\ttotal: 1.21s\tremaining: 50.6ms\n",
      "96:\tlearn: 1.7287527\ttotal: 1.23s\tremaining: 37.9ms\n",
      "97:\tlearn: 1.6699872\ttotal: 1.24s\tremaining: 25.3ms\n",
      "98:\tlearn: 1.6275498\ttotal: 1.25s\tremaining: 12.6ms\n",
      "99:\tlearn: 1.6246209\ttotal: 1.26s\tremaining: 0us\n",
      "0:\tlearn: 37.8842221\ttotal: 1.48ms\tremaining: 147ms\n",
      "1:\tlearn: 37.0936829\ttotal: 2.94ms\tremaining: 144ms\n",
      "2:\tlearn: 36.2961461\ttotal: 4.3ms\tremaining: 139ms\n",
      "3:\tlearn: 35.5859894\ttotal: 5.63ms\tremaining: 135ms\n",
      "4:\tlearn: 34.9214944\ttotal: 6.96ms\tremaining: 132ms\n",
      "5:\tlearn: 34.3509687\ttotal: 8.37ms\tremaining: 131ms\n",
      "6:\tlearn: 33.7233858\ttotal: 9.76ms\tremaining: 130ms\n",
      "7:\tlearn: 33.0887630\ttotal: 11.1ms\tremaining: 128ms\n",
      "8:\tlearn: 32.5608960\ttotal: 12.5ms\tremaining: 126ms\n",
      "9:\tlearn: 32.1424013\ttotal: 13.7ms\tremaining: 123ms\n",
      "10:\tlearn: 31.7617782\ttotal: 15ms\tremaining: 121ms\n",
      "11:\tlearn: 31.3076266\ttotal: 16.3ms\tremaining: 120ms\n",
      "12:\tlearn: 30.9524421\ttotal: 17.7ms\tremaining: 119ms\n",
      "13:\tlearn: 30.5846397\ttotal: 18.9ms\tremaining: 116ms\n",
      "14:\tlearn: 30.2559356\ttotal: 20.2ms\tremaining: 115ms\n",
      "15:\tlearn: 29.9937683\ttotal: 21.5ms\tremaining: 113ms\n",
      "16:\tlearn: 29.6237066\ttotal: 22.7ms\tremaining: 111ms\n",
      "17:\tlearn: 29.3123609\ttotal: 24ms\tremaining: 110ms\n",
      "18:\tlearn: 29.0455712\ttotal: 25.3ms\tremaining: 108ms\n",
      "19:\tlearn: 28.8088163\ttotal: 26.6ms\tremaining: 106ms\n",
      "20:\tlearn: 28.5783378\ttotal: 28ms\tremaining: 105ms\n",
      "21:\tlearn: 28.4058005\ttotal: 29.4ms\tremaining: 104ms\n",
      "22:\tlearn: 28.2012282\ttotal: 30.7ms\tremaining: 103ms\n",
      "23:\tlearn: 27.9971012\ttotal: 31.9ms\tremaining: 101ms\n",
      "24:\tlearn: 27.8249431\ttotal: 33.3ms\tremaining: 99.8ms\n",
      "25:\tlearn: 27.6249267\ttotal: 34.5ms\tremaining: 98.3ms\n",
      "26:\tlearn: 27.4666083\ttotal: 35.9ms\tremaining: 97ms\n",
      "27:\tlearn: 27.3031994\ttotal: 37.2ms\tremaining: 95.6ms\n",
      "28:\tlearn: 27.1238864\ttotal: 38.5ms\tremaining: 94.2ms\n",
      "29:\tlearn: 26.9569907\ttotal: 39.7ms\tremaining: 92.7ms\n",
      "30:\tlearn: 26.7918841\ttotal: 40.9ms\tremaining: 91.1ms\n",
      "31:\tlearn: 26.6818541\ttotal: 42.2ms\tremaining: 89.7ms\n",
      "32:\tlearn: 26.5496086\ttotal: 43.5ms\tremaining: 88.2ms\n",
      "33:\tlearn: 26.3741505\ttotal: 44.7ms\tremaining: 86.8ms\n",
      "34:\tlearn: 26.2285348\ttotal: 46ms\tremaining: 85.4ms\n",
      "35:\tlearn: 26.1267572\ttotal: 47.2ms\tremaining: 83.9ms\n",
      "36:\tlearn: 26.0529940\ttotal: 48.5ms\tremaining: 82.6ms\n",
      "37:\tlearn: 25.9439065\ttotal: 49.9ms\tremaining: 81.4ms\n",
      "38:\tlearn: 25.8315848\ttotal: 51.1ms\tremaining: 79.9ms\n",
      "39:\tlearn: 25.7487753\ttotal: 52.4ms\tremaining: 78.6ms\n",
      "40:\tlearn: 25.6462144\ttotal: 53.7ms\tremaining: 77.2ms\n",
      "41:\tlearn: 25.5184561\ttotal: 54.9ms\tremaining: 75.8ms\n",
      "42:\tlearn: 25.4557942\ttotal: 56.2ms\tremaining: 74.5ms\n",
      "43:\tlearn: 25.3540016\ttotal: 57.5ms\tremaining: 73.1ms\n",
      "44:\tlearn: 25.2947031\ttotal: 58.8ms\tremaining: 71.9ms\n",
      "45:\tlearn: 25.2270261\ttotal: 60ms\tremaining: 70.5ms\n",
      "46:\tlearn: 25.2153604\ttotal: 61.2ms\tremaining: 69ms\n",
      "47:\tlearn: 25.1942665\ttotal: 62.5ms\tremaining: 67.7ms\n",
      "48:\tlearn: 25.0945781\ttotal: 63.8ms\tremaining: 66.4ms\n",
      "49:\tlearn: 25.0565863\ttotal: 65ms\tremaining: 65ms\n",
      "50:\tlearn: 25.0103921\ttotal: 66.3ms\tremaining: 63.7ms\n",
      "51:\tlearn: 25.0007929\ttotal: 67.6ms\tremaining: 62.4ms\n",
      "52:\tlearn: 24.9811646\ttotal: 68.9ms\tremaining: 61.1ms\n",
      "53:\tlearn: 24.9513626\ttotal: 70.3ms\tremaining: 59.9ms\n",
      "54:\tlearn: 24.8975889\ttotal: 71.6ms\tremaining: 58.6ms\n",
      "55:\tlearn: 24.8778450\ttotal: 72.9ms\tremaining: 57.2ms\n",
      "56:\tlearn: 24.8375784\ttotal: 74.2ms\tremaining: 55.9ms\n",
      "57:\tlearn: 24.7943605\ttotal: 75.5ms\tremaining: 54.7ms\n",
      "58:\tlearn: 24.6874858\ttotal: 76.8ms\tremaining: 53.4ms\n",
      "59:\tlearn: 24.6250072\ttotal: 78.2ms\tremaining: 52.1ms\n",
      "60:\tlearn: 24.5311876\ttotal: 79.4ms\tremaining: 50.8ms\n",
      "61:\tlearn: 24.5097358\ttotal: 80.6ms\tremaining: 49.4ms\n",
      "62:\tlearn: 24.5029870\ttotal: 81.7ms\tremaining: 48ms\n",
      "63:\tlearn: 24.4811020\ttotal: 83ms\tremaining: 46.7ms\n",
      "64:\tlearn: 24.4209212\ttotal: 84.3ms\tremaining: 45.4ms\n",
      "65:\tlearn: 24.3754115\ttotal: 85.9ms\tremaining: 44.2ms\n",
      "66:\tlearn: 24.3560127\ttotal: 87.2ms\tremaining: 42.9ms\n",
      "67:\tlearn: 24.3134457\ttotal: 88.5ms\tremaining: 41.6ms\n",
      "68:\tlearn: 24.2873100\ttotal: 89.8ms\tremaining: 40.3ms\n",
      "69:\tlearn: 24.2282381\ttotal: 91.1ms\tremaining: 39ms\n",
      "70:\tlearn: 24.1540357\ttotal: 92.3ms\tremaining: 37.7ms\n",
      "71:\tlearn: 24.1124869\ttotal: 93.7ms\tremaining: 36.4ms\n",
      "72:\tlearn: 24.0500393\ttotal: 95ms\tremaining: 35.1ms\n",
      "73:\tlearn: 24.0214355\ttotal: 96.3ms\tremaining: 33.8ms\n",
      "74:\tlearn: 23.9615533\ttotal: 97.6ms\tremaining: 32.5ms\n",
      "75:\tlearn: 23.8710638\ttotal: 98.9ms\tremaining: 31.2ms\n",
      "76:\tlearn: 23.8643076\ttotal: 100ms\tremaining: 29.9ms\n",
      "77:\tlearn: 23.8327258\ttotal: 101ms\tremaining: 28.6ms\n",
      "78:\tlearn: 23.8127651\ttotal: 103ms\tremaining: 27.3ms\n",
      "79:\tlearn: 23.7559483\ttotal: 104ms\tremaining: 26ms\n",
      "80:\tlearn: 23.7244187\ttotal: 105ms\tremaining: 24.7ms\n",
      "81:\tlearn: 23.7069849\ttotal: 107ms\tremaining: 23.4ms\n",
      "82:\tlearn: 23.6654526\ttotal: 108ms\tremaining: 22.1ms\n",
      "83:\tlearn: 23.5988452\ttotal: 109ms\tremaining: 20.8ms\n",
      "84:\tlearn: 23.5928724\ttotal: 110ms\tremaining: 19.4ms\n",
      "85:\tlearn: 23.5797976\ttotal: 111ms\tremaining: 18.1ms\n",
      "86:\tlearn: 23.5719987\ttotal: 112ms\tremaining: 16.8ms\n",
      "87:\tlearn: 23.5502425\ttotal: 114ms\tremaining: 15.5ms\n",
      "88:\tlearn: 23.5235822\ttotal: 115ms\tremaining: 14.2ms\n",
      "89:\tlearn: 23.5180846\ttotal: 116ms\tremaining: 12.9ms\n",
      "90:\tlearn: 23.4831483\ttotal: 117ms\tremaining: 11.6ms\n",
      "91:\tlearn: 23.4432364\ttotal: 118ms\tremaining: 10.3ms\n",
      "92:\tlearn: 23.4188268\ttotal: 120ms\tremaining: 9.01ms\n",
      "93:\tlearn: 23.3909811\ttotal: 121ms\tremaining: 7.71ms\n",
      "94:\tlearn: 23.3858983\ttotal: 122ms\tremaining: 6.41ms\n",
      "95:\tlearn: 23.3226127\ttotal: 123ms\tremaining: 5.12ms\n",
      "96:\tlearn: 23.3070477\ttotal: 124ms\tremaining: 3.84ms\n",
      "97:\tlearn: 23.2601326\ttotal: 126ms\tremaining: 2.57ms\n",
      "98:\tlearn: 23.2552847\ttotal: 128ms\tremaining: 1.29ms\n",
      "99:\tlearn: 23.2168550\ttotal: 130ms\tremaining: 0us\n"
     ]
    },
    {
     "data": {
      "text/plain": [
       "GridSearchCV(cv=TimeSeriesSplit(gap=0, max_train_size=None, n_splits=5, test_size=None),\n",
       "             estimator=<catboost.core.CatBoostRegressor object at 0x7fd3cbd67370>,\n",
       "             param_grid={'depth': [5, 10], 'learning_rate': [0.05, 1]},\n",
       "             scoring='neg_mean_squared_error')"
      ]
     },
     "execution_count": 93,
     "metadata": {},
     "output_type": "execute_result"
    }
   ],
   "source": [
    "params_cat = {'learning_rate': [0.05, 1],\n",
    "              'depth': [5, 10]\n",
    "              }\n",
    "\n",
    "model_catboost = CatBoostRegressor(iterations=100,\n",
    "                                   loss_function='RMSE',\n",
    "                                   random_state=RANDOM_STATE)\n",
    "\n",
    "gscb = GridSearchCV(model_catboost, \n",
    "                    params_cat, \n",
    "                    cv=tscv,\n",
    "                    scoring='neg_mean_squared_error')\n",
    "\n",
    "gscb.fit(X_train, y_train)"
   ]
  },
  {
   "cell_type": "code",
   "execution_count": 94,
   "metadata": {},
   "outputs": [
    {
     "name": "stdout",
     "output_type": "stream",
     "text": [
      "{'depth': 5, 'learning_rate': 0.05}\n"
     ]
    }
   ],
   "source": [
    "print(gscb.best_params_)"
   ]
  },
  {
   "cell_type": "code",
   "execution_count": 95,
   "metadata": {
    "scrolled": true
   },
   "outputs": [
    {
     "name": "stdout",
     "output_type": "stream",
     "text": [
      "0:\tlearn: 37.8842221\ttotal: 1.57ms\tremaining: 156ms\n",
      "1:\tlearn: 37.0936829\ttotal: 3.08ms\tremaining: 151ms\n",
      "2:\tlearn: 36.2961461\ttotal: 4.33ms\tremaining: 140ms\n",
      "3:\tlearn: 35.5859894\ttotal: 5.75ms\tremaining: 138ms\n",
      "4:\tlearn: 34.9214944\ttotal: 7.04ms\tremaining: 134ms\n",
      "5:\tlearn: 34.3509687\ttotal: 8.27ms\tremaining: 130ms\n",
      "6:\tlearn: 33.7233858\ttotal: 9.5ms\tremaining: 126ms\n",
      "7:\tlearn: 33.0887630\ttotal: 10.7ms\tremaining: 123ms\n",
      "8:\tlearn: 32.5608960\ttotal: 11.9ms\tremaining: 121ms\n",
      "9:\tlearn: 32.1424013\ttotal: 13.2ms\tremaining: 119ms\n",
      "10:\tlearn: 31.7617782\ttotal: 14.5ms\tremaining: 118ms\n",
      "11:\tlearn: 31.3076266\ttotal: 15.8ms\tremaining: 116ms\n",
      "12:\tlearn: 30.9524421\ttotal: 17.1ms\tremaining: 114ms\n",
      "13:\tlearn: 30.5846397\ttotal: 18.4ms\tremaining: 113ms\n",
      "14:\tlearn: 30.2559356\ttotal: 19.5ms\tremaining: 111ms\n",
      "15:\tlearn: 29.9937683\ttotal: 20.8ms\tremaining: 109ms\n",
      "16:\tlearn: 29.6237066\ttotal: 22.2ms\tremaining: 108ms\n",
      "17:\tlearn: 29.3123609\ttotal: 23.5ms\tremaining: 107ms\n",
      "18:\tlearn: 29.0455712\ttotal: 24.9ms\tremaining: 106ms\n",
      "19:\tlearn: 28.8088163\ttotal: 26.1ms\tremaining: 104ms\n",
      "20:\tlearn: 28.5783378\ttotal: 27.4ms\tremaining: 103ms\n",
      "21:\tlearn: 28.4058005\ttotal: 28.8ms\tremaining: 102ms\n",
      "22:\tlearn: 28.2012282\ttotal: 30.1ms\tremaining: 101ms\n",
      "23:\tlearn: 27.9971012\ttotal: 31.5ms\tremaining: 99.8ms\n",
      "24:\tlearn: 27.8249431\ttotal: 32.7ms\tremaining: 98ms\n",
      "25:\tlearn: 27.6249267\ttotal: 34ms\tremaining: 96.8ms\n",
      "26:\tlearn: 27.4666083\ttotal: 35.3ms\tremaining: 95.4ms\n",
      "27:\tlearn: 27.3031994\ttotal: 36.7ms\tremaining: 94.3ms\n",
      "28:\tlearn: 27.1238864\ttotal: 38ms\tremaining: 93.1ms\n",
      "29:\tlearn: 26.9569907\ttotal: 39.3ms\tremaining: 91.7ms\n",
      "30:\tlearn: 26.7918841\ttotal: 40.5ms\tremaining: 90.1ms\n",
      "31:\tlearn: 26.6818541\ttotal: 41.7ms\tremaining: 88.6ms\n",
      "32:\tlearn: 26.5496086\ttotal: 43ms\tremaining: 87.3ms\n",
      "33:\tlearn: 26.3741505\ttotal: 44.4ms\tremaining: 86.1ms\n",
      "34:\tlearn: 26.2285348\ttotal: 45.7ms\tremaining: 84.9ms\n",
      "35:\tlearn: 26.1267572\ttotal: 47ms\tremaining: 83.5ms\n",
      "36:\tlearn: 26.0529940\ttotal: 48.3ms\tremaining: 82.2ms\n",
      "37:\tlearn: 25.9439065\ttotal: 49.5ms\tremaining: 80.8ms\n",
      "38:\tlearn: 25.8315848\ttotal: 50.9ms\tremaining: 79.6ms\n",
      "39:\tlearn: 25.7487753\ttotal: 52.3ms\tremaining: 78.4ms\n",
      "40:\tlearn: 25.6462144\ttotal: 53.6ms\tremaining: 77.1ms\n",
      "41:\tlearn: 25.5184561\ttotal: 54.9ms\tremaining: 75.8ms\n",
      "42:\tlearn: 25.4557942\ttotal: 56.3ms\tremaining: 74.6ms\n",
      "43:\tlearn: 25.3540016\ttotal: 57.6ms\tremaining: 73.4ms\n",
      "44:\tlearn: 25.2947031\ttotal: 58.9ms\tremaining: 72ms\n",
      "45:\tlearn: 25.2270261\ttotal: 60.3ms\tremaining: 70.8ms\n",
      "46:\tlearn: 25.2153604\ttotal: 61.5ms\tremaining: 69.4ms\n",
      "47:\tlearn: 25.1942665\ttotal: 62.9ms\tremaining: 68.1ms\n",
      "48:\tlearn: 25.0945781\ttotal: 64.3ms\tremaining: 66.9ms\n",
      "49:\tlearn: 25.0565863\ttotal: 65.5ms\tremaining: 65.5ms\n",
      "50:\tlearn: 25.0103921\ttotal: 66.8ms\tremaining: 64.2ms\n",
      "51:\tlearn: 25.0007929\ttotal: 68.1ms\tremaining: 62.9ms\n",
      "52:\tlearn: 24.9811646\ttotal: 69.4ms\tremaining: 61.5ms\n",
      "53:\tlearn: 24.9513626\ttotal: 70.7ms\tremaining: 60.2ms\n",
      "54:\tlearn: 24.8975889\ttotal: 72.2ms\tremaining: 59ms\n",
      "55:\tlearn: 24.8778450\ttotal: 73.4ms\tremaining: 57.7ms\n",
      "56:\tlearn: 24.8375784\ttotal: 74.8ms\tremaining: 56.4ms\n",
      "57:\tlearn: 24.7943605\ttotal: 76.1ms\tremaining: 55.1ms\n",
      "58:\tlearn: 24.6874858\ttotal: 77.4ms\tremaining: 53.8ms\n",
      "59:\tlearn: 24.6250072\ttotal: 78.7ms\tremaining: 52.5ms\n",
      "60:\tlearn: 24.5311876\ttotal: 80.1ms\tremaining: 51.2ms\n",
      "61:\tlearn: 24.5097358\ttotal: 81.4ms\tremaining: 49.9ms\n",
      "62:\tlearn: 24.5029870\ttotal: 82.7ms\tremaining: 48.6ms\n",
      "63:\tlearn: 24.4811020\ttotal: 83.9ms\tremaining: 47.2ms\n",
      "64:\tlearn: 24.4209212\ttotal: 85.3ms\tremaining: 45.9ms\n",
      "65:\tlearn: 24.3754115\ttotal: 86.6ms\tremaining: 44.6ms\n",
      "66:\tlearn: 24.3560127\ttotal: 88.1ms\tremaining: 43.4ms\n",
      "67:\tlearn: 24.3134457\ttotal: 89.3ms\tremaining: 42ms\n",
      "68:\tlearn: 24.2873100\ttotal: 90.7ms\tremaining: 40.7ms\n",
      "69:\tlearn: 24.2282381\ttotal: 92ms\tremaining: 39.4ms\n",
      "70:\tlearn: 24.1540357\ttotal: 93.3ms\tremaining: 38.1ms\n",
      "71:\tlearn: 24.1124869\ttotal: 94.5ms\tremaining: 36.8ms\n",
      "72:\tlearn: 24.0500393\ttotal: 95.9ms\tremaining: 35.5ms\n",
      "73:\tlearn: 24.0214355\ttotal: 97.2ms\tremaining: 34.2ms\n",
      "74:\tlearn: 23.9615533\ttotal: 98.7ms\tremaining: 32.9ms\n",
      "75:\tlearn: 23.8710638\ttotal: 100ms\tremaining: 31.6ms\n",
      "76:\tlearn: 23.8643076\ttotal: 101ms\tremaining: 30.2ms\n",
      "77:\tlearn: 23.8327258\ttotal: 103ms\tremaining: 28.9ms\n",
      "78:\tlearn: 23.8127651\ttotal: 104ms\tremaining: 27.6ms\n",
      "79:\tlearn: 23.7559483\ttotal: 105ms\tremaining: 26.4ms\n",
      "80:\tlearn: 23.7244187\ttotal: 107ms\tremaining: 25.1ms\n",
      "81:\tlearn: 23.7069849\ttotal: 108ms\tremaining: 23.7ms\n",
      "82:\tlearn: 23.6654526\ttotal: 109ms\tremaining: 22.4ms\n",
      "83:\tlearn: 23.5988452\ttotal: 111ms\tremaining: 21.1ms\n",
      "84:\tlearn: 23.5928724\ttotal: 112ms\tremaining: 19.7ms\n",
      "85:\tlearn: 23.5797976\ttotal: 113ms\tremaining: 18.4ms\n",
      "86:\tlearn: 23.5719987\ttotal: 114ms\tremaining: 17.1ms\n",
      "87:\tlearn: 23.5502425\ttotal: 115ms\tremaining: 15.7ms\n",
      "88:\tlearn: 23.5235822\ttotal: 117ms\tremaining: 14.4ms\n",
      "89:\tlearn: 23.5180846\ttotal: 118ms\tremaining: 13.1ms\n",
      "90:\tlearn: 23.4831483\ttotal: 119ms\tremaining: 11.8ms\n",
      "91:\tlearn: 23.4432364\ttotal: 121ms\tremaining: 10.5ms\n",
      "92:\tlearn: 23.4188268\ttotal: 122ms\tremaining: 9.16ms\n",
      "93:\tlearn: 23.3909811\ttotal: 123ms\tremaining: 7.85ms\n",
      "94:\tlearn: 23.3858983\ttotal: 124ms\tremaining: 6.52ms\n",
      "95:\tlearn: 23.3226127\ttotal: 125ms\tremaining: 5.22ms\n",
      "96:\tlearn: 23.3070477\ttotal: 127ms\tremaining: 3.91ms\n",
      "97:\tlearn: 23.2601326\ttotal: 128ms\tremaining: 2.61ms\n",
      "98:\tlearn: 23.2552847\ttotal: 129ms\tremaining: 1.3ms\n",
      "99:\tlearn: 23.2168550\ttotal: 131ms\tremaining: 0us\n"
     ]
    },
    {
     "data": {
      "text/plain": [
       "<catboost.core.CatBoostRegressor at 0x7fd3cbd6e6d0>"
      ]
     },
     "execution_count": 95,
     "metadata": {},
     "output_type": "execute_result"
    }
   ],
   "source": [
    "model_catboost = CatBoostRegressor(iterations=100,\n",
    "                                   loss_function='RMSE',\n",
    "                                   random_state=RANDOM_STATE,\n",
    "                                   learning_rate = 0.05,\n",
    "                                   depth = 5)\n",
    "\n",
    "model_catboost.fit(train_pool)"
   ]
  },
  {
   "cell_type": "code",
   "execution_count": 96,
   "metadata": {},
   "outputs": [],
   "source": [
    "predictions_catboost = model_catboost.predict(X_train)"
   ]
  },
  {
   "cell_type": "code",
   "execution_count": 97,
   "metadata": {
    "scrolled": false
   },
   "outputs": [
    {
     "name": "stdout",
     "output_type": "stream",
     "text": [
      "RMSE CatBoostRegressor: 23.22\n"
     ]
    }
   ],
   "source": [
    "rmse = mean_squared_error(y_train, predictions_catboost, squared=False)\n",
    "print(\"RMSE CatBoostRegressor: %.2f\" % rmse)\n",
    "rmse_train.append(model_catboost.best_score_)\n",
    "train_models.append([model_catboost, rmse])"
   ]
  },
  {
   "cell_type": "markdown",
   "metadata": {},
   "source": [
    "### LightGBM"
   ]
  },
  {
   "cell_type": "code",
   "execution_count": 102,
   "metadata": {},
   "outputs": [
    {
     "data": {
      "text/plain": [
       "GridSearchCV(cv=TimeSeriesSplit(gap=0, max_train_size=None, n_splits=5, test_size=None),\n",
       "             estimator=LGBMRegressor(force_row_wise=True, metric='rmse',\n",
       "                                     num_iterations=100, num_leaves=25,\n",
       "                                     objective='rmse', verbosity=-1),\n",
       "             param_grid={'learning_rate': [0.05, 1.0],\n",
       "                         'n_estimators': [50, 100]},\n",
       "             scoring='neg_root_mean_squared_error')"
      ]
     },
     "execution_count": 102,
     "metadata": {},
     "output_type": "execute_result"
    }
   ],
   "source": [
    "params_light = {\n",
    "    'n_estimators': [50, 100],\n",
    "    'learning_rate': [0.05, 1.0],\n",
    "                 \n",
    "}\n",
    "model_lgb = lgb.LGBMRegressor(objective='rmse',\n",
    "                              metric='rmse',\n",
    "                              boosting_type='gbdt',\n",
    "                              num_leaves=25,\n",
    "                              num_iterations = 100,\n",
    "                              n_jobs = -1,\n",
    "                              verbosity=-1,\n",
    "                              force_row_wise=True)\n",
    "\n",
    "model_lgb_grid = GridSearchCV(model_lgb,\n",
    "                              params_light,\n",
    "                              scoring='neg_root_mean_squared_error',\n",
    "                              cv=tscv)\n",
    "\n",
    "model_lgb_grid.fit(X_train, y_train)"
   ]
  },
  {
   "cell_type": "code",
   "execution_count": 103,
   "metadata": {
    "scrolled": true
   },
   "outputs": [
    {
     "name": "stdout",
     "output_type": "stream",
     "text": [
      "{'learning_rate': 0.05, 'n_estimators': 50}\n"
     ]
    }
   ],
   "source": [
    "print(model_lgb_grid.best_params_)"
   ]
  },
  {
   "cell_type": "code",
   "execution_count": 104,
   "metadata": {},
   "outputs": [],
   "source": [
    "predictions_lgb = model_lgb_grid.predict(X_train)"
   ]
  },
  {
   "cell_type": "code",
   "execution_count": 105,
   "metadata": {},
   "outputs": [
    {
     "name": "stdout",
     "output_type": "stream",
     "text": [
      "RMSE LightGBM: 18.50\n"
     ]
    }
   ],
   "source": [
    "rmse = mean_squared_error(y_train, predictions_lgb, squared=False)\n",
    "print(\"RMSE LightGBM: %.2f\" % rmse)\n",
    "rmse_train.append(model_lgb_grid.best_score_)\n",
    "train_models.append([model_lgb_grid, rmse])"
   ]
  },
  {
   "cell_type": "markdown",
   "metadata": {},
   "source": [
    "### DecisionTreeRegressor"
   ]
  },
  {
   "cell_type": "code",
   "execution_count": 107,
   "metadata": {},
   "outputs": [
    {
     "data": {
      "text/plain": [
       "GridSearchCV(cv=TimeSeriesSplit(gap=0, max_train_size=None, n_splits=5, test_size=None),\n",
       "             estimator=DecisionTreeRegressor(),\n",
       "             param_grid={'max_depth': [None, 1, 2, 3, 4, 5, 6, 7, 8],\n",
       "                         'min_samples_leaf': [1, 2, 3, 4, 5],\n",
       "                         'min_samples_split': [2, 3, 4, 5]},\n",
       "             scoring='neg_mean_squared_error')"
      ]
     },
     "execution_count": 107,
     "metadata": {},
     "output_type": "execute_result"
    }
   ],
   "source": [
    "params_dtr = {'max_depth' : [None]+[i for i in range(1, 9)],\n",
    "          'min_samples_leaf' : [1, 2, 3, 4, 5],\n",
    "          'min_samples_split' : [2, 3, 4, 5]}\n",
    "\n",
    "model_dtr = DecisionTreeRegressor()\n",
    "\n",
    "model_dtr_grid = GridSearchCV(model_dtr, \n",
    "                              params_dtr, \n",
    "                              cv=tscv, \n",
    "                              scoring='neg_mean_squared_error')\n",
    "model_dtr_grid.fit(X_train, y_train)"
   ]
  },
  {
   "cell_type": "code",
   "execution_count": 108,
   "metadata": {
    "scrolled": true
   },
   "outputs": [
    {
     "name": "stdout",
     "output_type": "stream",
     "text": [
      "{'max_depth': 8, 'min_samples_leaf': 4, 'min_samples_split': 5}\n"
     ]
    }
   ],
   "source": [
    "print(model_dtr_grid.best_params_)"
   ]
  },
  {
   "cell_type": "code",
   "execution_count": 109,
   "metadata": {},
   "outputs": [],
   "source": [
    "predictions_dtr = model_dtr_grid.predict(X_train)"
   ]
  },
  {
   "cell_type": "code",
   "execution_count": 110,
   "metadata": {},
   "outputs": [
    {
     "name": "stdout",
     "output_type": "stream",
     "text": [
      "RMSE DecisionTreeRegressor: 20.87\n"
     ]
    }
   ],
   "source": [
    "rmse = mean_squared_error(y_train, predictions_dtr, squared=False)\n",
    "print(\"RMSE DecisionTreeRegressor: %.2f\" % rmse)\n",
    "train_models.append([model_dtr_grid, rmse])\n",
    "rmse_train.append(model_dtr_grid.best_score_)"
   ]
  },
  {
   "cell_type": "markdown",
   "metadata": {},
   "source": [
    "## Тестирование"
   ]
  },
  {
   "cell_type": "markdown",
   "metadata": {},
   "source": [
    " На основе проведенных моделирований составим таблицу качества моделей по метрике RMSE."
   ]
  },
  {
   "cell_type": "code",
   "execution_count": null,
   "metadata": {},
   "outputs": [],
   "source": [
    "train_model_"
   ]
  },
  {
   "cell_type": "code",
   "execution_count": 111,
   "metadata": {
    "scrolled": true
   },
   "outputs": [
    {
     "data": {
      "text/html": [
       "<div>\n",
       "<style scoped>\n",
       "    .dataframe tbody tr th:only-of-type {\n",
       "        vertical-align: middle;\n",
       "    }\n",
       "\n",
       "    .dataframe tbody tr th {\n",
       "        vertical-align: top;\n",
       "    }\n",
       "\n",
       "    .dataframe thead th {\n",
       "        text-align: right;\n",
       "    }\n",
       "</style>\n",
       "<table border=\"1\" class=\"dataframe\">\n",
       "  <thead>\n",
       "    <tr style=\"text-align: right;\">\n",
       "      <th></th>\n",
       "      <th>Model</th>\n",
       "      <th>Подобранные гиперпараметры</th>\n",
       "      <th>RMSE_Train</th>\n",
       "    </tr>\n",
       "  </thead>\n",
       "  <tbody>\n",
       "    <tr>\n",
       "      <th>0</th>\n",
       "      <td>Linear Regression</td>\n",
       "      <td>-</td>\n",
       "      <td>30.494235</td>\n",
       "    </tr>\n",
       "    <tr>\n",
       "      <th>1</th>\n",
       "      <td>CatBoostRegressor</td>\n",
       "      <td>{'depth': 5, 'learning_rate': 0.05}</td>\n",
       "      <td>{'learn': {'RMSE': 23.21685500518768}}</td>\n",
       "    </tr>\n",
       "    <tr>\n",
       "      <th>2</th>\n",
       "      <td>LightGBM</td>\n",
       "      <td>{'learning_rate': 0.05, 'n_estimators': 50}</td>\n",
       "      <td>-25.279874</td>\n",
       "    </tr>\n",
       "    <tr>\n",
       "      <th>3</th>\n",
       "      <td>DecisionTreeRegressor</td>\n",
       "      <td>{'max_depth': 8, 'min_samples_leaf': 4, 'min_s...</td>\n",
       "      <td>-838.936826</td>\n",
       "    </tr>\n",
       "  </tbody>\n",
       "</table>\n",
       "</div>"
      ],
      "text/plain": [
       "                   Model                         Подобранные гиперпараметры  \\\n",
       "0      Linear Regression                                                  -   \n",
       "1      CatBoostRegressor                {'depth': 5, 'learning_rate': 0.05}   \n",
       "2               LightGBM        {'learning_rate': 0.05, 'n_estimators': 50}   \n",
       "3  DecisionTreeRegressor  {'max_depth': 8, 'min_samples_leaf': 4, 'min_s...   \n",
       "\n",
       "                               RMSE_Train  \n",
       "0                               30.494235  \n",
       "1  {'learn': {'RMSE': 23.21685500518768}}  \n",
       "2                              -25.279874  \n",
       "3                             -838.936826  "
      ]
     },
     "execution_count": 111,
     "metadata": {},
     "output_type": "execute_result"
    }
   ],
   "source": [
    "results = pd.DataFrame({'Model': ['Linear Regression', 'CatBoostRegressor', 'LightGBM', 'DecisionTreeRegressor'],\n",
    "                        'Подобранные гиперпараметры': ['-',gscb.best_params_, model_lgb_grid.best_params_, model_dtr_grid.best_params_],\n",
    "                        'RMSE_Train': rmse_train})\n",
    "\n",
    "# Вывод результатов\n",
    "results"
   ]
  },
  {
   "cell_type": "code",
   "execution_count": null,
   "metadata": {},
   "outputs": [],
   "source": [
    "results = pd.DataFrame({'Model': ['Linear Regression', 'CatBoostRegressor', 'LightGBM', 'DecisionTreeRegressor'],\n",
    "                        'Подобранные гиперпараметры': ['-',gscb.best_params_, model_lgb_grid.best_params_, model_dtr_grid.best_params_],\n",
    "                        'RMSE_Train': rmse_train,\n",
    "                        'RMSE_Test': test_models})\n",
    "\n",
    "# Вывод результатов\n",
    "results"
   ]
  },
  {
   "cell_type": "markdown",
   "metadata": {},
   "source": [
    "Протестируем обученные модели на тестовых данных и добавим их RMSE в датафрейм с результатами, а также построим графики исходного и предсказанных рядов для каждой модели"
   ]
  },
  {
   "cell_type": "code",
   "execution_count": 1,
   "metadata": {
    "scrolled": true
   },
   "outputs": [],
   "source": [
    "rmse = mean_squared_error(y_test, predictions_lgb, squared=False)\n",
    "display_result(y_test, predictions_lgb, rmse, )"
   ]
  },
  {
   "cell_type": "markdown",
   "metadata": {},
   "source": [
    "Добавим в таблицу качество моделей по метрике RMSE для тестовой выборке."
   ]
  },
  {
   "cell_type": "code",
   "execution_count": 50,
   "metadata": {
    "scrolled": true
   },
   "outputs": [
    {
     "data": {
      "text/html": [
       "<div>\n",
       "<style scoped>\n",
       "    .dataframe tbody tr th:only-of-type {\n",
       "        vertical-align: middle;\n",
       "    }\n",
       "\n",
       "    .dataframe tbody tr th {\n",
       "        vertical-align: top;\n",
       "    }\n",
       "\n",
       "    .dataframe thead th {\n",
       "        text-align: right;\n",
       "    }\n",
       "</style>\n",
       "<table border=\"1\" class=\"dataframe\">\n",
       "  <thead>\n",
       "    <tr style=\"text-align: right;\">\n",
       "      <th></th>\n",
       "      <th>Model</th>\n",
       "      <th>Подобранные гиперпараметры</th>\n",
       "      <th>RMSE_Train</th>\n",
       "      <th>RMSE_Test</th>\n",
       "    </tr>\n",
       "  </thead>\n",
       "  <tbody>\n",
       "    <tr>\n",
       "      <th>0</th>\n",
       "      <td>Linear Regression</td>\n",
       "      <td>-</td>\n",
       "      <td>30.494235</td>\n",
       "      <td>52.692761</td>\n",
       "    </tr>\n",
       "    <tr>\n",
       "      <th>1</th>\n",
       "      <td>CatBoostRegressor</td>\n",
       "      <td>{'depth': 5, 'learning_rate': 0.05}</td>\n",
       "      <td>23.216855</td>\n",
       "      <td>50.920232</td>\n",
       "    </tr>\n",
       "    <tr>\n",
       "      <th>2</th>\n",
       "      <td>LightGBM</td>\n",
       "      <td>{'learning_rate': 0.05, 'n_estimators': 50}</td>\n",
       "      <td>18.500057</td>\n",
       "      <td>44.851200</td>\n",
       "    </tr>\n",
       "    <tr>\n",
       "      <th>3</th>\n",
       "      <td>DecisionTreeRegressor</td>\n",
       "      <td>{'max_depth': 8, 'min_samples_leaf': 4, 'min_s...</td>\n",
       "      <td>20.873257</td>\n",
       "      <td>51.643281</td>\n",
       "    </tr>\n",
       "  </tbody>\n",
       "</table>\n",
       "</div>"
      ],
      "text/plain": [
       "                   Model                         Подобранные гиперпараметры  \\\n",
       "0      Linear Regression                                                  -   \n",
       "1      CatBoostRegressor                {'depth': 5, 'learning_rate': 0.05}   \n",
       "2               LightGBM        {'learning_rate': 0.05, 'n_estimators': 50}   \n",
       "3  DecisionTreeRegressor  {'max_depth': 8, 'min_samples_leaf': 4, 'min_s...   \n",
       "\n",
       "   RMSE_Train  RMSE_Test  \n",
       "0   30.494235  52.692761  \n",
       "1   23.216855  50.920232  \n",
       "2   18.500057  44.851200  \n",
       "3   20.873257  51.643281  "
      ]
     },
     "execution_count": 50,
     "metadata": {},
     "output_type": "execute_result"
    }
   ],
   "source": [
    " LinearForestRegressor_test_RMSE = mean_squared_error(y_test, LinearRegression_.predict(test_featrues))**0.5\n",
    "print(\"RMSE тестовой выборке: \", LinearForestRegressor_test_RMSE)"
   ]
  },
  {
   "cell_type": "markdown",
   "metadata": {},
   "source": [
    "__Итоговый вывод__:\n",
    "\n",
    "Во всех четырех случаях анализировались временные ряды заказов такси, что позволило выявить ключевые тенденции и сезонные колебания в данных, а также протестировать различные модели машинного обучения для прогнозирования количества заказов.\n",
    "\n",
    "- Обработка и анализ данных:\n",
    "        Данные в большинстве случаев содержали информацию о количестве заказов такси, не имели пропусков и были отсортированы по времени.\n",
    "        Временные ряды показывали плавное изменение тренда с явными сезонными колебаниями и цикличными закономерностями, такими как пики вечером и снижение заказов в воскресенье.\n",
    "\n",
    "- Модели и их эффективность:\n",
    "        Протестированы различные модели: Linear Regression, LightGBM, CatBoost, Decision Tree.\n",
    "        Модели оценивались по метрике RMSE, и наиболее успешные из них различались в зависимости от набора данных.\n",
    "        Наилучшие результаты показали LightGBM RMSE на тестовой выборке = 44,85. Хуже всех у Linear Regression RMSE = 52,69.\n",
    "       \n",
    "- Тренды и закономерности:\n",
    "        Выявлены значительные тренды, такие как увеличение количества заказов с марта по август.\n",
    "        Заказы такси зависят от дня недели и времени суток: минимум в воскресенье и вторник, максимум в понедельник и пятницу, с пиковыми значениями ночью.\n",
    "\n",
    "- Рекомендации и улучшения:\n",
    "        Для улучшения моделей рекомендуется дальнейшая оптимизация гиперпараметров, применение дополнительных факторов для учета сезонности и трендов.\n",
    "        Визуализация результатов предсказания может помочь в корректировке моделей, например, путем введения повышающего коэффициента для недооцениваемых значений.\n",
    "\n",
    "Таким образом, проведенный анализ и моделирование позволили создать достаточно точные модели для прогнозирования количества заказов такси, что может быть полезно для оптимизации работы служб такси в аэропортах."
   ]
  },
  {
   "cell_type": "markdown",
   "metadata": {},
   "source": [
    "## Чек-лист проверки"
   ]
  },
  {
   "cell_type": "markdown",
   "metadata": {},
   "source": [
    "- [x]  Jupyter Notebook открыт\n",
    "- [x]  Весь код выполняется без ошибок\n",
    "- [x]  Ячейки с кодом расположены в порядке исполнения\n",
    "- [x]  Данные загружены и подготовлены\n",
    "- [x]  Данные проанализированы\n",
    "- [x]  Модель обучена, гиперпараметры подобраны\n",
    "- [x]  Качество моделей проверено, выводы сделаны\n",
    "- [x]  Значение *RMSE* на тестовой выборке не больше 48"
   ]
  },
  {
   "cell_type": "code",
   "execution_count": null,
   "metadata": {},
   "outputs": [],
   "source": [
    "print(\"Текст для проверки кода\")"
   ]
  }
 ],
 "metadata": {
  "ExecuteTimeLog": [
   {
    "duration": 49,
    "start_time": "2024-08-04T17:46:10.151Z"
   },
   {
    "duration": 1651,
    "start_time": "2024-08-04T17:46:11.305Z"
   },
   {
    "duration": 0,
    "start_time": "2024-08-04T17:46:12.958Z"
   },
   {
    "duration": 77,
    "start_time": "2024-08-04T17:46:52.199Z"
   },
   {
    "duration": 122,
    "start_time": "2024-08-04T17:46:53.855Z"
   },
   {
    "duration": 4,
    "start_time": "2024-08-04T17:50:14.191Z"
   },
   {
    "duration": 4,
    "start_time": "2024-08-04T17:50:14.380Z"
   },
   {
    "duration": 4,
    "start_time": "2024-08-04T17:50:14.558Z"
   },
   {
    "duration": 3,
    "start_time": "2024-08-04T17:50:14.777Z"
   },
   {
    "duration": 71,
    "start_time": "2024-08-04T17:50:15.315Z"
   },
   {
    "duration": 26,
    "start_time": "2024-08-04T17:50:15.541Z"
   },
   {
    "duration": 82,
    "start_time": "2024-08-04T17:50:26.488Z"
   },
   {
    "duration": 3,
    "start_time": "2024-08-04T17:50:26.809Z"
   },
   {
    "duration": 25,
    "start_time": "2024-08-04T17:50:36.077Z"
   },
   {
    "duration": 6,
    "start_time": "2024-08-04T17:54:17.910Z"
   },
   {
    "duration": 4,
    "start_time": "2024-08-04T17:54:58.789Z"
   },
   {
    "duration": 10,
    "start_time": "2024-08-04T17:55:10.306Z"
   },
   {
    "duration": 7,
    "start_time": "2024-08-04T17:55:15.396Z"
   },
   {
    "duration": 8,
    "start_time": "2024-08-04T17:56:03.651Z"
   },
   {
    "duration": 393,
    "start_time": "2024-08-04T17:57:03.866Z"
   },
   {
    "duration": 11,
    "start_time": "2024-08-04T17:58:07.862Z"
   },
   {
    "duration": 268,
    "start_time": "2024-08-04T17:58:34.807Z"
   },
   {
    "duration": 12,
    "start_time": "2024-08-04T17:59:46.359Z"
   },
   {
    "duration": 140,
    "start_time": "2024-08-04T18:00:10.229Z"
   },
   {
    "duration": 112,
    "start_time": "2024-08-04T18:00:18.298Z"
   },
   {
    "duration": 5,
    "start_time": "2024-08-04T18:01:20.315Z"
   },
   {
    "duration": 17,
    "start_time": "2024-08-04T18:01:28.754Z"
   },
   {
    "duration": 9,
    "start_time": "2024-08-04T18:01:35.610Z"
   },
   {
    "duration": 337,
    "start_time": "2024-08-04T18:01:40.771Z"
   },
   {
    "duration": 313,
    "start_time": "2024-08-04T18:01:46.924Z"
   },
   {
    "duration": 201,
    "start_time": "2024-08-04T18:01:51.901Z"
   },
   {
    "duration": 185,
    "start_time": "2024-08-04T18:01:56.732Z"
   },
   {
    "duration": 407,
    "start_time": "2024-08-04T18:02:04.607Z"
   },
   {
    "duration": 16,
    "start_time": "2024-08-04T18:02:54.243Z"
   },
   {
    "duration": 287,
    "start_time": "2024-08-04T18:03:00.032Z"
   },
   {
    "duration": 200,
    "start_time": "2024-08-04T18:03:25.859Z"
   },
   {
    "duration": 7,
    "start_time": "2024-08-04T18:05:52.240Z"
   },
   {
    "duration": 418,
    "start_time": "2024-08-04T18:06:26.049Z"
   },
   {
    "duration": 393,
    "start_time": "2024-08-04T18:06:34.422Z"
   },
   {
    "duration": 347,
    "start_time": "2024-08-04T18:06:41.360Z"
   },
   {
    "duration": 3,
    "start_time": "2024-08-04T18:06:55.716Z"
   },
   {
    "duration": 25,
    "start_time": "2024-08-04T18:08:23.568Z"
   },
   {
    "duration": 10,
    "start_time": "2024-08-04T18:11:10.027Z"
   },
   {
    "duration": 9,
    "start_time": "2024-08-04T18:11:12.329Z"
   },
   {
    "duration": 37,
    "start_time": "2024-08-04T18:11:15.106Z"
   },
   {
    "duration": 6,
    "start_time": "2024-08-04T18:11:16.742Z"
   },
   {
    "duration": 8,
    "start_time": "2024-08-04T18:11:17.151Z"
   },
   {
    "duration": 86,
    "start_time": "2024-08-04T18:13:38.756Z"
   },
   {
    "duration": 9,
    "start_time": "2024-08-04T18:14:03.002Z"
   },
   {
    "duration": 7,
    "start_time": "2024-08-04T18:14:35.754Z"
   },
   {
    "duration": 9,
    "start_time": "2024-08-04T18:16:22.886Z"
   },
   {
    "duration": 11,
    "start_time": "2024-08-04T18:16:37.822Z"
   },
   {
    "duration": 4,
    "start_time": "2024-08-04T18:16:41.332Z"
   },
   {
    "duration": 8,
    "start_time": "2024-08-04T18:16:47.700Z"
   },
   {
    "duration": 27282,
    "start_time": "2024-08-04T18:17:25.624Z"
   },
   {
    "duration": 3,
    "start_time": "2024-08-04T18:17:52.908Z"
   },
   {
    "duration": 1775,
    "start_time": "2024-08-04T18:19:05.814Z"
   },
   {
    "duration": 3,
    "start_time": "2024-08-04T18:19:12.429Z"
   },
   {
    "duration": 11,
    "start_time": "2024-08-04T18:19:13.027Z"
   },
   {
    "duration": 13,
    "start_time": "2024-08-04T18:20:01.383Z"
   },
   {
    "duration": 6,
    "start_time": "2024-08-04T18:20:47.104Z"
   },
   {
    "duration": 4,
    "start_time": "2024-08-04T18:20:56.457Z"
   },
   {
    "duration": 17535,
    "start_time": "2024-08-04T18:21:55.416Z"
   },
   {
    "duration": 3,
    "start_time": "2024-08-04T18:22:12.952Z"
   },
   {
    "duration": 2598,
    "start_time": "2024-08-04T18:23:28.749Z"
   },
   {
    "duration": 0,
    "start_time": "2024-08-04T18:23:31.348Z"
   },
   {
    "duration": 2617,
    "start_time": "2024-08-04T18:23:53.221Z"
   },
   {
    "duration": 17,
    "start_time": "2024-08-04T18:24:05.709Z"
   },
   {
    "duration": 4,
    "start_time": "2024-08-04T18:24:37.798Z"
   },
   {
    "duration": 52,
    "start_time": "2024-08-04T18:24:39.387Z"
   },
   {
    "duration": 4,
    "start_time": "2024-08-04T18:24:40.257Z"
   },
   {
    "duration": 67,
    "start_time": "2024-08-04T18:24:56.169Z"
   },
   {
    "duration": 4,
    "start_time": "2024-08-04T18:24:56.592Z"
   },
   {
    "duration": 4,
    "start_time": "2024-08-04T18:24:58.572Z"
   },
   {
    "duration": 27085,
    "start_time": "2024-08-04T18:24:58.869Z"
   },
   {
    "duration": 4,
    "start_time": "2024-08-04T18:25:25.955Z"
   },
   {
    "duration": 1832,
    "start_time": "2024-08-04T18:25:25.960Z"
   },
   {
    "duration": 5,
    "start_time": "2024-08-04T18:25:27.794Z"
   },
   {
    "duration": 6,
    "start_time": "2024-08-04T18:25:27.800Z"
   },
   {
    "duration": 17741,
    "start_time": "2024-08-04T18:25:27.808Z"
   },
   {
    "duration": 3,
    "start_time": "2024-08-04T18:25:45.550Z"
   },
   {
    "duration": 3284,
    "start_time": "2024-08-04T18:25:45.554Z"
   },
   {
    "duration": 11,
    "start_time": "2024-08-04T18:25:48.841Z"
   },
   {
    "duration": 7789,
    "start_time": "2024-08-04T18:26:48.158Z"
   },
   {
    "duration": 6,
    "start_time": "2024-08-04T18:26:57.993Z"
   },
   {
    "duration": 11,
    "start_time": "2024-08-04T18:31:19.696Z"
   },
   {
    "duration": 22,
    "start_time": "2024-08-04T18:31:28.999Z"
   },
   {
    "duration": 9882,
    "start_time": "2024-08-04T18:32:07.434Z"
   },
   {
    "duration": 3,
    "start_time": "2024-08-04T18:32:34.207Z"
   },
   {
    "duration": 12,
    "start_time": "2024-08-04T18:34:09.627Z"
   },
   {
    "duration": 10,
    "start_time": "2024-08-04T18:34:14.477Z"
   },
   {
    "duration": 11,
    "start_time": "2024-08-04T18:34:17.332Z"
   },
   {
    "duration": 10,
    "start_time": "2024-08-04T18:34:19.933Z"
   },
   {
    "duration": 20,
    "start_time": "2024-08-04T18:34:26.829Z"
   },
   {
    "duration": 4,
    "start_time": "2024-08-04T18:34:34.190Z"
   },
   {
    "duration": 4,
    "start_time": "2024-08-04T18:34:44.828Z"
   },
   {
    "duration": 5,
    "start_time": "2024-08-04T18:35:09.731Z"
   },
   {
    "duration": 5,
    "start_time": "2024-08-04T18:35:54.066Z"
   },
   {
    "duration": 9919,
    "start_time": "2024-08-04T18:41:25.560Z"
   },
   {
    "duration": 3,
    "start_time": "2024-08-04T18:41:35.481Z"
   },
   {
    "duration": 32,
    "start_time": "2024-08-04T18:41:35.485Z"
   },
   {
    "duration": 4,
    "start_time": "2024-08-04T18:41:35.519Z"
   },
   {
    "duration": 3,
    "start_time": "2024-08-04T18:41:39.108Z"
   },
   {
    "duration": 21,
    "start_time": "2024-08-04T18:41:39.651Z"
   },
   {
    "duration": 4,
    "start_time": "2024-08-04T18:41:40.008Z"
   },
   {
    "duration": 10064,
    "start_time": "2024-08-04T18:41:47.418Z"
   },
   {
    "duration": 3,
    "start_time": "2024-08-04T18:41:57.484Z"
   },
   {
    "duration": 25,
    "start_time": "2024-08-04T18:41:57.488Z"
   },
   {
    "duration": 4,
    "start_time": "2024-08-04T18:42:21.563Z"
   },
   {
    "duration": 11,
    "start_time": "2024-08-04T18:42:36.987Z"
   },
   {
    "duration": 4,
    "start_time": "2024-08-04T18:43:58.547Z"
   },
   {
    "duration": 4,
    "start_time": "2024-08-04T18:47:12.165Z"
   },
   {
    "duration": 9,
    "start_time": "2024-08-04T18:47:18.536Z"
   },
   {
    "duration": 9,
    "start_time": "2024-08-04T18:48:09.985Z"
   },
   {
    "duration": 4,
    "start_time": "2024-08-04T18:49:22.041Z"
   },
   {
    "duration": 42,
    "start_time": "2024-08-04T18:49:55.791Z"
   },
   {
    "duration": 24,
    "start_time": "2024-08-04T18:50:14.137Z"
   },
   {
    "duration": 5,
    "start_time": "2024-08-04T18:50:57.752Z"
   },
   {
    "duration": 184,
    "start_time": "2024-08-04T18:51:01.299Z"
   },
   {
    "duration": 32,
    "start_time": "2024-08-04T18:51:57.554Z"
   },
   {
    "duration": 31,
    "start_time": "2024-08-04T18:52:34.977Z"
   },
   {
    "duration": 4,
    "start_time": "2024-08-04T18:55:54.170Z"
   },
   {
    "duration": 38,
    "start_time": "2024-08-04T18:55:54.756Z"
   },
   {
    "duration": 30,
    "start_time": "2024-08-04T18:56:34.508Z"
   },
   {
    "duration": 6,
    "start_time": "2024-08-04T18:57:05.049Z"
   },
   {
    "duration": 32,
    "start_time": "2024-08-04T18:57:06.999Z"
   },
   {
    "duration": 5,
    "start_time": "2024-08-04T18:57:38.375Z"
   },
   {
    "duration": 10,
    "start_time": "2024-08-04T18:57:45.329Z"
   },
   {
    "duration": 5,
    "start_time": "2024-08-04T18:59:16.784Z"
   },
   {
    "duration": 30,
    "start_time": "2024-08-04T18:59:17.338Z"
   },
   {
    "duration": 4,
    "start_time": "2024-08-04T18:59:35.046Z"
   },
   {
    "duration": 33,
    "start_time": "2024-08-04T18:59:40.755Z"
   },
   {
    "duration": 15,
    "start_time": "2024-08-04T18:59:55.370Z"
   },
   {
    "duration": 31,
    "start_time": "2024-08-04T18:59:55.476Z"
   },
   {
    "duration": 9,
    "start_time": "2024-08-04T19:01:00.477Z"
   },
   {
    "duration": 4,
    "start_time": "2024-08-04T19:01:00.910Z"
   },
   {
    "duration": 9,
    "start_time": "2024-08-04T19:01:31.656Z"
   },
   {
    "duration": 8,
    "start_time": "2024-08-04T19:01:41.473Z"
   },
   {
    "duration": 5,
    "start_time": "2024-08-04T19:01:47.651Z"
   },
   {
    "duration": 34,
    "start_time": "2024-08-04T19:01:48.242Z"
   },
   {
    "duration": 31,
    "start_time": "2024-08-04T19:02:02.019Z"
   },
   {
    "duration": 4,
    "start_time": "2024-08-04T19:03:34.974Z"
   },
   {
    "duration": 46,
    "start_time": "2024-08-04T19:03:38.668Z"
   },
   {
    "duration": 4,
    "start_time": "2024-08-04T19:04:47.716Z"
   },
   {
    "duration": 7,
    "start_time": "2024-08-04T19:08:51.010Z"
   },
   {
    "duration": 3,
    "start_time": "2024-08-04T19:10:03.484Z"
   },
   {
    "duration": 199,
    "start_time": "2024-08-04T19:19:02.665Z"
   },
   {
    "duration": 290,
    "start_time": "2024-08-04T19:19:05.148Z"
   },
   {
    "duration": 1328,
    "start_time": "2024-08-04T19:27:53.966Z"
   },
   {
    "duration": 4,
    "start_time": "2024-08-04T19:27:55.296Z"
   },
   {
    "duration": 93,
    "start_time": "2024-08-04T19:27:55.302Z"
   },
   {
    "duration": 75,
    "start_time": "2024-08-04T19:27:55.398Z"
   },
   {
    "duration": 11,
    "start_time": "2024-08-04T19:27:55.475Z"
   },
   {
    "duration": 7,
    "start_time": "2024-08-04T19:27:55.487Z"
   },
   {
    "duration": 8,
    "start_time": "2024-08-04T19:27:55.495Z"
   },
   {
    "duration": 81,
    "start_time": "2024-08-04T19:27:55.505Z"
   },
   {
    "duration": 2,
    "start_time": "2024-08-04T19:27:55.588Z"
   },
   {
    "duration": 106,
    "start_time": "2024-08-04T19:27:55.591Z"
   },
   {
    "duration": 0,
    "start_time": "2024-08-04T19:27:55.700Z"
   },
   {
    "duration": 0,
    "start_time": "2024-08-04T19:27:55.701Z"
   },
   {
    "duration": 0,
    "start_time": "2024-08-04T19:27:55.702Z"
   },
   {
    "duration": 0,
    "start_time": "2024-08-04T19:27:55.704Z"
   },
   {
    "duration": 0,
    "start_time": "2024-08-04T19:27:55.705Z"
   },
   {
    "duration": 0,
    "start_time": "2024-08-04T19:27:55.706Z"
   },
   {
    "duration": 0,
    "start_time": "2024-08-04T19:27:55.707Z"
   },
   {
    "duration": 0,
    "start_time": "2024-08-04T19:27:55.708Z"
   },
   {
    "duration": 0,
    "start_time": "2024-08-04T19:27:55.709Z"
   },
   {
    "duration": 0,
    "start_time": "2024-08-04T19:27:55.710Z"
   },
   {
    "duration": 0,
    "start_time": "2024-08-04T19:27:55.711Z"
   },
   {
    "duration": 1,
    "start_time": "2024-08-04T19:27:55.711Z"
   },
   {
    "duration": 0,
    "start_time": "2024-08-04T19:27:55.713Z"
   },
   {
    "duration": 0,
    "start_time": "2024-08-04T19:27:55.736Z"
   },
   {
    "duration": 0,
    "start_time": "2024-08-04T19:27:55.738Z"
   },
   {
    "duration": 0,
    "start_time": "2024-08-04T19:27:55.739Z"
   },
   {
    "duration": 0,
    "start_time": "2024-08-04T19:27:55.740Z"
   },
   {
    "duration": 0,
    "start_time": "2024-08-04T19:27:55.741Z"
   },
   {
    "duration": 0,
    "start_time": "2024-08-04T19:27:55.742Z"
   },
   {
    "duration": 0,
    "start_time": "2024-08-04T19:27:55.743Z"
   },
   {
    "duration": 0,
    "start_time": "2024-08-04T19:27:55.745Z"
   },
   {
    "duration": 0,
    "start_time": "2024-08-04T19:27:55.746Z"
   },
   {
    "duration": 0,
    "start_time": "2024-08-04T19:27:55.747Z"
   },
   {
    "duration": 0,
    "start_time": "2024-08-04T19:27:55.748Z"
   },
   {
    "duration": 0,
    "start_time": "2024-08-04T19:27:55.749Z"
   },
   {
    "duration": 0,
    "start_time": "2024-08-04T19:27:55.750Z"
   },
   {
    "duration": 0,
    "start_time": "2024-08-04T19:27:55.751Z"
   },
   {
    "duration": 0,
    "start_time": "2024-08-04T19:27:55.752Z"
   },
   {
    "duration": 0,
    "start_time": "2024-08-04T19:27:55.753Z"
   },
   {
    "duration": 0,
    "start_time": "2024-08-04T19:27:55.754Z"
   },
   {
    "duration": 0,
    "start_time": "2024-08-04T19:27:55.755Z"
   },
   {
    "duration": 0,
    "start_time": "2024-08-04T19:27:55.756Z"
   },
   {
    "duration": 0,
    "start_time": "2024-08-04T19:27:55.757Z"
   },
   {
    "duration": 0,
    "start_time": "2024-08-04T19:27:55.758Z"
   },
   {
    "duration": 0,
    "start_time": "2024-08-04T19:27:55.759Z"
   },
   {
    "duration": 0,
    "start_time": "2024-08-04T19:27:55.760Z"
   },
   {
    "duration": 0,
    "start_time": "2024-08-04T19:27:55.762Z"
   },
   {
    "duration": 0,
    "start_time": "2024-08-04T19:27:55.762Z"
   },
   {
    "duration": 0,
    "start_time": "2024-08-04T19:27:55.763Z"
   },
   {
    "duration": 0,
    "start_time": "2024-08-04T19:27:55.764Z"
   },
   {
    "duration": 1,
    "start_time": "2024-08-04T19:27:55.765Z"
   },
   {
    "duration": 1,
    "start_time": "2024-08-04T19:27:55.766Z"
   },
   {
    "duration": 0,
    "start_time": "2024-08-04T19:27:55.767Z"
   },
   {
    "duration": 1330,
    "start_time": "2024-08-04T19:28:24.215Z"
   },
   {
    "duration": 5,
    "start_time": "2024-08-04T19:28:25.547Z"
   },
   {
    "duration": 13,
    "start_time": "2024-08-04T19:28:25.554Z"
   },
   {
    "duration": 5,
    "start_time": "2024-08-04T19:28:25.569Z"
   },
   {
    "duration": 12,
    "start_time": "2024-08-04T19:28:25.576Z"
   },
   {
    "duration": 8,
    "start_time": "2024-08-04T19:28:25.590Z"
   },
   {
    "duration": 7,
    "start_time": "2024-08-04T19:28:25.600Z"
   },
   {
    "duration": 76,
    "start_time": "2024-08-04T19:28:25.609Z"
   },
   {
    "duration": 2,
    "start_time": "2024-08-04T19:28:25.687Z"
   },
   {
    "duration": 41,
    "start_time": "2024-08-04T19:28:25.692Z"
   },
   {
    "duration": 4,
    "start_time": "2024-08-04T19:28:25.735Z"
   },
   {
    "duration": 15,
    "start_time": "2024-08-04T19:28:25.740Z"
   },
   {
    "duration": 69,
    "start_time": "2024-08-04T19:28:25.757Z"
   },
   {
    "duration": 41,
    "start_time": "2024-08-04T19:28:25.828Z"
   },
   {
    "duration": 460,
    "start_time": "2024-08-04T19:28:25.870Z"
   },
   {
    "duration": 0,
    "start_time": "2024-08-04T19:28:26.332Z"
   },
   {
    "duration": 0,
    "start_time": "2024-08-04T19:28:26.337Z"
   },
   {
    "duration": 0,
    "start_time": "2024-08-04T19:28:26.338Z"
   },
   {
    "duration": 0,
    "start_time": "2024-08-04T19:28:26.339Z"
   },
   {
    "duration": 0,
    "start_time": "2024-08-04T19:28:26.339Z"
   },
   {
    "duration": 0,
    "start_time": "2024-08-04T19:28:26.340Z"
   },
   {
    "duration": 0,
    "start_time": "2024-08-04T19:28:26.341Z"
   },
   {
    "duration": 0,
    "start_time": "2024-08-04T19:28:26.342Z"
   },
   {
    "duration": 0,
    "start_time": "2024-08-04T19:28:26.343Z"
   },
   {
    "duration": 0,
    "start_time": "2024-08-04T19:28:26.344Z"
   },
   {
    "duration": 0,
    "start_time": "2024-08-04T19:28:26.345Z"
   },
   {
    "duration": 0,
    "start_time": "2024-08-04T19:28:26.346Z"
   },
   {
    "duration": 0,
    "start_time": "2024-08-04T19:28:26.347Z"
   },
   {
    "duration": 0,
    "start_time": "2024-08-04T19:28:26.348Z"
   },
   {
    "duration": 0,
    "start_time": "2024-08-04T19:28:26.349Z"
   },
   {
    "duration": 0,
    "start_time": "2024-08-04T19:28:26.350Z"
   },
   {
    "duration": 0,
    "start_time": "2024-08-04T19:28:26.351Z"
   },
   {
    "duration": 0,
    "start_time": "2024-08-04T19:28:26.352Z"
   },
   {
    "duration": 0,
    "start_time": "2024-08-04T19:28:26.353Z"
   },
   {
    "duration": 0,
    "start_time": "2024-08-04T19:28:26.354Z"
   },
   {
    "duration": 0,
    "start_time": "2024-08-04T19:28:26.354Z"
   },
   {
    "duration": 0,
    "start_time": "2024-08-04T19:28:26.355Z"
   },
   {
    "duration": 0,
    "start_time": "2024-08-04T19:28:26.356Z"
   },
   {
    "duration": 0,
    "start_time": "2024-08-04T19:28:26.357Z"
   },
   {
    "duration": 0,
    "start_time": "2024-08-04T19:28:26.358Z"
   },
   {
    "duration": 0,
    "start_time": "2024-08-04T19:28:26.358Z"
   },
   {
    "duration": 0,
    "start_time": "2024-08-04T19:28:26.359Z"
   },
   {
    "duration": 0,
    "start_time": "2024-08-04T19:28:26.360Z"
   },
   {
    "duration": 0,
    "start_time": "2024-08-04T19:28:26.361Z"
   },
   {
    "duration": 0,
    "start_time": "2024-08-04T19:28:26.362Z"
   },
   {
    "duration": 0,
    "start_time": "2024-08-04T19:28:26.363Z"
   },
   {
    "duration": 0,
    "start_time": "2024-08-04T19:28:26.364Z"
   },
   {
    "duration": 0,
    "start_time": "2024-08-04T19:28:26.364Z"
   },
   {
    "duration": 0,
    "start_time": "2024-08-04T19:28:26.365Z"
   },
   {
    "duration": 0,
    "start_time": "2024-08-04T19:28:26.366Z"
   },
   {
    "duration": 0,
    "start_time": "2024-08-04T19:28:26.367Z"
   },
   {
    "duration": 0,
    "start_time": "2024-08-04T19:28:26.368Z"
   },
   {
    "duration": 0,
    "start_time": "2024-08-04T19:28:26.369Z"
   },
   {
    "duration": 5,
    "start_time": "2024-08-04T19:28:56.963Z"
   },
   {
    "duration": 1303,
    "start_time": "2024-08-04T19:29:00.203Z"
   },
   {
    "duration": 4,
    "start_time": "2024-08-04T19:29:01.508Z"
   },
   {
    "duration": 113,
    "start_time": "2024-08-04T19:29:01.513Z"
   },
   {
    "duration": 69,
    "start_time": "2024-08-04T19:29:01.628Z"
   },
   {
    "duration": 88,
    "start_time": "2024-08-04T19:29:01.698Z"
   },
   {
    "duration": 29,
    "start_time": "2024-08-04T19:29:01.788Z"
   },
   {
    "duration": 24,
    "start_time": "2024-08-04T19:29:01.818Z"
   },
   {
    "duration": 99,
    "start_time": "2024-08-04T19:29:01.844Z"
   },
   {
    "duration": 3,
    "start_time": "2024-08-04T19:29:01.944Z"
   },
   {
    "duration": 212,
    "start_time": "2024-08-04T19:29:01.949Z"
   },
   {
    "duration": 5,
    "start_time": "2024-08-04T19:29:02.162Z"
   },
   {
    "duration": 89,
    "start_time": "2024-08-04T19:29:02.168Z"
   },
   {
    "duration": 12,
    "start_time": "2024-08-04T19:29:02.258Z"
   },
   {
    "duration": 20,
    "start_time": "2024-08-04T19:29:02.272Z"
   },
   {
    "duration": 446,
    "start_time": "2024-08-04T19:29:02.294Z"
   },
   {
    "duration": 0,
    "start_time": "2024-08-04T19:29:02.742Z"
   },
   {
    "duration": 0,
    "start_time": "2024-08-04T19:29:02.744Z"
   },
   {
    "duration": 0,
    "start_time": "2024-08-04T19:29:02.745Z"
   },
   {
    "duration": 0,
    "start_time": "2024-08-04T19:29:02.746Z"
   },
   {
    "duration": 0,
    "start_time": "2024-08-04T19:29:02.746Z"
   },
   {
    "duration": 0,
    "start_time": "2024-08-04T19:29:02.747Z"
   },
   {
    "duration": 0,
    "start_time": "2024-08-04T19:29:02.748Z"
   },
   {
    "duration": 0,
    "start_time": "2024-08-04T19:29:02.749Z"
   },
   {
    "duration": 0,
    "start_time": "2024-08-04T19:29:02.750Z"
   },
   {
    "duration": 0,
    "start_time": "2024-08-04T19:29:02.751Z"
   },
   {
    "duration": 0,
    "start_time": "2024-08-04T19:29:02.752Z"
   },
   {
    "duration": 0,
    "start_time": "2024-08-04T19:29:02.753Z"
   },
   {
    "duration": 0,
    "start_time": "2024-08-04T19:29:02.754Z"
   },
   {
    "duration": 0,
    "start_time": "2024-08-04T19:29:02.755Z"
   },
   {
    "duration": 0,
    "start_time": "2024-08-04T19:29:02.756Z"
   },
   {
    "duration": 0,
    "start_time": "2024-08-04T19:29:02.757Z"
   },
   {
    "duration": 0,
    "start_time": "2024-08-04T19:29:02.758Z"
   },
   {
    "duration": 0,
    "start_time": "2024-08-04T19:29:02.759Z"
   },
   {
    "duration": 0,
    "start_time": "2024-08-04T19:29:02.760Z"
   },
   {
    "duration": 0,
    "start_time": "2024-08-04T19:29:02.761Z"
   },
   {
    "duration": 0,
    "start_time": "2024-08-04T19:29:02.762Z"
   },
   {
    "duration": 0,
    "start_time": "2024-08-04T19:29:02.763Z"
   },
   {
    "duration": 0,
    "start_time": "2024-08-04T19:29:02.763Z"
   },
   {
    "duration": 0,
    "start_time": "2024-08-04T19:29:02.764Z"
   },
   {
    "duration": 0,
    "start_time": "2024-08-04T19:29:02.765Z"
   },
   {
    "duration": 0,
    "start_time": "2024-08-04T19:29:02.766Z"
   },
   {
    "duration": 0,
    "start_time": "2024-08-04T19:29:02.767Z"
   },
   {
    "duration": 0,
    "start_time": "2024-08-04T19:29:02.768Z"
   },
   {
    "duration": 0,
    "start_time": "2024-08-04T19:29:02.769Z"
   },
   {
    "duration": 0,
    "start_time": "2024-08-04T19:29:02.769Z"
   },
   {
    "duration": 0,
    "start_time": "2024-08-04T19:29:02.770Z"
   },
   {
    "duration": 0,
    "start_time": "2024-08-04T19:29:02.771Z"
   },
   {
    "duration": 0,
    "start_time": "2024-08-04T19:29:02.773Z"
   },
   {
    "duration": 0,
    "start_time": "2024-08-04T19:29:02.774Z"
   },
   {
    "duration": 0,
    "start_time": "2024-08-04T19:29:02.774Z"
   },
   {
    "duration": 0,
    "start_time": "2024-08-04T19:29:02.775Z"
   },
   {
    "duration": 0,
    "start_time": "2024-08-04T19:29:02.776Z"
   },
   {
    "duration": 0,
    "start_time": "2024-08-04T19:29:02.777Z"
   },
   {
    "duration": 5,
    "start_time": "2024-08-04T19:29:28.972Z"
   },
   {
    "duration": 1334,
    "start_time": "2024-08-04T19:29:32.078Z"
   },
   {
    "duration": 5,
    "start_time": "2024-08-04T19:29:33.413Z"
   },
   {
    "duration": 65,
    "start_time": "2024-08-04T19:29:33.419Z"
   },
   {
    "duration": 19,
    "start_time": "2024-08-04T19:29:33.485Z"
   },
   {
    "duration": 37,
    "start_time": "2024-08-04T19:29:33.506Z"
   },
   {
    "duration": 27,
    "start_time": "2024-08-04T19:29:33.544Z"
   },
   {
    "duration": 29,
    "start_time": "2024-08-04T19:29:33.572Z"
   },
   {
    "duration": 102,
    "start_time": "2024-08-04T19:29:33.602Z"
   },
   {
    "duration": 3,
    "start_time": "2024-08-04T19:29:33.705Z"
   },
   {
    "duration": 59,
    "start_time": "2024-08-04T19:29:33.709Z"
   },
   {
    "duration": 5,
    "start_time": "2024-08-04T19:29:33.770Z"
   },
   {
    "duration": 33,
    "start_time": "2024-08-04T19:29:33.776Z"
   },
   {
    "duration": 27,
    "start_time": "2024-08-04T19:29:33.811Z"
   },
   {
    "duration": 39,
    "start_time": "2024-08-04T19:29:33.842Z"
   },
   {
    "duration": 235,
    "start_time": "2024-08-04T19:29:33.883Z"
   },
   {
    "duration": 113,
    "start_time": "2024-08-04T19:29:34.120Z"
   },
   {
    "duration": 0,
    "start_time": "2024-08-04T19:29:34.237Z"
   },
   {
    "duration": 0,
    "start_time": "2024-08-04T19:29:34.238Z"
   },
   {
    "duration": 0,
    "start_time": "2024-08-04T19:29:34.239Z"
   },
   {
    "duration": 0,
    "start_time": "2024-08-04T19:29:34.240Z"
   },
   {
    "duration": 0,
    "start_time": "2024-08-04T19:29:34.242Z"
   },
   {
    "duration": 0,
    "start_time": "2024-08-04T19:29:34.243Z"
   },
   {
    "duration": 0,
    "start_time": "2024-08-04T19:29:34.243Z"
   },
   {
    "duration": 0,
    "start_time": "2024-08-04T19:29:34.244Z"
   },
   {
    "duration": 0,
    "start_time": "2024-08-04T19:29:34.246Z"
   },
   {
    "duration": 0,
    "start_time": "2024-08-04T19:29:34.247Z"
   },
   {
    "duration": 0,
    "start_time": "2024-08-04T19:29:34.248Z"
   },
   {
    "duration": 0,
    "start_time": "2024-08-04T19:29:34.249Z"
   },
   {
    "duration": 0,
    "start_time": "2024-08-04T19:29:34.250Z"
   },
   {
    "duration": 0,
    "start_time": "2024-08-04T19:29:34.252Z"
   },
   {
    "duration": 0,
    "start_time": "2024-08-04T19:29:34.252Z"
   },
   {
    "duration": 0,
    "start_time": "2024-08-04T19:29:34.254Z"
   },
   {
    "duration": 0,
    "start_time": "2024-08-04T19:29:34.255Z"
   },
   {
    "duration": 0,
    "start_time": "2024-08-04T19:29:34.256Z"
   },
   {
    "duration": 0,
    "start_time": "2024-08-04T19:29:34.257Z"
   },
   {
    "duration": 0,
    "start_time": "2024-08-04T19:29:34.257Z"
   },
   {
    "duration": 0,
    "start_time": "2024-08-04T19:29:34.258Z"
   },
   {
    "duration": 0,
    "start_time": "2024-08-04T19:29:34.259Z"
   },
   {
    "duration": 0,
    "start_time": "2024-08-04T19:29:34.260Z"
   },
   {
    "duration": 0,
    "start_time": "2024-08-04T19:29:34.261Z"
   },
   {
    "duration": 0,
    "start_time": "2024-08-04T19:29:34.262Z"
   },
   {
    "duration": 0,
    "start_time": "2024-08-04T19:29:34.263Z"
   },
   {
    "duration": 0,
    "start_time": "2024-08-04T19:29:34.264Z"
   },
   {
    "duration": 0,
    "start_time": "2024-08-04T19:29:34.265Z"
   },
   {
    "duration": 0,
    "start_time": "2024-08-04T19:29:34.266Z"
   },
   {
    "duration": 0,
    "start_time": "2024-08-04T19:29:34.267Z"
   },
   {
    "duration": 0,
    "start_time": "2024-08-04T19:29:34.268Z"
   },
   {
    "duration": 1,
    "start_time": "2024-08-04T19:29:34.269Z"
   },
   {
    "duration": 0,
    "start_time": "2024-08-04T19:29:34.270Z"
   },
   {
    "duration": 0,
    "start_time": "2024-08-04T19:29:34.271Z"
   },
   {
    "duration": 1,
    "start_time": "2024-08-04T19:29:34.272Z"
   },
   {
    "duration": 0,
    "start_time": "2024-08-04T19:29:34.273Z"
   },
   {
    "duration": 0,
    "start_time": "2024-08-04T19:29:34.274Z"
   },
   {
    "duration": 7,
    "start_time": "2024-08-04T19:30:10.735Z"
   },
   {
    "duration": 1426,
    "start_time": "2024-08-04T19:30:19.823Z"
   },
   {
    "duration": 6,
    "start_time": "2024-08-04T19:30:21.251Z"
   },
   {
    "duration": 15,
    "start_time": "2024-08-04T19:30:21.259Z"
   },
   {
    "duration": 25,
    "start_time": "2024-08-04T19:30:21.276Z"
   },
   {
    "duration": 32,
    "start_time": "2024-08-04T19:30:21.304Z"
   },
   {
    "duration": 62,
    "start_time": "2024-08-04T19:30:21.337Z"
   },
   {
    "duration": 86,
    "start_time": "2024-08-04T19:30:21.400Z"
   },
   {
    "duration": 81,
    "start_time": "2024-08-04T19:30:21.487Z"
   },
   {
    "duration": 2,
    "start_time": "2024-08-04T19:30:21.570Z"
   },
   {
    "duration": 26,
    "start_time": "2024-08-04T19:30:21.574Z"
   },
   {
    "duration": 5,
    "start_time": "2024-08-04T19:30:21.601Z"
   },
   {
    "duration": 5,
    "start_time": "2024-08-04T19:30:21.608Z"
   },
   {
    "duration": 24,
    "start_time": "2024-08-04T19:30:21.614Z"
   },
   {
    "duration": 8,
    "start_time": "2024-08-04T19:30:21.641Z"
   },
   {
    "duration": 211,
    "start_time": "2024-08-04T19:30:21.650Z"
   },
   {
    "duration": 6,
    "start_time": "2024-08-04T19:30:21.863Z"
   },
   {
    "duration": 216,
    "start_time": "2024-08-04T19:30:21.871Z"
   },
   {
    "duration": 258,
    "start_time": "2024-08-04T19:30:22.088Z"
   },
   {
    "duration": 151,
    "start_time": "2024-08-04T19:30:22.348Z"
   },
   {
    "duration": 217,
    "start_time": "2024-08-04T19:30:22.500Z"
   },
   {
    "duration": 150,
    "start_time": "2024-08-04T19:30:22.718Z"
   },
   {
    "duration": 170,
    "start_time": "2024-08-04T19:30:22.869Z"
   },
   {
    "duration": 28,
    "start_time": "2024-08-04T19:30:23.040Z"
   },
   {
    "duration": 3,
    "start_time": "2024-08-04T19:30:23.070Z"
   },
   {
    "duration": 16,
    "start_time": "2024-08-04T19:30:23.074Z"
   },
   {
    "duration": 47,
    "start_time": "2024-08-04T19:30:23.092Z"
   },
   {
    "duration": 110,
    "start_time": "2024-08-04T19:30:23.140Z"
   },
   {
    "duration": 23,
    "start_time": "2024-08-04T19:30:23.251Z"
   },
   {
    "duration": 28709,
    "start_time": "2024-08-04T19:30:23.275Z"
   },
   {
    "duration": 3,
    "start_time": "2024-08-04T19:30:51.986Z"
   },
   {
    "duration": 1977,
    "start_time": "2024-08-04T19:30:51.990Z"
   },
   {
    "duration": 4,
    "start_time": "2024-08-04T19:30:53.969Z"
   },
   {
    "duration": 35,
    "start_time": "2024-08-04T19:30:53.975Z"
   },
   {
    "duration": 21237,
    "start_time": "2024-08-04T19:30:54.012Z"
   },
   {
    "duration": 4,
    "start_time": "2024-08-04T19:31:15.250Z"
   },
   {
    "duration": 2905,
    "start_time": "2024-08-04T19:31:15.338Z"
   },
   {
    "duration": 4,
    "start_time": "2024-08-04T19:31:18.245Z"
   },
   {
    "duration": 9989,
    "start_time": "2024-08-04T19:31:18.250Z"
   },
   {
    "duration": 3,
    "start_time": "2024-08-04T19:31:28.240Z"
   },
   {
    "duration": 21,
    "start_time": "2024-08-04T19:31:28.245Z"
   },
   {
    "duration": 4,
    "start_time": "2024-08-04T19:31:28.269Z"
   },
   {
    "duration": 20,
    "start_time": "2024-08-04T19:31:28.274Z"
   },
   {
    "duration": 6,
    "start_time": "2024-08-04T19:31:28.295Z"
   },
   {
    "duration": 156,
    "start_time": "2024-08-04T19:31:28.302Z"
   },
   {
    "duration": 0,
    "start_time": "2024-08-04T19:31:28.459Z"
   },
   {
    "duration": 0,
    "start_time": "2024-08-04T19:31:28.461Z"
   },
   {
    "duration": 0,
    "start_time": "2024-08-04T19:31:28.461Z"
   },
   {
    "duration": 0,
    "start_time": "2024-08-04T19:31:28.463Z"
   },
   {
    "duration": 0,
    "start_time": "2024-08-04T19:31:28.464Z"
   },
   {
    "duration": 0,
    "start_time": "2024-08-04T19:31:28.465Z"
   },
   {
    "duration": 0,
    "start_time": "2024-08-04T19:31:28.466Z"
   },
   {
    "duration": 0,
    "start_time": "2024-08-04T19:31:28.467Z"
   },
   {
    "duration": 3,
    "start_time": "2024-08-04T19:31:49.030Z"
   },
   {
    "duration": 1382,
    "start_time": "2024-08-04T19:31:53.084Z"
   },
   {
    "duration": 4,
    "start_time": "2024-08-04T19:31:54.468Z"
   },
   {
    "duration": 6,
    "start_time": "2024-08-04T19:31:54.474Z"
   },
   {
    "duration": 3,
    "start_time": "2024-08-04T19:31:54.482Z"
   },
   {
    "duration": 6,
    "start_time": "2024-08-04T19:31:54.487Z"
   },
   {
    "duration": 4,
    "start_time": "2024-08-04T19:31:54.494Z"
   },
   {
    "duration": 4,
    "start_time": "2024-08-04T19:31:54.500Z"
   },
   {
    "duration": 72,
    "start_time": "2024-08-04T19:31:54.505Z"
   },
   {
    "duration": 2,
    "start_time": "2024-08-04T19:31:54.579Z"
   },
   {
    "duration": 26,
    "start_time": "2024-08-04T19:31:54.583Z"
   },
   {
    "duration": 5,
    "start_time": "2024-08-04T19:31:54.610Z"
   },
   {
    "duration": 6,
    "start_time": "2024-08-04T19:31:54.617Z"
   },
   {
    "duration": 14,
    "start_time": "2024-08-04T19:31:54.624Z"
   },
   {
    "duration": 8,
    "start_time": "2024-08-04T19:31:54.639Z"
   },
   {
    "duration": 211,
    "start_time": "2024-08-04T19:31:54.649Z"
   },
   {
    "duration": 7,
    "start_time": "2024-08-04T19:31:54.861Z"
   },
   {
    "duration": 200,
    "start_time": "2024-08-04T19:31:54.869Z"
   },
   {
    "duration": 249,
    "start_time": "2024-08-04T19:31:55.070Z"
   },
   {
    "duration": 149,
    "start_time": "2024-08-04T19:31:55.321Z"
   },
   {
    "duration": 207,
    "start_time": "2024-08-04T19:31:55.472Z"
   },
   {
    "duration": 141,
    "start_time": "2024-08-04T19:31:55.681Z"
   },
   {
    "duration": 146,
    "start_time": "2024-08-04T19:31:55.823Z"
   },
   {
    "duration": 37,
    "start_time": "2024-08-04T19:31:55.970Z"
   },
   {
    "duration": 4,
    "start_time": "2024-08-04T19:31:56.009Z"
   },
   {
    "duration": 27,
    "start_time": "2024-08-04T19:31:56.015Z"
   },
   {
    "duration": 95,
    "start_time": "2024-08-04T19:31:56.044Z"
   },
   {
    "duration": 5,
    "start_time": "2024-08-04T19:31:56.141Z"
   },
   {
    "duration": 8,
    "start_time": "2024-08-04T19:31:56.237Z"
   },
   {
    "duration": 28233,
    "start_time": "2024-08-04T19:31:56.247Z"
   },
   {
    "duration": 3,
    "start_time": "2024-08-04T19:32:24.481Z"
   },
   {
    "duration": 1935,
    "start_time": "2024-08-04T19:32:24.485Z"
   },
   {
    "duration": 6,
    "start_time": "2024-08-04T19:32:26.421Z"
   },
   {
    "duration": 13,
    "start_time": "2024-08-04T19:32:26.429Z"
   },
   {
    "duration": 18297,
    "start_time": "2024-08-04T19:32:26.444Z"
   },
   {
    "duration": 3,
    "start_time": "2024-08-04T19:32:44.743Z"
   },
   {
    "duration": 2100,
    "start_time": "2024-08-04T19:32:44.747Z"
   },
   {
    "duration": 4,
    "start_time": "2024-08-04T19:32:46.849Z"
   },
   {
    "duration": 9999,
    "start_time": "2024-08-04T19:32:46.854Z"
   },
   {
    "duration": 4,
    "start_time": "2024-08-04T19:32:56.854Z"
   },
   {
    "duration": 35,
    "start_time": "2024-08-04T19:32:56.859Z"
   },
   {
    "duration": 4,
    "start_time": "2024-08-04T19:32:56.896Z"
   },
   {
    "duration": 30,
    "start_time": "2024-08-04T19:32:56.902Z"
   },
   {
    "duration": 6,
    "start_time": "2024-08-04T19:32:56.934Z"
   },
   {
    "duration": 13,
    "start_time": "2024-08-04T19:35:39.040Z"
   },
   {
    "duration": 4,
    "start_time": "2024-08-04T19:35:44.756Z"
   },
   {
    "duration": 5,
    "start_time": "2024-08-04T19:35:45.047Z"
   },
   {
    "duration": 3,
    "start_time": "2024-08-04T19:35:45.199Z"
   },
   {
    "duration": 3,
    "start_time": "2024-08-04T19:35:45.326Z"
   },
   {
    "duration": 3,
    "start_time": "2024-08-04T19:35:45.458Z"
   },
   {
    "duration": 1323,
    "start_time": "2024-08-04T19:35:49.786Z"
   },
   {
    "duration": 5,
    "start_time": "2024-08-04T19:35:51.110Z"
   },
   {
    "duration": 10,
    "start_time": "2024-08-04T19:35:51.116Z"
   },
   {
    "duration": 16,
    "start_time": "2024-08-04T19:35:51.127Z"
   },
   {
    "duration": 7,
    "start_time": "2024-08-04T19:35:51.145Z"
   },
   {
    "duration": 4,
    "start_time": "2024-08-04T19:35:53.126Z"
   },
   {
    "duration": 2,
    "start_time": "2024-08-04T19:35:53.430Z"
   },
   {
    "duration": 71,
    "start_time": "2024-08-04T19:35:53.754Z"
   },
   {
    "duration": 3,
    "start_time": "2024-08-04T19:35:53.911Z"
   },
   {
    "duration": 24,
    "start_time": "2024-08-04T19:35:54.111Z"
   },
   {
    "duration": 5,
    "start_time": "2024-08-04T19:35:54.632Z"
   },
   {
    "duration": 6,
    "start_time": "2024-08-04T19:35:54.943Z"
   },
   {
    "duration": 4,
    "start_time": "2024-08-04T19:35:55.255Z"
   },
   {
    "duration": 9,
    "start_time": "2024-08-04T19:35:55.571Z"
   },
   {
    "duration": 194,
    "start_time": "2024-08-04T19:35:56.430Z"
   },
   {
    "duration": 7,
    "start_time": "2024-08-04T19:35:56.952Z"
   },
   {
    "duration": 187,
    "start_time": "2024-08-04T19:35:57.116Z"
   },
   {
    "duration": 266,
    "start_time": "2024-08-04T19:35:57.310Z"
   },
   {
    "duration": 150,
    "start_time": "2024-08-04T19:35:57.578Z"
   },
   {
    "duration": 201,
    "start_time": "2024-08-04T19:35:57.729Z"
   },
   {
    "duration": 157,
    "start_time": "2024-08-04T19:35:57.932Z"
   },
   {
    "duration": 150,
    "start_time": "2024-08-04T19:35:58.091Z"
   },
   {
    "duration": 27,
    "start_time": "2024-08-04T19:35:58.757Z"
   },
   {
    "duration": 4,
    "start_time": "2024-08-04T19:35:58.979Z"
   },
   {
    "duration": 5,
    "start_time": "2024-08-04T19:35:59.378Z"
   },
   {
    "duration": 12,
    "start_time": "2024-08-04T19:35:59.806Z"
   },
   {
    "duration": 4,
    "start_time": "2024-08-04T19:35:59.985Z"
   },
   {
    "duration": 9763,
    "start_time": "2024-08-04T19:36:11.463Z"
   },
   {
    "duration": 9,
    "start_time": "2024-08-04T19:36:21.228Z"
   },
   {
    "duration": 21,
    "start_time": "2024-08-04T19:36:21.239Z"
   },
   {
    "duration": 129,
    "start_time": "2024-08-04T19:36:21.262Z"
   },
   {
    "duration": 5,
    "start_time": "2024-08-04T19:36:29.179Z"
   },
   {
    "duration": 3,
    "start_time": "2024-08-04T19:36:34.054Z"
   },
   {
    "duration": 2,
    "start_time": "2024-08-04T19:37:40.773Z"
   },
   {
    "duration": 26,
    "start_time": "2024-08-04T19:37:44.054Z"
   },
   {
    "duration": 3,
    "start_time": "2024-08-04T19:37:44.340Z"
   },
   {
    "duration": 6,
    "start_time": "2024-08-04T19:37:44.784Z"
   },
   {
    "duration": 8,
    "start_time": "2024-08-04T19:37:45.113Z"
   },
   {
    "duration": 5,
    "start_time": "2024-08-04T19:37:45.733Z"
   },
   {
    "duration": 9,
    "start_time": "2024-08-04T19:37:46.050Z"
   },
   {
    "duration": 26399,
    "start_time": "2024-08-04T19:37:46.222Z"
   },
   {
    "duration": 3,
    "start_time": "2024-08-04T19:38:12.624Z"
   },
   {
    "duration": 1881,
    "start_time": "2024-08-04T19:38:12.629Z"
   },
   {
    "duration": 5,
    "start_time": "2024-08-04T19:38:14.512Z"
   },
   {
    "duration": 4,
    "start_time": "2024-08-04T19:38:14.518Z"
   },
   {
    "duration": 16616,
    "start_time": "2024-08-04T19:38:14.523Z"
   },
   {
    "duration": 3,
    "start_time": "2024-08-04T19:38:31.141Z"
   },
   {
    "duration": 2497,
    "start_time": "2024-08-04T19:38:31.146Z"
   },
   {
    "duration": 4,
    "start_time": "2024-08-04T19:38:33.645Z"
   },
   {
    "duration": 9925,
    "start_time": "2024-08-04T19:38:33.651Z"
   },
   {
    "duration": 3,
    "start_time": "2024-08-04T19:38:43.578Z"
   },
   {
    "duration": 20,
    "start_time": "2024-08-04T19:38:43.582Z"
   },
   {
    "duration": 4,
    "start_time": "2024-08-04T19:38:43.603Z"
   },
   {
    "duration": 7,
    "start_time": "2024-08-04T19:38:43.608Z"
   },
   {
    "duration": 9,
    "start_time": "2024-08-04T19:38:51.922Z"
   },
   {
    "duration": 3,
    "start_time": "2024-08-04T19:39:30.568Z"
   },
   {
    "duration": 10,
    "start_time": "2024-08-04T19:44:21.095Z"
   },
   {
    "duration": 2,
    "start_time": "2024-08-04T19:44:32.239Z"
   },
   {
    "duration": 1374,
    "start_time": "2024-08-04T19:47:40.195Z"
   },
   {
    "duration": 5,
    "start_time": "2024-08-04T19:47:41.570Z"
   },
   {
    "duration": 13,
    "start_time": "2024-08-04T19:47:41.577Z"
   },
   {
    "duration": 6,
    "start_time": "2024-08-04T19:47:41.592Z"
   },
   {
    "duration": 5,
    "start_time": "2024-08-04T19:47:41.599Z"
   },
   {
    "duration": 6,
    "start_time": "2024-08-04T19:47:41.605Z"
   },
   {
    "duration": 6,
    "start_time": "2024-08-04T19:47:41.612Z"
   },
   {
    "duration": 77,
    "start_time": "2024-08-04T19:47:41.619Z"
   },
   {
    "duration": 2,
    "start_time": "2024-08-04T19:47:41.698Z"
   },
   {
    "duration": 31,
    "start_time": "2024-08-04T19:47:41.703Z"
   },
   {
    "duration": 5,
    "start_time": "2024-08-04T19:47:41.736Z"
   },
   {
    "duration": 6,
    "start_time": "2024-08-04T19:47:41.743Z"
   },
   {
    "duration": 3,
    "start_time": "2024-08-04T19:47:41.750Z"
   },
   {
    "duration": 12,
    "start_time": "2024-08-04T19:47:41.754Z"
   },
   {
    "duration": 232,
    "start_time": "2024-08-04T19:47:41.767Z"
   },
   {
    "duration": 7,
    "start_time": "2024-08-04T19:47:42.001Z"
   },
   {
    "duration": 199,
    "start_time": "2024-08-04T19:47:42.009Z"
   },
   {
    "duration": 260,
    "start_time": "2024-08-04T19:47:42.210Z"
   },
   {
    "duration": 148,
    "start_time": "2024-08-04T19:47:42.471Z"
   },
   {
    "duration": 221,
    "start_time": "2024-08-04T19:47:42.621Z"
   },
   {
    "duration": 161,
    "start_time": "2024-08-04T19:47:42.844Z"
   },
   {
    "duration": 156,
    "start_time": "2024-08-04T19:47:43.007Z"
   },
   {
    "duration": 2,
    "start_time": "2024-08-04T19:47:43.165Z"
   },
   {
    "duration": 28,
    "start_time": "2024-08-04T19:47:43.169Z"
   },
   {
    "duration": 3,
    "start_time": "2024-08-04T19:47:43.199Z"
   },
   {
    "duration": 5,
    "start_time": "2024-08-04T19:47:43.203Z"
   },
   {
    "duration": 257,
    "start_time": "2024-08-04T19:47:43.210Z"
   },
   {
    "duration": 0,
    "start_time": "2024-08-04T19:47:43.470Z"
   },
   {
    "duration": 0,
    "start_time": "2024-08-04T19:47:43.471Z"
   },
   {
    "duration": 0,
    "start_time": "2024-08-04T19:47:43.472Z"
   },
   {
    "duration": 0,
    "start_time": "2024-08-04T19:47:43.473Z"
   },
   {
    "duration": 0,
    "start_time": "2024-08-04T19:47:43.474Z"
   },
   {
    "duration": 0,
    "start_time": "2024-08-04T19:47:43.475Z"
   },
   {
    "duration": 0,
    "start_time": "2024-08-04T19:47:43.476Z"
   },
   {
    "duration": 0,
    "start_time": "2024-08-04T19:47:43.477Z"
   },
   {
    "duration": 0,
    "start_time": "2024-08-04T19:47:43.478Z"
   },
   {
    "duration": 0,
    "start_time": "2024-08-04T19:47:43.480Z"
   },
   {
    "duration": 0,
    "start_time": "2024-08-04T19:47:43.481Z"
   },
   {
    "duration": 0,
    "start_time": "2024-08-04T19:47:43.482Z"
   },
   {
    "duration": 0,
    "start_time": "2024-08-04T19:47:43.483Z"
   },
   {
    "duration": 0,
    "start_time": "2024-08-04T19:47:43.484Z"
   },
   {
    "duration": 0,
    "start_time": "2024-08-04T19:47:43.485Z"
   },
   {
    "duration": 0,
    "start_time": "2024-08-04T19:47:43.486Z"
   },
   {
    "duration": 0,
    "start_time": "2024-08-04T19:47:43.486Z"
   },
   {
    "duration": 0,
    "start_time": "2024-08-04T19:47:43.487Z"
   },
   {
    "duration": 0,
    "start_time": "2024-08-04T19:47:43.488Z"
   },
   {
    "duration": 0,
    "start_time": "2024-08-04T19:47:43.489Z"
   },
   {
    "duration": 0,
    "start_time": "2024-08-04T19:47:43.490Z"
   },
   {
    "duration": 0,
    "start_time": "2024-08-04T19:47:43.491Z"
   },
   {
    "duration": 0,
    "start_time": "2024-08-04T19:47:43.492Z"
   },
   {
    "duration": 0,
    "start_time": "2024-08-04T19:47:43.494Z"
   },
   {
    "duration": 0,
    "start_time": "2024-08-04T19:47:43.494Z"
   },
   {
    "duration": 0,
    "start_time": "2024-08-04T19:47:43.537Z"
   },
   {
    "duration": 1404,
    "start_time": "2024-08-04T19:48:11.430Z"
   },
   {
    "duration": 5,
    "start_time": "2024-08-04T19:48:12.836Z"
   },
   {
    "duration": 9,
    "start_time": "2024-08-04T19:48:12.842Z"
   },
   {
    "duration": 6,
    "start_time": "2024-08-04T19:48:12.853Z"
   },
   {
    "duration": 4,
    "start_time": "2024-08-04T19:48:12.861Z"
   },
   {
    "duration": 8,
    "start_time": "2024-08-04T19:48:12.867Z"
   },
   {
    "duration": 3,
    "start_time": "2024-08-04T19:48:12.877Z"
   },
   {
    "duration": 79,
    "start_time": "2024-08-04T19:48:12.881Z"
   },
   {
    "duration": 2,
    "start_time": "2024-08-04T19:48:12.962Z"
   },
   {
    "duration": 26,
    "start_time": "2024-08-04T19:48:12.967Z"
   },
   {
    "duration": 5,
    "start_time": "2024-08-04T19:48:12.995Z"
   },
   {
    "duration": 11,
    "start_time": "2024-08-04T19:48:13.001Z"
   },
   {
    "duration": 24,
    "start_time": "2024-08-04T19:48:13.014Z"
   },
   {
    "duration": 15,
    "start_time": "2024-08-04T19:48:13.040Z"
   },
   {
    "duration": 228,
    "start_time": "2024-08-04T19:48:13.057Z"
   },
   {
    "duration": 7,
    "start_time": "2024-08-04T19:48:13.286Z"
   },
   {
    "duration": 206,
    "start_time": "2024-08-04T19:48:13.294Z"
   },
   {
    "duration": 262,
    "start_time": "2024-08-04T19:48:13.502Z"
   },
   {
    "duration": 136,
    "start_time": "2024-08-04T19:48:13.766Z"
   },
   {
    "duration": 224,
    "start_time": "2024-08-04T19:48:13.904Z"
   },
   {
    "duration": 147,
    "start_time": "2024-08-04T19:48:14.130Z"
   },
   {
    "duration": 160,
    "start_time": "2024-08-04T19:48:14.278Z"
   },
   {
    "duration": 3,
    "start_time": "2024-08-04T19:48:14.439Z"
   },
   {
    "duration": 31,
    "start_time": "2024-08-04T19:48:14.444Z"
   },
   {
    "duration": 4,
    "start_time": "2024-08-04T19:48:14.476Z"
   },
   {
    "duration": 15,
    "start_time": "2024-08-04T19:48:14.481Z"
   },
   {
    "duration": 140,
    "start_time": "2024-08-04T19:48:14.498Z"
   },
   {
    "duration": 6,
    "start_time": "2024-08-04T19:48:14.643Z"
   },
   {
    "duration": 90,
    "start_time": "2024-08-04T19:48:14.651Z"
   },
   {
    "duration": 27215,
    "start_time": "2024-08-04T19:48:14.742Z"
   },
   {
    "duration": 3,
    "start_time": "2024-08-04T19:48:41.958Z"
   },
   {
    "duration": 1800,
    "start_time": "2024-08-04T19:48:41.963Z"
   },
   {
    "duration": 5,
    "start_time": "2024-08-04T19:48:43.764Z"
   },
   {
    "duration": 115,
    "start_time": "2024-08-04T19:48:43.770Z"
   },
   {
    "duration": 0,
    "start_time": "2024-08-04T19:48:43.887Z"
   },
   {
    "duration": 0,
    "start_time": "2024-08-04T19:48:43.888Z"
   },
   {
    "duration": 0,
    "start_time": "2024-08-04T19:48:43.889Z"
   },
   {
    "duration": 0,
    "start_time": "2024-08-04T19:48:43.889Z"
   },
   {
    "duration": 0,
    "start_time": "2024-08-04T19:48:43.890Z"
   },
   {
    "duration": 0,
    "start_time": "2024-08-04T19:48:43.891Z"
   },
   {
    "duration": 0,
    "start_time": "2024-08-04T19:48:43.892Z"
   },
   {
    "duration": 0,
    "start_time": "2024-08-04T19:48:43.893Z"
   },
   {
    "duration": 0,
    "start_time": "2024-08-04T19:48:43.894Z"
   },
   {
    "duration": 0,
    "start_time": "2024-08-04T19:48:43.895Z"
   },
   {
    "duration": 0,
    "start_time": "2024-08-04T19:48:43.896Z"
   },
   {
    "duration": 0,
    "start_time": "2024-08-04T19:48:43.897Z"
   },
   {
    "duration": 0,
    "start_time": "2024-08-04T19:48:43.898Z"
   },
   {
    "duration": 0,
    "start_time": "2024-08-04T19:48:43.899Z"
   },
   {
    "duration": 0,
    "start_time": "2024-08-04T19:48:43.900Z"
   },
   {
    "duration": 0,
    "start_time": "2024-08-04T19:48:43.902Z"
   },
   {
    "duration": 0,
    "start_time": "2024-08-04T19:48:43.902Z"
   },
   {
    "duration": 0,
    "start_time": "2024-08-04T19:48:43.903Z"
   },
   {
    "duration": 0,
    "start_time": "2024-08-04T19:48:43.904Z"
   },
   {
    "duration": 4,
    "start_time": "2024-08-04T19:48:46.144Z"
   },
   {
    "duration": 15315,
    "start_time": "2024-08-04T19:48:48.532Z"
   },
   {
    "duration": 3,
    "start_time": "2024-08-04T19:49:03.848Z"
   },
   {
    "duration": 2497,
    "start_time": "2024-08-04T19:49:03.852Z"
   },
   {
    "duration": 4,
    "start_time": "2024-08-04T19:49:06.351Z"
   },
   {
    "duration": 9925,
    "start_time": "2024-08-04T19:49:06.356Z"
   },
   {
    "duration": 3,
    "start_time": "2024-08-04T19:49:16.283Z"
   },
   {
    "duration": 45,
    "start_time": "2024-08-04T19:49:16.287Z"
   },
   {
    "duration": 9,
    "start_time": "2024-08-04T19:49:16.334Z"
   },
   {
    "duration": 4,
    "start_time": "2024-08-04T19:49:23.478Z"
   },
   {
    "duration": 9,
    "start_time": "2024-08-04T19:49:26.686Z"
   },
   {
    "duration": 205,
    "start_time": "2024-08-04T19:49:31.074Z"
   },
   {
    "duration": 10,
    "start_time": "2024-08-04T19:50:07.742Z"
   },
   {
    "duration": 12,
    "start_time": "2024-08-04T19:50:07.997Z"
   },
   {
    "duration": 2,
    "start_time": "2024-08-04T19:50:08.428Z"
   },
   {
    "duration": 221,
    "start_time": "2024-08-04T19:50:18.131Z"
   },
   {
    "duration": 4,
    "start_time": "2024-08-04T19:52:29.412Z"
   },
   {
    "duration": 49,
    "start_time": "2024-08-04T19:52:34.607Z"
   },
   {
    "duration": 5,
    "start_time": "2024-08-04T19:52:58.215Z"
   },
   {
    "duration": 31,
    "start_time": "2024-08-04T19:53:02.892Z"
   },
   {
    "duration": 4,
    "start_time": "2024-08-04T19:54:00.443Z"
   },
   {
    "duration": 24,
    "start_time": "2024-08-04T19:54:06.594Z"
   },
   {
    "duration": 5,
    "start_time": "2024-08-04T19:54:17.474Z"
   },
   {
    "duration": 22,
    "start_time": "2024-08-04T19:54:21.608Z"
   },
   {
    "duration": 3,
    "start_time": "2024-08-04T19:56:48.423Z"
   },
   {
    "duration": 23,
    "start_time": "2024-08-04T19:56:51.916Z"
   },
   {
    "duration": 5,
    "start_time": "2024-08-04T19:57:45.151Z"
   },
   {
    "duration": 23,
    "start_time": "2024-08-04T19:57:49.525Z"
   },
   {
    "duration": 4,
    "start_time": "2024-08-04T19:58:41.365Z"
   },
   {
    "duration": 233,
    "start_time": "2024-08-04T19:58:46.314Z"
   },
   {
    "duration": 4,
    "start_time": "2024-08-04T19:58:58.841Z"
   },
   {
    "duration": 34,
    "start_time": "2024-08-04T19:59:02.902Z"
   },
   {
    "duration": 5,
    "start_time": "2024-08-04T20:01:37.228Z"
   },
   {
    "duration": 247,
    "start_time": "2024-08-04T20:01:41.595Z"
   },
   {
    "duration": 5,
    "start_time": "2024-08-04T20:01:56.678Z"
   },
   {
    "duration": 49,
    "start_time": "2024-08-04T20:02:01.342Z"
   },
   {
    "duration": 5,
    "start_time": "2024-08-04T20:02:25.057Z"
   },
   {
    "duration": 13,
    "start_time": "2024-08-04T20:03:09.466Z"
   },
   {
    "duration": 18,
    "start_time": "2024-08-04T20:03:16.623Z"
   },
   {
    "duration": 3,
    "start_time": "2024-08-04T20:03:26.430Z"
   },
   {
    "duration": 6,
    "start_time": "2024-08-04T20:03:26.800Z"
   },
   {
    "duration": 3,
    "start_time": "2024-08-04T20:03:26.954Z"
   },
   {
    "duration": 4,
    "start_time": "2024-08-04T20:03:27.134Z"
   },
   {
    "duration": 2,
    "start_time": "2024-08-04T20:03:27.305Z"
   },
   {
    "duration": 1357,
    "start_time": "2024-08-04T20:03:32.300Z"
   },
   {
    "duration": 5,
    "start_time": "2024-08-04T20:03:33.658Z"
   },
   {
    "duration": 12,
    "start_time": "2024-08-04T20:03:33.664Z"
   },
   {
    "duration": 11,
    "start_time": "2024-08-04T20:03:33.678Z"
   },
   {
    "duration": 6,
    "start_time": "2024-08-04T20:03:33.690Z"
   },
   {
    "duration": 9,
    "start_time": "2024-08-04T20:03:33.697Z"
   },
   {
    "duration": 6,
    "start_time": "2024-08-04T20:03:33.707Z"
   },
   {
    "duration": 72,
    "start_time": "2024-08-04T20:03:33.763Z"
   },
   {
    "duration": 3,
    "start_time": "2024-08-04T20:03:33.917Z"
   },
   {
    "duration": 25,
    "start_time": "2024-08-04T20:03:34.063Z"
   },
   {
    "duration": 1549,
    "start_time": "2024-08-04T20:03:37.046Z"
   },
   {
    "duration": 5,
    "start_time": "2024-08-04T20:03:38.596Z"
   },
   {
    "duration": 7,
    "start_time": "2024-08-04T20:03:38.602Z"
   },
   {
    "duration": 4,
    "start_time": "2024-08-04T20:03:38.611Z"
   },
   {
    "duration": 8,
    "start_time": "2024-08-04T20:03:38.616Z"
   },
   {
    "duration": 13,
    "start_time": "2024-08-04T20:03:38.626Z"
   },
   {
    "duration": 11,
    "start_time": "2024-08-04T20:03:38.640Z"
   },
   {
    "duration": 75,
    "start_time": "2024-08-04T20:03:38.652Z"
   },
   {
    "duration": 3,
    "start_time": "2024-08-04T20:03:38.728Z"
   },
   {
    "duration": 39,
    "start_time": "2024-08-04T20:03:38.734Z"
   },
   {
    "duration": 6,
    "start_time": "2024-08-04T20:03:38.775Z"
   },
   {
    "duration": 6,
    "start_time": "2024-08-04T20:03:38.782Z"
   },
   {
    "duration": 11,
    "start_time": "2024-08-04T20:03:38.790Z"
   },
   {
    "duration": 9,
    "start_time": "2024-08-04T20:03:38.803Z"
   },
   {
    "duration": 226,
    "start_time": "2024-08-04T20:03:38.813Z"
   },
   {
    "duration": 9,
    "start_time": "2024-08-04T20:03:39.041Z"
   },
   {
    "duration": 213,
    "start_time": "2024-08-04T20:03:39.052Z"
   },
   {
    "duration": 273,
    "start_time": "2024-08-04T20:03:39.267Z"
   },
   {
    "duration": 145,
    "start_time": "2024-08-04T20:03:39.542Z"
   },
   {
    "duration": 219,
    "start_time": "2024-08-04T20:03:39.689Z"
   },
   {
    "duration": 162,
    "start_time": "2024-08-04T20:03:39.910Z"
   },
   {
    "duration": 163,
    "start_time": "2024-08-04T20:03:40.074Z"
   },
   {
    "duration": 2,
    "start_time": "2024-08-04T20:03:40.239Z"
   },
   {
    "duration": 29,
    "start_time": "2024-08-04T20:03:40.243Z"
   },
   {
    "duration": 4,
    "start_time": "2024-08-04T20:03:40.273Z"
   },
   {
    "duration": 87,
    "start_time": "2024-08-04T20:03:40.278Z"
   },
   {
    "duration": 17,
    "start_time": "2024-08-04T20:03:40.367Z"
   },
   {
    "duration": 147,
    "start_time": "2024-08-04T20:03:40.389Z"
   },
   {
    "duration": 7,
    "start_time": "2024-08-04T20:03:40.538Z"
   },
   {
    "duration": 27096,
    "start_time": "2024-08-04T20:03:40.547Z"
   },
   {
    "duration": 3,
    "start_time": "2024-08-04T20:04:07.645Z"
   },
   {
    "duration": 1910,
    "start_time": "2024-08-04T20:04:07.649Z"
   },
   {
    "duration": 5,
    "start_time": "2024-08-04T20:04:09.561Z"
   },
   {
    "duration": 11,
    "start_time": "2024-08-04T20:04:09.567Z"
   },
   {
    "duration": 17565,
    "start_time": "2024-08-04T20:04:09.579Z"
   },
   {
    "duration": 3,
    "start_time": "2024-08-04T20:04:27.146Z"
   },
   {
    "duration": 2504,
    "start_time": "2024-08-04T20:04:27.151Z"
   },
   {
    "duration": 4,
    "start_time": "2024-08-04T20:04:29.738Z"
   },
   {
    "duration": 10152,
    "start_time": "2024-08-04T20:04:29.744Z"
   },
   {
    "duration": 3,
    "start_time": "2024-08-04T20:04:39.898Z"
   },
   {
    "duration": 22,
    "start_time": "2024-08-04T20:04:39.902Z"
   },
   {
    "duration": 4,
    "start_time": "2024-08-04T20:04:39.936Z"
   },
   {
    "duration": 10,
    "start_time": "2024-08-04T20:04:39.942Z"
   },
   {
    "duration": 10,
    "start_time": "2024-08-04T20:04:39.953Z"
   },
   {
    "duration": 2,
    "start_time": "2024-08-04T20:04:39.965Z"
   },
   {
    "duration": 169,
    "start_time": "2024-08-04T20:04:39.969Z"
   },
   {
    "duration": 0,
    "start_time": "2024-08-04T20:04:40.141Z"
   },
   {
    "duration": 0,
    "start_time": "2024-08-04T20:04:40.143Z"
   },
   {
    "duration": 0,
    "start_time": "2024-08-04T20:04:40.144Z"
   },
   {
    "duration": 0,
    "start_time": "2024-08-04T20:04:40.146Z"
   },
   {
    "duration": 0,
    "start_time": "2024-08-04T20:04:40.147Z"
   },
   {
    "duration": 0,
    "start_time": "2024-08-04T20:04:40.148Z"
   },
   {
    "duration": 0,
    "start_time": "2024-08-04T20:04:40.150Z"
   },
   {
    "duration": 0,
    "start_time": "2024-08-04T20:04:40.151Z"
   },
   {
    "duration": 13,
    "start_time": "2024-08-04T20:06:46.717Z"
   },
   {
    "duration": 1450,
    "start_time": "2024-08-04T20:08:26.436Z"
   },
   {
    "duration": 6,
    "start_time": "2024-08-04T20:08:27.888Z"
   },
   {
    "duration": 6,
    "start_time": "2024-08-04T20:08:27.896Z"
   },
   {
    "duration": 5,
    "start_time": "2024-08-04T20:08:27.903Z"
   },
   {
    "duration": 5,
    "start_time": "2024-08-04T20:08:27.909Z"
   },
   {
    "duration": 4,
    "start_time": "2024-08-04T20:08:27.916Z"
   },
   {
    "duration": 3,
    "start_time": "2024-08-04T20:08:27.937Z"
   },
   {
    "duration": 84,
    "start_time": "2024-08-04T20:08:27.941Z"
   },
   {
    "duration": 3,
    "start_time": "2024-08-04T20:08:28.028Z"
   },
   {
    "duration": 37,
    "start_time": "2024-08-04T20:08:28.034Z"
   },
   {
    "duration": 35,
    "start_time": "2024-08-04T20:08:28.073Z"
   },
   {
    "duration": 27,
    "start_time": "2024-08-04T20:08:28.110Z"
   },
   {
    "duration": 4,
    "start_time": "2024-08-04T20:08:28.138Z"
   },
   {
    "duration": 8,
    "start_time": "2024-08-04T20:08:28.144Z"
   },
   {
    "duration": 232,
    "start_time": "2024-08-04T20:08:28.153Z"
   },
   {
    "duration": 7,
    "start_time": "2024-08-04T20:08:28.387Z"
   },
   {
    "duration": 199,
    "start_time": "2024-08-04T20:08:28.396Z"
   },
   {
    "duration": 245,
    "start_time": "2024-08-04T20:08:28.596Z"
   },
   {
    "duration": 133,
    "start_time": "2024-08-04T20:08:28.843Z"
   },
   {
    "duration": 197,
    "start_time": "2024-08-04T20:08:28.978Z"
   },
   {
    "duration": 139,
    "start_time": "2024-08-04T20:08:29.176Z"
   },
   {
    "duration": 154,
    "start_time": "2024-08-04T20:08:29.316Z"
   },
   {
    "duration": 2,
    "start_time": "2024-08-04T20:08:29.472Z"
   },
   {
    "duration": 63,
    "start_time": "2024-08-04T20:08:29.476Z"
   },
   {
    "duration": 46,
    "start_time": "2024-08-04T20:08:29.541Z"
   },
   {
    "duration": 9,
    "start_time": "2024-08-04T20:08:29.588Z"
   },
   {
    "duration": 39,
    "start_time": "2024-08-04T20:08:29.599Z"
   },
   {
    "duration": 96,
    "start_time": "2024-08-04T20:08:29.643Z"
   },
   {
    "duration": 14,
    "start_time": "2024-08-04T20:08:29.741Z"
   },
   {
    "duration": 26593,
    "start_time": "2024-08-04T20:08:29.756Z"
   },
   {
    "duration": 3,
    "start_time": "2024-08-04T20:08:56.351Z"
   },
   {
    "duration": 1839,
    "start_time": "2024-08-04T20:08:56.355Z"
   },
   {
    "duration": 5,
    "start_time": "2024-08-04T20:08:58.195Z"
   },
   {
    "duration": 4,
    "start_time": "2024-08-04T20:08:58.202Z"
   },
   {
    "duration": 16732,
    "start_time": "2024-08-04T20:08:58.208Z"
   },
   {
    "duration": 3,
    "start_time": "2024-08-04T20:09:14.941Z"
   },
   {
    "duration": 22,
    "start_time": "2024-08-04T20:09:14.946Z"
   },
   {
    "duration": 9,
    "start_time": "2024-08-04T20:09:14.970Z"
   },
   {
    "duration": 10021,
    "start_time": "2024-08-04T20:09:14.980Z"
   },
   {
    "duration": 3,
    "start_time": "2024-08-04T20:09:25.002Z"
   },
   {
    "duration": 18,
    "start_time": "2024-08-04T20:09:25.007Z"
   },
   {
    "duration": 4,
    "start_time": "2024-08-04T20:09:25.027Z"
   },
   {
    "duration": 11,
    "start_time": "2024-08-04T20:09:25.033Z"
   },
   {
    "duration": 7,
    "start_time": "2024-08-04T20:09:25.046Z"
   },
   {
    "duration": 11,
    "start_time": "2024-08-04T20:09:25.054Z"
   },
   {
    "duration": 163,
    "start_time": "2024-08-04T20:09:25.066Z"
   },
   {
    "duration": 0,
    "start_time": "2024-08-04T20:09:25.237Z"
   },
   {
    "duration": 0,
    "start_time": "2024-08-04T20:09:25.238Z"
   },
   {
    "duration": 0,
    "start_time": "2024-08-04T20:09:25.239Z"
   },
   {
    "duration": 0,
    "start_time": "2024-08-04T20:09:25.240Z"
   },
   {
    "duration": 0,
    "start_time": "2024-08-04T20:09:25.241Z"
   },
   {
    "duration": 0,
    "start_time": "2024-08-04T20:09:25.242Z"
   },
   {
    "duration": 0,
    "start_time": "2024-08-04T20:09:25.243Z"
   },
   {
    "duration": 0,
    "start_time": "2024-08-04T20:09:25.244Z"
   },
   {
    "duration": 3,
    "start_time": "2024-08-04T20:10:29.873Z"
   },
   {
    "duration": 3,
    "start_time": "2024-08-04T20:10:55.549Z"
   },
   {
    "duration": 3,
    "start_time": "2024-08-04T20:11:40.202Z"
   },
   {
    "duration": 3,
    "start_time": "2024-08-04T20:11:44.499Z"
   },
   {
    "duration": 1392,
    "start_time": "2024-08-04T20:11:54.467Z"
   },
   {
    "duration": 4,
    "start_time": "2024-08-04T20:11:55.861Z"
   },
   {
    "duration": 7,
    "start_time": "2024-08-04T20:11:55.867Z"
   },
   {
    "duration": 4,
    "start_time": "2024-08-04T20:11:55.876Z"
   },
   {
    "duration": 9,
    "start_time": "2024-08-04T20:11:55.881Z"
   },
   {
    "duration": 4,
    "start_time": "2024-08-04T20:11:55.892Z"
   },
   {
    "duration": 15,
    "start_time": "2024-08-04T20:11:55.897Z"
   },
   {
    "duration": 70,
    "start_time": "2024-08-04T20:11:55.973Z"
   },
   {
    "duration": 2,
    "start_time": "2024-08-04T20:11:56.123Z"
   },
   {
    "duration": 24,
    "start_time": "2024-08-04T20:11:56.267Z"
   },
   {
    "duration": 5,
    "start_time": "2024-08-04T20:11:56.752Z"
   },
   {
    "duration": 6,
    "start_time": "2024-08-04T20:11:57.067Z"
   },
   {
    "duration": 4,
    "start_time": "2024-08-04T20:11:57.370Z"
   },
   {
    "duration": 8,
    "start_time": "2024-08-04T20:11:57.705Z"
   },
   {
    "duration": 205,
    "start_time": "2024-08-04T20:11:58.355Z"
   },
   {
    "duration": 9,
    "start_time": "2024-08-04T20:11:58.834Z"
   },
   {
    "duration": 199,
    "start_time": "2024-08-04T20:11:59.024Z"
   },
   {
    "duration": 262,
    "start_time": "2024-08-04T20:11:59.224Z"
   },
   {
    "duration": 145,
    "start_time": "2024-08-04T20:11:59.488Z"
   },
   {
    "duration": 200,
    "start_time": "2024-08-04T20:11:59.637Z"
   },
   {
    "duration": 147,
    "start_time": "2024-08-04T20:11:59.839Z"
   },
   {
    "duration": 158,
    "start_time": "2024-08-04T20:11:59.987Z"
   },
   {
    "duration": 3,
    "start_time": "2024-08-04T20:12:00.359Z"
   },
   {
    "duration": 28,
    "start_time": "2024-08-04T20:12:00.532Z"
   },
   {
    "duration": 4,
    "start_time": "2024-08-04T20:12:00.701Z"
   },
   {
    "duration": 5,
    "start_time": "2024-08-04T20:12:01.093Z"
   },
   {
    "duration": 80,
    "start_time": "2024-08-04T20:12:01.667Z"
   },
   {
    "duration": 5,
    "start_time": "2024-08-04T20:12:01.934Z"
   },
   {
    "duration": 7,
    "start_time": "2024-08-04T20:12:06.805Z"
   },
   {
    "duration": 26299,
    "start_time": "2024-08-04T20:12:06.982Z"
   },
   {
    "duration": 3,
    "start_time": "2024-08-04T20:12:33.283Z"
   },
   {
    "duration": 1979,
    "start_time": "2024-08-04T20:12:33.287Z"
   },
   {
    "duration": 4,
    "start_time": "2024-08-04T20:12:35.268Z"
   },
   {
    "duration": 14,
    "start_time": "2024-08-04T20:12:35.274Z"
   },
   {
    "duration": 17160,
    "start_time": "2024-08-04T20:12:35.290Z"
   },
   {
    "duration": 86,
    "start_time": "2024-08-04T20:12:52.452Z"
   },
   {
    "duration": 14,
    "start_time": "2024-08-04T20:12:52.539Z"
   },
   {
    "duration": 4,
    "start_time": "2024-08-04T20:12:52.555Z"
   },
   {
    "duration": 9961,
    "start_time": "2024-08-04T20:12:52.561Z"
   },
   {
    "duration": 4,
    "start_time": "2024-08-04T20:13:02.523Z"
   },
   {
    "duration": 131,
    "start_time": "2024-08-04T20:13:02.529Z"
   },
   {
    "duration": 61,
    "start_time": "2024-08-04T20:13:02.661Z"
   },
   {
    "duration": 27,
    "start_time": "2024-08-04T20:13:02.723Z"
   },
   {
    "duration": 37,
    "start_time": "2024-08-04T20:13:02.753Z"
   },
   {
    "duration": 460,
    "start_time": "2024-08-04T20:13:02.792Z"
   },
   {
    "duration": 138,
    "start_time": "2024-08-04T20:13:03.254Z"
   },
   {
    "duration": 11,
    "start_time": "2024-08-04T20:13:39.539Z"
   },
   {
    "duration": 1388,
    "start_time": "2024-08-04T20:16:02.934Z"
   },
   {
    "duration": 5,
    "start_time": "2024-08-04T20:16:04.324Z"
   },
   {
    "duration": 61,
    "start_time": "2024-08-04T20:16:04.330Z"
   },
   {
    "duration": 47,
    "start_time": "2024-08-04T20:16:04.393Z"
   },
   {
    "duration": 3,
    "start_time": "2024-08-04T20:16:04.442Z"
   },
   {
    "duration": 4,
    "start_time": "2024-08-04T20:16:04.447Z"
   },
   {
    "duration": 6,
    "start_time": "2024-08-04T20:16:04.452Z"
   },
   {
    "duration": 79,
    "start_time": "2024-08-04T20:16:04.459Z"
   },
   {
    "duration": 2,
    "start_time": "2024-08-04T20:16:04.540Z"
   },
   {
    "duration": 29,
    "start_time": "2024-08-04T20:16:04.543Z"
   },
   {
    "duration": 5,
    "start_time": "2024-08-04T20:16:04.573Z"
   },
   {
    "duration": 6,
    "start_time": "2024-08-04T20:16:04.579Z"
   },
   {
    "duration": 4,
    "start_time": "2024-08-04T20:16:04.586Z"
   },
   {
    "duration": 8,
    "start_time": "2024-08-04T20:16:04.592Z"
   },
   {
    "duration": 232,
    "start_time": "2024-08-04T20:16:04.601Z"
   },
   {
    "duration": 7,
    "start_time": "2024-08-04T20:16:04.837Z"
   },
   {
    "duration": 200,
    "start_time": "2024-08-04T20:16:04.846Z"
   },
   {
    "duration": 252,
    "start_time": "2024-08-04T20:16:05.047Z"
   },
   {
    "duration": 137,
    "start_time": "2024-08-04T20:16:05.300Z"
   },
   {
    "duration": 200,
    "start_time": "2024-08-04T20:16:05.439Z"
   },
   {
    "duration": 141,
    "start_time": "2024-08-04T20:16:05.640Z"
   },
   {
    "duration": 150,
    "start_time": "2024-08-04T20:16:05.783Z"
   },
   {
    "duration": 2,
    "start_time": "2024-08-04T20:16:05.938Z"
   },
   {
    "duration": 27,
    "start_time": "2024-08-04T20:16:05.942Z"
   },
   {
    "duration": 4,
    "start_time": "2024-08-04T20:16:05.970Z"
   },
   {
    "duration": 10,
    "start_time": "2024-08-04T20:16:05.976Z"
   },
   {
    "duration": 150,
    "start_time": "2024-08-04T20:16:05.988Z"
   },
   {
    "duration": 12,
    "start_time": "2024-08-04T20:16:06.139Z"
   },
   {
    "duration": 13,
    "start_time": "2024-08-04T20:16:06.152Z"
   },
   {
    "duration": 27294,
    "start_time": "2024-08-04T20:16:06.166Z"
   },
   {
    "duration": 4,
    "start_time": "2024-08-04T20:16:33.462Z"
   },
   {
    "duration": 1901,
    "start_time": "2024-08-04T20:16:33.467Z"
   },
   {
    "duration": 5,
    "start_time": "2024-08-04T20:16:35.369Z"
   },
   {
    "duration": 6,
    "start_time": "2024-08-04T20:16:35.375Z"
   },
   {
    "duration": 18464,
    "start_time": "2024-08-04T20:16:35.382Z"
   },
   {
    "duration": 3,
    "start_time": "2024-08-04T20:16:53.848Z"
   },
   {
    "duration": 89,
    "start_time": "2024-08-04T20:16:53.853Z"
   },
   {
    "duration": 6,
    "start_time": "2024-08-04T20:16:53.943Z"
   },
   {
    "duration": 10187,
    "start_time": "2024-08-04T20:16:53.950Z"
   },
   {
    "duration": 4,
    "start_time": "2024-08-04T20:17:04.138Z"
   },
   {
    "duration": 28,
    "start_time": "2024-08-04T20:17:04.146Z"
   },
   {
    "duration": 7,
    "start_time": "2024-08-04T20:17:04.176Z"
   },
   {
    "duration": 20,
    "start_time": "2024-08-04T20:17:04.184Z"
   },
   {
    "duration": 9,
    "start_time": "2024-08-04T20:17:04.205Z"
   },
   {
    "duration": 371,
    "start_time": "2024-08-04T20:17:04.215Z"
   },
   {
    "duration": 51,
    "start_time": "2024-08-04T20:17:04.588Z"
   },
   {
    "duration": 6,
    "start_time": "2024-08-04T20:17:04.640Z"
   },
   {
    "duration": 4,
    "start_time": "2024-08-05T05:21:41.830Z"
   },
   {
    "duration": 120,
    "start_time": "2024-08-05T06:01:49.027Z"
   },
   {
    "duration": 4,
    "start_time": "2024-08-05T06:01:54.936Z"
   },
   {
    "duration": 5,
    "start_time": "2024-08-05T06:01:57.366Z"
   },
   {
    "duration": 3,
    "start_time": "2024-08-05T06:01:57.538Z"
   },
   {
    "duration": 4,
    "start_time": "2024-08-05T06:01:57.656Z"
   },
   {
    "duration": 3,
    "start_time": "2024-08-05T06:01:57.786Z"
   },
   {
    "duration": 4,
    "start_time": "2024-08-05T06:01:57.917Z"
   },
   {
    "duration": 2,
    "start_time": "2024-08-05T06:01:58.559Z"
   },
   {
    "duration": 71,
    "start_time": "2024-08-05T06:01:58.563Z"
   },
   {
    "duration": 3,
    "start_time": "2024-08-05T06:01:58.636Z"
   },
   {
    "duration": 20,
    "start_time": "2024-08-05T06:01:58.737Z"
   },
   {
    "duration": 5,
    "start_time": "2024-08-05T06:01:59.174Z"
   },
   {
    "duration": 6,
    "start_time": "2024-08-05T06:01:59.605Z"
   },
   {
    "duration": 4,
    "start_time": "2024-08-05T06:01:59.754Z"
   },
   {
    "duration": 8,
    "start_time": "2024-08-05T06:02:00.017Z"
   },
   {
    "duration": 314,
    "start_time": "2024-08-05T06:02:01.056Z"
   },
   {
    "duration": 10,
    "start_time": "2024-08-05T06:02:01.544Z"
   },
   {
    "duration": 200,
    "start_time": "2024-08-05T06:02:01.686Z"
   },
   {
    "duration": 194,
    "start_time": "2024-08-05T06:02:01.888Z"
   },
   {
    "duration": 140,
    "start_time": "2024-08-05T06:02:02.084Z"
   },
   {
    "duration": 211,
    "start_time": "2024-08-05T06:02:02.226Z"
   },
   {
    "duration": 145,
    "start_time": "2024-08-05T06:02:02.439Z"
   },
   {
    "duration": 205,
    "start_time": "2024-08-05T06:02:02.586Z"
   },
   {
    "duration": 11,
    "start_time": "2024-08-05T06:02:04.545Z"
   },
   {
    "duration": 4,
    "start_time": "2024-08-05T06:02:35.065Z"
   },
   {
    "duration": 3,
    "start_time": "2024-08-05T06:02:41.786Z"
   },
   {
    "duration": 3,
    "start_time": "2024-08-05T06:03:13.474Z"
   },
   {
    "duration": 1481,
    "start_time": "2024-08-05T06:15:27.109Z"
   },
   {
    "duration": 4,
    "start_time": "2024-08-05T06:15:28.592Z"
   },
   {
    "duration": 3,
    "start_time": "2024-08-05T06:15:28.598Z"
   },
   {
    "duration": 4,
    "start_time": "2024-08-05T06:15:28.603Z"
   },
   {
    "duration": 4,
    "start_time": "2024-08-05T06:15:28.608Z"
   },
   {
    "duration": 13,
    "start_time": "2024-08-05T06:15:28.613Z"
   },
   {
    "duration": 18,
    "start_time": "2024-08-05T06:15:28.627Z"
   },
   {
    "duration": 84,
    "start_time": "2024-08-05T06:15:28.646Z"
   },
   {
    "duration": 3,
    "start_time": "2024-08-05T06:15:28.731Z"
   },
   {
    "duration": 29,
    "start_time": "2024-08-05T06:15:28.736Z"
   },
   {
    "duration": 5,
    "start_time": "2024-08-05T06:15:28.766Z"
   },
   {
    "duration": 14,
    "start_time": "2024-08-05T06:15:28.772Z"
   },
   {
    "duration": 7,
    "start_time": "2024-08-05T06:15:28.787Z"
   },
   {
    "duration": 9,
    "start_time": "2024-08-05T06:15:28.796Z"
   },
   {
    "duration": 214,
    "start_time": "2024-08-05T06:15:28.806Z"
   },
   {
    "duration": 7,
    "start_time": "2024-08-05T06:15:29.021Z"
   },
   {
    "duration": 214,
    "start_time": "2024-08-05T06:15:29.029Z"
   },
   {
    "duration": 255,
    "start_time": "2024-08-05T06:15:29.244Z"
   },
   {
    "duration": 136,
    "start_time": "2024-08-05T06:15:29.501Z"
   },
   {
    "duration": 199,
    "start_time": "2024-08-05T06:15:29.639Z"
   },
   {
    "duration": 140,
    "start_time": "2024-08-05T06:15:29.840Z"
   },
   {
    "duration": 158,
    "start_time": "2024-08-05T06:15:29.982Z"
   },
   {
    "duration": 3,
    "start_time": "2024-08-05T06:15:30.142Z"
   },
   {
    "duration": 132,
    "start_time": "2024-08-05T06:15:30.146Z"
   },
   {
    "duration": 92,
    "start_time": "2024-08-05T06:15:30.280Z"
   },
   {
    "duration": 85,
    "start_time": "2024-08-05T06:15:30.374Z"
   },
   {
    "duration": 206,
    "start_time": "2024-08-05T06:15:30.461Z"
   },
   {
    "duration": 125,
    "start_time": "2024-08-05T06:15:30.739Z"
   },
   {
    "duration": 47,
    "start_time": "2024-08-05T06:15:30.865Z"
   },
   {
    "duration": 147,
    "start_time": "2024-08-05T06:15:30.913Z"
   },
   {
    "duration": 0,
    "start_time": "2024-08-05T06:15:31.061Z"
   },
   {
    "duration": 0,
    "start_time": "2024-08-05T06:15:31.062Z"
   },
   {
    "duration": 0,
    "start_time": "2024-08-05T06:15:31.063Z"
   },
   {
    "duration": 0,
    "start_time": "2024-08-05T06:15:31.064Z"
   },
   {
    "duration": 0,
    "start_time": "2024-08-05T06:15:31.065Z"
   },
   {
    "duration": 0,
    "start_time": "2024-08-05T06:15:31.066Z"
   },
   {
    "duration": 0,
    "start_time": "2024-08-05T06:15:31.067Z"
   },
   {
    "duration": 0,
    "start_time": "2024-08-05T06:15:31.068Z"
   },
   {
    "duration": 0,
    "start_time": "2024-08-05T06:15:31.069Z"
   },
   {
    "duration": 0,
    "start_time": "2024-08-05T06:15:31.070Z"
   },
   {
    "duration": 0,
    "start_time": "2024-08-05T06:15:31.071Z"
   },
   {
    "duration": 0,
    "start_time": "2024-08-05T06:15:31.071Z"
   },
   {
    "duration": 0,
    "start_time": "2024-08-05T06:15:31.072Z"
   },
   {
    "duration": 0,
    "start_time": "2024-08-05T06:15:31.073Z"
   },
   {
    "duration": 0,
    "start_time": "2024-08-05T06:15:31.074Z"
   },
   {
    "duration": 0,
    "start_time": "2024-08-05T06:15:31.075Z"
   },
   {
    "duration": 0,
    "start_time": "2024-08-05T06:15:31.076Z"
   },
   {
    "duration": 1447,
    "start_time": "2024-08-05T06:15:42.825Z"
   },
   {
    "duration": 5,
    "start_time": "2024-08-05T06:15:44.274Z"
   },
   {
    "duration": 9,
    "start_time": "2024-08-05T06:15:44.280Z"
   },
   {
    "duration": 4,
    "start_time": "2024-08-05T06:15:44.290Z"
   },
   {
    "duration": 7,
    "start_time": "2024-08-05T06:15:44.296Z"
   },
   {
    "duration": 4,
    "start_time": "2024-08-05T06:15:44.304Z"
   },
   {
    "duration": 4,
    "start_time": "2024-08-05T06:15:44.310Z"
   },
   {
    "duration": 76,
    "start_time": "2024-08-05T06:15:44.338Z"
   },
   {
    "duration": 2,
    "start_time": "2024-08-05T06:15:44.416Z"
   },
   {
    "duration": 32,
    "start_time": "2024-08-05T06:15:44.420Z"
   },
   {
    "duration": 5,
    "start_time": "2024-08-05T06:15:44.453Z"
   },
   {
    "duration": 7,
    "start_time": "2024-08-05T06:15:44.460Z"
   },
   {
    "duration": 4,
    "start_time": "2024-08-05T06:15:44.469Z"
   },
   {
    "duration": 8,
    "start_time": "2024-08-05T06:15:44.474Z"
   },
   {
    "duration": 232,
    "start_time": "2024-08-05T06:15:44.483Z"
   },
   {
    "duration": 6,
    "start_time": "2024-08-05T06:15:44.717Z"
   },
   {
    "duration": 200,
    "start_time": "2024-08-05T06:15:44.724Z"
   },
   {
    "duration": 256,
    "start_time": "2024-08-05T06:15:44.925Z"
   },
   {
    "duration": 141,
    "start_time": "2024-08-05T06:15:45.183Z"
   },
   {
    "duration": 217,
    "start_time": "2024-08-05T06:15:45.325Z"
   },
   {
    "duration": 154,
    "start_time": "2024-08-05T06:15:45.543Z"
   },
   {
    "duration": 152,
    "start_time": "2024-08-05T06:15:45.699Z"
   },
   {
    "duration": 3,
    "start_time": "2024-08-05T06:15:45.853Z"
   },
   {
    "duration": 52,
    "start_time": "2024-08-05T06:15:45.858Z"
   },
   {
    "duration": 4,
    "start_time": "2024-08-05T06:15:45.911Z"
   },
   {
    "duration": 80,
    "start_time": "2024-08-05T06:15:45.916Z"
   },
   {
    "duration": 27,
    "start_time": "2024-08-05T06:15:45.998Z"
   },
   {
    "duration": 8,
    "start_time": "2024-08-05T06:15:46.031Z"
   },
   {
    "duration": 103,
    "start_time": "2024-08-05T06:15:46.041Z"
   },
   {
    "duration": 25996,
    "start_time": "2024-08-05T06:15:46.237Z"
   },
   {
    "duration": 3,
    "start_time": "2024-08-05T06:16:12.234Z"
   },
   {
    "duration": 1882,
    "start_time": "2024-08-05T06:16:12.238Z"
   },
   {
    "duration": 4,
    "start_time": "2024-08-05T06:16:14.121Z"
   },
   {
    "duration": 25,
    "start_time": "2024-08-05T06:16:14.127Z"
   },
   {
    "duration": 152,
    "start_time": "2024-08-05T06:16:14.153Z"
   },
   {
    "duration": 0,
    "start_time": "2024-08-05T06:16:14.306Z"
   },
   {
    "duration": 0,
    "start_time": "2024-08-05T06:16:14.308Z"
   },
   {
    "duration": 0,
    "start_time": "2024-08-05T06:16:14.309Z"
   },
   {
    "duration": 0,
    "start_time": "2024-08-05T06:16:14.310Z"
   },
   {
    "duration": 0,
    "start_time": "2024-08-05T06:16:14.311Z"
   },
   {
    "duration": 0,
    "start_time": "2024-08-05T06:16:14.311Z"
   },
   {
    "duration": 0,
    "start_time": "2024-08-05T06:16:14.312Z"
   },
   {
    "duration": 0,
    "start_time": "2024-08-05T06:16:14.313Z"
   },
   {
    "duration": 0,
    "start_time": "2024-08-05T06:16:14.314Z"
   },
   {
    "duration": 0,
    "start_time": "2024-08-05T06:16:14.316Z"
   },
   {
    "duration": 0,
    "start_time": "2024-08-05T06:16:14.317Z"
   },
   {
    "duration": 0,
    "start_time": "2024-08-05T06:16:14.318Z"
   },
   {
    "duration": 1517,
    "start_time": "2024-08-05T06:16:24.870Z"
   },
   {
    "duration": 5,
    "start_time": "2024-08-05T06:16:26.388Z"
   },
   {
    "duration": 4,
    "start_time": "2024-08-05T06:16:26.394Z"
   },
   {
    "duration": 5,
    "start_time": "2024-08-05T06:16:26.400Z"
   },
   {
    "duration": 7,
    "start_time": "2024-08-05T06:16:26.406Z"
   },
   {
    "duration": 4,
    "start_time": "2024-08-05T06:16:26.415Z"
   },
   {
    "duration": 21,
    "start_time": "2024-08-05T06:16:26.420Z"
   },
   {
    "duration": 89,
    "start_time": "2024-08-05T06:16:26.442Z"
   },
   {
    "duration": 2,
    "start_time": "2024-08-05T06:16:26.533Z"
   },
   {
    "duration": 29,
    "start_time": "2024-08-05T06:16:26.537Z"
   },
   {
    "duration": 5,
    "start_time": "2024-08-05T06:16:26.567Z"
   },
   {
    "duration": 7,
    "start_time": "2024-08-05T06:16:26.574Z"
   },
   {
    "duration": 7,
    "start_time": "2024-08-05T06:16:26.582Z"
   },
   {
    "duration": 14,
    "start_time": "2024-08-05T06:16:26.590Z"
   },
   {
    "duration": 236,
    "start_time": "2024-08-05T06:16:26.605Z"
   },
   {
    "duration": 9,
    "start_time": "2024-08-05T06:16:26.843Z"
   },
   {
    "duration": 214,
    "start_time": "2024-08-05T06:16:26.853Z"
   },
   {
    "duration": 272,
    "start_time": "2024-08-05T06:16:27.069Z"
   },
   {
    "duration": 146,
    "start_time": "2024-08-05T06:16:27.343Z"
   },
   {
    "duration": 215,
    "start_time": "2024-08-05T06:16:27.491Z"
   },
   {
    "duration": 135,
    "start_time": "2024-08-05T06:16:27.707Z"
   },
   {
    "duration": 178,
    "start_time": "2024-08-05T06:16:27.845Z"
   },
   {
    "duration": 4,
    "start_time": "2024-08-05T06:16:28.025Z"
   },
   {
    "duration": 51,
    "start_time": "2024-08-05T06:16:28.037Z"
   },
   {
    "duration": 3,
    "start_time": "2024-08-05T06:16:28.090Z"
   },
   {
    "duration": 62,
    "start_time": "2024-08-05T06:16:28.095Z"
   },
   {
    "duration": 81,
    "start_time": "2024-08-05T06:16:28.158Z"
   },
   {
    "duration": 94,
    "start_time": "2024-08-05T06:16:28.244Z"
   },
   {
    "duration": 9,
    "start_time": "2024-08-05T06:16:28.340Z"
   },
   {
    "duration": 23234,
    "start_time": "2024-08-05T06:16:28.351Z"
   },
   {
    "duration": 3,
    "start_time": "2024-08-05T06:16:51.587Z"
   },
   {
    "duration": 560,
    "start_time": "2024-08-05T06:16:51.591Z"
   },
   {
    "duration": 4,
    "start_time": "2024-08-05T06:16:52.153Z"
   },
   {
    "duration": 45,
    "start_time": "2024-08-05T06:16:52.158Z"
   },
   {
    "duration": 137,
    "start_time": "2024-08-05T06:16:52.204Z"
   },
   {
    "duration": 0,
    "start_time": "2024-08-05T06:16:52.343Z"
   },
   {
    "duration": 0,
    "start_time": "2024-08-05T06:16:52.344Z"
   },
   {
    "duration": 0,
    "start_time": "2024-08-05T06:16:52.345Z"
   },
   {
    "duration": 0,
    "start_time": "2024-08-05T06:16:52.346Z"
   },
   {
    "duration": 0,
    "start_time": "2024-08-05T06:16:52.347Z"
   },
   {
    "duration": 0,
    "start_time": "2024-08-05T06:16:52.348Z"
   },
   {
    "duration": 0,
    "start_time": "2024-08-05T06:16:52.349Z"
   },
   {
    "duration": 0,
    "start_time": "2024-08-05T06:16:52.350Z"
   },
   {
    "duration": 0,
    "start_time": "2024-08-05T06:16:52.351Z"
   },
   {
    "duration": 0,
    "start_time": "2024-08-05T06:16:52.352Z"
   },
   {
    "duration": 0,
    "start_time": "2024-08-05T06:16:52.353Z"
   },
   {
    "duration": 0,
    "start_time": "2024-08-05T06:16:52.354Z"
   },
   {
    "duration": 26063,
    "start_time": "2024-08-05T06:17:05.186Z"
   },
   {
    "duration": 3,
    "start_time": "2024-08-05T06:17:31.251Z"
   },
   {
    "duration": 85,
    "start_time": "2024-08-05T06:17:31.255Z"
   },
   {
    "duration": 87,
    "start_time": "2024-08-05T06:17:31.342Z"
   },
   {
    "duration": 10,
    "start_time": "2024-08-05T06:18:09.641Z"
   },
   {
    "duration": 8,
    "start_time": "2024-08-05T06:18:09.789Z"
   },
   {
    "duration": 9,
    "start_time": "2024-08-05T06:18:09.963Z"
   },
   {
    "duration": 7496,
    "start_time": "2024-08-05T06:18:14.859Z"
   },
   {
    "duration": 3,
    "start_time": "2024-08-05T06:18:22.357Z"
   },
   {
    "duration": 10,
    "start_time": "2024-08-05T06:18:22.361Z"
   },
   {
    "duration": 12,
    "start_time": "2024-08-05T06:18:22.373Z"
   },
   {
    "duration": 10,
    "start_time": "2024-08-05T06:18:27.963Z"
   },
   {
    "duration": 2,
    "start_time": "2024-08-05T06:18:32.738Z"
   },
   {
    "duration": 413,
    "start_time": "2024-08-05T06:18:33.946Z"
   },
   {
    "duration": 10,
    "start_time": "2024-08-05T06:18:34.622Z"
   },
   {
    "duration": 23,
    "start_time": "2024-08-05T06:25:49.507Z"
   },
   {
    "duration": 2,
    "start_time": "2024-08-05T06:25:56.940Z"
   },
   {
    "duration": 4,
    "start_time": "2024-08-05T06:26:06.755Z"
   },
   {
    "duration": 3,
    "start_time": "2024-08-05T06:26:31.348Z"
   },
   {
    "duration": 4,
    "start_time": "2024-08-05T06:26:32.303Z"
   },
   {
    "duration": 50571,
    "start_time": "2024-08-05T06:26:38.879Z"
   },
   {
    "duration": 3,
    "start_time": "2024-08-05T06:27:29.452Z"
   },
   {
    "duration": 83,
    "start_time": "2024-08-05T06:27:29.456Z"
   },
   {
    "duration": 24,
    "start_time": "2024-08-05T06:27:29.542Z"
   },
   {
    "duration": 4,
    "start_time": "2024-08-05T06:27:36.447Z"
   },
   {
    "duration": 5,
    "start_time": "2024-08-05T06:27:39.474Z"
   },
   {
    "duration": 64,
    "start_time": "2024-08-05T06:29:06.020Z"
   },
   {
    "duration": 58,
    "start_time": "2024-08-05T06:32:21.479Z"
   },
   {
    "duration": 5,
    "start_time": "2024-08-05T06:32:22.117Z"
   },
   {
    "duration": 3,
    "start_time": "2024-08-05T06:32:26.109Z"
   },
   {
    "duration": 28,
    "start_time": "2024-08-05T06:32:26.699Z"
   },
   {
    "duration": 4,
    "start_time": "2024-08-05T06:32:26.854Z"
   },
   {
    "duration": 5,
    "start_time": "2024-08-05T06:32:27.824Z"
   },
   {
    "duration": 13,
    "start_time": "2024-08-05T06:32:28.829Z"
   },
   {
    "duration": 4,
    "start_time": "2024-08-05T06:32:29.223Z"
   },
   {
    "duration": 5,
    "start_time": "2024-08-05T06:32:30.006Z"
   },
   {
    "duration": 24060,
    "start_time": "2024-08-05T06:32:30.384Z"
   },
   {
    "duration": 4,
    "start_time": "2024-08-05T06:32:54.446Z"
   },
   {
    "duration": 663,
    "start_time": "2024-08-05T06:32:54.451Z"
   },
   {
    "duration": 3,
    "start_time": "2024-08-05T06:32:55.116Z"
   },
   {
    "duration": 44,
    "start_time": "2024-08-05T06:32:55.120Z"
   },
   {
    "duration": 23878,
    "start_time": "2024-08-05T06:32:55.166Z"
   },
   {
    "duration": 3,
    "start_time": "2024-08-05T06:33:19.046Z"
   },
   {
    "duration": 92,
    "start_time": "2024-08-05T06:33:19.050Z"
   },
   {
    "duration": 5,
    "start_time": "2024-08-05T06:33:19.144Z"
   },
   {
    "duration": 7518,
    "start_time": "2024-08-05T06:33:19.152Z"
   },
   {
    "duration": 3,
    "start_time": "2024-08-05T06:33:26.672Z"
   },
   {
    "duration": 28,
    "start_time": "2024-08-05T06:33:26.677Z"
   },
   {
    "duration": 26,
    "start_time": "2024-08-05T06:33:26.707Z"
   },
   {
    "duration": 10,
    "start_time": "2024-08-05T06:34:28.193Z"
   },
   {
    "duration": 4,
    "start_time": "2024-08-05T06:41:31.907Z"
   },
   {
    "duration": 28,
    "start_time": "2024-08-05T06:41:32.158Z"
   },
   {
    "duration": 4,
    "start_time": "2024-08-05T06:41:32.719Z"
   },
   {
    "duration": 5,
    "start_time": "2024-08-05T06:41:33.453Z"
   },
   {
    "duration": 12,
    "start_time": "2024-08-05T06:41:34.575Z"
   },
   {
    "duration": 5,
    "start_time": "2024-08-05T06:41:34.826Z"
   },
   {
    "duration": 5,
    "start_time": "2024-08-05T06:41:35.672Z"
   },
   {
    "duration": 23593,
    "start_time": "2024-08-05T06:41:36.056Z"
   },
   {
    "duration": 3,
    "start_time": "2024-08-05T06:41:59.650Z"
   },
   {
    "duration": 729,
    "start_time": "2024-08-05T06:41:59.654Z"
   },
   {
    "duration": 3,
    "start_time": "2024-08-05T06:42:00.385Z"
   },
   {
    "duration": 36,
    "start_time": "2024-08-05T06:42:00.390Z"
   },
   {
    "duration": 4,
    "start_time": "2024-08-05T06:42:26.487Z"
   },
   {
    "duration": 25600,
    "start_time": "2024-08-05T06:42:32.053Z"
   },
   {
    "duration": 4,
    "start_time": "2024-08-05T06:42:57.738Z"
   },
   {
    "duration": 10,
    "start_time": "2024-08-05T06:42:57.743Z"
   },
   {
    "duration": 26480,
    "start_time": "2024-08-05T06:43:09.167Z"
   },
   {
    "duration": 3,
    "start_time": "2024-08-05T06:43:35.649Z"
   },
   {
    "duration": 85,
    "start_time": "2024-08-05T06:43:35.653Z"
   },
   {
    "duration": 16,
    "start_time": "2024-08-05T06:43:35.740Z"
   },
   {
    "duration": 4,
    "start_time": "2024-08-05T06:43:43.910Z"
   },
   {
    "duration": 7827,
    "start_time": "2024-08-05T06:44:01.967Z"
   },
   {
    "duration": 4,
    "start_time": "2024-08-05T06:44:09.796Z"
   },
   {
    "duration": 13,
    "start_time": "2024-08-05T06:44:09.801Z"
   },
   {
    "duration": 5,
    "start_time": "2024-08-05T06:44:10.883Z"
   },
   {
    "duration": 9,
    "start_time": "2024-08-05T06:44:17.564Z"
   },
   {
    "duration": 4,
    "start_time": "2024-08-05T20:18:23.259Z"
   }
  ],
  "kernelspec": {
   "display_name": "Python 3 (ipykernel)",
   "language": "python",
   "name": "python3"
  },
  "language_info": {
   "codemirror_mode": {
    "name": "ipython",
    "version": 3
   },
   "file_extension": ".py",
   "mimetype": "text/x-python",
   "name": "python",
   "nbconvert_exporter": "python",
   "pygments_lexer": "ipython3",
   "version": "3.9.5"
  },
  "toc": {
   "base_numbering": 1,
   "nav_menu": {},
   "number_sections": true,
   "sideBar": true,
   "skip_h1_title": true,
   "title_cell": "Содержание",
   "title_sidebar": "Contents",
   "toc_cell": true,
   "toc_position": {},
   "toc_section_display": true,
   "toc_window_display": false
  }
 },
 "nbformat": 4,
 "nbformat_minor": 2
}
