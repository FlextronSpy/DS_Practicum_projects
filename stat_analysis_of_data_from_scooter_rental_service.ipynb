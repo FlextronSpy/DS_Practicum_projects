{
 "cells": [
  {
   "cell_type": "markdown",
   "id": "a16c385b",
   "metadata": {},
   "source": [
    "# Статистический анализ данных сервиса аренды самокатов GoFast"
   ]
  },
  {
   "cell_type": "markdown",
   "id": "33a340a1",
   "metadata": {},
   "source": [
    "**Заголовок:** Статистический анализ данных сервиса аренды самокатов GoFast.\n",
    "\n",
    "**Описание проекта:**\n",
    "Сервис аренды самокатов GoFast предлагает пользователям возможность аренды самокатов для передвижения по городу. Сервис предоставляет информацию о доступности самокатов, их местоположении, стоимости аренды и других параметрах. Анализ данных поможет нам выяснить, насколько прибылен или убыточен сервис.\n",
    "\n",
    "**Цель исследования:**\n",
    "Целью исследования является анализ данных сервиса GoFast для выявления тенденций и закономерностей в использовании самокатов. Исследование направлено на определение популярности сервиса, времени использования самокатов, проверке гипотез, а также других параметров, которые могут быть полезны для развития сервиса и улучшения качества обслуживания пользователей.\n",
    "\n",
    "**Ход исследования:**\n",
    "Исследование включает в себя следующие этапы:\n",
    "\n",
    "    - Подготовка данных на представленных датасетах (информация о пользователе, его поездках, тип подписки);\n",
    "    - Исследовательский анализ данных о пользователях, о длине и времени поездке, типе подписки и пр\n",
    "    - Объединение данных, сделав более подробный датасет о пользователе, а также отдельный датасет о выручке по каждому пользователю по месяцам. \n",
    "    - Статистический анализ данных. Проверка гипотез по средней продолжительности поездки пользователя, пройденном расстоянии, помесячной выручки пользователя от типа подписки. \n",
    "    - Интерпретация результатов анализа и формулирование выводов.\n",
    "\n",
    "**Общий вывод:**\n",
    "С помощью данного исследования мы можем выявить платежоспособную аудиторию, узнать, сколько в среднем выручки нам приносит один пользователь, а также в каком направлении двигаться по улучшению подписочной системы."
   ]
  },
  {
   "cell_type": "markdown",
   "id": "daca6d43",
   "metadata": {},
   "source": [
    "Содержание\n",
    "1. [Загрузка данных](#1) \n",
    "2. [Предобработка данных](#2) \n",
    "3. [Исследовательский анализ данных](#3) \n",
    "4. [Объединение данных](#4) \n",
    "5. [Подсчёт выручки](#5) \n",
    "6. [Проверка гипотез](#6) \n",
    "7. [Вывод исследования](#7) "
   ]
  },
  {
   "cell_type": "markdown",
   "id": "c42cbe00",
   "metadata": {},
   "source": [
    "<a id=\"1\"></a> \n",
    "#### Загрузка данных"
   ]
  },
  {
   "cell_type": "code",
   "execution_count": 1,
   "id": "85e3d9c4",
   "metadata": {},
   "outputs": [],
   "source": [
    "from scipy import stats as st\n",
    "from math import factorial\n",
    "import pandas as pd\n",
    "import matplotlib.pyplot as plt\n",
    "import numpy as np"
   ]
  },
  {
   "cell_type": "markdown",
   "id": "01955087",
   "metadata": {},
   "source": [
    "**Пользователи**"
   ]
  },
  {
   "cell_type": "code",
   "execution_count": 2,
   "id": "eff9f206",
   "metadata": {
    "scrolled": false
   },
   "outputs": [
    {
     "name": "stdout",
     "output_type": "stream",
     "text": [
      "<class 'pandas.core.frame.DataFrame'>\n",
      "RangeIndex: 1565 entries, 0 to 1564\n",
      "Data columns (total 5 columns):\n",
      " #   Column             Non-Null Count  Dtype \n",
      "---  ------             --------------  ----- \n",
      " 0   user_id            1565 non-null   int64 \n",
      " 1   name               1565 non-null   object\n",
      " 2   age                1565 non-null   int64 \n",
      " 3   city               1565 non-null   object\n",
      " 4   subscription_type  1565 non-null   object\n",
      "dtypes: int64(2), object(3)\n",
      "memory usage: 61.3+ KB\n"
     ]
    }
   ],
   "source": [
    "users_go = pd.read_csv('/datasets/users_go.csv')\n",
    "users_go.info()"
   ]
  },
  {
   "cell_type": "code",
   "execution_count": 3,
   "id": "4042c74d",
   "metadata": {
    "scrolled": false
   },
   "outputs": [
    {
     "data": {
      "text/html": [
       "<div>\n",
       "<style scoped>\n",
       "    .dataframe tbody tr th:only-of-type {\n",
       "        vertical-align: middle;\n",
       "    }\n",
       "\n",
       "    .dataframe tbody tr th {\n",
       "        vertical-align: top;\n",
       "    }\n",
       "\n",
       "    .dataframe thead th {\n",
       "        text-align: right;\n",
       "    }\n",
       "</style>\n",
       "<table border=\"1\" class=\"dataframe\">\n",
       "  <thead>\n",
       "    <tr style=\"text-align: right;\">\n",
       "      <th></th>\n",
       "      <th>user_id</th>\n",
       "      <th>name</th>\n",
       "      <th>age</th>\n",
       "      <th>city</th>\n",
       "      <th>subscription_type</th>\n",
       "    </tr>\n",
       "  </thead>\n",
       "  <tbody>\n",
       "    <tr>\n",
       "      <th>0</th>\n",
       "      <td>1</td>\n",
       "      <td>Кира</td>\n",
       "      <td>22</td>\n",
       "      <td>Тюмень</td>\n",
       "      <td>ultra</td>\n",
       "    </tr>\n",
       "    <tr>\n",
       "      <th>1</th>\n",
       "      <td>2</td>\n",
       "      <td>Станислав</td>\n",
       "      <td>31</td>\n",
       "      <td>Омск</td>\n",
       "      <td>ultra</td>\n",
       "    </tr>\n",
       "    <tr>\n",
       "      <th>2</th>\n",
       "      <td>3</td>\n",
       "      <td>Алексей</td>\n",
       "      <td>20</td>\n",
       "      <td>Москва</td>\n",
       "      <td>ultra</td>\n",
       "    </tr>\n",
       "    <tr>\n",
       "      <th>3</th>\n",
       "      <td>4</td>\n",
       "      <td>Константин</td>\n",
       "      <td>26</td>\n",
       "      <td>Ростов-на-Дону</td>\n",
       "      <td>ultra</td>\n",
       "    </tr>\n",
       "    <tr>\n",
       "      <th>4</th>\n",
       "      <td>5</td>\n",
       "      <td>Адель</td>\n",
       "      <td>28</td>\n",
       "      <td>Омск</td>\n",
       "      <td>ultra</td>\n",
       "    </tr>\n",
       "    <tr>\n",
       "      <th>5</th>\n",
       "      <td>6</td>\n",
       "      <td>Регина</td>\n",
       "      <td>25</td>\n",
       "      <td>Краснодар</td>\n",
       "      <td>ultra</td>\n",
       "    </tr>\n",
       "    <tr>\n",
       "      <th>6</th>\n",
       "      <td>7</td>\n",
       "      <td>Игорь</td>\n",
       "      <td>23</td>\n",
       "      <td>Омск</td>\n",
       "      <td>ultra</td>\n",
       "    </tr>\n",
       "    <tr>\n",
       "      <th>7</th>\n",
       "      <td>8</td>\n",
       "      <td>Юрий</td>\n",
       "      <td>23</td>\n",
       "      <td>Краснодар</td>\n",
       "      <td>ultra</td>\n",
       "    </tr>\n",
       "    <tr>\n",
       "      <th>8</th>\n",
       "      <td>9</td>\n",
       "      <td>Ян</td>\n",
       "      <td>21</td>\n",
       "      <td>Пятигорск</td>\n",
       "      <td>ultra</td>\n",
       "    </tr>\n",
       "    <tr>\n",
       "      <th>9</th>\n",
       "      <td>10</td>\n",
       "      <td>Валерий</td>\n",
       "      <td>18</td>\n",
       "      <td>Екатеринбург</td>\n",
       "      <td>ultra</td>\n",
       "    </tr>\n",
       "  </tbody>\n",
       "</table>\n",
       "</div>"
      ],
      "text/plain": [
       "   user_id        name  age            city subscription_type\n",
       "0        1        Кира   22          Тюмень             ultra\n",
       "1        2   Станислав   31            Омск             ultra\n",
       "2        3     Алексей   20          Москва             ultra\n",
       "3        4  Константин   26  Ростов-на-Дону             ultra\n",
       "4        5       Адель   28            Омск             ultra\n",
       "5        6      Регина   25       Краснодар             ultra\n",
       "6        7       Игорь   23            Омск             ultra\n",
       "7        8        Юрий   23       Краснодар             ultra\n",
       "8        9          Ян   21       Пятигорск             ultra\n",
       "9       10     Валерий   18    Екатеринбург             ultra"
      ]
     },
     "execution_count": 3,
     "metadata": {},
     "output_type": "execute_result"
    }
   ],
   "source": [
    "users_go.head(10)"
   ]
  },
  {
   "cell_type": "markdown",
   "id": "b0f6f984",
   "metadata": {},
   "source": [
    "- user_id\tуникальный идентификатор пользователя\n",
    "- name\tимя пользователя\n",
    "- age\tвозраст\n",
    "- city\tгород\n",
    "- subscription_type\tтип подписки (free, ultra)"
   ]
  },
  {
   "cell_type": "markdown",
   "id": "65247c56",
   "metadata": {},
   "source": [
    "**Поездки**"
   ]
  },
  {
   "cell_type": "code",
   "execution_count": 4,
   "id": "161b56da",
   "metadata": {},
   "outputs": [
    {
     "name": "stdout",
     "output_type": "stream",
     "text": [
      "<class 'pandas.core.frame.DataFrame'>\n",
      "RangeIndex: 18068 entries, 0 to 18067\n",
      "Data columns (total 4 columns):\n",
      " #   Column    Non-Null Count  Dtype  \n",
      "---  ------    --------------  -----  \n",
      " 0   user_id   18068 non-null  int64  \n",
      " 1   distance  18068 non-null  float64\n",
      " 2   duration  18068 non-null  float64\n",
      " 3   date      18068 non-null  object \n",
      "dtypes: float64(2), int64(1), object(1)\n",
      "memory usage: 564.8+ KB\n"
     ]
    }
   ],
   "source": [
    "rides_go = pd.read_csv('/datasets/rides_go.csv')\n",
    "rides_go.info()"
   ]
  },
  {
   "cell_type": "code",
   "execution_count": 5,
   "id": "7dbf7c7f",
   "metadata": {},
   "outputs": [
    {
     "data": {
      "text/html": [
       "<div>\n",
       "<style scoped>\n",
       "    .dataframe tbody tr th:only-of-type {\n",
       "        vertical-align: middle;\n",
       "    }\n",
       "\n",
       "    .dataframe tbody tr th {\n",
       "        vertical-align: top;\n",
       "    }\n",
       "\n",
       "    .dataframe thead th {\n",
       "        text-align: right;\n",
       "    }\n",
       "</style>\n",
       "<table border=\"1\" class=\"dataframe\">\n",
       "  <thead>\n",
       "    <tr style=\"text-align: right;\">\n",
       "      <th></th>\n",
       "      <th>user_id</th>\n",
       "      <th>distance</th>\n",
       "      <th>duration</th>\n",
       "      <th>date</th>\n",
       "    </tr>\n",
       "  </thead>\n",
       "  <tbody>\n",
       "    <tr>\n",
       "      <th>0</th>\n",
       "      <td>1</td>\n",
       "      <td>4409.919140</td>\n",
       "      <td>25.599769</td>\n",
       "      <td>2021-01-01</td>\n",
       "    </tr>\n",
       "    <tr>\n",
       "      <th>1</th>\n",
       "      <td>1</td>\n",
       "      <td>2617.592153</td>\n",
       "      <td>15.816871</td>\n",
       "      <td>2021-01-18</td>\n",
       "    </tr>\n",
       "    <tr>\n",
       "      <th>2</th>\n",
       "      <td>1</td>\n",
       "      <td>754.159807</td>\n",
       "      <td>6.232113</td>\n",
       "      <td>2021-04-20</td>\n",
       "    </tr>\n",
       "    <tr>\n",
       "      <th>3</th>\n",
       "      <td>1</td>\n",
       "      <td>2694.783254</td>\n",
       "      <td>18.511000</td>\n",
       "      <td>2021-08-11</td>\n",
       "    </tr>\n",
       "    <tr>\n",
       "      <th>4</th>\n",
       "      <td>1</td>\n",
       "      <td>4028.687306</td>\n",
       "      <td>26.265803</td>\n",
       "      <td>2021-08-28</td>\n",
       "    </tr>\n",
       "    <tr>\n",
       "      <th>5</th>\n",
       "      <td>1</td>\n",
       "      <td>2770.890808</td>\n",
       "      <td>16.650138</td>\n",
       "      <td>2021-10-09</td>\n",
       "    </tr>\n",
       "    <tr>\n",
       "      <th>6</th>\n",
       "      <td>1</td>\n",
       "      <td>3039.020292</td>\n",
       "      <td>14.927879</td>\n",
       "      <td>2021-10-19</td>\n",
       "    </tr>\n",
       "    <tr>\n",
       "      <th>7</th>\n",
       "      <td>1</td>\n",
       "      <td>2842.118050</td>\n",
       "      <td>23.117468</td>\n",
       "      <td>2021-11-06</td>\n",
       "    </tr>\n",
       "    <tr>\n",
       "      <th>8</th>\n",
       "      <td>1</td>\n",
       "      <td>3412.690668</td>\n",
       "      <td>15.238072</td>\n",
       "      <td>2021-11-14</td>\n",
       "    </tr>\n",
       "    <tr>\n",
       "      <th>9</th>\n",
       "      <td>1</td>\n",
       "      <td>748.690645</td>\n",
       "      <td>15.041884</td>\n",
       "      <td>2021-11-22</td>\n",
       "    </tr>\n",
       "  </tbody>\n",
       "</table>\n",
       "</div>"
      ],
      "text/plain": [
       "   user_id     distance   duration        date\n",
       "0        1  4409.919140  25.599769  2021-01-01\n",
       "1        1  2617.592153  15.816871  2021-01-18\n",
       "2        1   754.159807   6.232113  2021-04-20\n",
       "3        1  2694.783254  18.511000  2021-08-11\n",
       "4        1  4028.687306  26.265803  2021-08-28\n",
       "5        1  2770.890808  16.650138  2021-10-09\n",
       "6        1  3039.020292  14.927879  2021-10-19\n",
       "7        1  2842.118050  23.117468  2021-11-06\n",
       "8        1  3412.690668  15.238072  2021-11-14\n",
       "9        1   748.690645  15.041884  2021-11-22"
      ]
     },
     "execution_count": 5,
     "metadata": {},
     "output_type": "execute_result"
    }
   ],
   "source": [
    "rides_go.head(10)"
   ]
  },
  {
   "cell_type": "markdown",
   "id": "47b0727b",
   "metadata": {},
   "source": [
    "- user_id\tуникальный идентификатор пользователя\n",
    "- distance\tрасстояние, которое пользователь проехал в текущей сессии (в метрах)\n",
    "- duration\tпродолжительность сессии (в минутах) — время с того момента, как пользователь нажал кнопку «Начать поездку» до момента, как он нажал кнопку «Завершить поездку»\n",
    "- date\tдата совершения поездки"
   ]
  },
  {
   "cell_type": "markdown",
   "id": "7d2bf964",
   "metadata": {},
   "source": [
    "**Подписки**"
   ]
  },
  {
   "cell_type": "code",
   "execution_count": 6,
   "id": "2ebcec1f",
   "metadata": {
    "scrolled": false
   },
   "outputs": [
    {
     "name": "stdout",
     "output_type": "stream",
     "text": [
      "<class 'pandas.core.frame.DataFrame'>\n",
      "RangeIndex: 2 entries, 0 to 1\n",
      "Data columns (total 4 columns):\n",
      " #   Column             Non-Null Count  Dtype \n",
      "---  ------             --------------  ----- \n",
      " 0   subscription_type  2 non-null      object\n",
      " 1   minute_price       2 non-null      int64 \n",
      " 2   start_ride_price   2 non-null      int64 \n",
      " 3   subscription_fee   2 non-null      int64 \n",
      "dtypes: int64(3), object(1)\n",
      "memory usage: 192.0+ bytes\n"
     ]
    }
   ],
   "source": [
    "subscriptions_go = pd.read_csv('/datasets/subscriptions_go.csv')\n",
    "subscriptions_go.info()"
   ]
  },
  {
   "cell_type": "code",
   "execution_count": 7,
   "id": "d44052dd",
   "metadata": {},
   "outputs": [
    {
     "data": {
      "text/html": [
       "<div>\n",
       "<style scoped>\n",
       "    .dataframe tbody tr th:only-of-type {\n",
       "        vertical-align: middle;\n",
       "    }\n",
       "\n",
       "    .dataframe tbody tr th {\n",
       "        vertical-align: top;\n",
       "    }\n",
       "\n",
       "    .dataframe thead th {\n",
       "        text-align: right;\n",
       "    }\n",
       "</style>\n",
       "<table border=\"1\" class=\"dataframe\">\n",
       "  <thead>\n",
       "    <tr style=\"text-align: right;\">\n",
       "      <th></th>\n",
       "      <th>subscription_type</th>\n",
       "      <th>minute_price</th>\n",
       "      <th>start_ride_price</th>\n",
       "      <th>subscription_fee</th>\n",
       "    </tr>\n",
       "  </thead>\n",
       "  <tbody>\n",
       "    <tr>\n",
       "      <th>0</th>\n",
       "      <td>free</td>\n",
       "      <td>8</td>\n",
       "      <td>50</td>\n",
       "      <td>0</td>\n",
       "    </tr>\n",
       "    <tr>\n",
       "      <th>1</th>\n",
       "      <td>ultra</td>\n",
       "      <td>6</td>\n",
       "      <td>0</td>\n",
       "      <td>199</td>\n",
       "    </tr>\n",
       "  </tbody>\n",
       "</table>\n",
       "</div>"
      ],
      "text/plain": [
       "  subscription_type  minute_price  start_ride_price  subscription_fee\n",
       "0              free             8                50                 0\n",
       "1             ultra             6                 0               199"
      ]
     },
     "execution_count": 7,
     "metadata": {},
     "output_type": "execute_result"
    }
   ],
   "source": [
    "subscriptions_go.head(2)"
   ]
  },
  {
   "cell_type": "markdown",
   "id": "31c09857",
   "metadata": {},
   "source": [
    "- subscription_type\tтип подписки\n",
    "- minute_price\tстоимость одной минуты поездки по данной подписке\n",
    "- start_ride_price\tстоимость начала поездки\n",
    "- subscription_fee\tстоимость ежемесячного платежа"
   ]
  },
  {
   "cell_type": "markdown",
   "id": "e7ab19cd",
   "metadata": {},
   "source": [
    "**Вывод:** мы предзагрузили данные, сразу видно, что пропусков нет, настало время их проверить на наличие аномалий и дубликатов."
   ]
  },
  {
   "cell_type": "markdown",
   "id": "e95ebca7",
   "metadata": {},
   "source": [
    "<a id=\"2\"></a> \n",
    "#### Предобработка данных"
   ]
  },
  {
   "cell_type": "markdown",
   "id": "d338b86c",
   "metadata": {},
   "source": [
    "Для начала изменим тип столбца поездки date на формат Datetime:"
   ]
  },
  {
   "cell_type": "code",
   "execution_count": 8,
   "id": "6a22924e",
   "metadata": {},
   "outputs": [],
   "source": [
    "rides_go['date'] = pd.to_datetime(\n",
    "    rides_go['date'], format='%Y-%m-%d')"
   ]
  },
  {
   "cell_type": "markdown",
   "id": "94ba60fb",
   "metadata": {},
   "source": [
    "Перепроверим, за какой период у нас данные о поездках"
   ]
  },
  {
   "cell_type": "code",
   "execution_count": 9,
   "id": "a81862a0",
   "metadata": {
    "scrolled": true
   },
   "outputs": [
    {
     "data": {
      "text/plain": [
       "Timestamp('2021-01-01 00:00:00')"
      ]
     },
     "execution_count": 9,
     "metadata": {},
     "output_type": "execute_result"
    }
   ],
   "source": [
    "rides_go['date'].min()"
   ]
  },
  {
   "cell_type": "code",
   "execution_count": 10,
   "id": "9914481f",
   "metadata": {
    "scrolled": true
   },
   "outputs": [
    {
     "data": {
      "text/plain": [
       "Timestamp('2021-12-30 00:00:00')"
      ]
     },
     "execution_count": 10,
     "metadata": {},
     "output_type": "execute_result"
    }
   ],
   "source": [
    "rides_go['date'].max()"
   ]
  },
  {
   "cell_type": "markdown",
   "id": "38dd3e1f",
   "metadata": {},
   "source": [
    "Данные о поездках у нас за весь 2021 год. Данные при анализе по месяцам \"не склеются\" и будет видно общую картину за год.\n",
    "Добавим столбец номера месяца для дальнейшего исследования.\n"
   ]
  },
  {
   "cell_type": "code",
   "execution_count": 11,
   "id": "69e636fc",
   "metadata": {},
   "outputs": [],
   "source": [
    "rides_go['date_month'] = pd.DatetimeIndex(rides_go['date']).month"
   ]
  },
  {
   "cell_type": "markdown",
   "id": "169b7877",
   "metadata": {},
   "source": [
    "Округлим значения расстояния и длительности поездки до 1 знака после запятой."
   ]
  },
  {
   "cell_type": "code",
   "execution_count": 12,
   "id": "ade15696",
   "metadata": {},
   "outputs": [],
   "source": [
    "rides_go['distance'] = rides_go['distance'].round(1)"
   ]
  },
  {
   "cell_type": "code",
   "execution_count": 13,
   "id": "a7be7dfb",
   "metadata": {},
   "outputs": [],
   "source": [
    "rides_go['duration'] = rides_go['duration'].round(1)"
   ]
  },
  {
   "cell_type": "markdown",
   "id": "6674e70b",
   "metadata": {},
   "source": [
    "Проверим на явные дубликаты."
   ]
  },
  {
   "cell_type": "code",
   "execution_count": 14,
   "id": "a951b5a3",
   "metadata": {},
   "outputs": [
    {
     "data": {
      "text/plain": [
       "31"
      ]
     },
     "execution_count": 14,
     "metadata": {},
     "output_type": "execute_result"
    }
   ],
   "source": [
    "users_go.duplicated().sum()"
   ]
  },
  {
   "cell_type": "markdown",
   "id": "db403837",
   "metadata": {},
   "source": [
    "Избавимся от них"
   ]
  },
  {
   "cell_type": "code",
   "execution_count": 15,
   "id": "2d751377",
   "metadata": {},
   "outputs": [
    {
     "data": {
      "text/plain": [
       "0"
      ]
     },
     "execution_count": 15,
     "metadata": {},
     "output_type": "execute_result"
    }
   ],
   "source": [
    "users_go = users_go.drop_duplicates()\n",
    "users_go.duplicated().sum()"
   ]
  },
  {
   "cell_type": "code",
   "execution_count": 16,
   "id": "0c33ea72",
   "metadata": {},
   "outputs": [
    {
     "data": {
      "text/plain": [
       "0"
      ]
     },
     "execution_count": 16,
     "metadata": {},
     "output_type": "execute_result"
    }
   ],
   "source": [
    "rides_go.duplicated().sum()"
   ]
  },
  {
   "cell_type": "markdown",
   "id": "74e6b7f9",
   "metadata": {},
   "source": [
    "Явных дубликатов в данных по поездкам нет."
   ]
  },
  {
   "cell_type": "markdown",
   "id": "0238c82c",
   "metadata": {},
   "source": [
    "Проверим на неявные дубликаты"
   ]
  },
  {
   "cell_type": "code",
   "execution_count": 17,
   "id": "393249f7",
   "metadata": {
    "scrolled": true
   },
   "outputs": [
    {
     "data": {
      "text/plain": [
       "array(['Тюмень', 'Омск', 'Москва', 'Ростов-на-Дону', 'Краснодар',\n",
       "       'Пятигорск', 'Екатеринбург', 'Сочи'], dtype=object)"
      ]
     },
     "execution_count": 17,
     "metadata": {},
     "output_type": "execute_result"
    }
   ],
   "source": [
    "users_go['city'].unique()"
   ]
  },
  {
   "cell_type": "markdown",
   "id": "c7bd225d",
   "metadata": {},
   "source": [
    "Неявных дубликатов нет."
   ]
  },
  {
   "cell_type": "markdown",
   "id": "bd72abda",
   "metadata": {},
   "source": [
    "Проверим на аномальные значения столбец пользователей."
   ]
  },
  {
   "cell_type": "code",
   "execution_count": 18,
   "id": "06af5254",
   "metadata": {
    "scrolled": false
   },
   "outputs": [
    {
     "data": {
      "text/html": [
       "<div>\n",
       "<style scoped>\n",
       "    .dataframe tbody tr th:only-of-type {\n",
       "        vertical-align: middle;\n",
       "    }\n",
       "\n",
       "    .dataframe tbody tr th {\n",
       "        vertical-align: top;\n",
       "    }\n",
       "\n",
       "    .dataframe thead th {\n",
       "        text-align: right;\n",
       "    }\n",
       "</style>\n",
       "<table border=\"1\" class=\"dataframe\">\n",
       "  <thead>\n",
       "    <tr style=\"text-align: right;\">\n",
       "      <th></th>\n",
       "      <th>user_id</th>\n",
       "      <th>age</th>\n",
       "    </tr>\n",
       "  </thead>\n",
       "  <tbody>\n",
       "    <tr>\n",
       "      <th>count</th>\n",
       "      <td>1534.000000</td>\n",
       "      <td>1534.000000</td>\n",
       "    </tr>\n",
       "    <tr>\n",
       "      <th>mean</th>\n",
       "      <td>767.500000</td>\n",
       "      <td>24.903520</td>\n",
       "    </tr>\n",
       "    <tr>\n",
       "      <th>std</th>\n",
       "      <td>442.971971</td>\n",
       "      <td>4.572367</td>\n",
       "    </tr>\n",
       "    <tr>\n",
       "      <th>min</th>\n",
       "      <td>1.000000</td>\n",
       "      <td>12.000000</td>\n",
       "    </tr>\n",
       "    <tr>\n",
       "      <th>25%</th>\n",
       "      <td>384.250000</td>\n",
       "      <td>22.000000</td>\n",
       "    </tr>\n",
       "    <tr>\n",
       "      <th>50%</th>\n",
       "      <td>767.500000</td>\n",
       "      <td>25.000000</td>\n",
       "    </tr>\n",
       "    <tr>\n",
       "      <th>75%</th>\n",
       "      <td>1150.750000</td>\n",
       "      <td>28.000000</td>\n",
       "    </tr>\n",
       "    <tr>\n",
       "      <th>max</th>\n",
       "      <td>1534.000000</td>\n",
       "      <td>43.000000</td>\n",
       "    </tr>\n",
       "  </tbody>\n",
       "</table>\n",
       "</div>"
      ],
      "text/plain": [
       "           user_id          age\n",
       "count  1534.000000  1534.000000\n",
       "mean    767.500000    24.903520\n",
       "std     442.971971     4.572367\n",
       "min       1.000000    12.000000\n",
       "25%     384.250000    22.000000\n",
       "50%     767.500000    25.000000\n",
       "75%    1150.750000    28.000000\n",
       "max    1534.000000    43.000000"
      ]
     },
     "execution_count": 18,
     "metadata": {},
     "output_type": "execute_result"
    }
   ],
   "source": [
    "users_go.describe()"
   ]
  },
  {
   "cell_type": "markdown",
   "id": "88c67aeb",
   "metadata": {},
   "source": [
    "Здесь все в порядке. Единственное, что смущает, так это пользователь 12 лет. Но это вопрос к разработчикам - с какого возраста возможна регистрация пользователя."
   ]
  },
  {
   "cell_type": "markdown",
   "id": "eaa41a53",
   "metadata": {},
   "source": [
    "Проверим на аномальные значения столбец поездок."
   ]
  },
  {
   "cell_type": "code",
   "execution_count": 19,
   "id": "45520b6f",
   "metadata": {
    "scrolled": true
   },
   "outputs": [
    {
     "data": {
      "text/html": [
       "<div>\n",
       "<style scoped>\n",
       "    .dataframe tbody tr th:only-of-type {\n",
       "        vertical-align: middle;\n",
       "    }\n",
       "\n",
       "    .dataframe tbody tr th {\n",
       "        vertical-align: top;\n",
       "    }\n",
       "\n",
       "    .dataframe thead th {\n",
       "        text-align: right;\n",
       "    }\n",
       "</style>\n",
       "<table border=\"1\" class=\"dataframe\">\n",
       "  <thead>\n",
       "    <tr style=\"text-align: right;\">\n",
       "      <th></th>\n",
       "      <th>user_id</th>\n",
       "      <th>distance</th>\n",
       "      <th>duration</th>\n",
       "      <th>date_month</th>\n",
       "    </tr>\n",
       "  </thead>\n",
       "  <tbody>\n",
       "    <tr>\n",
       "      <th>count</th>\n",
       "      <td>18068.000000</td>\n",
       "      <td>18068.000000</td>\n",
       "      <td>18068.000000</td>\n",
       "      <td>18068.000000</td>\n",
       "    </tr>\n",
       "    <tr>\n",
       "      <th>mean</th>\n",
       "      <td>842.869936</td>\n",
       "      <td>3070.659841</td>\n",
       "      <td>17.804920</td>\n",
       "      <td>6.486772</td>\n",
       "    </tr>\n",
       "    <tr>\n",
       "      <th>std</th>\n",
       "      <td>434.734317</td>\n",
       "      <td>1116.831106</td>\n",
       "      <td>6.091365</td>\n",
       "      <td>3.437410</td>\n",
       "    </tr>\n",
       "    <tr>\n",
       "      <th>min</th>\n",
       "      <td>1.000000</td>\n",
       "      <td>0.900000</td>\n",
       "      <td>0.500000</td>\n",
       "      <td>1.000000</td>\n",
       "    </tr>\n",
       "    <tr>\n",
       "      <th>25%</th>\n",
       "      <td>487.000000</td>\n",
       "      <td>2543.200000</td>\n",
       "      <td>13.600000</td>\n",
       "      <td>4.000000</td>\n",
       "    </tr>\n",
       "    <tr>\n",
       "      <th>50%</th>\n",
       "      <td>889.000000</td>\n",
       "      <td>3133.600000</td>\n",
       "      <td>17.700000</td>\n",
       "      <td>6.000000</td>\n",
       "    </tr>\n",
       "    <tr>\n",
       "      <th>75%</th>\n",
       "      <td>1213.250000</td>\n",
       "      <td>3776.225000</td>\n",
       "      <td>21.700000</td>\n",
       "      <td>9.000000</td>\n",
       "    </tr>\n",
       "    <tr>\n",
       "      <th>max</th>\n",
       "      <td>1534.000000</td>\n",
       "      <td>7211.000000</td>\n",
       "      <td>40.800000</td>\n",
       "      <td>12.000000</td>\n",
       "    </tr>\n",
       "  </tbody>\n",
       "</table>\n",
       "</div>"
      ],
      "text/plain": [
       "            user_id      distance      duration    date_month\n",
       "count  18068.000000  18068.000000  18068.000000  18068.000000\n",
       "mean     842.869936   3070.659841     17.804920      6.486772\n",
       "std      434.734317   1116.831106      6.091365      3.437410\n",
       "min        1.000000      0.900000      0.500000      1.000000\n",
       "25%      487.000000   2543.200000     13.600000      4.000000\n",
       "50%      889.000000   3133.600000     17.700000      6.000000\n",
       "75%     1213.250000   3776.225000     21.700000      9.000000\n",
       "max     1534.000000   7211.000000     40.800000     12.000000"
      ]
     },
     "execution_count": 19,
     "metadata": {},
     "output_type": "execute_result"
    }
   ],
   "source": [
    "rides_go.describe()"
   ]
  },
  {
   "cell_type": "markdown",
   "id": "ea4810c0",
   "metadata": {},
   "source": [
    "Странное значение длительности поездок. Выберем несколько строк, длительность аренды которая меньше 2 мин и рассмотрим их"
   ]
  },
  {
   "cell_type": "code",
   "execution_count": 20,
   "id": "557842c3",
   "metadata": {
    "scrolled": true
   },
   "outputs": [
    {
     "data": {
      "text/html": [
       "<div>\n",
       "<style scoped>\n",
       "    .dataframe tbody tr th:only-of-type {\n",
       "        vertical-align: middle;\n",
       "    }\n",
       "\n",
       "    .dataframe tbody tr th {\n",
       "        vertical-align: top;\n",
       "    }\n",
       "\n",
       "    .dataframe thead th {\n",
       "        text-align: right;\n",
       "    }\n",
       "</style>\n",
       "<table border=\"1\" class=\"dataframe\">\n",
       "  <thead>\n",
       "    <tr style=\"text-align: right;\">\n",
       "      <th></th>\n",
       "      <th>user_id</th>\n",
       "      <th>distance</th>\n",
       "      <th>duration</th>\n",
       "      <th>date</th>\n",
       "      <th>date_month</th>\n",
       "    </tr>\n",
       "  </thead>\n",
       "  <tbody>\n",
       "    <tr>\n",
       "      <th>6531</th>\n",
       "      <td>701</td>\n",
       "      <td>4196.4</td>\n",
       "      <td>0.5</td>\n",
       "      <td>2021-08-31</td>\n",
       "      <td>8</td>\n",
       "    </tr>\n",
       "    <tr>\n",
       "      <th>6570</th>\n",
       "      <td>704</td>\n",
       "      <td>4830.8</td>\n",
       "      <td>0.5</td>\n",
       "      <td>2021-10-14</td>\n",
       "      <td>10</td>\n",
       "    </tr>\n",
       "    <tr>\n",
       "      <th>6680</th>\n",
       "      <td>712</td>\n",
       "      <td>4684.0</td>\n",
       "      <td>0.5</td>\n",
       "      <td>2021-03-04</td>\n",
       "      <td>3</td>\n",
       "    </tr>\n",
       "    <tr>\n",
       "      <th>6695</th>\n",
       "      <td>713</td>\n",
       "      <td>5215.6</td>\n",
       "      <td>0.5</td>\n",
       "      <td>2021-02-25</td>\n",
       "      <td>2</td>\n",
       "    </tr>\n",
       "    <tr>\n",
       "      <th>6768</th>\n",
       "      <td>718</td>\n",
       "      <td>5197.4</td>\n",
       "      <td>0.5</td>\n",
       "      <td>2021-02-11</td>\n",
       "      <td>2</td>\n",
       "    </tr>\n",
       "    <tr>\n",
       "      <th>...</th>\n",
       "      <td>...</td>\n",
       "      <td>...</td>\n",
       "      <td>...</td>\n",
       "      <td>...</td>\n",
       "      <td>...</td>\n",
       "    </tr>\n",
       "    <tr>\n",
       "      <th>17004</th>\n",
       "      <td>1460</td>\n",
       "      <td>5531.3</td>\n",
       "      <td>0.5</td>\n",
       "      <td>2021-01-19</td>\n",
       "      <td>1</td>\n",
       "    </tr>\n",
       "    <tr>\n",
       "      <th>17242</th>\n",
       "      <td>1477</td>\n",
       "      <td>6724.9</td>\n",
       "      <td>0.5</td>\n",
       "      <td>2021-01-12</td>\n",
       "      <td>1</td>\n",
       "    </tr>\n",
       "    <tr>\n",
       "      <th>17314</th>\n",
       "      <td>1483</td>\n",
       "      <td>4445.5</td>\n",
       "      <td>0.5</td>\n",
       "      <td>2021-03-06</td>\n",
       "      <td>3</td>\n",
       "    </tr>\n",
       "    <tr>\n",
       "      <th>17505</th>\n",
       "      <td>1496</td>\n",
       "      <td>5722.6</td>\n",
       "      <td>0.5</td>\n",
       "      <td>2021-02-14</td>\n",
       "      <td>2</td>\n",
       "    </tr>\n",
       "    <tr>\n",
       "      <th>17909</th>\n",
       "      <td>1524</td>\n",
       "      <td>4104.0</td>\n",
       "      <td>0.5</td>\n",
       "      <td>2021-06-18</td>\n",
       "      <td>6</td>\n",
       "    </tr>\n",
       "  </tbody>\n",
       "</table>\n",
       "<p>95 rows × 5 columns</p>\n",
       "</div>"
      ],
      "text/plain": [
       "       user_id  distance  duration       date  date_month\n",
       "6531       701    4196.4       0.5 2021-08-31           8\n",
       "6570       704    4830.8       0.5 2021-10-14          10\n",
       "6680       712    4684.0       0.5 2021-03-04           3\n",
       "6695       713    5215.6       0.5 2021-02-25           2\n",
       "6768       718    5197.4       0.5 2021-02-11           2\n",
       "...        ...       ...       ...        ...         ...\n",
       "17004     1460    5531.3       0.5 2021-01-19           1\n",
       "17242     1477    6724.9       0.5 2021-01-12           1\n",
       "17314     1483    4445.5       0.5 2021-03-06           3\n",
       "17505     1496    5722.6       0.5 2021-02-14           2\n",
       "17909     1524    4104.0       0.5 2021-06-18           6\n",
       "\n",
       "[95 rows x 5 columns]"
      ]
     },
     "execution_count": 20,
     "metadata": {},
     "output_type": "execute_result"
    }
   ],
   "source": [
    "rides_go.query('duration < 2')"
   ]
  },
  {
   "cell_type": "markdown",
   "id": "7c57394e",
   "metadata": {},
   "source": [
    "95 значений с слишком низким временем поездки и аномально большим количеством метров, пройденное за короткое время. Удалять их не будем, т.к. за эти поездки оплата была получена и так мы потеряем важные данные. Лучше выяснить проблему у разработчиков."
   ]
  },
  {
   "cell_type": "markdown",
   "id": "f18e15a0",
   "metadata": {},
   "source": [
    "**Вывод:** мы предобработали данные, избавившись от явных дубликатов, аномальных значений, и добавив таблицу с номером месяца для дальнейшего исследования."
   ]
  },
  {
   "cell_type": "markdown",
   "id": "212593c7",
   "metadata": {},
   "source": [
    "<a id=\"3\"></a> \n",
    "#### Исследовательский анализ данных"
   ]
  },
  {
   "cell_type": "markdown",
   "id": "6d96ce26",
   "metadata": {},
   "source": [
    "Опишите и визуализируйте общую информацию о пользователях и поездках:\n",
    "3.4 расстояние, которое пользователь преодолел за одну поездку;\n",
    "3.5 продолжительность поездок."
   ]
  },
  {
   "cell_type": "markdown",
   "id": "73d78daf",
   "metadata": {},
   "source": [
    "Исследуем, насколько часто встречаются города в датасете:"
   ]
  },
  {
   "cell_type": "code",
   "execution_count": 21,
   "id": "90b7ca3c",
   "metadata": {},
   "outputs": [
    {
     "data": {
      "text/html": [
       "<div>\n",
       "<style scoped>\n",
       "    .dataframe tbody tr th:only-of-type {\n",
       "        vertical-align: middle;\n",
       "    }\n",
       "\n",
       "    .dataframe tbody tr th {\n",
       "        vertical-align: top;\n",
       "    }\n",
       "\n",
       "    .dataframe thead th {\n",
       "        text-align: right;\n",
       "    }\n",
       "</style>\n",
       "<table border=\"1\" class=\"dataframe\">\n",
       "  <thead>\n",
       "    <tr style=\"text-align: right;\">\n",
       "      <th></th>\n",
       "      <th>user_id</th>\n",
       "    </tr>\n",
       "    <tr>\n",
       "      <th>city</th>\n",
       "      <th></th>\n",
       "    </tr>\n",
       "  </thead>\n",
       "  <tbody>\n",
       "    <tr>\n",
       "      <th>Пятигорск</th>\n",
       "      <td>219</td>\n",
       "    </tr>\n",
       "    <tr>\n",
       "      <th>Екатеринбург</th>\n",
       "      <td>204</td>\n",
       "    </tr>\n",
       "    <tr>\n",
       "      <th>Ростов-на-Дону</th>\n",
       "      <td>198</td>\n",
       "    </tr>\n",
       "    <tr>\n",
       "      <th>Краснодар</th>\n",
       "      <td>193</td>\n",
       "    </tr>\n",
       "    <tr>\n",
       "      <th>Сочи</th>\n",
       "      <td>189</td>\n",
       "    </tr>\n",
       "    <tr>\n",
       "      <th>Омск</th>\n",
       "      <td>183</td>\n",
       "    </tr>\n",
       "    <tr>\n",
       "      <th>Тюмень</th>\n",
       "      <td>180</td>\n",
       "    </tr>\n",
       "    <tr>\n",
       "      <th>Москва</th>\n",
       "      <td>168</td>\n",
       "    </tr>\n",
       "  </tbody>\n",
       "</table>\n",
       "</div>"
      ],
      "text/plain": [
       "                user_id\n",
       "city                   \n",
       "Пятигорск           219\n",
       "Екатеринбург        204\n",
       "Ростов-на-Дону      198\n",
       "Краснодар           193\n",
       "Сочи                189\n",
       "Омск                183\n",
       "Тюмень              180\n",
       "Москва              168"
      ]
     },
     "execution_count": 21,
     "metadata": {},
     "output_type": "execute_result"
    }
   ],
   "source": [
    "users_city_count = users_go.pivot_table(index = 'city', values = 'user_id', aggfunc = 'count').sort_values(by='user_id',ascending=False)\n",
    "users_city_count"
   ]
  },
  {
   "cell_type": "code",
   "execution_count": 22,
   "id": "0f3668a5",
   "metadata": {
    "scrolled": true
   },
   "outputs": [
    {
     "data": {
      "text/plain": [
       "Text(0, 0.5, 'Названия городов')"
      ]
     },
     "execution_count": 22,
     "metadata": {},
     "output_type": "execute_result"
    },
    {
     "data": {
      "image/png": "[encoded data removed]",
      "text/plain": [
       "<Figure size 432x288 with 1 Axes>"
      ]
     },
     "metadata": {
      "needs_background": "light"
     },
     "output_type": "display_data"
    }
   ],
   "source": [
    "(\n",
    "    users_city_count\n",
    "    .plot.barh(title='Частота встречаемости городов') \n",
    ")\n",
    "plt.xlabel('Количество пользователей')\n",
    "plt.ylabel('Названия городов')"
   ]
  },
  {
   "cell_type": "markdown",
   "id": "d600c99b",
   "metadata": {},
   "source": [
    "**Вывод:** Имеются данные по 8 городам, где пользуются приложением. Больше всего зарегестрировано пользователей в Пятигорске. Меньше в Москве. "
   ]
  },
  {
   "cell_type": "code",
   "execution_count": 23,
   "id": "2946751e",
   "metadata": {},
   "outputs": [
    {
     "data": {
      "text/plain": [
       "Text(0, 0.5, '')"
      ]
     },
     "execution_count": 23,
     "metadata": {},
     "output_type": "execute_result"
    },
    {
     "data": {
      "image/png": "[encoded data removed]",
      "text/plain": [
       "<Figure size 432x288 with 1 Axes>"
      ]
     },
     "metadata": {},
     "output_type": "display_data"
    }
   ],
   "source": [
    "(\n",
    "    users_go\n",
    "    .pivot_table(index = 'subscription_type', values = 'user_id', aggfunc = 'count')\n",
    "    .sort_values(by='user_id')\n",
    "    .plot(kind=\"pie\", title='Доля пользователей с подпиской и без', subplots=True, autopct='%1.0f%%')\n",
    ")\n",
    "plt.ylabel('')"
   ]
  },
  {
   "cell_type": "markdown",
   "id": "739043dd",
   "metadata": {},
   "source": [
    "**Вывод:** Больше всего пользователей с бесплатной подпиской, разница составляет 8%."
   ]
  },
  {
   "cell_type": "markdown",
   "id": "00e6908d",
   "metadata": {},
   "source": [
    "Распределение заказов по возрасту пользователей;"
   ]
  },
  {
   "cell_type": "code",
   "execution_count": 24,
   "id": "6f612737",
   "metadata": {
    "scrolled": false
   },
   "outputs": [
    {
     "data": {
      "text/plain": [
       "<AxesSubplot:xlabel='age'>"
      ]
     },
     "execution_count": 24,
     "metadata": {},
     "output_type": "execute_result"
    },
    {
     "data": {
      "image/png": "[encoded data removed]",
      "text/plain": [
       "<Figure size 504x504 with 1 Axes>"
      ]
     },
     "metadata": {
      "needs_background": "light"
     },
     "output_type": "display_data"
    }
   ],
   "source": [
    "(\n",
    "    users_go\n",
    "    .pivot_table(index = 'age', values = 'user_id', aggfunc = 'count')\n",
    "    .plot(kind='bar', figsize=(7,7))\n",
    ")"
   ]
  },
  {
   "cell_type": "markdown",
   "id": "79080390",
   "metadata": {},
   "source": [
    "**Вывод:** Больше всего пользователей студентческого возраста от 21 до 28 лет."
   ]
  },
  {
   "cell_type": "markdown",
   "id": "5574ca5d",
   "metadata": {},
   "source": [
    "Расстояние, которое пользователь преодолел за одну поездку;"
   ]
  },
  {
   "cell_type": "code",
   "execution_count": 25,
   "id": "3c1b71e1",
   "metadata": {
    "scrolled": false
   },
   "outputs": [
    {
     "data": {
      "text/plain": [
       "<AxesSubplot:ylabel='Frequency'>"
      ]
     },
     "execution_count": 25,
     "metadata": {},
     "output_type": "execute_result"
    },
    {
     "data": {
      "image/png": "[encoded data removed]",
      "text/plain": [
       "<Figure size 432x288 with 1 Axes>"
      ]
     },
     "metadata": {
      "needs_background": "light"
     },
     "output_type": "display_data"
    }
   ],
   "source": [
    "rides_go['distance'].plot(kind=\"hist\", bins=70)"
   ]
  },
  {
   "cell_type": "markdown",
   "id": "d68234e8",
   "metadata": {},
   "source": [
    "**Вывод:** Имеется 2 пика - на 500 м и на 3 км. Это может быть связано с тем, что для прогулочной поездки одно расстояние, а для поездки на работу - другое."
   ]
  },
  {
   "cell_type": "code",
   "execution_count": 26,
   "id": "6be71b45",
   "metadata": {
    "scrolled": true
   },
   "outputs": [
    {
     "data": {
      "text/plain": [
       "<AxesSubplot:ylabel='Frequency'>"
      ]
     },
     "execution_count": 26,
     "metadata": {},
     "output_type": "execute_result"
    },
    {
     "data": {
      "image/png": "[encoded data removed]",
      "text/plain": [
       "<Figure size 432x288 with 1 Axes>"
      ]
     },
     "metadata": {
      "needs_background": "light"
     },
     "output_type": "display_data"
    }
   ],
   "source": [
    "rides_go['duration'].plot(kind=\"hist\", bins=40)"
   ]
  },
  {
   "cell_type": "markdown",
   "id": "5a9c6ebd",
   "metadata": {},
   "source": [
    "**Вывод:** Среднее время поездки занимает 15-20 минут, что достаточно для того, чтобы добраться на работу или чтобы прогулятся."
   ]
  },
  {
   "cell_type": "markdown",
   "id": "4ef51331",
   "metadata": {},
   "source": [
    "<a id=\"4\"></a>\n",
    "#### Объединение данных"
   ]
  },
  {
   "cell_type": "markdown",
   "id": "b157a8da",
   "metadata": {},
   "source": [
    "Объединим данные о пользователях, поездках и подписках в один датафрейм."
   ]
  },
  {
   "cell_type": "markdown",
   "id": "10214d0e",
   "metadata": {},
   "source": [
    "Для начала выясним, какой у нас размер датасета по количеству поездок."
   ]
  },
  {
   "cell_type": "code",
   "execution_count": 27,
   "id": "f11b45de",
   "metadata": {
    "scrolled": true
   },
   "outputs": [
    {
     "name": "stdout",
     "output_type": "stream",
     "text": [
      "Количество строк данных о поездках пользователей - 18068\n"
     ]
    }
   ],
   "source": [
    "print(\"Количество строк данных о поездках пользователей -\", len(rides_go))"
   ]
  },
  {
   "cell_type": "markdown",
   "id": "095995be",
   "metadata": {},
   "source": [
    "У нас должна получиться новая таблица с 17973 строками. Объединяем данные."
   ]
  },
  {
   "cell_type": "code",
   "execution_count": 28,
   "id": "ea1bb157",
   "metadata": {
    "scrolled": true
   },
   "outputs": [],
   "source": [
    "data_go = rides_go.merge(users_go, on = 'user_id').merge(subscriptions_go, on = 'subscription_type')"
   ]
  },
  {
   "cell_type": "code",
   "execution_count": 29,
   "id": "26559ea4",
   "metadata": {
    "scrolled": true
   },
   "outputs": [
    {
     "data": {
      "text/html": [
       "<div>\n",
       "<style scoped>\n",
       "    .dataframe tbody tr th:only-of-type {\n",
       "        vertical-align: middle;\n",
       "    }\n",
       "\n",
       "    .dataframe tbody tr th {\n",
       "        vertical-align: top;\n",
       "    }\n",
       "\n",
       "    .dataframe thead th {\n",
       "        text-align: right;\n",
       "    }\n",
       "</style>\n",
       "<table border=\"1\" class=\"dataframe\">\n",
       "  <thead>\n",
       "    <tr style=\"text-align: right;\">\n",
       "      <th></th>\n",
       "      <th>user_id</th>\n",
       "      <th>distance</th>\n",
       "      <th>duration</th>\n",
       "      <th>date</th>\n",
       "      <th>date_month</th>\n",
       "      <th>name</th>\n",
       "      <th>age</th>\n",
       "      <th>city</th>\n",
       "      <th>subscription_type</th>\n",
       "      <th>minute_price</th>\n",
       "      <th>start_ride_price</th>\n",
       "      <th>subscription_fee</th>\n",
       "    </tr>\n",
       "  </thead>\n",
       "  <tbody>\n",
       "    <tr>\n",
       "      <th>0</th>\n",
       "      <td>1</td>\n",
       "      <td>4409.9</td>\n",
       "      <td>25.6</td>\n",
       "      <td>2021-01-01</td>\n",
       "      <td>1</td>\n",
       "      <td>Кира</td>\n",
       "      <td>22</td>\n",
       "      <td>Тюмень</td>\n",
       "      <td>ultra</td>\n",
       "      <td>6</td>\n",
       "      <td>0</td>\n",
       "      <td>199</td>\n",
       "    </tr>\n",
       "    <tr>\n",
       "      <th>1</th>\n",
       "      <td>1</td>\n",
       "      <td>2617.6</td>\n",
       "      <td>15.8</td>\n",
       "      <td>2021-01-18</td>\n",
       "      <td>1</td>\n",
       "      <td>Кира</td>\n",
       "      <td>22</td>\n",
       "      <td>Тюмень</td>\n",
       "      <td>ultra</td>\n",
       "      <td>6</td>\n",
       "      <td>0</td>\n",
       "      <td>199</td>\n",
       "    </tr>\n",
       "    <tr>\n",
       "      <th>2</th>\n",
       "      <td>1</td>\n",
       "      <td>754.2</td>\n",
       "      <td>6.2</td>\n",
       "      <td>2021-04-20</td>\n",
       "      <td>4</td>\n",
       "      <td>Кира</td>\n",
       "      <td>22</td>\n",
       "      <td>Тюмень</td>\n",
       "      <td>ultra</td>\n",
       "      <td>6</td>\n",
       "      <td>0</td>\n",
       "      <td>199</td>\n",
       "    </tr>\n",
       "    <tr>\n",
       "      <th>3</th>\n",
       "      <td>1</td>\n",
       "      <td>2694.8</td>\n",
       "      <td>18.5</td>\n",
       "      <td>2021-08-11</td>\n",
       "      <td>8</td>\n",
       "      <td>Кира</td>\n",
       "      <td>22</td>\n",
       "      <td>Тюмень</td>\n",
       "      <td>ultra</td>\n",
       "      <td>6</td>\n",
       "      <td>0</td>\n",
       "      <td>199</td>\n",
       "    </tr>\n",
       "    <tr>\n",
       "      <th>4</th>\n",
       "      <td>1</td>\n",
       "      <td>4028.7</td>\n",
       "      <td>26.3</td>\n",
       "      <td>2021-08-28</td>\n",
       "      <td>8</td>\n",
       "      <td>Кира</td>\n",
       "      <td>22</td>\n",
       "      <td>Тюмень</td>\n",
       "      <td>ultra</td>\n",
       "      <td>6</td>\n",
       "      <td>0</td>\n",
       "      <td>199</td>\n",
       "    </tr>\n",
       "    <tr>\n",
       "      <th>...</th>\n",
       "      <td>...</td>\n",
       "      <td>...</td>\n",
       "      <td>...</td>\n",
       "      <td>...</td>\n",
       "      <td>...</td>\n",
       "      <td>...</td>\n",
       "      <td>...</td>\n",
       "      <td>...</td>\n",
       "      <td>...</td>\n",
       "      <td>...</td>\n",
       "      <td>...</td>\n",
       "      <td>...</td>\n",
       "    </tr>\n",
       "    <tr>\n",
       "      <th>18063</th>\n",
       "      <td>1534</td>\n",
       "      <td>3781.1</td>\n",
       "      <td>19.8</td>\n",
       "      <td>2021-11-04</td>\n",
       "      <td>11</td>\n",
       "      <td>Альберт</td>\n",
       "      <td>25</td>\n",
       "      <td>Краснодар</td>\n",
       "      <td>free</td>\n",
       "      <td>8</td>\n",
       "      <td>50</td>\n",
       "      <td>0</td>\n",
       "    </tr>\n",
       "    <tr>\n",
       "      <th>18064</th>\n",
       "      <td>1534</td>\n",
       "      <td>2840.4</td>\n",
       "      <td>21.4</td>\n",
       "      <td>2021-11-16</td>\n",
       "      <td>11</td>\n",
       "      <td>Альберт</td>\n",
       "      <td>25</td>\n",
       "      <td>Краснодар</td>\n",
       "      <td>free</td>\n",
       "      <td>8</td>\n",
       "      <td>50</td>\n",
       "      <td>0</td>\n",
       "    </tr>\n",
       "    <tr>\n",
       "      <th>18065</th>\n",
       "      <td>1534</td>\n",
       "      <td>3826.2</td>\n",
       "      <td>18.4</td>\n",
       "      <td>2021-11-18</td>\n",
       "      <td>11</td>\n",
       "      <td>Альберт</td>\n",
       "      <td>25</td>\n",
       "      <td>Краснодар</td>\n",
       "      <td>free</td>\n",
       "      <td>8</td>\n",
       "      <td>50</td>\n",
       "      <td>0</td>\n",
       "    </tr>\n",
       "    <tr>\n",
       "      <th>18066</th>\n",
       "      <td>1534</td>\n",
       "      <td>2902.3</td>\n",
       "      <td>16.7</td>\n",
       "      <td>2021-11-27</td>\n",
       "      <td>11</td>\n",
       "      <td>Альберт</td>\n",
       "      <td>25</td>\n",
       "      <td>Краснодар</td>\n",
       "      <td>free</td>\n",
       "      <td>8</td>\n",
       "      <td>50</td>\n",
       "      <td>0</td>\n",
       "    </tr>\n",
       "    <tr>\n",
       "      <th>18067</th>\n",
       "      <td>1534</td>\n",
       "      <td>2371.7</td>\n",
       "      <td>15.9</td>\n",
       "      <td>2021-12-29</td>\n",
       "      <td>12</td>\n",
       "      <td>Альберт</td>\n",
       "      <td>25</td>\n",
       "      <td>Краснодар</td>\n",
       "      <td>free</td>\n",
       "      <td>8</td>\n",
       "      <td>50</td>\n",
       "      <td>0</td>\n",
       "    </tr>\n",
       "  </tbody>\n",
       "</table>\n",
       "<p>18068 rows × 12 columns</p>\n",
       "</div>"
      ],
      "text/plain": [
       "       user_id  distance  duration       date  date_month     name  age  \\\n",
       "0            1    4409.9      25.6 2021-01-01           1     Кира   22   \n",
       "1            1    2617.6      15.8 2021-01-18           1     Кира   22   \n",
       "2            1     754.2       6.2 2021-04-20           4     Кира   22   \n",
       "3            1    2694.8      18.5 2021-08-11           8     Кира   22   \n",
       "4            1    4028.7      26.3 2021-08-28           8     Кира   22   \n",
       "...        ...       ...       ...        ...         ...      ...  ...   \n",
       "18063     1534    3781.1      19.8 2021-11-04          11  Альберт   25   \n",
       "18064     1534    2840.4      21.4 2021-11-16          11  Альберт   25   \n",
       "18065     1534    3826.2      18.4 2021-11-18          11  Альберт   25   \n",
       "18066     1534    2902.3      16.7 2021-11-27          11  Альберт   25   \n",
       "18067     1534    2371.7      15.9 2021-12-29          12  Альберт   25   \n",
       "\n",
       "            city subscription_type  minute_price  start_ride_price  \\\n",
       "0         Тюмень             ultra             6                 0   \n",
       "1         Тюмень             ultra             6                 0   \n",
       "2         Тюмень             ultra             6                 0   \n",
       "3         Тюмень             ultra             6                 0   \n",
       "4         Тюмень             ultra             6                 0   \n",
       "...          ...               ...           ...               ...   \n",
       "18063  Краснодар              free             8                50   \n",
       "18064  Краснодар              free             8                50   \n",
       "18065  Краснодар              free             8                50   \n",
       "18066  Краснодар              free             8                50   \n",
       "18067  Краснодар              free             8                50   \n",
       "\n",
       "       subscription_fee  \n",
       "0                   199  \n",
       "1                   199  \n",
       "2                   199  \n",
       "3                   199  \n",
       "4                   199  \n",
       "...                 ...  \n",
       "18063                 0  \n",
       "18064                 0  \n",
       "18065                 0  \n",
       "18066                 0  \n",
       "18067                 0  \n",
       "\n",
       "[18068 rows x 12 columns]"
      ]
     },
     "execution_count": 29,
     "metadata": {},
     "output_type": "execute_result"
    }
   ],
   "source": [
    "data_go"
   ]
  },
  {
   "cell_type": "markdown",
   "id": "a53bb355",
   "metadata": {},
   "source": [
    "Перепроверим количество строк в новой таблице."
   ]
  },
  {
   "cell_type": "code",
   "execution_count": 30,
   "id": "4c3c0cbe",
   "metadata": {
    "scrolled": true
   },
   "outputs": [
    {
     "name": "stdout",
     "output_type": "stream",
     "text": [
      "Количество строк данных о поездках пользователей - 18068\n",
      "Количество строк данных нового датасета о поездках пользователей - 18068\n"
     ]
    }
   ],
   "source": [
    "print(\"Количество строк данных о поездках пользователей -\", len(rides_go))\n",
    "print(\"Количество строк данных нового датасета о поездках пользователей -\", len(data_go))"
   ]
  },
  {
   "cell_type": "markdown",
   "id": "b6af2e28",
   "metadata": {},
   "source": [
    "Проверим на пропуски."
   ]
  },
  {
   "cell_type": "code",
   "execution_count": 31,
   "id": "dc15136c",
   "metadata": {
    "scrolled": false
   },
   "outputs": [
    {
     "data": {
      "text/plain": [
       "user_id              18068\n",
       "distance             18068\n",
       "duration             18068\n",
       "date                 18068\n",
       "date_month           18068\n",
       "name                 18068\n",
       "age                  18068\n",
       "city                 18068\n",
       "subscription_type    18068\n",
       "minute_price         18068\n",
       "start_ride_price     18068\n",
       "subscription_fee     18068\n",
       "dtype: int64"
      ]
     },
     "execution_count": 31,
     "metadata": {},
     "output_type": "execute_result"
    }
   ],
   "source": [
    "data_go.isna().count()"
   ]
  },
  {
   "cell_type": "markdown",
   "id": "be0445e0",
   "metadata": {},
   "source": [
    "Пропусков нет"
   ]
  },
  {
   "cell_type": "markdown",
   "id": "4ade99c1",
   "metadata": {},
   "source": [
    "Создадим датафрейм данных с пользователями с подпиской."
   ]
  },
  {
   "cell_type": "code",
   "execution_count": 32,
   "id": "f654ae49",
   "metadata": {},
   "outputs": [],
   "source": [
    "ultra_go = data_go.query('subscription_type == \"ultra\"')"
   ]
  },
  {
   "cell_type": "markdown",
   "id": "201735ef",
   "metadata": {},
   "source": [
    "Также создадим датафрейм данных с пользователями без подписки."
   ]
  },
  {
   "cell_type": "code",
   "execution_count": 33,
   "id": "509855b3",
   "metadata": {},
   "outputs": [],
   "source": [
    "free_go = data_go.query('subscription_type == \"free\"')"
   ]
  },
  {
   "cell_type": "code",
   "execution_count": 34,
   "id": "fa0a2ed4",
   "metadata": {},
   "outputs": [
    {
     "data": {
      "text/html": [
       "<div>\n",
       "<style scoped>\n",
       "    .dataframe tbody tr th:only-of-type {\n",
       "        vertical-align: middle;\n",
       "    }\n",
       "\n",
       "    .dataframe tbody tr th {\n",
       "        vertical-align: top;\n",
       "    }\n",
       "\n",
       "    .dataframe thead th {\n",
       "        text-align: right;\n",
       "    }\n",
       "</style>\n",
       "<table border=\"1\" class=\"dataframe\">\n",
       "  <thead>\n",
       "    <tr style=\"text-align: right;\">\n",
       "      <th></th>\n",
       "      <th>user_id</th>\n",
       "      <th>distance</th>\n",
       "      <th>duration</th>\n",
       "      <th>date</th>\n",
       "      <th>date_month</th>\n",
       "      <th>name</th>\n",
       "      <th>age</th>\n",
       "      <th>city</th>\n",
       "      <th>subscription_type</th>\n",
       "      <th>minute_price</th>\n",
       "      <th>start_ride_price</th>\n",
       "      <th>subscription_fee</th>\n",
       "    </tr>\n",
       "  </thead>\n",
       "  <tbody>\n",
       "    <tr>\n",
       "      <th>0</th>\n",
       "      <td>1</td>\n",
       "      <td>4409.9</td>\n",
       "      <td>25.6</td>\n",
       "      <td>2021-01-01</td>\n",
       "      <td>1</td>\n",
       "      <td>Кира</td>\n",
       "      <td>22</td>\n",
       "      <td>Тюмень</td>\n",
       "      <td>ultra</td>\n",
       "      <td>6</td>\n",
       "      <td>0</td>\n",
       "      <td>199</td>\n",
       "    </tr>\n",
       "    <tr>\n",
       "      <th>1</th>\n",
       "      <td>1</td>\n",
       "      <td>2617.6</td>\n",
       "      <td>15.8</td>\n",
       "      <td>2021-01-18</td>\n",
       "      <td>1</td>\n",
       "      <td>Кира</td>\n",
       "      <td>22</td>\n",
       "      <td>Тюмень</td>\n",
       "      <td>ultra</td>\n",
       "      <td>6</td>\n",
       "      <td>0</td>\n",
       "      <td>199</td>\n",
       "    </tr>\n",
       "    <tr>\n",
       "      <th>2</th>\n",
       "      <td>1</td>\n",
       "      <td>754.2</td>\n",
       "      <td>6.2</td>\n",
       "      <td>2021-04-20</td>\n",
       "      <td>4</td>\n",
       "      <td>Кира</td>\n",
       "      <td>22</td>\n",
       "      <td>Тюмень</td>\n",
       "      <td>ultra</td>\n",
       "      <td>6</td>\n",
       "      <td>0</td>\n",
       "      <td>199</td>\n",
       "    </tr>\n",
       "    <tr>\n",
       "      <th>3</th>\n",
       "      <td>1</td>\n",
       "      <td>2694.8</td>\n",
       "      <td>18.5</td>\n",
       "      <td>2021-08-11</td>\n",
       "      <td>8</td>\n",
       "      <td>Кира</td>\n",
       "      <td>22</td>\n",
       "      <td>Тюмень</td>\n",
       "      <td>ultra</td>\n",
       "      <td>6</td>\n",
       "      <td>0</td>\n",
       "      <td>199</td>\n",
       "    </tr>\n",
       "    <tr>\n",
       "      <th>4</th>\n",
       "      <td>1</td>\n",
       "      <td>4028.7</td>\n",
       "      <td>26.3</td>\n",
       "      <td>2021-08-28</td>\n",
       "      <td>8</td>\n",
       "      <td>Кира</td>\n",
       "      <td>22</td>\n",
       "      <td>Тюмень</td>\n",
       "      <td>ultra</td>\n",
       "      <td>6</td>\n",
       "      <td>0</td>\n",
       "      <td>199</td>\n",
       "    </tr>\n",
       "    <tr>\n",
       "      <th>...</th>\n",
       "      <td>...</td>\n",
       "      <td>...</td>\n",
       "      <td>...</td>\n",
       "      <td>...</td>\n",
       "      <td>...</td>\n",
       "      <td>...</td>\n",
       "      <td>...</td>\n",
       "      <td>...</td>\n",
       "      <td>...</td>\n",
       "      <td>...</td>\n",
       "      <td>...</td>\n",
       "      <td>...</td>\n",
       "    </tr>\n",
       "    <tr>\n",
       "      <th>6495</th>\n",
       "      <td>699</td>\n",
       "      <td>3973.0</td>\n",
       "      <td>24.7</td>\n",
       "      <td>2021-08-29</td>\n",
       "      <td>8</td>\n",
       "      <td>Оксана</td>\n",
       "      <td>22</td>\n",
       "      <td>Москва</td>\n",
       "      <td>ultra</td>\n",
       "      <td>6</td>\n",
       "      <td>0</td>\n",
       "      <td>199</td>\n",
       "    </tr>\n",
       "    <tr>\n",
       "      <th>6496</th>\n",
       "      <td>699</td>\n",
       "      <td>3288.7</td>\n",
       "      <td>15.9</td>\n",
       "      <td>2021-09-12</td>\n",
       "      <td>9</td>\n",
       "      <td>Оксана</td>\n",
       "      <td>22</td>\n",
       "      <td>Москва</td>\n",
       "      <td>ultra</td>\n",
       "      <td>6</td>\n",
       "      <td>0</td>\n",
       "      <td>199</td>\n",
       "    </tr>\n",
       "    <tr>\n",
       "      <th>6497</th>\n",
       "      <td>699</td>\n",
       "      <td>3076.2</td>\n",
       "      <td>14.4</td>\n",
       "      <td>2021-09-26</td>\n",
       "      <td>9</td>\n",
       "      <td>Оксана</td>\n",
       "      <td>22</td>\n",
       "      <td>Москва</td>\n",
       "      <td>ultra</td>\n",
       "      <td>6</td>\n",
       "      <td>0</td>\n",
       "      <td>199</td>\n",
       "    </tr>\n",
       "    <tr>\n",
       "      <th>6498</th>\n",
       "      <td>699</td>\n",
       "      <td>4707.8</td>\n",
       "      <td>15.8</td>\n",
       "      <td>2021-10-17</td>\n",
       "      <td>10</td>\n",
       "      <td>Оксана</td>\n",
       "      <td>22</td>\n",
       "      <td>Москва</td>\n",
       "      <td>ultra</td>\n",
       "      <td>6</td>\n",
       "      <td>0</td>\n",
       "      <td>199</td>\n",
       "    </tr>\n",
       "    <tr>\n",
       "      <th>6499</th>\n",
       "      <td>699</td>\n",
       "      <td>3202.9</td>\n",
       "      <td>25.2</td>\n",
       "      <td>2021-12-03</td>\n",
       "      <td>12</td>\n",
       "      <td>Оксана</td>\n",
       "      <td>22</td>\n",
       "      <td>Москва</td>\n",
       "      <td>ultra</td>\n",
       "      <td>6</td>\n",
       "      <td>0</td>\n",
       "      <td>199</td>\n",
       "    </tr>\n",
       "  </tbody>\n",
       "</table>\n",
       "<p>6500 rows × 12 columns</p>\n",
       "</div>"
      ],
      "text/plain": [
       "      user_id  distance  duration       date  date_month    name  age    city  \\\n",
       "0           1    4409.9      25.6 2021-01-01           1    Кира   22  Тюмень   \n",
       "1           1    2617.6      15.8 2021-01-18           1    Кира   22  Тюмень   \n",
       "2           1     754.2       6.2 2021-04-20           4    Кира   22  Тюмень   \n",
       "3           1    2694.8      18.5 2021-08-11           8    Кира   22  Тюмень   \n",
       "4           1    4028.7      26.3 2021-08-28           8    Кира   22  Тюмень   \n",
       "...       ...       ...       ...        ...         ...     ...  ...     ...   \n",
       "6495      699    3973.0      24.7 2021-08-29           8  Оксана   22  Москва   \n",
       "6496      699    3288.7      15.9 2021-09-12           9  Оксана   22  Москва   \n",
       "6497      699    3076.2      14.4 2021-09-26           9  Оксана   22  Москва   \n",
       "6498      699    4707.8      15.8 2021-10-17          10  Оксана   22  Москва   \n",
       "6499      699    3202.9      25.2 2021-12-03          12  Оксана   22  Москва   \n",
       "\n",
       "     subscription_type  minute_price  start_ride_price  subscription_fee  \n",
       "0                ultra             6                 0               199  \n",
       "1                ultra             6                 0               199  \n",
       "2                ultra             6                 0               199  \n",
       "3                ultra             6                 0               199  \n",
       "4                ultra             6                 0               199  \n",
       "...                ...           ...               ...               ...  \n",
       "6495             ultra             6                 0               199  \n",
       "6496             ultra             6                 0               199  \n",
       "6497             ultra             6                 0               199  \n",
       "6498             ultra             6                 0               199  \n",
       "6499             ultra             6                 0               199  \n",
       "\n",
       "[6500 rows x 12 columns]"
      ]
     },
     "execution_count": 34,
     "metadata": {},
     "output_type": "execute_result"
    }
   ],
   "source": [
    "ultra_go"
   ]
  },
  {
   "cell_type": "code",
   "execution_count": 35,
   "id": "27814939",
   "metadata": {},
   "outputs": [
    {
     "data": {
      "text/html": [
       "<div>\n",
       "<style scoped>\n",
       "    .dataframe tbody tr th:only-of-type {\n",
       "        vertical-align: middle;\n",
       "    }\n",
       "\n",
       "    .dataframe tbody tr th {\n",
       "        vertical-align: top;\n",
       "    }\n",
       "\n",
       "    .dataframe thead th {\n",
       "        text-align: right;\n",
       "    }\n",
       "</style>\n",
       "<table border=\"1\" class=\"dataframe\">\n",
       "  <thead>\n",
       "    <tr style=\"text-align: right;\">\n",
       "      <th></th>\n",
       "      <th>user_id</th>\n",
       "      <th>distance</th>\n",
       "      <th>duration</th>\n",
       "      <th>date</th>\n",
       "      <th>date_month</th>\n",
       "      <th>name</th>\n",
       "      <th>age</th>\n",
       "      <th>city</th>\n",
       "      <th>subscription_type</th>\n",
       "      <th>minute_price</th>\n",
       "      <th>start_ride_price</th>\n",
       "      <th>subscription_fee</th>\n",
       "    </tr>\n",
       "  </thead>\n",
       "  <tbody>\n",
       "    <tr>\n",
       "      <th>6500</th>\n",
       "      <td>700</td>\n",
       "      <td>2515.7</td>\n",
       "      <td>14.9</td>\n",
       "      <td>2021-01-02</td>\n",
       "      <td>1</td>\n",
       "      <td>Айдар</td>\n",
       "      <td>22</td>\n",
       "      <td>Омск</td>\n",
       "      <td>free</td>\n",
       "      <td>8</td>\n",
       "      <td>50</td>\n",
       "      <td>0</td>\n",
       "    </tr>\n",
       "    <tr>\n",
       "      <th>6501</th>\n",
       "      <td>700</td>\n",
       "      <td>846.9</td>\n",
       "      <td>16.2</td>\n",
       "      <td>2021-02-01</td>\n",
       "      <td>2</td>\n",
       "      <td>Айдар</td>\n",
       "      <td>22</td>\n",
       "      <td>Омск</td>\n",
       "      <td>free</td>\n",
       "      <td>8</td>\n",
       "      <td>50</td>\n",
       "      <td>0</td>\n",
       "    </tr>\n",
       "    <tr>\n",
       "      <th>6502</th>\n",
       "      <td>700</td>\n",
       "      <td>4004.4</td>\n",
       "      <td>20.0</td>\n",
       "      <td>2021-02-04</td>\n",
       "      <td>2</td>\n",
       "      <td>Айдар</td>\n",
       "      <td>22</td>\n",
       "      <td>Омск</td>\n",
       "      <td>free</td>\n",
       "      <td>8</td>\n",
       "      <td>50</td>\n",
       "      <td>0</td>\n",
       "    </tr>\n",
       "    <tr>\n",
       "      <th>6503</th>\n",
       "      <td>700</td>\n",
       "      <td>1205.9</td>\n",
       "      <td>9.8</td>\n",
       "      <td>2021-02-10</td>\n",
       "      <td>2</td>\n",
       "      <td>Айдар</td>\n",
       "      <td>22</td>\n",
       "      <td>Омск</td>\n",
       "      <td>free</td>\n",
       "      <td>8</td>\n",
       "      <td>50</td>\n",
       "      <td>0</td>\n",
       "    </tr>\n",
       "    <tr>\n",
       "      <th>6504</th>\n",
       "      <td>700</td>\n",
       "      <td>3047.4</td>\n",
       "      <td>17.4</td>\n",
       "      <td>2021-02-14</td>\n",
       "      <td>2</td>\n",
       "      <td>Айдар</td>\n",
       "      <td>22</td>\n",
       "      <td>Омск</td>\n",
       "      <td>free</td>\n",
       "      <td>8</td>\n",
       "      <td>50</td>\n",
       "      <td>0</td>\n",
       "    </tr>\n",
       "    <tr>\n",
       "      <th>...</th>\n",
       "      <td>...</td>\n",
       "      <td>...</td>\n",
       "      <td>...</td>\n",
       "      <td>...</td>\n",
       "      <td>...</td>\n",
       "      <td>...</td>\n",
       "      <td>...</td>\n",
       "      <td>...</td>\n",
       "      <td>...</td>\n",
       "      <td>...</td>\n",
       "      <td>...</td>\n",
       "      <td>...</td>\n",
       "    </tr>\n",
       "    <tr>\n",
       "      <th>18063</th>\n",
       "      <td>1534</td>\n",
       "      <td>3781.1</td>\n",
       "      <td>19.8</td>\n",
       "      <td>2021-11-04</td>\n",
       "      <td>11</td>\n",
       "      <td>Альберт</td>\n",
       "      <td>25</td>\n",
       "      <td>Краснодар</td>\n",
       "      <td>free</td>\n",
       "      <td>8</td>\n",
       "      <td>50</td>\n",
       "      <td>0</td>\n",
       "    </tr>\n",
       "    <tr>\n",
       "      <th>18064</th>\n",
       "      <td>1534</td>\n",
       "      <td>2840.4</td>\n",
       "      <td>21.4</td>\n",
       "      <td>2021-11-16</td>\n",
       "      <td>11</td>\n",
       "      <td>Альберт</td>\n",
       "      <td>25</td>\n",
       "      <td>Краснодар</td>\n",
       "      <td>free</td>\n",
       "      <td>8</td>\n",
       "      <td>50</td>\n",
       "      <td>0</td>\n",
       "    </tr>\n",
       "    <tr>\n",
       "      <th>18065</th>\n",
       "      <td>1534</td>\n",
       "      <td>3826.2</td>\n",
       "      <td>18.4</td>\n",
       "      <td>2021-11-18</td>\n",
       "      <td>11</td>\n",
       "      <td>Альберт</td>\n",
       "      <td>25</td>\n",
       "      <td>Краснодар</td>\n",
       "      <td>free</td>\n",
       "      <td>8</td>\n",
       "      <td>50</td>\n",
       "      <td>0</td>\n",
       "    </tr>\n",
       "    <tr>\n",
       "      <th>18066</th>\n",
       "      <td>1534</td>\n",
       "      <td>2902.3</td>\n",
       "      <td>16.7</td>\n",
       "      <td>2021-11-27</td>\n",
       "      <td>11</td>\n",
       "      <td>Альберт</td>\n",
       "      <td>25</td>\n",
       "      <td>Краснодар</td>\n",
       "      <td>free</td>\n",
       "      <td>8</td>\n",
       "      <td>50</td>\n",
       "      <td>0</td>\n",
       "    </tr>\n",
       "    <tr>\n",
       "      <th>18067</th>\n",
       "      <td>1534</td>\n",
       "      <td>2371.7</td>\n",
       "      <td>15.9</td>\n",
       "      <td>2021-12-29</td>\n",
       "      <td>12</td>\n",
       "      <td>Альберт</td>\n",
       "      <td>25</td>\n",
       "      <td>Краснодар</td>\n",
       "      <td>free</td>\n",
       "      <td>8</td>\n",
       "      <td>50</td>\n",
       "      <td>0</td>\n",
       "    </tr>\n",
       "  </tbody>\n",
       "</table>\n",
       "<p>11568 rows × 12 columns</p>\n",
       "</div>"
      ],
      "text/plain": [
       "       user_id  distance  duration       date  date_month     name  age  \\\n",
       "6500       700    2515.7      14.9 2021-01-02           1    Айдар   22   \n",
       "6501       700     846.9      16.2 2021-02-01           2    Айдар   22   \n",
       "6502       700    4004.4      20.0 2021-02-04           2    Айдар   22   \n",
       "6503       700    1205.9       9.8 2021-02-10           2    Айдар   22   \n",
       "6504       700    3047.4      17.4 2021-02-14           2    Айдар   22   \n",
       "...        ...       ...       ...        ...         ...      ...  ...   \n",
       "18063     1534    3781.1      19.8 2021-11-04          11  Альберт   25   \n",
       "18064     1534    2840.4      21.4 2021-11-16          11  Альберт   25   \n",
       "18065     1534    3826.2      18.4 2021-11-18          11  Альберт   25   \n",
       "18066     1534    2902.3      16.7 2021-11-27          11  Альберт   25   \n",
       "18067     1534    2371.7      15.9 2021-12-29          12  Альберт   25   \n",
       "\n",
       "            city subscription_type  minute_price  start_ride_price  \\\n",
       "6500        Омск              free             8                50   \n",
       "6501        Омск              free             8                50   \n",
       "6502        Омск              free             8                50   \n",
       "6503        Омск              free             8                50   \n",
       "6504        Омск              free             8                50   \n",
       "...          ...               ...           ...               ...   \n",
       "18063  Краснодар              free             8                50   \n",
       "18064  Краснодар              free             8                50   \n",
       "18065  Краснодар              free             8                50   \n",
       "18066  Краснодар              free             8                50   \n",
       "18067  Краснодар              free             8                50   \n",
       "\n",
       "       subscription_fee  \n",
       "6500                  0  \n",
       "6501                  0  \n",
       "6502                  0  \n",
       "6503                  0  \n",
       "6504                  0  \n",
       "...                 ...  \n",
       "18063                 0  \n",
       "18064                 0  \n",
       "18065                 0  \n",
       "18066                 0  \n",
       "18067                 0  \n",
       "\n",
       "[11568 rows x 12 columns]"
      ]
     },
     "execution_count": 35,
     "metadata": {},
     "output_type": "execute_result"
    }
   ],
   "source": [
    "free_go"
   ]
  },
  {
   "cell_type": "markdown",
   "id": "6225720d",
   "metadata": {},
   "source": [
    "Объединим  информацию о расстоянии и времени поездок для пользователей обеих категорий."
   ]
  },
  {
   "cell_type": "code",
   "execution_count": 36,
   "id": "c833f47d",
   "metadata": {
    "scrolled": false
   },
   "outputs": [
    {
     "data": {
      "image/png": "[encoded data removed]",
      "text/plain": [
       "<Figure size 504x432 with 1 Axes>"
      ]
     },
     "metadata": {
      "needs_background": "light"
     },
     "output_type": "display_data"
    }
   ],
   "source": [
    "ax = free_go['distance'].plot(kind = 'hist', grid=True, figsize = (7,6), bins = 30, label='без подписки')\n",
    "ax = ultra_go['distance'].plot(kind = 'hist', grid=True, figsize = (7,6), bins = 30, label='с подпиской Ultra')\n",
    "plt.title('Расстояние одной поездки для пользователей с подпиской и без')\n",
    "plt.xlabel('расстояние, м')\n",
    "plt.ylabel('количество пользователей')\n",
    "plt.legend(loc='upper right')\n",
    "plt.show()"
   ]
  },
  {
   "cell_type": "code",
   "execution_count": 37,
   "id": "e8b938b6",
   "metadata": {
    "scrolled": false
   },
   "outputs": [
    {
     "data": {
      "image/png": "[encoded data removed]",
      "text/plain": [
       "<Figure size 504x432 with 1 Axes>"
      ]
     },
     "metadata": {
      "needs_background": "light"
     },
     "output_type": "display_data"
    }
   ],
   "source": [
    "free_go['duration'].plot(kind = 'hist', grid=True, figsize = (7,6), bins = 30, label='без подписки')\n",
    "ultra_go['duration'].plot(kind = 'hist', grid=True, figsize = (7,6), bins = 30, label='с подпиской Ultra')\n",
    "plt.title('Продолжительность одной поездки пользователей с подпиской и без')\n",
    "plt.xlabel('время, мин')\n",
    "plt.ylabel('количество пользователей')\n",
    "plt.legend(loc='upper right')\n",
    "plt.show()"
   ]
  },
  {
   "cell_type": "markdown",
   "id": "34bab798",
   "metadata": {},
   "source": [
    "**Вывод:**\n",
    "- Объединили 3 датафрейма в один общий. Создали еще два датафрейма с данными о пользователях с подпиской и без подписки\n",
    "- На сравнительных графиках видим разницу в расстоянии и времени поездок в двух категориях пользователей. Графики 2х категорий практически не отличаются, отличаются только количеством пользователей и дальностью поездки до 1 км (может быть связано с ограничением на поездку для бесплатных пользователей)."
   ]
  },
  {
   "cell_type": "markdown",
   "id": "402d620f",
   "metadata": {},
   "source": [
    "<a id=\"5\"></a> \n",
    "#### Подсчёт выручки"
   ]
  },
  {
   "cell_type": "markdown",
   "id": "5093f0aa",
   "metadata": {},
   "source": [
    "Создадим датафрейм с объединёнными данными из шага 4: найдем суммарное расстояние, количество поездок и суммарное время для каждого пользователя за каждый месяц."
   ]
  },
  {
   "cell_type": "code",
   "execution_count": 38,
   "id": "d5560f65",
   "metadata": {
    "scrolled": false
   },
   "outputs": [
    {
     "data": {
      "text/html": [
       "<div>\n",
       "<style scoped>\n",
       "    .dataframe tbody tr th:only-of-type {\n",
       "        vertical-align: middle;\n",
       "    }\n",
       "\n",
       "    .dataframe tbody tr th {\n",
       "        vertical-align: top;\n",
       "    }\n",
       "\n",
       "    .dataframe thead th {\n",
       "        text-align: right;\n",
       "    }\n",
       "</style>\n",
       "<table border=\"1\" class=\"dataframe\">\n",
       "  <thead>\n",
       "    <tr style=\"text-align: right;\">\n",
       "      <th></th>\n",
       "      <th></th>\n",
       "      <th></th>\n",
       "      <th>distance</th>\n",
       "      <th>duration</th>\n",
       "      <th>counts</th>\n",
       "    </tr>\n",
       "    <tr>\n",
       "      <th>user_id</th>\n",
       "      <th>date_month</th>\n",
       "      <th>subscription_type</th>\n",
       "      <th></th>\n",
       "      <th></th>\n",
       "      <th></th>\n",
       "    </tr>\n",
       "  </thead>\n",
       "  <tbody>\n",
       "    <tr>\n",
       "      <th rowspan=\"5\" valign=\"top\">1</th>\n",
       "      <th>1</th>\n",
       "      <th>ultra</th>\n",
       "      <td>7027.5</td>\n",
       "      <td>41.4</td>\n",
       "      <td>2</td>\n",
       "    </tr>\n",
       "    <tr>\n",
       "      <th>4</th>\n",
       "      <th>ultra</th>\n",
       "      <td>754.2</td>\n",
       "      <td>6.2</td>\n",
       "      <td>1</td>\n",
       "    </tr>\n",
       "    <tr>\n",
       "      <th>8</th>\n",
       "      <th>ultra</th>\n",
       "      <td>6723.5</td>\n",
       "      <td>44.8</td>\n",
       "      <td>2</td>\n",
       "    </tr>\n",
       "    <tr>\n",
       "      <th>10</th>\n",
       "      <th>ultra</th>\n",
       "      <td>5809.9</td>\n",
       "      <td>31.6</td>\n",
       "      <td>2</td>\n",
       "    </tr>\n",
       "    <tr>\n",
       "      <th>11</th>\n",
       "      <th>ultra</th>\n",
       "      <td>7003.5</td>\n",
       "      <td>53.3</td>\n",
       "      <td>3</td>\n",
       "    </tr>\n",
       "    <tr>\n",
       "      <th>...</th>\n",
       "      <th>...</th>\n",
       "      <th>...</th>\n",
       "      <td>...</td>\n",
       "      <td>...</td>\n",
       "      <td>...</td>\n",
       "    </tr>\n",
       "    <tr>\n",
       "      <th rowspan=\"5\" valign=\"top\">1534</th>\n",
       "      <th>6</th>\n",
       "      <th>free</th>\n",
       "      <td>3409.4</td>\n",
       "      <td>24.8</td>\n",
       "      <td>2</td>\n",
       "    </tr>\n",
       "    <tr>\n",
       "      <th>8</th>\n",
       "      <th>free</th>\n",
       "      <td>7622.4</td>\n",
       "      <td>47.2</td>\n",
       "      <td>2</td>\n",
       "    </tr>\n",
       "    <tr>\n",
       "      <th>9</th>\n",
       "      <th>free</th>\n",
       "      <td>4928.2</td>\n",
       "      <td>22.6</td>\n",
       "      <td>1</td>\n",
       "    </tr>\n",
       "    <tr>\n",
       "      <th>11</th>\n",
       "      <th>free</th>\n",
       "      <td>13350.0</td>\n",
       "      <td>76.3</td>\n",
       "      <td>4</td>\n",
       "    </tr>\n",
       "    <tr>\n",
       "      <th>12</th>\n",
       "      <th>free</th>\n",
       "      <td>2371.7</td>\n",
       "      <td>15.9</td>\n",
       "      <td>1</td>\n",
       "    </tr>\n",
       "  </tbody>\n",
       "</table>\n",
       "<p>11331 rows × 3 columns</p>\n",
       "</div>"
      ],
      "text/plain": [
       "                                      distance  duration  counts\n",
       "user_id date_month subscription_type                            \n",
       "1       1          ultra                7027.5      41.4       2\n",
       "        4          ultra                 754.2       6.2       1\n",
       "        8          ultra                6723.5      44.8       2\n",
       "        10         ultra                5809.9      31.6       2\n",
       "        11         ultra                7003.5      53.3       3\n",
       "...                                        ...       ...     ...\n",
       "1534    6          free                 3409.4      24.8       2\n",
       "        8          free                 7622.4      47.2       2\n",
       "        9          free                 4928.2      22.6       1\n",
       "        11         free                13350.0      76.3       4\n",
       "        12         free                 2371.7      15.9       1\n",
       "\n",
       "[11331 rows x 3 columns]"
      ]
     },
     "execution_count": 38,
     "metadata": {},
     "output_type": "execute_result"
    }
   ],
   "source": [
    "data_agr_go = (data_go\n",
    "               .pivot_table(index = ['user_id','date_month','subscription_type'], \n",
    "                            values = ['distance','duration'], \n",
    "                            aggfunc = {'distance':'sum', 'duration':'sum',\n",
    "                                       'user_id':'count'})\n",
    "               .rename(columns={'user_id': 'counts'})\n",
    "               \n",
    "              )\n",
    "data_agr_go"
   ]
  },
  {
   "cell_type": "markdown",
   "id": "e51f7ada",
   "metadata": {},
   "source": [
    "Посчитаем выручку, которую принес каждый пользователь и добавим в таблицу."
   ]
  },
  {
   "cell_type": "code",
   "execution_count": 39,
   "id": "b11f86e2",
   "metadata": {},
   "outputs": [],
   "source": [
    "data_agr_go = data_agr_go.reset_index().merge(subscriptions_go, on='subscription_type')"
   ]
  },
  {
   "cell_type": "code",
   "execution_count": 40,
   "id": "974d20f1",
   "metadata": {
    "scrolled": true
   },
   "outputs": [],
   "source": [
    "data_agr_go['revenue'] = (\n",
    "    (data_agr_go['start_ride_price'] * data_agr_go['counts']) \n",
    "    + (data_agr_go['minute_price'] * data_agr_go['duration'].apply(np.ceil)) \n",
    "    + data_agr_go['subscription_fee']\n",
    ")\n",
    "data_agr_go.drop(['minute_price','start_ride_price','subscription_fee'], axis= 1 , inplace= True)"
   ]
  },
  {
   "cell_type": "code",
   "execution_count": 41,
   "id": "f12c2d3e",
   "metadata": {},
   "outputs": [],
   "source": [
    "data_agr_go = data_agr_go.set_index(['user_id', 'date_month', 'subscription_type'])"
   ]
  },
  {
   "cell_type": "code",
   "execution_count": 42,
   "id": "3845f6e8",
   "metadata": {
    "scrolled": false
   },
   "outputs": [
    {
     "data": {
      "text/html": [
       "<div>\n",
       "<style scoped>\n",
       "    .dataframe tbody tr th:only-of-type {\n",
       "        vertical-align: middle;\n",
       "    }\n",
       "\n",
       "    .dataframe tbody tr th {\n",
       "        vertical-align: top;\n",
       "    }\n",
       "\n",
       "    .dataframe thead th {\n",
       "        text-align: right;\n",
       "    }\n",
       "</style>\n",
       "<table border=\"1\" class=\"dataframe\">\n",
       "  <thead>\n",
       "    <tr style=\"text-align: right;\">\n",
       "      <th></th>\n",
       "      <th></th>\n",
       "      <th></th>\n",
       "      <th>distance</th>\n",
       "      <th>duration</th>\n",
       "      <th>counts</th>\n",
       "      <th>revenue</th>\n",
       "    </tr>\n",
       "    <tr>\n",
       "      <th>user_id</th>\n",
       "      <th>date_month</th>\n",
       "      <th>subscription_type</th>\n",
       "      <th></th>\n",
       "      <th></th>\n",
       "      <th></th>\n",
       "      <th></th>\n",
       "    </tr>\n",
       "  </thead>\n",
       "  <tbody>\n",
       "    <tr>\n",
       "      <th rowspan=\"5\" valign=\"top\">1</th>\n",
       "      <th>1</th>\n",
       "      <th>ultra</th>\n",
       "      <td>7027.5</td>\n",
       "      <td>41.4</td>\n",
       "      <td>2</td>\n",
       "      <td>451.0</td>\n",
       "    </tr>\n",
       "    <tr>\n",
       "      <th>4</th>\n",
       "      <th>ultra</th>\n",
       "      <td>754.2</td>\n",
       "      <td>6.2</td>\n",
       "      <td>1</td>\n",
       "      <td>241.0</td>\n",
       "    </tr>\n",
       "    <tr>\n",
       "      <th>8</th>\n",
       "      <th>ultra</th>\n",
       "      <td>6723.5</td>\n",
       "      <td>44.8</td>\n",
       "      <td>2</td>\n",
       "      <td>469.0</td>\n",
       "    </tr>\n",
       "    <tr>\n",
       "      <th>10</th>\n",
       "      <th>ultra</th>\n",
       "      <td>5809.9</td>\n",
       "      <td>31.6</td>\n",
       "      <td>2</td>\n",
       "      <td>391.0</td>\n",
       "    </tr>\n",
       "    <tr>\n",
       "      <th>11</th>\n",
       "      <th>ultra</th>\n",
       "      <td>7003.5</td>\n",
       "      <td>53.3</td>\n",
       "      <td>3</td>\n",
       "      <td>523.0</td>\n",
       "    </tr>\n",
       "    <tr>\n",
       "      <th>...</th>\n",
       "      <th>...</th>\n",
       "      <th>...</th>\n",
       "      <td>...</td>\n",
       "      <td>...</td>\n",
       "      <td>...</td>\n",
       "      <td>...</td>\n",
       "    </tr>\n",
       "    <tr>\n",
       "      <th rowspan=\"5\" valign=\"top\">1534</th>\n",
       "      <th>6</th>\n",
       "      <th>free</th>\n",
       "      <td>3409.4</td>\n",
       "      <td>24.8</td>\n",
       "      <td>2</td>\n",
       "      <td>300.0</td>\n",
       "    </tr>\n",
       "    <tr>\n",
       "      <th>8</th>\n",
       "      <th>free</th>\n",
       "      <td>7622.4</td>\n",
       "      <td>47.2</td>\n",
       "      <td>2</td>\n",
       "      <td>484.0</td>\n",
       "    </tr>\n",
       "    <tr>\n",
       "      <th>9</th>\n",
       "      <th>free</th>\n",
       "      <td>4928.2</td>\n",
       "      <td>22.6</td>\n",
       "      <td>1</td>\n",
       "      <td>234.0</td>\n",
       "    </tr>\n",
       "    <tr>\n",
       "      <th>11</th>\n",
       "      <th>free</th>\n",
       "      <td>13350.0</td>\n",
       "      <td>76.3</td>\n",
       "      <td>4</td>\n",
       "      <td>816.0</td>\n",
       "    </tr>\n",
       "    <tr>\n",
       "      <th>12</th>\n",
       "      <th>free</th>\n",
       "      <td>2371.7</td>\n",
       "      <td>15.9</td>\n",
       "      <td>1</td>\n",
       "      <td>178.0</td>\n",
       "    </tr>\n",
       "  </tbody>\n",
       "</table>\n",
       "<p>11331 rows × 4 columns</p>\n",
       "</div>"
      ],
      "text/plain": [
       "                                      distance  duration  counts  revenue\n",
       "user_id date_month subscription_type                                     \n",
       "1       1          ultra                7027.5      41.4       2    451.0\n",
       "        4          ultra                 754.2       6.2       1    241.0\n",
       "        8          ultra                6723.5      44.8       2    469.0\n",
       "        10         ultra                5809.9      31.6       2    391.0\n",
       "        11         ultra                7003.5      53.3       3    523.0\n",
       "...                                        ...       ...     ...      ...\n",
       "1534    6          free                 3409.4      24.8       2    300.0\n",
       "        8          free                 7622.4      47.2       2    484.0\n",
       "        9          free                 4928.2      22.6       1    234.0\n",
       "        11         free                13350.0      76.3       4    816.0\n",
       "        12         free                 2371.7      15.9       1    178.0\n",
       "\n",
       "[11331 rows x 4 columns]"
      ]
     },
     "execution_count": 42,
     "metadata": {},
     "output_type": "execute_result"
    }
   ],
   "source": [
    "data_agr_go"
   ]
  },
  {
   "cell_type": "markdown",
   "id": "41545ac0",
   "metadata": {},
   "source": [
    "<a id=\"6\"></a> \n",
    "#### Проверка гипотез"
   ]
  },
  {
   "cell_type": "markdown",
   "id": "44d45bb0",
   "metadata": {},
   "source": [
    "**6.1 Определим, тратят ли пользователи с подпиской больше времени на поездки?** \n",
    "\n",
    "Гипотезы H0 и H1:\n",
    "\n",
    "    Н0: Средняя продолжительность поездок с подпиской ultra и без free равна\n",
    "    Н1: Средняя продолжительность поездок с подпиской ultra больше продолжительности поездок без подписок free"
   ]
  },
  {
   "cell_type": "code",
   "execution_count": 43,
   "id": "a9c21fd7",
   "metadata": {},
   "outputs": [
    {
     "name": "stdout",
     "output_type": "stream",
     "text": [
      "p-значение: 1.3448182372889e-34\n",
      "Отвергаем нулевую гипотезу\n"
     ]
    }
   ],
   "source": [
    "# выбранный уровень статистической значимости\n",
    "alpha = 0.05 \n",
    "\n",
    "# так как у нас правостороняя альтернативная гипотеза используем параметр 'greater'\n",
    "results = st.ttest_ind(ultra_go['duration'], free_go['duration'], alternative='greater')\n",
    "\n",
    "print('p-значение:', results.pvalue)\n",
    "\n",
    "if results.pvalue < alpha:\n",
    "    print('Отвергаем нулевую гипотезу')\n",
    "else:\n",
    "    print('Не отвергаем нулевую гипотезу')"
   ]
  },
  {
   "cell_type": "markdown",
   "id": "01a46910",
   "metadata": {},
   "source": [
    "**Вывод:** Мы отвергаем гипотезу о том, что средняя продолжительность поездок с подпиской 'ultra' равна, чем с подпиской 'free'."
   ]
  },
  {
   "cell_type": "markdown",
   "id": "f8203926",
   "metadata": {},
   "source": [
    "Перепроверим вывод:"
   ]
  },
  {
   "cell_type": "code",
   "execution_count": 44,
   "id": "0a8e8eb8",
   "metadata": {
    "scrolled": false
   },
   "outputs": [
    {
     "name": "stdout",
     "output_type": "stream",
     "text": [
      "Среднее время поездки пользователей c подпиской: 18.54\n",
      "Среднее время поездки пользователей без подписки: 17.39\n"
     ]
    }
   ],
   "source": [
    "print('Среднее время поездки пользователей c подпиской:', round(ultra_go['duration'].mean(),2))\n",
    "print('Среднее время поездки пользователей без подписки:', round(free_go['duration'].mean(),2))"
   ]
  },
  {
   "cell_type": "markdown",
   "id": "264b01c7",
   "metadata": {},
   "source": [
    "**6.2 Определим, действительно ли среднее расстояние, которое проезжают пользователи с подпиской за одну поездку, не превышает 3130 метров?**"
   ]
  },
  {
   "cell_type": "markdown",
   "id": "eb57a0cd",
   "metadata": {},
   "source": [
    "Проверим гипотезы:\n",
    "\n",
    "    Н0: среднее расстояние поездки пользователи с подпиской меньше или равна 3130 метрам\n",
    "    Н1: среднее расстояние поездки пользователи с подпиской больше 3130 метров"
   ]
  },
  {
   "cell_type": "code",
   "execution_count": 45,
   "id": "d0a8e95a",
   "metadata": {},
   "outputs": [
    {
     "name": "stdout",
     "output_type": "stream",
     "text": [
      "p-значение: 0.9195427368335852\n",
      "Не отвергаем нулевую гипотезу\n"
     ]
    }
   ],
   "source": [
    "interested_value = 3130 # Расстояние одной поездки в 3130 метров\n",
    "\n",
    "alpha = 0.05 # уровень статистической значимости\n",
    "\n",
    "results = st.ttest_1samp(ultra_go['distance'], interested_value, alternative='greater')\n",
    "\n",
    "print('p-значение:', results.pvalue)\n",
    "\n",
    "if results.pvalue < alpha:\n",
    "    print('Отвергаем нулевую гипотезу')\n",
    "else:\n",
    "    print('Не отвергаем нулевую гипотезу')"
   ]
  },
  {
   "cell_type": "markdown",
   "id": "fa38033d",
   "metadata": {},
   "source": [
    "**Вывод:** Не получилось отвергнуть гипотезу о том, что среднее расстояние поездок с использованием подписки 'ultra' меньше или равно 3130 метров."
   ]
  },
  {
   "cell_type": "markdown",
   "id": "7f0d70b6",
   "metadata": {},
   "source": [
    "Перепроверим вывод:"
   ]
  },
  {
   "cell_type": "code",
   "execution_count": 46,
   "id": "da59a222",
   "metadata": {},
   "outputs": [
    {
     "name": "stdout",
     "output_type": "stream",
     "text": [
      "среднее расстояние поездки пользователи с подпиской: 3115.44\n"
     ]
    }
   ],
   "source": [
    "print('среднее расстояние поездки пользователи с подпиской:', round(ultra_go['distance'].mean(),2))"
   ]
  },
  {
   "cell_type": "markdown",
   "id": "55b83d2b",
   "metadata": {},
   "source": [
    "Получается, среднее расстояние поездки близко к среднему, но меньше его."
   ]
  },
  {
   "cell_type": "markdown",
   "id": "a91c2d82",
   "metadata": {},
   "source": [
    "**6.3 Проверим гипотезу, является ли помесячная выручка от пользователей с подпиской по месяцам выше, чем выручка от пользователей без подписки.**"
   ]
  },
  {
   "cell_type": "markdown",
   "id": "bddb90ca",
   "metadata": {},
   "source": [
    "Проверим гипотезы:\n",
    "\n",
    "    Н0: Помесячная средняя выручка от пользователей с подпиской равна помесячной средней выручке от пользователей без подписки.\n",
    "    Н1: Помесячная средняя выручка от пользователей с подпиской больше помесячной средней выручки от пользователей без подписки.\n"
   ]
  },
  {
   "cell_type": "code",
   "execution_count": 47,
   "id": "40963297",
   "metadata": {},
   "outputs": [
    {
     "name": "stdout",
     "output_type": "stream",
     "text": [
      "p-значение: 1.8124385094177887e-35\n",
      "Отвергаем нулевую гипотезу\n"
     ]
    }
   ],
   "source": [
    "data_agr_go_ultra = data_agr_go.reset_index()\n",
    "data_agr_go_ultra = data_agr_go_ultra[data_agr_go_ultra['subscription_type'] == 'ultra']\n",
    "data_agr_go_free = data_agr_go.reset_index()\n",
    "data_agr_go_free = data_agr_go_free[data_agr_go_free['subscription_type'] == 'free']\n",
    "\n",
    "alpha = 0.05 # уровень статистической значимости\n",
    "\n",
    "results = st.ttest_ind(data_agr_go_ultra['revenue'], data_agr_go_free['revenue'], alternative='greater')\n",
    "\n",
    "print('p-значение:', results.pvalue)\n",
    "\n",
    "if results.pvalue < alpha:\n",
    "    print('Отвергаем нулевую гипотезу')\n",
    "else:\n",
    "    print('Нет оснований отвергнуть нулевую гипотезу')"
   ]
  },
  {
   "cell_type": "markdown",
   "id": "882c7ed3",
   "metadata": {},
   "source": [
    "**Вывод:** У нас получилось отвергнуть гипотезу о том, что помесячная средняя выручка от пользователей с подпиской равна помесячной средней выручке от пользователей без подписки."
   ]
  },
  {
   "cell_type": "markdown",
   "id": "371388cd",
   "metadata": {},
   "source": [
    "Перепроверим вывод:"
   ]
  },
  {
   "cell_type": "code",
   "execution_count": 48,
   "id": "8b446d51",
   "metadata": {},
   "outputs": [
    {
     "name": "stdout",
     "output_type": "stream",
     "text": [
      "Средняя помесячная выручка от пользователи с подпиской: 361.2\n",
      "Средняя помесячная выручка от пользователи без подписки: 325.45\n"
     ]
    }
   ],
   "source": [
    "print('Средняя помесячная выручка от пользователи с подпиской:', round(data_agr_go_ultra['revenue'].mean(),2))\n",
    "print('Средняя помесячная выручка от пользователи без подписки:', round(data_agr_go_free['revenue'].mean(),2))"
   ]
  },
  {
   "cell_type": "markdown",
   "id": "dc396cd1",
   "metadata": {},
   "source": [
    "**6.4 Представьте такую ситуацию: техническая команда сервиса обновила сервера, с которыми взаимодействует мобильное приложение. Она надеется, что из-за этого количество обращений в техподдержку значимо снизилось. Некоторый файл содержит для каждого пользователя данные о количестве обращений до обновления и после него. Какой тест вам понадобился бы для проверки этой гипотезы?**"
   ]
  },
  {
   "cell_type": "markdown",
   "id": "b5d3a883",
   "metadata": {},
   "source": [
    "В данном случае правильнее применить тест проверки гипотез о равенстве средних для зависимых (парных) выборок. В метод scipy.stats.ttest_rel() передать два параметра: наборы данных до обновления и после.Будем проверять одностороннюю критерию.\n",
    "- Н0: Среднее количество обращений в техподдержку не изменилось после обновления сервера.\n",
    "- Н1: Среднее количество обращений в техподдержку стало меньше после обновления сервера."
   ]
  },
  {
   "cell_type": "markdown",
   "id": "5336bda4",
   "metadata": {},
   "source": [
    "<a id=\"7\"></a> \n",
    "#### Вывод исследования."
   ]
  },
  {
   "cell_type": "markdown",
   "id": "41c174fa",
   "metadata": {},
   "source": [
    "При проведении анализа данных были выявлены следующие результаты:\n",
    "\n",
    "- Из 8 городов, наибольшее количество пользователей зарегистрировано в Пятигорске, в то время как наименьшее количество пользователей - в Москве.\n",
    "- Средний возраст пользователей сервиса составляет 24,9 лет.\n",
    "- Большинство поездок охватывают расстояние, превышающее 3 километра. Наблюдается небольшой пик в районе 600 метров, что, возможно, указывает на поездки пользователей к станциям метро или другим остановкам общественного транспорта.\n",
    "- Количество пользователей, пользующихся сервисом аренды самокатов без подписки, превышает количество пользователей с подпиской.\n",
    "\n",
    "В результате проведенного исследования были подтверждены следующие гипотезы:\n",
    "\n",
    "- С вероятностью 5% время поездок пользователей с подпиской превышает время поездок пользователей без подписки.\n",
    "- Среднее расстояние поездок пользователей с подпиской составляет менее 3130 метров (оптимальное расстояние с точки зрения износа самоката).\n",
    "- Помесячная выручка от пользователей с подпиской превышает выручку от пользователей без подписки."
   ]
  },
  {
   "cell_type": "markdown",
   "id": "e95b5900",
   "metadata": {},
   "source": [
    "Рекомендации рекламному отделу:\n",
    "Для увеличения выручки следует продвигать Ультра подписку, возможные предложения:\n",
    "- Увеличить охват в других городах (например - Санкт-Петербург, Казань и пр.)\n",
    "- Предложить первому пользователю скидку на подписку за первый месяц, или за первые 1-2 км поездки."
   ]
  }
 ],
 "metadata": {
  "ExecuteTimeLog": [
   {
    "duration": 47,
    "start_time": "2024-04-07T19:49:00.976Z"
   },
   {
    "duration": 374,
    "start_time": "2024-04-07T19:49:03.852Z"
   },
   {
    "duration": 72,
    "start_time": "2024-04-07T19:49:05.046Z"
   },
   {
    "duration": 42,
    "start_time": "2024-04-07T19:49:15.539Z"
   },
   {
    "duration": 96,
    "start_time": "2024-04-07T19:50:36.750Z"
   },
   {
    "duration": 68,
    "start_time": "2024-04-07T19:50:37.260Z"
   },
   {
    "duration": 34,
    "start_time": "2024-04-07T19:51:53.208Z"
   },
   {
    "duration": 50,
    "start_time": "2024-04-07T19:51:55.270Z"
   },
   {
    "duration": 24,
    "start_time": "2024-04-07T19:51:55.812Z"
   },
   {
    "duration": 8,
    "start_time": "2024-04-08T13:20:21.846Z"
   },
   {
    "duration": 9,
    "start_time": "2024-04-08T13:21:28.905Z"
   },
   {
    "duration": 11,
    "start_time": "2024-04-08T13:21:59.162Z"
   },
   {
    "duration": 8,
    "start_time": "2024-04-08T13:28:16.552Z"
   },
   {
    "duration": 36,
    "start_time": "2024-04-08T13:28:46.041Z"
   },
   {
    "duration": 10,
    "start_time": "2024-04-08T13:29:31.089Z"
   },
   {
    "duration": 17,
    "start_time": "2024-04-08T13:31:44.803Z"
   },
   {
    "duration": 50,
    "start_time": "2024-04-08T13:31:50.871Z"
   },
   {
    "duration": 8,
    "start_time": "2024-04-08T13:32:03.503Z"
   },
   {
    "duration": 425,
    "start_time": "2024-04-08T13:32:44.209Z"
   },
   {
    "duration": 35,
    "start_time": "2024-04-08T13:32:44.636Z"
   },
   {
    "duration": 14,
    "start_time": "2024-04-08T13:32:44.672Z"
   },
   {
    "duration": 62,
    "start_time": "2024-04-08T13:32:44.688Z"
   },
   {
    "duration": 10,
    "start_time": "2024-04-08T13:32:44.752Z"
   },
   {
    "duration": 23,
    "start_time": "2024-04-08T13:32:44.764Z"
   },
   {
    "duration": 6,
    "start_time": "2024-04-08T13:32:44.788Z"
   },
   {
    "duration": 12,
    "start_time": "2024-04-08T13:32:44.795Z"
   },
   {
    "duration": 11,
    "start_time": "2024-04-08T13:33:12.731Z"
   },
   {
    "duration": 74,
    "start_time": "2024-04-08T13:34:16.682Z"
   },
   {
    "duration": 7,
    "start_time": "2024-04-08T13:34:40.215Z"
   },
   {
    "duration": 11,
    "start_time": "2024-04-08T13:34:42.276Z"
   },
   {
    "duration": 15,
    "start_time": "2024-04-08T13:34:53.299Z"
   },
   {
    "duration": 44,
    "start_time": "2024-04-08T13:35:14.441Z"
   },
   {
    "duration": 8,
    "start_time": "2024-04-08T13:35:16.532Z"
   },
   {
    "duration": 33,
    "start_time": "2024-04-08T13:35:19.287Z"
   },
   {
    "duration": 19,
    "start_time": "2024-04-08T13:36:09.448Z"
   },
   {
    "duration": 13,
    "start_time": "2024-04-08T13:37:10.367Z"
   },
   {
    "duration": 17,
    "start_time": "2024-04-08T13:37:11.096Z"
   },
   {
    "duration": 14,
    "start_time": "2024-04-08T13:37:11.724Z"
   },
   {
    "duration": 14,
    "start_time": "2024-04-08T13:37:44.772Z"
   },
   {
    "duration": 17,
    "start_time": "2024-04-08T13:38:21.394Z"
   },
   {
    "duration": 11,
    "start_time": "2024-04-08T13:38:55.147Z"
   },
   {
    "duration": 7,
    "start_time": "2024-04-08T13:40:27.047Z"
   },
   {
    "duration": 7,
    "start_time": "2024-04-08T13:40:29.323Z"
   },
   {
    "duration": 7,
    "start_time": "2024-04-08T13:40:33.257Z"
   },
   {
    "duration": 7,
    "start_time": "2024-04-08T13:40:35.709Z"
   },
   {
    "duration": 7,
    "start_time": "2024-04-08T14:02:12.694Z"
   },
   {
    "duration": 7,
    "start_time": "2024-04-08T14:02:21.580Z"
   },
   {
    "duration": 7,
    "start_time": "2024-04-08T14:02:29.208Z"
   },
   {
    "duration": 7,
    "start_time": "2024-04-08T14:30:46.108Z"
   },
   {
    "duration": 7,
    "start_time": "2024-04-08T14:30:58.035Z"
   },
   {
    "duration": 6,
    "start_time": "2024-04-08T14:31:10.014Z"
   },
   {
    "duration": 6,
    "start_time": "2024-04-08T14:32:23.038Z"
   },
   {
    "duration": 6,
    "start_time": "2024-04-08T14:53:40.186Z"
   },
   {
    "duration": 6,
    "start_time": "2024-04-08T14:53:40.666Z"
   },
   {
    "duration": 7,
    "start_time": "2024-04-08T14:54:48.039Z"
   },
   {
    "duration": 10,
    "start_time": "2024-04-08T14:55:33.779Z"
   },
   {
    "duration": 5,
    "start_time": "2024-04-08T14:56:01.001Z"
   },
   {
    "duration": 5,
    "start_time": "2024-04-08T14:56:02.523Z"
   },
   {
    "duration": 10,
    "start_time": "2024-04-08T14:58:26.228Z"
   },
   {
    "duration": 5,
    "start_time": "2024-04-08T14:59:56.227Z"
   },
   {
    "duration": 697,
    "start_time": "2024-04-08T15:03:00.092Z"
   },
   {
    "duration": 175,
    "start_time": "2024-04-08T15:03:39.366Z"
   },
   {
    "duration": 12,
    "start_time": "2024-04-08T15:04:27.013Z"
   },
   {
    "duration": 13,
    "start_time": "2024-04-08T15:04:44.009Z"
   },
   {
    "duration": 12,
    "start_time": "2024-04-08T15:06:13.086Z"
   },
   {
    "duration": 12,
    "start_time": "2024-04-08T15:06:16.745Z"
   },
   {
    "duration": 13,
    "start_time": "2024-04-08T15:06:22.498Z"
   },
   {
    "duration": 6,
    "start_time": "2024-04-08T15:07:51.750Z"
   },
   {
    "duration": 14,
    "start_time": "2024-04-08T15:08:01.901Z"
   },
   {
    "duration": 357,
    "start_time": "2024-04-08T15:08:40.858Z"
   },
   {
    "duration": 35,
    "start_time": "2024-04-08T15:08:41.218Z"
   },
   {
    "duration": 14,
    "start_time": "2024-04-08T15:08:41.255Z"
   },
   {
    "duration": 47,
    "start_time": "2024-04-08T15:08:41.271Z"
   },
   {
    "duration": 16,
    "start_time": "2024-04-08T15:08:41.320Z"
   },
   {
    "duration": 22,
    "start_time": "2024-04-08T15:08:41.337Z"
   },
   {
    "duration": 9,
    "start_time": "2024-04-08T15:08:41.360Z"
   },
   {
    "duration": 8,
    "start_time": "2024-04-08T15:08:41.370Z"
   },
   {
    "duration": 5,
    "start_time": "2024-04-08T15:08:41.382Z"
   },
   {
    "duration": 30,
    "start_time": "2024-04-08T15:08:41.388Z"
   },
   {
    "duration": 8,
    "start_time": "2024-04-08T15:08:41.420Z"
   },
   {
    "duration": 7,
    "start_time": "2024-04-08T15:08:41.429Z"
   },
   {
    "duration": 4,
    "start_time": "2024-04-08T15:08:41.438Z"
   },
   {
    "duration": 13,
    "start_time": "2024-04-08T15:08:41.444Z"
   },
   {
    "duration": 64,
    "start_time": "2024-04-08T15:08:41.459Z"
   },
   {
    "duration": 435,
    "start_time": "2024-04-08T15:08:41.524Z"
   },
   {
    "duration": 16,
    "start_time": "2024-04-08T15:08:41.961Z"
   },
   {
    "duration": 11,
    "start_time": "2024-04-08T15:08:41.980Z"
   },
   {
    "duration": 78,
    "start_time": "2024-04-08T15:13:09.972Z"
   },
   {
    "duration": 23,
    "start_time": "2024-04-08T15:13:25.701Z"
   },
   {
    "duration": 11,
    "start_time": "2024-04-08T15:14:14.151Z"
   },
   {
    "duration": 13,
    "start_time": "2024-04-08T15:14:17.274Z"
   },
   {
    "duration": 15,
    "start_time": "2024-04-08T15:16:46.149Z"
   },
   {
    "duration": 20,
    "start_time": "2024-04-08T15:29:32.709Z"
   },
   {
    "duration": 11,
    "start_time": "2024-04-08T15:29:46.408Z"
   },
   {
    "duration": 25,
    "start_time": "2024-04-08T15:33:50.348Z"
   },
   {
    "duration": 31,
    "start_time": "2024-04-08T15:34:14.484Z"
   },
   {
    "duration": 17,
    "start_time": "2024-04-08T15:34:54.651Z"
   },
   {
    "duration": 19,
    "start_time": "2024-04-08T15:34:59.650Z"
   },
   {
    "duration": 15,
    "start_time": "2024-04-08T15:35:56.135Z"
   },
   {
    "duration": 4,
    "start_time": "2024-04-08T15:35:57.709Z"
   },
   {
    "duration": 4,
    "start_time": "2024-04-08T15:37:06.045Z"
   },
   {
    "duration": 19,
    "start_time": "2024-04-08T15:37:29.741Z"
   },
   {
    "duration": 18,
    "start_time": "2024-04-08T15:37:30.661Z"
   },
   {
    "duration": 8,
    "start_time": "2024-04-08T15:38:48.013Z"
   },
   {
    "duration": 11,
    "start_time": "2024-04-08T15:39:09.218Z"
   },
   {
    "duration": 18,
    "start_time": "2024-04-08T15:39:16.476Z"
   },
   {
    "duration": 18,
    "start_time": "2024-04-08T15:39:30.566Z"
   },
   {
    "duration": 209,
    "start_time": "2024-04-08T15:42:23.388Z"
   },
   {
    "duration": 3,
    "start_time": "2024-04-08T15:42:52.646Z"
   },
   {
    "duration": 280,
    "start_time": "2024-04-08T15:43:20.641Z"
   },
   {
    "duration": 237,
    "start_time": "2024-04-08T15:43:34.060Z"
   },
   {
    "duration": 249,
    "start_time": "2024-04-08T15:47:00.287Z"
   },
   {
    "duration": 15,
    "start_time": "2024-04-08T15:51:39.380Z"
   },
   {
    "duration": 10,
    "start_time": "2024-04-08T15:51:51.609Z"
   },
   {
    "duration": 10,
    "start_time": "2024-04-08T15:51:56.933Z"
   },
   {
    "duration": 17,
    "start_time": "2024-04-08T15:54:39.333Z"
   },
   {
    "duration": 9,
    "start_time": "2024-04-08T15:54:53.057Z"
   },
   {
    "duration": 15,
    "start_time": "2024-04-08T15:55:07.806Z"
   },
   {
    "duration": 9,
    "start_time": "2024-04-08T15:56:33.955Z"
   },
   {
    "duration": 240,
    "start_time": "2024-04-08T15:56:49.378Z"
   },
   {
    "duration": 142,
    "start_time": "2024-04-08T15:57:12.229Z"
   },
   {
    "duration": 148,
    "start_time": "2024-04-08T16:00:27.009Z"
   },
   {
    "duration": 106,
    "start_time": "2024-04-08T16:00:33.075Z"
   },
   {
    "duration": 139,
    "start_time": "2024-04-08T16:00:55.033Z"
   },
   {
    "duration": 160,
    "start_time": "2024-04-08T16:01:05.626Z"
   },
   {
    "duration": 206,
    "start_time": "2024-04-08T16:01:12.895Z"
   },
   {
    "duration": 115,
    "start_time": "2024-04-08T16:01:16.604Z"
   },
   {
    "duration": 85,
    "start_time": "2024-04-08T16:01:21.146Z"
   },
   {
    "duration": 100,
    "start_time": "2024-04-08T16:01:23.981Z"
   },
   {
    "duration": 89,
    "start_time": "2024-04-08T16:01:27.253Z"
   },
   {
    "duration": 82,
    "start_time": "2024-04-08T16:01:29.659Z"
   },
   {
    "duration": 130,
    "start_time": "2024-04-08T16:01:31.921Z"
   },
   {
    "duration": 110,
    "start_time": "2024-04-08T16:01:40.463Z"
   },
   {
    "duration": 100,
    "start_time": "2024-04-08T16:01:43.837Z"
   },
   {
    "duration": 105,
    "start_time": "2024-04-08T16:01:46.228Z"
   },
   {
    "duration": 112,
    "start_time": "2024-04-08T16:09:02.144Z"
   },
   {
    "duration": 106,
    "start_time": "2024-04-08T16:09:05.554Z"
   },
   {
    "duration": 178,
    "start_time": "2024-04-08T16:09:09.608Z"
   },
   {
    "duration": 94,
    "start_time": "2024-04-08T16:10:10.202Z"
   },
   {
    "duration": 110,
    "start_time": "2024-04-08T16:10:15.625Z"
   },
   {
    "duration": 118,
    "start_time": "2024-04-08T16:10:18.523Z"
   },
   {
    "duration": 94,
    "start_time": "2024-04-08T16:10:24.406Z"
   },
   {
    "duration": 155,
    "start_time": "2024-04-08T16:10:27.753Z"
   },
   {
    "duration": 98,
    "start_time": "2024-04-08T16:10:30.895Z"
   },
   {
    "duration": 91,
    "start_time": "2024-04-08T16:10:33.182Z"
   },
   {
    "duration": 94,
    "start_time": "2024-04-08T16:10:35.086Z"
   },
   {
    "duration": 100,
    "start_time": "2024-04-08T16:10:38.325Z"
   },
   {
    "duration": 91,
    "start_time": "2024-04-08T16:10:40.705Z"
   },
   {
    "duration": 8,
    "start_time": "2024-04-08T16:11:38.242Z"
   },
   {
    "duration": 7,
    "start_time": "2024-04-08T16:13:18.082Z"
   },
   {
    "duration": 103,
    "start_time": "2024-04-08T16:13:43.516Z"
   },
   {
    "duration": 7,
    "start_time": "2024-04-08T16:15:19.007Z"
   },
   {
    "duration": 9,
    "start_time": "2024-04-08T16:15:39.450Z"
   },
   {
    "duration": 2146,
    "start_time": "2024-04-08T16:16:20.506Z"
   },
   {
    "duration": 22122,
    "start_time": "2024-04-08T16:17:35.134Z"
   },
   {
    "duration": 7,
    "start_time": "2024-04-08T16:18:40.109Z"
   },
   {
    "duration": 7,
    "start_time": "2024-04-08T16:19:03.109Z"
   },
   {
    "duration": 12063,
    "start_time": "2024-04-08T16:20:17.942Z"
   },
   {
    "duration": 642,
    "start_time": "2024-04-08T16:20:36.309Z"
   },
   {
    "duration": 35,
    "start_time": "2024-04-08T16:20:36.952Z"
   },
   {
    "duration": 11,
    "start_time": "2024-04-08T16:20:36.988Z"
   },
   {
    "duration": 33,
    "start_time": "2024-04-08T16:20:37.000Z"
   },
   {
    "duration": 24,
    "start_time": "2024-04-08T16:20:37.035Z"
   },
   {
    "duration": 21,
    "start_time": "2024-04-08T16:20:37.061Z"
   },
   {
    "duration": 6,
    "start_time": "2024-04-08T16:20:37.083Z"
   },
   {
    "duration": 6,
    "start_time": "2024-04-08T16:20:37.091Z"
   },
   {
    "duration": 4,
    "start_time": "2024-04-08T16:20:37.098Z"
   },
   {
    "duration": 14,
    "start_time": "2024-04-08T16:20:37.104Z"
   },
   {
    "duration": 6,
    "start_time": "2024-04-08T16:20:37.120Z"
   },
   {
    "duration": 7,
    "start_time": "2024-04-08T16:20:37.127Z"
   },
   {
    "duration": 21,
    "start_time": "2024-04-08T16:20:37.136Z"
   },
   {
    "duration": 15,
    "start_time": "2024-04-08T16:20:37.160Z"
   },
   {
    "duration": 42,
    "start_time": "2024-04-08T16:20:37.176Z"
   },
   {
    "duration": 180,
    "start_time": "2024-04-08T16:20:37.219Z"
   },
   {
    "duration": 21,
    "start_time": "2024-04-08T16:20:37.400Z"
   },
   {
    "duration": 10,
    "start_time": "2024-04-08T16:20:37.423Z"
   },
   {
    "duration": 21150,
    "start_time": "2024-04-08T16:20:37.435Z"
   },
   {
    "duration": 31,
    "start_time": "2024-04-08T16:20:58.587Z"
   },
   {
    "duration": 21,
    "start_time": "2024-04-08T16:20:58.620Z"
   },
   {
    "duration": 14,
    "start_time": "2024-04-08T16:20:58.643Z"
   },
   {
    "duration": 24,
    "start_time": "2024-04-08T16:20:58.659Z"
   },
   {
    "duration": 43,
    "start_time": "2024-04-08T16:20:58.687Z"
   },
   {
    "duration": 249,
    "start_time": "2024-04-08T16:20:58.732Z"
   },
   {
    "duration": 616,
    "start_time": "2024-04-08T16:20:58.983Z"
   },
   {
    "duration": 21520,
    "start_time": "2024-04-08T16:22:11.819Z"
   },
   {
    "duration": 21795,
    "start_time": "2024-04-08T16:22:49.833Z"
   },
   {
    "duration": 21914,
    "start_time": "2024-04-08T16:23:36.215Z"
   },
   {
    "duration": 1189,
    "start_time": "2024-04-08T16:26:11.920Z"
   },
   {
    "duration": 14,
    "start_time": "2024-04-08T16:26:22.296Z"
   },
   {
    "duration": 14,
    "start_time": "2024-04-08T16:27:48.791Z"
   },
   {
    "duration": 13,
    "start_time": "2024-04-08T16:28:00.460Z"
   },
   {
    "duration": 4,
    "start_time": "2024-04-08T16:28:36.031Z"
   },
   {
    "duration": 9,
    "start_time": "2024-04-08T16:28:53.716Z"
   },
   {
    "duration": 10,
    "start_time": "2024-04-08T16:29:08.020Z"
   },
   {
    "duration": 215,
    "start_time": "2024-04-08T16:29:23.171Z"
   },
   {
    "duration": 165,
    "start_time": "2024-04-08T16:29:29.416Z"
   },
   {
    "duration": 123,
    "start_time": "2024-04-08T16:29:48.318Z"
   },
   {
    "duration": 114,
    "start_time": "2024-04-08T16:30:08.433Z"
   },
   {
    "duration": 124,
    "start_time": "2024-04-08T16:30:14.936Z"
   },
   {
    "duration": 106,
    "start_time": "2024-04-08T16:30:24.788Z"
   },
   {
    "duration": 224,
    "start_time": "2024-04-08T16:31:01.207Z"
   },
   {
    "duration": 245,
    "start_time": "2024-04-08T16:31:07.600Z"
   },
   {
    "duration": 133,
    "start_time": "2024-04-08T16:31:47.770Z"
   },
   {
    "duration": 128,
    "start_time": "2024-04-08T16:31:55.124Z"
   },
   {
    "duration": 239,
    "start_time": "2024-04-08T16:32:14.073Z"
   },
   {
    "duration": 90,
    "start_time": "2024-04-08T16:34:04.663Z"
   },
   {
    "duration": 228,
    "start_time": "2024-04-08T16:34:33.048Z"
   },
   {
    "duration": 66,
    "start_time": "2024-04-08T16:36:33.698Z"
   },
   {
    "duration": 48,
    "start_time": "2024-04-08T16:36:35.691Z"
   },
   {
    "duration": 259,
    "start_time": "2024-04-08T16:36:52.703Z"
   },
   {
    "duration": 1944,
    "start_time": "2024-04-08T16:37:08.794Z"
   },
   {
    "duration": 230,
    "start_time": "2024-04-08T16:37:18.303Z"
   },
   {
    "duration": 698,
    "start_time": "2024-04-08T16:37:27.215Z"
   },
   {
    "duration": 245,
    "start_time": "2024-04-08T16:37:36.660Z"
   },
   {
    "duration": 127,
    "start_time": "2024-04-08T16:40:28.473Z"
   },
   {
    "duration": 11,
    "start_time": "2024-04-08T16:40:42.920Z"
   },
   {
    "duration": 123,
    "start_time": "2024-04-08T16:40:47.067Z"
   },
   {
    "duration": 13,
    "start_time": "2024-04-08T16:42:39.388Z"
   },
   {
    "duration": 12,
    "start_time": "2024-04-08T16:42:46.164Z"
   },
   {
    "duration": 165,
    "start_time": "2024-04-08T16:42:56.960Z"
   },
   {
    "duration": 188,
    "start_time": "2024-04-08T16:43:08.449Z"
   },
   {
    "duration": 12,
    "start_time": "2024-04-08T16:43:19.008Z"
   },
   {
    "duration": 134,
    "start_time": "2024-04-08T16:43:43.346Z"
   },
   {
    "duration": 232,
    "start_time": "2024-04-08T16:44:19.245Z"
   },
   {
    "duration": 126,
    "start_time": "2024-04-08T16:44:26.377Z"
   },
   {
    "duration": 515,
    "start_time": "2024-04-08T16:44:58.775Z"
   },
   {
    "duration": 608,
    "start_time": "2024-04-08T16:45:11.424Z"
   },
   {
    "duration": 277,
    "start_time": "2024-04-08T16:45:23.837Z"
   },
   {
    "duration": 249,
    "start_time": "2024-04-08T16:45:36.726Z"
   },
   {
    "duration": 247,
    "start_time": "2024-04-08T16:45:42.143Z"
   },
   {
    "duration": 20,
    "start_time": "2024-04-08T16:48:20.738Z"
   },
   {
    "duration": 0,
    "start_time": "2024-04-08T16:50:43.725Z"
   },
   {
    "duration": 18034,
    "start_time": "2024-04-08T16:50:56.600Z"
   },
   {
    "duration": 10184,
    "start_time": "2024-04-08T16:52:49.585Z"
   },
   {
    "duration": 555,
    "start_time": "2024-04-08T16:53:20.013Z"
   },
   {
    "duration": 126,
    "start_time": "2024-04-08T16:53:32.403Z"
   },
   {
    "duration": 1012,
    "start_time": "2024-04-08T16:53:47.467Z"
   },
   {
    "duration": 134,
    "start_time": "2024-04-08T16:53:57.636Z"
   },
   {
    "duration": 278,
    "start_time": "2024-04-08T16:54:56.404Z"
   },
   {
    "duration": 173,
    "start_time": "2024-04-08T16:55:02.844Z"
   },
   {
    "duration": 173,
    "start_time": "2024-04-08T16:55:12.956Z"
   },
   {
    "duration": 174,
    "start_time": "2024-04-08T16:55:17.314Z"
   },
   {
    "duration": 143,
    "start_time": "2024-04-08T16:55:29.470Z"
   },
   {
    "duration": 156,
    "start_time": "2024-04-08T16:55:46.880Z"
   },
   {
    "duration": 258,
    "start_time": "2024-04-08T16:56:26.291Z"
   },
   {
    "duration": 301,
    "start_time": "2024-04-08T16:59:13.117Z"
   },
   {
    "duration": 277,
    "start_time": "2024-04-08T16:59:54.449Z"
   },
   {
    "duration": 667,
    "start_time": "2024-04-08T17:00:46.304Z"
   },
   {
    "duration": 35,
    "start_time": "2024-04-08T17:00:46.973Z"
   },
   {
    "duration": 13,
    "start_time": "2024-04-08T17:00:47.009Z"
   },
   {
    "duration": 35,
    "start_time": "2024-04-08T17:00:47.023Z"
   },
   {
    "duration": 9,
    "start_time": "2024-04-08T17:00:47.061Z"
   },
   {
    "duration": 24,
    "start_time": "2024-04-08T17:00:47.072Z"
   },
   {
    "duration": 7,
    "start_time": "2024-04-08T17:00:47.098Z"
   },
   {
    "duration": 7,
    "start_time": "2024-04-08T17:00:47.118Z"
   },
   {
    "duration": 7,
    "start_time": "2024-04-08T17:00:47.127Z"
   },
   {
    "duration": 13,
    "start_time": "2024-04-08T17:00:47.136Z"
   },
   {
    "duration": 9,
    "start_time": "2024-04-08T17:00:47.151Z"
   },
   {
    "duration": 12,
    "start_time": "2024-04-08T17:00:47.161Z"
   },
   {
    "duration": 44,
    "start_time": "2024-04-08T17:00:47.176Z"
   },
   {
    "duration": 13,
    "start_time": "2024-04-08T17:00:47.223Z"
   },
   {
    "duration": 19,
    "start_time": "2024-04-08T17:00:47.238Z"
   },
   {
    "duration": 220,
    "start_time": "2024-04-08T17:00:47.258Z"
   },
   {
    "duration": 16,
    "start_time": "2024-04-08T17:00:47.480Z"
   },
   {
    "duration": 31,
    "start_time": "2024-04-08T17:00:47.497Z"
   },
   {
    "duration": 166,
    "start_time": "2024-04-08T17:00:47.530Z"
   },
   {
    "duration": 66,
    "start_time": "2024-04-08T17:00:47.697Z"
   },
   {
    "duration": 0,
    "start_time": "2024-04-08T17:00:47.764Z"
   },
   {
    "duration": 0,
    "start_time": "2024-04-08T17:00:47.766Z"
   },
   {
    "duration": 0,
    "start_time": "2024-04-08T17:00:47.767Z"
   },
   {
    "duration": 0,
    "start_time": "2024-04-08T17:00:47.768Z"
   },
   {
    "duration": 0,
    "start_time": "2024-04-08T17:00:47.769Z"
   },
   {
    "duration": 0,
    "start_time": "2024-04-08T17:00:47.770Z"
   },
   {
    "duration": 0,
    "start_time": "2024-04-08T17:00:47.771Z"
   },
   {
    "duration": 0,
    "start_time": "2024-04-08T17:00:47.772Z"
   },
   {
    "duration": 0,
    "start_time": "2024-04-08T17:00:47.773Z"
   },
   {
    "duration": 0,
    "start_time": "2024-04-08T17:00:47.774Z"
   },
   {
    "duration": 0,
    "start_time": "2024-04-08T17:00:47.776Z"
   },
   {
    "duration": 157,
    "start_time": "2024-04-08T17:00:54.980Z"
   },
   {
    "duration": 257,
    "start_time": "2024-04-08T17:00:55.852Z"
   },
   {
    "duration": 362,
    "start_time": "2024-04-08T17:01:05.563Z"
   },
   {
    "duration": 312,
    "start_time": "2024-04-08T17:01:05.927Z"
   },
   {
    "duration": 16,
    "start_time": "2024-04-08T17:01:06.297Z"
   },
   {
    "duration": 314,
    "start_time": "2024-04-08T17:01:24.337Z"
   },
   {
    "duration": 127,
    "start_time": "2024-04-08T17:03:05.300Z"
   },
   {
    "duration": 128,
    "start_time": "2024-04-08T17:03:05.934Z"
   },
   {
    "duration": 144,
    "start_time": "2024-04-08T17:03:12.833Z"
   },
   {
    "duration": 149,
    "start_time": "2024-04-08T17:03:20.285Z"
   },
   {
    "duration": 174,
    "start_time": "2024-04-08T17:03:25.418Z"
   },
   {
    "duration": 0,
    "start_time": "2024-04-08T17:03:41.005Z"
   },
   {
    "duration": 185,
    "start_time": "2024-04-08T17:03:43.431Z"
   },
   {
    "duration": 9,
    "start_time": "2024-04-08T17:05:20.436Z"
   },
   {
    "duration": 6,
    "start_time": "2024-04-08T17:05:25.364Z"
   },
   {
    "duration": 7,
    "start_time": "2024-04-08T17:05:29.379Z"
   },
   {
    "duration": 17,
    "start_time": "2024-04-08T17:05:36.888Z"
   },
   {
    "duration": 21,
    "start_time": "2024-04-08T17:11:00.809Z"
   },
   {
    "duration": 25,
    "start_time": "2024-04-08T17:11:39.356Z"
   },
   {
    "duration": 12,
    "start_time": "2024-04-08T17:11:59.162Z"
   },
   {
    "duration": 20,
    "start_time": "2024-04-08T17:12:04.405Z"
   },
   {
    "duration": 23,
    "start_time": "2024-04-08T17:13:58.109Z"
   },
   {
    "duration": 21,
    "start_time": "2024-04-08T17:14:04.483Z"
   },
   {
    "duration": 21,
    "start_time": "2024-04-08T17:15:21.792Z"
   },
   {
    "duration": 17,
    "start_time": "2024-04-08T17:15:34.780Z"
   },
   {
    "duration": 14,
    "start_time": "2024-04-08T17:16:00.967Z"
   },
   {
    "duration": 54,
    "start_time": "2024-04-08T17:19:45.882Z"
   },
   {
    "duration": 30,
    "start_time": "2024-04-08T17:20:04.821Z"
   },
   {
    "duration": 16,
    "start_time": "2024-04-08T17:20:28.007Z"
   },
   {
    "duration": 25,
    "start_time": "2024-04-08T17:20:37.712Z"
   },
   {
    "duration": 26,
    "start_time": "2024-04-08T17:21:03.182Z"
   },
   {
    "duration": 27,
    "start_time": "2024-04-08T17:23:43.594Z"
   },
   {
    "duration": 26,
    "start_time": "2024-04-08T17:23:56.860Z"
   },
   {
    "duration": 47,
    "start_time": "2024-04-08T17:24:10.820Z"
   },
   {
    "duration": 31,
    "start_time": "2024-04-08T17:24:25.448Z"
   },
   {
    "duration": 32,
    "start_time": "2024-04-08T17:24:31.632Z"
   },
   {
    "duration": 35,
    "start_time": "2024-04-08T17:25:02.224Z"
   },
   {
    "duration": 30,
    "start_time": "2024-04-08T17:25:36.032Z"
   },
   {
    "duration": 14,
    "start_time": "2024-04-08T17:25:43.720Z"
   },
   {
    "duration": 29,
    "start_time": "2024-04-08T17:25:44.751Z"
   },
   {
    "duration": 10,
    "start_time": "2024-04-08T17:25:51.063Z"
   },
   {
    "duration": 10,
    "start_time": "2024-04-08T17:25:55.752Z"
   },
   {
    "duration": 28,
    "start_time": "2024-04-08T17:26:00.821Z"
   },
   {
    "duration": 14,
    "start_time": "2024-04-08T17:26:07.424Z"
   },
   {
    "duration": 29,
    "start_time": "2024-04-08T17:26:36.236Z"
   },
   {
    "duration": 28,
    "start_time": "2024-04-08T17:27:14.830Z"
   },
   {
    "duration": 17,
    "start_time": "2024-04-08T17:27:19.350Z"
   },
   {
    "duration": 25,
    "start_time": "2024-04-08T17:27:24.792Z"
   },
   {
    "duration": 26,
    "start_time": "2024-04-08T17:30:50.656Z"
   },
   {
    "duration": 22,
    "start_time": "2024-04-08T17:35:41.731Z"
   },
   {
    "duration": 29,
    "start_time": "2024-04-08T17:39:37.612Z"
   },
   {
    "duration": 23,
    "start_time": "2024-04-08T17:40:07.586Z"
   },
   {
    "duration": 30,
    "start_time": "2024-04-08T17:40:16.408Z"
   },
   {
    "duration": 7,
    "start_time": "2024-04-08T17:40:36.468Z"
   },
   {
    "duration": 19,
    "start_time": "2024-04-08T17:40:40.454Z"
   },
   {
    "duration": 38,
    "start_time": "2024-04-08T17:40:57.021Z"
   },
   {
    "duration": 25,
    "start_time": "2024-04-08T17:41:05.936Z"
   },
   {
    "duration": 26,
    "start_time": "2024-04-08T17:42:54.412Z"
   },
   {
    "duration": 26,
    "start_time": "2024-04-08T17:43:00.711Z"
   },
   {
    "duration": 29,
    "start_time": "2024-04-08T17:43:22.545Z"
   },
   {
    "duration": 28,
    "start_time": "2024-04-08T17:44:39.364Z"
   },
   {
    "duration": 28,
    "start_time": "2024-04-08T17:44:55.028Z"
   },
   {
    "duration": 1148,
    "start_time": "2024-04-08T17:54:18.423Z"
   },
   {
    "duration": 30,
    "start_time": "2024-04-08T17:55:35.159Z"
   },
   {
    "duration": 31,
    "start_time": "2024-04-08T17:56:09.724Z"
   },
   {
    "duration": 25,
    "start_time": "2024-04-08T17:58:43.309Z"
   },
   {
    "duration": 36,
    "start_time": "2024-04-08T18:02:12.943Z"
   },
   {
    "duration": 33,
    "start_time": "2024-04-08T18:02:18.988Z"
   },
   {
    "duration": 36,
    "start_time": "2024-04-08T18:02:22.330Z"
   },
   {
    "duration": 20,
    "start_time": "2024-04-08T18:04:13.304Z"
   },
   {
    "duration": 17,
    "start_time": "2024-04-08T18:04:36.401Z"
   },
   {
    "duration": 14,
    "start_time": "2024-04-08T18:05:11.988Z"
   },
   {
    "duration": 12,
    "start_time": "2024-04-08T18:05:23.131Z"
   },
   {
    "duration": 19,
    "start_time": "2024-04-08T18:05:59.022Z"
   },
   {
    "duration": 1164,
    "start_time": "2024-04-08T18:06:37.512Z"
   },
   {
    "duration": 33,
    "start_time": "2024-04-08T18:06:47.288Z"
   },
   {
    "duration": 10,
    "start_time": "2024-04-08T18:07:17.675Z"
   },
   {
    "duration": 1230,
    "start_time": "2024-04-08T18:07:23.150Z"
   },
   {
    "duration": 10,
    "start_time": "2024-04-08T18:07:29.870Z"
   },
   {
    "duration": 1395,
    "start_time": "2024-04-08T18:07:32.711Z"
   },
   {
    "duration": 20,
    "start_time": "2024-04-08T18:07:46.521Z"
   },
   {
    "duration": 637,
    "start_time": "2024-04-08T18:08:01.536Z"
   },
   {
    "duration": 36,
    "start_time": "2024-04-08T18:08:02.175Z"
   },
   {
    "duration": 14,
    "start_time": "2024-04-08T18:08:02.213Z"
   },
   {
    "duration": 58,
    "start_time": "2024-04-08T18:08:02.230Z"
   },
   {
    "duration": 32,
    "start_time": "2024-04-08T18:08:02.290Z"
   },
   {
    "duration": 66,
    "start_time": "2024-04-08T18:08:02.324Z"
   },
   {
    "duration": 9,
    "start_time": "2024-04-08T18:08:02.391Z"
   },
   {
    "duration": 26,
    "start_time": "2024-04-08T18:08:02.402Z"
   },
   {
    "duration": 40,
    "start_time": "2024-04-08T18:08:02.430Z"
   },
   {
    "duration": 48,
    "start_time": "2024-04-08T18:08:02.472Z"
   },
   {
    "duration": 22,
    "start_time": "2024-04-08T18:08:02.522Z"
   },
   {
    "duration": 62,
    "start_time": "2024-04-08T18:08:02.545Z"
   },
   {
    "duration": 22,
    "start_time": "2024-04-08T18:08:02.609Z"
   },
   {
    "duration": 68,
    "start_time": "2024-04-08T18:08:02.632Z"
   },
   {
    "duration": 35,
    "start_time": "2024-04-08T18:08:02.701Z"
   },
   {
    "duration": 211,
    "start_time": "2024-04-08T18:08:02.738Z"
   },
   {
    "duration": 21,
    "start_time": "2024-04-08T18:08:02.955Z"
   },
   {
    "duration": 25,
    "start_time": "2024-04-08T18:08:02.978Z"
   },
   {
    "duration": 166,
    "start_time": "2024-04-08T18:08:03.005Z"
   },
   {
    "duration": 170,
    "start_time": "2024-04-08T18:08:03.173Z"
   },
   {
    "duration": 293,
    "start_time": "2024-04-08T18:08:03.345Z"
   },
   {
    "duration": 273,
    "start_time": "2024-04-08T18:08:03.640Z"
   },
   {
    "duration": 77,
    "start_time": "2024-04-08T18:08:03.918Z"
   },
   {
    "duration": 0,
    "start_time": "2024-04-08T18:08:03.998Z"
   },
   {
    "duration": 0,
    "start_time": "2024-04-08T18:08:03.999Z"
   },
   {
    "duration": 0,
    "start_time": "2024-04-08T18:08:04.018Z"
   },
   {
    "duration": 0,
    "start_time": "2024-04-08T18:08:04.019Z"
   },
   {
    "duration": 0,
    "start_time": "2024-04-08T18:08:04.021Z"
   },
   {
    "duration": 0,
    "start_time": "2024-04-08T18:08:04.022Z"
   },
   {
    "duration": 0,
    "start_time": "2024-04-08T18:08:04.023Z"
   },
   {
    "duration": 0,
    "start_time": "2024-04-08T18:08:04.024Z"
   },
   {
    "duration": 0,
    "start_time": "2024-04-08T18:08:04.026Z"
   },
   {
    "duration": 0,
    "start_time": "2024-04-08T18:08:04.027Z"
   },
   {
    "duration": 0,
    "start_time": "2024-04-08T18:08:04.028Z"
   },
   {
    "duration": 0,
    "start_time": "2024-04-08T18:08:04.029Z"
   },
   {
    "duration": 655,
    "start_time": "2024-04-08T18:08:22.048Z"
   },
   {
    "duration": 36,
    "start_time": "2024-04-08T18:08:22.704Z"
   },
   {
    "duration": 12,
    "start_time": "2024-04-08T18:08:22.742Z"
   },
   {
    "duration": 43,
    "start_time": "2024-04-08T18:08:22.755Z"
   },
   {
    "duration": 9,
    "start_time": "2024-04-08T18:08:22.800Z"
   },
   {
    "duration": 31,
    "start_time": "2024-04-08T18:08:22.812Z"
   },
   {
    "duration": 9,
    "start_time": "2024-04-08T18:08:22.845Z"
   },
   {
    "duration": 10,
    "start_time": "2024-04-08T18:08:22.856Z"
   },
   {
    "duration": 7,
    "start_time": "2024-04-08T18:08:22.868Z"
   },
   {
    "duration": 9,
    "start_time": "2024-04-08T18:08:22.877Z"
   },
   {
    "duration": 39,
    "start_time": "2024-04-08T18:08:22.887Z"
   },
   {
    "duration": 11,
    "start_time": "2024-04-08T18:08:22.928Z"
   },
   {
    "duration": 5,
    "start_time": "2024-04-08T18:08:22.941Z"
   },
   {
    "duration": 14,
    "start_time": "2024-04-08T18:08:22.949Z"
   },
   {
    "duration": 54,
    "start_time": "2024-04-08T18:08:22.965Z"
   },
   {
    "duration": 207,
    "start_time": "2024-04-08T18:08:23.021Z"
   },
   {
    "duration": 17,
    "start_time": "2024-04-08T18:08:23.230Z"
   },
   {
    "duration": 22,
    "start_time": "2024-04-08T18:08:23.248Z"
   },
   {
    "duration": 162,
    "start_time": "2024-04-08T18:08:23.272Z"
   },
   {
    "duration": 148,
    "start_time": "2024-04-08T18:08:23.435Z"
   },
   {
    "duration": 323,
    "start_time": "2024-04-08T18:08:23.585Z"
   },
   {
    "duration": 259,
    "start_time": "2024-04-08T18:08:23.909Z"
   },
   {
    "duration": 183,
    "start_time": "2024-04-08T18:08:24.169Z"
   },
   {
    "duration": 82,
    "start_time": "2024-04-08T18:08:24.354Z"
   },
   {
    "duration": 0,
    "start_time": "2024-04-08T18:08:24.438Z"
   },
   {
    "duration": 0,
    "start_time": "2024-04-08T18:08:24.440Z"
   },
   {
    "duration": 0,
    "start_time": "2024-04-08T18:08:24.441Z"
   },
   {
    "duration": 0,
    "start_time": "2024-04-08T18:08:24.442Z"
   },
   {
    "duration": 0,
    "start_time": "2024-04-08T18:08:24.444Z"
   },
   {
    "duration": 0,
    "start_time": "2024-04-08T18:08:24.445Z"
   },
   {
    "duration": 0,
    "start_time": "2024-04-08T18:08:24.447Z"
   },
   {
    "duration": 0,
    "start_time": "2024-04-08T18:08:24.449Z"
   },
   {
    "duration": 0,
    "start_time": "2024-04-08T18:08:24.449Z"
   },
   {
    "duration": 0,
    "start_time": "2024-04-08T18:08:24.451Z"
   },
   {
    "duration": 640,
    "start_time": "2024-04-08T18:08:30.766Z"
   },
   {
    "duration": 36,
    "start_time": "2024-04-08T18:08:31.408Z"
   },
   {
    "duration": 11,
    "start_time": "2024-04-08T18:08:31.446Z"
   },
   {
    "duration": 66,
    "start_time": "2024-04-08T18:08:31.459Z"
   },
   {
    "duration": 44,
    "start_time": "2024-04-08T18:08:31.527Z"
   },
   {
    "duration": 56,
    "start_time": "2024-04-08T18:08:31.573Z"
   },
   {
    "duration": 13,
    "start_time": "2024-04-08T18:08:31.631Z"
   },
   {
    "duration": 53,
    "start_time": "2024-04-08T18:08:31.646Z"
   },
   {
    "duration": 24,
    "start_time": "2024-04-08T18:08:31.701Z"
   },
   {
    "duration": 10,
    "start_time": "2024-04-08T18:08:31.727Z"
   },
   {
    "duration": 53,
    "start_time": "2024-04-08T18:08:31.738Z"
   },
   {
    "duration": 16,
    "start_time": "2024-04-08T18:08:31.793Z"
   },
   {
    "duration": 11,
    "start_time": "2024-04-08T18:08:31.811Z"
   },
   {
    "duration": 37,
    "start_time": "2024-04-08T18:08:31.825Z"
   },
   {
    "duration": 21,
    "start_time": "2024-04-08T18:08:31.864Z"
   },
   {
    "duration": 220,
    "start_time": "2024-04-08T18:08:31.887Z"
   },
   {
    "duration": 23,
    "start_time": "2024-04-08T18:08:32.109Z"
   },
   {
    "duration": 34,
    "start_time": "2024-04-08T18:08:32.134Z"
   },
   {
    "duration": 171,
    "start_time": "2024-04-08T18:08:32.169Z"
   },
   {
    "duration": 151,
    "start_time": "2024-04-08T18:08:32.342Z"
   },
   {
    "duration": 327,
    "start_time": "2024-04-08T18:08:32.495Z"
   },
   {
    "duration": 266,
    "start_time": "2024-04-08T18:08:32.824Z"
   },
   {
    "duration": 186,
    "start_time": "2024-04-08T18:08:33.092Z"
   },
   {
    "duration": 16,
    "start_time": "2024-04-08T18:08:33.279Z"
   },
   {
    "duration": 35,
    "start_time": "2024-04-08T18:08:33.296Z"
   },
   {
    "duration": 8,
    "start_time": "2024-04-08T18:08:33.332Z"
   },
   {
    "duration": 35,
    "start_time": "2024-04-08T18:08:33.342Z"
   },
   {
    "duration": 24,
    "start_time": "2024-04-08T18:08:33.379Z"
   },
   {
    "duration": 27,
    "start_time": "2024-04-08T18:08:33.405Z"
   },
   {
    "duration": 247,
    "start_time": "2024-04-08T18:08:33.434Z"
   },
   {
    "duration": 280,
    "start_time": "2024-04-08T18:08:33.683Z"
   },
   {
    "duration": 52,
    "start_time": "2024-04-08T18:08:33.965Z"
   },
   {
    "duration": 1047,
    "start_time": "2024-04-08T18:08:34.019Z"
   },
   {
    "duration": 19,
    "start_time": "2024-04-08T18:08:48.230Z"
   },
   {
    "duration": 17,
    "start_time": "2024-04-08T18:08:55.439Z"
   },
   {
    "duration": 8,
    "start_time": "2024-04-08T18:09:03.344Z"
   },
   {
    "duration": 13,
    "start_time": "2024-04-08T18:09:06.034Z"
   },
   {
    "duration": 19,
    "start_time": "2024-04-08T18:09:09.681Z"
   },
   {
    "duration": 25,
    "start_time": "2024-04-08T18:10:31.775Z"
   },
   {
    "duration": 32,
    "start_time": "2024-04-08T18:11:03.932Z"
   },
   {
    "duration": 8,
    "start_time": "2024-04-08T18:11:05.537Z"
   },
   {
    "duration": 13,
    "start_time": "2024-04-08T18:11:08.962Z"
   },
   {
    "duration": 60,
    "start_time": "2024-04-08T18:11:53.194Z"
   },
   {
    "duration": 40,
    "start_time": "2024-04-08T18:12:05.389Z"
   },
   {
    "duration": 44,
    "start_time": "2024-04-08T18:12:09.781Z"
   },
   {
    "duration": 37,
    "start_time": "2024-04-08T18:12:22.612Z"
   },
   {
    "duration": 32,
    "start_time": "2024-04-08T18:13:07.171Z"
   },
   {
    "duration": 35,
    "start_time": "2024-04-08T18:13:10.017Z"
   },
   {
    "duration": 32,
    "start_time": "2024-04-08T18:13:12.194Z"
   },
   {
    "duration": 47,
    "start_time": "2024-04-08T18:13:14.357Z"
   },
   {
    "duration": 33,
    "start_time": "2024-04-08T18:13:16.540Z"
   },
   {
    "duration": 33,
    "start_time": "2024-04-08T18:13:18.752Z"
   },
   {
    "duration": 33,
    "start_time": "2024-04-08T18:13:27.477Z"
   },
   {
    "duration": 18,
    "start_time": "2024-04-08T18:15:17.584Z"
   },
   {
    "duration": 51,
    "start_time": "2024-04-08T18:15:20.281Z"
   },
   {
    "duration": 11,
    "start_time": "2024-04-08T18:15:24.131Z"
   },
   {
    "duration": 19,
    "start_time": "2024-04-08T18:19:27.743Z"
   },
   {
    "duration": 23,
    "start_time": "2024-04-08T18:19:39.541Z"
   },
   {
    "duration": 9,
    "start_time": "2024-04-08T18:19:48.617Z"
   },
   {
    "duration": 13,
    "start_time": "2024-04-08T18:19:50.363Z"
   },
   {
    "duration": 21,
    "start_time": "2024-04-08T18:20:32.786Z"
   },
   {
    "duration": 6,
    "start_time": "2024-04-08T18:20:39.675Z"
   },
   {
    "duration": 13,
    "start_time": "2024-04-08T18:20:41.200Z"
   },
   {
    "duration": 5,
    "start_time": "2024-04-08T18:23:43.661Z"
   },
   {
    "duration": 20,
    "start_time": "2024-04-08T18:23:44.216Z"
   },
   {
    "duration": 20,
    "start_time": "2024-04-08T18:23:47.439Z"
   },
   {
    "duration": 13,
    "start_time": "2024-04-08T18:23:49.983Z"
   },
   {
    "duration": 7,
    "start_time": "2024-04-08T18:23:51.798Z"
   },
   {
    "duration": 20,
    "start_time": "2024-04-08T18:23:52.240Z"
   },
   {
    "duration": 5,
    "start_time": "2024-04-08T18:24:11.487Z"
   },
   {
    "duration": 19,
    "start_time": "2024-04-08T18:24:12.268Z"
   },
   {
    "duration": 8,
    "start_time": "2024-04-08T18:24:22.685Z"
   },
   {
    "duration": 42,
    "start_time": "2024-04-08T18:25:58.610Z"
   },
   {
    "duration": 31,
    "start_time": "2024-04-08T18:27:32.168Z"
   },
   {
    "duration": 9,
    "start_time": "2024-04-08T18:27:44.251Z"
   },
   {
    "duration": 19,
    "start_time": "2024-04-08T18:27:46.301Z"
   },
   {
    "duration": 16,
    "start_time": "2024-04-08T18:28:04.775Z"
   },
   {
    "duration": 34,
    "start_time": "2024-04-08T18:30:25.776Z"
   },
   {
    "duration": 36,
    "start_time": "2024-04-08T18:30:43.671Z"
   },
   {
    "duration": 8,
    "start_time": "2024-04-08T18:30:49.298Z"
   },
   {
    "duration": 17,
    "start_time": "2024-04-08T18:30:51.356Z"
   },
   {
    "duration": 9,
    "start_time": "2024-04-08T18:31:27.748Z"
   },
   {
    "duration": 1029,
    "start_time": "2024-04-08T18:31:28.688Z"
   },
   {
    "duration": 1114,
    "start_time": "2024-04-08T18:31:48.634Z"
   },
   {
    "duration": 17,
    "start_time": "2024-04-08T18:31:57.184Z"
   },
   {
    "duration": 24,
    "start_time": "2024-04-08T18:32:06.616Z"
   },
   {
    "duration": 652,
    "start_time": "2024-04-08T18:32:14.995Z"
   },
   {
    "duration": 36,
    "start_time": "2024-04-08T18:32:15.649Z"
   },
   {
    "duration": 11,
    "start_time": "2024-04-08T18:32:15.687Z"
   },
   {
    "duration": 40,
    "start_time": "2024-04-08T18:32:15.700Z"
   },
   {
    "duration": 12,
    "start_time": "2024-04-08T18:32:15.742Z"
   },
   {
    "duration": 40,
    "start_time": "2024-04-08T18:32:15.755Z"
   },
   {
    "duration": 7,
    "start_time": "2024-04-08T18:32:15.796Z"
   },
   {
    "duration": 7,
    "start_time": "2024-04-08T18:32:15.805Z"
   },
   {
    "duration": 5,
    "start_time": "2024-04-08T18:32:15.814Z"
   },
   {
    "duration": 14,
    "start_time": "2024-04-08T18:32:15.820Z"
   },
   {
    "duration": 10,
    "start_time": "2024-04-08T18:32:15.835Z"
   },
   {
    "duration": 9,
    "start_time": "2024-04-08T18:32:15.847Z"
   },
   {
    "duration": 5,
    "start_time": "2024-04-08T18:32:15.857Z"
   },
   {
    "duration": 14,
    "start_time": "2024-04-08T18:32:15.865Z"
   },
   {
    "duration": 52,
    "start_time": "2024-04-08T18:32:15.881Z"
   },
   {
    "duration": 189,
    "start_time": "2024-04-08T18:32:15.934Z"
   },
   {
    "duration": 15,
    "start_time": "2024-04-08T18:32:16.125Z"
   },
   {
    "duration": 18,
    "start_time": "2024-04-08T18:32:16.141Z"
   },
   {
    "duration": 158,
    "start_time": "2024-04-08T18:32:16.161Z"
   },
   {
    "duration": 132,
    "start_time": "2024-04-08T18:32:16.321Z"
   },
   {
    "duration": 266,
    "start_time": "2024-04-08T18:32:16.454Z"
   },
   {
    "duration": 238,
    "start_time": "2024-04-08T18:32:16.721Z"
   },
   {
    "duration": 184,
    "start_time": "2024-04-08T18:32:16.960Z"
   },
   {
    "duration": 16,
    "start_time": "2024-04-08T18:32:17.145Z"
   },
   {
    "duration": 19,
    "start_time": "2024-04-08T18:32:17.162Z"
   },
   {
    "duration": 36,
    "start_time": "2024-04-08T18:32:17.183Z"
   },
   {
    "duration": 7,
    "start_time": "2024-04-08T18:32:17.221Z"
   },
   {
    "duration": 27,
    "start_time": "2024-04-08T18:32:17.230Z"
   },
   {
    "duration": 16,
    "start_time": "2024-04-08T18:32:17.258Z"
   },
   {
    "duration": 245,
    "start_time": "2024-04-08T18:32:17.276Z"
   },
   {
    "duration": 255,
    "start_time": "2024-04-08T18:32:17.523Z"
   },
   {
    "duration": 43,
    "start_time": "2024-04-08T18:32:17.779Z"
   },
   {
    "duration": 8,
    "start_time": "2024-04-08T18:32:17.823Z"
   },
   {
    "duration": 16,
    "start_time": "2024-04-08T18:32:17.833Z"
   },
   {
    "duration": 16,
    "start_time": "2024-04-08T18:32:32.191Z"
   },
   {
    "duration": 22,
    "start_time": "2024-04-08T18:33:24.393Z"
   },
   {
    "duration": 1098,
    "start_time": "2024-04-08T18:33:29.900Z"
   },
   {
    "duration": 12,
    "start_time": "2024-04-08T18:33:44.097Z"
   },
   {
    "duration": 32,
    "start_time": "2024-04-08T18:33:48.227Z"
   },
   {
    "duration": 9,
    "start_time": "2024-04-08T18:33:52.927Z"
   },
   {
    "duration": 28,
    "start_time": "2024-04-08T18:33:55.145Z"
   },
   {
    "duration": 1053,
    "start_time": "2024-04-08T18:34:30.166Z"
   },
   {
    "duration": 33,
    "start_time": "2024-04-08T18:34:34.265Z"
   },
   {
    "duration": 9,
    "start_time": "2024-04-08T18:34:35.477Z"
   },
   {
    "duration": 17,
    "start_time": "2024-04-08T18:34:43.903Z"
   },
   {
    "duration": 18,
    "start_time": "2024-04-08T18:34:51.096Z"
   },
   {
    "duration": 17,
    "start_time": "2024-04-08T18:34:54.308Z"
   },
   {
    "duration": 32,
    "start_time": "2024-04-08T18:35:24.084Z"
   },
   {
    "duration": 34,
    "start_time": "2024-04-08T18:35:37.401Z"
   },
   {
    "duration": 41,
    "start_time": "2024-04-08T18:35:47.611Z"
   },
   {
    "duration": 14,
    "start_time": "2024-04-08T18:36:23.562Z"
   },
   {
    "duration": 11,
    "start_time": "2024-04-08T18:37:18.939Z"
   },
   {
    "duration": 9,
    "start_time": "2024-04-08T18:37:47.124Z"
   },
   {
    "duration": 9,
    "start_time": "2024-04-08T18:39:59.519Z"
   },
   {
    "duration": 9,
    "start_time": "2024-04-08T18:40:07.852Z"
   },
   {
    "duration": 8,
    "start_time": "2024-04-08T18:40:10.668Z"
   },
   {
    "duration": 12,
    "start_time": "2024-04-08T18:45:02.158Z"
   },
   {
    "duration": 19,
    "start_time": "2024-04-08T18:45:07.418Z"
   },
   {
    "duration": 16,
    "start_time": "2024-04-08T18:45:20.050Z"
   },
   {
    "duration": 28,
    "start_time": "2024-04-08T18:45:52.946Z"
   },
   {
    "duration": 31,
    "start_time": "2024-04-08T18:46:07.130Z"
   },
   {
    "duration": 30,
    "start_time": "2024-04-08T18:46:11.402Z"
   },
   {
    "duration": 2,
    "start_time": "2024-04-08T18:48:38.987Z"
   },
   {
    "duration": 978,
    "start_time": "2024-04-08T18:48:59.742Z"
   },
   {
    "duration": 29,
    "start_time": "2024-04-08T18:49:06.500Z"
   },
   {
    "duration": 9,
    "start_time": "2024-04-08T18:49:08.746Z"
   },
   {
    "duration": 20,
    "start_time": "2024-04-08T18:49:09.572Z"
   },
   {
    "duration": 26,
    "start_time": "2024-04-08T18:49:31.438Z"
   },
   {
    "duration": 27,
    "start_time": "2024-04-08T18:49:37.464Z"
   },
   {
    "duration": 25,
    "start_time": "2024-04-08T18:49:41.643Z"
   },
   {
    "duration": 24,
    "start_time": "2024-04-08T18:49:57.873Z"
   },
   {
    "duration": 8,
    "start_time": "2024-04-08T18:50:00.067Z"
   },
   {
    "duration": 19,
    "start_time": "2024-04-08T18:50:00.367Z"
   },
   {
    "duration": 31,
    "start_time": "2024-04-08T18:50:05.843Z"
   },
   {
    "duration": 9,
    "start_time": "2024-04-08T18:50:09.819Z"
   },
   {
    "duration": 24,
    "start_time": "2024-04-08T18:50:10.836Z"
   },
   {
    "duration": 13,
    "start_time": "2024-04-08T18:51:01.694Z"
   },
   {
    "duration": 18,
    "start_time": "2024-04-08T18:51:15.877Z"
   },
   {
    "duration": 57,
    "start_time": "2024-04-08T18:51:47.592Z"
   },
   {
    "duration": 26,
    "start_time": "2024-04-08T18:51:53.918Z"
   },
   {
    "duration": 29,
    "start_time": "2024-04-08T18:53:50.270Z"
   },
   {
    "duration": 8,
    "start_time": "2024-04-08T18:54:26.451Z"
   },
   {
    "duration": 16,
    "start_time": "2024-04-08T18:54:33.787Z"
   },
   {
    "duration": 24,
    "start_time": "2024-04-08T18:55:21.097Z"
   },
   {
    "duration": 30,
    "start_time": "2024-04-08T18:56:07.163Z"
   },
   {
    "duration": 13,
    "start_time": "2024-04-08T18:56:08.345Z"
   },
   {
    "duration": 23,
    "start_time": "2024-04-08T18:56:08.775Z"
   },
   {
    "duration": 813,
    "start_time": "2024-04-08T18:57:29.321Z"
   },
   {
    "duration": 34,
    "start_time": "2024-04-08T18:57:37.709Z"
   },
   {
    "duration": 10,
    "start_time": "2024-04-08T18:57:38.800Z"
   },
   {
    "duration": 16,
    "start_time": "2024-04-08T18:57:43.447Z"
   },
   {
    "duration": 767,
    "start_time": "2024-04-08T18:57:52.202Z"
   },
   {
    "duration": 12,
    "start_time": "2024-04-08T18:58:35.788Z"
   },
   {
    "duration": 16,
    "start_time": "2024-04-08T18:58:42.128Z"
   },
   {
    "duration": 31,
    "start_time": "2024-04-08T18:58:46.909Z"
   },
   {
    "duration": 8,
    "start_time": "2024-04-08T18:58:47.782Z"
   },
   {
    "duration": 10,
    "start_time": "2024-04-08T18:58:50.297Z"
   },
   {
    "duration": 21,
    "start_time": "2024-04-08T18:58:50.759Z"
   },
   {
    "duration": 38,
    "start_time": "2024-04-08T18:59:12.668Z"
   },
   {
    "duration": 9,
    "start_time": "2024-04-08T18:59:13.429Z"
   },
   {
    "duration": 15,
    "start_time": "2024-04-08T18:59:13.730Z"
   },
   {
    "duration": 12,
    "start_time": "2024-04-08T18:59:14.192Z"
   },
   {
    "duration": 21,
    "start_time": "2024-04-08T18:59:15.087Z"
   },
   {
    "duration": 1100,
    "start_time": "2024-04-08T18:59:38.109Z"
   },
   {
    "duration": 30,
    "start_time": "2024-04-08T18:59:42.076Z"
   },
   {
    "duration": 10,
    "start_time": "2024-04-08T18:59:42.822Z"
   },
   {
    "duration": 14,
    "start_time": "2024-04-08T18:59:43.503Z"
   },
   {
    "duration": 18,
    "start_time": "2024-04-08T18:59:44.112Z"
   },
   {
    "duration": 1224,
    "start_time": "2024-04-08T19:00:05.420Z"
   },
   {
    "duration": 29,
    "start_time": "2024-04-08T19:00:16.648Z"
   },
   {
    "duration": 9,
    "start_time": "2024-04-08T19:00:17.351Z"
   },
   {
    "duration": 14,
    "start_time": "2024-04-08T19:00:17.622Z"
   },
   {
    "duration": 21,
    "start_time": "2024-04-08T19:00:18.051Z"
   },
   {
    "duration": 17,
    "start_time": "2024-04-08T19:00:18.467Z"
   },
   {
    "duration": 30,
    "start_time": "2024-04-08T19:00:52.451Z"
   },
   {
    "duration": 9,
    "start_time": "2024-04-08T19:00:53.198Z"
   },
   {
    "duration": 15,
    "start_time": "2024-04-08T19:00:53.622Z"
   },
   {
    "duration": 12,
    "start_time": "2024-04-08T19:00:55.743Z"
   },
   {
    "duration": 62,
    "start_time": "2024-04-08T19:01:04.214Z"
   },
   {
    "duration": 1102,
    "start_time": "2024-04-08T19:01:17.268Z"
   },
   {
    "duration": 0,
    "start_time": "2024-04-08T19:01:18.372Z"
   },
   {
    "duration": 40,
    "start_time": "2024-04-08T19:01:23.748Z"
   },
   {
    "duration": 9,
    "start_time": "2024-04-08T19:01:24.227Z"
   },
   {
    "duration": 14,
    "start_time": "2024-04-08T19:01:24.384Z"
   },
   {
    "duration": 23,
    "start_time": "2024-04-08T19:01:24.936Z"
   },
   {
    "duration": 14,
    "start_time": "2024-04-08T19:01:32.925Z"
   },
   {
    "duration": 1046,
    "start_time": "2024-04-08T19:01:44.290Z"
   },
   {
    "duration": 29,
    "start_time": "2024-04-08T19:01:47.587Z"
   },
   {
    "duration": 9,
    "start_time": "2024-04-08T19:01:48.032Z"
   },
   {
    "duration": 14,
    "start_time": "2024-04-08T19:01:48.230Z"
   },
   {
    "duration": 12,
    "start_time": "2024-04-08T19:01:49.315Z"
   },
   {
    "duration": 49,
    "start_time": "2024-04-08T19:02:05.961Z"
   },
   {
    "duration": 8,
    "start_time": "2024-04-08T19:02:13.365Z"
   },
   {
    "duration": 41,
    "start_time": "2024-04-08T19:02:17.703Z"
   },
   {
    "duration": 9,
    "start_time": "2024-04-08T19:02:20.965Z"
   },
   {
    "duration": 19,
    "start_time": "2024-04-08T19:02:21.935Z"
   },
   {
    "duration": 24,
    "start_time": "2024-04-08T19:02:24.749Z"
   },
   {
    "duration": 32,
    "start_time": "2024-04-08T19:02:54.669Z"
   },
   {
    "duration": 10,
    "start_time": "2024-04-08T19:02:55.042Z"
   },
   {
    "duration": 19,
    "start_time": "2024-04-08T19:02:55.304Z"
   },
   {
    "duration": 8,
    "start_time": "2024-04-08T19:02:57.601Z"
   },
   {
    "duration": 7,
    "start_time": "2024-04-08T19:02:59.407Z"
   },
   {
    "duration": 17,
    "start_time": "2024-04-08T19:03:00.226Z"
   },
   {
    "duration": 46,
    "start_time": "2024-04-09T14:26:48.337Z"
   },
   {
    "duration": 827,
    "start_time": "2024-04-09T14:26:52.582Z"
   },
   {
    "duration": 89,
    "start_time": "2024-04-09T14:26:53.411Z"
   },
   {
    "duration": 15,
    "start_time": "2024-04-09T14:26:53.502Z"
   },
   {
    "duration": 90,
    "start_time": "2024-04-09T14:26:53.519Z"
   },
   {
    "duration": 8,
    "start_time": "2024-04-09T14:26:53.611Z"
   },
   {
    "duration": 69,
    "start_time": "2024-04-09T14:26:53.620Z"
   },
   {
    "duration": 7,
    "start_time": "2024-04-09T14:26:53.691Z"
   },
   {
    "duration": 14,
    "start_time": "2024-04-09T14:26:53.700Z"
   },
   {
    "duration": 7,
    "start_time": "2024-04-09T14:26:53.715Z"
   },
   {
    "duration": 6,
    "start_time": "2024-04-09T14:26:53.723Z"
   },
   {
    "duration": 7,
    "start_time": "2024-04-09T14:26:53.730Z"
   },
   {
    "duration": 8,
    "start_time": "2024-04-09T14:26:53.738Z"
   },
   {
    "duration": 3,
    "start_time": "2024-04-09T14:26:53.747Z"
   },
   {
    "duration": 13,
    "start_time": "2024-04-09T14:26:53.753Z"
   },
   {
    "duration": 57,
    "start_time": "2024-04-09T14:26:53.767Z"
   },
   {
    "duration": 201,
    "start_time": "2024-04-09T14:26:53.826Z"
   },
   {
    "duration": 16,
    "start_time": "2024-04-09T14:26:54.028Z"
   },
   {
    "duration": 12,
    "start_time": "2024-04-09T14:26:54.045Z"
   },
   {
    "duration": 182,
    "start_time": "2024-04-09T14:26:54.059Z"
   },
   {
    "duration": 145,
    "start_time": "2024-04-09T14:26:54.243Z"
   },
   {
    "duration": 283,
    "start_time": "2024-04-09T14:26:54.390Z"
   },
   {
    "duration": 304,
    "start_time": "2024-04-09T14:26:54.675Z"
   },
   {
    "duration": 181,
    "start_time": "2024-04-09T14:26:54.981Z"
   },
   {
    "duration": 15,
    "start_time": "2024-04-09T14:26:55.164Z"
   },
   {
    "duration": 35,
    "start_time": "2024-04-09T14:26:55.181Z"
   },
   {
    "duration": 8,
    "start_time": "2024-04-09T14:26:55.217Z"
   },
   {
    "duration": 6,
    "start_time": "2024-04-09T14:26:55.227Z"
   },
   {
    "duration": 20,
    "start_time": "2024-04-09T14:26:55.234Z"
   },
   {
    "duration": 26,
    "start_time": "2024-04-09T14:26:55.256Z"
   },
   {
    "duration": 283,
    "start_time": "2024-04-09T14:26:55.285Z"
   },
   {
    "duration": 276,
    "start_time": "2024-04-09T14:26:55.569Z"
   },
   {
    "duration": 33,
    "start_time": "2024-04-09T14:26:55.847Z"
   },
   {
    "duration": 9,
    "start_time": "2024-04-09T14:26:55.882Z"
   },
   {
    "duration": 34,
    "start_time": "2024-04-09T14:26:55.893Z"
   },
   {
    "duration": 12,
    "start_time": "2024-04-09T14:26:55.929Z"
   },
   {
    "duration": 11,
    "start_time": "2024-04-09T14:26:55.943Z"
   },
   {
    "duration": 18,
    "start_time": "2024-04-09T14:26:55.955Z"
   },
   {
    "duration": 102,
    "start_time": "2024-04-09T14:26:55.975Z"
   },
   {
    "duration": 493,
    "start_time": "2024-04-09T14:27:44.695Z"
   },
   {
    "duration": 34,
    "start_time": "2024-04-09T14:27:49.462Z"
   },
   {
    "duration": 18,
    "start_time": "2024-04-09T14:28:13.471Z"
   },
   {
    "duration": 6,
    "start_time": "2024-04-09T14:28:33.503Z"
   },
   {
    "duration": 5,
    "start_time": "2024-04-09T14:33:23.727Z"
   },
   {
    "duration": 9,
    "start_time": "2024-04-09T14:39:24.023Z"
   },
   {
    "duration": 1074,
    "start_time": "2024-04-09T14:40:02.854Z"
   },
   {
    "duration": 1071,
    "start_time": "2024-04-09T14:41:27.499Z"
   },
   {
    "duration": 1022,
    "start_time": "2024-04-09T14:41:36.918Z"
   },
   {
    "duration": 27,
    "start_time": "2024-04-09T14:42:36.738Z"
   },
   {
    "duration": 982,
    "start_time": "2024-04-09T14:42:43.631Z"
   },
   {
    "duration": 11,
    "start_time": "2024-04-09T14:43:21.442Z"
   },
   {
    "duration": 1011,
    "start_time": "2024-04-09T14:44:12.012Z"
   },
   {
    "duration": 1109,
    "start_time": "2024-04-09T14:44:29.785Z"
   },
   {
    "duration": 24,
    "start_time": "2024-04-09T14:44:55.121Z"
   },
   {
    "duration": 1052,
    "start_time": "2024-04-09T14:45:13.772Z"
   },
   {
    "duration": 1020,
    "start_time": "2024-04-09T14:45:55.879Z"
   },
   {
    "duration": 19,
    "start_time": "2024-04-09T14:46:24.826Z"
   },
   {
    "duration": 6,
    "start_time": "2024-04-09T14:47:51.570Z"
   },
   {
    "duration": 4,
    "start_time": "2024-04-09T15:49:40.320Z"
   },
   {
    "duration": 1452,
    "start_time": "2024-04-09T16:31:58.700Z"
   },
   {
    "duration": 9,
    "start_time": "2024-04-09T16:33:51.639Z"
   },
   {
    "duration": 3,
    "start_time": "2024-04-09T16:40:38.439Z"
   },
   {
    "duration": 11,
    "start_time": "2024-04-09T16:40:45.773Z"
   },
   {
    "duration": 12,
    "start_time": "2024-04-09T16:41:25.628Z"
   },
   {
    "duration": 4,
    "start_time": "2024-04-09T16:41:33.550Z"
   },
   {
    "duration": 1637,
    "start_time": "2024-04-09T16:41:39.462Z"
   },
   {
    "duration": 5,
    "start_time": "2024-04-09T16:41:41.787Z"
   },
   {
    "duration": 13,
    "start_time": "2024-04-09T16:44:01.823Z"
   },
   {
    "duration": 10,
    "start_time": "2024-04-09T16:44:23.234Z"
   },
   {
    "duration": 9,
    "start_time": "2024-04-09T16:44:30.679Z"
   },
   {
    "duration": 3,
    "start_time": "2024-04-09T16:44:51.443Z"
   },
   {
    "duration": 10,
    "start_time": "2024-04-09T16:44:58.227Z"
   },
   {
    "duration": 4,
    "start_time": "2024-04-09T16:46:15.491Z"
   },
   {
    "duration": 4,
    "start_time": "2024-04-09T16:46:21.800Z"
   },
   {
    "duration": 3,
    "start_time": "2024-04-09T16:46:59.115Z"
   },
   {
    "duration": 142,
    "start_time": "2024-04-09T16:47:15.189Z"
   },
   {
    "duration": 4,
    "start_time": "2024-04-09T16:47:23.183Z"
   },
   {
    "duration": 24,
    "start_time": "2024-04-09T16:53:44.896Z"
   },
   {
    "duration": 51,
    "start_time": "2024-04-09T16:54:29.528Z"
   },
   {
    "duration": 55,
    "start_time": "2024-04-09T16:54:41.319Z"
   },
   {
    "duration": 92,
    "start_time": "2024-04-09T16:54:52.977Z"
   },
   {
    "duration": 48,
    "start_time": "2024-04-09T16:54:57.291Z"
   },
   {
    "duration": 9,
    "start_time": "2024-04-09T16:55:11.827Z"
   },
   {
    "duration": 8,
    "start_time": "2024-04-09T17:07:40.571Z"
   },
   {
    "duration": 11,
    "start_time": "2024-04-09T17:09:02.310Z"
   },
   {
    "duration": 10,
    "start_time": "2024-04-09T17:09:06.658Z"
   },
   {
    "duration": 5,
    "start_time": "2024-04-09T17:10:11.582Z"
   },
   {
    "duration": 54,
    "start_time": "2024-04-09T17:30:29.975Z"
   },
   {
    "duration": 1024,
    "start_time": "2024-04-09T17:30:40.895Z"
   },
   {
    "duration": 1008,
    "start_time": "2024-04-09T17:30:45.670Z"
   },
   {
    "duration": 88,
    "start_time": "2024-04-09T17:30:46.680Z"
   },
   {
    "duration": 12,
    "start_time": "2024-04-09T17:30:46.770Z"
   },
   {
    "duration": 44,
    "start_time": "2024-04-09T17:30:46.784Z"
   },
   {
    "duration": 10,
    "start_time": "2024-04-09T17:30:46.829Z"
   },
   {
    "duration": 38,
    "start_time": "2024-04-09T17:30:46.841Z"
   },
   {
    "duration": 7,
    "start_time": "2024-04-09T17:30:46.881Z"
   },
   {
    "duration": 7,
    "start_time": "2024-04-09T17:30:46.889Z"
   },
   {
    "duration": 5,
    "start_time": "2024-04-09T17:30:46.897Z"
   },
   {
    "duration": 5,
    "start_time": "2024-04-09T17:30:46.905Z"
   },
   {
    "duration": 8,
    "start_time": "2024-04-09T17:30:46.915Z"
   },
   {
    "duration": 8,
    "start_time": "2024-04-09T17:30:46.925Z"
   },
   {
    "duration": 8,
    "start_time": "2024-04-09T17:30:46.935Z"
   },
   {
    "duration": 18,
    "start_time": "2024-04-09T17:30:46.945Z"
   },
   {
    "duration": 51,
    "start_time": "2024-04-09T17:30:46.964Z"
   },
   {
    "duration": 18,
    "start_time": "2024-04-09T17:30:47.017Z"
   },
   {
    "duration": 5,
    "start_time": "2024-04-09T17:30:47.037Z"
   },
   {
    "duration": 58,
    "start_time": "2024-04-09T17:30:47.043Z"
   },
   {
    "duration": 0,
    "start_time": "2024-04-09T17:30:47.103Z"
   },
   {
    "duration": 0,
    "start_time": "2024-04-09T17:30:47.104Z"
   },
   {
    "duration": 0,
    "start_time": "2024-04-09T17:30:47.105Z"
   },
   {
    "duration": 0,
    "start_time": "2024-04-09T17:30:47.106Z"
   },
   {
    "duration": 0,
    "start_time": "2024-04-09T17:30:47.107Z"
   },
   {
    "duration": 0,
    "start_time": "2024-04-09T17:30:47.108Z"
   },
   {
    "duration": 0,
    "start_time": "2024-04-09T17:30:47.109Z"
   },
   {
    "duration": 0,
    "start_time": "2024-04-09T17:30:47.110Z"
   },
   {
    "duration": 0,
    "start_time": "2024-04-09T17:30:47.111Z"
   },
   {
    "duration": 0,
    "start_time": "2024-04-09T17:30:47.113Z"
   },
   {
    "duration": 0,
    "start_time": "2024-04-09T17:30:47.114Z"
   },
   {
    "duration": 0,
    "start_time": "2024-04-09T17:30:47.115Z"
   },
   {
    "duration": 0,
    "start_time": "2024-04-09T17:30:47.116Z"
   },
   {
    "duration": 0,
    "start_time": "2024-04-09T17:30:47.117Z"
   },
   {
    "duration": 0,
    "start_time": "2024-04-09T17:30:47.118Z"
   },
   {
    "duration": 0,
    "start_time": "2024-04-09T17:30:47.119Z"
   },
   {
    "duration": 0,
    "start_time": "2024-04-09T17:30:47.120Z"
   },
   {
    "duration": 0,
    "start_time": "2024-04-09T17:30:47.121Z"
   },
   {
    "duration": 0,
    "start_time": "2024-04-09T17:30:47.122Z"
   },
   {
    "duration": 0,
    "start_time": "2024-04-09T17:30:47.123Z"
   },
   {
    "duration": 0,
    "start_time": "2024-04-09T17:30:47.124Z"
   },
   {
    "duration": 0,
    "start_time": "2024-04-09T17:30:47.125Z"
   },
   {
    "duration": 157,
    "start_time": "2024-04-09T17:30:59.469Z"
   },
   {
    "duration": 126,
    "start_time": "2024-04-09T17:30:59.901Z"
   },
   {
    "duration": 260,
    "start_time": "2024-04-09T17:31:00.570Z"
   },
   {
    "duration": 192,
    "start_time": "2024-04-09T17:31:01.086Z"
   },
   {
    "duration": 176,
    "start_time": "2024-04-09T17:31:01.418Z"
   },
   {
    "duration": 15,
    "start_time": "2024-04-09T17:31:02.123Z"
   },
   {
    "duration": 19,
    "start_time": "2024-04-09T17:31:02.336Z"
   },
   {
    "duration": 11,
    "start_time": "2024-04-09T17:31:03.000Z"
   },
   {
    "duration": 6,
    "start_time": "2024-04-09T17:31:03.679Z"
   },
   {
    "duration": 18,
    "start_time": "2024-04-09T17:31:03.964Z"
   },
   {
    "duration": 28,
    "start_time": "2024-04-09T17:31:04.249Z"
   },
   {
    "duration": 239,
    "start_time": "2024-04-09T17:31:29.641Z"
   },
   {
    "duration": 356,
    "start_time": "2024-04-09T17:31:31.219Z"
   },
   {
    "duration": 32,
    "start_time": "2024-04-09T17:31:39.769Z"
   },
   {
    "duration": 35,
    "start_time": "2024-04-09T17:32:19.806Z"
   },
   {
    "duration": 1024,
    "start_time": "2024-04-09T17:32:23.375Z"
   },
   {
    "duration": 87,
    "start_time": "2024-04-09T17:32:24.401Z"
   },
   {
    "duration": 12,
    "start_time": "2024-04-09T17:32:24.489Z"
   },
   {
    "duration": 37,
    "start_time": "2024-04-09T17:32:24.502Z"
   },
   {
    "duration": 8,
    "start_time": "2024-04-09T17:32:24.541Z"
   },
   {
    "duration": 24,
    "start_time": "2024-04-09T17:32:24.550Z"
   },
   {
    "duration": 6,
    "start_time": "2024-04-09T17:32:24.576Z"
   },
   {
    "duration": 7,
    "start_time": "2024-04-09T17:32:24.584Z"
   },
   {
    "duration": 5,
    "start_time": "2024-04-09T17:32:24.592Z"
   },
   {
    "duration": 19,
    "start_time": "2024-04-09T17:32:24.598Z"
   },
   {
    "duration": 7,
    "start_time": "2024-04-09T17:32:24.619Z"
   },
   {
    "duration": 7,
    "start_time": "2024-04-09T17:32:24.628Z"
   },
   {
    "duration": 3,
    "start_time": "2024-04-09T17:32:24.637Z"
   },
   {
    "duration": 18,
    "start_time": "2024-04-09T17:32:24.643Z"
   },
   {
    "duration": 20,
    "start_time": "2024-04-09T17:32:24.662Z"
   },
   {
    "duration": 16,
    "start_time": "2024-04-09T17:32:24.714Z"
   },
   {
    "duration": 28,
    "start_time": "2024-04-09T17:32:24.731Z"
   },
   {
    "duration": 179,
    "start_time": "2024-04-09T17:32:24.761Z"
   },
   {
    "duration": 140,
    "start_time": "2024-04-09T17:32:24.942Z"
   },
   {
    "duration": 296,
    "start_time": "2024-04-09T17:32:25.084Z"
   },
   {
    "duration": 197,
    "start_time": "2024-04-09T17:32:25.381Z"
   },
   {
    "duration": 199,
    "start_time": "2024-04-09T17:32:25.580Z"
   },
   {
    "duration": 16,
    "start_time": "2024-04-09T17:32:25.781Z"
   },
   {
    "duration": 33,
    "start_time": "2024-04-09T17:32:25.799Z"
   },
   {
    "duration": 11,
    "start_time": "2024-04-09T17:32:25.834Z"
   },
   {
    "duration": 7,
    "start_time": "2024-04-09T17:32:25.847Z"
   },
   {
    "duration": 20,
    "start_time": "2024-04-09T17:32:25.856Z"
   },
   {
    "duration": 47,
    "start_time": "2024-04-09T17:32:25.877Z"
   },
   {
    "duration": 257,
    "start_time": "2024-04-09T17:32:25.926Z"
   },
   {
    "duration": 332,
    "start_time": "2024-04-09T17:32:26.184Z"
   },
   {
    "duration": 39,
    "start_time": "2024-04-09T17:32:26.518Z"
   },
   {
    "duration": 9,
    "start_time": "2024-04-09T17:32:26.559Z"
   },
   {
    "duration": 9,
    "start_time": "2024-04-09T17:32:26.570Z"
   },
   {
    "duration": 35,
    "start_time": "2024-04-09T17:32:26.580Z"
   },
   {
    "duration": 22,
    "start_time": "2024-04-09T17:32:26.617Z"
   },
   {
    "duration": 107,
    "start_time": "2024-04-09T17:32:26.640Z"
   },
   {
    "duration": 0,
    "start_time": "2024-04-09T17:32:26.748Z"
   },
   {
    "duration": 0,
    "start_time": "2024-04-09T17:32:26.749Z"
   },
   {
    "duration": 0,
    "start_time": "2024-04-09T17:32:26.750Z"
   },
   {
    "duration": 11,
    "start_time": "2024-04-09T17:34:27.205Z"
   },
   {
    "duration": 47,
    "start_time": "2024-04-09T17:34:47.041Z"
   },
   {
    "duration": 3,
    "start_time": "2024-04-09T17:34:55.441Z"
   },
   {
    "duration": 1023,
    "start_time": "2024-04-09T17:35:01.263Z"
   },
   {
    "duration": 86,
    "start_time": "2024-04-09T17:35:02.288Z"
   },
   {
    "duration": 11,
    "start_time": "2024-04-09T17:35:02.375Z"
   },
   {
    "duration": 44,
    "start_time": "2024-04-09T17:35:02.388Z"
   },
   {
    "duration": 8,
    "start_time": "2024-04-09T17:35:02.434Z"
   },
   {
    "duration": 44,
    "start_time": "2024-04-09T17:35:02.444Z"
   },
   {
    "duration": 7,
    "start_time": "2024-04-09T17:35:02.489Z"
   },
   {
    "duration": 38,
    "start_time": "2024-04-09T17:35:02.498Z"
   },
   {
    "duration": 10,
    "start_time": "2024-04-09T17:35:02.538Z"
   },
   {
    "duration": 27,
    "start_time": "2024-04-09T17:35:02.551Z"
   },
   {
    "duration": 17,
    "start_time": "2024-04-09T17:35:02.579Z"
   },
   {
    "duration": 24,
    "start_time": "2024-04-09T17:35:02.597Z"
   },
   {
    "duration": 4,
    "start_time": "2024-04-09T17:35:02.623Z"
   },
   {
    "duration": 16,
    "start_time": "2024-04-09T17:35:02.629Z"
   },
   {
    "duration": 22,
    "start_time": "2024-04-09T17:35:02.647Z"
   },
   {
    "duration": 45,
    "start_time": "2024-04-09T17:35:02.671Z"
   },
   {
    "duration": 6,
    "start_time": "2024-04-09T17:35:02.718Z"
   },
   {
    "duration": 189,
    "start_time": "2024-04-09T17:35:02.726Z"
   },
   {
    "duration": 149,
    "start_time": "2024-04-09T17:35:02.917Z"
   },
   {
    "duration": 270,
    "start_time": "2024-04-09T17:35:03.068Z"
   },
   {
    "duration": 207,
    "start_time": "2024-04-09T17:35:03.339Z"
   },
   {
    "duration": 183,
    "start_time": "2024-04-09T17:35:03.547Z"
   },
   {
    "duration": 15,
    "start_time": "2024-04-09T17:35:03.731Z"
   },
   {
    "duration": 18,
    "start_time": "2024-04-09T17:35:03.748Z"
   },
   {
    "duration": 7,
    "start_time": "2024-04-09T17:35:03.768Z"
   },
   {
    "duration": 6,
    "start_time": "2024-04-09T17:35:03.776Z"
   },
   {
    "duration": 47,
    "start_time": "2024-04-09T17:35:03.784Z"
   },
   {
    "duration": 16,
    "start_time": "2024-04-09T17:35:03.834Z"
   },
   {
    "duration": 282,
    "start_time": "2024-04-09T17:35:03.851Z"
   },
   {
    "duration": 341,
    "start_time": "2024-04-09T17:35:04.134Z"
   },
   {
    "duration": 32,
    "start_time": "2024-04-09T17:35:04.476Z"
   },
   {
    "duration": 9,
    "start_time": "2024-04-09T17:35:04.515Z"
   },
   {
    "duration": 7,
    "start_time": "2024-04-09T17:35:04.525Z"
   },
   {
    "duration": 7,
    "start_time": "2024-04-09T17:35:04.534Z"
   },
   {
    "duration": 17,
    "start_time": "2024-04-09T17:35:04.542Z"
   },
   {
    "duration": 5,
    "start_time": "2024-04-09T17:35:04.560Z"
   },
   {
    "duration": 9,
    "start_time": "2024-04-09T17:35:04.566Z"
   },
   {
    "duration": 46,
    "start_time": "2024-04-09T17:35:04.576Z"
   },
   {
    "duration": 5,
    "start_time": "2024-04-09T17:35:04.623Z"
   },
   {
    "duration": 5,
    "start_time": "2024-04-09T17:37:09.065Z"
   },
   {
    "duration": 91,
    "start_time": "2024-04-09T17:39:29.327Z"
   },
   {
    "duration": 5,
    "start_time": "2024-04-09T17:39:36.794Z"
   },
   {
    "duration": 15,
    "start_time": "2024-04-09T17:44:28.493Z"
   },
   {
    "duration": 6,
    "start_time": "2024-04-09T17:44:45.214Z"
   },
   {
    "duration": 5,
    "start_time": "2024-04-09T17:46:58.574Z"
   },
   {
    "duration": 5,
    "start_time": "2024-04-09T17:49:19.099Z"
   },
   {
    "duration": 5,
    "start_time": "2024-04-09T17:49:38.479Z"
   },
   {
    "duration": 5,
    "start_time": "2024-04-09T17:52:28.200Z"
   },
   {
    "duration": 6,
    "start_time": "2024-04-09T17:52:51.415Z"
   },
   {
    "duration": 4,
    "start_time": "2024-04-09T17:53:50.237Z"
   },
   {
    "duration": 5,
    "start_time": "2024-04-09T17:57:14.294Z"
   },
   {
    "duration": 5,
    "start_time": "2024-04-09T17:57:18.331Z"
   },
   {
    "duration": 6,
    "start_time": "2024-04-09T18:03:05.973Z"
   },
   {
    "duration": 13,
    "start_time": "2024-04-09T18:05:30.541Z"
   },
   {
    "duration": 5,
    "start_time": "2024-04-09T18:05:36.588Z"
   },
   {
    "duration": 1050,
    "start_time": "2024-04-09T18:16:13.291Z"
   },
   {
    "duration": 89,
    "start_time": "2024-04-09T18:16:14.344Z"
   },
   {
    "duration": 11,
    "start_time": "2024-04-09T18:16:14.435Z"
   },
   {
    "duration": 38,
    "start_time": "2024-04-09T18:16:14.448Z"
   },
   {
    "duration": 12,
    "start_time": "2024-04-09T18:16:14.488Z"
   },
   {
    "duration": 30,
    "start_time": "2024-04-09T18:16:14.502Z"
   },
   {
    "duration": 8,
    "start_time": "2024-04-09T18:16:14.534Z"
   },
   {
    "duration": 8,
    "start_time": "2024-04-09T18:16:14.544Z"
   },
   {
    "duration": 4,
    "start_time": "2024-04-09T18:16:14.554Z"
   },
   {
    "duration": 5,
    "start_time": "2024-04-09T18:16:14.561Z"
   },
   {
    "duration": 7,
    "start_time": "2024-04-09T18:16:14.568Z"
   },
   {
    "duration": 8,
    "start_time": "2024-04-09T18:16:14.576Z"
   },
   {
    "duration": 5,
    "start_time": "2024-04-09T18:16:14.614Z"
   },
   {
    "duration": 13,
    "start_time": "2024-04-09T18:16:14.620Z"
   },
   {
    "duration": 20,
    "start_time": "2024-04-09T18:16:14.634Z"
   },
   {
    "duration": 14,
    "start_time": "2024-04-09T18:16:14.656Z"
   },
   {
    "duration": 5,
    "start_time": "2024-04-09T18:16:14.672Z"
   },
   {
    "duration": 208,
    "start_time": "2024-04-09T18:16:14.678Z"
   },
   {
    "duration": 148,
    "start_time": "2024-04-09T18:16:14.888Z"
   },
   {
    "duration": 291,
    "start_time": "2024-04-09T18:16:15.038Z"
   },
   {
    "duration": 219,
    "start_time": "2024-04-09T18:16:15.331Z"
   },
   {
    "duration": 184,
    "start_time": "2024-04-09T18:16:15.552Z"
   },
   {
    "duration": 15,
    "start_time": "2024-04-09T18:16:15.738Z"
   },
   {
    "duration": 19,
    "start_time": "2024-04-09T18:16:15.755Z"
   },
   {
    "duration": 8,
    "start_time": "2024-04-09T18:16:15.776Z"
   },
   {
    "duration": 31,
    "start_time": "2024-04-09T18:16:15.785Z"
   },
   {
    "duration": 20,
    "start_time": "2024-04-09T18:16:15.818Z"
   },
   {
    "duration": 17,
    "start_time": "2024-04-09T18:16:15.841Z"
   },
   {
    "duration": 276,
    "start_time": "2024-04-09T18:16:15.860Z"
   },
   {
    "duration": 347,
    "start_time": "2024-04-09T18:16:16.138Z"
   },
   {
    "duration": 42,
    "start_time": "2024-04-09T18:16:16.486Z"
   },
   {
    "duration": 9,
    "start_time": "2024-04-09T18:16:16.530Z"
   },
   {
    "duration": 12,
    "start_time": "2024-04-09T18:16:16.540Z"
   },
   {
    "duration": 17,
    "start_time": "2024-04-09T18:16:16.553Z"
   },
   {
    "duration": 32,
    "start_time": "2024-04-09T18:16:16.572Z"
   },
   {
    "duration": 5,
    "start_time": "2024-04-09T18:16:16.606Z"
   },
   {
    "duration": 20,
    "start_time": "2024-04-09T18:16:16.612Z"
   },
   {
    "duration": 5,
    "start_time": "2024-04-09T18:16:16.633Z"
   },
   {
    "duration": 5,
    "start_time": "2024-04-09T18:16:16.639Z"
   },
   {
    "duration": 12,
    "start_time": "2024-04-09T18:16:16.646Z"
   },
   {
    "duration": 4,
    "start_time": "2024-04-09T18:16:16.659Z"
   },
   {
    "duration": 55,
    "start_time": "2024-04-09T18:18:07.162Z"
   },
   {
    "duration": 1029,
    "start_time": "2024-04-09T18:23:56.363Z"
   },
   {
    "duration": 87,
    "start_time": "2024-04-09T18:23:57.393Z"
   },
   {
    "duration": 11,
    "start_time": "2024-04-09T18:23:57.482Z"
   },
   {
    "duration": 51,
    "start_time": "2024-04-09T18:23:57.495Z"
   },
   {
    "duration": 9,
    "start_time": "2024-04-09T18:23:57.547Z"
   },
   {
    "duration": 26,
    "start_time": "2024-04-09T18:23:57.557Z"
   },
   {
    "duration": 7,
    "start_time": "2024-04-09T18:23:57.585Z"
   },
   {
    "duration": 28,
    "start_time": "2024-04-09T18:23:57.593Z"
   },
   {
    "duration": 9,
    "start_time": "2024-04-09T18:23:57.624Z"
   },
   {
    "duration": 7,
    "start_time": "2024-04-09T18:23:57.636Z"
   },
   {
    "duration": 9,
    "start_time": "2024-04-09T18:23:57.644Z"
   },
   {
    "duration": 24,
    "start_time": "2024-04-09T18:23:57.655Z"
   },
   {
    "duration": 6,
    "start_time": "2024-04-09T18:23:57.681Z"
   },
   {
    "duration": 46,
    "start_time": "2024-04-09T18:23:57.689Z"
   },
   {
    "duration": 24,
    "start_time": "2024-04-09T18:23:57.737Z"
   },
   {
    "duration": 58,
    "start_time": "2024-04-09T18:23:57.763Z"
   },
   {
    "duration": 10,
    "start_time": "2024-04-09T18:23:57.822Z"
   },
   {
    "duration": 205,
    "start_time": "2024-04-09T18:23:57.837Z"
   },
   {
    "duration": 161,
    "start_time": "2024-04-09T18:23:58.044Z"
   },
   {
    "duration": 304,
    "start_time": "2024-04-09T18:23:58.206Z"
   },
   {
    "duration": 241,
    "start_time": "2024-04-09T18:23:58.512Z"
   },
   {
    "duration": 193,
    "start_time": "2024-04-09T18:23:58.754Z"
   },
   {
    "duration": 16,
    "start_time": "2024-04-09T18:23:58.948Z"
   },
   {
    "duration": 24,
    "start_time": "2024-04-09T18:23:58.965Z"
   },
   {
    "duration": 7,
    "start_time": "2024-04-09T18:23:58.990Z"
   },
   {
    "duration": 9,
    "start_time": "2024-04-09T18:23:59.017Z"
   },
   {
    "duration": 18,
    "start_time": "2024-04-09T18:23:59.032Z"
   },
   {
    "duration": 18,
    "start_time": "2024-04-09T18:23:59.053Z"
   },
   {
    "duration": 296,
    "start_time": "2024-04-09T18:23:59.073Z"
   },
   {
    "duration": 408,
    "start_time": "2024-04-09T18:23:59.371Z"
   },
   {
    "duration": 55,
    "start_time": "2024-04-09T18:23:59.781Z"
   },
   {
    "duration": 12,
    "start_time": "2024-04-09T18:23:59.838Z"
   },
   {
    "duration": 10,
    "start_time": "2024-04-09T18:23:59.852Z"
   },
   {
    "duration": 11,
    "start_time": "2024-04-09T18:23:59.863Z"
   },
   {
    "duration": 43,
    "start_time": "2024-04-09T18:23:59.876Z"
   },
   {
    "duration": 6,
    "start_time": "2024-04-09T18:23:59.922Z"
   },
   {
    "duration": 8,
    "start_time": "2024-04-09T18:23:59.930Z"
   },
   {
    "duration": 17,
    "start_time": "2024-04-09T18:23:59.940Z"
   },
   {
    "duration": 4,
    "start_time": "2024-04-09T18:23:59.959Z"
   },
   {
    "duration": 26,
    "start_time": "2024-04-09T18:23:59.965Z"
   },
   {
    "duration": 28,
    "start_time": "2024-04-09T18:23:59.993Z"
   },
   {
    "duration": 12,
    "start_time": "2024-04-09T18:33:34.840Z"
   },
   {
    "duration": 4,
    "start_time": "2024-04-10T17:08:00.063Z"
   },
   {
    "duration": 3,
    "start_time": "2024-04-10T17:08:59.083Z"
   },
   {
    "duration": 16,
    "start_time": "2024-04-10T17:09:52.039Z"
   },
   {
    "duration": 19,
    "start_time": "2024-04-10T17:09:53.370Z"
   },
   {
    "duration": 18,
    "start_time": "2024-04-10T17:10:15.969Z"
   },
   {
    "duration": 3,
    "start_time": "2024-04-10T17:11:19.918Z"
   },
   {
    "duration": 4,
    "start_time": "2024-04-10T17:11:31.033Z"
   },
   {
    "duration": 4,
    "start_time": "2024-04-10T17:11:31.514Z"
   },
   {
    "duration": 4,
    "start_time": "2024-04-10T17:11:39.799Z"
   },
   {
    "duration": 4,
    "start_time": "2024-04-10T17:11:50.373Z"
   },
   {
    "duration": 17,
    "start_time": "2024-04-10T17:12:32.252Z"
   },
   {
    "duration": 13,
    "start_time": "2024-04-10T17:12:39.089Z"
   },
   {
    "duration": 20,
    "start_time": "2024-04-10T17:12:57.814Z"
   },
   {
    "duration": 12,
    "start_time": "2024-04-10T17:13:04.439Z"
   },
   {
    "duration": 84,
    "start_time": "2024-04-10T17:13:11.016Z"
   },
   {
    "duration": 4,
    "start_time": "2024-04-10T17:14:41.190Z"
   },
   {
    "duration": 9,
    "start_time": "2024-04-10T17:34:29.605Z"
   },
   {
    "duration": 1004,
    "start_time": "2024-04-10T17:34:39.633Z"
   },
   {
    "duration": 88,
    "start_time": "2024-04-10T17:34:40.638Z"
   },
   {
    "duration": 13,
    "start_time": "2024-04-10T17:34:40.727Z"
   },
   {
    "duration": 39,
    "start_time": "2024-04-10T17:34:40.831Z"
   },
   {
    "duration": 9,
    "start_time": "2024-04-10T17:34:40.995Z"
   },
   {
    "duration": 22,
    "start_time": "2024-04-10T17:34:41.435Z"
   },
   {
    "duration": 7,
    "start_time": "2024-04-10T17:34:41.586Z"
   },
   {
    "duration": 6,
    "start_time": "2024-04-10T17:34:43.947Z"
   },
   {
    "duration": 5,
    "start_time": "2024-04-10T17:34:44.590Z"
   },
   {
    "duration": 8,
    "start_time": "2024-04-10T17:34:45.013Z"
   },
   {
    "duration": 9,
    "start_time": "2024-04-10T17:34:45.523Z"
   },
   {
    "duration": 11,
    "start_time": "2024-04-10T17:34:45.699Z"
   },
   {
    "duration": 4,
    "start_time": "2024-04-10T17:34:46.371Z"
   },
   {
    "duration": 15,
    "start_time": "2024-04-10T17:34:46.867Z"
   },
   {
    "duration": 21,
    "start_time": "2024-04-10T17:34:47.575Z"
   },
   {
    "duration": 16,
    "start_time": "2024-04-10T17:34:48.478Z"
   },
   {
    "duration": 19,
    "start_time": "2024-04-10T17:35:06.268Z"
   },
   {
    "duration": 15,
    "start_time": "2024-04-10T17:35:14.349Z"
   },
   {
    "duration": 14,
    "start_time": "2024-04-10T17:35:18.392Z"
   },
   {
    "duration": 15,
    "start_time": "2024-04-10T17:35:21.898Z"
   },
   {
    "duration": 17,
    "start_time": "2024-04-10T17:35:24.534Z"
   },
   {
    "duration": 13,
    "start_time": "2024-04-10T17:35:30.371Z"
   },
   {
    "duration": 8,
    "start_time": "2024-04-10T17:36:17.912Z"
   },
   {
    "duration": 1132,
    "start_time": "2024-04-10T17:36:29.129Z"
   },
   {
    "duration": 96,
    "start_time": "2024-04-10T17:36:30.262Z"
   },
   {
    "duration": 11,
    "start_time": "2024-04-10T17:36:30.360Z"
   },
   {
    "duration": 71,
    "start_time": "2024-04-10T17:36:30.372Z"
   },
   {
    "duration": 10,
    "start_time": "2024-04-10T17:36:30.445Z"
   },
   {
    "duration": 26,
    "start_time": "2024-04-10T17:36:30.899Z"
   },
   {
    "duration": 7,
    "start_time": "2024-04-10T17:36:31.058Z"
   },
   {
    "duration": 9,
    "start_time": "2024-04-10T17:36:32.010Z"
   },
   {
    "duration": 5,
    "start_time": "2024-04-10T17:36:32.707Z"
   },
   {
    "duration": 6,
    "start_time": "2024-04-10T17:36:33.070Z"
   },
   {
    "duration": 11,
    "start_time": "2024-04-10T17:36:33.438Z"
   },
   {
    "duration": 9,
    "start_time": "2024-04-10T17:36:33.651Z"
   },
   {
    "duration": 4,
    "start_time": "2024-04-10T17:36:34.687Z"
   },
   {
    "duration": 19,
    "start_time": "2024-04-10T17:36:35.657Z"
   },
   {
    "duration": 25,
    "start_time": "2024-04-10T17:36:36.391Z"
   },
   {
    "duration": 10,
    "start_time": "2024-04-10T17:36:37.862Z"
   },
   {
    "duration": 10,
    "start_time": "2024-04-10T17:36:45.635Z"
   },
   {
    "duration": 9,
    "start_time": "2024-04-10T17:36:48.464Z"
   },
   {
    "duration": 14,
    "start_time": "2024-04-10T17:36:52.056Z"
   },
   {
    "duration": 14,
    "start_time": "2024-04-10T17:36:57.318Z"
   },
   {
    "duration": 10,
    "start_time": "2024-04-10T17:37:00.014Z"
   },
   {
    "duration": 13,
    "start_time": "2024-04-10T17:37:07.755Z"
   },
   {
    "duration": 15,
    "start_time": "2024-04-10T17:38:11.840Z"
   },
   {
    "duration": 15,
    "start_time": "2024-04-10T17:38:18.163Z"
   },
   {
    "duration": 16,
    "start_time": "2024-04-10T17:38:22.303Z"
   },
   {
    "duration": 20,
    "start_time": "2024-04-10T17:38:33.507Z"
   },
   {
    "duration": 15,
    "start_time": "2024-04-10T17:38:55.841Z"
   },
   {
    "duration": 3,
    "start_time": "2024-04-10T17:44:16.060Z"
   },
   {
    "duration": 12,
    "start_time": "2024-04-10T17:44:21.398Z"
   },
   {
    "duration": 4,
    "start_time": "2024-04-10T17:45:14.296Z"
   },
   {
    "duration": 12,
    "start_time": "2024-04-10T17:45:23.266Z"
   },
   {
    "duration": 4,
    "start_time": "2024-04-10T17:47:04.093Z"
   },
   {
    "duration": 5,
    "start_time": "2024-04-10T17:47:09.501Z"
   },
   {
    "duration": 8,
    "start_time": "2024-04-10T17:47:15.826Z"
   },
   {
    "duration": 5,
    "start_time": "2024-04-10T17:47:51.360Z"
   },
   {
    "duration": 4,
    "start_time": "2024-04-10T17:48:05.481Z"
   },
   {
    "duration": 5,
    "start_time": "2024-04-10T17:48:05.997Z"
   },
   {
    "duration": 5,
    "start_time": "2024-04-10T17:48:35.486Z"
   },
   {
    "duration": 4,
    "start_time": "2024-04-10T17:48:35.876Z"
   },
   {
    "duration": 62,
    "start_time": "2024-04-10T17:50:37.875Z"
   },
   {
    "duration": 108,
    "start_time": "2024-04-10T17:52:24.463Z"
   },
   {
    "duration": 1069,
    "start_time": "2024-04-10T17:52:43.148Z"
   },
   {
    "duration": 87,
    "start_time": "2024-04-10T17:52:44.219Z"
   },
   {
    "duration": 16,
    "start_time": "2024-04-10T17:52:44.307Z"
   },
   {
    "duration": 36,
    "start_time": "2024-04-10T17:52:44.327Z"
   },
   {
    "duration": 9,
    "start_time": "2024-04-10T17:52:44.364Z"
   },
   {
    "duration": 22,
    "start_time": "2024-04-10T17:52:44.375Z"
   },
   {
    "duration": 7,
    "start_time": "2024-04-10T17:52:44.398Z"
   },
   {
    "duration": 17,
    "start_time": "2024-04-10T17:52:44.406Z"
   },
   {
    "duration": 5,
    "start_time": "2024-04-10T17:52:44.425Z"
   },
   {
    "duration": 6,
    "start_time": "2024-04-10T17:52:44.433Z"
   },
   {
    "duration": 8,
    "start_time": "2024-04-10T17:52:44.441Z"
   },
   {
    "duration": 4,
    "start_time": "2024-04-10T17:52:44.450Z"
   },
   {
    "duration": 4,
    "start_time": "2024-04-10T17:52:44.455Z"
   },
   {
    "duration": 11,
    "start_time": "2024-04-10T17:52:44.460Z"
   },
   {
    "duration": 9,
    "start_time": "2024-04-10T17:52:44.473Z"
   },
   {
    "duration": 14,
    "start_time": "2024-04-10T17:52:44.515Z"
   },
   {
    "duration": 6,
    "start_time": "2024-04-10T17:52:44.531Z"
   },
   {
    "duration": 26,
    "start_time": "2024-04-10T17:52:44.538Z"
   },
   {
    "duration": 20,
    "start_time": "2024-04-10T17:52:44.566Z"
   },
   {
    "duration": 51,
    "start_time": "2024-04-10T17:52:44.588Z"
   },
   {
    "duration": 193,
    "start_time": "2024-04-10T17:52:44.641Z"
   },
   {
    "duration": 127,
    "start_time": "2024-04-10T17:52:44.836Z"
   },
   {
    "duration": 0,
    "start_time": "2024-04-10T17:52:44.965Z"
   },
   {
    "duration": 0,
    "start_time": "2024-04-10T17:52:44.966Z"
   },
   {
    "duration": 0,
    "start_time": "2024-04-10T17:52:44.967Z"
   },
   {
    "duration": 0,
    "start_time": "2024-04-10T17:52:44.968Z"
   },
   {
    "duration": 0,
    "start_time": "2024-04-10T17:52:44.969Z"
   },
   {
    "duration": 0,
    "start_time": "2024-04-10T17:52:44.970Z"
   },
   {
    "duration": 0,
    "start_time": "2024-04-10T17:52:44.972Z"
   },
   {
    "duration": 0,
    "start_time": "2024-04-10T17:52:44.973Z"
   },
   {
    "duration": 0,
    "start_time": "2024-04-10T17:52:44.974Z"
   },
   {
    "duration": 0,
    "start_time": "2024-04-10T17:52:44.975Z"
   },
   {
    "duration": 0,
    "start_time": "2024-04-10T17:52:44.976Z"
   },
   {
    "duration": 0,
    "start_time": "2024-04-10T17:52:44.977Z"
   },
   {
    "duration": 0,
    "start_time": "2024-04-10T17:52:44.978Z"
   },
   {
    "duration": 0,
    "start_time": "2024-04-10T17:52:44.979Z"
   },
   {
    "duration": 0,
    "start_time": "2024-04-10T17:52:44.980Z"
   },
   {
    "duration": 0,
    "start_time": "2024-04-10T17:52:44.981Z"
   },
   {
    "duration": 0,
    "start_time": "2024-04-10T17:52:44.982Z"
   },
   {
    "duration": 0,
    "start_time": "2024-04-10T17:52:44.983Z"
   },
   {
    "duration": 0,
    "start_time": "2024-04-10T17:52:44.984Z"
   },
   {
    "duration": 0,
    "start_time": "2024-04-10T17:52:45.016Z"
   },
   {
    "duration": 0,
    "start_time": "2024-04-10T17:52:45.018Z"
   },
   {
    "duration": 0,
    "start_time": "2024-04-10T17:52:45.020Z"
   },
   {
    "duration": 0,
    "start_time": "2024-04-10T17:52:45.021Z"
   },
   {
    "duration": 0,
    "start_time": "2024-04-10T17:52:45.023Z"
   },
   {
    "duration": 0,
    "start_time": "2024-04-10T17:52:45.025Z"
   },
   {
    "duration": 115,
    "start_time": "2024-04-10T17:53:17.661Z"
   },
   {
    "duration": 142,
    "start_time": "2024-04-10T17:53:47.235Z"
   },
   {
    "duration": 144,
    "start_time": "2024-04-10T17:54:05.903Z"
   },
   {
    "duration": 142,
    "start_time": "2024-04-10T17:56:14.639Z"
   },
   {
    "duration": 49,
    "start_time": "2024-04-10T17:57:15.327Z"
   },
   {
    "duration": 9,
    "start_time": "2024-04-10T17:57:34.980Z"
   },
   {
    "duration": 1055,
    "start_time": "2024-04-10T17:57:38.211Z"
   },
   {
    "duration": 91,
    "start_time": "2024-04-10T17:57:39.268Z"
   },
   {
    "duration": 12,
    "start_time": "2024-04-10T17:57:39.361Z"
   },
   {
    "duration": 36,
    "start_time": "2024-04-10T17:57:39.376Z"
   },
   {
    "duration": 9,
    "start_time": "2024-04-10T17:57:39.414Z"
   },
   {
    "duration": 23,
    "start_time": "2024-04-10T17:57:39.426Z"
   },
   {
    "duration": 8,
    "start_time": "2024-04-10T17:57:39.451Z"
   },
   {
    "duration": 8,
    "start_time": "2024-04-10T17:57:39.460Z"
   },
   {
    "duration": 9,
    "start_time": "2024-04-10T17:57:39.470Z"
   },
   {
    "duration": 8,
    "start_time": "2024-04-10T17:57:39.482Z"
   },
   {
    "duration": 5,
    "start_time": "2024-04-10T17:57:39.491Z"
   },
   {
    "duration": 34,
    "start_time": "2024-04-10T17:57:39.498Z"
   },
   {
    "duration": 4,
    "start_time": "2024-04-10T17:57:39.534Z"
   },
   {
    "duration": 11,
    "start_time": "2024-04-10T17:57:39.539Z"
   },
   {
    "duration": 7,
    "start_time": "2024-04-10T17:57:39.552Z"
   },
   {
    "duration": 7,
    "start_time": "2024-04-10T17:57:39.560Z"
   },
   {
    "duration": 4,
    "start_time": "2024-04-10T17:57:39.568Z"
   },
   {
    "duration": 17,
    "start_time": "2024-04-10T17:57:39.574Z"
   },
   {
    "duration": 49,
    "start_time": "2024-04-10T17:57:39.592Z"
   },
   {
    "duration": 16,
    "start_time": "2024-04-10T17:57:39.643Z"
   },
   {
    "duration": 194,
    "start_time": "2024-04-10T17:57:39.660Z"
   },
   {
    "duration": 141,
    "start_time": "2024-04-10T17:57:39.856Z"
   },
   {
    "duration": 62,
    "start_time": "2024-04-10T17:57:39.999Z"
   },
   {
    "duration": 0,
    "start_time": "2024-04-10T17:57:40.063Z"
   },
   {
    "duration": 0,
    "start_time": "2024-04-10T17:57:40.064Z"
   },
   {
    "duration": 0,
    "start_time": "2024-04-10T17:57:40.065Z"
   },
   {
    "duration": 0,
    "start_time": "2024-04-10T17:57:40.066Z"
   },
   {
    "duration": 0,
    "start_time": "2024-04-10T17:57:40.067Z"
   },
   {
    "duration": 0,
    "start_time": "2024-04-10T17:57:40.069Z"
   },
   {
    "duration": 0,
    "start_time": "2024-04-10T17:57:40.070Z"
   },
   {
    "duration": 0,
    "start_time": "2024-04-10T17:57:40.071Z"
   },
   {
    "duration": 0,
    "start_time": "2024-04-10T17:57:40.072Z"
   },
   {
    "duration": 0,
    "start_time": "2024-04-10T17:57:40.073Z"
   },
   {
    "duration": 0,
    "start_time": "2024-04-10T17:57:40.074Z"
   },
   {
    "duration": 0,
    "start_time": "2024-04-10T17:57:40.075Z"
   },
   {
    "duration": 0,
    "start_time": "2024-04-10T17:57:40.076Z"
   },
   {
    "duration": 0,
    "start_time": "2024-04-10T17:57:40.077Z"
   },
   {
    "duration": 0,
    "start_time": "2024-04-10T17:57:40.078Z"
   },
   {
    "duration": 0,
    "start_time": "2024-04-10T17:57:40.079Z"
   },
   {
    "duration": 0,
    "start_time": "2024-04-10T17:57:40.080Z"
   },
   {
    "duration": 0,
    "start_time": "2024-04-10T17:57:40.081Z"
   },
   {
    "duration": 0,
    "start_time": "2024-04-10T17:57:40.082Z"
   },
   {
    "duration": 0,
    "start_time": "2024-04-10T17:57:40.083Z"
   },
   {
    "duration": 0,
    "start_time": "2024-04-10T17:57:40.084Z"
   },
   {
    "duration": 0,
    "start_time": "2024-04-10T17:57:40.085Z"
   },
   {
    "duration": 0,
    "start_time": "2024-04-10T17:57:40.086Z"
   },
   {
    "duration": 0,
    "start_time": "2024-04-10T17:57:40.087Z"
   },
   {
    "duration": 0,
    "start_time": "2024-04-10T17:57:40.088Z"
   },
   {
    "duration": 289,
    "start_time": "2024-04-10T17:57:50.134Z"
   },
   {
    "duration": 229,
    "start_time": "2024-04-10T17:57:54.980Z"
   },
   {
    "duration": 186,
    "start_time": "2024-04-10T17:57:56.999Z"
   },
   {
    "duration": 0,
    "start_time": "2024-04-10T17:58:31.176Z"
   },
   {
    "duration": 153,
    "start_time": "2024-04-10T17:58:36.398Z"
   },
   {
    "duration": 159,
    "start_time": "2024-04-10T17:59:05.005Z"
   },
   {
    "duration": 193,
    "start_time": "2024-04-10T17:59:12.934Z"
   },
   {
    "duration": 311,
    "start_time": "2024-04-10T17:59:15.532Z"
   },
   {
    "duration": 209,
    "start_time": "2024-04-10T17:59:20.547Z"
   },
   {
    "duration": 237,
    "start_time": "2024-04-10T17:59:25.211Z"
   },
   {
    "duration": 183,
    "start_time": "2024-04-10T17:59:46.185Z"
   },
   {
    "duration": 20,
    "start_time": "2024-04-10T18:02:35.827Z"
   },
   {
    "duration": 18,
    "start_time": "2024-04-10T18:02:40.273Z"
   },
   {
    "duration": 139,
    "start_time": "2024-04-10T18:02:48.984Z"
   },
   {
    "duration": 142,
    "start_time": "2024-04-10T18:06:06.414Z"
   },
   {
    "duration": 149,
    "start_time": "2024-04-10T18:06:16.030Z"
   },
   {
    "duration": 153,
    "start_time": "2024-04-10T18:06:33.240Z"
   },
   {
    "duration": 150,
    "start_time": "2024-04-10T18:06:44.526Z"
   },
   {
    "duration": 155,
    "start_time": "2024-04-10T18:07:03.475Z"
   },
   {
    "duration": 148,
    "start_time": "2024-04-10T18:07:18.479Z"
   },
   {
    "duration": 152,
    "start_time": "2024-04-10T18:08:48.983Z"
   },
   {
    "duration": 153,
    "start_time": "2024-04-10T18:09:07.130Z"
   },
   {
    "duration": 159,
    "start_time": "2024-04-10T18:09:09.539Z"
   },
   {
    "duration": 147,
    "start_time": "2024-04-10T18:09:22.102Z"
   },
   {
    "duration": 160,
    "start_time": "2024-04-10T18:10:56.628Z"
   },
   {
    "duration": 145,
    "start_time": "2024-04-10T18:11:04.650Z"
   },
   {
    "duration": 146,
    "start_time": "2024-04-10T18:11:13.642Z"
   },
   {
    "duration": 55,
    "start_time": "2024-04-10T18:12:20.428Z"
   },
   {
    "duration": 152,
    "start_time": "2024-04-10T18:12:35.442Z"
   },
   {
    "duration": 143,
    "start_time": "2024-04-10T18:13:44.028Z"
   },
   {
    "duration": 167,
    "start_time": "2024-04-10T18:14:09.231Z"
   },
   {
    "duration": 150,
    "start_time": "2024-04-10T18:14:27.079Z"
   },
   {
    "duration": 112,
    "start_time": "2024-04-10T18:14:45.842Z"
   },
   {
    "duration": 151,
    "start_time": "2024-04-10T18:14:55.433Z"
   },
   {
    "duration": 52,
    "start_time": "2024-04-10T18:16:34.477Z"
   },
   {
    "duration": 161,
    "start_time": "2024-04-10T18:16:44.148Z"
   },
   {
    "duration": 164,
    "start_time": "2024-04-10T18:17:06.549Z"
   },
   {
    "duration": 159,
    "start_time": "2024-04-10T18:17:20.005Z"
   },
   {
    "duration": 54,
    "start_time": "2024-04-10T18:19:48.360Z"
   },
   {
    "duration": 48,
    "start_time": "2024-04-10T18:19:53.090Z"
   },
   {
    "duration": 111,
    "start_time": "2024-04-10T18:19:58.067Z"
   },
   {
    "duration": 19,
    "start_time": "2024-04-10T18:20:06.436Z"
   },
   {
    "duration": 160,
    "start_time": "2024-04-10T18:20:20.042Z"
   },
   {
    "duration": 192,
    "start_time": "2024-04-10T18:23:07.010Z"
   },
   {
    "duration": 148,
    "start_time": "2024-04-10T18:23:25.043Z"
   },
   {
    "duration": 167,
    "start_time": "2024-04-10T18:23:35.972Z"
   },
   {
    "duration": 166,
    "start_time": "2024-04-10T18:23:41.339Z"
   },
   {
    "duration": 168,
    "start_time": "2024-04-10T18:24:31.482Z"
   },
   {
    "duration": 165,
    "start_time": "2024-04-10T18:27:31.127Z"
   },
   {
    "duration": 171,
    "start_time": "2024-04-10T18:27:51.410Z"
   },
   {
    "duration": 172,
    "start_time": "2024-04-10T18:29:52.089Z"
   },
   {
    "duration": 16,
    "start_time": "2024-04-10T18:30:49.026Z"
   },
   {
    "duration": 15,
    "start_time": "2024-04-10T18:31:01.085Z"
   },
   {
    "duration": 58,
    "start_time": "2024-04-10T18:31:10.115Z"
   },
   {
    "duration": 15,
    "start_time": "2024-04-10T18:31:13.253Z"
   },
   {
    "duration": 14,
    "start_time": "2024-04-10T18:31:32.537Z"
   },
   {
    "duration": 13,
    "start_time": "2024-04-10T18:31:41.333Z"
   },
   {
    "duration": 1088,
    "start_time": "2024-04-10T18:32:01.136Z"
   },
   {
    "duration": 6,
    "start_time": "2024-04-10T18:32:11.659Z"
   },
   {
    "duration": 124,
    "start_time": "2024-04-10T18:32:19.253Z"
   },
   {
    "duration": 2348,
    "start_time": "2024-04-10T18:32:42.777Z"
   },
   {
    "duration": 2839,
    "start_time": "2024-04-10T18:32:53.998Z"
   },
   {
    "duration": 151,
    "start_time": "2024-04-10T18:33:09.768Z"
   },
   {
    "duration": 173,
    "start_time": "2024-04-10T18:33:53.251Z"
   },
   {
    "duration": 170,
    "start_time": "2024-04-10T18:36:03.967Z"
   },
   {
    "duration": 3,
    "start_time": "2024-04-10T18:36:05.854Z"
   },
   {
    "duration": 157,
    "start_time": "2024-04-10T18:36:17.137Z"
   },
   {
    "duration": 4,
    "start_time": "2024-04-10T18:36:18.991Z"
   },
   {
    "duration": 153,
    "start_time": "2024-04-10T18:36:26.583Z"
   },
   {
    "duration": 181,
    "start_time": "2024-04-10T18:36:42.807Z"
   },
   {
    "duration": 163,
    "start_time": "2024-04-10T18:36:50.362Z"
   },
   {
    "duration": 160,
    "start_time": "2024-04-10T18:37:03.312Z"
   },
   {
    "duration": 172,
    "start_time": "2024-04-10T18:37:11.540Z"
   },
   {
    "duration": 386,
    "start_time": "2024-04-10T18:37:20.053Z"
   },
   {
    "duration": 157,
    "start_time": "2024-04-10T18:37:28.395Z"
   },
   {
    "duration": 14,
    "start_time": "2024-04-10T18:39:12.751Z"
   },
   {
    "duration": 132,
    "start_time": "2024-04-10T18:55:42.490Z"
   },
   {
    "duration": 131,
    "start_time": "2024-04-10T18:56:02.754Z"
   },
   {
    "duration": 119,
    "start_time": "2024-04-10T18:56:09.471Z"
   },
   {
    "duration": 57,
    "start_time": "2024-04-10T18:56:36.610Z"
   },
   {
    "duration": 134,
    "start_time": "2024-04-10T18:56:40.221Z"
   },
   {
    "duration": 9,
    "start_time": "2024-04-10T18:57:40.207Z"
   },
   {
    "duration": 7,
    "start_time": "2024-04-10T18:58:02.343Z"
   },
   {
    "duration": 9,
    "start_time": "2024-04-10T18:58:13.726Z"
   },
   {
    "duration": 2107,
    "start_time": "2024-04-10T18:58:19.988Z"
   },
   {
    "duration": 319,
    "start_time": "2024-04-10T18:58:59.513Z"
   },
   {
    "duration": 158,
    "start_time": "2024-04-10T18:59:20.064Z"
   },
   {
    "duration": 176,
    "start_time": "2024-04-10T18:59:33.319Z"
   },
   {
    "duration": 2169,
    "start_time": "2024-04-10T19:00:49.277Z"
   },
   {
    "duration": 2336,
    "start_time": "2024-04-10T19:01:02.914Z"
   },
   {
    "duration": 2378,
    "start_time": "2024-04-10T19:01:36.932Z"
   },
   {
    "duration": 149,
    "start_time": "2024-04-10T19:02:13.111Z"
   },
   {
    "duration": 7,
    "start_time": "2024-04-10T19:02:24.783Z"
   },
   {
    "duration": 10,
    "start_time": "2024-04-10T19:02:43.940Z"
   },
   {
    "duration": 184,
    "start_time": "2024-04-10T19:02:57.557Z"
   },
   {
    "duration": 8,
    "start_time": "2024-04-10T19:03:16.795Z"
   },
   {
    "duration": 8,
    "start_time": "2024-04-10T19:03:29.643Z"
   },
   {
    "duration": 8,
    "start_time": "2024-04-10T19:03:39.521Z"
   },
   {
    "duration": 8,
    "start_time": "2024-04-10T19:03:53.989Z"
   },
   {
    "duration": 8,
    "start_time": "2024-04-10T19:06:27.941Z"
   },
   {
    "duration": 8,
    "start_time": "2024-04-10T19:06:33.914Z"
   },
   {
    "duration": 9,
    "start_time": "2024-04-10T19:07:19.883Z"
   },
   {
    "duration": 2439,
    "start_time": "2024-04-10T19:07:26.139Z"
   },
   {
    "duration": 3,
    "start_time": "2024-04-10T19:07:50.027Z"
   },
   {
    "duration": 161,
    "start_time": "2024-04-10T19:08:28.808Z"
   },
   {
    "duration": 154,
    "start_time": "2024-04-10T19:12:06.966Z"
   },
   {
    "duration": 1215,
    "start_time": "2024-04-10T19:12:29.392Z"
   },
   {
    "duration": 187,
    "start_time": "2024-04-10T19:12:52.943Z"
   },
   {
    "duration": 188,
    "start_time": "2024-04-10T19:12:58.673Z"
   },
   {
    "duration": 190,
    "start_time": "2024-04-10T19:13:02.806Z"
   },
   {
    "duration": 180,
    "start_time": "2024-04-10T19:13:05.948Z"
   },
   {
    "duration": 182,
    "start_time": "2024-04-10T19:13:10.811Z"
   },
   {
    "duration": 185,
    "start_time": "2024-04-10T19:20:11.132Z"
   },
   {
    "duration": 179,
    "start_time": "2024-04-10T19:20:15.440Z"
   },
   {
    "duration": 180,
    "start_time": "2024-04-10T19:20:27.964Z"
   },
   {
    "duration": 47,
    "start_time": "2024-04-10T19:20:54.874Z"
   },
   {
    "duration": 12,
    "start_time": "2024-04-10T19:20:57.244Z"
   },
   {
    "duration": 158,
    "start_time": "2024-04-10T19:22:44.168Z"
   },
   {
    "duration": 9,
    "start_time": "2024-04-10T19:23:37.723Z"
   },
   {
    "duration": 8,
    "start_time": "2024-04-10T19:23:39.743Z"
   },
   {
    "duration": 168,
    "start_time": "2024-04-10T19:23:40.311Z"
   },
   {
    "duration": 158,
    "start_time": "2024-04-10T19:23:46.199Z"
   },
   {
    "duration": 22145,
    "start_time": "2024-04-10T19:24:04.119Z"
   },
   {
    "duration": 22514,
    "start_time": "2024-04-10T19:24:28.143Z"
   },
   {
    "duration": 8,
    "start_time": "2024-04-10T19:25:25.057Z"
   },
   {
    "duration": 9,
    "start_time": "2024-04-10T19:25:33.112Z"
   },
   {
    "duration": 19930,
    "start_time": "2024-04-10T19:25:38.747Z"
   },
   {
    "duration": 0,
    "start_time": "2024-04-10T19:26:30.968Z"
   },
   {
    "duration": 4,
    "start_time": "2024-04-10T19:26:33.189Z"
   },
   {
    "duration": 7,
    "start_time": "2024-04-10T19:26:39.270Z"
   },
   {
    "duration": 6,
    "start_time": "2024-04-10T19:26:53.441Z"
   },
   {
    "duration": 8,
    "start_time": "2024-04-10T19:27:21.927Z"
   },
   {
    "duration": 12,
    "start_time": "2024-04-10T19:27:26.097Z"
   },
   {
    "duration": 1181,
    "start_time": "2024-04-10T19:28:04.426Z"
   },
   {
    "duration": 997,
    "start_time": "2024-04-10T19:31:13.722Z"
   },
   {
    "duration": 154,
    "start_time": "2024-04-10T19:31:18.168Z"
   },
   {
    "duration": 1031,
    "start_time": "2024-04-10T19:31:47.444Z"
   },
   {
    "duration": 15,
    "start_time": "2024-04-10T19:31:56.626Z"
   },
   {
    "duration": 6272,
    "start_time": "2024-04-10T19:32:15.984Z"
   },
   {
    "duration": 19,
    "start_time": "2024-04-10T19:32:27.841Z"
   },
   {
    "duration": 23,
    "start_time": "2024-04-10T19:32:34.176Z"
   },
   {
    "duration": 22570,
    "start_time": "2024-04-10T19:32:41.535Z"
   },
   {
    "duration": 995,
    "start_time": "2024-04-10T19:33:31.090Z"
   },
   {
    "duration": 8,
    "start_time": "2024-04-10T19:33:34.399Z"
   },
   {
    "duration": 12,
    "start_time": "2024-04-10T19:33:47.012Z"
   },
   {
    "duration": 1003,
    "start_time": "2024-04-10T19:33:47.722Z"
   },
   {
    "duration": 187,
    "start_time": "2024-04-10T19:34:09.811Z"
   },
   {
    "duration": 161,
    "start_time": "2024-04-10T19:34:14.943Z"
   },
   {
    "duration": 164,
    "start_time": "2024-04-10T19:34:19.557Z"
   },
   {
    "duration": 995,
    "start_time": "2024-04-10T19:34:49.812Z"
   },
   {
    "duration": 154,
    "start_time": "2024-04-10T19:35:17.668Z"
   },
   {
    "duration": 162,
    "start_time": "2024-04-10T19:35:21.086Z"
   },
   {
    "duration": 13,
    "start_time": "2024-04-10T19:35:35.607Z"
   },
   {
    "duration": 11,
    "start_time": "2024-04-10T19:35:40.292Z"
   },
   {
    "duration": 1039,
    "start_time": "2024-04-10T19:36:12.769Z"
   },
   {
    "duration": 94,
    "start_time": "2024-04-10T19:36:13.810Z"
   },
   {
    "duration": 14,
    "start_time": "2024-04-10T19:36:13.906Z"
   },
   {
    "duration": 38,
    "start_time": "2024-04-10T19:36:13.922Z"
   },
   {
    "duration": 9,
    "start_time": "2024-04-10T19:36:13.962Z"
   },
   {
    "duration": 28,
    "start_time": "2024-04-10T19:36:13.973Z"
   },
   {
    "duration": 6,
    "start_time": "2024-04-10T19:36:14.003Z"
   },
   {
    "duration": 6,
    "start_time": "2024-04-10T19:36:14.011Z"
   },
   {
    "duration": 13,
    "start_time": "2024-04-10T19:36:14.019Z"
   },
   {
    "duration": 4,
    "start_time": "2024-04-10T19:36:14.034Z"
   },
   {
    "duration": 5,
    "start_time": "2024-04-10T19:36:14.040Z"
   },
   {
    "duration": 3,
    "start_time": "2024-04-10T19:36:14.047Z"
   },
   {
    "duration": 4,
    "start_time": "2024-04-10T19:36:14.051Z"
   },
   {
    "duration": 5,
    "start_time": "2024-04-10T19:36:14.056Z"
   },
   {
    "duration": 7,
    "start_time": "2024-04-10T19:36:14.063Z"
   },
   {
    "duration": 8,
    "start_time": "2024-04-10T19:36:14.071Z"
   },
   {
    "duration": 37,
    "start_time": "2024-04-10T19:36:14.080Z"
   },
   {
    "duration": 13,
    "start_time": "2024-04-10T19:36:14.118Z"
   },
   {
    "duration": 20,
    "start_time": "2024-04-10T19:36:14.133Z"
   },
   {
    "duration": 17,
    "start_time": "2024-04-10T19:36:14.154Z"
   },
   {
    "duration": 12,
    "start_time": "2024-04-10T19:36:14.172Z"
   },
   {
    "duration": 177,
    "start_time": "2024-04-10T19:36:14.214Z"
   },
   {
    "duration": 147,
    "start_time": "2024-04-10T19:36:14.393Z"
   },
   {
    "duration": 265,
    "start_time": "2024-04-10T19:36:14.542Z"
   },
   {
    "duration": 214,
    "start_time": "2024-04-10T19:36:14.808Z"
   },
   {
    "duration": 201,
    "start_time": "2024-04-10T19:36:15.023Z"
   },
   {
    "duration": 3,
    "start_time": "2024-04-10T19:36:15.225Z"
   },
   {
    "duration": 47,
    "start_time": "2024-04-10T19:36:15.233Z"
   },
   {
    "duration": 55,
    "start_time": "2024-04-10T19:36:15.283Z"
   },
   {
    "duration": 10,
    "start_time": "2024-04-10T19:36:15.340Z"
   },
   {
    "duration": 12,
    "start_time": "2024-04-10T19:36:15.352Z"
   },
   {
    "duration": 22,
    "start_time": "2024-04-10T19:36:15.366Z"
   },
   {
    "duration": 8,
    "start_time": "2024-04-10T19:36:15.390Z"
   },
   {
    "duration": 20,
    "start_time": "2024-04-10T19:36:15.399Z"
   },
   {
    "duration": 57,
    "start_time": "2024-04-10T19:36:15.421Z"
   },
   {
    "duration": 267,
    "start_time": "2024-04-10T19:36:15.480Z"
   },
   {
    "duration": 348,
    "start_time": "2024-04-10T19:36:15.748Z"
   },
   {
    "duration": 42,
    "start_time": "2024-04-10T19:36:16.097Z"
   },
   {
    "duration": 15,
    "start_time": "2024-04-10T19:36:16.141Z"
   },
   {
    "duration": 14,
    "start_time": "2024-04-10T19:36:16.157Z"
   },
   {
    "duration": 7,
    "start_time": "2024-04-10T19:36:16.172Z"
   },
   {
    "duration": 17,
    "start_time": "2024-04-10T19:36:16.180Z"
   },
   {
    "duration": 20,
    "start_time": "2024-04-10T19:36:16.198Z"
   },
   {
    "duration": 5,
    "start_time": "2024-04-10T19:36:16.219Z"
   },
   {
    "duration": 5,
    "start_time": "2024-04-10T19:36:16.226Z"
   },
   {
    "duration": 6,
    "start_time": "2024-04-10T19:36:16.232Z"
   },
   {
    "duration": 13,
    "start_time": "2024-04-10T19:36:16.240Z"
   },
   {
    "duration": 4,
    "start_time": "2024-04-10T19:36:16.255Z"
   },
   {
    "duration": 160,
    "start_time": "2024-04-10T19:37:04.661Z"
   },
   {
    "duration": 1032,
    "start_time": "2024-04-10T19:37:24.722Z"
   },
   {
    "duration": 88,
    "start_time": "2024-04-10T19:37:25.756Z"
   },
   {
    "duration": 11,
    "start_time": "2024-04-10T19:37:25.845Z"
   },
   {
    "duration": 35,
    "start_time": "2024-04-10T19:37:25.858Z"
   },
   {
    "duration": 9,
    "start_time": "2024-04-10T19:37:25.895Z"
   },
   {
    "duration": 20,
    "start_time": "2024-04-10T19:37:25.906Z"
   },
   {
    "duration": 6,
    "start_time": "2024-04-10T19:37:25.928Z"
   },
   {
    "duration": 6,
    "start_time": "2024-04-10T19:37:25.936Z"
   },
   {
    "duration": 4,
    "start_time": "2024-04-10T19:37:25.943Z"
   },
   {
    "duration": 4,
    "start_time": "2024-04-10T19:37:25.949Z"
   },
   {
    "duration": 4,
    "start_time": "2024-04-10T19:37:25.955Z"
   },
   {
    "duration": 3,
    "start_time": "2024-04-10T19:37:25.960Z"
   },
   {
    "duration": 12,
    "start_time": "2024-04-10T19:37:25.965Z"
   },
   {
    "duration": 7,
    "start_time": "2024-04-10T19:37:25.979Z"
   },
   {
    "duration": 32,
    "start_time": "2024-04-10T19:37:25.988Z"
   },
   {
    "duration": 7,
    "start_time": "2024-04-10T19:37:26.022Z"
   },
   {
    "duration": 4,
    "start_time": "2024-04-10T19:37:26.030Z"
   },
   {
    "duration": 23,
    "start_time": "2024-04-10T19:37:26.035Z"
   },
   {
    "duration": 19,
    "start_time": "2024-04-10T19:37:26.060Z"
   },
   {
    "duration": 14,
    "start_time": "2024-04-10T19:37:26.080Z"
   },
   {
    "duration": 11,
    "start_time": "2024-04-10T19:37:26.115Z"
   },
   {
    "duration": 179,
    "start_time": "2024-04-10T19:37:26.128Z"
   },
   {
    "duration": 143,
    "start_time": "2024-04-10T19:37:26.308Z"
   },
   {
    "duration": 280,
    "start_time": "2024-04-10T19:37:26.452Z"
   },
   {
    "duration": 222,
    "start_time": "2024-04-10T19:37:26.733Z"
   },
   {
    "duration": 176,
    "start_time": "2024-04-10T19:37:26.957Z"
   },
   {
    "duration": 3,
    "start_time": "2024-04-10T19:37:27.135Z"
   },
   {
    "duration": 15,
    "start_time": "2024-04-10T19:37:27.141Z"
   },
   {
    "duration": 19,
    "start_time": "2024-04-10T19:37:27.157Z"
   },
   {
    "duration": 3,
    "start_time": "2024-04-10T19:37:27.178Z"
   },
   {
    "duration": 37,
    "start_time": "2024-04-10T19:37:27.182Z"
   },
   {
    "duration": 8,
    "start_time": "2024-04-10T19:37:27.220Z"
   },
   {
    "duration": 8,
    "start_time": "2024-04-10T19:37:27.229Z"
   },
   {
    "duration": 17,
    "start_time": "2024-04-10T19:37:27.239Z"
   },
   {
    "duration": 17,
    "start_time": "2024-04-10T19:37:27.257Z"
   },
   {
    "duration": 266,
    "start_time": "2024-04-10T19:37:27.275Z"
   },
   {
    "duration": 355,
    "start_time": "2024-04-10T19:37:27.543Z"
   },
   {
    "duration": 43,
    "start_time": "2024-04-10T19:37:27.899Z"
   },
   {
    "duration": 8,
    "start_time": "2024-04-10T19:37:27.944Z"
   },
   {
    "duration": 7,
    "start_time": "2024-04-10T19:37:27.954Z"
   },
   {
    "duration": 6,
    "start_time": "2024-04-10T19:37:27.963Z"
   },
   {
    "duration": 17,
    "start_time": "2024-04-10T19:37:27.971Z"
   },
   {
    "duration": 28,
    "start_time": "2024-04-10T19:37:27.989Z"
   },
   {
    "duration": 5,
    "start_time": "2024-04-10T19:37:28.018Z"
   },
   {
    "duration": 5,
    "start_time": "2024-04-10T19:37:28.024Z"
   },
   {
    "duration": 4,
    "start_time": "2024-04-10T19:37:28.030Z"
   },
   {
    "duration": 13,
    "start_time": "2024-04-10T19:37:28.035Z"
   },
   {
    "duration": 4,
    "start_time": "2024-04-10T19:37:28.049Z"
   },
   {
    "duration": 1040,
    "start_time": "2024-04-10T19:38:58.680Z"
   },
   {
    "duration": 89,
    "start_time": "2024-04-10T19:38:59.722Z"
   },
   {
    "duration": 13,
    "start_time": "2024-04-10T19:38:59.813Z"
   },
   {
    "duration": 37,
    "start_time": "2024-04-10T19:38:59.828Z"
   },
   {
    "duration": 8,
    "start_time": "2024-04-10T19:38:59.867Z"
   },
   {
    "duration": 24,
    "start_time": "2024-04-10T19:38:59.876Z"
   },
   {
    "duration": 6,
    "start_time": "2024-04-10T19:38:59.902Z"
   },
   {
    "duration": 14,
    "start_time": "2024-04-10T19:38:59.914Z"
   },
   {
    "duration": 4,
    "start_time": "2024-04-10T19:38:59.929Z"
   },
   {
    "duration": 3,
    "start_time": "2024-04-10T19:38:59.935Z"
   },
   {
    "duration": 6,
    "start_time": "2024-04-10T19:38:59.939Z"
   },
   {
    "duration": 4,
    "start_time": "2024-04-10T19:38:59.947Z"
   },
   {
    "duration": 4,
    "start_time": "2024-04-10T19:38:59.952Z"
   },
   {
    "duration": 6,
    "start_time": "2024-04-10T19:38:59.957Z"
   },
   {
    "duration": 7,
    "start_time": "2024-04-10T19:38:59.965Z"
   },
   {
    "duration": 8,
    "start_time": "2024-04-10T19:39:00.014Z"
   },
   {
    "duration": 29,
    "start_time": "2024-04-10T19:39:00.024Z"
   },
   {
    "duration": 31,
    "start_time": "2024-04-10T19:39:00.055Z"
   },
   {
    "duration": 44,
    "start_time": "2024-04-10T19:39:00.088Z"
   },
   {
    "duration": 43,
    "start_time": "2024-04-10T19:39:00.134Z"
   },
   {
    "duration": 47,
    "start_time": "2024-04-10T19:39:00.179Z"
   },
   {
    "duration": 212,
    "start_time": "2024-04-10T19:39:00.228Z"
   },
   {
    "duration": 143,
    "start_time": "2024-04-10T19:39:00.445Z"
   },
   {
    "duration": 307,
    "start_time": "2024-04-10T19:39:00.589Z"
   },
   {
    "duration": 211,
    "start_time": "2024-04-10T19:39:00.897Z"
   },
   {
    "duration": 183,
    "start_time": "2024-04-10T19:39:01.109Z"
   },
   {
    "duration": 4,
    "start_time": "2024-04-10T19:39:01.294Z"
   },
   {
    "duration": 63,
    "start_time": "2024-04-10T19:39:01.301Z"
   },
   {
    "duration": 39,
    "start_time": "2024-04-10T19:39:01.366Z"
   },
   {
    "duration": 22,
    "start_time": "2024-04-10T19:39:01.407Z"
   },
   {
    "duration": 45,
    "start_time": "2024-04-10T19:39:01.431Z"
   },
   {
    "duration": 33,
    "start_time": "2024-04-10T19:39:01.478Z"
   },
   {
    "duration": 64,
    "start_time": "2024-04-10T19:39:01.513Z"
   },
   {
    "duration": 38,
    "start_time": "2024-04-10T19:39:01.579Z"
   },
   {
    "duration": 37,
    "start_time": "2024-04-10T19:39:01.618Z"
   },
   {
    "duration": 282,
    "start_time": "2024-04-10T19:39:01.657Z"
   },
   {
    "duration": 342,
    "start_time": "2024-04-10T19:39:01.941Z"
   },
   {
    "duration": 37,
    "start_time": "2024-04-10T19:39:02.285Z"
   },
   {
    "duration": 8,
    "start_time": "2024-04-10T19:39:02.324Z"
   },
   {
    "duration": 14,
    "start_time": "2024-04-10T19:39:02.333Z"
   },
   {
    "duration": 17,
    "start_time": "2024-04-10T19:39:02.348Z"
   },
   {
    "duration": 68,
    "start_time": "2024-04-10T19:39:02.367Z"
   },
   {
    "duration": 16,
    "start_time": "2024-04-10T19:39:02.438Z"
   },
   {
    "duration": 56,
    "start_time": "2024-04-10T19:39:02.455Z"
   },
   {
    "duration": 47,
    "start_time": "2024-04-10T19:39:02.512Z"
   },
   {
    "duration": 12,
    "start_time": "2024-04-10T19:39:02.561Z"
   },
   {
    "duration": 16,
    "start_time": "2024-04-10T19:39:02.574Z"
   },
   {
    "duration": 5,
    "start_time": "2024-04-10T19:39:02.591Z"
   },
   {
    "duration": 1252,
    "start_time": "2024-04-10T20:44:30.364Z"
   },
   {
    "duration": 177,
    "start_time": "2024-04-10T20:44:31.618Z"
   },
   {
    "duration": 12,
    "start_time": "2024-04-10T20:44:31.797Z"
   },
   {
    "duration": 168,
    "start_time": "2024-04-10T20:44:31.811Z"
   },
   {
    "duration": 9,
    "start_time": "2024-04-10T20:44:31.981Z"
   },
   {
    "duration": 99,
    "start_time": "2024-04-10T20:44:31.992Z"
   },
   {
    "duration": 7,
    "start_time": "2024-04-10T20:44:32.093Z"
   },
   {
    "duration": 38,
    "start_time": "2024-04-10T20:44:32.101Z"
   },
   {
    "duration": 16,
    "start_time": "2024-04-10T20:44:32.140Z"
   },
   {
    "duration": 18,
    "start_time": "2024-04-10T20:44:32.159Z"
   },
   {
    "duration": 8,
    "start_time": "2024-04-10T20:44:32.178Z"
   },
   {
    "duration": 3,
    "start_time": "2024-04-10T20:44:32.188Z"
   },
   {
    "duration": 32,
    "start_time": "2024-04-10T20:44:32.193Z"
   },
   {
    "duration": 10,
    "start_time": "2024-04-10T20:44:32.226Z"
   },
   {
    "duration": 8,
    "start_time": "2024-04-10T20:44:32.237Z"
   },
   {
    "duration": 7,
    "start_time": "2024-04-10T20:44:32.246Z"
   },
   {
    "duration": 5,
    "start_time": "2024-04-10T20:44:32.254Z"
   },
   {
    "duration": 39,
    "start_time": "2024-04-10T20:44:32.260Z"
   },
   {
    "duration": 32,
    "start_time": "2024-04-10T20:44:32.300Z"
   },
   {
    "duration": 15,
    "start_time": "2024-04-10T20:44:32.333Z"
   },
   {
    "duration": 12,
    "start_time": "2024-04-10T20:44:32.350Z"
   },
   {
    "duration": 180,
    "start_time": "2024-04-10T20:44:32.363Z"
   },
   {
    "duration": 158,
    "start_time": "2024-04-10T20:44:32.545Z"
   },
   {
    "duration": 308,
    "start_time": "2024-04-10T20:44:32.705Z"
   },
   {
    "duration": 218,
    "start_time": "2024-04-10T20:44:33.015Z"
   },
   {
    "duration": 194,
    "start_time": "2024-04-10T20:44:33.234Z"
   },
   {
    "duration": 3,
    "start_time": "2024-04-10T20:44:33.430Z"
   },
   {
    "duration": 21,
    "start_time": "2024-04-10T20:44:33.436Z"
   },
   {
    "duration": 33,
    "start_time": "2024-04-10T20:44:33.458Z"
   },
   {
    "duration": 5,
    "start_time": "2024-04-10T20:44:33.492Z"
   },
   {
    "duration": 24,
    "start_time": "2024-04-10T20:44:33.498Z"
   },
   {
    "duration": 9,
    "start_time": "2024-04-10T20:44:33.523Z"
   },
   {
    "duration": 22,
    "start_time": "2024-04-10T20:44:33.533Z"
   },
   {
    "duration": 21,
    "start_time": "2024-04-10T20:44:33.557Z"
   },
   {
    "duration": 18,
    "start_time": "2024-04-10T20:44:33.580Z"
   },
   {
    "duration": 266,
    "start_time": "2024-04-10T20:44:33.600Z"
   },
   {
    "duration": 392,
    "start_time": "2024-04-10T20:44:33.872Z"
   },
   {
    "duration": 37,
    "start_time": "2024-04-10T20:44:34.266Z"
   },
   {
    "duration": 9,
    "start_time": "2024-04-10T20:44:34.305Z"
   },
   {
    "duration": 9,
    "start_time": "2024-04-10T20:44:34.315Z"
   },
   {
    "duration": 7,
    "start_time": "2024-04-10T20:44:34.325Z"
   },
   {
    "duration": 42,
    "start_time": "2024-04-10T20:44:34.333Z"
   },
   {
    "duration": 6,
    "start_time": "2024-04-10T20:44:34.377Z"
   },
   {
    "duration": 6,
    "start_time": "2024-04-10T20:44:34.384Z"
   },
   {
    "duration": 12,
    "start_time": "2024-04-10T20:44:34.391Z"
   },
   {
    "duration": 8,
    "start_time": "2024-04-10T20:44:34.404Z"
   },
   {
    "duration": 18,
    "start_time": "2024-04-10T20:44:34.414Z"
   },
   {
    "duration": 8,
    "start_time": "2024-04-10T20:44:34.434Z"
   }
  ],
  "kernelspec": {
   "display_name": "Python 3 (ipykernel)",
   "language": "python",
   "name": "python3"
  },
  "language_info": {
   "codemirror_mode": {
    "name": "ipython",
    "version": 3
   },
   "file_extension": ".py",
   "mimetype": "text/x-python",
   "name": "python",
   "nbconvert_exporter": "python",
   "pygments_lexer": "ipython3",
   "version": "3.9.5"
  },
  "toc": {
   "base_numbering": 1,
   "nav_menu": {},
   "number_sections": true,
   "sideBar": true,
   "skip_h1_title": true,
   "title_cell": "Table of Contents",
   "title_sidebar": "Contents",
   "toc_cell": false,
   "toc_position": {},
   "toc_section_display": true,
   "toc_window_display": false
  }
 },
 "nbformat": 4,
 "nbformat_minor": 5
}
